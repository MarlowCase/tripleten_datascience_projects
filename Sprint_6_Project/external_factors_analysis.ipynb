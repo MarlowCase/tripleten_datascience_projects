{
 "cells": [
  {
   "cell_type": "markdown",
   "metadata": {},
   "source": [
    "# Marlow Case - TripleTen DS Sprint 6 Project: \n",
    "# Analyzing the Impact of External Factors on Ride Sharing Services #"
   ]
  },
  {
   "cell_type": "markdown",
   "metadata": {},
   "source": [
    " # Table of Contents #\n",
    " <a id='contents'></a>\n",
    " \n",
    " - [1. Introduction](#introduction)\n",
    " - [2. Data Exploration](#data_explorations)\n",
    " - [3. Data Preprocessing](#processing)\n",
    " - [4. Exploratory Data Analysis (EDA)](#eda)\n",
    "     - [Top 10 Companies in Chicago](#top_10)\n",
    "     - [Top 10 Visited Neighborhoods in Chicago](#10_visits)\n",
    " - [5. Hypothesis Testing](#h_testing)\n",
    " - [6. Conclusion](#conclusion)"
   ]
  },
  {
   "cell_type": "markdown",
   "metadata": {
    "jp-MarkdownHeadingCollapsed": true
   },
   "source": [
    "## Introduction ##\n",
    "<a id='introduction'></a>\n",
    "________________________________________________________________________________________________________________________________\n",
    "\n",
    "This project aims to perform an analysis for a new ride-sharing company launching in Chicago. We are aimed to use available online information to form a database; then analysis will be conducted to understand passenger preferences and the impact of external factors, such as weather, on rides. \n",
    "\n",
    "### Purpose ###\n",
    "This project aims to answer specifically the following questions:\n",
    "- What are the top 10 neighborhoods in terms of drop-offs?\n",
    "- Does weather condition have an impact on ride-sharing service usage?\n",
    "\n",
    "One hypothesis has been provided to test the impact of weather: \"The average duration of rides from the Loop to O'Hare International Airport changes on rainy Saturdays.\""
   ]
  },
  {
   "cell_type": "code",
   "execution_count": 1,
   "metadata": {},
   "outputs": [],
   "source": [
    "# Import libraries\n",
    "import pandas as pd\n",
    "import numpy as np\n",
    "import matplotlib.pyplot as plt\n",
    "import seaborn as sns\n",
    "import scipy.stats as st"
   ]
  },
  {
   "cell_type": "markdown",
   "metadata": {
    "jp-MarkdownHeadingCollapsed": true
   },
   "source": [
    "## Data Exploration ##\n",
    "<a id='data_explorations'></a>\n",
    "________________________________________________________________________________________________________________________________\n",
    "\n",
    "We have constructed 2 csvs containing the online data:\n",
    "\n",
    "- CSV 1: \"/datasets/project_sql_result_01.csv\"\n",
    "- CSV 2: \"/datasets/project_sql_result_04.csv\"\n",
    "\n",
    "CSV 1 contains the following information:\n",
    "- `company_name`: taxi company name\n",
    "- `trips_amount`: the number of rides for each taxi company on November 15-16, 2017.\n",
    "\n",
    "CSV 2 contains the following information:\n",
    "- `dropoff_location_name`: Chicago neighborhoods where rides ended\n",
    "- `average_trips`: the average number of rides that ended in each neighborhood in November 2017\n",
    "\n",
    "We have consstructed another CSV that will be useful in our hypothesis testing:\n",
    "\n",
    "CSV 3: \"/datasets/project_sql_result_07.csv\"\n",
    "\n",
    "CSV 3 contains the following information:\n",
    "- `start_ts`: pickup date and time\n",
    "- `weather_conditions`: weather conditions at the moment the ride started\n",
    "- `duration_seconds`: ride duration in seconds\n",
    "\n",
    "Please see the SQL portion of the project for the formulation of these datasets. "
   ]
  },
  {
   "cell_type": "code",
   "execution_count": 2,
   "metadata": {},
   "outputs": [],
   "source": [
    "# Load the three datasets\n",
    "filepath = r\"C:\\Users\\marlo\\OneDrive\\Desktop\\Python_Work\\Tripleten_Lessons\\Sprint_6_Project\"\n",
    "\n",
    "try:\n",
    "    company_data = pd.read_csv(f\"{filepath}\\\\moved_project_sql_result_01.csv\")\n",
    "    dropoff_data = pd.read_csv(f\"{filepath}\\\\moved_project_sql_result_04.csv\")\n",
    "    trip_data = pd.read_csv(f\"{filepath}\\\\moved_project_sql_result_07.csv\")\n",
    "except:\n",
    "    company_data = pd.read_csv(\"/datasets/project_sql_result_01.csv\")\n",
    "    dropoff_data = pd.read_csv(\"/datasets/project_sql_result_04.csv\")\n",
    "    trip_data = pd.read_csv(\"/datasets/project_sql_result_07.csv\")\n",
    "\n",
    "company_data.name = 'Company Data'\n",
    "dropoff_data.name = 'Drop-off Data'\n",
    "trip_data.name = 'Trip Data'"
   ]
  },
  {
   "cell_type": "code",
   "execution_count": 3,
   "metadata": {},
   "outputs": [],
   "source": [
    "# Create function for EDA\n",
    "# Warning: If you use a df that's not listed in the cell above, you will need to create a name for it\n",
    "def EDA_DF(df):\n",
    "    print(f\"{df.name} Information:\\n\")\n",
    "    df.info()\n",
    "    print(\"\\n\")\n",
    "    \n",
    "    print(f\"{df.name} 5-Row Preview:\\n\")\n",
    "    print(df.head())\n",
    "    print(\"\\n\")\n",
    "    \n",
    "    print(f\"{df.name} Unique Value Analysis:\\n\")\n",
    "    for column in df.columns:\n",
    "        print(f\"Unique values in {column}: \\n\\n {df[column].unique()} \\n\")\n",
    "    print()\n",
    "    \n",
    "    print(f\"{df.name} Duplicate Check:\\n\")\n",
    "    print(f\"Number of duplicate rows: {df.duplicated().sum()}\")\n",
    "    print(\"\\n\")\n",
    "    \n",
    "    print(f\"{df.name} Numerical Data:\\n\")\n",
    "    print(df.describe())\n",
    "    "
   ]
  },
  {
   "cell_type": "code",
   "execution_count": 4,
   "metadata": {},
   "outputs": [
    {
     "name": "stdout",
     "output_type": "stream",
     "text": [
      "Company Data Information:\n",
      "\n",
      "<class 'pandas.core.frame.DataFrame'>\n",
      "RangeIndex: 64 entries, 0 to 63\n",
      "Data columns (total 2 columns):\n",
      " #   Column        Non-Null Count  Dtype \n",
      "---  ------        --------------  ----- \n",
      " 0   company_name  64 non-null     object\n",
      " 1   trips_amount  64 non-null     int64 \n",
      "dtypes: int64(1), object(1)\n",
      "memory usage: 1.1+ KB\n",
      "\n",
      "\n",
      "Company Data 5-Row Preview:\n",
      "\n",
      "                      company_name  trips_amount\n",
      "0                        Flash Cab         19558\n",
      "1        Taxi Affiliation Services         11422\n",
      "2                 Medallion Leasin         10367\n",
      "3                       Yellow Cab          9888\n",
      "4  Taxi Affiliation Service Yellow          9299\n",
      "\n",
      "\n",
      "Company Data Unique Value Analysis:\n",
      "\n",
      "Unique values in company_name: \n",
      "\n",
      " ['Flash Cab' 'Taxi Affiliation Services' 'Medallion Leasin' 'Yellow Cab'\n",
      " 'Taxi Affiliation Service Yellow' 'Chicago Carriage Cab Corp'\n",
      " 'City Service' 'Sun Taxi' 'Star North Management LLC'\n",
      " 'Blue Ribbon Taxi Association Inc.' 'Choice Taxi Association'\n",
      " 'Globe Taxi' 'Dispatch Taxi Affiliation' 'Nova Taxi Affiliation Llc'\n",
      " 'Patriot Taxi Dba Peace Taxi Associat' 'Checker Taxi Affiliation'\n",
      " 'Blue Diamond' 'Chicago Medallion Management' '24 Seven Taxi'\n",
      " 'Chicago Medallion Leasing INC' 'Checker Taxi' 'American United'\n",
      " 'Chicago Independents' 'KOAM Taxi Association' 'Chicago Taxicab'\n",
      " 'Top Cab Affiliation' 'Gold Coast Taxi' 'Service Taxi Association'\n",
      " '5 Star Taxi' '303 Taxi' 'Setare Inc' 'American United Taxi Affiliation'\n",
      " 'Leonard Cab Co' 'Metro Jet Taxi A' 'Norshore Cab'\n",
      " '6742 - 83735 Tasha ride inc' '3591 - 63480 Chuks Cab'\n",
      " '1469 - 64126 Omar Jada' '6743 - 78771 Luhak Corp'\n",
      " '0118 - 42111 Godfrey S.Awir' '6574 - Babylon Express Inc.'\n",
      " 'Chicago Star Taxicab' '1085 - 72312 N and W Cab Co'\n",
      " '2809 - 95474 C & D Cab Co Inc.' '2092 - 61288 Sbeih company'\n",
      " '3011 - 66308 JBL Cab Inc.' '3620 - 52292 David K. Cab Corp.'\n",
      " '4615 - 83503 Tyrone Henderson' '3623 - 72222 Arrington Enterprises'\n",
      " '5074 - 54002 Ahzmi Inc' '2823 - 73307 Lee Express Inc'\n",
      " '4623 - 27290 Jay Kim' '3721 - Santamaria Express, Alvaro Santamaria'\n",
      " '5006 - 39261 Salifu Bawa' '2192 - 73487 Zeymane Corp'\n",
      " '6057 - 24657 Richard Addo' '5997 - 65283 AW Services Inc.' 'Metro Group'\n",
      " '5062 - 34841 Sam Mestas' '4053 - 40193 Adwar H. Nikola'\n",
      " '2733 - 74600 Benny Jona' '5874 - 73628 Sergey Cab Corp.'\n",
      " '2241 - 44667 - Felman Corp, Manuel Alonso' '3556 - 36214 RC Andrews Cab'] \n",
      "\n",
      "Unique values in trips_amount: \n",
      "\n",
      " [19558 11422 10367  9888  9299  9181  8448  7701  7455  5953  5015  4383\n",
      "  3355  3175  2235  2216  2070  1955  1775  1607  1486  1404  1296  1259\n",
      "  1014   978   428   402   310   250   230   210   147   146   127    39\n",
      "    37    36    33    31    29    27    25    21    20    16    15    14\n",
      "    13    12    11     8     7     5     3     2] \n",
      "\n",
      "\n",
      "Company Data Duplicate Check:\n",
      "\n",
      "Number of duplicate rows: 0\n",
      "\n",
      "\n",
      "Company Data Numerical Data:\n",
      "\n",
      "       trips_amount\n",
      "count     64.000000\n",
      "mean    2145.484375\n",
      "std     3812.310186\n",
      "min        2.000000\n",
      "25%       20.750000\n",
      "50%      178.500000\n",
      "75%     2106.500000\n",
      "max    19558.000000\n"
     ]
    }
   ],
   "source": [
    "EDA_DF(company_data)"
   ]
  },
  {
   "cell_type": "markdown",
   "metadata": {},
   "source": [
    "**Notes:**\n",
    "- Data types look good and there are no missing values.\n",
    "- Data is neatly sorted.\n",
    "- There are no anomalous values."
   ]
  },
  {
   "cell_type": "code",
   "execution_count": 5,
   "metadata": {},
   "outputs": [
    {
     "name": "stdout",
     "output_type": "stream",
     "text": [
      "Drop-off Data Information:\n",
      "\n",
      "<class 'pandas.core.frame.DataFrame'>\n",
      "RangeIndex: 94 entries, 0 to 93\n",
      "Data columns (total 2 columns):\n",
      " #   Column                 Non-Null Count  Dtype  \n",
      "---  ------                 --------------  -----  \n",
      " 0   dropoff_location_name  94 non-null     object \n",
      " 1   average_trips          94 non-null     float64\n",
      "dtypes: float64(1), object(1)\n",
      "memory usage: 1.6+ KB\n",
      "\n",
      "\n",
      "Drop-off Data 5-Row Preview:\n",
      "\n",
      "  dropoff_location_name  average_trips\n",
      "0                  Loop   10727.466667\n",
      "1           River North    9523.666667\n",
      "2         Streeterville    6664.666667\n",
      "3             West Loop    5163.666667\n",
      "4                O'Hare    2546.900000\n",
      "\n",
      "\n",
      "Drop-off Data Unique Value Analysis:\n",
      "\n",
      "Unique values in dropoff_location_name: \n",
      "\n",
      " ['Loop' 'River North' 'Streeterville' 'West Loop' \"O'Hare\" 'Lake View'\n",
      " 'Grant Park' 'Museum Campus' 'Gold Coast' 'Sheffield & DePaul'\n",
      " 'Lincoln Park' 'East Village' 'Little Italy, UIC' 'Uptown'\n",
      " 'Near South Side' 'Garfield Ridge' 'Logan Square' 'Edgewater' 'West Town'\n",
      " 'Old Town' 'Rush & Division' 'North Center' 'Lincoln Square'\n",
      " 'Rogers Park' 'West Ridge' 'Irving Park' 'Hyde Park' 'Avondale'\n",
      " 'Wicker Park' 'Albany Park' 'United Center' 'Lower West Side' 'Douglas'\n",
      " 'Portage Park' 'Humboldt Park' 'Norwood Park' 'Kenwood' 'Bridgeport'\n",
      " 'Armour Square' 'Jefferson Park' 'Bucktown' 'North Park' 'Garfield Park'\n",
      " 'Mckinley Park' 'Belmont Cragin' 'Boystown' 'Chinatown' 'Grand Boulevard'\n",
      " 'Austin' 'Sauganash,Forest Glen' 'South Shore' 'Woodlawn'\n",
      " 'Little Village' 'Jackson Park' 'North Lawndale' 'Dunning'\n",
      " 'Ukrainian Village' 'Hermosa' 'Englewood' 'Chatham' 'New City'\n",
      " 'Grand Crossing' 'Brighton Park' 'Andersonville' 'Oakland' 'Ashburn'\n",
      " 'Washington Park' 'Auburn Gresham' 'Clearing' 'Roseland' 'Wrigleyville'\n",
      " 'Edison Park' 'South Chicago' 'Chicago Lawn' 'Beverly' 'Calumet Heights'\n",
      " 'Washington Heights' 'Archer Heights' 'Gage Park' 'Fuller Park'\n",
      " 'West Lawn' 'Morgan Park' 'South Deering' 'Avalon Park' 'West Pullman'\n",
      " 'Montclare' 'West Elsdon' 'Pullman' 'Undef' 'Mount Greenwood' 'Hegewisch'\n",
      " 'Burnside' 'East Side' 'Riverdale'] \n",
      "\n",
      "Unique values in average_trips: \n",
      "\n",
      " [1.07274667e+04 9.52366667e+03 6.66466667e+03 5.16366667e+03\n",
      " 2.54690000e+03 2.42096667e+03 2.06853333e+03 1.51000000e+03\n",
      " 1.36423333e+03 1.25976667e+03 1.24653333e+03 1.21206667e+03\n",
      " 8.63700000e+02 8.49666667e+02 8.39833333e+02 7.45400000e+02\n",
      " 6.20333333e+02 5.83300000e+02 5.16400000e+02 4.69566667e+02\n",
      " 3.95533333e+02 3.93266667e+02 3.56733333e+02 2.99033333e+02\n",
      " 2.98333333e+02 2.96566667e+02 2.55133333e+02 2.08233333e+02\n",
      " 1.82600000e+02 1.80900000e+02 1.78900000e+02 1.43300000e+02\n",
      " 1.42900000e+02 1.19733333e+02 9.78666667e+01 9.52333333e+01\n",
      " 8.93666667e+01 7.71000000e+01 7.70333333e+01 7.43333333e+01\n",
      " 7.43000000e+01 6.78333333e+01 6.57666667e+01 6.40333333e+01\n",
      " 5.90333333e+01 5.39666667e+01 5.24333333e+01 5.16000000e+01\n",
      " 4.44333333e+01 4.35666667e+01 4.05333333e+01 3.61666667e+01\n",
      " 3.38000000e+01 3.31034483e+01 3.21666667e+01 3.01666667e+01\n",
      " 2.76000000e+01 2.75666667e+01 2.54333333e+01 2.32000000e+01\n",
      " 2.29333333e+01 2.26000000e+01 1.94666667e+01 1.68666667e+01\n",
      " 1.66333333e+01 1.61333333e+01 1.60333333e+01 1.51666667e+01\n",
      " 1.45000000e+01 1.43666667e+01 1.42333333e+01 1.41666667e+01\n",
      " 1.30000000e+01 1.22666667e+01 1.05000000e+01 9.56666667e+00\n",
      " 9.13333333e+00 8.36666667e+00 8.23333333e+00 8.16666667e+00\n",
      " 7.73333333e+00 7.70000000e+00 7.50000000e+00 6.96666667e+00\n",
      " 6.46666667e+00 5.76666667e+00 5.66666667e+00 3.89655172e+00\n",
      " 3.80000000e+00 3.13793103e+00 3.11764706e+00 2.33333333e+00\n",
      " 1.96153846e+00 1.80000000e+00] \n",
      "\n",
      "\n",
      "Drop-off Data Duplicate Check:\n",
      "\n",
      "Number of duplicate rows: 0\n",
      "\n",
      "\n",
      "Drop-off Data Numerical Data:\n",
      "\n",
      "       average_trips\n",
      "count      94.000000\n",
      "mean      599.953728\n",
      "std      1714.591098\n",
      "min         1.800000\n",
      "25%        14.266667\n",
      "50%        52.016667\n",
      "75%       298.858333\n",
      "max     10727.466667\n"
     ]
    }
   ],
   "source": [
    "# Let's look at dropoff_data\n",
    "EDA_DF(dropoff_data)"
   ]
  },
  {
   "cell_type": "markdown",
   "metadata": {},
   "source": [
    "**Notes:**\n",
    "- There are 94 rows of data and each column has 94 non-null values; **no missing values**.\n",
    "- The `average_trips` column's data-type is float. Since this represents the average number of rides, we can not have a fraction of a ride, so we will need to round this value accordingly and change to int. \n",
    "    - **Round `average_trips` and change to `int`**\n",
    "- No anomalous values in `dropoff_location`\n",
    "- In `average_trips` we are seeing scientific notation due to the float64 data-type. This is inconvenient, but there does not appear to be any anomalous values here. We already plan to correct this data type.\n",
    "- No duplicate values.\n",
    "- Descriptive data looks good.\n",
    "- Data is neatly sorted."
   ]
  },
  {
   "cell_type": "code",
   "execution_count": 6,
   "metadata": {},
   "outputs": [
    {
     "name": "stdout",
     "output_type": "stream",
     "text": [
      "Trip Data Information:\n",
      "\n",
      "<class 'pandas.core.frame.DataFrame'>\n",
      "RangeIndex: 1068 entries, 0 to 1067\n",
      "Data columns (total 3 columns):\n",
      " #   Column              Non-Null Count  Dtype  \n",
      "---  ------              --------------  -----  \n",
      " 0   start_ts            1068 non-null   object \n",
      " 1   weather_conditions  1068 non-null   object \n",
      " 2   duration_seconds    1068 non-null   float64\n",
      "dtypes: float64(1), object(2)\n",
      "memory usage: 25.2+ KB\n",
      "\n",
      "\n",
      "Trip Data 5-Row Preview:\n",
      "\n",
      "              start_ts weather_conditions  duration_seconds\n",
      "0  2017-11-25 16:00:00               Good            2410.0\n",
      "1  2017-11-25 14:00:00               Good            1920.0\n",
      "2  2017-11-25 12:00:00               Good            1543.0\n",
      "3  2017-11-04 10:00:00               Good            2512.0\n",
      "4  2017-11-11 07:00:00               Good            1440.0\n",
      "\n",
      "\n",
      "Trip Data Unique Value Analysis:\n",
      "\n",
      "Unique values in start_ts: \n",
      "\n",
      " ['2017-11-25 16:00:00' '2017-11-25 14:00:00' '2017-11-25 12:00:00'\n",
      " '2017-11-04 10:00:00' '2017-11-11 07:00:00' '2017-11-11 04:00:00'\n",
      " '2017-11-04 16:00:00' '2017-11-18 11:00:00' '2017-11-11 14:00:00'\n",
      " '2017-11-11 12:00:00' '2017-11-18 06:00:00' '2017-11-04 11:00:00'\n",
      " '2017-11-11 08:00:00' '2017-11-04 08:00:00' '2017-11-11 16:00:00'\n",
      " '2017-11-25 13:00:00' '2017-11-04 12:00:00' '2017-11-25 10:00:00'\n",
      " '2017-11-11 13:00:00' '2017-11-18 14:00:00' '2017-11-04 14:00:00'\n",
      " '2017-11-25 20:00:00' '2017-11-11 11:00:00' '2017-11-18 12:00:00'\n",
      " '2017-11-11 10:00:00' '2017-11-04 17:00:00' '2017-11-11 09:00:00'\n",
      " '2017-11-04 06:00:00' '2017-11-04 05:00:00' '2017-11-11 19:00:00'\n",
      " '2017-11-04 13:00:00' '2017-11-04 07:00:00' '2017-11-11 06:00:00'\n",
      " '2017-11-04 09:00:00' '2017-11-11 05:00:00' '2017-11-18 10:00:00'\n",
      " '2017-11-25 05:00:00' '2017-11-25 08:00:00' '2017-11-04 18:00:00'\n",
      " '2017-11-11 18:00:00' '2017-11-18 16:00:00' '2017-11-11 15:00:00'\n",
      " '2017-11-11 17:00:00' '2017-11-25 07:00:00' '2017-11-18 05:00:00'\n",
      " '2017-11-04 04:00:00' '2017-11-18 07:00:00' '2017-11-04 15:00:00'\n",
      " '2017-11-25 18:00:00' '2017-11-18 08:00:00' '2017-11-18 13:00:00'\n",
      " '2017-11-04 21:00:00' '2017-11-04 19:00:00' '2017-11-18 15:00:00'\n",
      " '2017-11-25 06:00:00' '2017-11-18 18:00:00' '2017-11-11 21:00:00'\n",
      " '2017-11-11 03:00:00' '2017-11-18 09:00:00' '2017-11-04 22:00:00'\n",
      " '2017-11-25 11:00:00' '2017-11-18 19:00:00' '2017-11-25 09:00:00'\n",
      " '2017-11-25 04:00:00' '2017-11-18 00:00:00' '2017-11-11 20:00:00'\n",
      " '2017-11-18 17:00:00' '2017-11-04 02:00:00' '2017-11-18 04:00:00'\n",
      " '2017-11-25 15:00:00' '2017-11-18 03:00:00' '2017-11-25 17:00:00'\n",
      " '2017-11-25 19:00:00' '2017-11-04 20:00:00' '2017-11-04 01:00:00'\n",
      " '2017-11-25 03:00:00' '2017-11-25 23:00:00' '2017-11-18 21:00:00'\n",
      " '2017-11-11 23:00:00' '2017-11-04 00:00:00' '2017-11-18 20:00:00'] \n",
      "\n",
      "Unique values in weather_conditions: \n",
      "\n",
      " ['Good' 'Bad'] \n",
      "\n",
      "Unique values in duration_seconds: \n",
      "\n",
      " [2410. 1920. 1543. 2512. 1440. 1320. 2969. 2280. 2460. 2040. 1500. 1470.\n",
      " 1546. 2100.   60. 2640. 1502. 1915. 2769. 2250. 1260. 2826. 3360. 3180.\n",
      " 1800. 2289. 1494. 1560. 1980. 2115. 1506. 2580. 1620. 1163. 1533. 1477.\n",
      " 1984. 2940. 1683. 1343. 1742. 1358. 2760. 1380. 1415. 1325. 1200. 2363.\n",
      " 1140. 2520. 3000. 3084. 2213. 3120. 4800. 1346. 2843. 1435. 2426. 1740.\n",
      " 2340. 2075. 1333. 2574. 2441. 3300. 1511. 2220. 2551. 2062. 2999. 1677.\n",
      " 1177. 1475. 3201. 1277. 1213. 4044. 1680. 2074. 2782. 2591. 3240. 1869.\n",
      " 1218. 2123. 1384. 3060. 3480. 2071. 3024. 1667. 2056. 1473. 3540. 2778.\n",
      " 1420. 2055. 2240. 2380. 2160. 1539. 1591. 2588. 1162.    0. 1239. 2820.\n",
      " 3130. 2877. 2934. 3270. 1860. 2054. 2293. 2880. 2525. 1323. 1487. 1020.\n",
      " 1883. 2225. 2415. 3411. 2571.  480. 1414. 1981. 2400. 3660. 3600. 1366.\n",
      " 1717. 2479. 1439. 1207. 2112. 2328. 1217. 1237. 1074. 2120. 1404. 1243.\n",
      " 1226. 1123. 1504. 2811. 2094. 1430. 1421. 3026. 2006. 3390. 2994. 1476.\n",
      " 1332. 2956. 1304. 1676. 2700. 2928. 3332. 3008. 4980. 1737. 1365. 2842.\n",
      " 1872. 2255. 2620. 2740. 1498. 1443. 2981. 1363. 1839. 2412. 3780. 3900.\n",
      " 2897. 1201. 2444. 2995. 1643. 1530. 1441. 2425. 1386. 3317. 1758. 1496.\n",
      " 3057. 2611. 3887. 1623. 1554. 1391. 1672. 2141. 2271. 2606. 1547. 4140.\n",
      " 7440. 2618. 2274. 1709. 2761. 1354. 1596. 2037. 1686. 1261. 1610. 1708.\n",
      " 1422. 2982. 1322. 2894. 3427. 2418. 2458. 1961. 2885. 1293. 3615. 3420.\n",
      " 1270. 1335. 1219. 1336. 1331. 1571. 2286. 1563. 1541. 1338.  420. 1372.\n",
      " 3203. 1419. 1553. 2204. 3528. 2262. 2091. 1205. 1259. 1134. 2694. 3394.\n",
      " 1968. 1602. 1409. 1310. 1594. 2193. 1874. 2983. 2285. 1301. 1736. 2351.\n",
      " 2733. 3510. 2560. 3286. 2800. 1362. 2577. 3261. 1878. 2697. 3351. 1513.\n",
      " 1395. 1977. 2133. 2895. 2122. 1432. 2427. 3059. 1832. 1757. 3396. 3461.\n",
      " 2333. 2103. 2330. 2563. 1203. 2029. 1351. 1975. 1296. 2889. 2531. 3614.\n",
      " 2722. 2825. 1622. 2015. 1417. 1282. 3094. 1374. 2757. 1344. 1794. 3460.\n",
      " 6420. 2345. 1472. 1280. 1412. 2196. 1608. 2332. 2203. 4380. 2675. 3172.\n",
      " 1516. 3840. 1355. 1465. 1933. 2010. 2256. 3022. 2765. 2540. 3058. 1267.\n",
      " 2151. 2550. 2172. 2963. 2178. 2475. 2575. 1063. 1747. 2175. 2356. 1934.\n",
      " 2155. 1211. 3214. 2693. 3335. 1466. 1828. 2522. 2948. 1080. 2493. 1595.\n",
      " 1182. 1566. 1843. 1586. 1532. 2195. 1095. 2929. 2310. 1364. 1299. 2032.\n",
      " 1316. 1454. 1909. 1529. 2548. 1748. 1993. 2089. 1646. 1406. 3779. 3366.\n",
      " 3982. 2657. 2454. 1427. 1436. 2205. 1359. 2083. 2312. 2472. 2287. 2467.\n",
      " 2464. 2903. 2233. 1348. 3292. 1462. 1916. 2456. 1405. 3482. 1313. 1265.\n",
      " 1311. 2465. 2294. 2804. 2239. 1018. 1416. 1456. 1520. 3448. 1690. 1978.\n",
      " 1497. 2263. 2632. 2964. 1656. 1491. 2148. 3720. 1484. 2767. 2488. 2325.\n",
      " 1568. 1519. 2518. 1495. 3831. 1538. 1673. 3539. 1341. 1425. 1340. 1997.\n",
      " 3699. 3684. 1715. 3526. 1638. 1775. 1861. 1486. 2491. 1565. 1392. 2132.\n",
      " 1379. 1584. 2134. 1731. 3291. 3262. 1670. 2110. 1990. 2114. 2744. 1601.\n",
      " 1483. 2704. 2898. 1923. 2200. 2926. 2449. 1254. 1330. 1339. 2634. 3604.\n",
      " 1174. 1385. 1908. 1168. 3207. 2554. 1782. 3144. 2099. 3275. 2492. 1303.\n",
      " 2186. 1318. 2834.] \n",
      "\n",
      "\n",
      "Trip Data Duplicate Check:\n",
      "\n",
      "Number of duplicate rows: 197\n",
      "\n",
      "\n",
      "Trip Data Numerical Data:\n",
      "\n",
      "       duration_seconds\n",
      "count       1068.000000\n",
      "mean        2071.731273\n",
      "std          769.461125\n",
      "min            0.000000\n",
      "25%         1438.250000\n",
      "50%         1980.000000\n",
      "75%         2580.000000\n",
      "max         7440.000000\n"
     ]
    }
   ],
   "source": [
    "# Let's look at trip_data\n",
    "EDA_DF(trip_data)"
   ]
  },
  {
   "cell_type": "markdown",
   "metadata": {},
   "source": [
    "**Notes:**\n",
    "- There are 1068 rows of data and each column has 1068 non-null values; **no missing values**\n",
    "- Since `duration_seconds` is already rounded to the nearest second, we can convert this to `int`.\n",
    "- `start_ts` represents the pickup date and time, this needs to be converted to `datetime`\n",
    "    - **Convert `duration_seconds` to `int` and `start_ts` to `datetime`**\n",
    "- No anomalous values in `start_ts` or `weather_conditions`, but **`duration_seconds` does contain 0 second rides**. Most likely representing cancelled rides. We will need to investigate this issue. \n",
    "- There are **197 duplicate rows**\n",
    "    - **Investigate 0 second rides and 197 duplicate rows**\n",
    "    \n",
    "[Back to Contents](#contents)"
   ]
  },
  {
   "cell_type": "markdown",
   "metadata": {
    "jp-MarkdownHeadingCollapsed": true
   },
   "source": [
    "## Data Preprocessing ##\n",
    "<a id='processing'></a>\n",
    "________________________________________________________________________________________________________________________________\n",
    "\n",
    "Let's summarize our notes for `dropoff_data`:\n",
    "- **Round average_trips and change to int**"
   ]
  },
  {
   "cell_type": "code",
   "execution_count": 7,
   "metadata": {},
   "outputs": [
    {
     "data": {
      "text/plain": [
       "0    10727\n",
       "1     9524\n",
       "2     6665\n",
       "3     5164\n",
       "4     2547\n",
       "Name: average_trips, dtype: int32"
      ]
     },
     "execution_count": 7,
     "metadata": {},
     "output_type": "execute_result"
    }
   ],
   "source": [
    "# Round average_trips and correct data-type\n",
    "dropoff_data['average_trips'] = dropoff_data['average_trips'].round().astype('int')\n",
    "dropoff_data['average_trips'].head()"
   ]
  },
  {
   "cell_type": "code",
   "execution_count": 8,
   "metadata": {},
   "outputs": [
    {
     "name": "stdout",
     "output_type": "stream",
     "text": [
      "Drop-off Data Information:\n",
      "\n",
      "<class 'pandas.core.frame.DataFrame'>\n",
      "RangeIndex: 94 entries, 0 to 93\n",
      "Data columns (total 2 columns):\n",
      " #   Column                 Non-Null Count  Dtype \n",
      "---  ------                 --------------  ----- \n",
      " 0   dropoff_location_name  94 non-null     object\n",
      " 1   average_trips          94 non-null     int32 \n",
      "dtypes: int32(1), object(1)\n",
      "memory usage: 1.2+ KB\n",
      "\n",
      "\n",
      "Drop-off Data 5-Row Preview:\n",
      "\n",
      "  dropoff_location_name  average_trips\n",
      "0                  Loop          10727\n",
      "1           River North           9524\n",
      "2         Streeterville           6665\n",
      "3             West Loop           5164\n",
      "4                O'Hare           2547\n",
      "\n",
      "\n",
      "Drop-off Data Unique Value Analysis:\n",
      "\n",
      "Unique values in dropoff_location_name: \n",
      "\n",
      " ['Loop' 'River North' 'Streeterville' 'West Loop' \"O'Hare\" 'Lake View'\n",
      " 'Grant Park' 'Museum Campus' 'Gold Coast' 'Sheffield & DePaul'\n",
      " 'Lincoln Park' 'East Village' 'Little Italy, UIC' 'Uptown'\n",
      " 'Near South Side' 'Garfield Ridge' 'Logan Square' 'Edgewater' 'West Town'\n",
      " 'Old Town' 'Rush & Division' 'North Center' 'Lincoln Square'\n",
      " 'Rogers Park' 'West Ridge' 'Irving Park' 'Hyde Park' 'Avondale'\n",
      " 'Wicker Park' 'Albany Park' 'United Center' 'Lower West Side' 'Douglas'\n",
      " 'Portage Park' 'Humboldt Park' 'Norwood Park' 'Kenwood' 'Bridgeport'\n",
      " 'Armour Square' 'Jefferson Park' 'Bucktown' 'North Park' 'Garfield Park'\n",
      " 'Mckinley Park' 'Belmont Cragin' 'Boystown' 'Chinatown' 'Grand Boulevard'\n",
      " 'Austin' 'Sauganash,Forest Glen' 'South Shore' 'Woodlawn'\n",
      " 'Little Village' 'Jackson Park' 'North Lawndale' 'Dunning'\n",
      " 'Ukrainian Village' 'Hermosa' 'Englewood' 'Chatham' 'New City'\n",
      " 'Grand Crossing' 'Brighton Park' 'Andersonville' 'Oakland' 'Ashburn'\n",
      " 'Washington Park' 'Auburn Gresham' 'Clearing' 'Roseland' 'Wrigleyville'\n",
      " 'Edison Park' 'South Chicago' 'Chicago Lawn' 'Beverly' 'Calumet Heights'\n",
      " 'Washington Heights' 'Archer Heights' 'Gage Park' 'Fuller Park'\n",
      " 'West Lawn' 'Morgan Park' 'South Deering' 'Avalon Park' 'West Pullman'\n",
      " 'Montclare' 'West Elsdon' 'Pullman' 'Undef' 'Mount Greenwood' 'Hegewisch'\n",
      " 'Burnside' 'East Side' 'Riverdale'] \n",
      "\n",
      "Unique values in average_trips: \n",
      "\n",
      " [10727  9524  6665  5164  2547  2421  2069  1510  1364  1260  1247  1212\n",
      "   864   850   840   745   620   583   516   470   396   393   357   299\n",
      "   298   297   255   208   183   181   179   143   120    98    95    89\n",
      "    77    74    68    66    64    59    54    52    44    41    36    34\n",
      "    33    32    30    28    25    23    19    17    16    15    14    13\n",
      "    12    10     9     8     7     6     4     3     2] \n",
      "\n",
      "\n",
      "Drop-off Data Duplicate Check:\n",
      "\n",
      "Number of duplicate rows: 0\n",
      "\n",
      "\n",
      "Drop-off Data Numerical Data:\n",
      "\n",
      "       average_trips\n",
      "count      94.000000\n",
      "mean      599.957447\n",
      "std      1714.615082\n",
      "min         2.000000\n",
      "25%        14.000000\n",
      "50%        52.000000\n",
      "75%       298.750000\n",
      "max     10727.000000\n"
     ]
    }
   ],
   "source": [
    "# Rerun EDA\n",
    "EDA_DF(dropoff_data)"
   ]
  },
  {
   "cell_type": "markdown",
   "metadata": {},
   "source": [
    "Data looks great. The mean is significantly larger than the median which tells us there is a **right-skew**.\n",
    "\n",
    "Let's summarize our notes for `trip_data`:\n",
    "- **Convert `duration_seconds` to `int`** \n",
    "- **Convert `start_ts` to `datetime`**\n",
    "- **Investigate 197 duplicate rows**\n",
    "- **Investigate 0 second rides**"
   ]
  },
  {
   "cell_type": "code",
   "execution_count": 9,
   "metadata": {},
   "outputs": [
    {
     "data": {
      "text/html": [
       "<div>\n",
       "<style scoped>\n",
       "    .dataframe tbody tr th:only-of-type {\n",
       "        vertical-align: middle;\n",
       "    }\n",
       "\n",
       "    .dataframe tbody tr th {\n",
       "        vertical-align: top;\n",
       "    }\n",
       "\n",
       "    .dataframe thead th {\n",
       "        text-align: right;\n",
       "    }\n",
       "</style>\n",
       "<table border=\"1\" class=\"dataframe\">\n",
       "  <thead>\n",
       "    <tr style=\"text-align: right;\">\n",
       "      <th></th>\n",
       "      <th>start_ts</th>\n",
       "      <th>weather_conditions</th>\n",
       "      <th>duration_seconds</th>\n",
       "    </tr>\n",
       "  </thead>\n",
       "  <tbody>\n",
       "    <tr>\n",
       "      <th>0</th>\n",
       "      <td>2017-11-25 16:00:00</td>\n",
       "      <td>Good</td>\n",
       "      <td>2410</td>\n",
       "    </tr>\n",
       "    <tr>\n",
       "      <th>1</th>\n",
       "      <td>2017-11-25 14:00:00</td>\n",
       "      <td>Good</td>\n",
       "      <td>1920</td>\n",
       "    </tr>\n",
       "    <tr>\n",
       "      <th>2</th>\n",
       "      <td>2017-11-25 12:00:00</td>\n",
       "      <td>Good</td>\n",
       "      <td>1543</td>\n",
       "    </tr>\n",
       "  </tbody>\n",
       "</table>\n",
       "</div>"
      ],
      "text/plain": [
       "              start_ts weather_conditions  duration_seconds\n",
       "0  2017-11-25 16:00:00               Good              2410\n",
       "1  2017-11-25 14:00:00               Good              1920\n",
       "2  2017-11-25 12:00:00               Good              1543"
      ]
     },
     "execution_count": 9,
     "metadata": {},
     "output_type": "execute_result"
    }
   ],
   "source": [
    "# Convert duration_seconds to int\n",
    "trip_data['duration_seconds'] = trip_data['duration_seconds'].astype('int')\n",
    "trip_data.head(3)"
   ]
  },
  {
   "cell_type": "code",
   "execution_count": 10,
   "metadata": {},
   "outputs": [
    {
     "data": {
      "text/plain": [
       "start_ts              datetime64[ns]\n",
       "weather_conditions            object\n",
       "duration_seconds               int32\n",
       "dtype: object"
      ]
     },
     "execution_count": 10,
     "metadata": {},
     "output_type": "execute_result"
    }
   ],
   "source": [
    "# Convert start_ts to datetime\n",
    "trip_data['start_ts'] = pd.to_datetime(trip_data['start_ts'], format = \"%Y-%m-%d %H:%M:%S\")\n",
    "\n",
    "# check\n",
    "trip_data.dtypes"
   ]
  },
  {
   "cell_type": "code",
   "execution_count": 11,
   "metadata": {},
   "outputs": [
    {
     "data": {
      "text/html": [
       "<div>\n",
       "<style scoped>\n",
       "    .dataframe tbody tr th:only-of-type {\n",
       "        vertical-align: middle;\n",
       "    }\n",
       "\n",
       "    .dataframe tbody tr th {\n",
       "        vertical-align: top;\n",
       "    }\n",
       "\n",
       "    .dataframe thead th {\n",
       "        text-align: right;\n",
       "    }\n",
       "</style>\n",
       "<table border=\"1\" class=\"dataframe\">\n",
       "  <thead>\n",
       "    <tr style=\"text-align: right;\">\n",
       "      <th></th>\n",
       "      <th>start_ts</th>\n",
       "      <th>weather_conditions</th>\n",
       "      <th>duration_seconds</th>\n",
       "    </tr>\n",
       "  </thead>\n",
       "  <tbody>\n",
       "    <tr>\n",
       "      <th>403</th>\n",
       "      <td>2017-11-11 14:00:00</td>\n",
       "      <td>Good</td>\n",
       "      <td>2400</td>\n",
       "    </tr>\n",
       "  </tbody>\n",
       "</table>\n",
       "</div>"
      ],
      "text/plain": [
       "               start_ts weather_conditions  duration_seconds\n",
       "403 2017-11-11 14:00:00               Good              2400"
      ]
     },
     "execution_count": 11,
     "metadata": {},
     "output_type": "execute_result"
    }
   ],
   "source": [
    "# Investigate duplicate rows\n",
    "trip_dups = trip_data[trip_data.duplicated()]\n",
    "\n",
    "# Select random row to investigate\n",
    "trip_dups.sample(random_state=1)"
   ]
  },
  {
   "cell_type": "code",
   "execution_count": 12,
   "metadata": {},
   "outputs": [
    {
     "data": {
      "text/html": [
       "<div>\n",
       "<style scoped>\n",
       "    .dataframe tbody tr th:only-of-type {\n",
       "        vertical-align: middle;\n",
       "    }\n",
       "\n",
       "    .dataframe tbody tr th {\n",
       "        vertical-align: top;\n",
       "    }\n",
       "\n",
       "    .dataframe thead th {\n",
       "        text-align: right;\n",
       "    }\n",
       "</style>\n",
       "<table border=\"1\" class=\"dataframe\">\n",
       "  <thead>\n",
       "    <tr style=\"text-align: right;\">\n",
       "      <th></th>\n",
       "      <th>start_ts</th>\n",
       "      <th>weather_conditions</th>\n",
       "      <th>duration_seconds</th>\n",
       "    </tr>\n",
       "  </thead>\n",
       "  <tbody>\n",
       "    <tr>\n",
       "      <th>366</th>\n",
       "      <td>2017-11-11 14:00:00</td>\n",
       "      <td>Good</td>\n",
       "      <td>2400</td>\n",
       "    </tr>\n",
       "    <tr>\n",
       "      <th>403</th>\n",
       "      <td>2017-11-11 14:00:00</td>\n",
       "      <td>Good</td>\n",
       "      <td>2400</td>\n",
       "    </tr>\n",
       "    <tr>\n",
       "      <th>637</th>\n",
       "      <td>2017-11-11 14:00:00</td>\n",
       "      <td>Good</td>\n",
       "      <td>2400</td>\n",
       "    </tr>\n",
       "    <tr>\n",
       "      <th>755</th>\n",
       "      <td>2017-11-11 14:00:00</td>\n",
       "      <td>Good</td>\n",
       "      <td>2400</td>\n",
       "    </tr>\n",
       "    <tr>\n",
       "      <th>1019</th>\n",
       "      <td>2017-11-11 14:00:00</td>\n",
       "      <td>Good</td>\n",
       "      <td>2400</td>\n",
       "    </tr>\n",
       "  </tbody>\n",
       "</table>\n",
       "</div>"
      ],
      "text/plain": [
       "                start_ts weather_conditions  duration_seconds\n",
       "366  2017-11-11 14:00:00               Good              2400\n",
       "403  2017-11-11 14:00:00               Good              2400\n",
       "637  2017-11-11 14:00:00               Good              2400\n",
       "755  2017-11-11 14:00:00               Good              2400\n",
       "1019 2017-11-11 14:00:00               Good              2400"
      ]
     },
     "execution_count": 12,
     "metadata": {},
     "output_type": "execute_result"
    }
   ],
   "source": [
    "trip_data.query(\"start_ts == '2017-11-11 14:00:00' and duration_seconds == 2400\")"
   ]
  },
  {
   "cell_type": "markdown",
   "metadata": {},
   "source": [
    "Since `start_ts` has been rounded to the nearest hour and `duration_seconds` were rounded to the nearest second in the initial dataset, we do not have enough evidence to conclude that these are true duplicate values as they very well could have been separate rides. Therefore, we will leave in these duplicate values. "
   ]
  },
  {
   "cell_type": "code",
   "execution_count": 13,
   "metadata": {},
   "outputs": [
    {
     "data": {
      "text/html": [
       "<div>\n",
       "<style scoped>\n",
       "    .dataframe tbody tr th:only-of-type {\n",
       "        vertical-align: middle;\n",
       "    }\n",
       "\n",
       "    .dataframe tbody tr th {\n",
       "        vertical-align: top;\n",
       "    }\n",
       "\n",
       "    .dataframe thead th {\n",
       "        text-align: right;\n",
       "    }\n",
       "</style>\n",
       "<table border=\"1\" class=\"dataframe\">\n",
       "  <thead>\n",
       "    <tr style=\"text-align: right;\">\n",
       "      <th></th>\n",
       "      <th>start_ts</th>\n",
       "      <th>weather_conditions</th>\n",
       "      <th>duration_seconds</th>\n",
       "    </tr>\n",
       "  </thead>\n",
       "  <tbody>\n",
       "    <tr>\n",
       "      <th>163</th>\n",
       "      <td>2017-11-11 09:00:00</td>\n",
       "      <td>Good</td>\n",
       "      <td>0</td>\n",
       "    </tr>\n",
       "    <tr>\n",
       "      <th>168</th>\n",
       "      <td>2017-11-11 07:00:00</td>\n",
       "      <td>Good</td>\n",
       "      <td>0</td>\n",
       "    </tr>\n",
       "    <tr>\n",
       "      <th>204</th>\n",
       "      <td>2017-11-18 19:00:00</td>\n",
       "      <td>Good</td>\n",
       "      <td>0</td>\n",
       "    </tr>\n",
       "    <tr>\n",
       "      <th>552</th>\n",
       "      <td>2017-11-04 01:00:00</td>\n",
       "      <td>Good</td>\n",
       "      <td>0</td>\n",
       "    </tr>\n",
       "    <tr>\n",
       "      <th>801</th>\n",
       "      <td>2017-11-04 09:00:00</td>\n",
       "      <td>Good</td>\n",
       "      <td>0</td>\n",
       "    </tr>\n",
       "    <tr>\n",
       "      <th>1063</th>\n",
       "      <td>2017-11-25 11:00:00</td>\n",
       "      <td>Good</td>\n",
       "      <td>0</td>\n",
       "    </tr>\n",
       "  </tbody>\n",
       "</table>\n",
       "</div>"
      ],
      "text/plain": [
       "                start_ts weather_conditions  duration_seconds\n",
       "163  2017-11-11 09:00:00               Good                 0\n",
       "168  2017-11-11 07:00:00               Good                 0\n",
       "204  2017-11-18 19:00:00               Good                 0\n",
       "552  2017-11-04 01:00:00               Good                 0\n",
       "801  2017-11-04 09:00:00               Good                 0\n",
       "1063 2017-11-25 11:00:00               Good                 0"
      ]
     },
     "execution_count": 13,
     "metadata": {},
     "output_type": "execute_result"
    }
   ],
   "source": [
    "# Investigate 0-second rides\n",
    "sec_0_rides = trip_data.query(\"duration_seconds == 0\")\n",
    "sec_0_rides"
   ]
  },
  {
   "cell_type": "markdown",
   "metadata": {},
   "source": [
    "Since these appear to simply be cancelled rides, and there are only 6 of them, we can remove these rows. The number of cancellations however, could prove useful information so let's see how it compares to the rest of the data before executing a removal."
   ]
  },
  {
   "cell_type": "code",
   "execution_count": 14,
   "metadata": {},
   "outputs": [
    {
     "data": {
      "image/png": "[encoded data removed]",
      "text/plain": [
       "<Figure size 1000x400 with 1 Axes>"
      ]
     },
     "metadata": {},
     "output_type": "display_data"
    }
   ],
   "source": [
    "# Plot histogram of duration_seconds - 1068 values\n",
    "plt.figure(figsize = (10,4))\n",
    "\n",
    "sns.histplot(data = trip_data,\n",
    "             x = 'duration_seconds',\n",
    "             bins = range(min(trip_data['duration_seconds']),     # min in range \n",
    "                          max(trip_data['duration_seconds']+500), # max in range\n",
    "                          500)                                    # step by\n",
    "             )\n",
    "\n",
    "plt.title('Distribution of Ride Duration from Loop to O\\'hare International Airport', fontsize = 15, fontweight = 'bold')\n",
    "plt.xlabel('Ride Duration (sec)', fontsize = 12, fontweight = 'bold')\n",
    "plt.xticks(range(0, max(trip_data['duration_seconds'] +500), 500))\n",
    "plt.ylabel('Number of Rides', fontsize = 12, fontweight = 'bold')\n",
    "plt.show()"
   ]
  },
  {
   "cell_type": "markdown",
   "metadata": {},
   "source": [
    "Let's take a look at the data at less than or equal to 1000 seconds"
   ]
  },
  {
   "cell_type": "code",
   "execution_count": 15,
   "metadata": {},
   "outputs": [
    {
     "data": {
      "text/html": [
       "<div>\n",
       "<style scoped>\n",
       "    .dataframe tbody tr th:only-of-type {\n",
       "        vertical-align: middle;\n",
       "    }\n",
       "\n",
       "    .dataframe tbody tr th {\n",
       "        vertical-align: top;\n",
       "    }\n",
       "\n",
       "    .dataframe thead th {\n",
       "        text-align: right;\n",
       "    }\n",
       "</style>\n",
       "<table border=\"1\" class=\"dataframe\">\n",
       "  <thead>\n",
       "    <tr style=\"text-align: right;\">\n",
       "      <th></th>\n",
       "      <th>start_ts</th>\n",
       "      <th>weather_conditions</th>\n",
       "      <th>duration_seconds</th>\n",
       "    </tr>\n",
       "  </thead>\n",
       "  <tbody>\n",
       "    <tr>\n",
       "      <th>15</th>\n",
       "      <td>2017-11-25 13:00:00</td>\n",
       "      <td>Good</td>\n",
       "      <td>60</td>\n",
       "    </tr>\n",
       "    <tr>\n",
       "      <th>163</th>\n",
       "      <td>2017-11-11 09:00:00</td>\n",
       "      <td>Good</td>\n",
       "      <td>0</td>\n",
       "    </tr>\n",
       "    <tr>\n",
       "      <th>168</th>\n",
       "      <td>2017-11-11 07:00:00</td>\n",
       "      <td>Good</td>\n",
       "      <td>0</td>\n",
       "    </tr>\n",
       "    <tr>\n",
       "      <th>203</th>\n",
       "      <td>2017-11-18 00:00:00</td>\n",
       "      <td>Bad</td>\n",
       "      <td>480</td>\n",
       "    </tr>\n",
       "    <tr>\n",
       "      <th>204</th>\n",
       "      <td>2017-11-18 19:00:00</td>\n",
       "      <td>Good</td>\n",
       "      <td>0</td>\n",
       "    </tr>\n",
       "    <tr>\n",
       "      <th>424</th>\n",
       "      <td>2017-11-11 13:00:00</td>\n",
       "      <td>Good</td>\n",
       "      <td>420</td>\n",
       "    </tr>\n",
       "    <tr>\n",
       "      <th>552</th>\n",
       "      <td>2017-11-04 01:00:00</td>\n",
       "      <td>Good</td>\n",
       "      <td>0</td>\n",
       "    </tr>\n",
       "    <tr>\n",
       "      <th>801</th>\n",
       "      <td>2017-11-04 09:00:00</td>\n",
       "      <td>Good</td>\n",
       "      <td>0</td>\n",
       "    </tr>\n",
       "    <tr>\n",
       "      <th>860</th>\n",
       "      <td>2017-11-04 18:00:00</td>\n",
       "      <td>Bad</td>\n",
       "      <td>480</td>\n",
       "    </tr>\n",
       "    <tr>\n",
       "      <th>1063</th>\n",
       "      <td>2017-11-25 11:00:00</td>\n",
       "      <td>Good</td>\n",
       "      <td>0</td>\n",
       "    </tr>\n",
       "  </tbody>\n",
       "</table>\n",
       "</div>"
      ],
      "text/plain": [
       "                start_ts weather_conditions  duration_seconds\n",
       "15   2017-11-25 13:00:00               Good                60\n",
       "163  2017-11-11 09:00:00               Good                 0\n",
       "168  2017-11-11 07:00:00               Good                 0\n",
       "203  2017-11-18 00:00:00                Bad               480\n",
       "204  2017-11-18 19:00:00               Good                 0\n",
       "424  2017-11-11 13:00:00               Good               420\n",
       "552  2017-11-04 01:00:00               Good                 0\n",
       "801  2017-11-04 09:00:00               Good                 0\n",
       "860  2017-11-04 18:00:00                Bad               480\n",
       "1063 2017-11-25 11:00:00               Good                 0"
      ]
     },
     "execution_count": 15,
     "metadata": {},
     "output_type": "execute_result"
    }
   ],
   "source": [
    "trip_data.query(\"duration_seconds < 1000\")"
   ]
  },
  {
   "cell_type": "markdown",
   "metadata": {},
   "source": [
    "It is clear from the histogram that rides less than 1000 seconds (approximately 16 mins) are anomalous. Let's find the percentage of rides that are less than 500 seconds."
   ]
  },
  {
   "cell_type": "code",
   "execution_count": 16,
   "metadata": {},
   "outputs": [
    {
     "name": "stdout",
     "output_type": "stream",
     "text": [
      "The percentage of trips with a travel time less than 500 seconds including cancelled trips(trips with a duration of 0 seconds): 0.94%\n"
     ]
    }
   ],
   "source": [
    "percentage = (trip_data.query(\"duration_seconds < 500\").shape[0] / trip_data.shape[0])\n",
    "print(\"The percentage of trips with a travel time less than 500 seconds including cancelled trips(trips with a duration of 0 seconds):\",\n",
    "     f\"{percentage:.2%}\")"
   ]
  },
  {
   "cell_type": "markdown",
   "metadata": {},
   "source": [
    "Since this accounts for less than 1% of the entire dataset, these records will be dropped. "
   ]
  },
  {
   "cell_type": "code",
   "execution_count": 17,
   "metadata": {},
   "outputs": [
    {
     "data": {
      "text/plain": [
       "(1058, 3)"
      ]
     },
     "execution_count": 17,
     "metadata": {},
     "output_type": "execute_result"
    }
   ],
   "source": [
    "# Drop records with duration_seconds < 500 from trip_data\n",
    "trip_data = trip_data.query(\"duration_seconds > 500\")\n",
    "trip_data.shape"
   ]
  },
  {
   "cell_type": "markdown",
   "metadata": {},
   "source": [
    "[Back to Contents](#contents)"
   ]
  },
  {
   "cell_type": "markdown",
   "metadata": {},
   "source": [
    "## Exploratory Data Analysis (EDA) ##\n",
    "<a id='eda'></a>\n",
    "________________________________________________________________________________________________________________________________"
   ]
  },
  {
   "cell_type": "code",
   "execution_count": 18,
   "metadata": {},
   "outputs": [
    {
     "data": {
      "image/png": "[encoded data removed]",
      "text/plain": [
       "<Figure size 1000x400 with 1 Axes>"
      ]
     },
     "metadata": {},
     "output_type": "display_data"
    }
   ],
   "source": [
    "# Plot a histogram of the number of trips per company (company_data)\n",
    "plt.figure(figsize = (10,4))\n",
    "\n",
    "sns.histplot(data = company_data,\n",
    "             x = 'trips_amount',\n",
    "             bins = range(0,\n",
    "                          max(company_data['trips_amount'] + 500),\n",
    "                          1000)\n",
    "            )\n",
    "\n",
    "plt.title(\"Distribution of Trips on November 15-16th by Company\", fontsize = 15, fontweight = 'bold')\n",
    "plt.xlabel(\"Number of trips\", fontsize = 11, fontweight = 'bold')\n",
    "plt.xticks(range(0, max(company_data['trips_amount']) + 500, 2000))\n",
    "plt.ylabel(\"Number of Companies\", fontsize = 11, fontweight = 'bold')\n",
    "plt.show()"
   ]
  },
  {
   "cell_type": "markdown",
   "metadata": {},
   "source": [
    "From the histogram we can see that the distribution of the number of rides on November 15-16th is heavily skewed to the right as most companies had less than 1000 rides these two days. There were a few companies with more than 10,000 rides and the most popular being well ahead at nearly the 20,000 mark.\n",
    "\n",
    "### Top 10 Companies in Chicago ###\n",
    "<a id='top_10'></a>"
   ]
  },
  {
   "cell_type": "code",
   "execution_count": 19,
   "metadata": {},
   "outputs": [
    {
     "data": {
      "text/html": [
       "<div>\n",
       "<style scoped>\n",
       "    .dataframe tbody tr th:only-of-type {\n",
       "        vertical-align: middle;\n",
       "    }\n",
       "\n",
       "    .dataframe tbody tr th {\n",
       "        vertical-align: top;\n",
       "    }\n",
       "\n",
       "    .dataframe thead th {\n",
       "        text-align: right;\n",
       "    }\n",
       "</style>\n",
       "<table border=\"1\" class=\"dataframe\">\n",
       "  <thead>\n",
       "    <tr style=\"text-align: right;\">\n",
       "      <th></th>\n",
       "      <th>company_name</th>\n",
       "      <th>trips_amount</th>\n",
       "    </tr>\n",
       "  </thead>\n",
       "  <tbody>\n",
       "    <tr>\n",
       "      <th>0</th>\n",
       "      <td>Flash Cab</td>\n",
       "      <td>19558</td>\n",
       "    </tr>\n",
       "    <tr>\n",
       "      <th>1</th>\n",
       "      <td>Taxi Affiliation Services</td>\n",
       "      <td>11422</td>\n",
       "    </tr>\n",
       "    <tr>\n",
       "      <th>2</th>\n",
       "      <td>Medallion Leasin</td>\n",
       "      <td>10367</td>\n",
       "    </tr>\n",
       "    <tr>\n",
       "      <th>3</th>\n",
       "      <td>Yellow Cab</td>\n",
       "      <td>9888</td>\n",
       "    </tr>\n",
       "    <tr>\n",
       "      <th>4</th>\n",
       "      <td>Taxi Affiliation Service Yellow</td>\n",
       "      <td>9299</td>\n",
       "    </tr>\n",
       "    <tr>\n",
       "      <th>5</th>\n",
       "      <td>Chicago Carriage Cab Corp</td>\n",
       "      <td>9181</td>\n",
       "    </tr>\n",
       "    <tr>\n",
       "      <th>6</th>\n",
       "      <td>City Service</td>\n",
       "      <td>8448</td>\n",
       "    </tr>\n",
       "    <tr>\n",
       "      <th>7</th>\n",
       "      <td>Sun Taxi</td>\n",
       "      <td>7701</td>\n",
       "    </tr>\n",
       "    <tr>\n",
       "      <th>8</th>\n",
       "      <td>Star North Management LLC</td>\n",
       "      <td>7455</td>\n",
       "    </tr>\n",
       "    <tr>\n",
       "      <th>9</th>\n",
       "      <td>Blue Ribbon Taxi Association Inc.</td>\n",
       "      <td>5953</td>\n",
       "    </tr>\n",
       "  </tbody>\n",
       "</table>\n",
       "</div>"
      ],
      "text/plain": [
       "                        company_name  trips_amount\n",
       "0                          Flash Cab         19558\n",
       "1          Taxi Affiliation Services         11422\n",
       "2                   Medallion Leasin         10367\n",
       "3                         Yellow Cab          9888\n",
       "4    Taxi Affiliation Service Yellow          9299\n",
       "5          Chicago Carriage Cab Corp          9181\n",
       "6                       City Service          8448\n",
       "7                           Sun Taxi          7701\n",
       "8          Star North Management LLC          7455\n",
       "9  Blue Ribbon Taxi Association Inc.          5953"
      ]
     },
     "execution_count": 19,
     "metadata": {},
     "output_type": "execute_result"
    }
   ],
   "source": [
    "top_10_ch = company_data.sort_values(by = 'trips_amount', ascending = False).head(10)\n",
    "top_10_ch"
   ]
  },
  {
   "cell_type": "code",
   "execution_count": 20,
   "metadata": {},
   "outputs": [],
   "source": [
    "# Create function to apply ranking\n",
    "def assign_ranks(data, column):\n",
    "    \"\"\"\n",
    "    This function creates a new column that applies a ranking to a dataframe (data)\n",
    "    based on the column defined (column).\n",
    "    \"\"\"\n",
    "    # sort the data\n",
    "    sorted_data = data.sort_values(by = column, ascending = False).reset_index(drop = True)\n",
    "    \n",
    "    # Add the rank column\n",
    "    sorted_data['rank'] = sorted_data[column].rank(ascending = False, method = 'dense').astype('int')\n",
    "    \n",
    "    # Apply label based on ranking\n",
    "    def rank_category(rank):\n",
    "        if rank <= 10:\n",
    "            return 'Top 10'\n",
    "        elif rank <= 20:\n",
    "            return 'Top 11-20'\n",
    "        else:\n",
    "            return 'Others'\n",
    "        \n",
    "    # apply rank function\n",
    "    sorted_data['rank_category'] = sorted_data['rank'].apply(rank_category)\n",
    "    \n",
    "    # Drop the 'rank' column so only category remains\n",
    "    sorted_data = sorted_data.drop(columns=['rank'])\n",
    "    \n",
    "    return sorted_data"
   ]
  },
  {
   "cell_type": "code",
   "execution_count": 21,
   "metadata": {},
   "outputs": [
    {
     "data": {
      "text/html": [
       "<div>\n",
       "<style scoped>\n",
       "    .dataframe tbody tr th:only-of-type {\n",
       "        vertical-align: middle;\n",
       "    }\n",
       "\n",
       "    .dataframe tbody tr th {\n",
       "        vertical-align: top;\n",
       "    }\n",
       "\n",
       "    .dataframe thead th {\n",
       "        text-align: right;\n",
       "    }\n",
       "</style>\n",
       "<table border=\"1\" class=\"dataframe\">\n",
       "  <thead>\n",
       "    <tr style=\"text-align: right;\">\n",
       "      <th></th>\n",
       "      <th>company_name</th>\n",
       "      <th>trips_amount</th>\n",
       "      <th>rank_category</th>\n",
       "    </tr>\n",
       "  </thead>\n",
       "  <tbody>\n",
       "    <tr>\n",
       "      <th>0</th>\n",
       "      <td>Flash Cab</td>\n",
       "      <td>19558</td>\n",
       "      <td>Top 10</td>\n",
       "    </tr>\n",
       "    <tr>\n",
       "      <th>1</th>\n",
       "      <td>Taxi Affiliation Services</td>\n",
       "      <td>11422</td>\n",
       "      <td>Top 10</td>\n",
       "    </tr>\n",
       "    <tr>\n",
       "      <th>2</th>\n",
       "      <td>Medallion Leasin</td>\n",
       "      <td>10367</td>\n",
       "      <td>Top 10</td>\n",
       "    </tr>\n",
       "    <tr>\n",
       "      <th>3</th>\n",
       "      <td>Yellow Cab</td>\n",
       "      <td>9888</td>\n",
       "      <td>Top 10</td>\n",
       "    </tr>\n",
       "    <tr>\n",
       "      <th>4</th>\n",
       "      <td>Taxi Affiliation Service Yellow</td>\n",
       "      <td>9299</td>\n",
       "      <td>Top 10</td>\n",
       "    </tr>\n",
       "  </tbody>\n",
       "</table>\n",
       "</div>"
      ],
      "text/plain": [
       "                      company_name  trips_amount rank_category\n",
       "0                        Flash Cab         19558        Top 10\n",
       "1        Taxi Affiliation Services         11422        Top 10\n",
       "2                 Medallion Leasin         10367        Top 10\n",
       "3                       Yellow Cab          9888        Top 10\n",
       "4  Taxi Affiliation Service Yellow          9299        Top 10"
      ]
     },
     "execution_count": 21,
     "metadata": {},
     "output_type": "execute_result"
    }
   ],
   "source": [
    "ranked_company = assign_ranks(company_data, 'trips_amount')\n",
    "ranked_company.head()"
   ]
  },
  {
   "cell_type": "code",
   "execution_count": 22,
   "metadata": {},
   "outputs": [
    {
     "data": {
      "text/html": [
       "<div>\n",
       "<style scoped>\n",
       "    .dataframe tbody tr th:only-of-type {\n",
       "        vertical-align: middle;\n",
       "    }\n",
       "\n",
       "    .dataframe tbody tr th {\n",
       "        vertical-align: top;\n",
       "    }\n",
       "\n",
       "    .dataframe thead th {\n",
       "        text-align: right;\n",
       "    }\n",
       "</style>\n",
       "<table border=\"1\" class=\"dataframe\">\n",
       "  <thead>\n",
       "    <tr style=\"text-align: right;\">\n",
       "      <th></th>\n",
       "      <th>company_name</th>\n",
       "      <th>trips_amount</th>\n",
       "      <th>rank_category</th>\n",
       "    </tr>\n",
       "  </thead>\n",
       "  <tbody>\n",
       "    <tr>\n",
       "      <th>59</th>\n",
       "      <td>4053 - 40193 Adwar H. Nikola</td>\n",
       "      <td>7</td>\n",
       "      <td>Others</td>\n",
       "    </tr>\n",
       "    <tr>\n",
       "      <th>60</th>\n",
       "      <td>2733 - 74600 Benny Jona</td>\n",
       "      <td>7</td>\n",
       "      <td>Others</td>\n",
       "    </tr>\n",
       "    <tr>\n",
       "      <th>61</th>\n",
       "      <td>5874 - 73628 Sergey Cab Corp.</td>\n",
       "      <td>5</td>\n",
       "      <td>Others</td>\n",
       "    </tr>\n",
       "    <tr>\n",
       "      <th>62</th>\n",
       "      <td>2241 - 44667 - Felman Corp, Manuel Alonso</td>\n",
       "      <td>3</td>\n",
       "      <td>Others</td>\n",
       "    </tr>\n",
       "    <tr>\n",
       "      <th>63</th>\n",
       "      <td>3556 - 36214 RC Andrews Cab</td>\n",
       "      <td>2</td>\n",
       "      <td>Others</td>\n",
       "    </tr>\n",
       "  </tbody>\n",
       "</table>\n",
       "</div>"
      ],
      "text/plain": [
       "                                 company_name  trips_amount rank_category\n",
       "59               4053 - 40193 Adwar H. Nikola             7        Others\n",
       "60                    2733 - 74600 Benny Jona             7        Others\n",
       "61              5874 - 73628 Sergey Cab Corp.             5        Others\n",
       "62  2241 - 44667 - Felman Corp, Manuel Alonso             3        Others\n",
       "63                3556 - 36214 RC Andrews Cab             2        Others"
      ]
     },
     "execution_count": 22,
     "metadata": {},
     "output_type": "execute_result"
    }
   ],
   "source": [
    "ranked_company.tail()"
   ]
  },
  {
   "cell_type": "code",
   "execution_count": 23,
   "metadata": {},
   "outputs": [],
   "source": [
    "# Create function to graph pie chart and bar chart\n",
    "def plot_charts(data , column: str, pie_title: str, bar_y_label: str, bar_title: str, bar_xlabel: str):\n",
    "    \"\"\"\n",
    "    Plots a pie and bar chart based on the given DataFrame, column, and title.\n",
    "\n",
    "    Parameters:\n",
    "    data (pd.DataFrame): The DataFrame containing the data.\n",
    "    column (str): The name of the column to be plotted.\n",
    "    pie_title (str): The title of the pie chart.\n",
    "    bar_y_label (str): is the y parameter of sns.barplot; it does need to match the column name format\n",
    "    bar_title (str): The title of the bar chart\n",
    "    bar_xlabel(str): The x-axis label for the bar chart\n",
    "    \"\"\"\n",
    "    \n",
    "    fig, (ax1, ax2) = plt.subplots(1, 2, figsize = (14,6))\n",
    "    \n",
    "    # Pie chart\n",
    "    category_sums = data.groupby('rank_category')[column].sum()\n",
    "\n",
    "    ax1.pie(category_sums,\n",
    "            labels = category_sums.index,\n",
    "            autopct = '%1.2f%%',\n",
    "            startangle = 120,\n",
    "            colors=['#008080','#FF7F50', '#D3D3D3'])\n",
    "\n",
    "    ax1.set_title(pie_title, fontweight = 'bold')\n",
    "    \n",
    "    # Bar Chart\n",
    "    sns.barplot(data = data.head(10),\n",
    "                x = column,\n",
    "                y = bar_y_label,\n",
    "                ax=ax2)\n",
    "\n",
    "    ax2.set_title(bar_title, fontweight = 'bold', fontsize = 13)\n",
    "    ax2.set_xlabel(bar_xlabel, fontweight = 'bold')\n",
    "    ax2.set_ylabel(bar_y_label.replace('_', ' ').title(), fontweight = 'bold')\n",
    "\n",
    "    plt.tight_layout()\n",
    "    plt.show()"
   ]
  },
  {
   "cell_type": "code",
   "execution_count": 24,
   "metadata": {},
   "outputs": [
    {
     "data": {
      "image/png": "[encoded data removed]",
      "text/plain": [
       "<Figure size 1400x600 with 2 Axes>"
      ]
     },
     "metadata": {},
     "output_type": "display_data"
    }
   ],
   "source": [
    "plot_charts(ranked_company, 'trips_amount', 'Percentages of Rides in Top Companies',\n",
    "            'company_name', 'Top 10 Companies', 'Number of Trips')"
   ]
  },
  {
   "cell_type": "markdown",
   "metadata": {},
   "source": [
    "The pie chart shows that the top 10 companies account for 72.3% of the total number of trips from November 15-16th in Chicago. \n",
    "\n",
    "The bar chart is a summary of those top 10 companies. `Flash Cab` remarkably stands out as the preferred Ride-service compared to the other companies. "
   ]
  },
  {
   "cell_type": "code",
   "execution_count": 25,
   "metadata": {},
   "outputs": [
    {
     "data": {
      "image/png": "[encoded data removed]",
      "text/plain": [
       "<Figure size 800x400 with 1 Axes>"
      ]
     },
     "metadata": {},
     "output_type": "display_data"
    }
   ],
   "source": [
    "# Plot a distribution of daily trips per neighborhood\n",
    "plt.figure(figsize = (8, 4))\n",
    "\n",
    "sns.histplot(data = dropoff_data,\n",
    "             x = 'average_trips',\n",
    "             bins = range(0,\n",
    "                          max(dropoff_data['average_trips'] + 500),\n",
    "                          500))\n",
    "\n",
    "plt.title(\"Distribution of Daily Trips by Neighborhood\", fontweight = 'bold')\n",
    "plt.xlabel(\"Number of Trips\", fontweight = 'bold')\n",
    "plt.ylabel(\"Number of Neighborhoods\", fontweight = 'bold')\n",
    "plt.show()"
   ]
  },
  {
   "cell_type": "markdown",
   "metadata": {},
   "source": [
    "The distribution of daily trips by neighborhood is also severely skewed right. In November of 2017, the majority of neighborhoods recorded a low number of trips, while a small number of neighborhoods had more than 4000 trips end in them per day. \n",
    "\n",
    "[Back to Contents](#contents)\n",
    "\n",
    "### Top 10 Visited Neighborhoods in Chicago ###\n",
    "<a id='10_visits'></a>"
   ]
  },
  {
   "cell_type": "code",
   "execution_count": 26,
   "metadata": {},
   "outputs": [
    {
     "data": {
      "text/html": [
       "<div>\n",
       "<style scoped>\n",
       "    .dataframe tbody tr th:only-of-type {\n",
       "        vertical-align: middle;\n",
       "    }\n",
       "\n",
       "    .dataframe tbody tr th {\n",
       "        vertical-align: top;\n",
       "    }\n",
       "\n",
       "    .dataframe thead th {\n",
       "        text-align: right;\n",
       "    }\n",
       "</style>\n",
       "<table border=\"1\" class=\"dataframe\">\n",
       "  <thead>\n",
       "    <tr style=\"text-align: right;\">\n",
       "      <th></th>\n",
       "      <th>dropoff_location_name</th>\n",
       "      <th>average_trips</th>\n",
       "    </tr>\n",
       "  </thead>\n",
       "  <tbody>\n",
       "    <tr>\n",
       "      <th>0</th>\n",
       "      <td>Loop</td>\n",
       "      <td>10727</td>\n",
       "    </tr>\n",
       "    <tr>\n",
       "      <th>1</th>\n",
       "      <td>River North</td>\n",
       "      <td>9524</td>\n",
       "    </tr>\n",
       "    <tr>\n",
       "      <th>2</th>\n",
       "      <td>Streeterville</td>\n",
       "      <td>6665</td>\n",
       "    </tr>\n",
       "    <tr>\n",
       "      <th>3</th>\n",
       "      <td>West Loop</td>\n",
       "      <td>5164</td>\n",
       "    </tr>\n",
       "    <tr>\n",
       "      <th>4</th>\n",
       "      <td>O'Hare</td>\n",
       "      <td>2547</td>\n",
       "    </tr>\n",
       "    <tr>\n",
       "      <th>5</th>\n",
       "      <td>Lake View</td>\n",
       "      <td>2421</td>\n",
       "    </tr>\n",
       "    <tr>\n",
       "      <th>6</th>\n",
       "      <td>Grant Park</td>\n",
       "      <td>2069</td>\n",
       "    </tr>\n",
       "    <tr>\n",
       "      <th>7</th>\n",
       "      <td>Museum Campus</td>\n",
       "      <td>1510</td>\n",
       "    </tr>\n",
       "    <tr>\n",
       "      <th>8</th>\n",
       "      <td>Gold Coast</td>\n",
       "      <td>1364</td>\n",
       "    </tr>\n",
       "    <tr>\n",
       "      <th>9</th>\n",
       "      <td>Sheffield &amp; DePaul</td>\n",
       "      <td>1260</td>\n",
       "    </tr>\n",
       "  </tbody>\n",
       "</table>\n",
       "</div>"
      ],
      "text/plain": [
       "  dropoff_location_name  average_trips\n",
       "0                  Loop          10727\n",
       "1           River North           9524\n",
       "2         Streeterville           6665\n",
       "3             West Loop           5164\n",
       "4                O'Hare           2547\n",
       "5             Lake View           2421\n",
       "6            Grant Park           2069\n",
       "7         Museum Campus           1510\n",
       "8            Gold Coast           1364\n",
       "9    Sheffield & DePaul           1260"
      ]
     },
     "execution_count": 26,
     "metadata": {},
     "output_type": "execute_result"
    }
   ],
   "source": [
    "top_10_nebs = dropoff_data.sort_values(by = 'average_trips', ascending = False).head(10)\n",
    "top_10_nebs"
   ]
  },
  {
   "cell_type": "markdown",
   "metadata": {},
   "source": [
    "The table above displays the top 10 neighborhoods in terms of drop-offs. We can see that the `Loop` and `River North` neighborhoods stand out above the rest as the most visited neighborhoods. Let's take a look at some distributions similar to how we broke down the trips by company, we will now break down by neighborhood."
   ]
  },
  {
   "cell_type": "code",
   "execution_count": 27,
   "metadata": {},
   "outputs": [
    {
     "data": {
      "text/html": [
       "<div>\n",
       "<style scoped>\n",
       "    .dataframe tbody tr th:only-of-type {\n",
       "        vertical-align: middle;\n",
       "    }\n",
       "\n",
       "    .dataframe tbody tr th {\n",
       "        vertical-align: top;\n",
       "    }\n",
       "\n",
       "    .dataframe thead th {\n",
       "        text-align: right;\n",
       "    }\n",
       "</style>\n",
       "<table border=\"1\" class=\"dataframe\">\n",
       "  <thead>\n",
       "    <tr style=\"text-align: right;\">\n",
       "      <th></th>\n",
       "      <th>dropoff_location_name</th>\n",
       "      <th>average_trips</th>\n",
       "      <th>rank_category</th>\n",
       "    </tr>\n",
       "  </thead>\n",
       "  <tbody>\n",
       "    <tr>\n",
       "      <th>0</th>\n",
       "      <td>Loop</td>\n",
       "      <td>10727</td>\n",
       "      <td>Top 10</td>\n",
       "    </tr>\n",
       "    <tr>\n",
       "      <th>1</th>\n",
       "      <td>River North</td>\n",
       "      <td>9524</td>\n",
       "      <td>Top 10</td>\n",
       "    </tr>\n",
       "    <tr>\n",
       "      <th>2</th>\n",
       "      <td>Streeterville</td>\n",
       "      <td>6665</td>\n",
       "      <td>Top 10</td>\n",
       "    </tr>\n",
       "    <tr>\n",
       "      <th>3</th>\n",
       "      <td>West Loop</td>\n",
       "      <td>5164</td>\n",
       "      <td>Top 10</td>\n",
       "    </tr>\n",
       "    <tr>\n",
       "      <th>4</th>\n",
       "      <td>O'Hare</td>\n",
       "      <td>2547</td>\n",
       "      <td>Top 10</td>\n",
       "    </tr>\n",
       "  </tbody>\n",
       "</table>\n",
       "</div>"
      ],
      "text/plain": [
       "  dropoff_location_name  average_trips rank_category\n",
       "0                  Loop          10727        Top 10\n",
       "1           River North           9524        Top 10\n",
       "2         Streeterville           6665        Top 10\n",
       "3             West Loop           5164        Top 10\n",
       "4                O'Hare           2547        Top 10"
      ]
     },
     "execution_count": 27,
     "metadata": {},
     "output_type": "execute_result"
    }
   ],
   "source": [
    "# Apply the rank function\n",
    "ranked_nebs = assign_ranks(dropoff_data, 'average_trips')\n",
    "ranked_nebs.head()"
   ]
  },
  {
   "cell_type": "code",
   "execution_count": 28,
   "metadata": {},
   "outputs": [
    {
     "data": {
      "text/html": [
       "<div>\n",
       "<style scoped>\n",
       "    .dataframe tbody tr th:only-of-type {\n",
       "        vertical-align: middle;\n",
       "    }\n",
       "\n",
       "    .dataframe tbody tr th {\n",
       "        vertical-align: top;\n",
       "    }\n",
       "\n",
       "    .dataframe thead th {\n",
       "        text-align: right;\n",
       "    }\n",
       "</style>\n",
       "<table border=\"1\" class=\"dataframe\">\n",
       "  <thead>\n",
       "    <tr style=\"text-align: right;\">\n",
       "      <th></th>\n",
       "      <th>dropoff_location_name</th>\n",
       "      <th>average_trips</th>\n",
       "      <th>rank_category</th>\n",
       "    </tr>\n",
       "  </thead>\n",
       "  <tbody>\n",
       "    <tr>\n",
       "      <th>89</th>\n",
       "      <td>Mount Greenwood</td>\n",
       "      <td>3</td>\n",
       "      <td>Others</td>\n",
       "    </tr>\n",
       "    <tr>\n",
       "      <th>90</th>\n",
       "      <td>Hegewisch</td>\n",
       "      <td>3</td>\n",
       "      <td>Others</td>\n",
       "    </tr>\n",
       "    <tr>\n",
       "      <th>91</th>\n",
       "      <td>Burnside</td>\n",
       "      <td>2</td>\n",
       "      <td>Others</td>\n",
       "    </tr>\n",
       "    <tr>\n",
       "      <th>92</th>\n",
       "      <td>East Side</td>\n",
       "      <td>2</td>\n",
       "      <td>Others</td>\n",
       "    </tr>\n",
       "    <tr>\n",
       "      <th>93</th>\n",
       "      <td>Riverdale</td>\n",
       "      <td>2</td>\n",
       "      <td>Others</td>\n",
       "    </tr>\n",
       "  </tbody>\n",
       "</table>\n",
       "</div>"
      ],
      "text/plain": [
       "   dropoff_location_name  average_trips rank_category\n",
       "89       Mount Greenwood              3        Others\n",
       "90             Hegewisch              3        Others\n",
       "91              Burnside              2        Others\n",
       "92             East Side              2        Others\n",
       "93             Riverdale              2        Others"
      ]
     },
     "execution_count": 28,
     "metadata": {},
     "output_type": "execute_result"
    }
   ],
   "source": [
    "ranked_nebs.tail()"
   ]
  },
  {
   "cell_type": "code",
   "execution_count": 29,
   "metadata": {},
   "outputs": [
    {
     "data": {
      "image/png": "[encoded data removed]",
      "text/plain": [
       "<Figure size 1400x600 with 2 Axes>"
      ]
     },
     "metadata": {},
     "output_type": "display_data"
    }
   ],
   "source": [
    "# Plot subplot with pie chart and bar chart with function\n",
    "plot_charts(ranked_nebs, 'average_trips', 'Percentages of Rides in Top Neighborhoods',\n",
    "            'dropoff_location_name', 'Top 10 Neighborhoods', 'Number of Drop-offs')"
   ]
  },
  {
   "cell_type": "markdown",
   "metadata": {},
   "source": [
    "According to the pie chart, the top 10 neighborhoods contained 76.69% of all drop-offs. The bar chart is a summary of the top 10 companies; we can see that `Loop` and `River North` are the two most popular drop-off locations. After that, `Streeterville` and `West Loop` are still twice as popular as those below them. "
   ]
  },
  {
   "cell_type": "markdown",
   "metadata": {},
   "source": [
    "[Back to Contents](#contents)"
   ]
  },
  {
   "cell_type": "markdown",
   "metadata": {},
   "source": [
    "## Hypothesis Testing ##\n",
    "<a id='h_testing'></a>\n",
    "\n",
    "Our objective is to test the following hypothesis: \n",
    " - **The average duration of rides from the Loop to O'Hare International Airport changes on rainy Saturdays**"
   ]
  },
  {
   "cell_type": "code",
   "execution_count": 30,
   "metadata": {},
   "outputs": [],
   "source": [
    "# Use hypothesis function for ease of hypothesis testing (from Project 5 w/ slight mods) \n",
    "def calc_stats(df, group, group_items, variable, show_stats=True, \n",
    "               show_hist = False, run_levene=False, run_test=False, equal_var=True, alpha = 0.05):\n",
    "    \"\"\"\n",
    "    This function will calculate the mean, variance, and standard deviation of a variable for two groups.\n",
    "    \n",
    "    Parameters:\n",
    "    df (DataFrame)     - The dataframe containing the data to perform calculations with\n",
    "    group (str)        - The column you want to group the data by\n",
    "    group_items (list) - The list of items you want to perform the testing between: should be two variables for our purposes\n",
    "    variable (str)     - The column name representing the variable for which to calculate the statistics\n",
    "    show_stats (bool)  - Lets the function know whether you just want statistics or if false, \n",
    "                            then it will produce graphs for the two variables\n",
    "    show_hist (bool)   - Set to true if you want to display histograms between two groups\n",
    "    run_levene (bool)  - Set to true to run Levene Test on variances\n",
    "    equal_var (bool)   - Set to false if variances are not equal from Levene Test\n",
    "    alpha\n",
    "    \n",
    "    This function will return a series of strings that contains the 3 statistics for each group\n",
    "    \"\"\"\n",
    "    \n",
    "    # Filter the data for each group and drop any missing values; creates series objects\n",
    "    data_0 = df[df[group] == group_items[0]][variable].dropna()\n",
    "    data_1 = df[df[group] == group_items[1]][variable].dropna()\n",
    "    \n",
    "    # Calculate statistics for the first group\n",
    "    count_0 = data_0.count()\n",
    "    mean_0 = np.mean(data_0)\n",
    "    var_0 = np.var(data_0, ddof=1) #ddof=1 is the sample variance\n",
    "    std_0 = np.std(data_0, ddof=1)\n",
    "    \n",
    "    # Calculate statistics for the second group\n",
    "    count_1 = data_1.count()\n",
    "    mean_1 = np.mean(data_1)\n",
    "    var_1 = np.var(data_1, ddof=1)\n",
    "    std_1 = np.std(data_1, ddof=1)\n",
    "    \n",
    "    if show_stats: # get stats with no graphs\n",
    "        \n",
    "        #print the results\n",
    "        print(f\"Number of {variable} in {group_items[0]}: {count_0}\")\n",
    "        print(f\"Mean of {variable} in {group_items[0]}: {mean_0:.2f}\")\n",
    "        print(f\"Variance of {variable} in {group_items[0]}: {var_0:.4f}\")\n",
    "        print(f\"Standard deviation of {variable} in {group_items[0]}: {std_0:.4f}\")\n",
    "        print(\"_\"*53, \"\\n\")\n",
    "        print(f\"Number of {variable} in {group_items[1]}: {count_1}\")\n",
    "        print(f\"Mean of {variable} in {group_items[1]}: {mean_1:.2f}\")\n",
    "        print(f\"Variance of {variable} in {group_items[1]}: {var_1:.4f}\")\n",
    "        print(f\"Standard deviation of {variable} in {group_items[1]}: {std_1:.4f}\")\n",
    "        print(\"_\"*53, \"\\n\")\n",
    "        print(f\"The ratio of the two variances is {var_0 / var_1:.4f}\")\n",
    "\n",
    "    # This section of the function will produce two histograms for the two groups to confirm normal distributions\n",
    "    # as well as test if variances are equal via Levene's Test\n",
    "    if show_hist: \n",
    "        \n",
    "        # Set up figure\n",
    "        sns.set_style('whitegrid')\n",
    "        fig, (ax1, ax2) = plt.subplots(1, 2, figsize = (12,6))\n",
    "        \n",
    "        # Plot the histograms\n",
    "        sns.histplot(data = data_0, bins = rices_rule(count_0), \n",
    "                     kde = True, color = 'skyblue', ax = ax1)\n",
    "        \n",
    "        sns.histplot(data = data_1, bins = rices_rule(count_1), \n",
    "                     kde = True, color = 'lightcoral', ax = ax2)\n",
    "        \n",
    "        # Establish parameters\n",
    "        fig.suptitle(\"Distribution of the Two Samples\", fontsize = 15, fontweight = 'bold')\n",
    "        \n",
    "        ax1.set_title(f\"Sample 1: {group_items[0]} Weather Conditions\", fontsize = 12, fontweight = 'bold')\n",
    "        ax1.set_xlabel(\"Duration of Ride (sec)\", fontweight = 'bold')\n",
    "        ax1.set_ylabel(f\"Number of Rides\", fontweight = 'bold')\n",
    "        \n",
    "        ax2.set_title(f\"Sample 2: {group_items[1]} Weather Conditions\", fontsize = 12, fontweight = 'bold')\n",
    "        ax2.set_xlabel(\"Duration of Ride (sec)\", fontweight = 'bold')\n",
    "        ax2.set_ylabel(f\"Number of Rides\", fontweight = 'bold')\n",
    "        \n",
    "        plt.show()\n",
    "        \n",
    "    if run_levene: # Levene Test\n",
    "        \n",
    "        levene_result = st.levene(data_0, data_1, center = 'median')\n",
    "        \n",
    "        # Show levene result\n",
    "        print(\"\\n\\033[1mLevene Test for Equal Variances:\\033[0m\")\n",
    "        print(\"Null hypothesis: Variances between these two samples is the same.\")\n",
    "        print(\"Significance level: 0.05\")\n",
    "        print()\n",
    "        print(\"p-value: \", levene_result.pvalue)\n",
    "        \n",
    "        if levene_result.pvalue < 0.05:\n",
    "            print(\"We reject the null hypothesis. We cannot assume the variances are equal.\\n\")\n",
    "        else:\n",
    "            print(\"We failed to reject the null hypothesis. We can assume the variances are the same.\\n\")\n",
    "    \n",
    "    if run_test: #t-test\n",
    "        t_result = st.ttest_ind(data_0, data_1, equal_var = equal_var)\n",
    "        print(\"\\n\\033[1mPerforming t-test:\\033[0m\")\n",
    "        print('p-value', t_result.pvalue)\n",
    "        \n",
    "        if t_result.pvalue < alpha:\n",
    "            print(\"We reject the null hypothesis.\\n\")\n",
    "        else:\n",
    "            print(\"We fail to reject the null hypothesis.\\n\")"
   ]
  },
  {
   "cell_type": "code",
   "execution_count": 31,
   "metadata": {},
   "outputs": [],
   "source": [
    "def rices_rule(n: int):\n",
    "    \"\"\"\n",
    "    Calculates the number of bins to be used in a histogram based on Rice's Rule.\n",
    "    \n",
    "    Parameters:\n",
    "    n (int): The number of data points.\n",
    "    \n",
    "    Returns:\n",
    "    int: The number of bins.\n",
    "    \"\"\"\n",
    "    return int(np.ceil(2 * n**(1/3)))"
   ]
  },
  {
   "cell_type": "code",
   "execution_count": 32,
   "metadata": {},
   "outputs": [
    {
     "name": "stdout",
     "output_type": "stream",
     "text": [
      "Number of duration_seconds in Good: 880\n",
      "Mean of duration_seconds in Good: 2017.31\n",
      "Variance of duration_seconds in Good: 546902.4846\n",
      "Standard deviation of duration_seconds in Good: 739.5286\n",
      "_____________________________________________________ \n",
      "\n",
      "Number of duration_seconds in Bad: 178\n",
      "Mean of duration_seconds in Bad: 2449.08\n",
      "Variance of duration_seconds in Bad: 482848.6878\n",
      "Standard deviation of duration_seconds in Bad: 694.8731\n",
      "_____________________________________________________ \n",
      "\n",
      "The ratio of the two variances is 1.1327\n"
     ]
    }
   ],
   "source": [
    "calc_stats(trip_data, 'weather_conditions', ['Good', 'Bad'], 'duration_seconds')"
   ]
  },
  {
   "cell_type": "markdown",
   "metadata": {},
   "source": [
    "Let the population mean of duration of rides for `Good` weather be $\\mu_1$.\n",
    "\n",
    "Let the population mean of duration of rides for `bad` weather be $\\mu_2$.\n",
    "\n",
    "Let the null hypothesis be $H_0$.\n",
    "\n",
    "Let the alternate hypothesis be $H_1$\n",
    "\n",
    "**Sample 1: Good Weather**\n",
    "- Sample size: $n_1$ = 880\n",
    "- Sample mean $\\bar{x_1}$ = 2017.31 seconds\n",
    "- Sample standard deviation $s_1$ =m 739.5286 seconds\n",
    "\n",
    "**Sample 2: Bad Weather**\n",
    "- Sample size: $n_2$ = 178\n",
    "- Sample mean $\\bar{x_2}$ = 2449.08 seconds\n",
    "- Sample standard deviation $s_2$ = 694.8731 seconds\n",
    "\n",
    "$H_0$ : $\\mu_1$ = $\\mu_2$\n",
    "\n",
    "$H_1$ : $\\mu_1 \\neq \\mu_2$\n",
    "\n",
    "The two samples are independent and we are testing if their means differ, so we will use a two-sample t-test. \n",
    "\n",
    "In order to perform a two-sample t-test, we assume that both samples follow a normal distribution - a histogram will be plotted for each sample to confirm. \n",
    "\n",
    "The ratio of the sample variances is 1.1327, which is close to 1, so we can assume that their variances are equal, but we will perform a Levene test to confirm. \n",
    "\n",
    "Performing this test, we will use a significance level of 0.05\n",
    "\n",
    "$\\alpha$ = 0.05"
   ]
  },
  {
   "cell_type": "code",
   "execution_count": 33,
   "metadata": {},
   "outputs": [
    {
     "data": {
      "image/png": "[encoded data removed]",
      "text/plain": [
       "<Figure size 1200x600 with 2 Axes>"
      ]
     },
     "metadata": {},
     "output_type": "display_data"
    }
   ],
   "source": [
    "# Plot histograms using automation\n",
    "calc_stats(trip_data, 'weather_conditions', ['Good', 'Bad'], 'duration_seconds',\n",
    "           show_stats = False,\n",
    "           show_hist = True)"
   ]
  },
  {
   "cell_type": "markdown",
   "metadata": {},
   "source": [
    "These two distributions do not appear inititally to be perfectly normal, the `good weather conditions` more so than the `bad weather conditions`. However, with a larger sample size of more than 30, and applying the central limit theorem, the sample mean distribution tendds to be normal, and we can continue with the t-test. However, in future scenarios, or if the distributions were more wildly non-normal, some additional tests may need to be ran for normality, but for the purposes of this project, let's assume normality based on these histograms. "
   ]
  },
  {
   "cell_type": "code",
   "execution_count": 34,
   "metadata": {},
   "outputs": [
    {
     "name": "stdout",
     "output_type": "stream",
     "text": [
      "\n",
      "\u001b[1mLevene Test for Equal Variances:\u001b[0m\n",
      "Null hypothesis: Variances between these two samples is the same.\n",
      "Significance level: 0.05\n",
      "\n",
      "p-value:  0.4248043185773904\n",
      "We failed to reject the null hypothesis. We can assume the variances are the same.\n",
      "\n"
     ]
    }
   ],
   "source": [
    "# Run levene test\n",
    "calc_stats(trip_data, 'weather_conditions', ['Good', 'Bad'], 'duration_seconds',\n",
    "           show_stats = False,\n",
    "           show_hist = False,\n",
    "           run_levene = True)"
   ]
  },
  {
   "cell_type": "code",
   "execution_count": 35,
   "metadata": {},
   "outputs": [
    {
     "name": "stdout",
     "output_type": "stream",
     "text": [
      "\n",
      "\u001b[1mPerforming t-test:\u001b[0m\n",
      "p-value 1.3603319763146637e-12\n",
      "We reject the null hypothesis.\n",
      "\n"
     ]
    }
   ],
   "source": [
    "# Run t-test\n",
    "calc_stats(trip_data, 'weather_conditions', ['Good', 'Bad'], 'duration_seconds',\n",
    "           show_stats = False,\n",
    "           show_hist = False,\n",
    "           run_levene = False,\n",
    "           run_test = True,\n",
    "           equal_var = True,\n",
    "           alpha = 0.05)"
   ]
  },
  {
   "cell_type": "markdown",
   "metadata": {},
   "source": [
    "Since the p-value is less than our significance level of 0.05, we reject the null hypothesis $H_0$. We have enough evidence to conclude that the ride durations during Good and Bad weather conditions are significantly different. While inititally upon reflecting on whether these two means would be different, I assume they wouldn't be, because I would think in a large city, overall, people need to get where they are going, regardless of the weather, so it's interesting to see that the opposite is true. That during bad weather conditions, while there are less ride data, there is a higher frequency of longer rides when comparing to good weather conditions. Interesting stuff!\n",
    "\n",
    "[Back to Contents](#contents)"
   ]
  },
  {
   "cell_type": "markdown",
   "metadata": {},
   "source": [
    "## Conclusion ##\n",
    "<a id='conclusion'></a>\n",
    "\n",
    "### Data Exploration and Cleaning ###\n",
    "By using available online weather information and the databases created in the sql portion of this project, we had sufficient data to conduct the relevant analysis and test the hypothesis. However, there were several issues that we addressed: \n",
    "- Rounded `average_trips` and changed to `int`\n",
    "- Converted `duration_seconds` to `int`\n",
    "- Converted `start_ts` to datetime\n",
    "- Investigated the 197 duplicate rows in `trip_data` and determined we did not have enough evidence to drop them.\n",
    "- Investigated the 0-second rides and found that there was a small percentage of rides with a duration less than 500 seconds, and so we removeed those. \n",
    "\n",
    "### Exploratory Analysis ### \n",
    "Summary of findings are:\n",
    "- The top 10 companies account for 72.3% of the total number of trips. The top company is `Flash Cab`.\n",
    "- The top 10 neighborhoods accounted for 76.7% of daily trips. The top four neighborhoods are `Loop`, `River North`, `Streeterville`, and `West Loop`.\n",
    "\n",
    "### Hypothesis Testing ###\n",
    "Hypothesis: The average duration of rides from the `Loop` to `O'Hare` International Airport changes on rainy Saturdays.\n",
    "\n",
    "$H_0$ : $\\mu_1$ = $\\mu_2$\n",
    "\n",
    "$H_1$ : $\\mu_1 \\neq \\mu_2$\n",
    "\n",
    "Significance level: $\\alpha$ = 0.05\n",
    "\n",
    "After conducting the test, we have the following result: \n",
    "\n",
    "**Since the p-value is less than our significance level, we reject the null hypothesis $H_0$. We have enough evidence to conclude that the durations of rides during the good and bad weather conditions are significantly different.** \n",
    "\n",
    "[Back to Contents](#contents)"
   ]
  }
 ],
 "metadata": {
  "ExecuteTimeLog": [
   {
    "duration": 5116,
    "start_time": "2024-07-13T19:01:01.725Z"
   },
   {
    "duration": 35,
    "start_time": "2024-07-13T20:40:27.364Z"
   },
   {
    "duration": 17,
    "start_time": "2024-07-13T20:40:49.520Z"
   },
   {
    "duration": 13,
    "start_time": "2024-07-13T20:40:59.807Z"
   },
   {
    "duration": 11,
    "start_time": "2024-07-13T20:41:07.392Z"
   },
   {
    "duration": 9,
    "start_time": "2024-07-13T20:42:20.356Z"
   },
   {
    "duration": 8,
    "start_time": "2024-07-13T20:42:55.872Z"
   },
   {
    "duration": 5,
    "start_time": "2024-07-13T20:44:14.679Z"
   },
   {
    "duration": 1257,
    "start_time": "2024-07-13T20:44:22.452Z"
   },
   {
    "duration": 7,
    "start_time": "2024-07-13T20:44:44.049Z"
   },
   {
    "duration": 6,
    "start_time": "2024-07-13T20:45:21.659Z"
   },
   {
    "duration": 10,
    "start_time": "2024-07-13T20:45:37.169Z"
   },
   {
    "duration": 6,
    "start_time": "2024-07-13T20:45:52.852Z"
   },
   {
    "duration": 6,
    "start_time": "2024-07-13T20:46:03.529Z"
   },
   {
    "duration": 6,
    "start_time": "2024-07-13T20:46:36.832Z"
   },
   {
    "duration": 25,
    "start_time": "2024-07-13T20:46:51.638Z"
   },
   {
    "duration": 25,
    "start_time": "2024-07-13T20:47:13.366Z"
   },
   {
    "duration": 27,
    "start_time": "2024-07-13T20:47:28.002Z"
   },
   {
    "duration": 27,
    "start_time": "2024-07-13T20:48:49.157Z"
   },
   {
    "duration": 28,
    "start_time": "2024-07-13T20:49:01.275Z"
   },
   {
    "duration": 26,
    "start_time": "2024-07-13T20:49:21.180Z"
   },
   {
    "duration": 27,
    "start_time": "2024-07-13T20:49:37.274Z"
   },
   {
    "duration": 8,
    "start_time": "2024-07-13T20:50:40.675Z"
   },
   {
    "duration": 25,
    "start_time": "2024-07-13T20:51:03.407Z"
   },
   {
    "duration": 6,
    "start_time": "2024-07-13T20:51:31.732Z"
   },
   {
    "duration": 8,
    "start_time": "2024-07-13T20:51:54.406Z"
   },
   {
    "duration": 5,
    "start_time": "2024-07-13T20:53:19.299Z"
   },
   {
    "duration": 6,
    "start_time": "2024-07-13T20:53:53.215Z"
   },
   {
    "duration": 6,
    "start_time": "2024-07-13T20:54:33.484Z"
   },
   {
    "duration": 23,
    "start_time": "2024-07-13T20:56:31.244Z"
   },
   {
    "duration": 8,
    "start_time": "2024-07-13T20:56:39.520Z"
   },
   {
    "duration": 16,
    "start_time": "2024-07-13T20:56:54.549Z"
   },
   {
    "duration": 9,
    "start_time": "2024-07-13T21:04:26.546Z"
   },
   {
    "duration": 7,
    "start_time": "2024-07-13T21:04:36.677Z"
   },
   {
    "duration": 24,
    "start_time": "2024-07-13T21:04:47.780Z"
   },
   {
    "duration": 37,
    "start_time": "2024-07-13T21:04:53.964Z"
   },
   {
    "duration": 6,
    "start_time": "2024-07-13T21:05:55.080Z"
   },
   {
    "duration": 34,
    "start_time": "2024-07-13T21:05:59.761Z"
   },
   {
    "duration": 6,
    "start_time": "2024-07-13T21:06:25.949Z"
   },
   {
    "duration": 39,
    "start_time": "2024-07-13T21:06:29.933Z"
   },
   {
    "duration": 6,
    "start_time": "2024-07-13T21:07:13.154Z"
   },
   {
    "duration": 41,
    "start_time": "2024-07-13T21:07:16.314Z"
   },
   {
    "duration": 6,
    "start_time": "2024-07-13T21:07:49.433Z"
   },
   {
    "duration": 34,
    "start_time": "2024-07-13T21:07:52.183Z"
   },
   {
    "duration": 19,
    "start_time": "2024-07-13T21:10:51.742Z"
   },
   {
    "duration": 6,
    "start_time": "2024-07-13T21:12:04.305Z"
   },
   {
    "duration": 23,
    "start_time": "2024-07-13T21:12:08.172Z"
   },
   {
    "duration": 7,
    "start_time": "2024-07-13T21:12:22.564Z"
   },
   {
    "duration": 24,
    "start_time": "2024-07-13T21:12:29.101Z"
   },
   {
    "duration": 6,
    "start_time": "2024-07-13T21:13:14.224Z"
   },
   {
    "duration": 24,
    "start_time": "2024-07-13T21:13:20.036Z"
   },
   {
    "duration": 10,
    "start_time": "2024-07-13T21:15:44.270Z"
   },
   {
    "duration": 5,
    "start_time": "2024-07-13T21:16:00.273Z"
   },
   {
    "duration": 23,
    "start_time": "2024-07-13T21:16:03.443Z"
   },
   {
    "duration": 8,
    "start_time": "2024-07-13T21:16:24.784Z"
   },
   {
    "duration": 23,
    "start_time": "2024-07-13T21:16:49.060Z"
   },
   {
    "duration": 5,
    "start_time": "2024-07-13T21:16:58.470Z"
   },
   {
    "duration": 6,
    "start_time": "2024-07-13T21:18:04.198Z"
   },
   {
    "duration": 24,
    "start_time": "2024-07-13T21:18:07.527Z"
   },
   {
    "duration": 6,
    "start_time": "2024-07-13T21:18:31.045Z"
   },
   {
    "duration": 24,
    "start_time": "2024-07-13T21:18:34.224Z"
   },
   {
    "duration": 6,
    "start_time": "2024-07-13T21:18:49.773Z"
   },
   {
    "duration": 27,
    "start_time": "2024-07-13T21:18:52.419Z"
   },
   {
    "duration": 6,
    "start_time": "2024-07-13T21:19:08.099Z"
   },
   {
    "duration": 26,
    "start_time": "2024-07-13T21:19:10.403Z"
   },
   {
    "duration": 26,
    "start_time": "2024-07-13T21:21:47.221Z"
   },
   {
    "duration": 5,
    "start_time": "2024-07-13T21:39:46.470Z"
   },
   {
    "duration": 7,
    "start_time": "2024-07-13T21:39:59.633Z"
   },
   {
    "duration": 10,
    "start_time": "2024-07-13T21:41:06.174Z"
   },
   {
    "duration": 24,
    "start_time": "2024-07-13T21:41:36.787Z"
   },
   {
    "duration": 31,
    "start_time": "2024-07-13T21:46:21.172Z"
   },
   {
    "duration": 30,
    "start_time": "2024-07-13T21:46:40.277Z"
   },
   {
    "duration": 29,
    "start_time": "2024-07-13T21:58:23.053Z"
   },
   {
    "duration": 8,
    "start_time": "2024-07-13T22:03:36.318Z"
   },
   {
    "duration": 23,
    "start_time": "2024-07-13T22:03:39.504Z"
   },
   {
    "duration": 14,
    "start_time": "2024-07-13T22:05:41.889Z"
   },
   {
    "duration": 11,
    "start_time": "2024-07-13T22:07:51.740Z"
   },
   {
    "duration": 17,
    "start_time": "2024-07-13T22:08:25.716Z"
   },
   {
    "duration": 14,
    "start_time": "2024-07-13T22:08:33.419Z"
   },
   {
    "duration": 11,
    "start_time": "2024-07-13T22:08:39.794Z"
   },
   {
    "duration": 19,
    "start_time": "2024-07-13T22:11:28.894Z"
   },
   {
    "duration": 12,
    "start_time": "2024-07-13T22:11:43.254Z"
   },
   {
    "duration": 23,
    "start_time": "2024-07-13T22:12:39.277Z"
   },
   {
    "duration": 14,
    "start_time": "2024-07-13T22:15:01.298Z"
   },
   {
    "duration": 19,
    "start_time": "2024-07-13T22:18:51.950Z"
   },
   {
    "duration": 1107,
    "start_time": "2024-07-13T22:19:07.216Z"
   },
   {
    "duration": 18,
    "start_time": "2024-07-13T22:19:13.824Z"
   },
   {
    "duration": 63,
    "start_time": "2024-07-13T22:19:51.932Z"
   },
   {
    "duration": 14,
    "start_time": "2024-07-13T22:20:00.489Z"
   },
   {
    "duration": 16,
    "start_time": "2024-07-13T22:20:12.721Z"
   },
   {
    "duration": 16,
    "start_time": "2024-07-13T22:20:36.720Z"
   },
   {
    "duration": 14,
    "start_time": "2024-07-13T22:20:39.630Z"
   },
   {
    "duration": 14,
    "start_time": "2024-07-13T22:21:12.550Z"
   },
   {
    "duration": 12,
    "start_time": "2024-07-13T22:21:32.998Z"
   },
   {
    "duration": 14,
    "start_time": "2024-07-13T22:22:01.413Z"
   },
   {
    "duration": 15,
    "start_time": "2024-07-13T22:22:43.971Z"
   },
   {
    "duration": 15,
    "start_time": "2024-07-13T22:24:40.390Z"
   },
   {
    "duration": 28,
    "start_time": "2024-07-13T22:33:07.936Z"
   },
   {
    "duration": 24,
    "start_time": "2024-07-13T22:33:13.715Z"
   },
   {
    "duration": 8,
    "start_time": "2024-07-13T22:33:22.200Z"
   },
   {
    "duration": 7,
    "start_time": "2024-07-13T22:33:28.377Z"
   },
   {
    "duration": 28,
    "start_time": "2024-07-13T22:41:48.417Z"
   },
   {
    "duration": 365,
    "start_time": "2024-07-13T22:41:52.934Z"
   },
   {
    "duration": 497,
    "start_time": "2024-07-13T22:42:17.637Z"
   },
   {
    "duration": 286,
    "start_time": "2024-07-13T22:42:30.168Z"
   },
   {
    "duration": 9,
    "start_time": "2024-07-13T22:43:04.817Z"
   },
   {
    "duration": 311,
    "start_time": "2024-07-13T22:43:20.567Z"
   },
   {
    "duration": 341,
    "start_time": "2024-07-13T22:44:28.617Z"
   },
   {
    "duration": 305,
    "start_time": "2024-07-13T22:44:53.842Z"
   },
   {
    "duration": 282,
    "start_time": "2024-07-13T22:45:21.250Z"
   },
   {
    "duration": 312,
    "start_time": "2024-07-13T22:46:44.618Z"
   },
   {
    "duration": 295,
    "start_time": "2024-07-13T22:47:05.356Z"
   },
   {
    "duration": 323,
    "start_time": "2024-07-13T22:50:10.026Z"
   },
   {
    "duration": 314,
    "start_time": "2024-07-13T22:50:26.054Z"
   },
   {
    "duration": 329,
    "start_time": "2024-07-13T22:50:35.600Z"
   },
   {
    "duration": 13,
    "start_time": "2024-07-13T22:51:50.993Z"
   },
   {
    "duration": 6,
    "start_time": "2024-07-13T22:52:07.766Z"
   },
   {
    "duration": 19,
    "start_time": "2024-07-13T22:52:42.582Z"
   },
   {
    "duration": 19,
    "start_time": "2024-07-13T22:52:58.373Z"
   },
   {
    "duration": 315,
    "start_time": "2024-07-13T22:55:57.858Z"
   },
   {
    "duration": 312,
    "start_time": "2024-07-13T22:56:08.527Z"
   },
   {
    "duration": 301,
    "start_time": "2024-07-13T22:56:17.573Z"
   },
   {
    "duration": 16,
    "start_time": "2024-07-13T22:56:28.778Z"
   },
   {
    "duration": 12,
    "start_time": "2024-07-13T22:58:44.611Z"
   },
   {
    "duration": 27,
    "start_time": "2024-07-13T22:58:51.208Z"
   },
   {
    "duration": 24,
    "start_time": "2024-07-13T22:59:04.670Z"
   },
   {
    "duration": 17,
    "start_time": "2024-07-13T22:59:10.441Z"
   },
   {
    "duration": 316,
    "start_time": "2024-07-13T22:59:39.426Z"
   },
   {
    "duration": 316,
    "start_time": "2024-07-13T22:59:44.462Z"
   },
   {
    "duration": 292,
    "start_time": "2024-07-13T22:59:49.098Z"
   },
   {
    "duration": 285,
    "start_time": "2024-07-13T23:00:03.130Z"
   },
   {
    "duration": 304,
    "start_time": "2024-07-13T23:00:07.554Z"
   },
   {
    "duration": 306,
    "start_time": "2024-07-13T23:00:17.758Z"
   },
   {
    "duration": 300,
    "start_time": "2024-07-13T23:00:40.941Z"
   },
   {
    "duration": 5,
    "start_time": "2024-07-13T23:02:23.797Z"
   },
   {
    "duration": 5,
    "start_time": "2024-07-13T23:04:42.538Z"
   },
   {
    "duration": 6,
    "start_time": "2024-07-13T23:05:09.476Z"
   },
   {
    "duration": 12,
    "start_time": "2024-07-13T23:06:48.370Z"
   },
   {
    "duration": 30,
    "start_time": "2024-07-13T23:07:05.235Z"
   },
   {
    "duration": 936,
    "start_time": "2024-07-13T23:07:34.537Z"
   },
   {
    "duration": 11,
    "start_time": "2024-07-13T23:07:44.522Z"
   },
   {
    "duration": 6,
    "start_time": "2024-07-13T23:09:03.554Z"
   },
   {
    "duration": 7,
    "start_time": "2024-07-13T23:09:18.305Z"
   },
   {
    "duration": 9,
    "start_time": "2024-07-13T23:21:23.830Z"
   },
   {
    "duration": 13,
    "start_time": "2024-07-13T23:21:44.705Z"
   },
   {
    "duration": 794,
    "start_time": "2024-07-13T23:23:14.054Z"
   },
   {
    "duration": 27,
    "start_time": "2024-07-13T23:23:19.039Z"
   },
   {
    "duration": 12,
    "start_time": "2024-07-13T23:23:48.952Z"
   },
   {
    "duration": 315,
    "start_time": "2024-07-14T01:13:58.259Z"
   },
   {
    "duration": 5112,
    "start_time": "2024-07-14T01:14:04.222Z"
   },
   {
    "duration": 25,
    "start_time": "2024-07-14T01:14:09.338Z"
   },
   {
    "duration": 8,
    "start_time": "2024-07-14T01:14:09.365Z"
   },
   {
    "duration": 25,
    "start_time": "2024-07-14T01:14:09.378Z"
   },
   {
    "duration": 46,
    "start_time": "2024-07-14T01:14:09.406Z"
   },
   {
    "duration": 28,
    "start_time": "2024-07-14T01:14:09.457Z"
   },
   {
    "duration": 9,
    "start_time": "2024-07-14T01:14:09.487Z"
   },
   {
    "duration": 54,
    "start_time": "2024-07-14T01:14:09.499Z"
   },
   {
    "duration": 13,
    "start_time": "2024-07-14T01:14:09.555Z"
   },
   {
    "duration": 12,
    "start_time": "2024-07-14T01:14:09.573Z"
   },
   {
    "duration": 55,
    "start_time": "2024-07-14T01:14:09.587Z"
   },
   {
    "duration": 16,
    "start_time": "2024-07-14T01:14:09.646Z"
   },
   {
    "duration": 12,
    "start_time": "2024-07-14T01:14:09.666Z"
   },
   {
    "duration": 350,
    "start_time": "2024-07-14T01:14:09.681Z"
   },
   {
    "duration": 15,
    "start_time": "2024-07-14T01:14:10.034Z"
   },
   {
    "duration": 8,
    "start_time": "2024-07-14T01:14:10.052Z"
   },
   {
    "duration": 10,
    "start_time": "2024-07-14T01:14:10.063Z"
   },
   {
    "duration": 957,
    "start_time": "2024-07-14T01:14:10.076Z"
   },
   {
    "duration": 0,
    "start_time": "2024-07-14T01:14:11.036Z"
   },
   {
    "duration": 6,
    "start_time": "2024-07-14T01:14:36.583Z"
   },
   {
    "duration": 210,
    "start_time": "2024-07-14T01:16:45.154Z"
   },
   {
    "duration": 226,
    "start_time": "2024-07-14T01:17:18.024Z"
   },
   {
    "duration": 221,
    "start_time": "2024-07-14T01:17:31.487Z"
   },
   {
    "duration": 229,
    "start_time": "2024-07-14T01:17:39.356Z"
   },
   {
    "duration": 308,
    "start_time": "2024-07-14T01:20:24.787Z"
   },
   {
    "duration": 11,
    "start_time": "2024-07-14T01:21:21.704Z"
   },
   {
    "duration": 9,
    "start_time": "2024-07-14T01:24:12.716Z"
   },
   {
    "duration": 240,
    "start_time": "2024-07-14T01:25:43.748Z"
   },
   {
    "duration": 235,
    "start_time": "2024-07-14T01:26:20.074Z"
   },
   {
    "duration": 461,
    "start_time": "2024-07-14T01:26:43.724Z"
   },
   {
    "duration": 334,
    "start_time": "2024-07-14T01:26:57.007Z"
   },
   {
    "duration": 273,
    "start_time": "2024-07-14T01:27:00.017Z"
   },
   {
    "duration": 290,
    "start_time": "2024-07-14T01:27:44.896Z"
   },
   {
    "duration": 279,
    "start_time": "2024-07-14T01:27:50.672Z"
   },
   {
    "duration": 284,
    "start_time": "2024-07-14T01:27:53.120Z"
   },
   {
    "duration": 283,
    "start_time": "2024-07-14T01:28:06.442Z"
   },
   {
    "duration": 446,
    "start_time": "2024-07-14T01:33:06.231Z"
   },
   {
    "duration": 319,
    "start_time": "2024-07-14T01:33:14.703Z"
   },
   {
    "duration": 16,
    "start_time": "2024-07-14T01:39:11.676Z"
   },
   {
    "duration": 10,
    "start_time": "2024-07-14T01:39:16.918Z"
   },
   {
    "duration": 10,
    "start_time": "2024-07-14T01:39:41.474Z"
   },
   {
    "duration": 4,
    "start_time": "2024-07-14T01:47:46.752Z"
   },
   {
    "duration": 8,
    "start_time": "2024-07-14T01:47:58.523Z"
   },
   {
    "duration": 5,
    "start_time": "2024-07-14T01:48:34.407Z"
   },
   {
    "duration": 50,
    "start_time": "2024-07-14T01:48:36.555Z"
   },
   {
    "duration": 4,
    "start_time": "2024-07-14T01:48:53.969Z"
   },
   {
    "duration": 9,
    "start_time": "2024-07-14T01:48:56.015Z"
   },
   {
    "duration": 7,
    "start_time": "2024-07-14T02:01:50.658Z"
   },
   {
    "duration": 7,
    "start_time": "2024-07-14T02:02:19.362Z"
   },
   {
    "duration": 22,
    "start_time": "2024-07-14T02:03:07.469Z"
   },
   {
    "duration": 11,
    "start_time": "2024-07-14T02:03:31.993Z"
   },
   {
    "duration": 26,
    "start_time": "2024-07-14T02:03:36.483Z"
   },
   {
    "duration": 18,
    "start_time": "2024-07-14T02:03:41.983Z"
   },
   {
    "duration": 15,
    "start_time": "2024-07-14T02:03:48.356Z"
   },
   {
    "duration": 15,
    "start_time": "2024-07-14T02:03:55.819Z"
   },
   {
    "duration": 18,
    "start_time": "2024-07-14T02:04:02.912Z"
   },
   {
    "duration": 11,
    "start_time": "2024-07-14T02:04:25.148Z"
   },
   {
    "duration": 15,
    "start_time": "2024-07-14T02:04:33.041Z"
   },
   {
    "duration": 27,
    "start_time": "2024-07-14T02:09:04.518Z"
   },
   {
    "duration": 8,
    "start_time": "2024-07-14T02:09:24.237Z"
   },
   {
    "duration": 168,
    "start_time": "2024-07-14T02:12:20.446Z"
   },
   {
    "duration": 112,
    "start_time": "2024-07-14T02:12:26.752Z"
   },
   {
    "duration": 7,
    "start_time": "2024-07-14T02:16:14.344Z"
   },
   {
    "duration": 143,
    "start_time": "2024-07-14T02:16:24.811Z"
   },
   {
    "duration": 6,
    "start_time": "2024-07-14T02:16:29.629Z"
   },
   {
    "duration": 114,
    "start_time": "2024-07-14T02:16:42.808Z"
   },
   {
    "duration": 243,
    "start_time": "2024-07-14T02:18:02.526Z"
   },
   {
    "duration": 124,
    "start_time": "2024-07-14T02:18:35.947Z"
   },
   {
    "duration": 114,
    "start_time": "2024-07-14T02:19:05.903Z"
   },
   {
    "duration": 131,
    "start_time": "2024-07-14T02:19:11.937Z"
   },
   {
    "duration": 1812,
    "start_time": "2024-07-14T02:29:59.951Z"
   },
   {
    "duration": 259,
    "start_time": "2024-07-14T02:30:14.166Z"
   },
   {
    "duration": 227,
    "start_time": "2024-07-14T02:30:21.766Z"
   },
   {
    "duration": 234,
    "start_time": "2024-07-14T02:30:34.172Z"
   },
   {
    "duration": 260,
    "start_time": "2024-07-14T02:30:41.616Z"
   },
   {
    "duration": 263,
    "start_time": "2024-07-14T02:31:38.513Z"
   },
   {
    "duration": 265,
    "start_time": "2024-07-14T02:31:43.040Z"
   },
   {
    "duration": 532,
    "start_time": "2024-07-14T02:36:20.501Z"
   },
   {
    "duration": 539,
    "start_time": "2024-07-14T02:36:37.203Z"
   },
   {
    "duration": 564,
    "start_time": "2024-07-14T02:36:44.507Z"
   },
   {
    "duration": 600,
    "start_time": "2024-07-14T02:37:06.348Z"
   },
   {
    "duration": 569,
    "start_time": "2024-07-14T02:37:22.906Z"
   },
   {
    "duration": 407,
    "start_time": "2024-07-14T02:37:30.650Z"
   },
   {
    "duration": 568,
    "start_time": "2024-07-14T02:37:33.897Z"
   },
   {
    "duration": 198,
    "start_time": "2024-07-14T02:42:43.183Z"
   },
   {
    "duration": 323,
    "start_time": "2024-07-14T02:42:53.764Z"
   },
   {
    "duration": 179,
    "start_time": "2024-07-14T02:42:57.986Z"
   },
   {
    "duration": 222,
    "start_time": "2024-07-14T02:43:04.045Z"
   },
   {
    "duration": 214,
    "start_time": "2024-07-14T02:43:09.709Z"
   },
   {
    "duration": 216,
    "start_time": "2024-07-14T02:43:13.121Z"
   },
   {
    "duration": 229,
    "start_time": "2024-07-14T02:44:37.728Z"
   },
   {
    "duration": 233,
    "start_time": "2024-07-14T02:45:00.815Z"
   },
   {
    "duration": 267,
    "start_time": "2024-07-14T02:45:25.057Z"
   },
   {
    "duration": 5,
    "start_time": "2024-07-14T02:49:48.117Z"
   },
   {
    "duration": 13,
    "start_time": "2024-07-14T02:49:57.455Z"
   },
   {
    "duration": 16,
    "start_time": "2024-07-14T02:50:03.957Z"
   },
   {
    "duration": 3,
    "start_time": "2024-07-14T02:52:13.121Z"
   },
   {
    "duration": 20,
    "start_time": "2024-07-14T02:52:36.781Z"
   },
   {
    "duration": 20,
    "start_time": "2024-07-14T02:52:42.718Z"
   },
   {
    "duration": 29,
    "start_time": "2024-07-14T02:53:10.129Z"
   },
   {
    "duration": 12,
    "start_time": "2024-07-14T02:53:19.837Z"
   },
   {
    "duration": 629,
    "start_time": "2024-07-14T02:57:29.473Z"
   },
   {
    "duration": 9,
    "start_time": "2024-07-14T03:08:37.369Z"
   },
   {
    "duration": 16,
    "start_time": "2024-07-14T03:11:23.248Z"
   },
   {
    "duration": 360,
    "start_time": "2024-07-14T03:13:07.665Z"
   },
   {
    "duration": 9,
    "start_time": "2024-07-14T03:13:40.950Z"
   },
   {
    "duration": 609,
    "start_time": "2024-07-14T03:13:42.864Z"
   },
   {
    "duration": 44,
    "start_time": "2024-07-14T03:14:32.024Z"
   },
   {
    "duration": 627,
    "start_time": "2024-07-14T03:17:45.439Z"
   },
   {
    "duration": 26,
    "start_time": "2024-07-14T04:37:57.454Z"
   },
   {
    "duration": 4,
    "start_time": "2024-07-14T04:38:48.217Z"
   },
   {
    "duration": 19,
    "start_time": "2024-07-14T04:38:50.098Z"
   },
   {
    "duration": 310,
    "start_time": "2024-07-14T04:47:11.344Z"
   },
   {
    "duration": 4909,
    "start_time": "2024-07-14T04:47:18.343Z"
   },
   {
    "duration": 29,
    "start_time": "2024-07-14T04:47:23.256Z"
   },
   {
    "duration": 7,
    "start_time": "2024-07-14T04:47:23.287Z"
   },
   {
    "duration": 36,
    "start_time": "2024-07-14T04:47:23.297Z"
   },
   {
    "duration": 26,
    "start_time": "2024-07-14T04:47:23.337Z"
   },
   {
    "duration": 59,
    "start_time": "2024-07-14T04:47:23.366Z"
   },
   {
    "duration": 10,
    "start_time": "2024-07-14T04:47:23.428Z"
   },
   {
    "duration": 24,
    "start_time": "2024-07-14T04:47:23.441Z"
   },
   {
    "duration": 49,
    "start_time": "2024-07-14T04:47:23.468Z"
   },
   {
    "duration": 12,
    "start_time": "2024-07-14T04:47:23.520Z"
   },
   {
    "duration": 13,
    "start_time": "2024-07-14T04:47:23.536Z"
   },
   {
    "duration": 61,
    "start_time": "2024-07-14T04:47:23.552Z"
   },
   {
    "duration": 13,
    "start_time": "2024-07-14T04:47:23.616Z"
   },
   {
    "duration": 342,
    "start_time": "2024-07-14T04:47:23.636Z"
   },
   {
    "duration": 28,
    "start_time": "2024-07-14T04:47:23.982Z"
   },
   {
    "duration": 10,
    "start_time": "2024-07-14T04:47:24.012Z"
   },
   {
    "duration": 11,
    "start_time": "2024-07-14T04:47:24.027Z"
   },
   {
    "duration": 341,
    "start_time": "2024-07-14T04:47:24.042Z"
   },
   {
    "duration": 22,
    "start_time": "2024-07-14T04:47:24.386Z"
   },
   {
    "duration": 7,
    "start_time": "2024-07-14T04:47:24.412Z"
   },
   {
    "duration": 16,
    "start_time": "2024-07-14T04:47:24.422Z"
   },
   {
    "duration": 11,
    "start_time": "2024-07-14T04:47:24.443Z"
   },
   {
    "duration": 8,
    "start_time": "2024-07-14T04:47:24.458Z"
   },
   {
    "duration": 668,
    "start_time": "2024-07-14T04:47:24.510Z"
   },
   {
    "duration": 283,
    "start_time": "2024-07-14T04:47:25.181Z"
   },
   {
    "duration": 14,
    "start_time": "2024-07-14T04:47:25.467Z"
   },
   {
    "duration": 33,
    "start_time": "2024-07-14T04:47:25.489Z"
   },
   {
    "duration": 11,
    "start_time": "2024-07-14T04:47:25.526Z"
   },
   {
    "duration": 708,
    "start_time": "2024-07-14T04:47:25.541Z"
   },
   {
    "duration": 115,
    "start_time": "2024-07-14T04:47:26.252Z"
   },
   {
    "duration": 6,
    "start_time": "2024-07-14T04:47:26.375Z"
   },
   {
    "duration": 462,
    "start_time": "2024-07-14T04:47:26.385Z"
   },
   {
    "duration": 25,
    "start_time": "2024-07-14T04:51:53.207Z"
   },
   {
    "duration": 10,
    "start_time": "2024-07-14T04:52:53.173Z"
   },
   {
    "duration": 888,
    "start_time": "2024-07-14T05:00:12.057Z"
   },
   {
    "duration": 6,
    "start_time": "2024-07-14T05:02:21.641Z"
   },
   {
    "duration": 19,
    "start_time": "2024-07-14T05:02:47.569Z"
   },
   {
    "duration": 815,
    "start_time": "2024-07-14T05:02:51.996Z"
   },
   {
    "duration": 19,
    "start_time": "2024-07-14T05:05:16.529Z"
   },
   {
    "duration": 852,
    "start_time": "2024-07-14T05:05:22.561Z"
   },
   {
    "duration": 20,
    "start_time": "2024-07-14T05:06:03.552Z"
   },
   {
    "duration": 789,
    "start_time": "2024-07-14T05:06:06.540Z"
   },
   {
    "duration": 118,
    "start_time": "2024-07-14T05:06:48.814Z"
   },
   {
    "duration": 849,
    "start_time": "2024-07-14T05:06:52.359Z"
   },
   {
    "duration": 19,
    "start_time": "2024-07-14T05:07:17.197Z"
   },
   {
    "duration": 795,
    "start_time": "2024-07-14T05:07:19.701Z"
   },
   {
    "duration": 19,
    "start_time": "2024-07-14T05:07:45.968Z"
   },
   {
    "duration": 891,
    "start_time": "2024-07-14T05:07:48.376Z"
   },
   {
    "duration": 23,
    "start_time": "2024-07-14T05:08:03.416Z"
   },
   {
    "duration": 950,
    "start_time": "2024-07-14T05:08:05.795Z"
   },
   {
    "duration": 22,
    "start_time": "2024-07-14T05:09:47.023Z"
   },
   {
    "duration": 972,
    "start_time": "2024-07-14T05:09:49.620Z"
   },
   {
    "duration": 118,
    "start_time": "2024-07-14T05:10:20.001Z"
   },
   {
    "duration": 973,
    "start_time": "2024-07-14T05:10:23.071Z"
   },
   {
    "duration": 26,
    "start_time": "2024-07-14T05:11:02.788Z"
   },
   {
    "duration": 967,
    "start_time": "2024-07-14T05:11:05.679Z"
   },
   {
    "duration": 25,
    "start_time": "2024-07-14T05:11:59.158Z"
   },
   {
    "duration": 920,
    "start_time": "2024-07-14T05:12:01.865Z"
   },
   {
    "duration": 21,
    "start_time": "2024-07-14T05:13:57.894Z"
   },
   {
    "duration": 945,
    "start_time": "2024-07-14T05:14:01.662Z"
   },
   {
    "duration": 24,
    "start_time": "2024-07-14T05:14:15.407Z"
   },
   {
    "duration": 919,
    "start_time": "2024-07-14T05:14:19.872Z"
   },
   {
    "duration": 79,
    "start_time": "2024-07-14T05:23:37.704Z"
   },
   {
    "duration": 5,
    "start_time": "2024-07-14T05:24:18.059Z"
   },
   {
    "duration": 11,
    "start_time": "2024-07-14T05:24:27.832Z"
   },
   {
    "duration": 15,
    "start_time": "2024-07-14T06:00:10.410Z"
   },
   {
    "duration": 8,
    "start_time": "2024-07-14T06:31:09.886Z"
   },
   {
    "duration": 39,
    "start_time": "2024-07-14T06:31:20.474Z"
   },
   {
    "duration": 1300,
    "start_time": "2024-07-14T06:38:16.842Z"
   },
   {
    "duration": 21,
    "start_time": "2024-07-14T06:38:18.145Z"
   },
   {
    "duration": 7,
    "start_time": "2024-07-14T06:38:18.169Z"
   },
   {
    "duration": 33,
    "start_time": "2024-07-14T06:38:18.180Z"
   },
   {
    "duration": 24,
    "start_time": "2024-07-14T06:38:18.217Z"
   },
   {
    "duration": 29,
    "start_time": "2024-07-14T06:38:18.243Z"
   },
   {
    "duration": 41,
    "start_time": "2024-07-14T06:38:18.275Z"
   },
   {
    "duration": 23,
    "start_time": "2024-07-14T06:38:18.320Z"
   },
   {
    "duration": 13,
    "start_time": "2024-07-14T06:38:18.346Z"
   },
   {
    "duration": 49,
    "start_time": "2024-07-14T06:38:18.362Z"
   },
   {
    "duration": 15,
    "start_time": "2024-07-14T06:38:18.415Z"
   },
   {
    "duration": 19,
    "start_time": "2024-07-14T06:38:18.434Z"
   },
   {
    "duration": 56,
    "start_time": "2024-07-14T06:38:18.456Z"
   },
   {
    "duration": 337,
    "start_time": "2024-07-14T06:38:18.520Z"
   },
   {
    "duration": 13,
    "start_time": "2024-07-14T06:38:18.860Z"
   },
   {
    "duration": 7,
    "start_time": "2024-07-14T06:38:18.879Z"
   },
   {
    "duration": 9,
    "start_time": "2024-07-14T06:38:18.910Z"
   },
   {
    "duration": 323,
    "start_time": "2024-07-14T06:38:18.922Z"
   },
   {
    "duration": 12,
    "start_time": "2024-07-14T06:38:19.248Z"
   },
   {
    "duration": 8,
    "start_time": "2024-07-14T06:38:19.263Z"
   },
   {
    "duration": 48,
    "start_time": "2024-07-14T06:38:19.275Z"
   },
   {
    "duration": 18,
    "start_time": "2024-07-14T06:38:19.327Z"
   },
   {
    "duration": 19,
    "start_time": "2024-07-14T06:38:19.349Z"
   },
   {
    "duration": 702,
    "start_time": "2024-07-14T06:38:19.375Z"
   },
   {
    "duration": 244,
    "start_time": "2024-07-14T06:38:20.080Z"
   },
   {
    "duration": 11,
    "start_time": "2024-07-14T06:38:20.328Z"
   },
   {
    "duration": 16,
    "start_time": "2024-07-14T06:38:20.342Z"
   },
   {
    "duration": 10,
    "start_time": "2024-07-14T06:38:20.361Z"
   },
   {
    "duration": 598,
    "start_time": "2024-07-14T06:38:20.410Z"
   },
   {
    "duration": 19,
    "start_time": "2024-07-14T06:38:21.012Z"
   },
   {
    "duration": 5,
    "start_time": "2024-07-14T06:38:21.033Z"
   },
   {
    "duration": 9,
    "start_time": "2024-07-14T06:38:21.041Z"
   },
   {
    "duration": 911,
    "start_time": "2024-07-14T06:38:21.053Z"
   },
   {
    "duration": 11,
    "start_time": "2024-07-14T06:38:21.967Z"
   },
   {
    "duration": 32,
    "start_time": "2024-07-14T06:38:21.981Z"
   }
  ],
  "kernelspec": {
   "display_name": "Python 3 (ipykernel)",
   "language": "python",
   "name": "python3"
  },
  "language_info": {
   "codemirror_mode": {
    "name": "ipython",
    "version": 3
   },
   "file_extension": ".py",
   "mimetype": "text/x-python",
   "name": "python",
   "nbconvert_exporter": "python",
   "pygments_lexer": "ipython3",
   "version": "3.11.7"
  },
  "toc": {
   "base_numbering": 1,
   "nav_menu": {},
   "number_sections": true,
   "sideBar": true,
   "skip_h1_title": true,
   "title_cell": "Table of Contents",
   "title_sidebar": "Contents",
   "toc_cell": false,
   "toc_position": {},
   "toc_section_display": true,
   "toc_window_display": false
  }
 },
 "nbformat": 4,
 "nbformat_minor": 4
}
