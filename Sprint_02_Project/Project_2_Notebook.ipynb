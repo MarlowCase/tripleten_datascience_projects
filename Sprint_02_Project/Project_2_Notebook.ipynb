{
 "cells": [
  {
   "cell_type": "markdown",
   "id": "1b34f2aa",
   "metadata": {},
   "source": [
    "<div class=\"alert alert-block alert-success\">\n",
    "    \n",
    "<b>**General feedback**</b> <a class=\"tocSkip\"></a>\n",
    "    \n",
    "Hi, Marlow\n",
    "    \n",
    "Thank you for submiting your brilliant project\n",
    "    \n",
    "There are many things that I like:\n",
    "    \n",
    "- good project structure\n",
    "- all calculations are correct\n",
    "- you comleted _all_ tasks\n",
    "- super code\n",
    "- nice visulizations"
   ]
  },
  {
   "cell_type": "markdown",
   "id": "ec3bfb38",
   "metadata": {},
   "source": [
    "# Marlow Case - TripleTen DS - Sprint 2 Project #\n",
    "# Instacart Exploratory Data Analysis #"
   ]
  },
  {
   "cell_type": "markdown",
   "id": "0e333169-d6dd-47c6-b712-2998ce72c91c",
   "metadata": {},
   "source": [
    "# Table of Contents #\n",
    "<a id='contents'></a>\n",
    "- [1. Duplicate Values](#dups)\n",
    "- [2. Missing Values](#missing)\n",
    "- [3. Easy Tasks](#easy)\n",
    "- [4. Medium Tasks](#med)\n",
    "- [5. Hard Tasks](#hard)"
   ]
  },
  {
   "cell_type": "code",
   "execution_count": 1,
   "id": "ad36396d",
   "metadata": {},
   "outputs": [],
   "source": [
    "#Begin by reading in all the data by importing pandas\n",
    "import pandas as pd\n",
    "from matplotlib import pyplot as plt\n",
    "import numpy as np"
   ]
  },
  {
   "cell_type": "code",
   "execution_count": 2,
   "id": "ad6a1efa",
   "metadata": {},
   "outputs": [
    {
     "name": "stdout",
     "output_type": "stream",
     "text": [
      "<class 'pandas.core.frame.DataFrame'>\n",
      "RangeIndex: 478967 entries, 0 to 478966\n",
      "Data columns (total 6 columns):\n",
      " #   Column                  Non-Null Count   Dtype  \n",
      "---  ------                  --------------   -----  \n",
      " 0   order_id                478967 non-null  int64  \n",
      " 1   user_id                 478967 non-null  int64  \n",
      " 2   order_number            478967 non-null  int64  \n",
      " 3   order_dow               478967 non-null  int64  \n",
      " 4   order_hour_of_day       478967 non-null  int64  \n",
      " 5   days_since_prior_order  450148 non-null  float64\n",
      "dtypes: float64(1), int64(5)\n",
      "memory usage: 21.9 MB\n"
     ]
    }
   ],
   "source": [
    "#notes: days since last order is a float --> int; contains blanks = ''; \n",
    "filepath = r\"C:\\Users\\marlo\\OneDrive\\Desktop\\Python_Work\\Tripleten_Lessons\\Sprint_2_Project\"\n",
    "try:\n",
    "    df_instacart_orders = pd.read_csv(f\"{filepath}\\\\instacart_orders.csv\", sep=';')\n",
    "except:\n",
    "    df_instacart_orders = pd.read_csv('/datasets/instacart_orders.csv', sep=';')\n",
    "    \n",
    "#need to correct nulls before converting the float\n",
    "df_instacart_orders.info()"
   ]
  },
  {
   "cell_type": "code",
   "execution_count": 3,
   "id": "5130e05e",
   "metadata": {},
   "outputs": [
    {
     "name": "stdout",
     "output_type": "stream",
     "text": [
      "<class 'pandas.core.frame.DataFrame'>\n",
      "RangeIndex: 49694 entries, 0 to 49693\n",
      "Data columns (total 4 columns):\n",
      " #   Column         Non-Null Count  Dtype \n",
      "---  ------         --------------  ----- \n",
      " 0   product_id     49694 non-null  int64 \n",
      " 1   product_name   48436 non-null  object\n",
      " 2   aisle_id       49694 non-null  int64 \n",
      " 3   department_id  49694 non-null  int64 \n",
      "dtypes: int64(3), object(1)\n",
      "memory usage: 1.5+ MB\n"
     ]
    }
   ],
   "source": [
    "#notes: join departments for department name; join aisle to get aisle name; contains blanks (\"\") in product_name\n",
    "try:\n",
    "    df_products = pd.read_csv(f\"{filepath}\\\\products.csv\", sep=';')\n",
    "except:\n",
    "    df_products = pd.read_csv('/datasets/products.csv', sep=';')\n",
    "\n",
    "df_products.info()"
   ]
  },
  {
   "cell_type": "code",
   "execution_count": 4,
   "id": "d8370c05",
   "metadata": {},
   "outputs": [
    {
     "name": "stdout",
     "output_type": "stream",
     "text": [
      "<class 'pandas.core.frame.DataFrame'>\n",
      "RangeIndex: 134 entries, 0 to 133\n",
      "Data columns (total 2 columns):\n",
      " #   Column    Non-Null Count  Dtype \n",
      "---  ------    --------------  ----- \n",
      " 0   aisle_id  134 non-null    int64 \n",
      " 1   aisle     134 non-null    object\n",
      "dtypes: int64(1), object(1)\n",
      "memory usage: 2.2+ KB\n"
     ]
    }
   ],
   "source": [
    "#notes: no preprocessing needed\n",
    "try:\n",
    "    df_aisles = pd.read_csv(f\"{filepath}\\\\aisles.csv\", sep=';')\n",
    "except:\n",
    "    df_aisles = pd.read_csv('/datasets/aisles.csv', sep=';')\n",
    "\n",
    "df_aisles.info()"
   ]
  },
  {
   "cell_type": "code",
   "execution_count": 5,
   "id": "59e2090f",
   "metadata": {},
   "outputs": [
    {
     "name": "stdout",
     "output_type": "stream",
     "text": [
      "<class 'pandas.core.frame.DataFrame'>\n",
      "RangeIndex: 21 entries, 0 to 20\n",
      "Data columns (total 2 columns):\n",
      " #   Column         Non-Null Count  Dtype \n",
      "---  ------         --------------  ----- \n",
      " 0   department_id  21 non-null     int64 \n",
      " 1   department     21 non-null     object\n",
      "dtypes: int64(1), object(1)\n",
      "memory usage: 468.0+ bytes\n"
     ]
    }
   ],
   "source": [
    "#notes: code 21 = \"missing\" - potential null value\n",
    "try:\n",
    "    df_departments = pd.read_csv(f\"{filepath}\\\\departments.csv\", sep=';')\n",
    "except:\n",
    "    df_departments = pd.read_csv('/datasets/departments.csv', sep=';')\n",
    "\n",
    "df_departments.info()"
   ]
  },
  {
   "cell_type": "code",
   "execution_count": 6,
   "id": "6fc81694",
   "metadata": {},
   "outputs": [
    {
     "name": "stdout",
     "output_type": "stream",
     "text": [
      "<class 'pandas.core.frame.DataFrame'>\n",
      "RangeIndex: 4545007 entries, 0 to 4545006\n",
      "Data columns (total 4 columns):\n",
      " #   Column             Non-Null Count    Dtype  \n",
      "---  ------             --------------    -----  \n",
      " 0   order_id           4545007 non-null  int64  \n",
      " 1   product_id         4545007 non-null  int64  \n",
      " 2   add_to_cart_order  4544171 non-null  float64\n",
      " 3   reordered          4545007 non-null  int64  \n",
      "dtypes: float64(1), int64(3)\n",
      "memory usage: 138.7 MB\n"
     ]
    }
   ],
   "source": [
    "#notes: many rows (show_counts=True); add_to_cart_order is a float --> int\n",
    "try:\n",
    "    df_order_products = pd.read_csv(f\"{filepath}\\\\order_products.csv\", sep=';')\n",
    "except:\n",
    "    df_order_products = pd.read_csv('/datasets/order_products.csv', sep=';')\n",
    "\n",
    "df_order_products.info(show_counts=True)"
   ]
  },
  {
   "cell_type": "markdown",
   "id": "07357848-dc64-4156-9cc3-01ff4365226d",
   "metadata": {},
   "source": [
    "## Find and remove duplicate values (and describe why you make your choices)\n",
    "<a id='dups'></a>"
   ]
  },
  {
   "cell_type": "markdown",
   "id": "f179f0a9",
   "metadata": {},
   "source": [
    "### `orders` data frame"
   ]
  },
  {
   "cell_type": "code",
   "execution_count": 7,
   "id": "b99297a5-405a-463d-8535-9adc3da4ad74",
   "metadata": {},
   "outputs": [
    {
     "name": "stdout",
     "output_type": "stream",
     "text": [
      "There are 15 duplicate values in the instacart_orders data.\n"
     ]
    },
    {
     "data": {
      "text/html": [
       "<div>\n",
       "<style scoped>\n",
       "    .dataframe tbody tr th:only-of-type {\n",
       "        vertical-align: middle;\n",
       "    }\n",
       "\n",
       "    .dataframe tbody tr th {\n",
       "        vertical-align: top;\n",
       "    }\n",
       "\n",
       "    .dataframe thead th {\n",
       "        text-align: right;\n",
       "    }\n",
       "</style>\n",
       "<table border=\"1\" class=\"dataframe\">\n",
       "  <thead>\n",
       "    <tr style=\"text-align: right;\">\n",
       "      <th></th>\n",
       "      <th>order_id</th>\n",
       "      <th>user_id</th>\n",
       "      <th>order_number</th>\n",
       "      <th>order_dow</th>\n",
       "      <th>order_hour_of_day</th>\n",
       "      <th>days_since_prior_order</th>\n",
       "    </tr>\n",
       "  </thead>\n",
       "  <tbody>\n",
       "    <tr>\n",
       "      <th>145574</th>\n",
       "      <td>794638</td>\n",
       "      <td>50898</td>\n",
       "      <td>24</td>\n",
       "      <td>3</td>\n",
       "      <td>2</td>\n",
       "      <td>2.0</td>\n",
       "    </tr>\n",
       "    <tr>\n",
       "      <th>223105</th>\n",
       "      <td>2160484</td>\n",
       "      <td>107525</td>\n",
       "      <td>16</td>\n",
       "      <td>3</td>\n",
       "      <td>2</td>\n",
       "      <td>30.0</td>\n",
       "    </tr>\n",
       "    <tr>\n",
       "      <th>230807</th>\n",
       "      <td>1918001</td>\n",
       "      <td>188546</td>\n",
       "      <td>14</td>\n",
       "      <td>3</td>\n",
       "      <td>2</td>\n",
       "      <td>16.0</td>\n",
       "    </tr>\n",
       "    <tr>\n",
       "      <th>266232</th>\n",
       "      <td>1782114</td>\n",
       "      <td>106752</td>\n",
       "      <td>1</td>\n",
       "      <td>3</td>\n",
       "      <td>2</td>\n",
       "      <td>NaN</td>\n",
       "    </tr>\n",
       "    <tr>\n",
       "      <th>273805</th>\n",
       "      <td>1112182</td>\n",
       "      <td>202304</td>\n",
       "      <td>84</td>\n",
       "      <td>3</td>\n",
       "      <td>2</td>\n",
       "      <td>6.0</td>\n",
       "    </tr>\n",
       "    <tr>\n",
       "      <th>284038</th>\n",
       "      <td>2845099</td>\n",
       "      <td>31189</td>\n",
       "      <td>11</td>\n",
       "      <td>3</td>\n",
       "      <td>2</td>\n",
       "      <td>7.0</td>\n",
       "    </tr>\n",
       "    <tr>\n",
       "      <th>311713</th>\n",
       "      <td>1021560</td>\n",
       "      <td>53767</td>\n",
       "      <td>3</td>\n",
       "      <td>3</td>\n",
       "      <td>2</td>\n",
       "      <td>9.0</td>\n",
       "    </tr>\n",
       "    <tr>\n",
       "      <th>321100</th>\n",
       "      <td>408114</td>\n",
       "      <td>68324</td>\n",
       "      <td>4</td>\n",
       "      <td>3</td>\n",
       "      <td>2</td>\n",
       "      <td>18.0</td>\n",
       "    </tr>\n",
       "    <tr>\n",
       "      <th>323900</th>\n",
       "      <td>1919531</td>\n",
       "      <td>191501</td>\n",
       "      <td>32</td>\n",
       "      <td>3</td>\n",
       "      <td>2</td>\n",
       "      <td>7.0</td>\n",
       "    </tr>\n",
       "    <tr>\n",
       "      <th>345917</th>\n",
       "      <td>2232988</td>\n",
       "      <td>82565</td>\n",
       "      <td>1</td>\n",
       "      <td>3</td>\n",
       "      <td>2</td>\n",
       "      <td>NaN</td>\n",
       "    </tr>\n",
       "    <tr>\n",
       "      <th>371905</th>\n",
       "      <td>391768</td>\n",
       "      <td>57671</td>\n",
       "      <td>19</td>\n",
       "      <td>3</td>\n",
       "      <td>2</td>\n",
       "      <td>10.0</td>\n",
       "    </tr>\n",
       "    <tr>\n",
       "      <th>394347</th>\n",
       "      <td>467134</td>\n",
       "      <td>63189</td>\n",
       "      <td>21</td>\n",
       "      <td>3</td>\n",
       "      <td>2</td>\n",
       "      <td>2.0</td>\n",
       "    </tr>\n",
       "    <tr>\n",
       "      <th>411408</th>\n",
       "      <td>1286742</td>\n",
       "      <td>183220</td>\n",
       "      <td>48</td>\n",
       "      <td>3</td>\n",
       "      <td>2</td>\n",
       "      <td>4.0</td>\n",
       "    </tr>\n",
       "    <tr>\n",
       "      <th>415163</th>\n",
       "      <td>2282673</td>\n",
       "      <td>86751</td>\n",
       "      <td>49</td>\n",
       "      <td>3</td>\n",
       "      <td>2</td>\n",
       "      <td>2.0</td>\n",
       "    </tr>\n",
       "    <tr>\n",
       "      <th>441599</th>\n",
       "      <td>2125197</td>\n",
       "      <td>14050</td>\n",
       "      <td>48</td>\n",
       "      <td>3</td>\n",
       "      <td>2</td>\n",
       "      <td>3.0</td>\n",
       "    </tr>\n",
       "  </tbody>\n",
       "</table>\n",
       "</div>"
      ],
      "text/plain": [
       "        order_id  user_id  order_number  order_dow  order_hour_of_day  \\\n",
       "145574    794638    50898            24          3                  2   \n",
       "223105   2160484   107525            16          3                  2   \n",
       "230807   1918001   188546            14          3                  2   \n",
       "266232   1782114   106752             1          3                  2   \n",
       "273805   1112182   202304            84          3                  2   \n",
       "284038   2845099    31189            11          3                  2   \n",
       "311713   1021560    53767             3          3                  2   \n",
       "321100    408114    68324             4          3                  2   \n",
       "323900   1919531   191501            32          3                  2   \n",
       "345917   2232988    82565             1          3                  2   \n",
       "371905    391768    57671            19          3                  2   \n",
       "394347    467134    63189            21          3                  2   \n",
       "411408   1286742   183220            48          3                  2   \n",
       "415163   2282673    86751            49          3                  2   \n",
       "441599   2125197    14050            48          3                  2   \n",
       "\n",
       "        days_since_prior_order  \n",
       "145574                     2.0  \n",
       "223105                    30.0  \n",
       "230807                    16.0  \n",
       "266232                     NaN  \n",
       "273805                     6.0  \n",
       "284038                     7.0  \n",
       "311713                     9.0  \n",
       "321100                    18.0  \n",
       "323900                     7.0  \n",
       "345917                     NaN  \n",
       "371905                    10.0  \n",
       "394347                     2.0  \n",
       "411408                     4.0  \n",
       "415163                     2.0  \n",
       "441599                     3.0  "
      ]
     },
     "execution_count": 7,
     "metadata": {},
     "output_type": "execute_result"
    }
   ],
   "source": [
    "# Check for duplicated orders\n",
    "df_orders_dups = df_instacart_orders.duplicated()\n",
    "print(f\"There are {df_orders_dups.sum()} duplicate values in the instacart_orders data.\")\n",
    "\n",
    "#display the duplicate rows out of curiosity\n",
    "df_duplicate_index = df_instacart_orders[df_orders_dups]\n",
    "df_duplicate_index"
   ]
  },
  {
   "cell_type": "code",
   "execution_count": 8,
   "id": "0b97eb67",
   "metadata": {},
   "outputs": [
    {
     "data": {
      "text/html": [
       "<div>\n",
       "<style scoped>\n",
       "    .dataframe tbody tr th:only-of-type {\n",
       "        vertical-align: middle;\n",
       "    }\n",
       "\n",
       "    .dataframe tbody tr th {\n",
       "        vertical-align: top;\n",
       "    }\n",
       "\n",
       "    .dataframe thead th {\n",
       "        text-align: right;\n",
       "    }\n",
       "</style>\n",
       "<table border=\"1\" class=\"dataframe\">\n",
       "  <thead>\n",
       "    <tr style=\"text-align: right;\">\n",
       "      <th></th>\n",
       "      <th>order_id</th>\n",
       "      <th>user_id</th>\n",
       "      <th>order_number</th>\n",
       "      <th>order_dow</th>\n",
       "      <th>order_hour_of_day</th>\n",
       "      <th>days_since_prior_order</th>\n",
       "    </tr>\n",
       "  </thead>\n",
       "  <tbody>\n",
       "    <tr>\n",
       "      <th>4838</th>\n",
       "      <td>2766110</td>\n",
       "      <td>162084</td>\n",
       "      <td>41</td>\n",
       "      <td>3</td>\n",
       "      <td>2</td>\n",
       "      <td>16.0</td>\n",
       "    </tr>\n",
       "    <tr>\n",
       "      <th>5156</th>\n",
       "      <td>2190225</td>\n",
       "      <td>138285</td>\n",
       "      <td>18</td>\n",
       "      <td>3</td>\n",
       "      <td>2</td>\n",
       "      <td>11.0</td>\n",
       "    </tr>\n",
       "    <tr>\n",
       "      <th>15506</th>\n",
       "      <td>553049</td>\n",
       "      <td>58599</td>\n",
       "      <td>13</td>\n",
       "      <td>3</td>\n",
       "      <td>2</td>\n",
       "      <td>7.0</td>\n",
       "    </tr>\n",
       "    <tr>\n",
       "      <th>18420</th>\n",
       "      <td>382357</td>\n",
       "      <td>120200</td>\n",
       "      <td>19</td>\n",
       "      <td>3</td>\n",
       "      <td>2</td>\n",
       "      <td>11.0</td>\n",
       "    </tr>\n",
       "    <tr>\n",
       "      <th>24691</th>\n",
       "      <td>690242</td>\n",
       "      <td>77357</td>\n",
       "      <td>2</td>\n",
       "      <td>3</td>\n",
       "      <td>2</td>\n",
       "      <td>9.0</td>\n",
       "    </tr>\n",
       "    <tr>\n",
       "      <th>...</th>\n",
       "      <td>...</td>\n",
       "      <td>...</td>\n",
       "      <td>...</td>\n",
       "      <td>...</td>\n",
       "      <td>...</td>\n",
       "      <td>...</td>\n",
       "    </tr>\n",
       "    <tr>\n",
       "      <th>457013</th>\n",
       "      <td>3384021</td>\n",
       "      <td>14881</td>\n",
       "      <td>6</td>\n",
       "      <td>3</td>\n",
       "      <td>2</td>\n",
       "      <td>30.0</td>\n",
       "    </tr>\n",
       "    <tr>\n",
       "      <th>458816</th>\n",
       "      <td>910166</td>\n",
       "      <td>164782</td>\n",
       "      <td>18</td>\n",
       "      <td>3</td>\n",
       "      <td>2</td>\n",
       "      <td>4.0</td>\n",
       "    </tr>\n",
       "    <tr>\n",
       "      <th>459635</th>\n",
       "      <td>1680532</td>\n",
       "      <td>106435</td>\n",
       "      <td>6</td>\n",
       "      <td>3</td>\n",
       "      <td>2</td>\n",
       "      <td>21.0</td>\n",
       "    </tr>\n",
       "    <tr>\n",
       "      <th>468324</th>\n",
       "      <td>222962</td>\n",
       "      <td>54979</td>\n",
       "      <td>59</td>\n",
       "      <td>3</td>\n",
       "      <td>2</td>\n",
       "      <td>3.0</td>\n",
       "    </tr>\n",
       "    <tr>\n",
       "      <th>477526</th>\n",
       "      <td>2592344</td>\n",
       "      <td>46860</td>\n",
       "      <td>38</td>\n",
       "      <td>3</td>\n",
       "      <td>2</td>\n",
       "      <td>3.0</td>\n",
       "    </tr>\n",
       "  </tbody>\n",
       "</table>\n",
       "<p>121 rows × 6 columns</p>\n",
       "</div>"
      ],
      "text/plain": [
       "        order_id  user_id  order_number  order_dow  order_hour_of_day  \\\n",
       "4838     2766110   162084            41          3                  2   \n",
       "5156     2190225   138285            18          3                  2   \n",
       "15506     553049    58599            13          3                  2   \n",
       "18420     382357   120200            19          3                  2   \n",
       "24691     690242    77357             2          3                  2   \n",
       "...          ...      ...           ...        ...                ...   \n",
       "457013   3384021    14881             6          3                  2   \n",
       "458816    910166   164782            18          3                  2   \n",
       "459635   1680532   106435             6          3                  2   \n",
       "468324    222962    54979            59          3                  2   \n",
       "477526   2592344    46860            38          3                  2   \n",
       "\n",
       "        days_since_prior_order  \n",
       "4838                      16.0  \n",
       "5156                      11.0  \n",
       "15506                      7.0  \n",
       "18420                     11.0  \n",
       "24691                      9.0  \n",
       "...                        ...  \n",
       "457013                    30.0  \n",
       "458816                     4.0  \n",
       "459635                    21.0  \n",
       "468324                     3.0  \n",
       "477526                     3.0  \n",
       "\n",
       "[121 rows x 6 columns]"
      ]
     },
     "execution_count": 8,
     "metadata": {},
     "output_type": "execute_result"
    }
   ],
   "source": [
    "# Check for all orders placed Wednesday at 2:00 AM\n",
    "# Conventionally Sunday is 0, so I will go with this assumption from this point forward. \n",
    "wednesday_2am = df_instacart_orders.query(\"order_dow == 3 and order_hour_of_day == 2\")\n",
    "wednesday_2am"
   ]
  },
  {
   "cell_type": "code",
   "execution_count": 9,
   "id": "480563c7",
   "metadata": {},
   "outputs": [
    {
     "data": {
      "text/html": [
       "<div>\n",
       "<style scoped>\n",
       "    .dataframe tbody tr th:only-of-type {\n",
       "        vertical-align: middle;\n",
       "    }\n",
       "\n",
       "    .dataframe tbody tr th {\n",
       "        vertical-align: top;\n",
       "    }\n",
       "\n",
       "    .dataframe thead th {\n",
       "        text-align: right;\n",
       "    }\n",
       "</style>\n",
       "<table border=\"1\" class=\"dataframe\">\n",
       "  <thead>\n",
       "    <tr style=\"text-align: right;\">\n",
       "      <th></th>\n",
       "      <th>index</th>\n",
       "      <th>order_id</th>\n",
       "      <th>user_id</th>\n",
       "      <th>order_number</th>\n",
       "      <th>order_dow</th>\n",
       "      <th>order_hour_of_day</th>\n",
       "      <th>days_since_prior_order</th>\n",
       "    </tr>\n",
       "  </thead>\n",
       "  <tbody>\n",
       "    <tr>\n",
       "      <th>0</th>\n",
       "      <td>4838</td>\n",
       "      <td>2766110</td>\n",
       "      <td>162084</td>\n",
       "      <td>41</td>\n",
       "      <td>3</td>\n",
       "      <td>2</td>\n",
       "      <td>16.0</td>\n",
       "    </tr>\n",
       "    <tr>\n",
       "      <th>1</th>\n",
       "      <td>5156</td>\n",
       "      <td>2190225</td>\n",
       "      <td>138285</td>\n",
       "      <td>18</td>\n",
       "      <td>3</td>\n",
       "      <td>2</td>\n",
       "      <td>11.0</td>\n",
       "    </tr>\n",
       "    <tr>\n",
       "      <th>2</th>\n",
       "      <td>15506</td>\n",
       "      <td>553049</td>\n",
       "      <td>58599</td>\n",
       "      <td>13</td>\n",
       "      <td>3</td>\n",
       "      <td>2</td>\n",
       "      <td>7.0</td>\n",
       "    </tr>\n",
       "    <tr>\n",
       "      <th>3</th>\n",
       "      <td>18420</td>\n",
       "      <td>382357</td>\n",
       "      <td>120200</td>\n",
       "      <td>19</td>\n",
       "      <td>3</td>\n",
       "      <td>2</td>\n",
       "      <td>11.0</td>\n",
       "    </tr>\n",
       "    <tr>\n",
       "      <th>4</th>\n",
       "      <td>24691</td>\n",
       "      <td>690242</td>\n",
       "      <td>77357</td>\n",
       "      <td>2</td>\n",
       "      <td>3</td>\n",
       "      <td>2</td>\n",
       "      <td>9.0</td>\n",
       "    </tr>\n",
       "    <tr>\n",
       "      <th>...</th>\n",
       "      <td>...</td>\n",
       "      <td>...</td>\n",
       "      <td>...</td>\n",
       "      <td>...</td>\n",
       "      <td>...</td>\n",
       "      <td>...</td>\n",
       "      <td>...</td>\n",
       "    </tr>\n",
       "    <tr>\n",
       "      <th>101</th>\n",
       "      <td>457013</td>\n",
       "      <td>3384021</td>\n",
       "      <td>14881</td>\n",
       "      <td>6</td>\n",
       "      <td>3</td>\n",
       "      <td>2</td>\n",
       "      <td>30.0</td>\n",
       "    </tr>\n",
       "    <tr>\n",
       "      <th>102</th>\n",
       "      <td>458816</td>\n",
       "      <td>910166</td>\n",
       "      <td>164782</td>\n",
       "      <td>18</td>\n",
       "      <td>3</td>\n",
       "      <td>2</td>\n",
       "      <td>4.0</td>\n",
       "    </tr>\n",
       "    <tr>\n",
       "      <th>103</th>\n",
       "      <td>459635</td>\n",
       "      <td>1680532</td>\n",
       "      <td>106435</td>\n",
       "      <td>6</td>\n",
       "      <td>3</td>\n",
       "      <td>2</td>\n",
       "      <td>21.0</td>\n",
       "    </tr>\n",
       "    <tr>\n",
       "      <th>104</th>\n",
       "      <td>468324</td>\n",
       "      <td>222962</td>\n",
       "      <td>54979</td>\n",
       "      <td>59</td>\n",
       "      <td>3</td>\n",
       "      <td>2</td>\n",
       "      <td>3.0</td>\n",
       "    </tr>\n",
       "    <tr>\n",
       "      <th>105</th>\n",
       "      <td>477526</td>\n",
       "      <td>2592344</td>\n",
       "      <td>46860</td>\n",
       "      <td>38</td>\n",
       "      <td>3</td>\n",
       "      <td>2</td>\n",
       "      <td>3.0</td>\n",
       "    </tr>\n",
       "  </tbody>\n",
       "</table>\n",
       "<p>106 rows × 7 columns</p>\n",
       "</div>"
      ],
      "text/plain": [
       "      index  order_id  user_id  order_number  order_dow  order_hour_of_day  \\\n",
       "0      4838   2766110   162084            41          3                  2   \n",
       "1      5156   2190225   138285            18          3                  2   \n",
       "2     15506    553049    58599            13          3                  2   \n",
       "3     18420    382357   120200            19          3                  2   \n",
       "4     24691    690242    77357             2          3                  2   \n",
       "..      ...       ...      ...           ...        ...                ...   \n",
       "101  457013   3384021    14881             6          3                  2   \n",
       "102  458816    910166   164782            18          3                  2   \n",
       "103  459635   1680532   106435             6          3                  2   \n",
       "104  468324    222962    54979            59          3                  2   \n",
       "105  477526   2592344    46860            38          3                  2   \n",
       "\n",
       "     days_since_prior_order  \n",
       "0                      16.0  \n",
       "1                      11.0  \n",
       "2                       7.0  \n",
       "3                      11.0  \n",
       "4                       9.0  \n",
       "..                      ...  \n",
       "101                    30.0  \n",
       "102                     4.0  \n",
       "103                    21.0  \n",
       "104                     3.0  \n",
       "105                     3.0  \n",
       "\n",
       "[106 rows x 7 columns]"
      ]
     },
     "execution_count": 9,
     "metadata": {},
     "output_type": "execute_result"
    }
   ],
   "source": [
    "# Remove duplicate orders\n",
    "#Performing a conventional drop was crashing the notebook, so use my duplicate df from earlier\n",
    "df_instacart_orders = df_instacart_orders.drop(index=df_duplicate_index.index)\n",
    "df_instacart_orders.reset_index()\n",
    "\n",
    "#apply this on the wednesday df as well\n",
    "wednesday_2am = wednesday_2am.drop(index=df_duplicate_index.index)\n",
    "wednesday_2am.reset_index()"
   ]
  },
  {
   "cell_type": "code",
   "execution_count": 10,
   "id": "0b2396a2",
   "metadata": {},
   "outputs": [
    {
     "name": "stdout",
     "output_type": "stream",
     "text": [
      "The series object wednesday_2am contains 0 duplicate values.\n",
      "\n",
      "The instacart_orders df contains 0 duplicate values.\n"
     ]
    }
   ],
   "source": [
    "# Double check for duplicate rows\n",
    "# There could be implicit duplicates, each order ID should be unique, so I will check those\n",
    "print(f\"The series object wednesday_2am contains {wednesday_2am['order_id'].duplicated().sum()} duplicate values.\\n\")\n",
    "\n",
    "#Double checking entire df\n",
    "print(f\"The instacart_orders df contains {df_instacart_orders.duplicated().sum()} duplicate values.\")"
   ]
  },
  {
   "cell_type": "code",
   "execution_count": 11,
   "id": "f6113ef1",
   "metadata": {
    "scrolled": true
   },
   "outputs": [
    {
     "data": {
      "text/plain": [
       "0"
      ]
     },
     "execution_count": 11,
     "metadata": {},
     "output_type": "execute_result"
    }
   ],
   "source": [
    "# Double check for duplicate order IDs only\n",
    "df_instacart_orders['order_id'].duplicated().sum()"
   ]
  },
  {
   "cell_type": "markdown",
   "id": "c35d8800",
   "metadata": {},
   "source": [
    "In the instacart_orders data, I have found that there existed 15 duplicate values and stored them in their own DataFrame. I then used this DataFrame to drop rows from the original read DateFrame by dropping rows where the index matched, and reset the indices. I then checked for implicit duplicates by confirming that each order_id was in fact unique as it is intended. Using a formatted string, I displayed that there are in fact no duplicate values."
   ]
  },
  {
   "cell_type": "markdown",
   "id": "45e6bc46",
   "metadata": {},
   "source": [
    "### `products` data frame"
   ]
  },
  {
   "cell_type": "code",
   "execution_count": 12,
   "id": "5f526b5b-8175-46fa-a0fd-441767d50e64",
   "metadata": {},
   "outputs": [
    {
     "name": "stdout",
     "output_type": "stream",
     "text": [
      "There are 0 duplicate values in the \"products\" data.\n"
     ]
    }
   ],
   "source": [
    "# Check for fully duplicate rows\n",
    "df_products_dups = df_products.duplicated()\n",
    "print(f\"There are {df_products_dups.sum()} duplicate values in the \\\"products\\\" data.\")\n",
    "\n",
    "#returning 0 because of product_id"
   ]
  },
  {
   "cell_type": "code",
   "execution_count": 13,
   "id": "88daa4f4",
   "metadata": {},
   "outputs": [
    {
     "data": {
      "text/plain": [
       "0"
      ]
     },
     "execution_count": 13,
     "metadata": {},
     "output_type": "execute_result"
    }
   ],
   "source": [
    "# Check for just duplicate product IDs\n",
    "prod_dup_ids = df_products['product_id'].duplicated().sum()\n",
    "prod_dup_ids"
   ]
  },
  {
   "cell_type": "code",
   "execution_count": 14,
   "id": "c773f0bf",
   "metadata": {},
   "outputs": [
    {
     "name": "stdout",
     "output_type": "stream",
     "text": [
      "There are 1361 total product name duplicates.\n",
      "\n"
     ]
    },
    {
     "data": {
      "text/html": [
       "<div>\n",
       "<style scoped>\n",
       "    .dataframe tbody tr th:only-of-type {\n",
       "        vertical-align: middle;\n",
       "    }\n",
       "\n",
       "    .dataframe tbody tr th {\n",
       "        vertical-align: top;\n",
       "    }\n",
       "\n",
       "    .dataframe thead th {\n",
       "        text-align: right;\n",
       "    }\n",
       "</style>\n",
       "<table border=\"1\" class=\"dataframe\">\n",
       "  <thead>\n",
       "    <tr style=\"text-align: right;\">\n",
       "      <th></th>\n",
       "      <th>product_id</th>\n",
       "      <th>product_name</th>\n",
       "      <th>aisle_id</th>\n",
       "      <th>department_id</th>\n",
       "    </tr>\n",
       "  </thead>\n",
       "  <tbody>\n",
       "    <tr>\n",
       "      <th>14872</th>\n",
       "      <td>14873</td>\n",
       "      <td>fruit cocktail in heavy syrup</td>\n",
       "      <td>99</td>\n",
       "      <td>15</td>\n",
       "    </tr>\n",
       "    <tr>\n",
       "      <th>42570</th>\n",
       "      <td>42571</td>\n",
       "      <td>fruit cocktail in heavy syrup</td>\n",
       "      <td>99</td>\n",
       "      <td>15</td>\n",
       "    </tr>\n",
       "  </tbody>\n",
       "</table>\n",
       "</div>"
      ],
      "text/plain": [
       "       product_id                   product_name  aisle_id  department_id\n",
       "14872       14873  fruit cocktail in heavy syrup        99             15\n",
       "42570       42571  fruit cocktail in heavy syrup        99             15"
      ]
     },
     "execution_count": 14,
     "metadata": {},
     "output_type": "execute_result"
    }
   ],
   "source": [
    "# Check for just duplicate product names (convert names to lowercase to compare better)\n",
    "\n",
    "# Going to permanently change these to lowercase\n",
    "df_products['product_name'] = df_products['product_name'].str.lower()\n",
    "prod_name_dups = df_products['product_name'].duplicated()\n",
    "\n",
    "print(f\"There are {prod_name_dups.sum()} total product name duplicates.\\n\")\n",
    "\n",
    "df_products['product_name'].isna().sum() #most of the duplicate names are missing values. There are some non-blanks\n",
    "                                         #that should be safe to remove. \n",
    "\n",
    "df_duplicate_prods_index_2 = df_products[prod_name_dups]\n",
    "df_duplicate_prods_index_2.sample(20)\n",
    "\n",
    "df_products[df_products['product_name'] == 'fruit cocktail in heavy syrup'] #we can see that product_id is unique, but name is not"
   ]
  },
  {
   "cell_type": "code",
   "execution_count": 15,
   "id": "01efd02e",
   "metadata": {},
   "outputs": [
    {
     "name": "stdout",
     "output_type": "stream",
     "text": [
      "104\n",
      "(49590, 5)\n"
     ]
    }
   ],
   "source": [
    "# Check for duplicate product names that aren't missing (that are not null values)\n",
    "non_nulls_prod_name = df_products[df_products['product_name'].notna()]\n",
    "#print(non_nulls_prod_name.head(50))\n",
    "#print()\n",
    "\n",
    "#subset product_name\n",
    "non_nulls_dup_count = non_nulls_prod_name.duplicated(subset='product_name')\n",
    "\n",
    "print(non_nulls_dup_count.sum()) #there are 104 non-null dups\n",
    "\n",
    "\n",
    "#drop these 104 values\n",
    "df_prod_dup_index = non_nulls_dup_count[non_nulls_dup_count].index #list of 104 indices\n",
    "df_products = df_products.drop(index=df_prod_dup_index).reset_index()\n",
    "print(df_products.shape) #prev 49694: 49694 - 49590 = 104, boom!\n",
    "#print(df_products.info())"
   ]
  },
  {
   "cell_type": "markdown",
   "id": "9da8d293",
   "metadata": {},
   "source": [
    "In the given products data, I determined that originally there were no duplicate values, but this was because the product_id column was still unique on the implicit duplicate product names; I then needed to analyze the product names. To begin, I convert them all to lowercase, to better catch the duplicates and removed all null values so those were not being caught. I was able to determine that there were 104 duplicate non-null product names with unique product ids, and therefore removed those 104 from the original database, and reset the indices. "
   ]
  },
  {
   "cell_type": "markdown",
   "id": "60f30db1",
   "metadata": {},
   "source": [
    "### `departments` data frame"
   ]
  },
  {
   "cell_type": "markdown",
   "id": "6de79bfc",
   "metadata": {},
   "source": [
    "According to the info statement printed below the read statement conducted earlier, there are no null values. I will check if there are duplicate values, unlikely in this small categorical dataset. "
   ]
  },
  {
   "cell_type": "code",
   "execution_count": 16,
   "id": "332b12bb",
   "metadata": {},
   "outputs": [
    {
     "name": "stdout",
     "output_type": "stream",
     "text": [
      "0\n",
      "\n",
      "['frozen' 'other' 'bakery' 'produce' 'alcohol' 'international' 'beverages'\n",
      " 'pets' 'dry goods pasta' 'bulk' 'personal care' 'meat seafood' 'pantry'\n",
      " 'breakfast' 'canned goods' 'dairy eggs' 'household' 'babies' 'snacks'\n",
      " 'deli' 'missing']\n"
     ]
    }
   ],
   "source": [
    "print(df_departments.duplicated().sum())\n",
    "print()\n",
    "print(df_departments['department'].unique())"
   ]
  },
  {
   "cell_type": "markdown",
   "id": "983b46f0",
   "metadata": {},
   "source": [
    "As we can see, there are no duplicate values, and we can also see that there are no implicit duplicates. The data types are also correct. No further processing is necessary. "
   ]
  },
  {
   "cell_type": "markdown",
   "id": "889349c1",
   "metadata": {},
   "source": [
    "### `aisles` data frame"
   ]
  },
  {
   "cell_type": "markdown",
   "id": "853d6184",
   "metadata": {},
   "source": [
    "Much like the departments data, the info statement printed below the read statement conducted earlier tells us that there are no null values. I will again check if there are duplicate and/or implicit duplicate values."
   ]
  },
  {
   "cell_type": "code",
   "execution_count": 17,
   "id": "da7c2822",
   "metadata": {},
   "outputs": [
    {
     "name": "stdout",
     "output_type": "stream",
     "text": [
      "There are 0 duplicate values in the aisles dataset.\n",
      "\n",
      "The number of duplicate values in the aisles column are 0.\n"
     ]
    }
   ],
   "source": [
    "print(f\"There are {df_aisles.duplicated().sum()} duplicate values in the aisles dataset.\")\n",
    "print()\n",
    "print(f\"The number of duplicate values in the aisles column are {df_aisles['aisle'].duplicated().sum()}.\")"
   ]
  },
  {
   "cell_type": "markdown",
   "id": "ac63826f",
   "metadata": {},
   "source": [
    "As we can see, there are no duplicate values, and we can also see that there are no implicit duplicates. The data types are also correct. No further processing is necessary.\n",
    "I will need to keep in mind that \"other\" is 6 and \"missing\" is 100."
   ]
  },
  {
   "cell_type": "markdown",
   "id": "274cd06a",
   "metadata": {},
   "source": [
    "### `order_products` data frame"
   ]
  },
  {
   "cell_type": "code",
   "execution_count": 18,
   "id": "52326689-84a8-4b8f-a881-7c68780f62c9",
   "metadata": {},
   "outputs": [
    {
     "data": {
      "text/plain": [
       "0"
      ]
     },
     "execution_count": 18,
     "metadata": {},
     "output_type": "execute_result"
    }
   ],
   "source": [
    "# Check for fullly duplicate rows\n",
    "df_order_products.duplicated().sum()"
   ]
  },
  {
   "cell_type": "code",
   "execution_count": 19,
   "id": "7b861391",
   "metadata": {},
   "outputs": [
    {
     "name": "stdout",
     "output_type": "stream",
     "text": [
      "4094961\n",
      "4499434\n"
     ]
    }
   ],
   "source": [
    "# Double check for any other tricky duplicates\n",
    "#check individual columns\n",
    "df_order_products.columns # = ['order_id', 'product_id', 'add_to_cart_order', 'reordered']\n",
    "\n",
    "print(df_order_products['order_id'].duplicated().sum())\n",
    "#it makes sense for this to be duplicated as this dataset reprsents rows for products placed inside of orders, so the order_id should show multiple times.\n",
    "\n",
    "print(df_order_products['product_id'].duplicated().sum())\n",
    "#this also makes sense as some people will probably buy the same items at the grocery store\n",
    "\n",
    "#the last two columns also make sense to have duplicates as one is a boolean and the other represents order, which will be repeated"
   ]
  },
  {
   "cell_type": "markdown",
   "id": "0b890492",
   "metadata": {},
   "source": [
    "I believe that the only way we can test for duplicates in this data set is by testing all columns in all rows so see if there were any pasting errors. This test resulted in no duplicates. No further processing necessary. "
   ]
  },
  {
   "cell_type": "markdown",
   "id": "1e46de76",
   "metadata": {},
   "source": [
    "## Find and remove missing values\n",
    "<a id='missing'></a>"
   ]
  },
  {
   "cell_type": "markdown",
   "id": "c0aebd78",
   "metadata": {},
   "source": [
    "### `products` data frame"
   ]
  },
  {
   "cell_type": "code",
   "execution_count": 20,
   "id": "fe4a8b0f",
   "metadata": {},
   "outputs": [
    {
     "data": {
      "text/plain": [
       "Index(['index', 'product_id', 'product_name', 'aisle_id', 'department_id'], dtype='object')"
      ]
     },
     "execution_count": 20,
     "metadata": {},
     "output_type": "execute_result"
    }
   ],
   "source": [
    "df_products.shape\n",
    "df_products.columns"
   ]
  },
  {
   "cell_type": "code",
   "execution_count": 21,
   "id": "e96167bc",
   "metadata": {},
   "outputs": [
    {
     "name": "stdout",
     "output_type": "stream",
     "text": [
      "aisle_id\n",
      "100    1258\n",
      "Name: count, dtype: int64\n"
     ]
    },
    {
     "data": {
      "text/html": [
       "<div>\n",
       "<style scoped>\n",
       "    .dataframe tbody tr th:only-of-type {\n",
       "        vertical-align: middle;\n",
       "    }\n",
       "\n",
       "    .dataframe tbody tr th {\n",
       "        vertical-align: top;\n",
       "    }\n",
       "\n",
       "    .dataframe thead th {\n",
       "        text-align: right;\n",
       "    }\n",
       "</style>\n",
       "<table border=\"1\" class=\"dataframe\">\n",
       "  <thead>\n",
       "    <tr style=\"text-align: right;\">\n",
       "      <th></th>\n",
       "      <th>index</th>\n",
       "      <th>product_id</th>\n",
       "      <th>product_name</th>\n",
       "      <th>aisle_id</th>\n",
       "      <th>department_id</th>\n",
       "    </tr>\n",
       "  </thead>\n",
       "  <tbody>\n",
       "    <tr>\n",
       "      <th>37114</th>\n",
       "      <td>37165</td>\n",
       "      <td>37166</td>\n",
       "      <td>yogurt mint sauce</td>\n",
       "      <td>6</td>\n",
       "      <td>2</td>\n",
       "    </tr>\n",
       "    <tr>\n",
       "      <th>39285</th>\n",
       "      <td>39343</td>\n",
       "      <td>39344</td>\n",
       "      <td>microthin condoms</td>\n",
       "      <td>6</td>\n",
       "      <td>2</td>\n",
       "    </tr>\n",
       "    <tr>\n",
       "      <th>36264</th>\n",
       "      <td>36313</td>\n",
       "      <td>36314</td>\n",
       "      <td>coconut foot creme</td>\n",
       "      <td>6</td>\n",
       "      <td>2</td>\n",
       "    </tr>\n",
       "    <tr>\n",
       "      <th>9764</th>\n",
       "      <td>9769</td>\n",
       "      <td>9770</td>\n",
       "      <td>sweep &amp; vac floor vacuum starter kit</td>\n",
       "      <td>6</td>\n",
       "      <td>2</td>\n",
       "    </tr>\n",
       "    <tr>\n",
       "      <th>33243</th>\n",
       "      <td>33285</td>\n",
       "      <td>33286</td>\n",
       "      <td>margarita</td>\n",
       "      <td>6</td>\n",
       "      <td>2</td>\n",
       "    </tr>\n",
       "    <tr>\n",
       "      <th>23445</th>\n",
       "      <td>23466</td>\n",
       "      <td>23467</td>\n",
       "      <td>platinum premium lubricant</td>\n",
       "      <td>6</td>\n",
       "      <td>2</td>\n",
       "    </tr>\n",
       "    <tr>\n",
       "      <th>20209</th>\n",
       "      <td>20227</td>\n",
       "      <td>20228</td>\n",
       "      <td>rescue sleep</td>\n",
       "      <td>6</td>\n",
       "      <td>2</td>\n",
       "    </tr>\n",
       "    <tr>\n",
       "      <th>21945</th>\n",
       "      <td>21964</td>\n",
       "      <td>21965</td>\n",
       "      <td>quinoa flour</td>\n",
       "      <td>6</td>\n",
       "      <td>2</td>\n",
       "    </tr>\n",
       "    <tr>\n",
       "      <th>46325</th>\n",
       "      <td>46413</td>\n",
       "      <td>46414</td>\n",
       "      <td>the ultimate margarita</td>\n",
       "      <td>6</td>\n",
       "      <td>2</td>\n",
       "    </tr>\n",
       "    <tr>\n",
       "      <th>3620</th>\n",
       "      <td>3621</td>\n",
       "      <td>3622</td>\n",
       "      <td>cotes de provence</td>\n",
       "      <td>6</td>\n",
       "      <td>2</td>\n",
       "    </tr>\n",
       "  </tbody>\n",
       "</table>\n",
       "</div>"
      ],
      "text/plain": [
       "       index  product_id                          product_name  aisle_id  \\\n",
       "37114  37165       37166                     yogurt mint sauce         6   \n",
       "39285  39343       39344                     microthin condoms         6   \n",
       "36264  36313       36314                    coconut foot creme         6   \n",
       "9764    9769        9770  sweep & vac floor vacuum starter kit         6   \n",
       "33243  33285       33286                             margarita         6   \n",
       "23445  23466       23467            platinum premium lubricant         6   \n",
       "20209  20227       20228                          rescue sleep         6   \n",
       "21945  21964       21965                          quinoa flour         6   \n",
       "46325  46413       46414                the ultimate margarita         6   \n",
       "3620    3621        3622                     cotes de provence         6   \n",
       "\n",
       "       department_id  \n",
       "37114              2  \n",
       "39285              2  \n",
       "36264              2  \n",
       "9764               2  \n",
       "33243              2  \n",
       "23445              2  \n",
       "20209              2  \n",
       "21945              2  \n",
       "46325              2  \n",
       "3620               2  "
      ]
     },
     "execution_count": 21,
     "metadata": {},
     "output_type": "execute_result"
    }
   ],
   "source": [
    "# Are all of the missing product names associated with aisle ID 100?\n",
    "missing_prods = df_products[df_products['product_name'].isna()]\n",
    "print(missing_prods['aisle_id'].value_counts())\n",
    "\n",
    "# We know from info() that there are 1,258 present null values. From our output here, it appears all of them are on ID 100.\n",
    "# Check \"other\" category\n",
    "other_prods = df_products[df_products['aisle_id'] == 6]\n",
    "other_prods.sample(10)\n",
    "#It appears the other category is not related to the nulls."
   ]
  },
  {
   "cell_type": "code",
   "execution_count": 22,
   "id": "8fd0a541",
   "metadata": {},
   "outputs": [
    {
     "name": "stdout",
     "output_type": "stream",
     "text": [
      "Department ID 21 is: \"missing\"\n",
      "\n",
      "department_id\n",
      "21    1258\n",
      "Name: count, dtype: int64\n"
     ]
    }
   ],
   "source": [
    "# Are all of the missing product names associated with department ID 21?\n",
    "print(f\"Department ID 21 is: \\\"{df_departments.loc[20, 'department']}\\\"\\n\")\n",
    "print(missing_prods['department_id'].value_counts())\n",
    "\n",
    "# It appears from our output that indeed each missing product name is associated with department 21"
   ]
  },
  {
   "cell_type": "code",
   "execution_count": 23,
   "id": "325c3464",
   "metadata": {},
   "outputs": [
    {
     "name": "stdout",
     "output_type": "stream",
     "text": [
      "Department ID 21 is: \"missing\"\n",
      "\n",
      "Aisle ID 100 is: \"missing\"\n"
     ]
    }
   ],
   "source": [
    "# What is this ailse and department?\n",
    "print(f\"Department ID 21 is: \\\"{df_departments.loc[20, 'department']}\\\"\\n\")\n",
    "print(f\"Aisle ID 100 is: \\\"{df_aisles.loc[99, 'aisle']}\\\"\")"
   ]
  },
  {
   "cell_type": "code",
   "execution_count": 24,
   "id": "6b295120",
   "metadata": {},
   "outputs": [
    {
     "data": {
      "text/plain": [
       "index            0\n",
       "product_id       0\n",
       "product_name     0\n",
       "aisle_id         0\n",
       "department_id    0\n",
       "dtype: int64"
      ]
     },
     "execution_count": 24,
     "metadata": {},
     "output_type": "execute_result"
    }
   ],
   "source": [
    "# Fill missing product names with 'Unknown'\n",
    "df_products['product_name'] = df_products['product_name'].fillna('Unknown')\n",
    "\n",
    "#check work\n",
    "df_products.isna().sum()"
   ]
  },
  {
   "cell_type": "markdown",
   "id": "7eb45c86",
   "metadata": {},
   "source": [
    "### `orders` data frame"
   ]
  },
  {
   "cell_type": "code",
   "execution_count": 25,
   "id": "93e41d96",
   "metadata": {},
   "outputs": [
    {
     "name": "stdout",
     "output_type": "stream",
     "text": [
      "<class 'pandas.core.frame.DataFrame'>\n",
      "Index: 478952 entries, 0 to 478966\n",
      "Data columns (total 6 columns):\n",
      " #   Column                  Non-Null Count   Dtype  \n",
      "---  ------                  --------------   -----  \n",
      " 0   order_id                478952 non-null  int64  \n",
      " 1   user_id                 478952 non-null  int64  \n",
      " 2   order_number            478952 non-null  int64  \n",
      " 3   order_dow               478952 non-null  int64  \n",
      " 4   order_hour_of_day       478952 non-null  int64  \n",
      " 5   days_since_prior_order  450135 non-null  float64\n",
      "dtypes: float64(1), int64(5)\n",
      "memory usage: 25.6 MB\n"
     ]
    },
    {
     "data": {
      "text/plain": [
       "array([30.,  9.,  2., 10., 17., 15., 22.,  4.,  8.,  3., 12., 11.,  7.,\n",
       "        1.,  5.,  6., 14., nan, 20., 16., 24., 23., 27., 13.,  0., 28.,\n",
       "       21., 25., 19., 18., 29., 26.])"
      ]
     },
     "execution_count": 25,
     "metadata": {},
     "output_type": "execute_result"
    }
   ],
   "source": [
    "df_instacart_orders.info()\n",
    "df_instacart_orders['days_since_prior_order'].unique()"
   ]
  },
  {
   "cell_type": "code",
   "execution_count": 26,
   "id": "166e5a86",
   "metadata": {},
   "outputs": [
    {
     "name": "stdout",
     "output_type": "stream",
     "text": [
      "0\n",
      "\n"
     ]
    },
    {
     "data": {
      "text/html": [
       "<div>\n",
       "<style scoped>\n",
       "    .dataframe tbody tr th:only-of-type {\n",
       "        vertical-align: middle;\n",
       "    }\n",
       "\n",
       "    .dataframe tbody tr th {\n",
       "        vertical-align: top;\n",
       "    }\n",
       "\n",
       "    .dataframe thead th {\n",
       "        text-align: right;\n",
       "    }\n",
       "</style>\n",
       "<table border=\"1\" class=\"dataframe\">\n",
       "  <thead>\n",
       "    <tr style=\"text-align: right;\">\n",
       "      <th></th>\n",
       "      <th>order_id</th>\n",
       "      <th>user_id</th>\n",
       "      <th>order_number</th>\n",
       "      <th>order_dow</th>\n",
       "      <th>order_hour_of_day</th>\n",
       "      <th>days_since_prior_order</th>\n",
       "    </tr>\n",
       "  </thead>\n",
       "  <tbody>\n",
       "    <tr>\n",
       "      <th>445638</th>\n",
       "      <td>326712</td>\n",
       "      <td>24488</td>\n",
       "      <td>1</td>\n",
       "      <td>6</td>\n",
       "      <td>15</td>\n",
       "      <td>NaN</td>\n",
       "    </tr>\n",
       "    <tr>\n",
       "      <th>235943</th>\n",
       "      <td>2820822</td>\n",
       "      <td>175865</td>\n",
       "      <td>1</td>\n",
       "      <td>5</td>\n",
       "      <td>16</td>\n",
       "      <td>NaN</td>\n",
       "    </tr>\n",
       "    <tr>\n",
       "      <th>364905</th>\n",
       "      <td>1762344</td>\n",
       "      <td>81939</td>\n",
       "      <td>1</td>\n",
       "      <td>2</td>\n",
       "      <td>17</td>\n",
       "      <td>NaN</td>\n",
       "    </tr>\n",
       "    <tr>\n",
       "      <th>395658</th>\n",
       "      <td>2044037</td>\n",
       "      <td>71350</td>\n",
       "      <td>1</td>\n",
       "      <td>1</td>\n",
       "      <td>14</td>\n",
       "      <td>NaN</td>\n",
       "    </tr>\n",
       "    <tr>\n",
       "      <th>195788</th>\n",
       "      <td>957528</td>\n",
       "      <td>202982</td>\n",
       "      <td>1</td>\n",
       "      <td>0</td>\n",
       "      <td>9</td>\n",
       "      <td>NaN</td>\n",
       "    </tr>\n",
       "    <tr>\n",
       "      <th>364851</th>\n",
       "      <td>3330307</td>\n",
       "      <td>143142</td>\n",
       "      <td>1</td>\n",
       "      <td>1</td>\n",
       "      <td>9</td>\n",
       "      <td>NaN</td>\n",
       "    </tr>\n",
       "    <tr>\n",
       "      <th>301782</th>\n",
       "      <td>2535759</td>\n",
       "      <td>148407</td>\n",
       "      <td>1</td>\n",
       "      <td>0</td>\n",
       "      <td>13</td>\n",
       "      <td>NaN</td>\n",
       "    </tr>\n",
       "    <tr>\n",
       "      <th>350319</th>\n",
       "      <td>2767206</td>\n",
       "      <td>5100</td>\n",
       "      <td>1</td>\n",
       "      <td>5</td>\n",
       "      <td>11</td>\n",
       "      <td>NaN</td>\n",
       "    </tr>\n",
       "    <tr>\n",
       "      <th>321831</th>\n",
       "      <td>539855</td>\n",
       "      <td>79612</td>\n",
       "      <td>1</td>\n",
       "      <td>2</td>\n",
       "      <td>12</td>\n",
       "      <td>NaN</td>\n",
       "    </tr>\n",
       "    <tr>\n",
       "      <th>285723</th>\n",
       "      <td>1521492</td>\n",
       "      <td>200347</td>\n",
       "      <td>1</td>\n",
       "      <td>4</td>\n",
       "      <td>20</td>\n",
       "      <td>NaN</td>\n",
       "    </tr>\n",
       "  </tbody>\n",
       "</table>\n",
       "</div>"
      ],
      "text/plain": [
       "        order_id  user_id  order_number  order_dow  order_hour_of_day  \\\n",
       "445638    326712    24488             1          6                 15   \n",
       "235943   2820822   175865             1          5                 16   \n",
       "364905   1762344    81939             1          2                 17   \n",
       "395658   2044037    71350             1          1                 14   \n",
       "195788    957528   202982             1          0                  9   \n",
       "364851   3330307   143142             1          1                  9   \n",
       "301782   2535759   148407             1          0                 13   \n",
       "350319   2767206     5100             1          5                 11   \n",
       "321831    539855    79612             1          2                 12   \n",
       "285723   1521492   200347             1          4                 20   \n",
       "\n",
       "        days_since_prior_order  \n",
       "445638                     NaN  \n",
       "235943                     NaN  \n",
       "364905                     NaN  \n",
       "395658                     NaN  \n",
       "195788                     NaN  \n",
       "364851                     NaN  \n",
       "301782                     NaN  \n",
       "350319                     NaN  \n",
       "321831                     NaN  \n",
       "285723                     NaN  "
      ]
     },
     "execution_count": 26,
     "metadata": {},
     "output_type": "execute_result"
    }
   ],
   "source": [
    "# Are there any missing values where it's not a customer's first order?\n",
    "not_first_order = df_instacart_orders[df_instacart_orders['order_number'] > 1]\n",
    "\n",
    "missing_not_first_order = not_first_order['days_since_prior_order'].isna().sum()\n",
    "print(missing_not_first_order)\n",
    "print()\n",
    "\n",
    "first_order = df_instacart_orders[df_instacart_orders['order_number'] == 1]\n",
    "first_order.sample(10)"
   ]
  },
  {
   "cell_type": "markdown",
   "id": "4e23d089",
   "metadata": {},
   "source": [
    "It appears that there are no null values when it is not a customer's first order. The null seems appropriate here. I will not be able to convert to a float, but it is incorrect to remove all first order rows. It appears the correct choice is to leave these nulls. Putting in another value also doesn't make sense here. "
   ]
  },
  {
   "cell_type": "markdown",
   "id": "69dc9ca4",
   "metadata": {},
   "source": [
    "### `order_products` data frame"
   ]
  },
  {
   "cell_type": "code",
   "execution_count": 27,
   "id": "b8240253",
   "metadata": {},
   "outputs": [
    {
     "name": "stdout",
     "output_type": "stream",
     "text": [
      "<class 'pandas.core.frame.DataFrame'>\n",
      "RangeIndex: 4545007 entries, 0 to 4545006\n",
      "Data columns (total 4 columns):\n",
      " #   Column             Non-Null Count    Dtype  \n",
      "---  ------             --------------    -----  \n",
      " 0   order_id           4545007 non-null  int64  \n",
      " 1   product_id         4545007 non-null  int64  \n",
      " 2   add_to_cart_order  4544171 non-null  float64\n",
      " 3   reordered          4545007 non-null  int64  \n",
      "dtypes: float64(1), int64(3)\n",
      "memory usage: 138.7 MB\n"
     ]
    }
   ],
   "source": [
    "df_order_products.info(show_counts=True)"
   ]
  },
  {
   "cell_type": "code",
   "execution_count": 28,
   "id": "9a78e5ee",
   "metadata": {},
   "outputs": [
    {
     "name": "stdout",
     "output_type": "stream",
     "text": [
      "The min of the column is 1.0, and the max of the column is 64.0\n"
     ]
    }
   ],
   "source": [
    "# What are the min and max values in this column? - I'm assuming you mean the add_to_cart_order column\n",
    "max = df_order_products['add_to_cart_order'].max()\n",
    "min = df_order_products['add_to_cart_order'].min()\n",
    "\n",
    "print(f\"The min of the column is {min}, and the max of the column is {max}\")\n"
   ]
  },
  {
   "cell_type": "code",
   "execution_count": 29,
   "id": "ab9d0c2b",
   "metadata": {
    "scrolled": true
   },
   "outputs": [
    {
     "data": {
      "text/plain": [
       "70"
      ]
     },
     "execution_count": 29,
     "metadata": {},
     "output_type": "execute_result"
    }
   ],
   "source": [
    "# Save all order IDs with at least one missing value in 'add_to_cart_order'\n",
    "order_ids_w_miss = df_order_products[df_order_products['add_to_cart_order'].isna()]\n",
    "#print(order_ids_w_miss.head(10))\n",
    "order_ids_w_miss_filt = order_ids_w_miss['order_id'].unique()\n",
    "\n",
    "len(order_ids_w_miss_filt) #70 different order ids w/ null values"
   ]
  },
  {
   "cell_type": "code",
   "execution_count": 30,
   "id": "54c31695",
   "metadata": {},
   "outputs": [
    {
     "data": {
      "text/plain": [
       "order_id\n",
       "9310        65\n",
       "747668      65\n",
       "1598369     65\n",
       "1677118     65\n",
       "2170451     65\n",
       "          ... \n",
       "1959075     98\n",
       "171934     104\n",
       "2136777    108\n",
       "3308010    115\n",
       "61355      127\n",
       "Length: 70, dtype: int64"
      ]
     },
     "execution_count": 30,
     "metadata": {},
     "output_type": "execute_result"
    }
   ],
   "source": [
    "# Do all orders with missing values have more than 64 products? --higher than the max \n",
    "#df_order_products.query(\"order_id in @order_ids_w_miss and add_to_cart_order.isnull()\")\n",
    "\n",
    "df_order_products[df_order_products['order_id'].isin(order_ids_w_miss_filt)].groupby('order_id').size().sort_values()\n"
   ]
  },
  {
   "cell_type": "code",
   "execution_count": 31,
   "id": "7a987d08",
   "metadata": {},
   "outputs": [
    {
     "name": "stdout",
     "output_type": "stream",
     "text": [
      "<class 'pandas.core.frame.DataFrame'>\n",
      "RangeIndex: 4545007 entries, 0 to 4545006\n",
      "Data columns (total 4 columns):\n",
      " #   Column             Non-Null Count    Dtype\n",
      "---  ------             --------------    -----\n",
      " 0   order_id           4545007 non-null  int64\n",
      " 1   product_id         4545007 non-null  int64\n",
      " 2   add_to_cart_order  4545007 non-null  int32\n",
      " 3   reordered          4545007 non-null  int64\n",
      "dtypes: int32(1), int64(3)\n",
      "memory usage: 121.4 MB\n"
     ]
    }
   ],
   "source": [
    "# Replace missing values with 999 and convert column to integer type\n",
    "df_order_products['add_to_cart_order'] = df_order_products['add_to_cart_order'].fillna(999)\n",
    "df_order_products['add_to_cart_order'] = df_order_products['add_to_cart_order'].astype('int')\n",
    "df_order_products.info(show_counts=True)"
   ]
  },
  {
   "cell_type": "markdown",
   "id": "turkish-kidney",
   "metadata": {},
   "source": [
    "# [A] Easy (must complete all to pass)\n",
    "<a id='easy'></a>"
   ]
  },
  {
   "cell_type": "markdown",
   "id": "short-capability",
   "metadata": {},
   "source": [
    "### [A1] Verify that the `'order_hour_of_day'` and `'order_dow'` values in the `orders` tables are sensible (i.e. `'order_hour_of_day'` ranges from 0 to 23 and `'order_dow'` ranges from 0 to 6)"
   ]
  },
  {
   "cell_type": "code",
   "execution_count": 32,
   "id": "growing-fruit",
   "metadata": {},
   "outputs": [
    {
     "data": {
      "text/plain": [
       "[0,\n",
       " 1,\n",
       " 2,\n",
       " 3,\n",
       " 4,\n",
       " 5,\n",
       " 6,\n",
       " 7,\n",
       " 8,\n",
       " 9,\n",
       " 10,\n",
       " 11,\n",
       " 12,\n",
       " 13,\n",
       " 14,\n",
       " 15,\n",
       " 16,\n",
       " 17,\n",
       " 18,\n",
       " 19,\n",
       " 20,\n",
       " 21,\n",
       " 22,\n",
       " 23]"
      ]
     },
     "execution_count": 32,
     "metadata": {},
     "output_type": "execute_result"
    }
   ],
   "source": [
    "sorted(df_instacart_orders['order_hour_of_day'].unique())"
   ]
  },
  {
   "cell_type": "code",
   "execution_count": 33,
   "id": "accessory-malaysia",
   "metadata": {},
   "outputs": [
    {
     "data": {
      "text/plain": [
       "[0, 1, 2, 3, 4, 5, 6]"
      ]
     },
     "execution_count": 33,
     "metadata": {},
     "output_type": "execute_result"
    }
   ],
   "source": [
    "sorted(df_instacart_orders['order_dow'].unique())"
   ]
  },
  {
   "cell_type": "markdown",
   "id": "a6743a70",
   "metadata": {},
   "source": [
    "### [A2] What time of day do people shop for groceries?"
   ]
  },
  {
   "cell_type": "code",
   "execution_count": 34,
   "id": "a36cca27",
   "metadata": {},
   "outputs": [
    {
     "data": {
      "text/plain": [
       "order_hour_of_day\n",
       "10    40578\n",
       "11    40032\n",
       "15    39789\n",
       "14    39631\n",
       "13    39007\n",
       "Name: order_id, dtype: int64"
      ]
     },
     "execution_count": 34,
     "metadata": {},
     "output_type": "execute_result"
    }
   ],
   "source": [
    "time_of_day = df_instacart_orders.groupby('order_hour_of_day')['order_id'].size()\n",
    "time_of_day.sort_values(ascending=False).head()"
   ]
  },
  {
   "cell_type": "code",
   "execution_count": 35,
   "id": "647f3b85",
   "metadata": {},
   "outputs": [
    {
     "data": {
      "image/png": "[encoded data removed]",
      "text/plain": [
       "<Figure size 1000x500 with 1 Axes>"
      ]
     },
     "metadata": {},
     "output_type": "display_data"
    }
   ],
   "source": [
    "# Plot histogram of time_of_day Series data; Use Rice's Rule for bins: n=478,952\n",
    "plt.figure(figsize=(10,5))\n",
    "\n",
    "#I want nice labels for each hour - create them using loop\n",
    "xtics = []\n",
    "for i in range(24):\n",
    "    xtics.append(i)\n",
    "    \n",
    "df_instacart_orders['order_hour_of_day'].plot(kind='hist',\n",
    "                                              bins=156,\n",
    "                                              color='skyblue',\n",
    "                                              edgecolor='black',\n",
    "                                              title='Popular Instacart Order Times')\n",
    "\n",
    "plt.xlabel('Time of Day (hrs/military)')\n",
    "plt.xticks(xtics)\n",
    "plt.show()"
   ]
  },
  {
   "cell_type": "markdown",
   "id": "11270eed",
   "metadata": {},
   "source": [
    "Looks like most popular times are 10-3pm, but with a slight dip at noon interestingly. Are people enjoying lunch instead of buying gorceries? Could be!\n",
    "Also worth noting that at the extreme times in the day (early morning and late at night), later at night is preferred over early in the morning. "
   ]
  },
  {
   "cell_type": "markdown",
   "id": "documented-command",
   "metadata": {},
   "source": [
    "### [A3] What day of the week do people shop for groceries?"
   ]
  },
  {
   "cell_type": "code",
   "execution_count": 36,
   "id": "chief-digit",
   "metadata": {},
   "outputs": [
    {
     "data": {
      "text/plain": [
       "order_dow\n",
       "0    84090\n",
       "1    82185\n",
       "2    65833\n",
       "5    63488\n",
       "6    62649\n",
       "Name: order_id, dtype: int64"
      ]
     },
     "execution_count": 36,
     "metadata": {},
     "output_type": "execute_result"
    }
   ],
   "source": [
    "orders_by_day = df_instacart_orders.groupby('order_dow')['order_id'].size()\n",
    "orders_by_day.sort_values(ascending=False).head()"
   ]
  },
  {
   "cell_type": "code",
   "execution_count": 37,
   "id": "bdbf3072",
   "metadata": {},
   "outputs": [
    {
     "data": {
      "image/png": "[encoded data removed]",
      "text/plain": [
       "<Figure size 1000x500 with 1 Axes>"
      ]
     },
     "metadata": {},
     "output_type": "display_data"
    }
   ],
   "source": [
    "# Plot histogram of orders_by_day Series data; Use Rice's Rule for bins: n=478,952 - scaled back a bit for wider bars\n",
    "plt.figure(figsize=(10,5))\n",
    "\n",
    "#I want nice labels for each day - create them using loop\n",
    "xtics = []\n",
    "for i in range(7):\n",
    "    xtics.append(i)\n",
    "    \n",
    "df_instacart_orders['order_dow'].plot(kind='hist',\n",
    "                                      bins=50,\n",
    "                                      color='orange',\n",
    "                                      edgecolor='black',\n",
    "                                      title='Order Counts per Day of Week')\n",
    "\n",
    "plt.xlabel('Day of Week (0 = Sunday)')\n",
    "plt.xticks(xtics)\n",
    "plt.show()"
   ]
  },
  {
   "cell_type": "markdown",
   "id": "dominant-lightning",
   "metadata": {},
   "source": [
    "On our assumption that Wednesday is day 3, then 0 and 1 correspond to Sunday and Monday, respectively. People are buying groceries at the end of the weekend/start of the week to have food for the rest of the week, it seems. "
   ]
  },
  {
   "cell_type": "markdown",
   "id": "cutting-concert",
   "metadata": {},
   "source": [
    "### [A4] How long do people wait until placing another order?"
   ]
  },
  {
   "cell_type": "code",
   "execution_count": 38,
   "id": "c231f523",
   "metadata": {},
   "outputs": [
    {
     "data": {
      "image/png": "[encoded data removed]",
      "text/plain": [
       "<Figure size 1000x500 with 1 Axes>"
      ]
     },
     "metadata": {},
     "output_type": "display_data"
    }
   ],
   "source": [
    "# Plot histogram of days_since_prior_order column; Use Rice's Rule for bins: n=478,952\n",
    "plt.figure(figsize=(10,5))\n",
    "    \n",
    "df_instacart_orders['days_since_prior_order'].plot(kind='hist',\n",
    "                                      bins=156,\n",
    "                                      color='purple',\n",
    "                                      edgecolor='black',\n",
    "                                      title='Number of Days Since Last Order')\n",
    "\n",
    "plt.xlabel('Number of Days')\n",
    "plt.show()"
   ]
  },
  {
   "cell_type": "code",
   "execution_count": 39,
   "id": "7ead1eb5",
   "metadata": {},
   "outputs": [
    {
     "name": "stdout",
     "output_type": "stream",
     "text": [
      "\n",
      "People tend to wait 8.67 days before opening the Instacart app and placing another order.\n"
     ]
    }
   ],
   "source": [
    "#30 does seem unusually specific, as if it represents individuals that have only ordered once, not interested in those.\n",
    "\n",
    "#We can see back in our filtering that there are no values greater than 30 - code below also checks this\n",
    "df_orders_over_30 = df_instacart_orders[df_instacart_orders['days_since_prior_order'] >= 30]\n",
    "df_orders_over_30['days_since_prior_order'].unique()\n",
    "\n",
    "#calculate average with this information\n",
    "df_orders_filt = df_instacart_orders.query(\"days_since_prior_order != 30\")\n",
    "\n",
    "df_orders_avg = df_orders_filt['days_since_prior_order'].mean()\n",
    "print(f\"\\nPeople tend to wait {df_orders_avg.round(2)} days before opening the Instacart app and placing another order.\")"
   ]
  },
  {
   "cell_type": "markdown",
   "id": "discrete-vertex",
   "metadata": {},
   "source": [
    "Analysis:\n",
    "On average people wait 8-9 days before placing another order. Just over a week! Could be useful in understanding user behavior. Could also be useful as a measure of customer satisfaction. If on average they make another order in just over a week, we need to get more new Instacarters! Get on it, Marketing!"
   ]
  },
  {
   "cell_type": "markdown",
   "id": "tight-staff",
   "metadata": {},
   "source": [
    "# [B] Medium (must complete all to pass)\n",
    "<a id='med'></a>"
   ]
  },
  {
   "cell_type": "markdown",
   "id": "packed-classic",
   "metadata": {},
   "source": [
    "### [B1] Is there a difference in `'order_hour_of_day'` distributions on Wednesdays and Saturdays? Plot the histograms for both days and describe the differences that you see."
   ]
  },
  {
   "cell_type": "code",
   "execution_count": 40,
   "id": "d89b8403",
   "metadata": {},
   "outputs": [
    {
     "data": {
      "text/plain": [
       "60897"
      ]
     },
     "execution_count": 40,
     "metadata": {},
     "output_type": "execute_result"
    }
   ],
   "source": [
    "# First I will define Wednesday and Saturday dfs\n",
    "df_wed = df_instacart_orders.query(\"order_dow == 3\")\n",
    "df_sat = df_instacart_orders.query(\"order_dow == 6\")\n",
    "\n",
    "len(df_wed['order_hour_of_day'])"
   ]
  },
  {
   "cell_type": "code",
   "execution_count": 41,
   "id": "94e54e8a",
   "metadata": {},
   "outputs": [
    {
     "data": {
      "image/png": "[encoded data removed]",
      "text/plain": [
       "<Figure size 1000x500 with 1 Axes>"
      ]
     },
     "metadata": {},
     "output_type": "display_data"
    }
   ],
   "source": [
    "# Plot both on the same graph; using Rice's Rule for bin count; First set the size\n",
    "plt.figure(figsize=(10,5))\n",
    "\n",
    "df_wed['order_hour_of_day'].plot(kind='hist', bins=82, color='orange')\n",
    "df_sat['order_hour_of_day'].plot(kind='hist', bins=82, alpha=0.5, color='blue')\n",
    "\n",
    "#additional parameters\n",
    "plt.legend(['Wednesaday', 'Saturday'])\n",
    "plt.title('Time of Day Per Order')\n",
    "plt.xlabel('Time of Day (hours)')\n",
    "plt.show()"
   ]
  },
  {
   "cell_type": "markdown",
   "id": "charitable-congo",
   "metadata": {},
   "source": [
    "We can see by the graph that both days are active throughout the day, but there are some subtle differences. Saturday is more active on the extremes of the graph: the early hours of the day (late nighters from Friday) and on the other end, late into the night on Saturday as well. Also, Saturday tends to hold steadier business throughout the morning into the afternoon, whereas Wednesday business dips at noon; which creates a nice peak, versus Wednesday's dip. One other takeaway here is that Saturday is a busier day for instacart employees, and a day of higher sales consequently, than Wednesday.  "
   ]
  },
  {
   "cell_type": "markdown",
   "id": "e3891143",
   "metadata": {},
   "source": [
    "### [B2] What's the distribution for the number of orders per customer?"
   ]
  },
  {
   "cell_type": "code",
   "execution_count": 42,
   "id": "d8c26c23",
   "metadata": {},
   "outputs": [],
   "source": [
    "# Group the orders by user and count the number of orders for each user\n",
    "df_order_grp = df_instacart_orders.groupby('user_id')['order_id'].count().sort_values()\n",
    "\n",
    "#157,437 users and 27 unique values of amount of orders"
   ]
  },
  {
   "cell_type": "code",
   "execution_count": 43,
   "id": "00e69a66",
   "metadata": {},
   "outputs": [
    {
     "data": {
      "image/png": "[encoded data removed]",
      "text/plain": [
       "<Figure size 1000x500 with 1 Axes>"
      ]
     },
     "metadata": {},
     "output_type": "display_data"
    }
   ],
   "source": [
    "# Plot the histogram\n",
    "plt.figure(figsize=(10,5))\n",
    "df_order_grp.plot(kind='hist', \n",
    "                  bins=108, \n",
    "                  color='orange', \n",
    "                  #xlabel='Number of Orders',\n",
    "                  xlim=(0,20),\n",
    "                  title='Distribution of Number of Orders per Customer',\n",
    "                  edgecolor='black')\n",
    "\n",
    "plt.xlabel('Number of Orders')\n",
    "plt.show()"
   ]
  },
  {
   "cell_type": "markdown",
   "id": "54a0319c",
   "metadata": {},
   "source": [
    "### [B3] What are the top 20 popular products (display their id and name)?"
   ]
  },
  {
   "cell_type": "code",
   "execution_count": 44,
   "id": "exterior-arizona",
   "metadata": {},
   "outputs": [
    {
     "name": "stdout",
     "output_type": "stream",
     "text": [
      "(4533739, 8)\n",
      "\n"
     ]
    },
    {
     "data": {
      "text/html": [
       "<div>\n",
       "<style scoped>\n",
       "    .dataframe tbody tr th:only-of-type {\n",
       "        vertical-align: middle;\n",
       "    }\n",
       "\n",
       "    .dataframe tbody tr th {\n",
       "        vertical-align: top;\n",
       "    }\n",
       "\n",
       "    .dataframe thead th {\n",
       "        text-align: right;\n",
       "    }\n",
       "</style>\n",
       "<table border=\"1\" class=\"dataframe\">\n",
       "  <thead>\n",
       "    <tr style=\"text-align: right;\">\n",
       "      <th></th>\n",
       "      <th>order_id</th>\n",
       "      <th>product_id</th>\n",
       "      <th>add_to_cart_order</th>\n",
       "      <th>reordered</th>\n",
       "      <th>index</th>\n",
       "      <th>product_name</th>\n",
       "      <th>aisle_id</th>\n",
       "      <th>department_id</th>\n",
       "    </tr>\n",
       "  </thead>\n",
       "  <tbody>\n",
       "    <tr>\n",
       "      <th>3287508</th>\n",
       "      <td>1804730</td>\n",
       "      <td>49079</td>\n",
       "      <td>2</td>\n",
       "      <td>1</td>\n",
       "      <td>49078</td>\n",
       "      <td>special k vanilla almond cereal</td>\n",
       "      <td>121</td>\n",
       "      <td>14</td>\n",
       "    </tr>\n",
       "    <tr>\n",
       "      <th>2684421</th>\n",
       "      <td>1066773</td>\n",
       "      <td>49585</td>\n",
       "      <td>4</td>\n",
       "      <td>1</td>\n",
       "      <td>49584</td>\n",
       "      <td>organic refined coconut oil</td>\n",
       "      <td>19</td>\n",
       "      <td>13</td>\n",
       "    </tr>\n",
       "    <tr>\n",
       "      <th>379159</th>\n",
       "      <td>131634</td>\n",
       "      <td>24852</td>\n",
       "      <td>1</td>\n",
       "      <td>1</td>\n",
       "      <td>24851</td>\n",
       "      <td>banana</td>\n",
       "      <td>24</td>\n",
       "      <td>4</td>\n",
       "    </tr>\n",
       "    <tr>\n",
       "      <th>444696</th>\n",
       "      <td>2882527</td>\n",
       "      <td>28204</td>\n",
       "      <td>25</td>\n",
       "      <td>0</td>\n",
       "      <td>28203</td>\n",
       "      <td>organic fuji apple</td>\n",
       "      <td>24</td>\n",
       "      <td>4</td>\n",
       "    </tr>\n",
       "    <tr>\n",
       "      <th>1563229</th>\n",
       "      <td>952679</td>\n",
       "      <td>19057</td>\n",
       "      <td>7</td>\n",
       "      <td>1</td>\n",
       "      <td>19056</td>\n",
       "      <td>organic large extra fancy fuji apple</td>\n",
       "      <td>24</td>\n",
       "      <td>4</td>\n",
       "    </tr>\n",
       "    <tr>\n",
       "      <th>3135395</th>\n",
       "      <td>1591960</td>\n",
       "      <td>48383</td>\n",
       "      <td>11</td>\n",
       "      <td>0</td>\n",
       "      <td>48382</td>\n",
       "      <td>whole wheat flour</td>\n",
       "      <td>17</td>\n",
       "      <td>13</td>\n",
       "    </tr>\n",
       "    <tr>\n",
       "      <th>1182921</th>\n",
       "      <td>496037</td>\n",
       "      <td>10070</td>\n",
       "      <td>4</td>\n",
       "      <td>0</td>\n",
       "      <td>10069</td>\n",
       "      <td>organic 1% low fat milk</td>\n",
       "      <td>84</td>\n",
       "      <td>16</td>\n",
       "    </tr>\n",
       "    <tr>\n",
       "      <th>1220839</th>\n",
       "      <td>2893336</td>\n",
       "      <td>34969</td>\n",
       "      <td>8</td>\n",
       "      <td>1</td>\n",
       "      <td>34968</td>\n",
       "      <td>red vine tomato</td>\n",
       "      <td>83</td>\n",
       "      <td>4</td>\n",
       "    </tr>\n",
       "    <tr>\n",
       "      <th>2845484</th>\n",
       "      <td>1351217</td>\n",
       "      <td>8022</td>\n",
       "      <td>7</td>\n",
       "      <td>1</td>\n",
       "      <td>8021</td>\n",
       "      <td>spinach pizza</td>\n",
       "      <td>79</td>\n",
       "      <td>1</td>\n",
       "    </tr>\n",
       "    <tr>\n",
       "      <th>3851327</th>\n",
       "      <td>715271</td>\n",
       "      <td>41972</td>\n",
       "      <td>14</td>\n",
       "      <td>0</td>\n",
       "      <td>41971</td>\n",
       "      <td>california white jasmine rice</td>\n",
       "      <td>63</td>\n",
       "      <td>9</td>\n",
       "    </tr>\n",
       "  </tbody>\n",
       "</table>\n",
       "</div>"
      ],
      "text/plain": [
       "         order_id  product_id  add_to_cart_order  reordered  index  \\\n",
       "3287508   1804730       49079                  2          1  49078   \n",
       "2684421   1066773       49585                  4          1  49584   \n",
       "379159     131634       24852                  1          1  24851   \n",
       "444696    2882527       28204                 25          0  28203   \n",
       "1563229    952679       19057                  7          1  19056   \n",
       "3135395   1591960       48383                 11          0  48382   \n",
       "1182921    496037       10070                  4          0  10069   \n",
       "1220839   2893336       34969                  8          1  34968   \n",
       "2845484   1351217        8022                  7          1   8021   \n",
       "3851327    715271       41972                 14          0  41971   \n",
       "\n",
       "                                 product_name  aisle_id  department_id  \n",
       "3287508       special k vanilla almond cereal       121             14  \n",
       "2684421           organic refined coconut oil        19             13  \n",
       "379159                                 banana        24              4  \n",
       "444696                     organic fuji apple        24              4  \n",
       "1563229  organic large extra fancy fuji apple        24              4  \n",
       "3135395                     whole wheat flour        17             13  \n",
       "1182921               organic 1% low fat milk        84             16  \n",
       "1220839                       red vine tomato        83              4  \n",
       "2845484                         spinach pizza        79              1  \n",
       "3851327         california white jasmine rice        63              9  "
      ]
     },
     "execution_count": 44,
     "metadata": {},
     "output_type": "execute_result"
    }
   ],
   "source": [
    "# Will need to merge order_products and products: inner join on product_id\n",
    "merged_prods = pd.merge(df_order_products, df_products, on='product_id', how='inner')\n",
    "\n",
    "print(merged_prods.shape) #looks correct\n",
    "print()\n",
    "merged_prods.sample(10) #join looks good"
   ]
  },
  {
   "cell_type": "code",
   "execution_count": 45,
   "id": "universal-facial",
   "metadata": {},
   "outputs": [
    {
     "data": {
      "text/html": [
       "<div>\n",
       "<style scoped>\n",
       "    .dataframe tbody tr th:only-of-type {\n",
       "        vertical-align: middle;\n",
       "    }\n",
       "\n",
       "    .dataframe tbody tr th {\n",
       "        vertical-align: top;\n",
       "    }\n",
       "\n",
       "    .dataframe thead th {\n",
       "        text-align: right;\n",
       "    }\n",
       "</style>\n",
       "<table border=\"1\" class=\"dataframe\">\n",
       "  <thead>\n",
       "    <tr style=\"text-align: right;\">\n",
       "      <th></th>\n",
       "      <th>Product ID</th>\n",
       "      <th>Product Name</th>\n",
       "      <th>Order Count</th>\n",
       "    </tr>\n",
       "  </thead>\n",
       "  <tbody>\n",
       "    <tr>\n",
       "      <th>0</th>\n",
       "      <td>24852</td>\n",
       "      <td>banana</td>\n",
       "      <td>66050</td>\n",
       "    </tr>\n",
       "    <tr>\n",
       "      <th>1</th>\n",
       "      <td>13176</td>\n",
       "      <td>bag of organic bananas</td>\n",
       "      <td>53297</td>\n",
       "    </tr>\n",
       "    <tr>\n",
       "      <th>2</th>\n",
       "      <td>21137</td>\n",
       "      <td>organic strawberries</td>\n",
       "      <td>37039</td>\n",
       "    </tr>\n",
       "    <tr>\n",
       "      <th>3</th>\n",
       "      <td>21903</td>\n",
       "      <td>organic baby spinach</td>\n",
       "      <td>33971</td>\n",
       "    </tr>\n",
       "    <tr>\n",
       "      <th>4</th>\n",
       "      <td>47209</td>\n",
       "      <td>organic hass avocado</td>\n",
       "      <td>29773</td>\n",
       "    </tr>\n",
       "    <tr>\n",
       "      <th>5</th>\n",
       "      <td>47766</td>\n",
       "      <td>organic avocado</td>\n",
       "      <td>24689</td>\n",
       "    </tr>\n",
       "    <tr>\n",
       "      <th>6</th>\n",
       "      <td>47626</td>\n",
       "      <td>large lemon</td>\n",
       "      <td>21495</td>\n",
       "    </tr>\n",
       "    <tr>\n",
       "      <th>7</th>\n",
       "      <td>16797</td>\n",
       "      <td>strawberries</td>\n",
       "      <td>20018</td>\n",
       "    </tr>\n",
       "    <tr>\n",
       "      <th>8</th>\n",
       "      <td>26209</td>\n",
       "      <td>limes</td>\n",
       "      <td>19690</td>\n",
       "    </tr>\n",
       "    <tr>\n",
       "      <th>9</th>\n",
       "      <td>27845</td>\n",
       "      <td>organic whole milk</td>\n",
       "      <td>19600</td>\n",
       "    </tr>\n",
       "    <tr>\n",
       "      <th>10</th>\n",
       "      <td>27966</td>\n",
       "      <td>organic raspberries</td>\n",
       "      <td>19197</td>\n",
       "    </tr>\n",
       "    <tr>\n",
       "      <th>11</th>\n",
       "      <td>22935</td>\n",
       "      <td>organic yellow onion</td>\n",
       "      <td>15898</td>\n",
       "    </tr>\n",
       "    <tr>\n",
       "      <th>12</th>\n",
       "      <td>24964</td>\n",
       "      <td>organic garlic</td>\n",
       "      <td>15292</td>\n",
       "    </tr>\n",
       "    <tr>\n",
       "      <th>13</th>\n",
       "      <td>45007</td>\n",
       "      <td>organic zucchini</td>\n",
       "      <td>14584</td>\n",
       "    </tr>\n",
       "    <tr>\n",
       "      <th>14</th>\n",
       "      <td>39275</td>\n",
       "      <td>organic blueberries</td>\n",
       "      <td>13879</td>\n",
       "    </tr>\n",
       "    <tr>\n",
       "      <th>15</th>\n",
       "      <td>49683</td>\n",
       "      <td>cucumber kirby</td>\n",
       "      <td>13675</td>\n",
       "    </tr>\n",
       "    <tr>\n",
       "      <th>16</th>\n",
       "      <td>28204</td>\n",
       "      <td>organic fuji apple</td>\n",
       "      <td>12544</td>\n",
       "    </tr>\n",
       "    <tr>\n",
       "      <th>17</th>\n",
       "      <td>5876</td>\n",
       "      <td>organic lemon</td>\n",
       "      <td>12232</td>\n",
       "    </tr>\n",
       "    <tr>\n",
       "      <th>18</th>\n",
       "      <td>8277</td>\n",
       "      <td>apple honeycrisp organic</td>\n",
       "      <td>11993</td>\n",
       "    </tr>\n",
       "    <tr>\n",
       "      <th>19</th>\n",
       "      <td>40706</td>\n",
       "      <td>organic grape tomatoes</td>\n",
       "      <td>11781</td>\n",
       "    </tr>\n",
       "  </tbody>\n",
       "</table>\n",
       "</div>"
      ],
      "text/plain": [
       "    Product ID              Product Name  Order Count\n",
       "0        24852                    banana        66050\n",
       "1        13176    bag of organic bananas        53297\n",
       "2        21137      organic strawberries        37039\n",
       "3        21903      organic baby spinach        33971\n",
       "4        47209      organic hass avocado        29773\n",
       "5        47766           organic avocado        24689\n",
       "6        47626               large lemon        21495\n",
       "7        16797              strawberries        20018\n",
       "8        26209                     limes        19690\n",
       "9        27845        organic whole milk        19600\n",
       "10       27966       organic raspberries        19197\n",
       "11       22935      organic yellow onion        15898\n",
       "12       24964            organic garlic        15292\n",
       "13       45007          organic zucchini        14584\n",
       "14       39275       organic blueberries        13879\n",
       "15       49683            cucumber kirby        13675\n",
       "16       28204        organic fuji apple        12544\n",
       "17        5876             organic lemon        12232\n",
       "18        8277  apple honeycrisp organic        11993\n",
       "19       40706    organic grape tomatoes        11781"
      ]
     },
     "execution_count": 45,
     "metadata": {},
     "output_type": "execute_result"
    }
   ],
   "source": [
    "# Now we perform the groupby\n",
    "merged_prods_grp = merged_prods.groupby(['product_id', 'product_name'])['order_id'].count() #groupby the product, and count the orders\n",
    "merged_prods_top_20 = merged_prods_grp.sort_values(ascending=False).reset_index().head(20)\n",
    "merged_prods_top_20 = merged_prods_top_20.rename(columns={'product_id': 'Product ID', 'product_name': 'Product Name', 'order_id':'Order Count'})\n",
    "merged_prods_top_20"
   ]
  },
  {
   "cell_type": "markdown",
   "id": "gross-theme",
   "metadata": {},
   "source": [
    "# [C] Hard (must complete at least two to pass)\n",
    "<a id='hard'></a>"
   ]
  },
  {
   "cell_type": "markdown",
   "id": "romantic-deposit",
   "metadata": {},
   "source": [
    "### [C1] How many items do people typically buy in one order? What does the distribution look like?"
   ]
  },
  {
   "cell_type": "code",
   "execution_count": 46,
   "id": "virtual-punch",
   "metadata": {},
   "outputs": [
    {
     "name": "stdout",
     "output_type": "stream",
     "text": [
      "There are typically 10 products in anyone's Insta-cart!\n"
     ]
    }
   ],
   "source": [
    "# Use the order_products data; group by order_id and count the number of products - then pull an average\n",
    "prods_per_order = df_order_products.groupby('order_id')['product_id'].count()\n",
    "#print(prods_per_order)\n",
    "\n",
    "prods_per_order_avg = prods_per_order.sum() / len(prods_per_order)\n",
    "\n",
    "#print(prods_per_order.describe())\n",
    "print(f\"There are typically {int(prods_per_order_avg)} products in anyone's Insta-cart!\") \n",
    "#value was 10.09, using int here will round the value and not have a float in the output"
   ]
  },
  {
   "cell_type": "code",
   "execution_count": 47,
   "id": "sensitive-breathing",
   "metadata": {},
   "outputs": [
    {
     "data": {
      "image/png": "[encoded data removed]",
      "text/plain": [
       "<Figure size 1000x500 with 1 Axes>"
      ]
     },
     "metadata": {},
     "output_type": "display_data"
    }
   ],
   "source": [
    "# Now create the distribution; data is already filtered so I will use that; Rice's Rule produced empty bins, adjusted on my own \n",
    "plt.figure(figsize=(10,5))\n",
    "prods_per_order.plot(kind='hist',\n",
    "                     bins=129,\n",
    "                     color='blue',\n",
    "                     edgecolor='black',\n",
    "                     title='Number of Items per Order',\n",
    "                     xlim=(0,55))\n",
    "\n",
    "plt.xticks([2,4,6,8,10,12,14,16,18,20,25,30,35,40,45,50])\n",
    "plt.xlabel('Number of Items')\n",
    "plt.show()"
   ]
  },
  {
   "cell_type": "markdown",
   "id": "designed-mortality",
   "metadata": {},
   "source": [
    "Based on the histogram for the number of items per order, we can see that the peak of this graph falls in the range from 4 to 12; which actually tells us something really interesting about user behavior. We can see that most people using instacart have smaller orders. A large percent of the orders have less than 20 items in it, and the average is only 10! That's usually the max amount allowed at a speed checkout, interesting. "
   ]
  },
  {
   "cell_type": "markdown",
   "id": "5e6b5537",
   "metadata": {},
   "source": [
    "### [C2] What are the top 20 items that are reordered most frequently (display their names and product IDs)?"
   ]
  },
  {
   "cell_type": "code",
   "execution_count": 48,
   "id": "9374e55a",
   "metadata": {},
   "outputs": [
    {
     "data": {
      "text/html": [
       "<div>\n",
       "<style scoped>\n",
       "    .dataframe tbody tr th:only-of-type {\n",
       "        vertical-align: middle;\n",
       "    }\n",
       "\n",
       "    .dataframe tbody tr th {\n",
       "        vertical-align: top;\n",
       "    }\n",
       "\n",
       "    .dataframe thead th {\n",
       "        text-align: right;\n",
       "    }\n",
       "</style>\n",
       "<table border=\"1\" class=\"dataframe\">\n",
       "  <thead>\n",
       "    <tr style=\"text-align: right;\">\n",
       "      <th></th>\n",
       "      <th>product_id</th>\n",
       "      <th>product_name</th>\n",
       "    </tr>\n",
       "  </thead>\n",
       "  <tbody>\n",
       "    <tr>\n",
       "      <th>0</th>\n",
       "      <td>24852</td>\n",
       "      <td>banana</td>\n",
       "    </tr>\n",
       "    <tr>\n",
       "      <th>1</th>\n",
       "      <td>13176</td>\n",
       "      <td>bag of organic bananas</td>\n",
       "    </tr>\n",
       "    <tr>\n",
       "      <th>2</th>\n",
       "      <td>21137</td>\n",
       "      <td>organic strawberries</td>\n",
       "    </tr>\n",
       "    <tr>\n",
       "      <th>3</th>\n",
       "      <td>21903</td>\n",
       "      <td>organic baby spinach</td>\n",
       "    </tr>\n",
       "    <tr>\n",
       "      <th>4</th>\n",
       "      <td>47209</td>\n",
       "      <td>organic hass avocado</td>\n",
       "    </tr>\n",
       "    <tr>\n",
       "      <th>5</th>\n",
       "      <td>47766</td>\n",
       "      <td>organic avocado</td>\n",
       "    </tr>\n",
       "    <tr>\n",
       "      <th>6</th>\n",
       "      <td>27845</td>\n",
       "      <td>organic whole milk</td>\n",
       "    </tr>\n",
       "    <tr>\n",
       "      <th>7</th>\n",
       "      <td>47626</td>\n",
       "      <td>large lemon</td>\n",
       "    </tr>\n",
       "    <tr>\n",
       "      <th>8</th>\n",
       "      <td>27966</td>\n",
       "      <td>organic raspberries</td>\n",
       "    </tr>\n",
       "    <tr>\n",
       "      <th>9</th>\n",
       "      <td>16797</td>\n",
       "      <td>strawberries</td>\n",
       "    </tr>\n",
       "    <tr>\n",
       "      <th>10</th>\n",
       "      <td>26209</td>\n",
       "      <td>limes</td>\n",
       "    </tr>\n",
       "    <tr>\n",
       "      <th>11</th>\n",
       "      <td>22935</td>\n",
       "      <td>organic yellow onion</td>\n",
       "    </tr>\n",
       "    <tr>\n",
       "      <th>12</th>\n",
       "      <td>24964</td>\n",
       "      <td>organic garlic</td>\n",
       "    </tr>\n",
       "    <tr>\n",
       "      <th>13</th>\n",
       "      <td>45007</td>\n",
       "      <td>organic zucchini</td>\n",
       "    </tr>\n",
       "    <tr>\n",
       "      <th>14</th>\n",
       "      <td>49683</td>\n",
       "      <td>cucumber kirby</td>\n",
       "    </tr>\n",
       "    <tr>\n",
       "      <th>15</th>\n",
       "      <td>28204</td>\n",
       "      <td>organic fuji apple</td>\n",
       "    </tr>\n",
       "    <tr>\n",
       "      <th>16</th>\n",
       "      <td>8277</td>\n",
       "      <td>apple honeycrisp organic</td>\n",
       "    </tr>\n",
       "    <tr>\n",
       "      <th>17</th>\n",
       "      <td>39275</td>\n",
       "      <td>organic blueberries</td>\n",
       "    </tr>\n",
       "    <tr>\n",
       "      <th>18</th>\n",
       "      <td>5876</td>\n",
       "      <td>organic lemon</td>\n",
       "    </tr>\n",
       "    <tr>\n",
       "      <th>19</th>\n",
       "      <td>49235</td>\n",
       "      <td>organic half &amp; half</td>\n",
       "    </tr>\n",
       "  </tbody>\n",
       "</table>\n",
       "</div>"
      ],
      "text/plain": [
       "    product_id              product_name\n",
       "0        24852                    banana\n",
       "1        13176    bag of organic bananas\n",
       "2        21137      organic strawberries\n",
       "3        21903      organic baby spinach\n",
       "4        47209      organic hass avocado\n",
       "5        47766           organic avocado\n",
       "6        27845        organic whole milk\n",
       "7        47626               large lemon\n",
       "8        27966       organic raspberries\n",
       "9        16797              strawberries\n",
       "10       26209                     limes\n",
       "11       22935      organic yellow onion\n",
       "12       24964            organic garlic\n",
       "13       45007          organic zucchini\n",
       "14       49683            cucumber kirby\n",
       "15       28204        organic fuji apple\n",
       "16        8277  apple honeycrisp organic\n",
       "17       39275       organic blueberries\n",
       "18        5876             organic lemon\n",
       "19       49235       organic half & half"
      ]
     },
     "execution_count": 48,
     "metadata": {},
     "output_type": "execute_result"
    }
   ],
   "source": [
    "#filter order_products data down to just reorders\n",
    "df_reorders_2 = df_order_products.query(\"reordered == 1\")\n",
    "\n",
    "#Now inner join the products table to get the names\n",
    "product_merge_r = pd.merge(df_reorders_2, df_products, how='inner', on='product_id')\n",
    "\n",
    "#Now obtain a count of the number of 1s per product\n",
    "reorder_count = product_merge_r.groupby(['product_id', 'product_name'])['reordered'].count()\n",
    "\n",
    "#print top 20 reorders\n",
    "top_20_reorders = reorder_count.sort_values(ascending=False).head(20)\n",
    "top_20_reorders\n",
    "\n",
    "#now use reset_index to create a new column, rename columns, and clean up\n",
    "top_20_reorders = top_20_reorders.reset_index()\n",
    "top_20_reorders[['product_id', 'product_name']]\n",
    "#top_20_reorders = top_20_reorders.rename(columns={'product_id': 'product_id', 'reordered': 'num_times_reordered'})"
   ]
  },
  {
   "cell_type": "markdown",
   "id": "9d312b14",
   "metadata": {},
   "source": [
    "### [C3] For each product, what proportion of its orders are reorders?"
   ]
  },
  {
   "cell_type": "code",
   "execution_count": 49,
   "id": "8ae9f4b1",
   "metadata": {},
   "outputs": [
    {
     "data": {
      "text/html": [
       "<div>\n",
       "<style scoped>\n",
       "    .dataframe tbody tr th:only-of-type {\n",
       "        vertical-align: middle;\n",
       "    }\n",
       "\n",
       "    .dataframe tbody tr th {\n",
       "        vertical-align: top;\n",
       "    }\n",
       "\n",
       "    .dataframe thead th {\n",
       "        text-align: right;\n",
       "    }\n",
       "</style>\n",
       "<table border=\"1\" class=\"dataframe\">\n",
       "  <thead>\n",
       "    <tr style=\"text-align: right;\">\n",
       "      <th></th>\n",
       "      <th>product_id</th>\n",
       "      <th>proportion_(%)</th>\n",
       "    </tr>\n",
       "  </thead>\n",
       "  <tbody>\n",
       "    <tr>\n",
       "      <th>0</th>\n",
       "      <td>1</td>\n",
       "      <td>56.43%</td>\n",
       "    </tr>\n",
       "    <tr>\n",
       "      <th>1</th>\n",
       "      <td>3</td>\n",
       "      <td>73.81%</td>\n",
       "    </tr>\n",
       "    <tr>\n",
       "      <th>2</th>\n",
       "      <td>4</td>\n",
       "      <td>51.02%</td>\n",
       "    </tr>\n",
       "    <tr>\n",
       "      <th>3</th>\n",
       "      <td>7</td>\n",
       "      <td>50.0%</td>\n",
       "    </tr>\n",
       "    <tr>\n",
       "      <th>4</th>\n",
       "      <td>8</td>\n",
       "      <td>31.58%</td>\n",
       "    </tr>\n",
       "    <tr>\n",
       "      <th>...</th>\n",
       "      <td>...</td>\n",
       "      <td>...</td>\n",
       "    </tr>\n",
       "    <tr>\n",
       "      <th>36223</th>\n",
       "      <td>49690</td>\n",
       "      <td>80.0%</td>\n",
       "    </tr>\n",
       "    <tr>\n",
       "      <th>36224</th>\n",
       "      <td>49691</td>\n",
       "      <td>43.06%</td>\n",
       "    </tr>\n",
       "    <tr>\n",
       "      <th>36225</th>\n",
       "      <td>49692</td>\n",
       "      <td>41.67%</td>\n",
       "    </tr>\n",
       "    <tr>\n",
       "      <th>36226</th>\n",
       "      <td>49693</td>\n",
       "      <td>44.0%</td>\n",
       "    </tr>\n",
       "    <tr>\n",
       "      <th>36227</th>\n",
       "      <td>49694</td>\n",
       "      <td>33.33%</td>\n",
       "    </tr>\n",
       "  </tbody>\n",
       "</table>\n",
       "<p>36228 rows × 2 columns</p>\n",
       "</div>"
      ],
      "text/plain": [
       "       product_id proportion_(%)\n",
       "0               1         56.43%\n",
       "1               3         73.81%\n",
       "2               4         51.02%\n",
       "3               7          50.0%\n",
       "4               8         31.58%\n",
       "...           ...            ...\n",
       "36223       49690          80.0%\n",
       "36224       49691         43.06%\n",
       "36225       49692         41.67%\n",
       "36226       49693          44.0%\n",
       "36227       49694         33.33%\n",
       "\n",
       "[36228 rows x 2 columns]"
      ]
     },
     "execution_count": 49,
     "metadata": {},
     "output_type": "execute_result"
    }
   ],
   "source": [
    "#filter the order_products data down to just reorders\n",
    "df_reorders = df_order_products.query(\"reordered == 1\")\n",
    "#print(df_reorders)\n",
    "\n",
    "#determine the number of reorders for each product\n",
    "num_reorders = df_reorders.groupby('product_id')['order_id'].count()\n",
    "#print(num_reorders)\n",
    "\n",
    "#Now obtain the number of orders per product_id\n",
    "df_order_prod_total = df_order_products.groupby('product_id')['order_id'].count()\n",
    "\n",
    "#calculate proportion\n",
    "proport_reords = (num_reorders / df_order_prod_total)\n",
    "\n",
    "#filter to match product ids in df_reorders\n",
    "proport_reords = proport_reords[proport_reords.index.isin(df_reorders['product_id'])]\n",
    "\n",
    "#reset the index to create a new df and rename columns then clean up\n",
    "proport_reords = proport_reords.reset_index()\n",
    "proport_reords = proport_reords.rename(columns={\"product_id\": \"product_id\", \"order_id\": \"proportion_(%)\"})\n",
    "proport_reords['proportion_(%)'] = (proport_reords['proportion_(%)'] * 100).round(2).astype(str) + '%'\n",
    "\n",
    "proport_reords"
   ]
  },
  {
   "cell_type": "markdown",
   "id": "subject-boxing",
   "metadata": {},
   "source": [
    "### [C4] For each customer, what proportion of their products ordered are reorders?"
   ]
  },
  {
   "cell_type": "code",
   "execution_count": 50,
   "id": "medical-couple",
   "metadata": {
    "scrolled": true
   },
   "outputs": [
    {
     "name": "stdout",
     "output_type": "stream",
     "text": [
      "<class 'pandas.core.frame.DataFrame'>\n",
      "RangeIndex: 4545007 entries, 0 to 4545006\n",
      "Data columns (total 9 columns):\n",
      " #   Column                  Non-Null Count    Dtype  \n",
      "---  ------                  --------------    -----  \n",
      " 0   order_id                4545007 non-null  int64  \n",
      " 1   product_id              4545007 non-null  int64  \n",
      " 2   add_to_cart_order       4545007 non-null  int32  \n",
      " 3   reordered               4545007 non-null  int64  \n",
      " 4   user_id                 4545007 non-null  int64  \n",
      " 5   order_number            4545007 non-null  int64  \n",
      " 6   order_dow               4545007 non-null  int64  \n",
      " 7   order_hour_of_day       4545007 non-null  int64  \n",
      " 8   days_since_prior_order  4253079 non-null  float64\n",
      "dtypes: float64(1), int32(1), int64(7)\n",
      "memory usage: 294.7 MB\n"
     ]
    }
   ],
   "source": [
    "# Use code from C3 as an outline; Need to start by merging instacart_orders with order_product\n",
    "order_prods_merg = pd.merge(df_order_products, df_instacart_orders, on='order_id', how='left')\n",
    "\n",
    "#filter this data down if necessary\n",
    "order_prods_merg.info(show_counts=True) #It appears that all user_ids loaded in, yay!"
   ]
  },
  {
   "cell_type": "code",
   "execution_count": 51,
   "id": "8892e4b4",
   "metadata": {},
   "outputs": [
    {
     "name": "stdout",
     "output_type": "stream",
     "text": [
      "There are 374 unique values in Total Products per User.\n",
      "There are 321 unique values in Total Products Reordered per User.\n",
      "\n",
      "   user_id  product_id\n",
      "0        2    0.038462\n",
      "1        4    0.000000\n",
      "2        5    0.666667\n",
      "3        6    0.000000\n",
      "4        7    0.928571\n"
     ]
    },
    {
     "data": {
      "text/html": [
       "<div>\n",
       "<style scoped>\n",
       "    .dataframe tbody tr th:only-of-type {\n",
       "        vertical-align: middle;\n",
       "    }\n",
       "\n",
       "    .dataframe tbody tr th {\n",
       "        vertical-align: top;\n",
       "    }\n",
       "\n",
       "    .dataframe thead th {\n",
       "        text-align: right;\n",
       "    }\n",
       "</style>\n",
       "<table border=\"1\" class=\"dataframe\">\n",
       "  <thead>\n",
       "    <tr style=\"text-align: right;\">\n",
       "      <th></th>\n",
       "      <th>user_id</th>\n",
       "      <th>proportion_(%)</th>\n",
       "    </tr>\n",
       "  </thead>\n",
       "  <tbody>\n",
       "    <tr>\n",
       "      <th>0</th>\n",
       "      <td>2</td>\n",
       "      <td>3.85%</td>\n",
       "    </tr>\n",
       "    <tr>\n",
       "      <th>1</th>\n",
       "      <td>4</td>\n",
       "      <td>0.0%</td>\n",
       "    </tr>\n",
       "    <tr>\n",
       "      <th>2</th>\n",
       "      <td>5</td>\n",
       "      <td>66.67%</td>\n",
       "    </tr>\n",
       "    <tr>\n",
       "      <th>3</th>\n",
       "      <td>6</td>\n",
       "      <td>0.0%</td>\n",
       "    </tr>\n",
       "    <tr>\n",
       "      <th>4</th>\n",
       "      <td>7</td>\n",
       "      <td>92.86%</td>\n",
       "    </tr>\n",
       "    <tr>\n",
       "      <th>...</th>\n",
       "      <td>...</td>\n",
       "      <td>...</td>\n",
       "    </tr>\n",
       "    <tr>\n",
       "      <th>149621</th>\n",
       "      <td>206203</td>\n",
       "      <td>22.22%</td>\n",
       "    </tr>\n",
       "    <tr>\n",
       "      <th>149622</th>\n",
       "      <td>206206</td>\n",
       "      <td>71.43%</td>\n",
       "    </tr>\n",
       "    <tr>\n",
       "      <th>149623</th>\n",
       "      <td>206207</td>\n",
       "      <td>89.13%</td>\n",
       "    </tr>\n",
       "    <tr>\n",
       "      <th>149624</th>\n",
       "      <td>206208</td>\n",
       "      <td>69.6%</td>\n",
       "    </tr>\n",
       "    <tr>\n",
       "      <th>149625</th>\n",
       "      <td>206209</td>\n",
       "      <td>32.0%</td>\n",
       "    </tr>\n",
       "  </tbody>\n",
       "</table>\n",
       "<p>149626 rows × 2 columns</p>\n",
       "</div>"
      ],
      "text/plain": [
       "        user_id proportion_(%)\n",
       "0             2          3.85%\n",
       "1             4           0.0%\n",
       "2             5         66.67%\n",
       "3             6           0.0%\n",
       "4             7         92.86%\n",
       "...         ...            ...\n",
       "149621   206203         22.22%\n",
       "149622   206206         71.43%\n",
       "149623   206207         89.13%\n",
       "149624   206208          69.6%\n",
       "149625   206209          32.0%\n",
       "\n",
       "[149626 rows x 2 columns]"
      ]
     },
     "execution_count": 51,
     "metadata": {},
     "output_type": "execute_result"
    }
   ],
   "source": [
    "total_prods_per_user = order_prods_merg.groupby('user_id')['product_id'].count()\n",
    "print(f\"There are {len(total_prods_per_user.unique())} unique values in Total Products per User.\")\n",
    "\n",
    "num_reord_user = order_prods_merg.query(\"reordered == 1\").groupby('user_id')['product_id'].count()\n",
    "print(f\"There are {len(num_reord_user.unique())} unique values in Total Products Reordered per User.\\n\")\n",
    "\n",
    "proport_reord_user = num_reord_user / total_prods_per_user #not every user reorderd, in this case fill with 0\n",
    "proport_reord_user = proport_reord_user.fillna(0)\n",
    "#print(proport_reord_user.head())\n",
    "\n",
    "#follow outline in C3\n",
    "proport_reord_user = proport_reord_user.reset_index()\n",
    "print(proport_reord_user.head())\n",
    "proport_reord_user = proport_reord_user.rename(columns={\"user_id\": \"user_id\", \"product_id\": \"proportion_(%)\"})\n",
    "proport_reord_user['proportion_(%)'] = (proport_reord_user['proportion_(%)']*100).round(2).astype(str) + '%'\n",
    "\n",
    "proport_reord_user #would be interesting to plot this data"
   ]
  },
  {
   "cell_type": "markdown",
   "id": "92d35137",
   "metadata": {},
   "source": [
    "### [C5] What are the top 20 items that people put in their carts first? "
   ]
  },
  {
   "cell_type": "code",
   "execution_count": 52,
   "id": "0ae57274",
   "metadata": {
    "scrolled": true
   },
   "outputs": [
    {
     "data": {
      "text/html": [
       "<div>\n",
       "<style scoped>\n",
       "    .dataframe tbody tr th:only-of-type {\n",
       "        vertical-align: middle;\n",
       "    }\n",
       "\n",
       "    .dataframe tbody tr th {\n",
       "        vertical-align: top;\n",
       "    }\n",
       "\n",
       "    .dataframe thead th {\n",
       "        text-align: right;\n",
       "    }\n",
       "</style>\n",
       "<table border=\"1\" class=\"dataframe\">\n",
       "  <thead>\n",
       "    <tr style=\"text-align: right;\">\n",
       "      <th></th>\n",
       "      <th>product_id</th>\n",
       "      <th>product_name</th>\n",
       "    </tr>\n",
       "  </thead>\n",
       "  <tbody>\n",
       "    <tr>\n",
       "      <th>0</th>\n",
       "      <td>24852</td>\n",
       "      <td>banana</td>\n",
       "    </tr>\n",
       "    <tr>\n",
       "      <th>1</th>\n",
       "      <td>13176</td>\n",
       "      <td>bag of organic bananas</td>\n",
       "    </tr>\n",
       "    <tr>\n",
       "      <th>2</th>\n",
       "      <td>27845</td>\n",
       "      <td>organic whole milk</td>\n",
       "    </tr>\n",
       "    <tr>\n",
       "      <th>3</th>\n",
       "      <td>21137</td>\n",
       "      <td>organic strawberries</td>\n",
       "    </tr>\n",
       "    <tr>\n",
       "      <th>4</th>\n",
       "      <td>47209</td>\n",
       "      <td>organic hass avocado</td>\n",
       "    </tr>\n",
       "    <tr>\n",
       "      <th>5</th>\n",
       "      <td>21903</td>\n",
       "      <td>organic baby spinach</td>\n",
       "    </tr>\n",
       "    <tr>\n",
       "      <th>6</th>\n",
       "      <td>47766</td>\n",
       "      <td>organic avocado</td>\n",
       "    </tr>\n",
       "    <tr>\n",
       "      <th>7</th>\n",
       "      <td>19660</td>\n",
       "      <td>spring water</td>\n",
       "    </tr>\n",
       "    <tr>\n",
       "      <th>8</th>\n",
       "      <td>16797</td>\n",
       "      <td>strawberries</td>\n",
       "    </tr>\n",
       "    <tr>\n",
       "      <th>9</th>\n",
       "      <td>27966</td>\n",
       "      <td>organic raspberries</td>\n",
       "    </tr>\n",
       "    <tr>\n",
       "      <th>10</th>\n",
       "      <td>44632</td>\n",
       "      <td>sparkling water grapefruit</td>\n",
       "    </tr>\n",
       "    <tr>\n",
       "      <th>11</th>\n",
       "      <td>49235</td>\n",
       "      <td>organic half &amp; half</td>\n",
       "    </tr>\n",
       "    <tr>\n",
       "      <th>12</th>\n",
       "      <td>47626</td>\n",
       "      <td>large lemon</td>\n",
       "    </tr>\n",
       "    <tr>\n",
       "      <th>13</th>\n",
       "      <td>196</td>\n",
       "      <td>soda</td>\n",
       "    </tr>\n",
       "    <tr>\n",
       "      <th>14</th>\n",
       "      <td>38689</td>\n",
       "      <td>organic reduced fat milk</td>\n",
       "    </tr>\n",
       "    <tr>\n",
       "      <th>15</th>\n",
       "      <td>26209</td>\n",
       "      <td>limes</td>\n",
       "    </tr>\n",
       "    <tr>\n",
       "      <th>16</th>\n",
       "      <td>12341</td>\n",
       "      <td>hass avocados</td>\n",
       "    </tr>\n",
       "    <tr>\n",
       "      <th>17</th>\n",
       "      <td>5785</td>\n",
       "      <td>organic reduced fat 2% milk</td>\n",
       "    </tr>\n",
       "    <tr>\n",
       "      <th>18</th>\n",
       "      <td>27086</td>\n",
       "      <td>half &amp; half</td>\n",
       "    </tr>\n",
       "    <tr>\n",
       "      <th>19</th>\n",
       "      <td>43352</td>\n",
       "      <td>raspberries</td>\n",
       "    </tr>\n",
       "  </tbody>\n",
       "</table>\n",
       "</div>"
      ],
      "text/plain": [
       "    product_id                 product_name\n",
       "0        24852                       banana\n",
       "1        13176       bag of organic bananas\n",
       "2        27845           organic whole milk\n",
       "3        21137         organic strawberries\n",
       "4        47209         organic hass avocado\n",
       "5        21903         organic baby spinach\n",
       "6        47766              organic avocado\n",
       "7        19660                 spring water\n",
       "8        16797                 strawberries\n",
       "9        27966          organic raspberries\n",
       "10       44632   sparkling water grapefruit\n",
       "11       49235          organic half & half\n",
       "12       47626                  large lemon\n",
       "13         196                         soda\n",
       "14       38689     organic reduced fat milk\n",
       "15       26209                        limes\n",
       "16       12341                hass avocados\n",
       "17        5785  organic reduced fat 2% milk\n",
       "18       27086                  half & half\n",
       "19       43352                  raspberries"
      ]
     },
     "execution_count": 52,
     "metadata": {},
     "output_type": "execute_result"
    }
   ],
   "source": [
    "# First grab all items put in carts first. I confirmed there is no item 0 with the code below\n",
    "first_items = df_order_products.query(\"add_to_cart_order == 1\")\n",
    "\n",
    "# Now merge products to get product name\n",
    "order_prods_merge = pd.merge(first_items, df_products, on='product_id', how='inner')\n",
    "order_prods_merge\n",
    "\n",
    "# Now we need to get the counts of the product_ids\n",
    "product_counts_order = order_prods_merge.groupby(['product_id', 'product_name'])['add_to_cart_order'].count()\n",
    "product_counts_order = product_counts_order.sort_values(ascending=False)\n",
    "product_counts_order\n",
    "\n",
    "#reset index and organize\n",
    "product_counts_order = product_counts_order.reset_index()\n",
    "product_counts_order[['product_id', 'product_name']].head(20)"
   ]
  }
 ],
 "metadata": {
  "ExecuteTimeLog": [
   {
    "duration": 312,
    "start_time": "2024-05-17T01:33:19.504Z"
   },
   {
    "duration": 4331,
    "start_time": "2024-05-17T01:33:33.469Z"
   },
   {
    "duration": 261,
    "start_time": "2024-05-17T01:33:37.803Z"
   },
   {
    "duration": 100,
    "start_time": "2024-05-17T01:33:38.066Z"
   },
   {
    "duration": 16,
    "start_time": "2024-05-17T01:33:38.170Z"
   },
   {
    "duration": 28,
    "start_time": "2024-05-17T01:33:38.189Z"
   },
   {
    "duration": 1369,
    "start_time": "2024-05-17T01:33:38.220Z"
   },
   {
    "duration": 208,
    "start_time": "2024-05-17T01:33:39.592Z"
   },
   {
    "duration": 25,
    "start_time": "2024-05-17T01:33:39.804Z"
   },
   {
    "duration": 44,
    "start_time": "2024-05-17T01:33:39.832Z"
   },
   {
    "duration": 202,
    "start_time": "2024-05-17T01:33:39.883Z"
   },
   {
    "duration": 52,
    "start_time": "2024-05-17T01:33:40.089Z"
   },
   {
    "duration": 23,
    "start_time": "2024-05-17T01:33:40.143Z"
   },
   {
    "duration": 8,
    "start_time": "2024-05-17T01:33:40.169Z"
   },
   {
    "duration": 74,
    "start_time": "2024-05-17T01:33:40.180Z"
   },
   {
    "duration": 57,
    "start_time": "2024-05-17T01:33:40.257Z"
   },
   {
    "duration": 7,
    "start_time": "2024-05-17T01:33:40.317Z"
   },
   {
    "duration": 7,
    "start_time": "2024-05-17T01:33:40.328Z"
   },
   {
    "duration": 1361,
    "start_time": "2024-05-17T01:33:40.338Z"
   },
   {
    "duration": 327,
    "start_time": "2024-05-17T01:33:41.711Z"
   },
   {
    "duration": 7,
    "start_time": "2024-05-17T01:33:42.040Z"
   },
   {
    "duration": 20,
    "start_time": "2024-05-17T01:33:42.050Z"
   },
   {
    "duration": 6,
    "start_time": "2024-05-17T01:33:42.073Z"
   },
   {
    "duration": 4,
    "start_time": "2024-05-17T01:33:42.114Z"
   },
   {
    "duration": 17,
    "start_time": "2024-05-17T01:33:42.121Z"
   },
   {
    "duration": 28,
    "start_time": "2024-05-17T01:33:42.141Z"
   },
   {
    "duration": 36,
    "start_time": "2024-05-17T01:33:42.211Z"
   },
   {
    "duration": 63,
    "start_time": "2024-05-17T01:33:42.249Z"
   },
   {
    "duration": 50,
    "start_time": "2024-05-17T01:33:42.319Z"
   },
   {
    "duration": 50,
    "start_time": "2024-05-17T01:33:42.373Z"
   },
   {
    "duration": 116,
    "start_time": "2024-05-17T01:33:42.426Z"
   },
   {
    "duration": 90,
    "start_time": "2024-05-17T01:33:42.545Z"
   },
   {
    "duration": 9,
    "start_time": "2024-05-17T01:33:42.638Z"
   },
   {
    "duration": 9,
    "start_time": "2024-05-17T01:35:32.381Z"
   },
   {
    "duration": 15,
    "start_time": "2024-05-17T01:40:34.436Z"
   },
   {
    "duration": 16,
    "start_time": "2024-05-17T01:40:45.043Z"
   },
   {
    "duration": 15,
    "start_time": "2024-05-17T01:41:00.735Z"
   },
   {
    "duration": 405,
    "start_time": "2024-05-17T01:41:08.679Z"
   },
   {
    "duration": 16,
    "start_time": "2024-05-17T01:41:20.536Z"
   },
   {
    "duration": 16,
    "start_time": "2024-05-17T01:49:28.061Z"
   },
   {
    "duration": 6,
    "start_time": "2024-05-17T01:53:54.622Z"
   },
   {
    "duration": 12,
    "start_time": "2024-05-17T01:54:01.731Z"
   },
   {
    "duration": 17,
    "start_time": "2024-05-17T01:54:10.138Z"
   },
   {
    "duration": 42,
    "start_time": "2024-05-17T02:14:12.056Z"
   },
   {
    "duration": 38,
    "start_time": "2024-05-17T02:14:20.201Z"
   },
   {
    "duration": 23,
    "start_time": "2024-05-17T02:14:27.581Z"
   },
   {
    "duration": 617,
    "start_time": "2024-05-17T02:27:57.736Z"
   },
   {
    "duration": 609,
    "start_time": "2024-05-17T02:28:20.778Z"
   },
   {
    "duration": 606,
    "start_time": "2024-05-17T02:28:39.011Z"
   },
   {
    "duration": 675,
    "start_time": "2024-05-17T02:28:57.596Z"
   },
   {
    "duration": 613,
    "start_time": "2024-05-17T02:29:08.657Z"
   },
   {
    "duration": 608,
    "start_time": "2024-05-17T02:29:15.426Z"
   },
   {
    "duration": 740,
    "start_time": "2024-05-17T02:29:25.772Z"
   },
   {
    "duration": 772,
    "start_time": "2024-05-17T02:29:34.272Z"
   },
   {
    "duration": 615,
    "start_time": "2024-05-17T02:29:39.614Z"
   },
   {
    "duration": 706,
    "start_time": "2024-05-17T02:30:00.419Z"
   },
   {
    "duration": 631,
    "start_time": "2024-05-17T02:30:42.956Z"
   },
   {
    "duration": 630,
    "start_time": "2024-05-17T02:31:28.222Z"
   },
   {
    "duration": 722,
    "start_time": "2024-05-17T02:31:48.833Z"
   },
   {
    "duration": 700,
    "start_time": "2024-05-17T02:32:14.240Z"
   },
   {
    "duration": 593,
    "start_time": "2024-05-17T02:32:57.586Z"
   },
   {
    "duration": 612,
    "start_time": "2024-05-17T02:34:14.463Z"
   },
   {
    "duration": 697,
    "start_time": "2024-05-17T02:34:18.121Z"
   },
   {
    "duration": 639,
    "start_time": "2024-05-17T02:35:58.883Z"
   },
   {
    "duration": 622,
    "start_time": "2024-05-17T02:36:13.746Z"
   },
   {
    "duration": 588,
    "start_time": "2024-05-17T02:36:32.232Z"
   },
   {
    "duration": 755,
    "start_time": "2024-05-17T02:37:51.286Z"
   },
   {
    "duration": 649,
    "start_time": "2024-05-17T02:38:04.225Z"
   },
   {
    "duration": 612,
    "start_time": "2024-05-17T02:38:15.577Z"
   },
   {
    "duration": 740,
    "start_time": "2024-05-17T02:41:02.702Z"
   },
   {
    "duration": 287,
    "start_time": "2024-05-17T02:41:03.446Z"
   },
   {
    "duration": 75,
    "start_time": "2024-05-17T02:41:03.739Z"
   },
   {
    "duration": 19,
    "start_time": "2024-05-17T02:41:03.819Z"
   },
   {
    "duration": 19,
    "start_time": "2024-05-17T02:41:03.842Z"
   },
   {
    "duration": 1334,
    "start_time": "2024-05-17T02:41:03.864Z"
   },
   {
    "duration": 202,
    "start_time": "2024-05-17T02:41:05.201Z"
   },
   {
    "duration": 27,
    "start_time": "2024-05-17T02:41:05.414Z"
   },
   {
    "duration": 69,
    "start_time": "2024-05-17T02:41:05.445Z"
   },
   {
    "duration": 192,
    "start_time": "2024-05-17T02:41:05.522Z"
   },
   {
    "duration": 46,
    "start_time": "2024-05-17T02:41:05.716Z"
   },
   {
    "duration": 47,
    "start_time": "2024-05-17T02:41:05.765Z"
   },
   {
    "duration": 8,
    "start_time": "2024-05-17T02:41:05.818Z"
   },
   {
    "duration": 51,
    "start_time": "2024-05-17T02:41:05.829Z"
   },
   {
    "duration": 37,
    "start_time": "2024-05-17T02:41:05.912Z"
   },
   {
    "duration": 7,
    "start_time": "2024-05-17T02:41:05.951Z"
   },
   {
    "duration": 7,
    "start_time": "2024-05-17T02:41:05.962Z"
   },
   {
    "duration": 1416,
    "start_time": "2024-05-17T02:41:05.972Z"
   },
   {
    "duration": 362,
    "start_time": "2024-05-17T02:41:07.391Z"
   },
   {
    "duration": 6,
    "start_time": "2024-05-17T02:41:07.757Z"
   },
   {
    "duration": 47,
    "start_time": "2024-05-17T02:41:07.766Z"
   },
   {
    "duration": 6,
    "start_time": "2024-05-17T02:41:07.817Z"
   },
   {
    "duration": 4,
    "start_time": "2024-05-17T02:41:07.827Z"
   },
   {
    "duration": 17,
    "start_time": "2024-05-17T02:41:07.836Z"
   },
   {
    "duration": 66,
    "start_time": "2024-05-17T02:41:07.855Z"
   },
   {
    "duration": 39,
    "start_time": "2024-05-17T02:41:07.924Z"
   },
   {
    "duration": 79,
    "start_time": "2024-05-17T02:41:07.966Z"
   },
   {
    "duration": 60,
    "start_time": "2024-05-17T02:41:08.052Z"
   },
   {
    "duration": 24,
    "start_time": "2024-05-17T02:41:08.115Z"
   },
   {
    "duration": 130,
    "start_time": "2024-05-17T02:41:08.143Z"
   },
   {
    "duration": 95,
    "start_time": "2024-05-17T02:41:08.276Z"
   },
   {
    "duration": 12,
    "start_time": "2024-05-17T02:41:08.375Z"
   },
   {
    "duration": 25,
    "start_time": "2024-05-17T02:41:08.393Z"
   },
   {
    "duration": 16,
    "start_time": "2024-05-17T02:41:08.420Z"
   },
   {
    "duration": 18,
    "start_time": "2024-05-17T02:41:08.438Z"
   },
   {
    "duration": 55,
    "start_time": "2024-05-17T02:41:08.459Z"
   },
   {
    "duration": 22,
    "start_time": "2024-05-17T02:41:08.517Z"
   },
   {
    "duration": 656,
    "start_time": "2024-05-17T02:41:09.196Z"
   },
   {
    "duration": 842,
    "start_time": "2024-05-17T02:44:03.770Z"
   },
   {
    "duration": 836,
    "start_time": "2024-05-17T02:44:16.989Z"
   },
   {
    "duration": 728,
    "start_time": "2024-05-17T02:44:29.099Z"
   },
   {
    "duration": 819,
    "start_time": "2024-05-17T02:44:36.805Z"
   },
   {
    "duration": 606,
    "start_time": "2024-05-17T02:44:55.621Z"
   },
   {
    "duration": 228,
    "start_time": "2024-05-17T02:59:07.665Z"
   },
   {
    "duration": 75,
    "start_time": "2024-05-17T02:59:18.634Z"
   },
   {
    "duration": 69,
    "start_time": "2024-05-17T02:59:26.479Z"
   },
   {
    "duration": 69,
    "start_time": "2024-05-17T02:59:39.079Z"
   },
   {
    "duration": 87,
    "start_time": "2024-05-17T03:02:35.805Z"
   },
   {
    "duration": 9,
    "start_time": "2024-05-17T03:04:13.214Z"
   },
   {
    "duration": 5,
    "start_time": "2024-05-17T03:04:17.134Z"
   },
   {
    "duration": 984,
    "start_time": "2024-05-17T03:04:21.890Z"
   },
   {
    "duration": 73,
    "start_time": "2024-05-17T03:06:16.368Z"
   },
   {
    "duration": 89,
    "start_time": "2024-05-17T03:06:44.091Z"
   },
   {
    "duration": 78,
    "start_time": "2024-05-17T03:07:59.329Z"
   },
   {
    "duration": 26,
    "start_time": "2024-05-17T03:09:21.889Z"
   },
   {
    "duration": 371,
    "start_time": "2024-05-17T03:09:27.909Z"
   },
   {
    "duration": 8,
    "start_time": "2024-05-17T03:12:15.386Z"
   },
   {
    "duration": 385,
    "start_time": "2024-05-17T03:12:19.348Z"
   },
   {
    "duration": 468,
    "start_time": "2024-05-17T03:12:36.397Z"
   },
   {
    "duration": 442,
    "start_time": "2024-05-17T03:12:58.816Z"
   },
   {
    "duration": 427,
    "start_time": "2024-05-17T03:13:05.028Z"
   },
   {
    "duration": 428,
    "start_time": "2024-05-17T03:13:13.420Z"
   },
   {
    "duration": 407,
    "start_time": "2024-05-17T03:13:24.299Z"
   },
   {
    "duration": 330,
    "start_time": "2024-05-17T03:14:07.684Z"
   },
   {
    "duration": 379,
    "start_time": "2024-05-17T03:14:16.470Z"
   },
   {
    "duration": 419,
    "start_time": "2024-05-17T03:14:27.794Z"
   },
   {
    "duration": 432,
    "start_time": "2024-05-17T03:16:09.268Z"
   },
   {
    "duration": 422,
    "start_time": "2024-05-17T03:16:14.996Z"
   },
   {
    "duration": 430,
    "start_time": "2024-05-17T03:16:42.929Z"
   },
   {
    "duration": 407,
    "start_time": "2024-05-17T03:16:49.969Z"
   },
   {
    "duration": 549,
    "start_time": "2024-05-17T03:25:43.147Z"
   },
   {
    "duration": 1198,
    "start_time": "2024-05-17T03:33:29.052Z"
   },
   {
    "duration": 1210,
    "start_time": "2024-05-17T03:33:40.994Z"
   },
   {
    "duration": 1599,
    "start_time": "2024-05-17T03:34:11.464Z"
   },
   {
    "duration": 1575,
    "start_time": "2024-05-17T03:34:45.719Z"
   },
   {
    "duration": 1604,
    "start_time": "2024-05-17T03:34:53.921Z"
   },
   {
    "duration": 81,
    "start_time": "2024-05-17T03:36:51.309Z"
   },
   {
    "duration": 397,
    "start_time": "2024-05-17T03:37:03.669Z"
   },
   {
    "duration": 114,
    "start_time": "2024-05-17T03:37:16.699Z"
   },
   {
    "duration": 119,
    "start_time": "2024-05-17T03:37:23.668Z"
   },
   {
    "duration": 111,
    "start_time": "2024-05-17T03:38:01.029Z"
   },
   {
    "duration": 107,
    "start_time": "2024-05-17T03:38:24.195Z"
   },
   {
    "duration": 111,
    "start_time": "2024-05-17T03:38:34.936Z"
   },
   {
    "duration": 114,
    "start_time": "2024-05-17T03:38:59.144Z"
   },
   {
    "duration": 111,
    "start_time": "2024-05-17T03:39:05.378Z"
   },
   {
    "duration": 16,
    "start_time": "2024-05-17T03:42:59.830Z"
   },
   {
    "duration": 445,
    "start_time": "2024-05-17T03:43:22.428Z"
   },
   {
    "duration": 6,
    "start_time": "2024-05-17T03:44:15.008Z"
   },
   {
    "duration": 15,
    "start_time": "2024-05-17T03:44:17.429Z"
   },
   {
    "duration": 374,
    "start_time": "2024-05-17T03:52:11.874Z"
   },
   {
    "duration": 75,
    "start_time": "2024-05-17T03:54:08.194Z"
   },
   {
    "duration": 759,
    "start_time": "2024-05-17T03:57:25.499Z"
   },
   {
    "duration": 777,
    "start_time": "2024-05-17T03:57:34.468Z"
   },
   {
    "duration": 778,
    "start_time": "2024-05-17T03:57:50.667Z"
   },
   {
    "duration": 775,
    "start_time": "2024-05-17T03:58:08.704Z"
   },
   {
    "duration": 809,
    "start_time": "2024-05-17T03:59:02.424Z"
   },
   {
    "duration": 776,
    "start_time": "2024-05-17T03:59:19.179Z"
   },
   {
    "duration": 786,
    "start_time": "2024-05-17T03:59:30.379Z"
   },
   {
    "duration": 778,
    "start_time": "2024-05-17T04:04:40.849Z"
   },
   {
    "duration": 782,
    "start_time": "2024-05-17T04:04:51.719Z"
   },
   {
    "duration": 788,
    "start_time": "2024-05-17T04:05:29.794Z"
   },
   {
    "duration": 801,
    "start_time": "2024-05-17T04:05:44.108Z"
   },
   {
    "duration": 780,
    "start_time": "2024-05-17T04:06:17.633Z"
   },
   {
    "duration": 524,
    "start_time": "2024-05-17T04:14:32.820Z"
   },
   {
    "duration": 6,
    "start_time": "2024-05-17T04:15:51.294Z"
   },
   {
    "duration": 502,
    "start_time": "2024-05-17T04:15:54.036Z"
   },
   {
    "duration": 641,
    "start_time": "2024-05-17T04:16:04.921Z"
   },
   {
    "duration": 1156,
    "start_time": "2024-05-17T04:16:12.924Z"
   },
   {
    "duration": 514,
    "start_time": "2024-05-17T04:16:23.378Z"
   },
   {
    "duration": 502,
    "start_time": "2024-05-17T04:21:45.393Z"
   },
   {
    "duration": 496,
    "start_time": "2024-05-17T04:21:54.549Z"
   },
   {
    "duration": 510,
    "start_time": "2024-05-17T04:23:29.869Z"
   },
   {
    "duration": 510,
    "start_time": "2024-05-17T04:23:40.496Z"
   },
   {
    "duration": 505,
    "start_time": "2024-05-17T04:23:50.449Z"
   },
   {
    "duration": 497,
    "start_time": "2024-05-17T04:24:41.924Z"
   },
   {
    "duration": 507,
    "start_time": "2024-05-17T04:24:48.444Z"
   },
   {
    "duration": 397,
    "start_time": "2024-05-17T04:27:02.356Z"
   },
   {
    "duration": 1091,
    "start_time": "2024-05-17T04:29:14.786Z"
   },
   {
    "duration": 520,
    "start_time": "2024-05-17T04:29:30.550Z"
   },
   {
    "duration": 541,
    "start_time": "2024-05-17T04:35:41.074Z"
   },
   {
    "duration": 430,
    "start_time": "2024-05-17T04:35:51.237Z"
   },
   {
    "duration": 439,
    "start_time": "2024-05-17T04:36:10.060Z"
   },
   {
    "duration": 372,
    "start_time": "2024-05-17T04:36:35.395Z"
   },
   {
    "duration": 390,
    "start_time": "2024-05-17T04:36:43.929Z"
   },
   {
    "duration": 663,
    "start_time": "2024-05-17T04:37:14.454Z"
   },
   {
    "duration": 265,
    "start_time": "2024-05-17T04:37:15.121Z"
   },
   {
    "duration": 73,
    "start_time": "2024-05-17T04:37:15.389Z"
   },
   {
    "duration": 16,
    "start_time": "2024-05-17T04:37:15.466Z"
   },
   {
    "duration": 32,
    "start_time": "2024-05-17T04:37:15.485Z"
   },
   {
    "duration": 1278,
    "start_time": "2024-05-17T04:37:15.521Z"
   },
   {
    "duration": 189,
    "start_time": "2024-05-17T04:37:16.802Z"
   },
   {
    "duration": 34,
    "start_time": "2024-05-17T04:37:16.994Z"
   },
   {
    "duration": 44,
    "start_time": "2024-05-17T04:37:17.032Z"
   },
   {
    "duration": 198,
    "start_time": "2024-05-17T04:37:17.081Z"
   },
   {
    "duration": 51,
    "start_time": "2024-05-17T04:37:17.282Z"
   },
   {
    "duration": 23,
    "start_time": "2024-05-17T04:37:17.336Z"
   },
   {
    "duration": 7,
    "start_time": "2024-05-17T04:37:17.362Z"
   },
   {
    "duration": 76,
    "start_time": "2024-05-17T04:37:17.372Z"
   },
   {
    "duration": 29,
    "start_time": "2024-05-17T04:37:17.451Z"
   },
   {
    "duration": 29,
    "start_time": "2024-05-17T04:37:17.483Z"
   },
   {
    "duration": 8,
    "start_time": "2024-05-17T04:37:17.515Z"
   },
   {
    "duration": 1348,
    "start_time": "2024-05-17T04:37:17.526Z"
   },
   {
    "duration": 331,
    "start_time": "2024-05-17T04:37:18.876Z"
   },
   {
    "duration": 6,
    "start_time": "2024-05-17T04:37:19.214Z"
   },
   {
    "duration": 21,
    "start_time": "2024-05-17T04:37:19.224Z"
   },
   {
    "duration": 7,
    "start_time": "2024-05-17T04:37:19.248Z"
   },
   {
    "duration": 4,
    "start_time": "2024-05-17T04:37:19.258Z"
   },
   {
    "duration": 15,
    "start_time": "2024-05-17T04:37:19.313Z"
   },
   {
    "duration": 26,
    "start_time": "2024-05-17T04:37:19.331Z"
   },
   {
    "duration": 73,
    "start_time": "2024-05-17T04:37:19.360Z"
   },
   {
    "duration": 43,
    "start_time": "2024-05-17T04:37:19.436Z"
   },
   {
    "duration": 67,
    "start_time": "2024-05-17T04:37:19.487Z"
   },
   {
    "duration": 21,
    "start_time": "2024-05-17T04:37:19.559Z"
   },
   {
    "duration": 129,
    "start_time": "2024-05-17T04:37:19.583Z"
   },
   {
    "duration": 81,
    "start_time": "2024-05-17T04:37:19.715Z"
   },
   {
    "duration": 11,
    "start_time": "2024-05-17T04:37:19.813Z"
   },
   {
    "duration": 9,
    "start_time": "2024-05-17T04:37:19.827Z"
   },
   {
    "duration": 16,
    "start_time": "2024-05-17T04:37:19.840Z"
   },
   {
    "duration": 55,
    "start_time": "2024-05-17T04:37:19.859Z"
   },
   {
    "duration": 9,
    "start_time": "2024-05-17T04:37:19.918Z"
   },
   {
    "duration": 25,
    "start_time": "2024-05-17T04:37:19.930Z"
   },
   {
    "duration": 657,
    "start_time": "2024-05-17T04:37:19.959Z"
   },
   {
    "duration": 67,
    "start_time": "2024-05-17T04:37:20.619Z"
   },
   {
    "duration": 434,
    "start_time": "2024-05-17T04:37:20.688Z"
   },
   {
    "duration": 1545,
    "start_time": "2024-05-17T04:37:21.125Z"
   },
   {
    "duration": 827,
    "start_time": "2024-05-17T04:37:22.673Z"
   },
   {
    "duration": 513,
    "start_time": "2024-05-17T04:37:23.502Z"
   },
   {
    "duration": 379,
    "start_time": "2024-05-17T04:37:24.423Z"
   },
   {
    "duration": 464,
    "start_time": "2024-05-17T04:39:39.688Z"
   },
   {
    "duration": 429,
    "start_time": "2024-05-17T04:40:02.999Z"
   },
   {
    "duration": 378,
    "start_time": "2024-05-17T04:40:45.478Z"
   },
   {
    "duration": 380,
    "start_time": "2024-05-17T04:41:49.899Z"
   },
   {
    "duration": 389,
    "start_time": "2024-05-17T04:43:22.769Z"
   },
   {
    "duration": 800,
    "start_time": "2024-05-17T04:43:49.003Z"
   },
   {
    "duration": 420,
    "start_time": "2024-05-17T04:43:58.565Z"
   },
   {
    "duration": 396,
    "start_time": "2024-05-17T04:44:35.339Z"
   },
   {
    "duration": 414,
    "start_time": "2024-05-17T04:44:51.263Z"
   },
   {
    "duration": 419,
    "start_time": "2024-05-17T04:45:09.189Z"
   },
   {
    "duration": 580,
    "start_time": "2024-05-17T04:45:33.318Z"
   },
   {
    "duration": 427,
    "start_time": "2024-05-17T04:45:50.863Z"
   },
   {
    "duration": 550,
    "start_time": "2024-05-17T04:47:11.623Z"
   },
   {
    "duration": 460,
    "start_time": "2024-05-17T04:49:10.189Z"
   },
   {
    "duration": 538,
    "start_time": "2024-05-17T04:49:42.436Z"
   },
   {
    "duration": 573,
    "start_time": "2024-05-17T04:49:50.018Z"
   },
   {
    "duration": 569,
    "start_time": "2024-05-17T04:49:57.388Z"
   },
   {
    "duration": 560,
    "start_time": "2024-05-17T04:50:01.304Z"
   },
   {
    "duration": 564,
    "start_time": "2024-05-17T04:50:07.204Z"
   },
   {
    "duration": 509,
    "start_time": "2024-05-17T04:50:17.181Z"
   },
   {
    "duration": 523,
    "start_time": "2024-05-17T04:51:10.889Z"
   },
   {
    "duration": 660,
    "start_time": "2024-05-17T04:53:07.135Z"
   },
   {
    "duration": 273,
    "start_time": "2024-05-17T04:53:07.800Z"
   },
   {
    "duration": 75,
    "start_time": "2024-05-17T04:53:08.076Z"
   },
   {
    "duration": 17,
    "start_time": "2024-05-17T04:53:08.156Z"
   },
   {
    "duration": 36,
    "start_time": "2024-05-17T04:53:08.176Z"
   },
   {
    "duration": 1292,
    "start_time": "2024-05-17T04:53:08.215Z"
   },
   {
    "duration": 177,
    "start_time": "2024-05-17T04:53:09.513Z"
   },
   {
    "duration": 30,
    "start_time": "2024-05-17T04:53:09.693Z"
   },
   {
    "duration": 45,
    "start_time": "2024-05-17T04:53:09.727Z"
   },
   {
    "duration": 204,
    "start_time": "2024-05-17T04:53:09.777Z"
   },
   {
    "duration": 57,
    "start_time": "2024-05-17T04:53:09.984Z"
   },
   {
    "duration": 21,
    "start_time": "2024-05-17T04:53:10.044Z"
   },
   {
    "duration": 6,
    "start_time": "2024-05-17T04:53:10.068Z"
   },
   {
    "duration": 50,
    "start_time": "2024-05-17T04:53:10.112Z"
   },
   {
    "duration": 67,
    "start_time": "2024-05-17T04:53:10.165Z"
   },
   {
    "duration": 6,
    "start_time": "2024-05-17T04:53:10.235Z"
   },
   {
    "duration": 6,
    "start_time": "2024-05-17T04:53:10.245Z"
   },
   {
    "duration": 1360,
    "start_time": "2024-05-17T04:53:10.254Z"
   },
   {
    "duration": 320,
    "start_time": "2024-05-17T04:53:11.617Z"
   },
   {
    "duration": 6,
    "start_time": "2024-05-17T04:53:11.940Z"
   },
   {
    "duration": 23,
    "start_time": "2024-05-17T04:53:11.950Z"
   },
   {
    "duration": 38,
    "start_time": "2024-05-17T04:53:11.976Z"
   },
   {
    "duration": 4,
    "start_time": "2024-05-17T04:53:12.017Z"
   },
   {
    "duration": 16,
    "start_time": "2024-05-17T04:53:12.024Z"
   },
   {
    "duration": 24,
    "start_time": "2024-05-17T04:53:12.043Z"
   },
   {
    "duration": 80,
    "start_time": "2024-05-17T04:53:12.069Z"
   },
   {
    "duration": 64,
    "start_time": "2024-05-17T04:53:12.152Z"
   },
   {
    "duration": 47,
    "start_time": "2024-05-17T04:53:12.224Z"
   },
   {
    "duration": 45,
    "start_time": "2024-05-17T04:53:12.274Z"
   },
   {
    "duration": 115,
    "start_time": "2024-05-17T04:53:12.322Z"
   },
   {
    "duration": 90,
    "start_time": "2024-05-17T04:53:12.440Z"
   },
   {
    "duration": 9,
    "start_time": "2024-05-17T04:53:12.533Z"
   },
   {
    "duration": 10,
    "start_time": "2024-05-17T04:53:12.545Z"
   },
   {
    "duration": 16,
    "start_time": "2024-05-17T04:53:12.557Z"
   },
   {
    "duration": 16,
    "start_time": "2024-05-17T04:53:12.612Z"
   },
   {
    "duration": 9,
    "start_time": "2024-05-17T04:53:12.630Z"
   },
   {
    "duration": 21,
    "start_time": "2024-05-17T04:53:12.641Z"
   },
   {
    "duration": 686,
    "start_time": "2024-05-17T04:53:12.665Z"
   },
   {
    "duration": 86,
    "start_time": "2024-05-17T04:53:13.354Z"
   },
   {
    "duration": 437,
    "start_time": "2024-05-17T04:53:13.443Z"
   },
   {
    "duration": 1593,
    "start_time": "2024-05-17T04:53:13.884Z"
   },
   {
    "duration": 783,
    "start_time": "2024-05-17T04:53:15.479Z"
   },
   {
    "duration": 525,
    "start_time": "2024-05-17T04:53:16.265Z"
   },
   {
    "duration": 640,
    "start_time": "2024-05-17T04:53:17.375Z"
   },
   {
    "duration": 493,
    "start_time": "2024-05-17T04:55:03.949Z"
   },
   {
    "duration": 459,
    "start_time": "2024-05-17T04:55:22.465Z"
   },
   {
    "duration": 480,
    "start_time": "2024-05-17T04:55:36.136Z"
   },
   {
    "duration": 516,
    "start_time": "2024-05-17T04:55:43.104Z"
   },
   {
    "duration": 501,
    "start_time": "2024-05-17T04:55:56.548Z"
   },
   {
    "duration": 512,
    "start_time": "2024-05-17T04:56:04.548Z"
   },
   {
    "duration": 613,
    "start_time": "2024-05-17T04:57:11.084Z"
   },
   {
    "duration": 186,
    "start_time": "2024-05-17T05:11:47.684Z"
   },
   {
    "duration": 264,
    "start_time": "2024-05-17T05:14:54.564Z"
   },
   {
    "duration": 264,
    "start_time": "2024-05-17T05:15:06.135Z"
   },
   {
    "duration": 254,
    "start_time": "2024-05-17T05:15:21.644Z"
   },
   {
    "duration": 320,
    "start_time": "2024-05-17T05:22:58.766Z"
   },
   {
    "duration": 309,
    "start_time": "2024-05-17T05:23:24.988Z"
   },
   {
    "duration": 302,
    "start_time": "2024-05-17T05:24:09.048Z"
   },
   {
    "duration": 303,
    "start_time": "2024-05-17T05:25:17.661Z"
   },
   {
    "duration": 317,
    "start_time": "2024-05-17T05:25:24.950Z"
   },
   {
    "duration": 308,
    "start_time": "2024-05-17T05:25:34.109Z"
   },
   {
    "duration": 307,
    "start_time": "2024-05-17T05:26:25.569Z"
   },
   {
    "duration": 7,
    "start_time": "2024-05-17T05:27:47.069Z"
   },
   {
    "duration": 306,
    "start_time": "2024-05-17T05:27:50.324Z"
   },
   {
    "duration": 269,
    "start_time": "2024-05-17T05:30:36.349Z"
   },
   {
    "duration": 366,
    "start_time": "2024-05-17T05:34:15.870Z"
   },
   {
    "duration": 339,
    "start_time": "2024-05-17T05:34:37.694Z"
   },
   {
    "duration": 349,
    "start_time": "2024-05-17T05:36:08.219Z"
   },
   {
    "duration": 1564,
    "start_time": "2024-05-17T05:37:30.495Z"
   },
   {
    "duration": 475,
    "start_time": "2024-05-17T05:38:03.700Z"
   },
   {
    "duration": 410,
    "start_time": "2024-05-17T05:38:46.554Z"
   },
   {
    "duration": 1487,
    "start_time": "2024-05-17T05:48:25.260Z"
   },
   {
    "duration": 1459,
    "start_time": "2024-05-17T05:48:53.822Z"
   },
   {
    "duration": 197,
    "start_time": "2024-05-17T05:49:22.196Z"
   },
   {
    "duration": 343,
    "start_time": "2024-05-17T05:53:17.505Z"
   },
   {
    "duration": 323,
    "start_time": "2024-05-17T05:53:31.351Z"
   },
   {
    "duration": 312,
    "start_time": "2024-05-17T05:59:15.201Z"
   },
   {
    "duration": 7,
    "start_time": "2024-05-17T06:01:05.041Z"
   },
   {
    "duration": 3745,
    "start_time": "2024-05-17T06:01:14.530Z"
   },
   {
    "duration": 3762,
    "start_time": "2024-05-17T06:01:47.910Z"
   },
   {
    "duration": 3746,
    "start_time": "2024-05-17T06:02:17.766Z"
   },
   {
    "duration": 3856,
    "start_time": "2024-05-17T06:02:43.241Z"
   },
   {
    "duration": 680,
    "start_time": "2024-05-17T06:03:49.537Z"
   },
   {
    "duration": 266,
    "start_time": "2024-05-17T06:03:50.221Z"
   },
   {
    "duration": 74,
    "start_time": "2024-05-17T06:03:50.490Z"
   },
   {
    "duration": 16,
    "start_time": "2024-05-17T06:03:50.568Z"
   },
   {
    "duration": 37,
    "start_time": "2024-05-17T06:03:50.587Z"
   },
   {
    "duration": 1303,
    "start_time": "2024-05-17T06:03:50.628Z"
   },
   {
    "duration": 190,
    "start_time": "2024-05-17T06:03:51.934Z"
   },
   {
    "duration": 21,
    "start_time": "2024-05-17T06:03:52.128Z"
   },
   {
    "duration": 74,
    "start_time": "2024-05-17T06:03:52.152Z"
   },
   {
    "duration": 177,
    "start_time": "2024-05-17T06:03:52.231Z"
   },
   {
    "duration": 45,
    "start_time": "2024-05-17T06:03:52.413Z"
   },
   {
    "duration": 22,
    "start_time": "2024-05-17T06:03:52.461Z"
   },
   {
    "duration": 7,
    "start_time": "2024-05-17T06:03:52.512Z"
   },
   {
    "duration": 50,
    "start_time": "2024-05-17T06:03:52.522Z"
   },
   {
    "duration": 58,
    "start_time": "2024-05-17T06:03:52.575Z"
   },
   {
    "duration": 6,
    "start_time": "2024-05-17T06:03:52.636Z"
   },
   {
    "duration": 7,
    "start_time": "2024-05-17T06:03:52.645Z"
   },
   {
    "duration": 1395,
    "start_time": "2024-05-17T06:03:52.656Z"
   },
   {
    "duration": 328,
    "start_time": "2024-05-17T06:03:54.054Z"
   },
   {
    "duration": 6,
    "start_time": "2024-05-17T06:03:54.385Z"
   },
   {
    "duration": 36,
    "start_time": "2024-05-17T06:03:54.394Z"
   },
   {
    "duration": 6,
    "start_time": "2024-05-17T06:03:54.433Z"
   },
   {
    "duration": 4,
    "start_time": "2024-05-17T06:03:54.443Z"
   },
   {
    "duration": 15,
    "start_time": "2024-05-17T06:03:54.450Z"
   },
   {
    "duration": 68,
    "start_time": "2024-05-17T06:03:54.467Z"
   },
   {
    "duration": 36,
    "start_time": "2024-05-17T06:03:54.538Z"
   },
   {
    "duration": 71,
    "start_time": "2024-05-17T06:03:54.577Z"
   },
   {
    "duration": 68,
    "start_time": "2024-05-17T06:03:54.657Z"
   },
   {
    "duration": 22,
    "start_time": "2024-05-17T06:03:54.728Z"
   },
   {
    "duration": 130,
    "start_time": "2024-05-17T06:03:54.753Z"
   },
   {
    "duration": 90,
    "start_time": "2024-05-17T06:03:54.885Z"
   },
   {
    "duration": 9,
    "start_time": "2024-05-17T06:03:54.978Z"
   },
   {
    "duration": 29,
    "start_time": "2024-05-17T06:03:54.990Z"
   },
   {
    "duration": 14,
    "start_time": "2024-05-17T06:03:55.022Z"
   },
   {
    "duration": 15,
    "start_time": "2024-05-17T06:03:55.039Z"
   },
   {
    "duration": 9,
    "start_time": "2024-05-17T06:03:55.057Z"
   },
   {
    "duration": 62,
    "start_time": "2024-05-17T06:03:55.068Z"
   },
   {
    "duration": 641,
    "start_time": "2024-05-17T06:03:55.133Z"
   },
   {
    "duration": 78,
    "start_time": "2024-05-17T06:03:55.777Z"
   },
   {
    "duration": 416,
    "start_time": "2024-05-17T06:03:55.857Z"
   },
   {
    "duration": 1550,
    "start_time": "2024-05-17T06:03:56.276Z"
   },
   {
    "duration": 783,
    "start_time": "2024-05-17T06:03:57.829Z"
   },
   {
    "duration": 547,
    "start_time": "2024-05-17T06:03:58.615Z"
   },
   {
    "duration": 539,
    "start_time": "2024-05-17T06:03:59.166Z"
   },
   {
    "duration": 0,
    "start_time": "2024-05-17T06:04:02.627Z"
   },
   {
    "duration": 2725,
    "start_time": "2024-05-17T06:04:09.393Z"
   },
   {
    "duration": 481,
    "start_time": "2024-05-17T06:05:22.456Z"
   },
   {
    "duration": 402,
    "start_time": "2024-05-17T06:05:59.457Z"
   },
   {
    "duration": 4055,
    "start_time": "2024-05-17T06:06:12.957Z"
   },
   {
    "duration": 332,
    "start_time": "2024-05-17T06:12:16.632Z"
   },
   {
    "duration": 416,
    "start_time": "2024-05-17T06:12:48.368Z"
   },
   {
    "duration": 344,
    "start_time": "2024-05-17T06:14:27.302Z"
   },
   {
    "duration": 1430,
    "start_time": "2024-05-17T06:14:58.464Z"
   },
   {
    "duration": 366,
    "start_time": "2024-05-17T06:15:16.658Z"
   },
   {
    "duration": 356,
    "start_time": "2024-05-17T06:16:01.737Z"
   },
   {
    "duration": 325,
    "start_time": "2024-05-17T06:16:34.288Z"
   },
   {
    "duration": 355,
    "start_time": "2024-05-17T06:16:52.742Z"
   },
   {
    "duration": 365,
    "start_time": "2024-05-17T06:16:58.589Z"
   },
   {
    "duration": 405,
    "start_time": "2024-05-17T06:17:13.692Z"
   },
   {
    "duration": 380,
    "start_time": "2024-05-17T06:17:20.433Z"
   },
   {
    "duration": 381,
    "start_time": "2024-05-17T06:17:41.216Z"
   },
   {
    "duration": 406,
    "start_time": "2024-05-17T06:17:56.077Z"
   },
   {
    "duration": 331,
    "start_time": "2024-05-17T06:19:16.388Z"
   },
   {
    "duration": 643,
    "start_time": "2024-05-17T06:19:36.254Z"
   },
   {
    "duration": 275,
    "start_time": "2024-05-17T06:19:36.900Z"
   },
   {
    "duration": 77,
    "start_time": "2024-05-17T06:19:37.178Z"
   },
   {
    "duration": 16,
    "start_time": "2024-05-17T06:19:37.260Z"
   },
   {
    "duration": 36,
    "start_time": "2024-05-17T06:19:37.279Z"
   },
   {
    "duration": 1269,
    "start_time": "2024-05-17T06:19:37.318Z"
   },
   {
    "duration": 179,
    "start_time": "2024-05-17T06:19:38.589Z"
   },
   {
    "duration": 42,
    "start_time": "2024-05-17T06:19:38.771Z"
   },
   {
    "duration": 47,
    "start_time": "2024-05-17T06:19:38.816Z"
   },
   {
    "duration": 186,
    "start_time": "2024-05-17T06:19:38.869Z"
   },
   {
    "duration": 55,
    "start_time": "2024-05-17T06:19:39.058Z"
   },
   {
    "duration": 22,
    "start_time": "2024-05-17T06:19:39.117Z"
   },
   {
    "duration": 8,
    "start_time": "2024-05-17T06:19:39.141Z"
   },
   {
    "duration": 78,
    "start_time": "2024-05-17T06:19:39.151Z"
   },
   {
    "duration": 30,
    "start_time": "2024-05-17T06:19:39.232Z"
   },
   {
    "duration": 6,
    "start_time": "2024-05-17T06:19:39.265Z"
   },
   {
    "duration": 40,
    "start_time": "2024-05-17T06:19:39.275Z"
   },
   {
    "duration": 1347,
    "start_time": "2024-05-17T06:19:39.318Z"
   },
   {
    "duration": 324,
    "start_time": "2024-05-17T06:19:40.668Z"
   },
   {
    "duration": 17,
    "start_time": "2024-05-17T06:19:40.995Z"
   },
   {
    "duration": 20,
    "start_time": "2024-05-17T06:19:41.016Z"
   },
   {
    "duration": 7,
    "start_time": "2024-05-17T06:19:41.038Z"
   },
   {
    "duration": 4,
    "start_time": "2024-05-17T06:19:41.048Z"
   },
   {
    "duration": 57,
    "start_time": "2024-05-17T06:19:41.056Z"
   },
   {
    "duration": 30,
    "start_time": "2024-05-17T06:19:41.116Z"
   },
   {
    "duration": 66,
    "start_time": "2024-05-17T06:19:41.149Z"
   },
   {
    "duration": 49,
    "start_time": "2024-05-17T06:19:41.218Z"
   },
   {
    "duration": 72,
    "start_time": "2024-05-17T06:19:41.276Z"
   },
   {
    "duration": 21,
    "start_time": "2024-05-17T06:19:41.351Z"
   },
   {
    "duration": 130,
    "start_time": "2024-05-17T06:19:41.375Z"
   },
   {
    "duration": 86,
    "start_time": "2024-05-17T06:19:41.508Z"
   },
   {
    "duration": 11,
    "start_time": "2024-05-17T06:19:41.613Z"
   },
   {
    "duration": 9,
    "start_time": "2024-05-17T06:19:41.627Z"
   },
   {
    "duration": 15,
    "start_time": "2024-05-17T06:19:41.639Z"
   },
   {
    "duration": 59,
    "start_time": "2024-05-17T06:19:41.656Z"
   },
   {
    "duration": 9,
    "start_time": "2024-05-17T06:19:41.718Z"
   },
   {
    "duration": 22,
    "start_time": "2024-05-17T06:19:41.730Z"
   },
   {
    "duration": 660,
    "start_time": "2024-05-17T06:19:41.755Z"
   },
   {
    "duration": 68,
    "start_time": "2024-05-17T06:19:42.418Z"
   },
   {
    "duration": 435,
    "start_time": "2024-05-17T06:19:42.489Z"
   },
   {
    "duration": 1616,
    "start_time": "2024-05-17T06:19:42.928Z"
   },
   {
    "duration": 789,
    "start_time": "2024-05-17T06:19:44.547Z"
   },
   {
    "duration": 502,
    "start_time": "2024-05-17T06:19:45.339Z"
   },
   {
    "duration": 533,
    "start_time": "2024-05-17T06:19:45.844Z"
   },
   {
    "duration": 0,
    "start_time": "2024-05-17T06:19:46.989Z"
   },
   {
    "duration": 396,
    "start_time": "2024-05-17T06:19:49.619Z"
   },
   {
    "duration": 380,
    "start_time": "2024-05-17T06:19:54.263Z"
   },
   {
    "duration": 415,
    "start_time": "2024-05-17T06:20:12.053Z"
   },
   {
    "duration": 884,
    "start_time": "2024-05-17T06:20:43.199Z"
   },
   {
    "duration": 413,
    "start_time": "2024-05-17T06:20:50.300Z"
   },
   {
    "duration": 384,
    "start_time": "2024-05-17T06:20:59.169Z"
   },
   {
    "duration": 7,
    "start_time": "2024-05-17T06:22:15.809Z"
   },
   {
    "duration": 6,
    "start_time": "2024-05-17T06:22:31.639Z"
   },
   {
    "duration": 6,
    "start_time": "2024-05-17T06:22:39.500Z"
   },
   {
    "duration": 5,
    "start_time": "2024-05-17T06:23:07.614Z"
   },
   {
    "duration": 124,
    "start_time": "2024-05-17T06:23:17.243Z"
   },
   {
    "duration": 202,
    "start_time": "2024-05-17T06:23:30.759Z"
   },
   {
    "duration": 307,
    "start_time": "2024-05-17T06:23:41.543Z"
   },
   {
    "duration": 399,
    "start_time": "2024-05-17T06:23:51.168Z"
   },
   {
    "duration": 7,
    "start_time": "2024-05-17T06:24:00.721Z"
   },
   {
    "duration": 348,
    "start_time": "2024-05-17T06:24:04.714Z"
   },
   {
    "duration": 337,
    "start_time": "2024-05-17T06:25:38.499Z"
   },
   {
    "duration": 322,
    "start_time": "2024-05-17T06:27:28.348Z"
   },
   {
    "duration": 320,
    "start_time": "2024-05-17T06:27:41.799Z"
   },
   {
    "duration": 413,
    "start_time": "2024-05-17T06:28:08.164Z"
   },
   {
    "duration": 331,
    "start_time": "2024-05-17T06:28:19.764Z"
   },
   {
    "duration": 341,
    "start_time": "2024-05-17T06:28:31.248Z"
   },
   {
    "duration": 412,
    "start_time": "2024-05-17T06:29:30.139Z"
   },
   {
    "duration": 345,
    "start_time": "2024-05-17T06:30:48.099Z"
   },
   {
    "duration": 321,
    "start_time": "2024-05-17T06:31:30.679Z"
   },
   {
    "duration": 408,
    "start_time": "2024-05-17T06:31:50.744Z"
   },
   {
    "duration": 398,
    "start_time": "2024-05-17T06:33:32.114Z"
   },
   {
    "duration": 407,
    "start_time": "2024-05-17T06:34:17.383Z"
   },
   {
    "duration": 4001,
    "start_time": "2024-05-17T06:34:37.929Z"
   },
   {
    "duration": 405,
    "start_time": "2024-05-17T06:35:49.629Z"
   },
   {
    "duration": 401,
    "start_time": "2024-05-17T06:37:10.504Z"
   },
   {
    "duration": 360,
    "start_time": "2024-05-17T06:37:47.419Z"
   },
   {
    "duration": 367,
    "start_time": "2024-05-17T06:38:58.214Z"
   },
   {
    "duration": 441,
    "start_time": "2024-05-17T06:39:08.109Z"
   },
   {
    "duration": 360,
    "start_time": "2024-05-17T06:39:12.668Z"
   },
   {
    "duration": 355,
    "start_time": "2024-05-17T06:40:17.264Z"
   },
   {
    "duration": 1210,
    "start_time": "2024-05-17T06:41:00.949Z"
   },
   {
    "duration": 425,
    "start_time": "2024-05-17T06:41:10.709Z"
   },
   {
    "duration": 349,
    "start_time": "2024-05-17T06:41:17.593Z"
   },
   {
    "duration": 380,
    "start_time": "2024-05-17T06:41:53.194Z"
   },
   {
    "duration": 359,
    "start_time": "2024-05-17T06:42:05.333Z"
   },
   {
    "duration": 365,
    "start_time": "2024-05-17T06:42:18.954Z"
   },
   {
    "duration": 482,
    "start_time": "2024-05-17T06:43:03.294Z"
   },
   {
    "duration": 12,
    "start_time": "2024-05-17T06:45:15.719Z"
   },
   {
    "duration": 331,
    "start_time": "2024-05-17T06:47:19.594Z"
   },
   {
    "duration": 1567,
    "start_time": "2024-05-17T06:59:00.598Z"
   },
   {
    "duration": 1534,
    "start_time": "2024-05-17T06:59:07.759Z"
   },
   {
    "duration": 687,
    "start_time": "2024-05-17T06:59:36.704Z"
   },
   {
    "duration": 265,
    "start_time": "2024-05-17T06:59:37.395Z"
   },
   {
    "duration": 71,
    "start_time": "2024-05-17T06:59:37.662Z"
   },
   {
    "duration": 18,
    "start_time": "2024-05-17T06:59:37.736Z"
   },
   {
    "duration": 18,
    "start_time": "2024-05-17T06:59:37.759Z"
   },
   {
    "duration": 1286,
    "start_time": "2024-05-17T06:59:37.779Z"
   },
   {
    "duration": 179,
    "start_time": "2024-05-17T06:59:39.069Z"
   },
   {
    "duration": 21,
    "start_time": "2024-05-17T06:59:39.251Z"
   },
   {
    "duration": 74,
    "start_time": "2024-05-17T06:59:39.275Z"
   },
   {
    "duration": 177,
    "start_time": "2024-05-17T06:59:39.352Z"
   },
   {
    "duration": 46,
    "start_time": "2024-05-17T06:59:39.531Z"
   },
   {
    "duration": 46,
    "start_time": "2024-05-17T06:59:39.580Z"
   },
   {
    "duration": 7,
    "start_time": "2024-05-17T06:59:39.629Z"
   },
   {
    "duration": 70,
    "start_time": "2024-05-17T06:59:39.643Z"
   },
   {
    "duration": 30,
    "start_time": "2024-05-17T06:59:39.716Z"
   },
   {
    "duration": 6,
    "start_time": "2024-05-17T06:59:39.749Z"
   },
   {
    "duration": 6,
    "start_time": "2024-05-17T06:59:39.759Z"
   },
   {
    "duration": 1391,
    "start_time": "2024-05-17T06:59:39.768Z"
   },
   {
    "duration": 333,
    "start_time": "2024-05-17T06:59:41.162Z"
   },
   {
    "duration": 19,
    "start_time": "2024-05-17T06:59:41.498Z"
   },
   {
    "duration": 25,
    "start_time": "2024-05-17T06:59:41.520Z"
   },
   {
    "duration": 7,
    "start_time": "2024-05-17T06:59:41.548Z"
   },
   {
    "duration": 4,
    "start_time": "2024-05-17T06:59:41.559Z"
   },
   {
    "duration": 52,
    "start_time": "2024-05-17T06:59:41.566Z"
   },
   {
    "duration": 26,
    "start_time": "2024-05-17T06:59:41.621Z"
   },
   {
    "duration": 66,
    "start_time": "2024-05-17T06:59:41.650Z"
   },
   {
    "duration": 44,
    "start_time": "2024-05-17T06:59:41.719Z"
   },
   {
    "duration": 76,
    "start_time": "2024-05-17T06:59:41.766Z"
   },
   {
    "duration": 21,
    "start_time": "2024-05-17T06:59:41.845Z"
   },
   {
    "duration": 126,
    "start_time": "2024-05-17T06:59:41.871Z"
   },
   {
    "duration": 86,
    "start_time": "2024-05-17T06:59:42.000Z"
   },
   {
    "duration": 26,
    "start_time": "2024-05-17T06:59:42.090Z"
   },
   {
    "duration": 10,
    "start_time": "2024-05-17T06:59:42.119Z"
   },
   {
    "duration": 15,
    "start_time": "2024-05-17T06:59:42.132Z"
   },
   {
    "duration": 16,
    "start_time": "2024-05-17T06:59:42.149Z"
   },
   {
    "duration": 46,
    "start_time": "2024-05-17T06:59:42.168Z"
   },
   {
    "duration": 21,
    "start_time": "2024-05-17T06:59:42.217Z"
   },
   {
    "duration": 641,
    "start_time": "2024-05-17T06:59:42.241Z"
   },
   {
    "duration": 85,
    "start_time": "2024-05-17T06:59:42.886Z"
   },
   {
    "duration": 453,
    "start_time": "2024-05-17T06:59:42.973Z"
   },
   {
    "duration": 1578,
    "start_time": "2024-05-17T06:59:43.434Z"
   },
   {
    "duration": 787,
    "start_time": "2024-05-17T06:59:45.015Z"
   },
   {
    "duration": 500,
    "start_time": "2024-05-17T06:59:45.805Z"
   },
   {
    "duration": 523,
    "start_time": "2024-05-17T06:59:46.308Z"
   },
   {
    "duration": 545,
    "start_time": "2024-05-17T06:59:46.834Z"
   },
   {
    "duration": 1646,
    "start_time": "2024-05-17T06:59:47.382Z"
   },
   {
    "duration": 3,
    "start_time": "2024-05-17T07:05:02.430Z"
   },
   {
    "duration": 569,
    "start_time": "2024-05-17T07:10:14.336Z"
   },
   {
    "duration": 575,
    "start_time": "2024-05-17T07:11:10.149Z"
   },
   {
    "duration": 618,
    "start_time": "2024-05-17T07:11:50.890Z"
   },
   {
    "duration": 523,
    "start_time": "2024-05-17T07:12:04.189Z"
   },
   {
    "duration": 540,
    "start_time": "2024-05-17T07:12:59.628Z"
   },
   {
    "duration": 248,
    "start_time": "2024-05-17T07:13:56.895Z"
   },
   {
    "duration": 540,
    "start_time": "2024-05-17T07:14:09.649Z"
   },
   {
    "duration": 8,
    "start_time": "2024-05-17T07:14:17.285Z"
   },
   {
    "duration": 585,
    "start_time": "2024-05-17T07:14:20.189Z"
   },
   {
    "duration": 592,
    "start_time": "2024-05-17T07:14:39.739Z"
   },
   {
    "duration": 580,
    "start_time": "2024-05-17T07:15:43.444Z"
   },
   {
    "duration": 6,
    "start_time": "2024-05-17T07:16:01.785Z"
   },
   {
    "duration": 7,
    "start_time": "2024-05-17T07:16:23.765Z"
   },
   {
    "duration": 6,
    "start_time": "2024-05-17T07:17:17.805Z"
   },
   {
    "duration": 572,
    "start_time": "2024-05-17T07:17:38.879Z"
   },
   {
    "duration": 653,
    "start_time": "2024-05-17T07:20:58.915Z"
   },
   {
    "duration": 695,
    "start_time": "2024-05-17T07:21:13.677Z"
   },
   {
    "duration": 580,
    "start_time": "2024-05-17T07:24:38.051Z"
   },
   {
    "duration": 697,
    "start_time": "2024-05-17T07:24:43.789Z"
   },
   {
    "duration": 577,
    "start_time": "2024-05-17T07:25:21.794Z"
   },
   {
    "duration": 712,
    "start_time": "2024-05-17T07:28:05.800Z"
   },
   {
    "duration": 689,
    "start_time": "2024-05-17T07:28:53.193Z"
   },
   {
    "duration": 284,
    "start_time": "2024-05-17T07:28:53.886Z"
   },
   {
    "duration": 76,
    "start_time": "2024-05-17T07:28:54.173Z"
   },
   {
    "duration": 16,
    "start_time": "2024-05-17T07:28:54.252Z"
   },
   {
    "duration": 14,
    "start_time": "2024-05-17T07:28:54.274Z"
   },
   {
    "duration": 1306,
    "start_time": "2024-05-17T07:28:54.311Z"
   },
   {
    "duration": 177,
    "start_time": "2024-05-17T07:28:55.621Z"
   },
   {
    "duration": 30,
    "start_time": "2024-05-17T07:28:55.800Z"
   },
   {
    "duration": 46,
    "start_time": "2024-05-17T07:28:55.833Z"
   },
   {
    "duration": 197,
    "start_time": "2024-05-17T07:28:55.881Z"
   },
   {
    "duration": 56,
    "start_time": "2024-05-17T07:28:56.081Z"
   },
   {
    "duration": 21,
    "start_time": "2024-05-17T07:28:56.140Z"
   },
   {
    "duration": 7,
    "start_time": "2024-05-17T07:28:56.164Z"
   },
   {
    "duration": 74,
    "start_time": "2024-05-17T07:28:56.180Z"
   },
   {
    "duration": 30,
    "start_time": "2024-05-17T07:28:56.256Z"
   },
   {
    "duration": 26,
    "start_time": "2024-05-17T07:28:56.289Z"
   },
   {
    "duration": 7,
    "start_time": "2024-05-17T07:28:56.318Z"
   },
   {
    "duration": 1347,
    "start_time": "2024-05-17T07:28:56.329Z"
   },
   {
    "duration": 314,
    "start_time": "2024-05-17T07:28:57.679Z"
   },
   {
    "duration": 16,
    "start_time": "2024-05-17T07:28:57.996Z"
   },
   {
    "duration": 21,
    "start_time": "2024-05-17T07:28:58.015Z"
   },
   {
    "duration": 7,
    "start_time": "2024-05-17T07:28:58.038Z"
   },
   {
    "duration": 3,
    "start_time": "2024-05-17T07:28:58.048Z"
   },
   {
    "duration": 56,
    "start_time": "2024-05-17T07:28:58.056Z"
   },
   {
    "duration": 26,
    "start_time": "2024-05-17T07:28:58.116Z"
   },
   {
    "duration": 36,
    "start_time": "2024-05-17T07:28:58.145Z"
   },
   {
    "duration": 47,
    "start_time": "2024-05-17T07:28:58.212Z"
   },
   {
    "duration": 72,
    "start_time": "2024-05-17T07:28:58.262Z"
   },
   {
    "duration": 25,
    "start_time": "2024-05-17T07:28:58.337Z"
   },
   {
    "duration": 126,
    "start_time": "2024-05-17T07:28:58.365Z"
   },
   {
    "duration": 86,
    "start_time": "2024-05-17T07:28:58.495Z"
   },
   {
    "duration": 10,
    "start_time": "2024-05-17T07:28:58.584Z"
   },
   {
    "duration": 10,
    "start_time": "2024-05-17T07:28:58.614Z"
   },
   {
    "duration": 15,
    "start_time": "2024-05-17T07:28:58.627Z"
   },
   {
    "duration": 17,
    "start_time": "2024-05-17T07:28:58.645Z"
   },
   {
    "duration": 54,
    "start_time": "2024-05-17T07:28:58.665Z"
   },
   {
    "duration": 22,
    "start_time": "2024-05-17T07:28:58.722Z"
   },
   {
    "duration": 678,
    "start_time": "2024-05-17T07:28:58.747Z"
   },
   {
    "duration": 67,
    "start_time": "2024-05-17T07:28:59.428Z"
   },
   {
    "duration": 436,
    "start_time": "2024-05-17T07:28:59.497Z"
   },
   {
    "duration": 1528,
    "start_time": "2024-05-17T07:28:59.941Z"
   },
   {
    "duration": 791,
    "start_time": "2024-05-17T07:29:01.473Z"
   },
   {
    "duration": 504,
    "start_time": "2024-05-17T07:29:02.267Z"
   },
   {
    "duration": 544,
    "start_time": "2024-05-17T07:29:02.775Z"
   },
   {
    "duration": 544,
    "start_time": "2024-05-17T07:29:03.324Z"
   },
   {
    "duration": 1658,
    "start_time": "2024-05-17T07:29:03.871Z"
   },
   {
    "duration": 794,
    "start_time": "2024-05-17T07:29:05.531Z"
   },
   {
    "duration": 1685,
    "start_time": "2024-05-17T07:36:39.434Z"
   },
   {
    "duration": 142,
    "start_time": "2024-05-17T07:36:54.233Z"
   },
   {
    "duration": 21,
    "start_time": "2024-05-17T07:37:08.003Z"
   },
   {
    "duration": 168,
    "start_time": "2024-05-17T07:37:13.098Z"
   },
   {
    "duration": 685,
    "start_time": "2024-05-17T07:37:32.889Z"
   },
   {
    "duration": 274,
    "start_time": "2024-05-17T07:37:33.579Z"
   },
   {
    "duration": 80,
    "start_time": "2024-05-17T07:37:33.856Z"
   },
   {
    "duration": 16,
    "start_time": "2024-05-17T07:37:33.940Z"
   },
   {
    "duration": 17,
    "start_time": "2024-05-17T07:37:33.961Z"
   },
   {
    "duration": 1285,
    "start_time": "2024-05-17T07:37:33.982Z"
   },
   {
    "duration": 178,
    "start_time": "2024-05-17T07:37:35.270Z"
   },
   {
    "duration": 22,
    "start_time": "2024-05-17T07:37:35.452Z"
   },
   {
    "duration": 207,
    "start_time": "2024-05-17T07:37:35.476Z"
   },
   {
    "duration": 0,
    "start_time": "2024-05-17T07:37:35.688Z"
   },
   {
    "duration": 0,
    "start_time": "2024-05-17T07:37:35.689Z"
   },
   {
    "duration": 0,
    "start_time": "2024-05-17T07:37:35.692Z"
   },
   {
    "duration": 0,
    "start_time": "2024-05-17T07:37:35.694Z"
   },
   {
    "duration": 0,
    "start_time": "2024-05-17T07:37:35.712Z"
   },
   {
    "duration": 0,
    "start_time": "2024-05-17T07:37:35.714Z"
   },
   {
    "duration": 0,
    "start_time": "2024-05-17T07:37:35.715Z"
   },
   {
    "duration": 0,
    "start_time": "2024-05-17T07:37:35.717Z"
   },
   {
    "duration": 0,
    "start_time": "2024-05-17T07:37:35.720Z"
   },
   {
    "duration": 0,
    "start_time": "2024-05-17T07:37:35.721Z"
   },
   {
    "duration": 0,
    "start_time": "2024-05-17T07:37:35.724Z"
   },
   {
    "duration": 0,
    "start_time": "2024-05-17T07:37:35.726Z"
   },
   {
    "duration": 0,
    "start_time": "2024-05-17T07:37:35.728Z"
   },
   {
    "duration": 0,
    "start_time": "2024-05-17T07:37:35.730Z"
   },
   {
    "duration": 0,
    "start_time": "2024-05-17T07:37:35.731Z"
   },
   {
    "duration": 0,
    "start_time": "2024-05-17T07:37:35.734Z"
   },
   {
    "duration": 0,
    "start_time": "2024-05-17T07:37:35.736Z"
   },
   {
    "duration": 0,
    "start_time": "2024-05-17T07:37:35.738Z"
   },
   {
    "duration": 0,
    "start_time": "2024-05-17T07:37:35.740Z"
   },
   {
    "duration": 0,
    "start_time": "2024-05-17T07:37:35.743Z"
   },
   {
    "duration": 0,
    "start_time": "2024-05-17T07:37:35.745Z"
   },
   {
    "duration": 0,
    "start_time": "2024-05-17T07:37:35.748Z"
   },
   {
    "duration": 0,
    "start_time": "2024-05-17T07:37:35.750Z"
   },
   {
    "duration": 0,
    "start_time": "2024-05-17T07:37:35.813Z"
   },
   {
    "duration": 0,
    "start_time": "2024-05-17T07:37:35.815Z"
   },
   {
    "duration": 0,
    "start_time": "2024-05-17T07:37:35.818Z"
   },
   {
    "duration": 0,
    "start_time": "2024-05-17T07:37:35.821Z"
   },
   {
    "duration": 0,
    "start_time": "2024-05-17T07:37:35.822Z"
   },
   {
    "duration": 0,
    "start_time": "2024-05-17T07:37:35.824Z"
   },
   {
    "duration": 0,
    "start_time": "2024-05-17T07:37:35.827Z"
   },
   {
    "duration": 0,
    "start_time": "2024-05-17T07:37:35.829Z"
   },
   {
    "duration": 0,
    "start_time": "2024-05-17T07:37:35.831Z"
   },
   {
    "duration": 0,
    "start_time": "2024-05-17T07:37:35.833Z"
   },
   {
    "duration": 0,
    "start_time": "2024-05-17T07:37:35.835Z"
   },
   {
    "duration": 0,
    "start_time": "2024-05-17T07:37:35.837Z"
   },
   {
    "duration": 0,
    "start_time": "2024-05-17T07:37:35.839Z"
   },
   {
    "duration": 0,
    "start_time": "2024-05-17T07:37:35.841Z"
   },
   {
    "duration": 0,
    "start_time": "2024-05-17T07:37:35.843Z"
   },
   {
    "duration": 688,
    "start_time": "2024-05-17T07:38:26.394Z"
   },
   {
    "duration": 266,
    "start_time": "2024-05-17T07:38:27.085Z"
   },
   {
    "duration": 84,
    "start_time": "2024-05-17T07:38:27.354Z"
   },
   {
    "duration": 18,
    "start_time": "2024-05-17T07:38:27.441Z"
   },
   {
    "duration": 16,
    "start_time": "2024-05-17T07:38:27.463Z"
   },
   {
    "duration": 1284,
    "start_time": "2024-05-17T07:38:27.482Z"
   },
   {
    "duration": 204,
    "start_time": "2024-05-17T07:38:28.769Z"
   },
   {
    "duration": 39,
    "start_time": "2024-05-17T07:38:28.976Z"
   },
   {
    "duration": 49,
    "start_time": "2024-05-17T07:38:29.019Z"
   },
   {
    "duration": 216,
    "start_time": "2024-05-17T07:38:29.072Z"
   },
   {
    "duration": 69,
    "start_time": "2024-05-17T07:38:29.291Z"
   },
   {
    "duration": 24,
    "start_time": "2024-05-17T07:38:29.363Z"
   },
   {
    "duration": 24,
    "start_time": "2024-05-17T07:38:29.390Z"
   },
   {
    "duration": 49,
    "start_time": "2024-05-17T07:38:29.422Z"
   },
   {
    "duration": 58,
    "start_time": "2024-05-17T07:38:29.473Z"
   },
   {
    "duration": 7,
    "start_time": "2024-05-17T07:38:29.534Z"
   },
   {
    "duration": 8,
    "start_time": "2024-05-17T07:38:29.544Z"
   },
   {
    "duration": 1364,
    "start_time": "2024-05-17T07:38:29.556Z"
   },
   {
    "duration": 332,
    "start_time": "2024-05-17T07:38:30.924Z"
   },
   {
    "duration": 6,
    "start_time": "2024-05-17T07:38:31.259Z"
   },
   {
    "duration": 44,
    "start_time": "2024-05-17T07:38:31.269Z"
   },
   {
    "duration": 7,
    "start_time": "2024-05-17T07:38:31.316Z"
   },
   {
    "duration": 3,
    "start_time": "2024-05-17T07:38:31.326Z"
   },
   {
    "duration": 17,
    "start_time": "2024-05-17T07:38:31.332Z"
   },
   {
    "duration": 70,
    "start_time": "2024-05-17T07:38:31.351Z"
   },
   {
    "duration": 37,
    "start_time": "2024-05-17T07:38:31.424Z"
   },
   {
    "duration": 73,
    "start_time": "2024-05-17T07:38:31.464Z"
   },
   {
    "duration": 51,
    "start_time": "2024-05-17T07:38:31.539Z"
   },
   {
    "duration": 22,
    "start_time": "2024-05-17T07:38:31.611Z"
   },
   {
    "duration": 125,
    "start_time": "2024-05-17T07:38:31.636Z"
   },
   {
    "duration": 92,
    "start_time": "2024-05-17T07:38:31.764Z"
   },
   {
    "duration": 9,
    "start_time": "2024-05-17T07:38:31.859Z"
   },
   {
    "duration": 9,
    "start_time": "2024-05-17T07:38:31.871Z"
   },
   {
    "duration": 40,
    "start_time": "2024-05-17T07:38:31.883Z"
   },
   {
    "duration": 16,
    "start_time": "2024-05-17T07:38:31.925Z"
   },
   {
    "duration": 9,
    "start_time": "2024-05-17T07:38:31.943Z"
   },
   {
    "duration": 64,
    "start_time": "2024-05-17T07:38:31.955Z"
   },
   {
    "duration": 639,
    "start_time": "2024-05-17T07:38:32.022Z"
   },
   {
    "duration": 80,
    "start_time": "2024-05-17T07:38:32.664Z"
   },
   {
    "duration": 434,
    "start_time": "2024-05-17T07:38:32.747Z"
   },
   {
    "duration": 1598,
    "start_time": "2024-05-17T07:38:33.189Z"
   },
   {
    "duration": 788,
    "start_time": "2024-05-17T07:38:34.790Z"
   },
   {
    "duration": 501,
    "start_time": "2024-05-17T07:38:35.581Z"
   },
   {
    "duration": 520,
    "start_time": "2024-05-17T07:38:36.084Z"
   },
   {
    "duration": 538,
    "start_time": "2024-05-17T07:38:36.612Z"
   },
   {
    "duration": 1655,
    "start_time": "2024-05-17T07:38:37.153Z"
   },
   {
    "duration": 827,
    "start_time": "2024-05-17T07:38:38.813Z"
   },
   {
    "duration": 4,
    "start_time": "2024-05-17T07:43:57.074Z"
   },
   {
    "duration": 5,
    "start_time": "2024-05-17T07:46:04.924Z"
   },
   {
    "duration": 8,
    "start_time": "2024-05-17T07:46:34.179Z"
   },
   {
    "duration": 6,
    "start_time": "2024-05-17T07:46:44.344Z"
   },
   {
    "duration": 5,
    "start_time": "2024-05-17T07:46:46.924Z"
   },
   {
    "duration": 6,
    "start_time": "2024-05-17T07:47:04.829Z"
   },
   {
    "duration": 4,
    "start_time": "2024-05-17T07:47:33.144Z"
   },
   {
    "duration": 35,
    "start_time": "2024-05-17T07:48:40.124Z"
   },
   {
    "duration": 4517,
    "start_time": "2024-05-17T08:04:28.232Z"
   },
   {
    "duration": 263,
    "start_time": "2024-05-17T08:04:32.753Z"
   },
   {
    "duration": 105,
    "start_time": "2024-05-17T08:04:33.027Z"
   },
   {
    "duration": 19,
    "start_time": "2024-05-17T08:04:33.136Z"
   },
   {
    "duration": 18,
    "start_time": "2024-05-17T08:04:33.158Z"
   },
   {
    "duration": 1423,
    "start_time": "2024-05-17T08:04:33.180Z"
   },
   {
    "duration": 211,
    "start_time": "2024-05-17T08:04:34.608Z"
   },
   {
    "duration": 23,
    "start_time": "2024-05-17T08:04:34.827Z"
   },
   {
    "duration": 79,
    "start_time": "2024-05-17T08:04:34.853Z"
   },
   {
    "duration": 187,
    "start_time": "2024-05-17T08:04:34.939Z"
   },
   {
    "duration": 50,
    "start_time": "2024-05-17T08:04:35.128Z"
   },
   {
    "duration": 48,
    "start_time": "2024-05-17T08:04:35.181Z"
   },
   {
    "duration": 7,
    "start_time": "2024-05-17T08:04:35.232Z"
   },
   {
    "duration": 52,
    "start_time": "2024-05-17T08:04:35.242Z"
   },
   {
    "duration": 34,
    "start_time": "2024-05-17T08:04:35.328Z"
   },
   {
    "duration": 6,
    "start_time": "2024-05-17T08:04:35.365Z"
   },
   {
    "duration": 7,
    "start_time": "2024-05-17T08:04:35.375Z"
   },
   {
    "duration": 1429,
    "start_time": "2024-05-17T08:04:35.385Z"
   },
   {
    "duration": 344,
    "start_time": "2024-05-17T08:04:36.817Z"
   },
   {
    "duration": 7,
    "start_time": "2024-05-17T08:04:37.165Z"
   },
   {
    "duration": 50,
    "start_time": "2024-05-17T08:04:37.176Z"
   },
   {
    "duration": 6,
    "start_time": "2024-05-17T08:04:37.229Z"
   },
   {
    "duration": 5,
    "start_time": "2024-05-17T08:04:37.238Z"
   },
   {
    "duration": 17,
    "start_time": "2024-05-17T08:04:37.247Z"
   },
   {
    "duration": 68,
    "start_time": "2024-05-17T08:04:37.267Z"
   },
   {
    "duration": 39,
    "start_time": "2024-05-17T08:04:37.338Z"
   },
   {
    "duration": 71,
    "start_time": "2024-05-17T08:04:37.380Z"
   },
   {
    "duration": 73,
    "start_time": "2024-05-17T08:04:37.460Z"
   },
   {
    "duration": 23,
    "start_time": "2024-05-17T08:04:37.537Z"
   },
   {
    "duration": 123,
    "start_time": "2024-05-17T08:04:37.563Z"
   },
   {
    "duration": 92,
    "start_time": "2024-05-17T08:04:37.689Z"
   },
   {
    "duration": 10,
    "start_time": "2024-05-17T08:04:37.785Z"
   },
   {
    "duration": 35,
    "start_time": "2024-05-17T08:04:37.798Z"
   },
   {
    "duration": 19,
    "start_time": "2024-05-17T08:04:37.837Z"
   },
   {
    "duration": 18,
    "start_time": "2024-05-17T08:04:37.859Z"
   },
   {
    "duration": 49,
    "start_time": "2024-05-17T08:04:37.881Z"
   },
   {
    "duration": 24,
    "start_time": "2024-05-17T08:04:37.935Z"
   },
   {
    "duration": 727,
    "start_time": "2024-05-17T08:04:37.962Z"
   },
   {
    "duration": 88,
    "start_time": "2024-05-17T08:04:38.692Z"
   },
   {
    "duration": 447,
    "start_time": "2024-05-17T08:04:38.782Z"
   },
   {
    "duration": 1648,
    "start_time": "2024-05-17T08:04:39.232Z"
   },
   {
    "duration": 810,
    "start_time": "2024-05-17T08:04:40.884Z"
   },
   {
    "duration": 539,
    "start_time": "2024-05-17T08:04:41.697Z"
   },
   {
    "duration": 545,
    "start_time": "2024-05-17T08:04:42.240Z"
   },
   {
    "duration": 575,
    "start_time": "2024-05-17T08:04:42.788Z"
   },
   {
    "duration": 1854,
    "start_time": "2024-05-17T08:04:43.366Z"
   },
   {
    "duration": 880,
    "start_time": "2024-05-17T08:04:45.225Z"
   },
   {
    "duration": 143,
    "start_time": "2024-05-17T08:08:18.434Z"
   },
   {
    "duration": 148,
    "start_time": "2024-05-17T08:17:00.139Z"
   },
   {
    "duration": 141,
    "start_time": "2024-05-17T08:17:05.998Z"
   },
   {
    "duration": 320,
    "start_time": "2024-05-17T21:30:16.941Z"
   },
   {
    "duration": 4342,
    "start_time": "2024-05-17T21:30:31.878Z"
   },
   {
    "duration": 269,
    "start_time": "2024-05-17T21:30:36.224Z"
   },
   {
    "duration": 114,
    "start_time": "2024-05-17T21:30:36.496Z"
   },
   {
    "duration": 18,
    "start_time": "2024-05-17T21:30:36.614Z"
   },
   {
    "duration": 19,
    "start_time": "2024-05-17T21:30:36.637Z"
   },
   {
    "duration": 1589,
    "start_time": "2024-05-17T21:30:36.662Z"
   },
   {
    "duration": 181,
    "start_time": "2024-05-17T21:30:38.257Z"
   },
   {
    "duration": 22,
    "start_time": "2024-05-17T21:30:38.441Z"
   },
   {
    "duration": 82,
    "start_time": "2024-05-17T21:30:38.466Z"
   },
   {
    "duration": 167,
    "start_time": "2024-05-17T21:30:38.551Z"
   },
   {
    "duration": 45,
    "start_time": "2024-05-17T21:30:38.722Z"
   },
   {
    "duration": 42,
    "start_time": "2024-05-17T21:30:38.772Z"
   },
   {
    "duration": 9,
    "start_time": "2024-05-17T21:30:38.817Z"
   },
   {
    "duration": 76,
    "start_time": "2024-05-17T21:30:38.837Z"
   },
   {
    "duration": 33,
    "start_time": "2024-05-17T21:30:38.916Z"
   },
   {
    "duration": 9,
    "start_time": "2024-05-17T21:30:38.953Z"
   },
   {
    "duration": 7,
    "start_time": "2024-05-17T21:30:38.966Z"
   },
   {
    "duration": 1431,
    "start_time": "2024-05-17T21:30:38.977Z"
   },
   {
    "duration": 314,
    "start_time": "2024-05-17T21:30:40.411Z"
   },
   {
    "duration": 7,
    "start_time": "2024-05-17T21:30:40.727Z"
   },
   {
    "duration": 25,
    "start_time": "2024-05-17T21:30:40.738Z"
   },
   {
    "duration": 8,
    "start_time": "2024-05-17T21:30:40.765Z"
   },
   {
    "duration": 6,
    "start_time": "2024-05-17T21:30:40.813Z"
   },
   {
    "duration": 23,
    "start_time": "2024-05-17T21:30:40.822Z"
   },
   {
    "duration": 27,
    "start_time": "2024-05-17T21:30:40.848Z"
   },
   {
    "duration": 48,
    "start_time": "2024-05-17T21:30:40.914Z"
   },
   {
    "duration": 77,
    "start_time": "2024-05-17T21:30:40.965Z"
   },
   {
    "duration": 49,
    "start_time": "2024-05-17T21:30:41.045Z"
   },
   {
    "duration": 22,
    "start_time": "2024-05-17T21:30:41.113Z"
   },
   {
    "duration": 125,
    "start_time": "2024-05-17T21:30:41.137Z"
   },
   {
    "duration": 114,
    "start_time": "2024-05-17T21:30:41.267Z"
   },
   {
    "duration": 12,
    "start_time": "2024-05-17T21:30:41.384Z"
   },
   {
    "duration": 10,
    "start_time": "2024-05-17T21:30:41.414Z"
   },
   {
    "duration": 19,
    "start_time": "2024-05-17T21:30:41.427Z"
   },
   {
    "duration": 9,
    "start_time": "2024-05-17T21:30:41.449Z"
   },
   {
    "duration": 68,
    "start_time": "2024-05-17T21:30:41.461Z"
   },
   {
    "duration": 15,
    "start_time": "2024-05-17T21:30:41.532Z"
   },
   {
    "duration": 23,
    "start_time": "2024-05-17T21:30:41.550Z"
   },
   {
    "duration": 699,
    "start_time": "2024-05-17T21:30:41.577Z"
   },
   {
    "duration": 82,
    "start_time": "2024-05-17T21:30:42.280Z"
   },
   {
    "duration": 439,
    "start_time": "2024-05-17T21:30:42.370Z"
   },
   {
    "duration": 1610,
    "start_time": "2024-05-17T21:30:42.813Z"
   },
   {
    "duration": 822,
    "start_time": "2024-05-17T21:30:44.427Z"
   },
   {
    "duration": 544,
    "start_time": "2024-05-17T21:30:45.253Z"
   },
   {
    "duration": 564,
    "start_time": "2024-05-17T21:30:45.800Z"
   },
   {
    "duration": 556,
    "start_time": "2024-05-17T21:30:46.368Z"
   },
   {
    "duration": 1698,
    "start_time": "2024-05-17T21:30:46.929Z"
   },
   {
    "duration": 855,
    "start_time": "2024-05-17T21:30:48.632Z"
   },
   {
    "duration": 380,
    "start_time": "2024-05-17T21:35:24.674Z"
   },
   {
    "duration": 270,
    "start_time": "2024-05-17T21:35:31.766Z"
   },
   {
    "duration": 324,
    "start_time": "2024-05-17T21:35:38.900Z"
   },
   {
    "duration": 245,
    "start_time": "2024-05-17T21:35:45.426Z"
   },
   {
    "duration": 247,
    "start_time": "2024-05-17T21:35:48.257Z"
   },
   {
    "duration": 15,
    "start_time": "2024-05-17T21:38:33.831Z"
   },
   {
    "duration": 21,
    "start_time": "2024-05-17T21:38:49.097Z"
   },
   {
    "duration": 27,
    "start_time": "2024-05-17T21:39:42.925Z"
   },
   {
    "duration": 27,
    "start_time": "2024-05-17T21:40:11.763Z"
   },
   {
    "duration": 543,
    "start_time": "2024-05-17T21:40:17.269Z"
   },
   {
    "duration": 506,
    "start_time": "2024-05-17T21:43:11.784Z"
   },
   {
    "duration": 635,
    "start_time": "2024-05-17T21:43:20.757Z"
   },
   {
    "duration": 505,
    "start_time": "2024-05-17T21:43:36.560Z"
   },
   {
    "duration": 517,
    "start_time": "2024-05-17T21:43:49.284Z"
   },
   {
    "duration": 2384,
    "start_time": "2024-05-17T21:43:56.744Z"
   },
   {
    "duration": 638,
    "start_time": "2024-05-17T21:44:00.373Z"
   },
   {
    "duration": 534,
    "start_time": "2024-05-17T21:44:16.904Z"
   },
   {
    "duration": 545,
    "start_time": "2024-05-17T21:44:29.297Z"
   },
   {
    "duration": 519,
    "start_time": "2024-05-17T21:44:57.329Z"
   },
   {
    "duration": 699,
    "start_time": "2024-05-17T21:46:56.904Z"
   },
   {
    "duration": 528,
    "start_time": "2024-05-17T21:47:05.165Z"
   },
   {
    "duration": 570,
    "start_time": "2024-05-17T21:47:10.194Z"
   },
   {
    "duration": 576,
    "start_time": "2024-05-17T21:47:13.899Z"
   },
   {
    "duration": 697,
    "start_time": "2024-05-17T21:48:02.741Z"
   },
   {
    "duration": 284,
    "start_time": "2024-05-17T21:48:03.442Z"
   },
   {
    "duration": 69,
    "start_time": "2024-05-17T21:48:03.729Z"
   },
   {
    "duration": 24,
    "start_time": "2024-05-17T21:48:03.813Z"
   },
   {
    "duration": 19,
    "start_time": "2024-05-17T21:48:03.843Z"
   },
   {
    "duration": 1337,
    "start_time": "2024-05-17T21:48:03.866Z"
   },
   {
    "duration": 175,
    "start_time": "2024-05-17T21:48:05.216Z"
   },
   {
    "duration": 33,
    "start_time": "2024-05-17T21:48:05.394Z"
   },
   {
    "duration": 57,
    "start_time": "2024-05-17T21:48:05.431Z"
   },
   {
    "duration": 208,
    "start_time": "2024-05-17T21:48:05.493Z"
   },
   {
    "duration": 50,
    "start_time": "2024-05-17T21:48:05.704Z"
   },
   {
    "duration": 25,
    "start_time": "2024-05-17T21:48:05.756Z"
   },
   {
    "duration": 30,
    "start_time": "2024-05-17T21:48:05.784Z"
   },
   {
    "duration": 53,
    "start_time": "2024-05-17T21:48:05.822Z"
   },
   {
    "duration": 59,
    "start_time": "2024-05-17T21:48:05.878Z"
   },
   {
    "duration": 7,
    "start_time": "2024-05-17T21:48:05.940Z"
   },
   {
    "duration": 6,
    "start_time": "2024-05-17T21:48:05.950Z"
   },
   {
    "duration": 1407,
    "start_time": "2024-05-17T21:48:05.960Z"
   },
   {
    "duration": 320,
    "start_time": "2024-05-17T21:48:07.370Z"
   },
   {
    "duration": 19,
    "start_time": "2024-05-17T21:48:07.693Z"
   },
   {
    "duration": 24,
    "start_time": "2024-05-17T21:48:07.715Z"
   },
   {
    "duration": 7,
    "start_time": "2024-05-17T21:48:07.743Z"
   },
   {
    "duration": 6,
    "start_time": "2024-05-17T21:48:07.754Z"
   },
   {
    "duration": 59,
    "start_time": "2024-05-17T21:48:07.763Z"
   },
   {
    "duration": 27,
    "start_time": "2024-05-17T21:48:07.824Z"
   },
   {
    "duration": 69,
    "start_time": "2024-05-17T21:48:07.854Z"
   },
   {
    "duration": 51,
    "start_time": "2024-05-17T21:48:07.929Z"
   },
   {
    "duration": 68,
    "start_time": "2024-05-17T21:48:07.983Z"
   },
   {
    "duration": 25,
    "start_time": "2024-05-17T21:48:08.056Z"
   },
   {
    "duration": 129,
    "start_time": "2024-05-17T21:48:08.084Z"
   },
   {
    "duration": 105,
    "start_time": "2024-05-17T21:48:08.219Z"
   },
   {
    "duration": 11,
    "start_time": "2024-05-17T21:48:08.329Z"
   },
   {
    "duration": 13,
    "start_time": "2024-05-17T21:48:08.343Z"
   },
   {
    "duration": 19,
    "start_time": "2024-05-17T21:48:08.359Z"
   },
   {
    "duration": 581,
    "start_time": "2024-05-17T21:48:08.381Z"
   },
   {
    "duration": 16,
    "start_time": "2024-05-17T21:48:08.968Z"
   },
   {
    "duration": 33,
    "start_time": "2024-05-17T21:48:08.986Z"
   },
   {
    "duration": 24,
    "start_time": "2024-05-17T21:48:09.022Z"
   },
   {
    "duration": 1008,
    "start_time": "2024-05-17T21:48:09.049Z"
   },
   {
    "duration": 0,
    "start_time": "2024-05-17T21:48:10.060Z"
   },
   {
    "duration": 0,
    "start_time": "2024-05-17T21:48:10.062Z"
   },
   {
    "duration": 0,
    "start_time": "2024-05-17T21:48:10.064Z"
   },
   {
    "duration": 0,
    "start_time": "2024-05-17T21:48:10.066Z"
   },
   {
    "duration": 0,
    "start_time": "2024-05-17T21:48:10.068Z"
   },
   {
    "duration": 0,
    "start_time": "2024-05-17T21:48:10.070Z"
   },
   {
    "duration": 0,
    "start_time": "2024-05-17T21:48:10.073Z"
   },
   {
    "duration": 1,
    "start_time": "2024-05-17T21:48:10.074Z"
   },
   {
    "duration": 0,
    "start_time": "2024-05-17T21:48:10.076Z"
   },
   {
    "duration": 612,
    "start_time": "2024-05-17T21:48:25.167Z"
   },
   {
    "duration": 551,
    "start_time": "2024-05-17T21:49:20.434Z"
   },
   {
    "duration": 549,
    "start_time": "2024-05-17T21:51:15.369Z"
   },
   {
    "duration": 9,
    "start_time": "2024-05-17T21:53:21.028Z"
   },
   {
    "duration": 8,
    "start_time": "2024-05-17T21:53:24.418Z"
   },
   {
    "duration": 6,
    "start_time": "2024-05-17T21:54:11.168Z"
   },
   {
    "duration": 6,
    "start_time": "2024-05-17T21:54:37.730Z"
   },
   {
    "duration": 7,
    "start_time": "2024-05-17T21:54:52.784Z"
   },
   {
    "duration": 6,
    "start_time": "2024-05-17T21:55:41.350Z"
   },
   {
    "duration": 6,
    "start_time": "2024-05-17T21:55:48.576Z"
   },
   {
    "duration": 671,
    "start_time": "2024-05-17T21:56:40.186Z"
   },
   {
    "duration": 577,
    "start_time": "2024-05-17T21:56:43.559Z"
   },
   {
    "duration": 538,
    "start_time": "2024-05-17T21:56:59.143Z"
   },
   {
    "duration": 560,
    "start_time": "2024-05-17T21:57:17.992Z"
   },
   {
    "duration": 7,
    "start_time": "2024-05-17T21:57:38.662Z"
   },
   {
    "duration": 311,
    "start_time": "2024-05-17T22:02:25.976Z"
   },
   {
    "duration": 819,
    "start_time": "2024-05-17T22:02:50.012Z"
   },
   {
    "duration": 233,
    "start_time": "2024-05-17T22:02:50.836Z"
   },
   {
    "duration": 77,
    "start_time": "2024-05-17T22:02:51.073Z"
   },
   {
    "duration": 16,
    "start_time": "2024-05-17T22:02:51.156Z"
   },
   {
    "duration": 38,
    "start_time": "2024-05-17T22:02:51.175Z"
   },
   {
    "duration": 1315,
    "start_time": "2024-05-17T22:02:51.216Z"
   },
   {
    "duration": 193,
    "start_time": "2024-05-17T22:02:52.534Z"
   },
   {
    "duration": 21,
    "start_time": "2024-05-17T22:02:52.730Z"
   },
   {
    "duration": 79,
    "start_time": "2024-05-17T22:02:52.757Z"
   },
   {
    "duration": 201,
    "start_time": "2024-05-17T22:02:52.843Z"
   },
   {
    "duration": 54,
    "start_time": "2024-05-17T22:02:53.048Z"
   },
   {
    "duration": 28,
    "start_time": "2024-05-17T22:02:53.105Z"
   },
   {
    "duration": 8,
    "start_time": "2024-05-17T22:02:53.136Z"
   },
   {
    "duration": 86,
    "start_time": "2024-05-17T22:02:53.147Z"
   },
   {
    "duration": 32,
    "start_time": "2024-05-17T22:02:53.236Z"
   },
   {
    "duration": 6,
    "start_time": "2024-05-17T22:02:53.271Z"
   },
   {
    "duration": 39,
    "start_time": "2024-05-17T22:02:53.280Z"
   },
   {
    "duration": 1392,
    "start_time": "2024-05-17T22:02:53.322Z"
   },
   {
    "duration": 354,
    "start_time": "2024-05-17T22:02:54.717Z"
   },
   {
    "duration": 7,
    "start_time": "2024-05-17T22:02:55.073Z"
   },
   {
    "duration": 42,
    "start_time": "2024-05-17T22:02:55.084Z"
   },
   {
    "duration": 6,
    "start_time": "2024-05-17T22:02:55.131Z"
   },
   {
    "duration": 5,
    "start_time": "2024-05-17T22:02:55.141Z"
   },
   {
    "duration": 20,
    "start_time": "2024-05-17T22:02:55.150Z"
   },
   {
    "duration": 66,
    "start_time": "2024-05-17T22:02:55.173Z"
   },
   {
    "duration": 41,
    "start_time": "2024-05-17T22:02:55.243Z"
   },
   {
    "duration": 74,
    "start_time": "2024-05-17T22:02:55.288Z"
   },
   {
    "duration": 79,
    "start_time": "2024-05-17T22:02:55.372Z"
   },
   {
    "duration": 22,
    "start_time": "2024-05-17T22:02:55.454Z"
   },
   {
    "duration": 136,
    "start_time": "2024-05-17T22:02:55.479Z"
   },
   {
    "duration": 106,
    "start_time": "2024-05-17T22:02:55.618Z"
   },
   {
    "duration": 12,
    "start_time": "2024-05-17T22:02:55.728Z"
   },
   {
    "duration": 10,
    "start_time": "2024-05-17T22:02:55.744Z"
   },
   {
    "duration": 22,
    "start_time": "2024-05-17T22:02:55.757Z"
   },
   {
    "duration": 662,
    "start_time": "2024-05-17T22:02:55.811Z"
   },
   {
    "duration": 17,
    "start_time": "2024-05-17T22:02:56.477Z"
   },
   {
    "duration": 22,
    "start_time": "2024-05-17T22:02:56.496Z"
   },
   {
    "duration": 27,
    "start_time": "2024-05-17T22:02:56.521Z"
   },
   {
    "duration": 663,
    "start_time": "2024-05-17T22:02:56.552Z"
   },
   {
    "duration": 69,
    "start_time": "2024-05-17T22:02:57.218Z"
   },
   {
    "duration": 504,
    "start_time": "2024-05-17T22:02:57.290Z"
   },
   {
    "duration": 1629,
    "start_time": "2024-05-17T22:02:57.797Z"
   },
   {
    "duration": 850,
    "start_time": "2024-05-17T22:02:59.429Z"
   },
   {
    "duration": 497,
    "start_time": "2024-05-17T22:03:00.283Z"
   },
   {
    "duration": 540,
    "start_time": "2024-05-17T22:03:00.783Z"
   },
   {
    "duration": 543,
    "start_time": "2024-05-17T22:03:01.327Z"
   },
   {
    "duration": 1734,
    "start_time": "2024-05-17T22:03:01.872Z"
   },
   {
    "duration": 790,
    "start_time": "2024-05-17T22:03:03.609Z"
   },
   {
    "duration": 743,
    "start_time": "2024-05-17T22:03:55.898Z"
   },
   {
    "duration": 632,
    "start_time": "2024-05-17T22:04:02.572Z"
   },
   {
    "duration": 716,
    "start_time": "2024-05-17T22:05:16.180Z"
   },
   {
    "duration": 632,
    "start_time": "2024-05-17T22:05:39.109Z"
   },
   {
    "duration": 609,
    "start_time": "2024-05-17T22:06:48.397Z"
   },
   {
    "duration": 658,
    "start_time": "2024-05-17T22:06:53.760Z"
   },
   {
    "duration": 749,
    "start_time": "2024-05-17T22:07:04.587Z"
   },
   {
    "duration": 617,
    "start_time": "2024-05-17T22:08:50.981Z"
   },
   {
    "duration": 631,
    "start_time": "2024-05-17T22:09:07.844Z"
   },
   {
    "duration": 626,
    "start_time": "2024-05-17T22:09:17.103Z"
   },
   {
    "duration": 723,
    "start_time": "2024-05-17T22:09:27.330Z"
   },
   {
    "duration": 534,
    "start_time": "2024-05-17T22:17:09.307Z"
   },
   {
    "duration": 348,
    "start_time": "2024-05-17T22:17:20.918Z"
   },
   {
    "duration": 382,
    "start_time": "2024-05-17T22:17:37.898Z"
   },
   {
    "duration": 296,
    "start_time": "2024-05-17T22:17:44.067Z"
   },
   {
    "duration": 296,
    "start_time": "2024-05-17T22:17:50.326Z"
   },
   {
    "duration": 314,
    "start_time": "2024-05-17T22:17:55.553Z"
   },
   {
    "duration": 347,
    "start_time": "2024-05-17T22:17:59.653Z"
   },
   {
    "duration": 560,
    "start_time": "2024-05-17T22:18:04.710Z"
   },
   {
    "duration": 427,
    "start_time": "2024-05-17T22:18:38.574Z"
   },
   {
    "duration": 346,
    "start_time": "2024-05-17T22:18:52.496Z"
   },
   {
    "duration": 5,
    "start_time": "2024-05-17T22:35:16.001Z"
   },
   {
    "duration": 549,
    "start_time": "2024-05-17T22:39:37.890Z"
   },
   {
    "duration": 1040,
    "start_time": "2024-05-17T22:40:15.412Z"
   },
   {
    "duration": 529,
    "start_time": "2024-05-17T22:40:22.252Z"
   },
   {
    "duration": 5,
    "start_time": "2024-05-17T22:41:13.727Z"
   },
   {
    "duration": 201,
    "start_time": "2024-05-17T22:41:13.772Z"
   },
   {
    "duration": 88,
    "start_time": "2024-05-17T22:41:13.977Z"
   },
   {
    "duration": 19,
    "start_time": "2024-05-17T22:41:14.069Z"
   },
   {
    "duration": 36,
    "start_time": "2024-05-17T22:41:14.092Z"
   },
   {
    "duration": 1333,
    "start_time": "2024-05-17T22:41:14.132Z"
   },
   {
    "duration": 154,
    "start_time": "2024-05-17T22:41:15.467Z"
   },
   {
    "duration": 21,
    "start_time": "2024-05-17T22:41:15.625Z"
   },
   {
    "duration": 73,
    "start_time": "2024-05-17T22:41:15.649Z"
   },
   {
    "duration": 157,
    "start_time": "2024-05-17T22:41:15.725Z"
   },
   {
    "duration": 55,
    "start_time": "2024-05-17T22:41:15.885Z"
   },
   {
    "duration": 23,
    "start_time": "2024-05-17T22:41:15.943Z"
   },
   {
    "duration": 7,
    "start_time": "2024-05-17T22:41:15.969Z"
   },
   {
    "duration": 79,
    "start_time": "2024-05-17T22:41:15.979Z"
   },
   {
    "duration": 57,
    "start_time": "2024-05-17T22:41:16.066Z"
   },
   {
    "duration": 7,
    "start_time": "2024-05-17T22:41:16.127Z"
   },
   {
    "duration": 9,
    "start_time": "2024-05-17T22:41:16.137Z"
   },
   {
    "duration": 1284,
    "start_time": "2024-05-17T22:41:16.148Z"
   },
   {
    "duration": 290,
    "start_time": "2024-05-17T22:41:17.435Z"
   },
   {
    "duration": 6,
    "start_time": "2024-05-17T22:41:17.728Z"
   },
   {
    "duration": 28,
    "start_time": "2024-05-17T22:41:17.738Z"
   },
   {
    "duration": 7,
    "start_time": "2024-05-17T22:41:17.768Z"
   },
   {
    "duration": 5,
    "start_time": "2024-05-17T22:41:17.813Z"
   },
   {
    "duration": 19,
    "start_time": "2024-05-17T22:41:17.822Z"
   },
   {
    "duration": 29,
    "start_time": "2024-05-17T22:41:17.843Z"
   },
   {
    "duration": 75,
    "start_time": "2024-05-17T22:41:17.875Z"
   },
   {
    "duration": 61,
    "start_time": "2024-05-17T22:41:17.953Z"
   },
   {
    "duration": 59,
    "start_time": "2024-05-17T22:41:18.017Z"
   },
   {
    "duration": 45,
    "start_time": "2024-05-17T22:41:18.078Z"
   },
   {
    "duration": 115,
    "start_time": "2024-05-17T22:41:18.126Z"
   },
   {
    "duration": 98,
    "start_time": "2024-05-17T22:41:18.243Z"
   },
   {
    "duration": 10,
    "start_time": "2024-05-17T22:41:18.346Z"
   },
   {
    "duration": 10,
    "start_time": "2024-05-17T22:41:18.359Z"
   },
   {
    "duration": 43,
    "start_time": "2024-05-17T22:41:18.376Z"
   },
   {
    "duration": 646,
    "start_time": "2024-05-17T22:41:18.422Z"
   },
   {
    "duration": 16,
    "start_time": "2024-05-17T22:41:19.072Z"
   },
   {
    "duration": 400,
    "start_time": "2024-05-17T22:41:19.092Z"
   },
   {
    "duration": 542,
    "start_time": "2024-05-17T22:41:19.495Z"
   },
   {
    "duration": 10,
    "start_time": "2024-05-17T22:42:15.424Z"
   },
   {
    "duration": 20,
    "start_time": "2024-05-17T22:42:23.438Z"
   },
   {
    "duration": 17,
    "start_time": "2024-05-17T22:42:44.112Z"
   },
   {
    "duration": 36,
    "start_time": "2024-05-17T22:47:11.051Z"
   },
   {
    "duration": 47,
    "start_time": "2024-05-17T22:48:09.672Z"
   },
   {
    "duration": 137,
    "start_time": "2024-05-17T22:48:16.755Z"
   },
   {
    "duration": 51,
    "start_time": "2024-05-17T22:48:23.194Z"
   },
   {
    "duration": 31,
    "start_time": "2024-05-17T22:51:24.966Z"
   },
   {
    "duration": 678,
    "start_time": "2024-05-17T22:51:57.006Z"
   },
   {
    "duration": 284,
    "start_time": "2024-05-17T22:51:57.688Z"
   },
   {
    "duration": 90,
    "start_time": "2024-05-17T22:51:57.976Z"
   },
   {
    "duration": 19,
    "start_time": "2024-05-17T22:51:58.070Z"
   },
   {
    "duration": 29,
    "start_time": "2024-05-17T22:51:58.094Z"
   },
   {
    "duration": 1323,
    "start_time": "2024-05-17T22:51:58.127Z"
   },
   {
    "duration": 189,
    "start_time": "2024-05-17T22:51:59.453Z"
   },
   {
    "duration": 26,
    "start_time": "2024-05-17T22:51:59.645Z"
   },
   {
    "duration": 74,
    "start_time": "2024-05-17T22:51:59.675Z"
   },
   {
    "duration": 176,
    "start_time": "2024-05-17T22:51:59.753Z"
   },
   {
    "duration": 52,
    "start_time": "2024-05-17T22:51:59.932Z"
   },
   {
    "duration": 48,
    "start_time": "2024-05-17T22:51:59.986Z"
   },
   {
    "duration": 8,
    "start_time": "2024-05-17T22:52:00.037Z"
   },
   {
    "duration": 70,
    "start_time": "2024-05-17T22:52:00.056Z"
   },
   {
    "duration": 32,
    "start_time": "2024-05-17T22:52:00.132Z"
   },
   {
    "duration": 6,
    "start_time": "2024-05-17T22:52:00.167Z"
   },
   {
    "duration": 39,
    "start_time": "2024-05-17T22:52:00.177Z"
   },
   {
    "duration": 1352,
    "start_time": "2024-05-17T22:52:00.220Z"
   },
   {
    "duration": 320,
    "start_time": "2024-05-17T22:52:01.576Z"
   },
   {
    "duration": 16,
    "start_time": "2024-05-17T22:52:01.899Z"
   },
   {
    "duration": 21,
    "start_time": "2024-05-17T22:52:01.919Z"
   },
   {
    "duration": 7,
    "start_time": "2024-05-17T22:52:01.943Z"
   },
   {
    "duration": 5,
    "start_time": "2024-05-17T22:52:01.953Z"
   },
   {
    "duration": 56,
    "start_time": "2024-05-17T22:52:01.961Z"
   },
   {
    "duration": 35,
    "start_time": "2024-05-17T22:52:02.019Z"
   },
   {
    "duration": 63,
    "start_time": "2024-05-17T22:52:02.059Z"
   },
   {
    "duration": 44,
    "start_time": "2024-05-17T22:52:02.126Z"
   },
   {
    "duration": 75,
    "start_time": "2024-05-17T22:52:02.173Z"
   },
   {
    "duration": 22,
    "start_time": "2024-05-17T22:52:02.252Z"
   },
   {
    "duration": 126,
    "start_time": "2024-05-17T22:52:02.277Z"
   },
   {
    "duration": 78,
    "start_time": "2024-05-17T22:52:02.413Z"
   },
   {
    "duration": 10,
    "start_time": "2024-05-17T22:52:02.511Z"
   },
   {
    "duration": 10,
    "start_time": "2024-05-17T22:52:02.523Z"
   },
   {
    "duration": 16,
    "start_time": "2024-05-17T22:52:02.535Z"
   },
   {
    "duration": 726,
    "start_time": "2024-05-17T22:52:02.553Z"
   },
   {
    "duration": 29,
    "start_time": "2024-05-17T22:52:03.284Z"
   },
   {
    "duration": 388,
    "start_time": "2024-05-17T22:52:03.318Z"
   },
   {
    "duration": 556,
    "start_time": "2024-05-17T22:52:03.719Z"
   },
   {
    "duration": 48,
    "start_time": "2024-05-17T22:52:04.278Z"
   },
   {
    "duration": 24,
    "start_time": "2024-05-17T22:52:04.330Z"
   },
   {
    "duration": 728,
    "start_time": "2024-05-17T22:52:04.363Z"
   },
   {
    "duration": 90,
    "start_time": "2024-05-17T22:52:05.096Z"
   },
   {
    "duration": 439,
    "start_time": "2024-05-17T22:52:05.189Z"
   },
   {
    "duration": 1571,
    "start_time": "2024-05-17T22:52:05.633Z"
   },
   {
    "duration": 792,
    "start_time": "2024-05-17T22:52:07.213Z"
   },
   {
    "duration": 495,
    "start_time": "2024-05-17T22:52:08.013Z"
   },
   {
    "duration": 535,
    "start_time": "2024-05-17T22:52:08.511Z"
   },
   {
    "duration": 534,
    "start_time": "2024-05-17T22:52:09.051Z"
   },
   {
    "duration": 1673,
    "start_time": "2024-05-17T22:52:09.589Z"
   },
   {
    "duration": 830,
    "start_time": "2024-05-17T22:52:11.265Z"
   },
   {
    "duration": 32,
    "start_time": "2024-05-17T22:52:45.248Z"
   },
   {
    "duration": 4319,
    "start_time": "2024-05-18T05:46:02.355Z"
   },
   {
    "duration": 276,
    "start_time": "2024-05-18T05:46:06.678Z"
   },
   {
    "duration": 99,
    "start_time": "2024-05-18T05:46:06.957Z"
   },
   {
    "duration": 17,
    "start_time": "2024-05-18T05:46:07.060Z"
   },
   {
    "duration": 32,
    "start_time": "2024-05-18T05:46:07.080Z"
   },
   {
    "duration": 1451,
    "start_time": "2024-05-18T05:46:07.116Z"
   },
   {
    "duration": 186,
    "start_time": "2024-05-18T05:46:08.571Z"
   },
   {
    "duration": 22,
    "start_time": "2024-05-18T05:46:08.760Z"
   },
   {
    "duration": 46,
    "start_time": "2024-05-18T05:46:08.808Z"
   },
   {
    "duration": 188,
    "start_time": "2024-05-18T05:46:08.860Z"
   },
   {
    "duration": 64,
    "start_time": "2024-05-18T05:46:09.052Z"
   },
   {
    "duration": 23,
    "start_time": "2024-05-18T05:46:09.121Z"
   },
   {
    "duration": 7,
    "start_time": "2024-05-18T05:46:09.146Z"
   },
   {
    "duration": 82,
    "start_time": "2024-05-18T05:46:09.156Z"
   },
   {
    "duration": 31,
    "start_time": "2024-05-18T05:46:09.241Z"
   },
   {
    "duration": 35,
    "start_time": "2024-05-18T05:46:09.275Z"
   },
   {
    "duration": 6,
    "start_time": "2024-05-18T05:46:09.313Z"
   },
   {
    "duration": 1379,
    "start_time": "2024-05-18T05:46:09.323Z"
   },
   {
    "duration": 370,
    "start_time": "2024-05-18T05:46:10.709Z"
   },
   {
    "duration": 7,
    "start_time": "2024-05-18T05:46:11.085Z"
   },
   {
    "duration": 24,
    "start_time": "2024-05-18T05:46:11.110Z"
   },
   {
    "duration": 7,
    "start_time": "2024-05-18T05:46:11.137Z"
   },
   {
    "duration": 4,
    "start_time": "2024-05-18T05:46:11.147Z"
   },
   {
    "duration": 62,
    "start_time": "2024-05-18T05:46:11.155Z"
   },
   {
    "duration": 34,
    "start_time": "2024-05-18T05:46:11.221Z"
   },
   {
    "duration": 75,
    "start_time": "2024-05-18T05:46:11.258Z"
   },
   {
    "duration": 53,
    "start_time": "2024-05-18T05:46:11.337Z"
   },
   {
    "duration": 51,
    "start_time": "2024-05-18T05:46:11.418Z"
   },
   {
    "duration": 46,
    "start_time": "2024-05-18T05:46:11.472Z"
   },
   {
    "duration": 116,
    "start_time": "2024-05-18T05:46:11.522Z"
   },
   {
    "duration": 90,
    "start_time": "2024-05-18T05:46:11.641Z"
   },
   {
    "duration": 10,
    "start_time": "2024-05-18T05:46:11.734Z"
   },
   {
    "duration": 9,
    "start_time": "2024-05-18T05:46:11.748Z"
   },
   {
    "duration": 53,
    "start_time": "2024-05-18T05:46:11.760Z"
   },
   {
    "duration": 715,
    "start_time": "2024-05-18T05:46:11.817Z"
   },
   {
    "duration": 16,
    "start_time": "2024-05-18T05:46:12.536Z"
   },
   {
    "duration": 407,
    "start_time": "2024-05-18T05:46:12.555Z"
   },
   {
    "duration": 544,
    "start_time": "2024-05-18T05:46:12.965Z"
   },
   {
    "duration": 35,
    "start_time": "2024-05-18T05:46:13.511Z"
   },
   {
    "duration": 60,
    "start_time": "2024-05-18T05:46:13.549Z"
   },
   {
    "duration": 630,
    "start_time": "2024-05-18T05:46:13.612Z"
   },
   {
    "duration": 94,
    "start_time": "2024-05-18T05:46:14.245Z"
   },
   {
    "duration": 542,
    "start_time": "2024-05-18T05:46:14.343Z"
   },
   {
    "duration": 1633,
    "start_time": "2024-05-18T05:46:14.888Z"
   },
   {
    "duration": 817,
    "start_time": "2024-05-18T05:46:16.524Z"
   },
   {
    "duration": 519,
    "start_time": "2024-05-18T05:46:17.344Z"
   },
   {
    "duration": 538,
    "start_time": "2024-05-18T05:46:17.866Z"
   },
   {
    "duration": 554,
    "start_time": "2024-05-18T05:46:18.409Z"
   },
   {
    "duration": 1763,
    "start_time": "2024-05-18T05:46:18.966Z"
   },
   {
    "duration": 990,
    "start_time": "2024-05-18T05:46:20.732Z"
   },
   {
    "duration": 4430,
    "start_time": "2024-05-20T20:21:50.664Z"
   },
   {
    "duration": 261,
    "start_time": "2024-05-20T20:21:55.098Z"
   },
   {
    "duration": 88,
    "start_time": "2024-05-20T20:21:55.362Z"
   },
   {
    "duration": 20,
    "start_time": "2024-05-20T20:21:55.454Z"
   },
   {
    "duration": 20,
    "start_time": "2024-05-20T20:21:55.479Z"
   },
   {
    "duration": 1449,
    "start_time": "2024-05-20T20:21:55.502Z"
   },
   {
    "duration": 228,
    "start_time": "2024-05-20T20:21:56.955Z"
   },
   {
    "duration": 46,
    "start_time": "2024-05-20T20:21:57.187Z"
   },
   {
    "duration": 54,
    "start_time": "2024-05-20T20:21:57.236Z"
   },
   {
    "duration": 220,
    "start_time": "2024-05-20T20:21:57.294Z"
   },
   {
    "duration": 67,
    "start_time": "2024-05-20T20:21:57.522Z"
   },
   {
    "duration": 45,
    "start_time": "2024-05-20T20:21:57.592Z"
   },
   {
    "duration": 8,
    "start_time": "2024-05-20T20:21:57.640Z"
   },
   {
    "duration": 82,
    "start_time": "2024-05-20T20:21:57.656Z"
   },
   {
    "duration": 33,
    "start_time": "2024-05-20T20:21:57.742Z"
   },
   {
    "duration": 6,
    "start_time": "2024-05-20T20:21:57.779Z"
   },
   {
    "duration": 42,
    "start_time": "2024-05-20T20:21:57.789Z"
   },
   {
    "duration": 1524,
    "start_time": "2024-05-20T20:21:57.835Z"
   },
   {
    "duration": 386,
    "start_time": "2024-05-20T20:21:59.362Z"
   },
   {
    "duration": 6,
    "start_time": "2024-05-20T20:21:59.752Z"
   },
   {
    "duration": 23,
    "start_time": "2024-05-20T20:21:59.761Z"
   },
   {
    "duration": 44,
    "start_time": "2024-05-20T20:21:59.788Z"
   },
   {
    "duration": 6,
    "start_time": "2024-05-20T20:21:59.836Z"
   },
   {
    "duration": 23,
    "start_time": "2024-05-20T20:21:59.846Z"
   },
   {
    "duration": 68,
    "start_time": "2024-05-20T20:21:59.873Z"
   },
   {
    "duration": 37,
    "start_time": "2024-05-20T20:21:59.944Z"
   },
   {
    "duration": 79,
    "start_time": "2024-05-20T20:21:59.984Z"
   },
   {
    "duration": 71,
    "start_time": "2024-05-20T20:22:00.067Z"
   },
   {
    "duration": 22,
    "start_time": "2024-05-20T20:22:00.141Z"
   },
   {
    "duration": 126,
    "start_time": "2024-05-20T20:22:00.166Z"
   },
   {
    "duration": 94,
    "start_time": "2024-05-20T20:22:00.296Z"
   },
   {
    "duration": 10,
    "start_time": "2024-05-20T20:22:00.393Z"
   },
   {
    "duration": 27,
    "start_time": "2024-05-20T20:22:00.406Z"
   },
   {
    "duration": 15,
    "start_time": "2024-05-20T20:22:00.437Z"
   },
   {
    "duration": 744,
    "start_time": "2024-05-20T20:22:00.456Z"
   },
   {
    "duration": 29,
    "start_time": "2024-05-20T20:22:01.204Z"
   },
   {
    "duration": 416,
    "start_time": "2024-05-20T20:22:01.240Z"
   },
   {
    "duration": 561,
    "start_time": "2024-05-20T20:22:01.660Z"
   },
   {
    "duration": 35,
    "start_time": "2024-05-20T20:22:02.227Z"
   },
   {
    "duration": 25,
    "start_time": "2024-05-20T20:22:02.266Z"
   },
   {
    "duration": 655,
    "start_time": "2024-05-20T20:22:02.329Z"
   },
   {
    "duration": 97,
    "start_time": "2024-05-20T20:22:02.987Z"
   },
   {
    "duration": 522,
    "start_time": "2024-05-20T20:22:03.087Z"
   },
   {
    "duration": 1699,
    "start_time": "2024-05-20T20:22:03.613Z"
   },
   {
    "duration": 799,
    "start_time": "2024-05-20T20:22:05.316Z"
   },
   {
    "duration": 538,
    "start_time": "2024-05-20T20:22:06.118Z"
   },
   {
    "duration": 531,
    "start_time": "2024-05-20T20:22:06.659Z"
   },
   {
    "duration": 580,
    "start_time": "2024-05-20T20:22:07.193Z"
   },
   {
    "duration": 1914,
    "start_time": "2024-05-20T20:22:07.776Z"
   },
   {
    "duration": 895,
    "start_time": "2024-05-20T20:22:09.693Z"
   },
   {
    "duration": 234,
    "start_time": "2024-05-20T20:34:37.716Z"
   },
   {
    "duration": 477,
    "start_time": "2024-05-20T20:34:56.957Z"
   },
   {
    "duration": 9,
    "start_time": "2024-05-20T20:35:00.601Z"
   },
   {
    "duration": 206,
    "start_time": "2024-05-20T20:35:03.420Z"
   },
   {
    "duration": 226,
    "start_time": "2024-05-20T20:37:24.430Z"
   },
   {
    "duration": 256,
    "start_time": "2024-05-20T20:39:49.824Z"
   },
   {
    "duration": 1924,
    "start_time": "2024-05-20T20:40:01.532Z"
   },
   {
    "duration": 941,
    "start_time": "2024-05-20T20:42:57.907Z"
   },
   {
    "duration": 1512,
    "start_time": "2024-05-20T20:48:25.604Z"
   },
   {
    "duration": 893,
    "start_time": "2024-05-20T20:48:35.476Z"
   },
   {
    "duration": 892,
    "start_time": "2024-05-20T20:48:44.592Z"
   },
   {
    "duration": 926,
    "start_time": "2024-05-20T20:48:56.622Z"
   },
   {
    "duration": 911,
    "start_time": "2024-05-20T20:49:04.317Z"
   },
   {
    "duration": 924,
    "start_time": "2024-05-20T20:49:29.177Z"
   },
   {
    "duration": 909,
    "start_time": "2024-05-20T20:49:38.880Z"
   },
   {
    "duration": 925,
    "start_time": "2024-05-20T20:49:57.929Z"
   },
   {
    "duration": 691,
    "start_time": "2024-05-20T20:51:57.203Z"
   },
   {
    "duration": 659,
    "start_time": "2024-05-20T20:52:20.847Z"
   },
   {
    "duration": 643,
    "start_time": "2024-05-20T20:52:29.438Z"
   },
   {
    "duration": 626,
    "start_time": "2024-05-20T20:55:34.613Z"
   },
   {
    "duration": 637,
    "start_time": "2024-05-20T20:56:02.095Z"
   },
   {
    "duration": 616,
    "start_time": "2024-05-20T20:57:10.593Z"
   },
   {
    "duration": 630,
    "start_time": "2024-05-20T20:57:16.299Z"
   },
   {
    "duration": 635,
    "start_time": "2024-05-20T20:57:22.433Z"
   },
   {
    "duration": 1084,
    "start_time": "2024-05-20T20:57:46.525Z"
   },
   {
    "duration": 1052,
    "start_time": "2024-05-20T20:58:42.890Z"
   },
   {
    "duration": 1101,
    "start_time": "2024-05-20T20:59:09.299Z"
   },
   {
    "duration": 7,
    "start_time": "2024-05-20T20:59:18.182Z"
   },
   {
    "duration": 1009,
    "start_time": "2024-05-20T20:59:20.918Z"
   },
   {
    "duration": 1139,
    "start_time": "2024-05-20T20:59:45.604Z"
   },
   {
    "duration": 1041,
    "start_time": "2024-05-20T20:59:50.735Z"
   },
   {
    "duration": 1042,
    "start_time": "2024-05-20T21:00:26.142Z"
   },
   {
    "duration": 1040,
    "start_time": "2024-05-20T21:01:04.357Z"
   },
   {
    "duration": 1021,
    "start_time": "2024-05-20T21:01:16.939Z"
   },
   {
    "duration": 38,
    "start_time": "2024-05-20T21:12:29.709Z"
   },
   {
    "duration": 52,
    "start_time": "2024-05-20T21:12:36.784Z"
   },
   {
    "duration": 24,
    "start_time": "2024-05-20T21:12:56.081Z"
   },
   {
    "duration": 36,
    "start_time": "2024-05-20T21:13:04.495Z"
   },
   {
    "duration": 54,
    "start_time": "2024-05-20T21:13:12.888Z"
   },
   {
    "duration": 55,
    "start_time": "2024-05-20T21:14:26.727Z"
   },
   {
    "duration": 35,
    "start_time": "2024-05-20T21:15:05.218Z"
   },
   {
    "duration": 38,
    "start_time": "2024-05-20T21:15:20.646Z"
   },
   {
    "duration": 5,
    "start_time": "2024-05-20T21:15:57.100Z"
   },
   {
    "duration": 6,
    "start_time": "2024-05-20T21:16:08.308Z"
   },
   {
    "duration": 51,
    "start_time": "2024-05-20T21:16:14.427Z"
   },
   {
    "duration": 60,
    "start_time": "2024-05-20T21:16:18.673Z"
   },
   {
    "duration": 153,
    "start_time": "2024-05-20T21:17:37.704Z"
   },
   {
    "duration": 284,
    "start_time": "2024-05-20T21:20:52.748Z"
   },
   {
    "duration": 287,
    "start_time": "2024-05-20T21:20:58.251Z"
   },
   {
    "duration": 267,
    "start_time": "2024-05-20T21:21:32.207Z"
   },
   {
    "duration": 264,
    "start_time": "2024-05-20T21:21:40.737Z"
   },
   {
    "duration": 135,
    "start_time": "2024-05-20T21:22:36.167Z"
   },
   {
    "duration": 275,
    "start_time": "2024-05-20T21:22:57.150Z"
   },
   {
    "duration": 256,
    "start_time": "2024-05-20T21:23:32.712Z"
   },
   {
    "duration": 241,
    "start_time": "2024-05-20T21:23:44.086Z"
   },
   {
    "duration": 279,
    "start_time": "2024-05-20T21:24:07.725Z"
   },
   {
    "duration": 259,
    "start_time": "2024-05-20T21:26:00.761Z"
   },
   {
    "duration": 357,
    "start_time": "2024-05-20T21:26:29.553Z"
   },
   {
    "duration": 315,
    "start_time": "2024-05-20T21:27:30.418Z"
   },
   {
    "duration": 1200,
    "start_time": "2024-05-20T21:27:37.133Z"
   },
   {
    "duration": 265,
    "start_time": "2024-05-20T21:27:45.534Z"
   },
   {
    "duration": 276,
    "start_time": "2024-05-20T21:27:52.109Z"
   },
   {
    "duration": 272,
    "start_time": "2024-05-20T21:28:05.592Z"
   },
   {
    "duration": 374,
    "start_time": "2024-05-20T21:28:10.036Z"
   },
   {
    "duration": 9,
    "start_time": "2024-05-20T21:28:18.464Z"
   },
   {
    "duration": 250,
    "start_time": "2024-05-20T21:28:20.634Z"
   },
   {
    "duration": 268,
    "start_time": "2024-05-20T21:28:26.992Z"
   },
   {
    "duration": 281,
    "start_time": "2024-05-20T21:29:01.637Z"
   },
   {
    "duration": 10,
    "start_time": "2024-05-20T21:29:31.514Z"
   },
   {
    "duration": 245,
    "start_time": "2024-05-20T21:29:36.906Z"
   },
   {
    "duration": 259,
    "start_time": "2024-05-20T21:29:46.205Z"
   },
   {
    "duration": 288,
    "start_time": "2024-05-20T21:30:15.604Z"
   }
  ],
  "kernelspec": {
   "display_name": "Python 3 (ipykernel)",
   "language": "python",
   "name": "python3"
  },
  "language_info": {
   "codemirror_mode": {
    "name": "ipython",
    "version": 3
   },
   "file_extension": ".py",
   "mimetype": "text/x-python",
   "name": "python",
   "nbconvert_exporter": "python",
   "pygments_lexer": "ipython3",
   "version": "3.11.7"
  },
  "toc": {
   "base_numbering": 1,
   "nav_menu": {},
   "number_sections": true,
   "sideBar": true,
   "skip_h1_title": true,
   "title_cell": "Table of Contents",
   "title_sidebar": "Contents",
   "toc_cell": false,
   "toc_position": {},
   "toc_section_display": true,
   "toc_window_display": false
  },
  "vscode": {
   "interpreter": {
    "hash": "01a7be9ec63e704a62cefc5fe7a4756944464ee731be31632bdf42a4cb4688cf"
   }
  }
 },
 "nbformat": 4,
 "nbformat_minor": 5
}
