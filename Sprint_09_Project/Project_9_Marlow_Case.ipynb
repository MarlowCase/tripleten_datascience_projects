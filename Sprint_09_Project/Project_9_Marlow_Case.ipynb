{
 "cells": [
  {
   "cell_type": "markdown",
   "id": "383dce17-5e8c-4fbe-b959-51a52dfd151e",
   "metadata": {},
   "source": [
    "# Marlow Case - TripleTen DS Course - Sprint 9 Project: #\n",
    "# Selecting the Most Profitable Oil Well for OilyGiant via Machine Learning # \n"
   ]
  },
  {
   "cell_type": "markdown",
   "id": "07e304ca-9783-43b3-a11a-4ff27021ddb3",
   "metadata": {},
   "source": [
    "## Contents ##\n",
    "<a id='contents'></a>\n",
    "\n",
    "- [1. Introduction](#intro)\n",
    "- [2. Data Exploration](#explore)\n",
    "- [3. Exploratory Data Analysis](#eda)\n",
    "    - [3.1 Distribution of the Features Data](#feat_dist)\n",
    "    - [3.2 Distribution of the Target Data](#targ_dist)\n",
    "    - [3.3 Correlation Analysis](#corr)\n",
    "- [4. Model Development](#models)\n",
    "    - [4.1 Model Performance](#mod_perf)\n",
    "- [5. Profit Calculations](#profit)\n",
    "    - [5.1 Variable Definitions](#vars)\n",
    "    - [5.2 Minimum Volume of Reserves per Oil Well without Losses](#min)\n",
    "    - [5.3 Profit of Top 200 Oil Wells per Region](#200)\n",
    "    - [5.4 Bootstrapping and Resulting Distributions](#boots)\n",
    "- [6. Conclusion](#conclusion)"
   ]
  },
  {
   "cell_type": "markdown",
   "id": "ce762a9f-bcee-48d3-88d3-d89a9e122e62",
   "metadata": {},
   "source": [
    "# 1. Introduction #\n",
    "<a id='intro'></a>\n",
    "_________________________________________________________________________________________________________________________________________________________"
   ]
  },
  {
   "cell_type": "markdown",
   "id": "eae5820a-a55a-47b7-86f6-94b658e82daa",
   "metadata": {},
   "source": [
    "I have been hired by OilyGiant, the mining company, whom plans to choose a new region and develop new oil wells. They are looking to determine which region will have the highest profit margin. \n",
    "\n",
    "## Purpose ##\n",
    "OilyGiant has provided data on oil samples from three regions, detailing various parameters for each oil well in these regions, though specific parameter definitions are not provided. The objective is to build a machine learning model to identify the region with the highest profit potential. Additionally, an analysis of potential profit and associated risks will be conducted using the _Bootstrapping_ method\n",
    "\n",
    "## Criteria ##\n",
    "This section summarizes some of the important criteria points OilyGiant is requesting for this project:\n",
    "1. **Data Split:** Split the data into a training and validation set in a 75:25 ratio.\n",
    "2. **Model:** Train the model using linear regression.\n",
    "3. **Volume of Reserves:** Calculate the volume of reserves required to develop a new well without incurring losses. Compare this to the average reserve volume in each region.\n",
    "4. **Profit Calculation:** Estimate profit based on the top 200 wells with the highest predicted reserves.\n",
    "5. **Bootstrapping:** Use 1,000 bootstrap samples to determine the profit distribution.\n",
    "6. **Risk Assessment:** Only consider regions with a loss risk below 2.5%; select the region with the highest average profit among these.\n",
    "\n",
    "\n",
    "## Imports ##\n",
    "As with previous projects, I like to keep all of my imported modules in one location organized by purpose. Those modules can be found below. "
   ]
  },
  {
   "cell_type": "code",
   "execution_count": 1,
   "id": "78c36f9c-9376-44d2-ba25-70e440b27aa5",
   "metadata": {},
   "outputs": [],
   "source": [
    "# For data preprocessing\n",
    "import pandas as pd\n",
    "from pandas import DataFrame\n",
    "from pandas import Series\n",
    "import numpy as np\n",
    "\n",
    "# For visualizations\n",
    "import matplotlib.pyplot as plt\n",
    "import seaborn as sns\n",
    "\n",
    "# For model buiilding and metrics\n",
    "from sklearn.model_selection import train_test_split\n",
    "from sklearn.preprocessing import StandardScaler\n",
    "\n",
    "from sklearn.dummy import DummyRegressor\n",
    "from sklearn.linear_model import LinearRegression\n",
    "\n",
    "from sklearn.metrics import mean_squared_error, r2_score, root_mean_squared_error"
   ]
  },
  {
   "cell_type": "markdown",
   "id": "30b731cb-0886-494d-9eeb-dda50829c2bb",
   "metadata": {},
   "source": [
    "[Back to Contents](#contents)"
   ]
  },
  {
   "cell_type": "markdown",
   "id": "3e5880c4-195d-4938-935b-66be3ce44615",
   "metadata": {},
   "source": [
    "# 2. Data Exploration #\n",
    "<a id='explore'></a>\n",
    "_________________________________________________________________________________________________________________________________________________________\n",
    "\n",
    "To begin, I'll take a closer look at the datasets provided by OilyGiant, which contain the oil sample data from the three different regions. Let's dive in! (to the data...not the oil)"
   ]
  },
  {
   "cell_type": "code",
   "execution_count": 2,
   "id": "d98f8f84-a63b-45da-8ada-ba8cc8e02c27",
   "metadata": {},
   "outputs": [],
   "source": [
    "# Create a dictionary to store the 3 datasets\n",
    "data = {}\n",
    "\n",
    "# Create two lists containing the key names and values\n",
    "regions = ['region 1', 'region 2', 'region 3']\n",
    "datasets = ['geo_data_0.csv', 'geo_data_1.csv', 'geo_data_2.csv']\n",
    "\n",
    "# Loop through the lists to create the dataframes\n",
    "for i, region in enumerate(regions):\n",
    "    try:\n",
    "        data[region] = pd.read_csv(fr\"C:\\\\Users\\\\marlo\\\\OneDrive\\\\Desktop\\\\Python_Work\\\\Tripleten_Lessons\\\\Sprint_09_Project\\\\{datasets[i]}\")\n",
    "    except:\n",
    "        data[region] = pd.read_csv(f\"//datasets//{datasets[i]}\")"
   ]
  },
  {
   "cell_type": "code",
   "execution_count": 3,
   "id": "6683f238-af32-4e30-ad65-e0ff60cf7926",
   "metadata": {},
   "outputs": [
    {
     "name": "stdout",
     "output_type": "stream",
     "text": [
      "\u001b[1m\n",
      "region 1\n"
     ]
    },
    {
     "data": {
      "text/html": [
       "<div>\n",
       "<style scoped>\n",
       "    .dataframe tbody tr th:only-of-type {\n",
       "        vertical-align: middle;\n",
       "    }\n",
       "\n",
       "    .dataframe tbody tr th {\n",
       "        vertical-align: top;\n",
       "    }\n",
       "\n",
       "    .dataframe thead th {\n",
       "        text-align: right;\n",
       "    }\n",
       "</style>\n",
       "<table border=\"1\" class=\"dataframe\">\n",
       "  <thead>\n",
       "    <tr style=\"text-align: right;\">\n",
       "      <th></th>\n",
       "      <th>id</th>\n",
       "      <th>f0</th>\n",
       "      <th>f1</th>\n",
       "      <th>f2</th>\n",
       "      <th>product</th>\n",
       "    </tr>\n",
       "  </thead>\n",
       "  <tbody>\n",
       "    <tr>\n",
       "      <th>0</th>\n",
       "      <td>txEyH</td>\n",
       "      <td>0.705745</td>\n",
       "      <td>-0.497823</td>\n",
       "      <td>1.221170</td>\n",
       "      <td>105.280062</td>\n",
       "    </tr>\n",
       "    <tr>\n",
       "      <th>1</th>\n",
       "      <td>2acmU</td>\n",
       "      <td>1.334711</td>\n",
       "      <td>-0.340164</td>\n",
       "      <td>4.365080</td>\n",
       "      <td>73.037750</td>\n",
       "    </tr>\n",
       "    <tr>\n",
       "      <th>2</th>\n",
       "      <td>409Wp</td>\n",
       "      <td>1.022732</td>\n",
       "      <td>0.151990</td>\n",
       "      <td>1.419926</td>\n",
       "      <td>85.265647</td>\n",
       "    </tr>\n",
       "    <tr>\n",
       "      <th>3</th>\n",
       "      <td>iJLyR</td>\n",
       "      <td>-0.032172</td>\n",
       "      <td>0.139033</td>\n",
       "      <td>2.978566</td>\n",
       "      <td>168.620776</td>\n",
       "    </tr>\n",
       "    <tr>\n",
       "      <th>4</th>\n",
       "      <td>Xdl7t</td>\n",
       "      <td>1.988431</td>\n",
       "      <td>0.155413</td>\n",
       "      <td>4.751769</td>\n",
       "      <td>154.036647</td>\n",
       "    </tr>\n",
       "  </tbody>\n",
       "</table>\n",
       "</div>"
      ],
      "text/plain": [
       "      id        f0        f1        f2     product\n",
       "0  txEyH  0.705745 -0.497823  1.221170  105.280062\n",
       "1  2acmU  1.334711 -0.340164  4.365080   73.037750\n",
       "2  409Wp  1.022732  0.151990  1.419926   85.265647\n",
       "3  iJLyR -0.032172  0.139033  2.978566  168.620776\n",
       "4  Xdl7t  1.988431  0.155413  4.751769  154.036647"
      ]
     },
     "metadata": {},
     "output_type": "display_data"
    },
    {
     "name": "stdout",
     "output_type": "stream",
     "text": [
      "Shape: (100000, 5)\n",
      "\u001b[0m\n",
      "_______________________________________________________\n",
      "\u001b[1m\n",
      "region 2\n"
     ]
    },
    {
     "data": {
      "text/html": [
       "<div>\n",
       "<style scoped>\n",
       "    .dataframe tbody tr th:only-of-type {\n",
       "        vertical-align: middle;\n",
       "    }\n",
       "\n",
       "    .dataframe tbody tr th {\n",
       "        vertical-align: top;\n",
       "    }\n",
       "\n",
       "    .dataframe thead th {\n",
       "        text-align: right;\n",
       "    }\n",
       "</style>\n",
       "<table border=\"1\" class=\"dataframe\">\n",
       "  <thead>\n",
       "    <tr style=\"text-align: right;\">\n",
       "      <th></th>\n",
       "      <th>id</th>\n",
       "      <th>f0</th>\n",
       "      <th>f1</th>\n",
       "      <th>f2</th>\n",
       "      <th>product</th>\n",
       "    </tr>\n",
       "  </thead>\n",
       "  <tbody>\n",
       "    <tr>\n",
       "      <th>0</th>\n",
       "      <td>kBEdx</td>\n",
       "      <td>-15.001348</td>\n",
       "      <td>-8.276000</td>\n",
       "      <td>-0.005876</td>\n",
       "      <td>3.179103</td>\n",
       "    </tr>\n",
       "    <tr>\n",
       "      <th>1</th>\n",
       "      <td>62mP7</td>\n",
       "      <td>14.272088</td>\n",
       "      <td>-3.475083</td>\n",
       "      <td>0.999183</td>\n",
       "      <td>26.953261</td>\n",
       "    </tr>\n",
       "    <tr>\n",
       "      <th>2</th>\n",
       "      <td>vyE1P</td>\n",
       "      <td>6.263187</td>\n",
       "      <td>-5.948386</td>\n",
       "      <td>5.001160</td>\n",
       "      <td>134.766305</td>\n",
       "    </tr>\n",
       "    <tr>\n",
       "      <th>3</th>\n",
       "      <td>KcrkZ</td>\n",
       "      <td>-13.081196</td>\n",
       "      <td>-11.506057</td>\n",
       "      <td>4.999415</td>\n",
       "      <td>137.945408</td>\n",
       "    </tr>\n",
       "    <tr>\n",
       "      <th>4</th>\n",
       "      <td>AHL4O</td>\n",
       "      <td>12.702195</td>\n",
       "      <td>-8.147433</td>\n",
       "      <td>5.004363</td>\n",
       "      <td>134.766305</td>\n",
       "    </tr>\n",
       "  </tbody>\n",
       "</table>\n",
       "</div>"
      ],
      "text/plain": [
       "      id         f0         f1        f2     product\n",
       "0  kBEdx -15.001348  -8.276000 -0.005876    3.179103\n",
       "1  62mP7  14.272088  -3.475083  0.999183   26.953261\n",
       "2  vyE1P   6.263187  -5.948386  5.001160  134.766305\n",
       "3  KcrkZ -13.081196 -11.506057  4.999415  137.945408\n",
       "4  AHL4O  12.702195  -8.147433  5.004363  134.766305"
      ]
     },
     "metadata": {},
     "output_type": "display_data"
    },
    {
     "name": "stdout",
     "output_type": "stream",
     "text": [
      "Shape: (100000, 5)\n",
      "\u001b[0m\n",
      "_______________________________________________________\n",
      "\u001b[1m\n",
      "region 3\n"
     ]
    },
    {
     "data": {
      "text/html": [
       "<div>\n",
       "<style scoped>\n",
       "    .dataframe tbody tr th:only-of-type {\n",
       "        vertical-align: middle;\n",
       "    }\n",
       "\n",
       "    .dataframe tbody tr th {\n",
       "        vertical-align: top;\n",
       "    }\n",
       "\n",
       "    .dataframe thead th {\n",
       "        text-align: right;\n",
       "    }\n",
       "</style>\n",
       "<table border=\"1\" class=\"dataframe\">\n",
       "  <thead>\n",
       "    <tr style=\"text-align: right;\">\n",
       "      <th></th>\n",
       "      <th>id</th>\n",
       "      <th>f0</th>\n",
       "      <th>f1</th>\n",
       "      <th>f2</th>\n",
       "      <th>product</th>\n",
       "    </tr>\n",
       "  </thead>\n",
       "  <tbody>\n",
       "    <tr>\n",
       "      <th>0</th>\n",
       "      <td>fwXo0</td>\n",
       "      <td>-1.146987</td>\n",
       "      <td>0.963328</td>\n",
       "      <td>-0.828965</td>\n",
       "      <td>27.758673</td>\n",
       "    </tr>\n",
       "    <tr>\n",
       "      <th>1</th>\n",
       "      <td>WJtFt</td>\n",
       "      <td>0.262778</td>\n",
       "      <td>0.269839</td>\n",
       "      <td>-2.530187</td>\n",
       "      <td>56.069697</td>\n",
       "    </tr>\n",
       "    <tr>\n",
       "      <th>2</th>\n",
       "      <td>ovLUW</td>\n",
       "      <td>0.194587</td>\n",
       "      <td>0.289035</td>\n",
       "      <td>-5.586433</td>\n",
       "      <td>62.871910</td>\n",
       "    </tr>\n",
       "    <tr>\n",
       "      <th>3</th>\n",
       "      <td>q6cA6</td>\n",
       "      <td>2.236060</td>\n",
       "      <td>-0.553760</td>\n",
       "      <td>0.930038</td>\n",
       "      <td>114.572842</td>\n",
       "    </tr>\n",
       "    <tr>\n",
       "      <th>4</th>\n",
       "      <td>WPMUX</td>\n",
       "      <td>-0.515993</td>\n",
       "      <td>1.716266</td>\n",
       "      <td>5.899011</td>\n",
       "      <td>149.600746</td>\n",
       "    </tr>\n",
       "  </tbody>\n",
       "</table>\n",
       "</div>"
      ],
      "text/plain": [
       "      id        f0        f1        f2     product\n",
       "0  fwXo0 -1.146987  0.963328 -0.828965   27.758673\n",
       "1  WJtFt  0.262778  0.269839 -2.530187   56.069697\n",
       "2  ovLUW  0.194587  0.289035 -5.586433   62.871910\n",
       "3  q6cA6  2.236060 -0.553760  0.930038  114.572842\n",
       "4  WPMUX -0.515993  1.716266  5.899011  149.600746"
      ]
     },
     "metadata": {},
     "output_type": "display_data"
    },
    {
     "name": "stdout",
     "output_type": "stream",
     "text": [
      "Shape: (100000, 5)\n",
      "\u001b[0m\n",
      "_______________________________________________________\n"
     ]
    }
   ],
   "source": [
    "# Look at the first 5 rows and shape of each dataframe\n",
    "for region in regions:\n",
    "    print('\\033[1m')\n",
    "    print(region)\n",
    "    display(data[region].head())\n",
    "    print(f\"Shape: {data[region].shape}\")\n",
    "    print('\\033[0m')\n",
    "    print('_' * 55)"
   ]
  },
  {
   "cell_type": "markdown",
   "id": "d495eec2-8d9c-4720-b92c-b5a5691c0ca0",
   "metadata": {},
   "source": [
    "It appears that each of the datasets have 100,000 rows (or oil wells) and 5 columns. \n",
    "\n",
    "Three of which are our features: `f0`, `f1`, and  `f2`; with the `product` being the target. The `id` field is important, as it is uniquely identifying the oil well which in the end is our goal, but it will not be a necessary field when developing our machine learning model. I will have to determine a way to exclude this field from development, but bring it back for identificaiton later on. \n",
    "\n",
    "**Description of the Data per OilyGiant:**\n",
    "\n",
    "_Features:_\n",
    "- `id`: the unique oil well identifier\n",
    "- `f0, f1, f2`: three features of points (_their specific meaning is unimportant, but the features themselves are significant_)\n",
    "\n",
    "_Target:_\n",
    "- `product`: the volume of reserves in the oil well (thousand barrels)"
   ]
  },
  {
   "cell_type": "code",
   "execution_count": 4,
   "id": "1fba69ed-94cf-4e19-9829-6a730d4175d0",
   "metadata": {},
   "outputs": [
    {
     "name": "stdout",
     "output_type": "stream",
     "text": [
      "\u001b[1m\n",
      "region 1 \n",
      "\n",
      "Number of duplicates: 0\n",
      "\u001b[0m\n",
      "<class 'pandas.core.frame.DataFrame'>\n",
      "RangeIndex: 100000 entries, 0 to 99999\n",
      "Data columns (total 5 columns):\n",
      " #   Column   Non-Null Count   Dtype  \n",
      "---  ------   --------------   -----  \n",
      " 0   id       100000 non-null  object \n",
      " 1   f0       100000 non-null  float64\n",
      " 2   f1       100000 non-null  float64\n",
      " 3   f2       100000 non-null  float64\n",
      " 4   product  100000 non-null  float64\n",
      "dtypes: float64(4), object(1)\n",
      "memory usage: 3.8+ MB\n"
     ]
    },
    {
     "data": {
      "text/plain": [
       "None"
      ]
     },
     "metadata": {},
     "output_type": "display_data"
    },
    {
     "name": "stdout",
     "output_type": "stream",
     "text": [
      "________________________________________\n",
      "\u001b[1m\n",
      "region 2 \n",
      "\n",
      "Number of duplicates: 0\n",
      "\u001b[0m\n",
      "<class 'pandas.core.frame.DataFrame'>\n",
      "RangeIndex: 100000 entries, 0 to 99999\n",
      "Data columns (total 5 columns):\n",
      " #   Column   Non-Null Count   Dtype  \n",
      "---  ------   --------------   -----  \n",
      " 0   id       100000 non-null  object \n",
      " 1   f0       100000 non-null  float64\n",
      " 2   f1       100000 non-null  float64\n",
      " 3   f2       100000 non-null  float64\n",
      " 4   product  100000 non-null  float64\n",
      "dtypes: float64(4), object(1)\n",
      "memory usage: 3.8+ MB\n"
     ]
    },
    {
     "data": {
      "text/plain": [
       "None"
      ]
     },
     "metadata": {},
     "output_type": "display_data"
    },
    {
     "name": "stdout",
     "output_type": "stream",
     "text": [
      "________________________________________\n",
      "\u001b[1m\n",
      "region 3 \n",
      "\n",
      "Number of duplicates: 0\n",
      "\u001b[0m\n",
      "<class 'pandas.core.frame.DataFrame'>\n",
      "RangeIndex: 100000 entries, 0 to 99999\n",
      "Data columns (total 5 columns):\n",
      " #   Column   Non-Null Count   Dtype  \n",
      "---  ------   --------------   -----  \n",
      " 0   id       100000 non-null  object \n",
      " 1   f0       100000 non-null  float64\n",
      " 2   f1       100000 non-null  float64\n",
      " 3   f2       100000 non-null  float64\n",
      " 4   product  100000 non-null  float64\n",
      "dtypes: float64(4), object(1)\n",
      "memory usage: 3.8+ MB\n"
     ]
    },
    {
     "data": {
      "text/plain": [
       "None"
      ]
     },
     "metadata": {},
     "output_type": "display_data"
    },
    {
     "name": "stdout",
     "output_type": "stream",
     "text": [
      "________________________________________\n"
     ]
    }
   ],
   "source": [
    "# Check for missing values, duplicates, and data-types\n",
    "for region in regions:\n",
    "    print('\\033[1m')\n",
    "    print(region, '\\n')\n",
    "    print(f\"Number of duplicates: {data[region].duplicated().sum()}\")\n",
    "    print('\\033[0m')\n",
    "    display(data[region].info())\n",
    "    print('_' * 40)"
   ]
  },
  {
   "cell_type": "markdown",
   "id": "e2952149-e214-416d-88b0-146ce3a87bab",
   "metadata": {},
   "source": [
    "All three of the datasets have no missing or duplicate valuesl; the data types among them are also correct.\n",
    "\n",
    "**Descriptive Statsitcs:**"
   ]
  },
  {
   "cell_type": "code",
   "execution_count": 5,
   "id": "c1568482-ddbd-4789-83a4-62b14bbce18f",
   "metadata": {},
   "outputs": [
    {
     "name": "stdout",
     "output_type": "stream",
     "text": [
      "\u001b[1m\n",
      "region 1 \n",
      "\n",
      "\u001b[0m\n"
     ]
    },
    {
     "data": {
      "text/html": [
       "<div>\n",
       "<style scoped>\n",
       "    .dataframe tbody tr th:only-of-type {\n",
       "        vertical-align: middle;\n",
       "    }\n",
       "\n",
       "    .dataframe tbody tr th {\n",
       "        vertical-align: top;\n",
       "    }\n",
       "\n",
       "    .dataframe thead th {\n",
       "        text-align: right;\n",
       "    }\n",
       "</style>\n",
       "<table border=\"1\" class=\"dataframe\">\n",
       "  <thead>\n",
       "    <tr style=\"text-align: right;\">\n",
       "      <th></th>\n",
       "      <th>f0</th>\n",
       "      <th>f1</th>\n",
       "      <th>f2</th>\n",
       "      <th>product</th>\n",
       "    </tr>\n",
       "  </thead>\n",
       "  <tbody>\n",
       "    <tr>\n",
       "      <th>count</th>\n",
       "      <td>100000.000000</td>\n",
       "      <td>100000.000000</td>\n",
       "      <td>100000.000000</td>\n",
       "      <td>100000.000000</td>\n",
       "    </tr>\n",
       "    <tr>\n",
       "      <th>mean</th>\n",
       "      <td>0.500419</td>\n",
       "      <td>0.250143</td>\n",
       "      <td>2.502647</td>\n",
       "      <td>92.500000</td>\n",
       "    </tr>\n",
       "    <tr>\n",
       "      <th>std</th>\n",
       "      <td>0.871832</td>\n",
       "      <td>0.504433</td>\n",
       "      <td>3.248248</td>\n",
       "      <td>44.288691</td>\n",
       "    </tr>\n",
       "    <tr>\n",
       "      <th>min</th>\n",
       "      <td>-1.408605</td>\n",
       "      <td>-0.848218</td>\n",
       "      <td>-12.088328</td>\n",
       "      <td>0.000000</td>\n",
       "    </tr>\n",
       "    <tr>\n",
       "      <th>25%</th>\n",
       "      <td>-0.072580</td>\n",
       "      <td>-0.200881</td>\n",
       "      <td>0.287748</td>\n",
       "      <td>56.497507</td>\n",
       "    </tr>\n",
       "    <tr>\n",
       "      <th>50%</th>\n",
       "      <td>0.502360</td>\n",
       "      <td>0.250252</td>\n",
       "      <td>2.515969</td>\n",
       "      <td>91.849972</td>\n",
       "    </tr>\n",
       "    <tr>\n",
       "      <th>75%</th>\n",
       "      <td>1.073581</td>\n",
       "      <td>0.700646</td>\n",
       "      <td>4.715088</td>\n",
       "      <td>128.564089</td>\n",
       "    </tr>\n",
       "    <tr>\n",
       "      <th>max</th>\n",
       "      <td>2.362331</td>\n",
       "      <td>1.343769</td>\n",
       "      <td>16.003790</td>\n",
       "      <td>185.364347</td>\n",
       "    </tr>\n",
       "  </tbody>\n",
       "</table>\n",
       "</div>"
      ],
      "text/plain": [
       "                  f0             f1             f2        product\n",
       "count  100000.000000  100000.000000  100000.000000  100000.000000\n",
       "mean        0.500419       0.250143       2.502647      92.500000\n",
       "std         0.871832       0.504433       3.248248      44.288691\n",
       "min        -1.408605      -0.848218     -12.088328       0.000000\n",
       "25%        -0.072580      -0.200881       0.287748      56.497507\n",
       "50%         0.502360       0.250252       2.515969      91.849972\n",
       "75%         1.073581       0.700646       4.715088     128.564089\n",
       "max         2.362331       1.343769      16.003790     185.364347"
      ]
     },
     "metadata": {},
     "output_type": "display_data"
    },
    {
     "name": "stdout",
     "output_type": "stream",
     "text": [
      "___________________________________________________________________\n",
      "\u001b[1m\n",
      "region 2 \n",
      "\n",
      "\u001b[0m\n"
     ]
    },
    {
     "data": {
      "text/html": [
       "<div>\n",
       "<style scoped>\n",
       "    .dataframe tbody tr th:only-of-type {\n",
       "        vertical-align: middle;\n",
       "    }\n",
       "\n",
       "    .dataframe tbody tr th {\n",
       "        vertical-align: top;\n",
       "    }\n",
       "\n",
       "    .dataframe thead th {\n",
       "        text-align: right;\n",
       "    }\n",
       "</style>\n",
       "<table border=\"1\" class=\"dataframe\">\n",
       "  <thead>\n",
       "    <tr style=\"text-align: right;\">\n",
       "      <th></th>\n",
       "      <th>f0</th>\n",
       "      <th>f1</th>\n",
       "      <th>f2</th>\n",
       "      <th>product</th>\n",
       "    </tr>\n",
       "  </thead>\n",
       "  <tbody>\n",
       "    <tr>\n",
       "      <th>count</th>\n",
       "      <td>100000.000000</td>\n",
       "      <td>100000.000000</td>\n",
       "      <td>100000.000000</td>\n",
       "      <td>100000.000000</td>\n",
       "    </tr>\n",
       "    <tr>\n",
       "      <th>mean</th>\n",
       "      <td>1.141296</td>\n",
       "      <td>-4.796579</td>\n",
       "      <td>2.494541</td>\n",
       "      <td>68.825000</td>\n",
       "    </tr>\n",
       "    <tr>\n",
       "      <th>std</th>\n",
       "      <td>8.965932</td>\n",
       "      <td>5.119872</td>\n",
       "      <td>1.703572</td>\n",
       "      <td>45.944423</td>\n",
       "    </tr>\n",
       "    <tr>\n",
       "      <th>min</th>\n",
       "      <td>-31.609576</td>\n",
       "      <td>-26.358598</td>\n",
       "      <td>-0.018144</td>\n",
       "      <td>0.000000</td>\n",
       "    </tr>\n",
       "    <tr>\n",
       "      <th>25%</th>\n",
       "      <td>-6.298551</td>\n",
       "      <td>-8.267985</td>\n",
       "      <td>1.000021</td>\n",
       "      <td>26.953261</td>\n",
       "    </tr>\n",
       "    <tr>\n",
       "      <th>50%</th>\n",
       "      <td>1.153055</td>\n",
       "      <td>-4.813172</td>\n",
       "      <td>2.011479</td>\n",
       "      <td>57.085625</td>\n",
       "    </tr>\n",
       "    <tr>\n",
       "      <th>75%</th>\n",
       "      <td>8.621015</td>\n",
       "      <td>-1.332816</td>\n",
       "      <td>3.999904</td>\n",
       "      <td>107.813044</td>\n",
       "    </tr>\n",
       "    <tr>\n",
       "      <th>max</th>\n",
       "      <td>29.421755</td>\n",
       "      <td>18.734063</td>\n",
       "      <td>5.019721</td>\n",
       "      <td>137.945408</td>\n",
       "    </tr>\n",
       "  </tbody>\n",
       "</table>\n",
       "</div>"
      ],
      "text/plain": [
       "                  f0             f1             f2        product\n",
       "count  100000.000000  100000.000000  100000.000000  100000.000000\n",
       "mean        1.141296      -4.796579       2.494541      68.825000\n",
       "std         8.965932       5.119872       1.703572      45.944423\n",
       "min       -31.609576     -26.358598      -0.018144       0.000000\n",
       "25%        -6.298551      -8.267985       1.000021      26.953261\n",
       "50%         1.153055      -4.813172       2.011479      57.085625\n",
       "75%         8.621015      -1.332816       3.999904     107.813044\n",
       "max        29.421755      18.734063       5.019721     137.945408"
      ]
     },
     "metadata": {},
     "output_type": "display_data"
    },
    {
     "name": "stdout",
     "output_type": "stream",
     "text": [
      "___________________________________________________________________\n",
      "\u001b[1m\n",
      "region 3 \n",
      "\n",
      "\u001b[0m\n"
     ]
    },
    {
     "data": {
      "text/html": [
       "<div>\n",
       "<style scoped>\n",
       "    .dataframe tbody tr th:only-of-type {\n",
       "        vertical-align: middle;\n",
       "    }\n",
       "\n",
       "    .dataframe tbody tr th {\n",
       "        vertical-align: top;\n",
       "    }\n",
       "\n",
       "    .dataframe thead th {\n",
       "        text-align: right;\n",
       "    }\n",
       "</style>\n",
       "<table border=\"1\" class=\"dataframe\">\n",
       "  <thead>\n",
       "    <tr style=\"text-align: right;\">\n",
       "      <th></th>\n",
       "      <th>f0</th>\n",
       "      <th>f1</th>\n",
       "      <th>f2</th>\n",
       "      <th>product</th>\n",
       "    </tr>\n",
       "  </thead>\n",
       "  <tbody>\n",
       "    <tr>\n",
       "      <th>count</th>\n",
       "      <td>100000.000000</td>\n",
       "      <td>100000.000000</td>\n",
       "      <td>100000.000000</td>\n",
       "      <td>100000.000000</td>\n",
       "    </tr>\n",
       "    <tr>\n",
       "      <th>mean</th>\n",
       "      <td>0.002023</td>\n",
       "      <td>-0.002081</td>\n",
       "      <td>2.495128</td>\n",
       "      <td>95.000000</td>\n",
       "    </tr>\n",
       "    <tr>\n",
       "      <th>std</th>\n",
       "      <td>1.732045</td>\n",
       "      <td>1.730417</td>\n",
       "      <td>3.473445</td>\n",
       "      <td>44.749921</td>\n",
       "    </tr>\n",
       "    <tr>\n",
       "      <th>min</th>\n",
       "      <td>-8.760004</td>\n",
       "      <td>-7.084020</td>\n",
       "      <td>-11.970335</td>\n",
       "      <td>0.000000</td>\n",
       "    </tr>\n",
       "    <tr>\n",
       "      <th>25%</th>\n",
       "      <td>-1.162288</td>\n",
       "      <td>-1.174820</td>\n",
       "      <td>0.130359</td>\n",
       "      <td>59.450441</td>\n",
       "    </tr>\n",
       "    <tr>\n",
       "      <th>50%</th>\n",
       "      <td>0.009424</td>\n",
       "      <td>-0.009482</td>\n",
       "      <td>2.484236</td>\n",
       "      <td>94.925613</td>\n",
       "    </tr>\n",
       "    <tr>\n",
       "      <th>75%</th>\n",
       "      <td>1.158535</td>\n",
       "      <td>1.163678</td>\n",
       "      <td>4.858794</td>\n",
       "      <td>130.595027</td>\n",
       "    </tr>\n",
       "    <tr>\n",
       "      <th>max</th>\n",
       "      <td>7.238262</td>\n",
       "      <td>7.844801</td>\n",
       "      <td>16.739402</td>\n",
       "      <td>190.029838</td>\n",
       "    </tr>\n",
       "  </tbody>\n",
       "</table>\n",
       "</div>"
      ],
      "text/plain": [
       "                  f0             f1             f2        product\n",
       "count  100000.000000  100000.000000  100000.000000  100000.000000\n",
       "mean        0.002023      -0.002081       2.495128      95.000000\n",
       "std         1.732045       1.730417       3.473445      44.749921\n",
       "min        -8.760004      -7.084020     -11.970335       0.000000\n",
       "25%        -1.162288      -1.174820       0.130359      59.450441\n",
       "50%         0.009424      -0.009482       2.484236      94.925613\n",
       "75%         1.158535       1.163678       4.858794     130.595027\n",
       "max         7.238262       7.844801      16.739402     190.029838"
      ]
     },
     "metadata": {},
     "output_type": "display_data"
    },
    {
     "name": "stdout",
     "output_type": "stream",
     "text": [
      "___________________________________________________________________\n"
     ]
    }
   ],
   "source": [
    "# Observe the descriptive statistics for each region\n",
    "for region in regions:\n",
    "    print('\\033[1m')\n",
    "    print(region, '\\n')\n",
    "    print('\\033[0m')\n",
    "    display(data[region].describe())\n",
    "    print('_' * 67)"
   ]
  },
  {
   "cell_type": "markdown",
   "id": "966e563d-95de-4e64-b9f3-6ccef7ef0904",
   "metadata": {},
   "source": [
    "**_Region 1_**\n",
    "\n",
    "The means are relatively close together with `f2` being much higher by comparison to `f0` and `f1`; The standard deviation is also higher in `f2` indiciating greater variability; as well as there appears to be a sharp increase in the value of `f2` as we reach the top 75-100% percentiles. This would indicate that this features distribution my contain some significant outliers - or a skewed distribution. \n",
    "\n",
    "**_Region 2_**\n",
    "\n",
    "The means are further dispersed from eachother, but not widely, with `f2` having the highest mean with the lowest standard deviation - indicating more consistency in tis values; the extreme values are again rapidly increasing in the top 25% percentile for both `f0` and `f1` - highly exaggerated in `f1`. Difficult to come to a conclusion on what this means exactly as the specifics of these fields were not provided. It could mean these predictors are more volatile. \n",
    "\n",
    "**_Region 3_**\n",
    "\n",
    "Region 3 sees the highest product mean and greatest maximum product of the three regions, not too much more than region 1; `f2` mean is greater than the others with a larger standard deviation. The extreme values increase in the top 25% percentile for each feature, `f2` being greather than the others. \n",
    "\n",
    "**_Overall Notes:_**\n",
    "\n",
    "I predict that standard deviation and the mean of the features will play crucial roles in predicting their effectiveness as predictors in the model. `f2` appears to be a particularly strong predictor across all regions, given its higher mean and variability, which may capture more of the underlying patterns when developing models - greater variance could also mean noise.\n",
    "\n",
    "[Back to Contents](#contents)"
   ]
  },
  {
   "cell_type": "markdown",
   "id": "68bd61bd-4eba-4f16-ae2e-40b8d3014a2c",
   "metadata": {},
   "source": [
    "# 3. Exploratory Data Analysis (EDA) #\n",
    "<a id='eda'></a>\n",
    "_________________________________________________________________________________________________________________________________________________________"
   ]
  },
  {
   "cell_type": "code",
   "execution_count": 6,
   "id": "02ca1adf-ba01-497d-a7c7-697f22eaefb3",
   "metadata": {},
   "outputs": [
    {
     "name": "stdout",
     "output_type": "stream",
     "text": [
      "region 1: 99990\n",
      "region 2: 99996\n",
      "region 3: 99996\n"
     ]
    }
   ],
   "source": [
    "# Confirm unique wells\n",
    "for region in regions:\n",
    "    count = 0\n",
    "    count = len(data[region]['id'].unique())\n",
    "    print(f\"{region}:\", count)"
   ]
  },
  {
   "cell_type": "code",
   "execution_count": 7,
   "id": "7b85bb7d-509e-4952-a188-5d817f71ddd8",
   "metadata": {},
   "outputs": [
    {
     "name": "stdout",
     "output_type": "stream",
     "text": [
      "\u001b[1mregion 1\u001b[0m\n",
      "\n"
     ]
    },
    {
     "data": {
      "text/html": [
       "<div>\n",
       "<style scoped>\n",
       "    .dataframe tbody tr th:only-of-type {\n",
       "        vertical-align: middle;\n",
       "    }\n",
       "\n",
       "    .dataframe tbody tr th {\n",
       "        vertical-align: top;\n",
       "    }\n",
       "\n",
       "    .dataframe thead th {\n",
       "        text-align: right;\n",
       "    }\n",
       "</style>\n",
       "<table border=\"1\" class=\"dataframe\">\n",
       "  <thead>\n",
       "    <tr style=\"text-align: right;\">\n",
       "      <th></th>\n",
       "      <th>id</th>\n",
       "      <th>f0</th>\n",
       "      <th>f1</th>\n",
       "      <th>f2</th>\n",
       "      <th>product</th>\n",
       "    </tr>\n",
       "  </thead>\n",
       "  <tbody>\n",
       "    <tr>\n",
       "      <th>66136</th>\n",
       "      <td>74z30</td>\n",
       "      <td>1.084962</td>\n",
       "      <td>-0.312358</td>\n",
       "      <td>6.990771</td>\n",
       "      <td>127.643327</td>\n",
       "    </tr>\n",
       "    <tr>\n",
       "      <th>64022</th>\n",
       "      <td>74z30</td>\n",
       "      <td>0.741456</td>\n",
       "      <td>0.459229</td>\n",
       "      <td>5.153109</td>\n",
       "      <td>140.771492</td>\n",
       "    </tr>\n",
       "    <tr>\n",
       "      <th>51970</th>\n",
       "      <td>A5aEY</td>\n",
       "      <td>-0.180335</td>\n",
       "      <td>0.935548</td>\n",
       "      <td>-2.094773</td>\n",
       "      <td>33.020205</td>\n",
       "    </tr>\n",
       "    <tr>\n",
       "      <th>3389</th>\n",
       "      <td>A5aEY</td>\n",
       "      <td>-0.039949</td>\n",
       "      <td>0.156872</td>\n",
       "      <td>0.209861</td>\n",
       "      <td>89.249364</td>\n",
       "    </tr>\n",
       "    <tr>\n",
       "      <th>69163</th>\n",
       "      <td>AGS9W</td>\n",
       "      <td>-0.933795</td>\n",
       "      <td>0.116194</td>\n",
       "      <td>-3.655896</td>\n",
       "      <td>19.230453</td>\n",
       "    </tr>\n",
       "    <tr>\n",
       "      <th>42529</th>\n",
       "      <td>AGS9W</td>\n",
       "      <td>1.454747</td>\n",
       "      <td>-0.479651</td>\n",
       "      <td>0.683380</td>\n",
       "      <td>126.370504</td>\n",
       "    </tr>\n",
       "  </tbody>\n",
       "</table>\n",
       "</div>"
      ],
      "text/plain": [
       "          id        f0        f1        f2     product\n",
       "66136  74z30  1.084962 -0.312358  6.990771  127.643327\n",
       "64022  74z30  0.741456  0.459229  5.153109  140.771492\n",
       "51970  A5aEY -0.180335  0.935548 -2.094773   33.020205\n",
       "3389   A5aEY -0.039949  0.156872  0.209861   89.249364\n",
       "69163  AGS9W -0.933795  0.116194 -3.655896   19.230453\n",
       "42529  AGS9W  1.454747 -0.479651  0.683380  126.370504"
      ]
     },
     "metadata": {},
     "output_type": "display_data"
    },
    {
     "name": "stdout",
     "output_type": "stream",
     "text": [
      "________________________________________________________ \n",
      "\n",
      "\u001b[1mregion 2\u001b[0m\n",
      "\n"
     ]
    },
    {
     "data": {
      "text/html": [
       "<div>\n",
       "<style scoped>\n",
       "    .dataframe tbody tr th:only-of-type {\n",
       "        vertical-align: middle;\n",
       "    }\n",
       "\n",
       "    .dataframe tbody tr th {\n",
       "        vertical-align: top;\n",
       "    }\n",
       "\n",
       "    .dataframe thead th {\n",
       "        text-align: right;\n",
       "    }\n",
       "</style>\n",
       "<table border=\"1\" class=\"dataframe\">\n",
       "  <thead>\n",
       "    <tr style=\"text-align: right;\">\n",
       "      <th></th>\n",
       "      <th>id</th>\n",
       "      <th>f0</th>\n",
       "      <th>f1</th>\n",
       "      <th>f2</th>\n",
       "      <th>product</th>\n",
       "    </tr>\n",
       "  </thead>\n",
       "  <tbody>\n",
       "    <tr>\n",
       "      <th>5849</th>\n",
       "      <td>5ltQ6</td>\n",
       "      <td>-3.435401</td>\n",
       "      <td>-12.296043</td>\n",
       "      <td>1.999796</td>\n",
       "      <td>57.085625</td>\n",
       "    </tr>\n",
       "    <tr>\n",
       "      <th>84461</th>\n",
       "      <td>5ltQ6</td>\n",
       "      <td>18.213839</td>\n",
       "      <td>2.191999</td>\n",
       "      <td>3.993869</td>\n",
       "      <td>107.813044</td>\n",
       "    </tr>\n",
       "    <tr>\n",
       "      <th>1305</th>\n",
       "      <td>LHZR0</td>\n",
       "      <td>11.170835</td>\n",
       "      <td>-1.945066</td>\n",
       "      <td>3.002872</td>\n",
       "      <td>80.859783</td>\n",
       "    </tr>\n",
       "    <tr>\n",
       "      <th>41906</th>\n",
       "      <td>LHZR0</td>\n",
       "      <td>-8.989672</td>\n",
       "      <td>-4.286607</td>\n",
       "      <td>2.009139</td>\n",
       "      <td>57.085625</td>\n",
       "    </tr>\n",
       "    <tr>\n",
       "      <th>2721</th>\n",
       "      <td>bfPNe</td>\n",
       "      <td>-9.494442</td>\n",
       "      <td>-5.463692</td>\n",
       "      <td>4.006042</td>\n",
       "      <td>110.992147</td>\n",
       "    </tr>\n",
       "    <tr>\n",
       "      <th>82178</th>\n",
       "      <td>bfPNe</td>\n",
       "      <td>-6.202799</td>\n",
       "      <td>-4.820045</td>\n",
       "      <td>2.995107</td>\n",
       "      <td>84.038886</td>\n",
       "    </tr>\n",
       "  </tbody>\n",
       "</table>\n",
       "</div>"
      ],
      "text/plain": [
       "          id         f0         f1        f2     product\n",
       "5849   5ltQ6  -3.435401 -12.296043  1.999796   57.085625\n",
       "84461  5ltQ6  18.213839   2.191999  3.993869  107.813044\n",
       "1305   LHZR0  11.170835  -1.945066  3.002872   80.859783\n",
       "41906  LHZR0  -8.989672  -4.286607  2.009139   57.085625\n",
       "2721   bfPNe  -9.494442  -5.463692  4.006042  110.992147\n",
       "82178  bfPNe  -6.202799  -4.820045  2.995107   84.038886"
      ]
     },
     "metadata": {},
     "output_type": "display_data"
    },
    {
     "name": "stdout",
     "output_type": "stream",
     "text": [
      "________________________________________________________ \n",
      "\n",
      "\u001b[1mregion 3\u001b[0m\n",
      "\n"
     ]
    },
    {
     "data": {
      "text/html": [
       "<div>\n",
       "<style scoped>\n",
       "    .dataframe tbody tr th:only-of-type {\n",
       "        vertical-align: middle;\n",
       "    }\n",
       "\n",
       "    .dataframe tbody tr th {\n",
       "        vertical-align: top;\n",
       "    }\n",
       "\n",
       "    .dataframe thead th {\n",
       "        text-align: right;\n",
       "    }\n",
       "</style>\n",
       "<table border=\"1\" class=\"dataframe\">\n",
       "  <thead>\n",
       "    <tr style=\"text-align: right;\">\n",
       "      <th></th>\n",
       "      <th>id</th>\n",
       "      <th>f0</th>\n",
       "      <th>f1</th>\n",
       "      <th>f2</th>\n",
       "      <th>product</th>\n",
       "    </tr>\n",
       "  </thead>\n",
       "  <tbody>\n",
       "    <tr>\n",
       "      <th>45404</th>\n",
       "      <td>KUPhW</td>\n",
       "      <td>0.231846</td>\n",
       "      <td>-1.698941</td>\n",
       "      <td>4.990775</td>\n",
       "      <td>11.716299</td>\n",
       "    </tr>\n",
       "    <tr>\n",
       "      <th>55967</th>\n",
       "      <td>KUPhW</td>\n",
       "      <td>1.211150</td>\n",
       "      <td>3.176408</td>\n",
       "      <td>5.543540</td>\n",
       "      <td>132.831802</td>\n",
       "    </tr>\n",
       "    <tr>\n",
       "      <th>11449</th>\n",
       "      <td>VF7Jo</td>\n",
       "      <td>2.122656</td>\n",
       "      <td>-0.858275</td>\n",
       "      <td>5.746001</td>\n",
       "      <td>181.716817</td>\n",
       "    </tr>\n",
       "    <tr>\n",
       "      <th>49564</th>\n",
       "      <td>VF7Jo</td>\n",
       "      <td>-0.883115</td>\n",
       "      <td>0.560537</td>\n",
       "      <td>0.723601</td>\n",
       "      <td>136.233420</td>\n",
       "    </tr>\n",
       "    <tr>\n",
       "      <th>44378</th>\n",
       "      <td>Vcm5J</td>\n",
       "      <td>-1.229484</td>\n",
       "      <td>-2.439204</td>\n",
       "      <td>1.222909</td>\n",
       "      <td>137.968290</td>\n",
       "    </tr>\n",
       "    <tr>\n",
       "      <th>95090</th>\n",
       "      <td>Vcm5J</td>\n",
       "      <td>2.587702</td>\n",
       "      <td>1.986875</td>\n",
       "      <td>2.482245</td>\n",
       "      <td>92.327572</td>\n",
       "    </tr>\n",
       "  </tbody>\n",
       "</table>\n",
       "</div>"
      ],
      "text/plain": [
       "          id        f0        f1        f2     product\n",
       "45404  KUPhW  0.231846 -1.698941  4.990775   11.716299\n",
       "55967  KUPhW  1.211150  3.176408  5.543540  132.831802\n",
       "11449  VF7Jo  2.122656 -0.858275  5.746001  181.716817\n",
       "49564  VF7Jo -0.883115  0.560537  0.723601  136.233420\n",
       "44378  Vcm5J -1.229484 -2.439204  1.222909  137.968290\n",
       "95090  Vcm5J  2.587702  1.986875  2.482245   92.327572"
      ]
     },
     "metadata": {},
     "output_type": "display_data"
    },
    {
     "name": "stdout",
     "output_type": "stream",
     "text": [
      "________________________________________________________ \n",
      "\n"
     ]
    }
   ],
   "source": [
    "for region in regions:\n",
    "    duplicated_ids = data[region][data[region]['id'].duplicated(keep=False)].sort_values(by = 'id')\n",
    "    print('\\033[1m' + region + '\\033[0m' + '\\n')\n",
    "    display(duplicated_ids.head(6))\n",
    "    print('_' * 56, '\\n')"
   ]
  },
  {
   "cell_type": "markdown",
   "id": "552e8a82-2f25-410e-b9e1-cf7b7ba29aa8",
   "metadata": {},
   "source": [
    "I'm curious as to why certain wells would be tested more than once, and in most cases the results are similar, in others they are quite different: well `AGS9W` in `region 1` is an example. We do not have any context over these data points, or were given the information that each well should be unique. It's possible these tests on these wells were done under different conditions (time of day/ equipment used). Without proper context, it's difficult to decide whether each well data point should be unique. Essentially, we could leave these points as they are, or average them together. \n",
    "\n",
    "As stated earlier, the model will not be observing the ids of the wells, as this information does not help with its predictions, this is useful in the context of this problem. Leaving the data points in allows us to maintain all the data, the variation may be meaningful information with a risk of leaving in some noise. Since there are so few duplicated wells - I am not concerned with noise being an issue, but important to recognize. Averaging the data points allows some consistency across the features and reduces the noise, but we would lose that informative variability even if the model isn't learning the ids. \n",
    "\n",
    "**Therefore, I will decide to leave the data points as they are, no action is necessary to take.** "
   ]
  },
  {
   "cell_type": "markdown",
   "id": "ca01dc19-5833-4867-9e31-bfad82d14e90",
   "metadata": {},
   "source": [
    "## 3.1 Distrubtion of the Features Data ##\n",
    "<a id='feat_dist'></a>"
   ]
  },
  {
   "cell_type": "code",
   "execution_count": 8,
   "id": "e62cf9aa-d7ee-4906-84e1-46f61c3b4fd3",
   "metadata": {},
   "outputs": [
    {
     "data": {
      "image/png": "[encoded data removed]",
      "text/plain": [
       "<Figure size 1200x400 with 3 Axes>"
      ]
     },
     "metadata": {},
     "output_type": "display_data"
    },
    {
     "data": {
      "image/png": "[encoded data removed]",
      "text/plain": [
       "<Figure size 1200x400 with 3 Axes>"
      ]
     },
     "metadata": {},
     "output_type": "display_data"
    },
    {
     "data": {
      "image/png": "[encoded data removed]",
      "text/plain": [
       "<Figure size 1200x400 with 3 Axes>"
      ]
     },
     "metadata": {},
     "output_type": "display_data"
    }
   ],
   "source": [
    "# Plot histograms of the features \n",
    "features = ['f0', 'f1', 'f2']\n",
    "\n",
    "for region in regions:\n",
    "    sns.set_style('darkgrid')\n",
    "    fig, axs = plt.subplots(nrows = 1, ncols = 3, figsize = (12,4))\n",
    "    axs = axs.flatten()\n",
    "    plt.suptitle(f\"Histogram Distribution of Features Data in {region.title()}\",\n",
    "                  fontsize = 17, fontweight = 'bold')\n",
    "\n",
    "    for i, (feature) in enumerate(features):\n",
    "        sns.histplot(x = data[region][feature], ax=axs[i])\n",
    "        axs[i].set_title(feature, fontsize = 15, fontweight = 'bold')\n",
    "        axs[i].set_xlabel(feature, fontweight = 'bold')\n",
    "        axs[i].set_ylabel('Number of Oil Wells', fontweight = 'bold')\n",
    "\n",
    "    plt.tight_layout()\n",
    "    plt.show()"
   ]
  },
  {
   "cell_type": "markdown",
   "id": "062afc29-f88a-4dce-8681-0fd75647cd74",
   "metadata": {},
   "source": [
    "Five of the features have normal distrubtions, the other 4 have more unique distributions. The unique distributions could indicate different subpopulations or non-linear relationships - this remphasizes again that we do not have context to these features. It's also interesting to note the symmetry present in each distribution, versus skewness. \n",
    "\n",
    "No action needs to be taken in regards to the non-normal distributions, but we will apply scaling when developing our model. "
   ]
  },
  {
   "cell_type": "code",
   "execution_count": 9,
   "id": "ef3ee0c3-1bb6-4688-8fb8-0a144436f97f",
   "metadata": {
    "scrolled": true
   },
   "outputs": [
    {
     "data": {
      "image/png": "[encoded data removed]",
      "text/plain": [
       "<Figure size 1500x500 with 3 Axes>"
      ]
     },
     "metadata": {},
     "output_type": "display_data"
    },
    {
     "data": {
      "image/png": "[encoded data removed]",
      "text/plain": [
       "<Figure size 1500x500 with 3 Axes>"
      ]
     },
     "metadata": {},
     "output_type": "display_data"
    },
    {
     "data": {
      "image/png": "[encoded data removed]",
      "text/plain": [
       "<Figure size 1500x500 with 3 Axes>"
      ]
     },
     "metadata": {},
     "output_type": "display_data"
    }
   ],
   "source": [
    "for region in regions:\n",
    "    sns.set_style('darkgrid')\n",
    "    fig, axs = plt.subplots(nrows = 1, ncols = 3, figsize = (15, 5))\n",
    "    axs = axs.flatten()\n",
    "    plt.suptitle(f\"Boxplot Distribution of Features Data in {region.title()}\",\n",
    "                 fontsize = 17, fontweight = 'bold')\n",
    "\n",
    "    for i, feature in enumerate(features):\n",
    "        sns.boxplot(data = data[region], x = data[region][feature], ax = axs[i])\n",
    "        axs[i].set_title(feature, fontsize = 14, fontweight = 'bold')\n",
    "        axs[i].set_xlabel('')\n",
    "\n",
    "    plt.tight_layout()\n",
    "    plt.show()"
   ]
  },
  {
   "cell_type": "markdown",
   "id": "dc5f7aaa-17e1-4382-8b03-4dae31fb82da",
   "metadata": {},
   "source": [
    "**_Commentary on Outliers_**\n",
    "\n",
    "The observed outliers are noteworthy but do not warrant further investigation at this stage. There are no indications that these outliers result from data errors; rather, they seem to be natural variations in the data. This can be expected when collecting data from oil wells. Additionally, the unique distribution types observed in the histograms might be influenced by the presence of subpopulations within the data. This could explain why the boxplots identify certain values as outliers. \n",
    "\n",
    "It's also intereting to note that each feature in `Region 3` has a significant amount of outliers. These outliers appear across features that exhibited normal distributions. This further supports the idea that the outliers are more likely due to natural variances rather than the presence of subpopulations. \n",
    "\n",
    "**_Shapes of Plots_**\n",
    "\n",
    "The histogram for Region 2 `f2` appeared uniform, whereas the box plot is showing skewness. Whereas the rest of the boxplots show symmetry; we also get to observe the sharpness of the increase in `f2`: on a scale from 0 to 5, the top half of the data covers 2-5. Compared to the other distributions, this is by far the sharpest. \n",
    "\n",
    "[Back to Contents](#contents)"
   ]
  },
  {
   "cell_type": "markdown",
   "id": "227711e8-1568-462c-88f5-337925618194",
   "metadata": {},
   "source": [
    "## 3.2 Distributions of the Target Data ##\n",
    "<a id='targ_dist'></a>"
   ]
  },
  {
   "cell_type": "code",
   "execution_count": 10,
   "id": "8a590b2c-0130-495d-befc-71fab28eecee",
   "metadata": {},
   "outputs": [
    {
     "data": {
      "image/png": "[encoded data removed]",
      "text/plain": [
       "<Figure size 1300x400 with 3 Axes>"
      ]
     },
     "metadata": {},
     "output_type": "display_data"
    }
   ],
   "source": [
    "# Plot histograms to show the distribution of volumes\n",
    "sns.set_style('darkgrid')\n",
    "fig, axs = plt.subplots(nrows = 1, ncols = 3, sharey = True, figsize = (13,4))\n",
    "axs = axs.flatten()\n",
    "\n",
    "plt.suptitle(\"Distribution of the Target Data\", fontsize = 17, fontweight = 'bold')\n",
    "\n",
    "for i, region in enumerate(regions):\n",
    "    sns.histplot(x = data[region]['product'], bins = 25, ax = axs[i])\n",
    "    axs[i].set_title(f\"{region.title()}\", fontsize = 14, fontweight = 'bold')\n",
    "    axs[i].set_ylabel(\"Number of Wells\", fontsize = 12, fontweight = 'bold')\n",
    "    if i == 1:\n",
    "        axs[i].set_xlabel('Volume of Reserves (Thousand Barrels)', fontsize = 12, fontweight = 'bold')\n",
    "    else:\n",
    "        axs[i].set_xlabel('')\n",
    "    \n",
    "plt.tight_layout()\n",
    "plt.show()"
   ]
  },
  {
   "cell_type": "code",
   "execution_count": 11,
   "id": "6613b409-4275-4a89-b31b-b414d26360dc",
   "metadata": {},
   "outputs": [
    {
     "name": "stdout",
     "output_type": "stream",
     "text": [
      "Region 1 Mean Volume: 92.50 thousand barrels\n",
      "Region 2 Mean Volume: 68.83 thousand barrels\n",
      "Region 3 Mean Volume: 95.00 thousand barrels\n"
     ]
    }
   ],
   "source": [
    "# Display the means\n",
    "for region in regions:\n",
    "    print(f\"{region.title()} Mean Volume: {data[region]['product'].mean():.2f} thousand barrels\")"
   ]
  },
  {
   "cell_type": "markdown",
   "id": "8250ce85-e81b-4f99-9ede-2eaa8eb629c4",
   "metadata": {},
   "source": [
    "The mean volumes of reserves in `region 1` and `region 3` are significantly greater than that of `region 2`. OilyGiant plans to choose on of the three regions and select 200 oil wells (via a study of 500 points) which have the highest possible volumes of reserves. If those oil wells are chosen randomly, `region 1` and `region 3` have the best chance to select the wells with higher volumnes. \n",
    "\n",
    "However, `region 2` does contain more than 16,000 oil wells that have very high volumes of reserves (about 140 thousand). Making volume predictions via machine learning will yield a higher chance to select these oil wells. Therefore, `region 2` is also a potential candidate to give a high profit.\n",
    "\n",
    "[Back to Contents](#contents)"
   ]
  },
  {
   "cell_type": "markdown",
   "id": "12ea0b50-4dcc-4137-a297-9ef799cf9e1e",
   "metadata": {},
   "source": [
    "## 3.3 Correlation Analysis ##\n",
    "<a id='corr'></a>"
   ]
  },
  {
   "cell_type": "code",
   "execution_count": 12,
   "id": "5f5ff075-01e0-4ada-b1e4-2a9e0757c6ff",
   "metadata": {},
   "outputs": [
    {
     "data": {
      "image/png": "[encoded data removed]",
      "text/plain": [
       "<Figure size 1500x500 with 3 Axes>"
      ]
     },
     "metadata": {},
     "output_type": "display_data"
    }
   ],
   "source": [
    "# Show the correlation matrix of each region\n",
    "sns.set_style('darkgrid')\n",
    "fig, axs = plt.subplots(nrows = 1, ncols = 3, figsize = (15, 5))\n",
    "axs = axs.flatten()\n",
    "\n",
    "plt.suptitle(\"Correlation Matrix Per Region\\n\", fontsize = 17, fontweight = 'bold')\n",
    "\n",
    "for i, region in enumerate(regions):\n",
    "    sns.heatmap(data = data[region].drop(columns = 'id').corr(), \n",
    "                vmin = -1, vmax = 1, cmap = 'coolwarm', annot = True,\n",
    "                linecolor = 'black', linewidths = 0.5, cbar = False,\n",
    "                square = True, fmt = '.2f', ax = axs[i])\n",
    "    axs[i].set_title(region.title(), fontsize = 14, fontweight = 'bold')\n",
    "\n",
    "plt.tight_layout()\n",
    "plt.show()"
   ]
  },
  {
   "cell_type": "markdown",
   "id": "d83e521a-4406-4d0b-a81e-674ebf9af562",
   "metadata": {},
   "source": [
    "We're mostly interested in the correlation between the features and the product, this data is contained in the row labeled `product`. As we can see in all regions, we have negligable correlation between the `f0` and `f1` features and `product`. In contrast, the correlation between `f2` and `product` is quite strong in all regions. In addition to this, `f0` and `f1` appear to have no impact on predicting `product` in `region 3`. \n",
    "\n",
    "[Back to Contents](#contents)"
   ]
  },
  {
   "cell_type": "markdown",
   "id": "197685a6-8023-4dbd-9dd7-fd42c672f585",
   "metadata": {},
   "source": [
    "# 4. Model Development #\n",
    "<a id='models'></a>\n",
    "_________________________________________________________________________________________________________________________________________________________\n",
    "\n",
    "The functions used below will help automate the tasks in this section. "
   ]
  },
  {
   "cell_type": "code",
   "execution_count": 13,
   "id": "ca7b85ff-9a67-4bf2-9397-57a37006add3",
   "metadata": {},
   "outputs": [],
   "source": [
    "def model_train_pred_score(dataset):\n",
    "    '''\n",
    "    This function will split the dataset into train and validation sets;\n",
    "    create and train a baseline model and a linear regression model;\n",
    "    creates the predictions;\n",
    "    provides metrics in the form of rmse and r2.\n",
    "\n",
    "    It will then return the models and their metrics as well as the \n",
    "    predicted and actual volumes of oil. \n",
    "    '''\n",
    "\n",
    "    # Separate the dataset into train and validation sets\n",
    "    feat = dataset[['f0', 'f1', 'f2']] #pseudo drops id\n",
    "    targ = dataset['product']\n",
    "\n",
    "    feat_train, feat_val, targ_train, targ_val = train_test_split(\n",
    "        feat, targ, test_size = 0.25, random_state = 12345)\n",
    "\n",
    "    # Gather original indices for combined df below\n",
    "    val_indices = feat_val.index\n",
    "\n",
    "    # Scale the features\n",
    "    scaler = StandardScaler()\n",
    "    feat_train = scaler.fit_transform(feat_train)\n",
    "    feat_val = scaler.transform(feat_val)\n",
    "\n",
    "    # Initiate, train, and predict with baseline\n",
    "    # We will use mean for the dummy model; we could also play with quantile\n",
    "    dumb_model = DummyRegressor()\n",
    "    dumb_model.fit(feat_train, targ_train)\n",
    "    dumb_pred = dumb_model.predict(feat_val)\n",
    "    dumb_rmse = root_mean_squared_error(targ_val, dumb_pred)\n",
    "    dumb_r2 = r2_score(targ_val, dumb_pred)\n",
    "\n",
    "    # Initiate, train, and predict with LR\n",
    "    model = LinearRegression(n_jobs = -1)\n",
    "    model.fit(feat_train, targ_train)\n",
    "    targ_pred = model.predict(feat_val)\n",
    "    rmse = root_mean_squared_error(targ_val, targ_pred)\n",
    "    r2 = r2_score(targ_val, targ_pred)\n",
    "\n",
    "    # Build dictoinary of all results\n",
    "    results = {}\n",
    "    results['baseline_rmse'] = dumb_rmse\n",
    "    results['rmse'] = rmse\n",
    "    results['baseline_r2'] = dumb_r2\n",
    "    results['r2'] = r2\n",
    "    results['predicted_avg_volume'] = np.mean(targ_pred)\n",
    "    results['actual_avg_volume'] = np.mean(targ_val)\n",
    "\n",
    "    # Create a DF to return the oil well id\n",
    "    data_w_id = pd.DataFrame({\n",
    "        'id': dataset['id'].loc[val_indices],\n",
    "        'actual_volume': targ_val.values,\n",
    "        'predicted_volume': targ_pred\n",
    "    })\n",
    "    \n",
    "    return model, results, data_w_id"
   ]
  },
  {
   "cell_type": "code",
   "execution_count": 14,
   "id": "c5df4478-830e-41de-9bb0-1b8fd8308bb3",
   "metadata": {},
   "outputs": [],
   "source": [
    "def display_equation(model, features, region):\n",
    "    '''\n",
    "    This function will display the equation of a Linear Regression model.\n",
    "\n",
    "    Parameters:\n",
    "        model (LinearRegression)   - The trained linear regression model\n",
    "        features (list)            - List of of the feature\n",
    "        region (string)            - The region for proper labelling\n",
    "    '''\n",
    "    # Extract the coefficients\n",
    "    coeff = model.coef_\n",
    "    intercept = model.intercept_\n",
    "\n",
    "    # Build the string\n",
    "    equation = f\"{region.title()} Predicted Volume = {intercept:.4f}\"\n",
    "\n",
    "    # Add features with coefficients\n",
    "    for feature, coef in zip(features, coeff):\n",
    "        equation += f\" + ({coef:.4f} * {feature})\"\n",
    "\n",
    "    return print(equation)"
   ]
  },
  {
   "cell_type": "markdown",
   "id": "900aa66f-0df5-4860-8f0f-d97be834eb5b",
   "metadata": {},
   "source": [
    "Per our criteria from OilyGiant, we are to train a linear regression model to predict the volume reserves for each region. The model's performance will be based on the `root mean squared error` and the `r2 score`. A baseline model that always predicts the mean will also be trained for the sanity check. \n",
    "\n",
    "[Back to Contents](#contents)"
   ]
  },
  {
   "cell_type": "markdown",
   "id": "98f5c50d-1e14-4017-b828-546aea6db331",
   "metadata": {},
   "source": [
    "## 4.1 Model Performance ##\n",
    "<a id='mod_perf'></q>"
   ]
  },
  {
   "cell_type": "code",
   "execution_count": 15,
   "id": "31ee37a0-1e6f-4ed2-b713-8db9c6b1de03",
   "metadata": {},
   "outputs": [],
   "source": [
    "# Create three dictionaries to store the model, model results, and combined data w/ id\n",
    "model = {}\n",
    "model_results = {}\n",
    "model_data_w_id = {}"
   ]
  },
  {
   "cell_type": "code",
   "execution_count": 16,
   "id": "40c568ff-f071-47a7-afdf-81d4b29450bd",
   "metadata": {},
   "outputs": [],
   "source": [
    "# Train the models and store the results \n",
    "for region in regions:\n",
    "    model[region], model_results[region], model_data_w_id[region] = model_train_pred_score(\n",
    "        data[region])"
   ]
  },
  {
   "cell_type": "code",
   "execution_count": 17,
   "id": "edd5b722-8b6c-4102-9b7a-447dcd253cbf",
   "metadata": {},
   "outputs": [
    {
     "name": "stdout",
     "output_type": "stream",
     "text": [
      "\u001b[1mregion 1\u001b[0m\n"
     ]
    },
    {
     "data": {
      "text/html": [
       "<div>\n",
       "<style scoped>\n",
       "    .dataframe tbody tr th:only-of-type {\n",
       "        vertical-align: middle;\n",
       "    }\n",
       "\n",
       "    .dataframe tbody tr th {\n",
       "        vertical-align: top;\n",
       "    }\n",
       "\n",
       "    .dataframe thead th {\n",
       "        text-align: right;\n",
       "    }\n",
       "</style>\n",
       "<table border=\"1\" class=\"dataframe\">\n",
       "  <thead>\n",
       "    <tr style=\"text-align: right;\">\n",
       "      <th></th>\n",
       "      <th>id</th>\n",
       "      <th>actual_volume</th>\n",
       "      <th>predicted_volume</th>\n",
       "    </tr>\n",
       "  </thead>\n",
       "  <tbody>\n",
       "    <tr>\n",
       "      <th>71751</th>\n",
       "      <td>7Z2gx</td>\n",
       "      <td>10.038645</td>\n",
       "      <td>95.894952</td>\n",
       "    </tr>\n",
       "    <tr>\n",
       "      <th>80493</th>\n",
       "      <td>b2HU8</td>\n",
       "      <td>114.551489</td>\n",
       "      <td>77.572583</td>\n",
       "    </tr>\n",
       "    <tr>\n",
       "      <th>2655</th>\n",
       "      <td>Y0dXD</td>\n",
       "      <td>132.603635</td>\n",
       "      <td>77.892640</td>\n",
       "    </tr>\n",
       "    <tr>\n",
       "      <th>53233</th>\n",
       "      <td>Mje59</td>\n",
       "      <td>169.072125</td>\n",
       "      <td>90.175134</td>\n",
       "    </tr>\n",
       "    <tr>\n",
       "      <th>91141</th>\n",
       "      <td>yqXxU</td>\n",
       "      <td>122.325180</td>\n",
       "      <td>70.510088</td>\n",
       "    </tr>\n",
       "  </tbody>\n",
       "</table>\n",
       "</div>"
      ],
      "text/plain": [
       "          id  actual_volume  predicted_volume\n",
       "71751  7Z2gx      10.038645         95.894952\n",
       "80493  b2HU8     114.551489         77.572583\n",
       "2655   Y0dXD     132.603635         77.892640\n",
       "53233  Mje59     169.072125         90.175134\n",
       "91141  yqXxU     122.325180         70.510088"
      ]
     },
     "metadata": {},
     "output_type": "display_data"
    },
    {
     "name": "stdout",
     "output_type": "stream",
     "text": [
      "\n",
      "\u001b[1mregion 2\u001b[0m\n"
     ]
    },
    {
     "data": {
      "text/html": [
       "<div>\n",
       "<style scoped>\n",
       "    .dataframe tbody tr th:only-of-type {\n",
       "        vertical-align: middle;\n",
       "    }\n",
       "\n",
       "    .dataframe tbody tr th {\n",
       "        vertical-align: top;\n",
       "    }\n",
       "\n",
       "    .dataframe thead th {\n",
       "        text-align: right;\n",
       "    }\n",
       "</style>\n",
       "<table border=\"1\" class=\"dataframe\">\n",
       "  <thead>\n",
       "    <tr style=\"text-align: right;\">\n",
       "      <th></th>\n",
       "      <th>id</th>\n",
       "      <th>actual_volume</th>\n",
       "      <th>predicted_volume</th>\n",
       "    </tr>\n",
       "  </thead>\n",
       "  <tbody>\n",
       "    <tr>\n",
       "      <th>71751</th>\n",
       "      <td>aTbUt</td>\n",
       "      <td>80.859783</td>\n",
       "      <td>82.663314</td>\n",
       "    </tr>\n",
       "    <tr>\n",
       "      <th>80493</th>\n",
       "      <td>CK34V</td>\n",
       "      <td>53.906522</td>\n",
       "      <td>54.431786</td>\n",
       "    </tr>\n",
       "    <tr>\n",
       "      <th>2655</th>\n",
       "      <td>ioXCO</td>\n",
       "      <td>30.132364</td>\n",
       "      <td>29.748760</td>\n",
       "    </tr>\n",
       "    <tr>\n",
       "      <th>53233</th>\n",
       "      <td>xk6tF</td>\n",
       "      <td>53.906522</td>\n",
       "      <td>53.552133</td>\n",
       "    </tr>\n",
       "    <tr>\n",
       "      <th>91141</th>\n",
       "      <td>F9AmG</td>\n",
       "      <td>0.000000</td>\n",
       "      <td>1.243856</td>\n",
       "    </tr>\n",
       "  </tbody>\n",
       "</table>\n",
       "</div>"
      ],
      "text/plain": [
       "          id  actual_volume  predicted_volume\n",
       "71751  aTbUt      80.859783         82.663314\n",
       "80493  CK34V      53.906522         54.431786\n",
       "2655   ioXCO      30.132364         29.748760\n",
       "53233  xk6tF      53.906522         53.552133\n",
       "91141  F9AmG       0.000000          1.243856"
      ]
     },
     "metadata": {},
     "output_type": "display_data"
    },
    {
     "name": "stdout",
     "output_type": "stream",
     "text": [
      "\n",
      "\u001b[1mregion 3\u001b[0m\n"
     ]
    },
    {
     "data": {
      "text/html": [
       "<div>\n",
       "<style scoped>\n",
       "    .dataframe tbody tr th:only-of-type {\n",
       "        vertical-align: middle;\n",
       "    }\n",
       "\n",
       "    .dataframe tbody tr th {\n",
       "        vertical-align: top;\n",
       "    }\n",
       "\n",
       "    .dataframe thead th {\n",
       "        text-align: right;\n",
       "    }\n",
       "</style>\n",
       "<table border=\"1\" class=\"dataframe\">\n",
       "  <thead>\n",
       "    <tr style=\"text-align: right;\">\n",
       "      <th></th>\n",
       "      <th>id</th>\n",
       "      <th>actual_volume</th>\n",
       "      <th>predicted_volume</th>\n",
       "    </tr>\n",
       "  </thead>\n",
       "  <tbody>\n",
       "    <tr>\n",
       "      <th>71751</th>\n",
       "      <td>DMlgl</td>\n",
       "      <td>61.212375</td>\n",
       "      <td>93.599633</td>\n",
       "    </tr>\n",
       "    <tr>\n",
       "      <th>80493</th>\n",
       "      <td>tbrRC</td>\n",
       "      <td>41.850118</td>\n",
       "      <td>75.105159</td>\n",
       "    </tr>\n",
       "    <tr>\n",
       "      <th>2655</th>\n",
       "      <td>JRs1w</td>\n",
       "      <td>57.776581</td>\n",
       "      <td>90.066809</td>\n",
       "    </tr>\n",
       "    <tr>\n",
       "      <th>53233</th>\n",
       "      <td>bidOx</td>\n",
       "      <td>100.053761</td>\n",
       "      <td>105.162375</td>\n",
       "    </tr>\n",
       "    <tr>\n",
       "      <th>91141</th>\n",
       "      <td>AcBBB</td>\n",
       "      <td>109.897122</td>\n",
       "      <td>115.303310</td>\n",
       "    </tr>\n",
       "  </tbody>\n",
       "</table>\n",
       "</div>"
      ],
      "text/plain": [
       "          id  actual_volume  predicted_volume\n",
       "71751  DMlgl      61.212375         93.599633\n",
       "80493  tbrRC      41.850118         75.105159\n",
       "2655   JRs1w      57.776581         90.066809\n",
       "53233  bidOx     100.053761        105.162375\n",
       "91141  AcBBB     109.897122        115.303310"
      ]
     },
     "metadata": {},
     "output_type": "display_data"
    },
    {
     "name": "stdout",
     "output_type": "stream",
     "text": [
      "\n"
     ]
    }
   ],
   "source": [
    "# Observe well information per region\n",
    "for region in regions:\n",
    "    print('\\033[1m' + region + '\\033[0m')\n",
    "    display(model_data_w_id[region].head(),)\n",
    "    print()"
   ]
  },
  {
   "cell_type": "code",
   "execution_count": 18,
   "id": "c2c4e51e-556f-4b21-ba4d-592d1e2b274e",
   "metadata": {},
   "outputs": [
    {
     "data": {
      "text/html": [
       "<div>\n",
       "<style scoped>\n",
       "    .dataframe tbody tr th:only-of-type {\n",
       "        vertical-align: middle;\n",
       "    }\n",
       "\n",
       "    .dataframe tbody tr th {\n",
       "        vertical-align: top;\n",
       "    }\n",
       "\n",
       "    .dataframe thead th {\n",
       "        text-align: right;\n",
       "    }\n",
       "</style>\n",
       "<table border=\"1\" class=\"dataframe\">\n",
       "  <thead>\n",
       "    <tr style=\"text-align: right;\">\n",
       "      <th></th>\n",
       "      <th>baseline_rmse</th>\n",
       "      <th>rmse</th>\n",
       "      <th>baseline_r2</th>\n",
       "      <th>r2</th>\n",
       "      <th>predicted_avg_volume</th>\n",
       "      <th>actual_avg_volume</th>\n",
       "    </tr>\n",
       "  </thead>\n",
       "  <tbody>\n",
       "    <tr>\n",
       "      <th>region 1</th>\n",
       "      <td>44.289591</td>\n",
       "      <td>37.579422</td>\n",
       "      <td>-0.000161</td>\n",
       "      <td>0.279943</td>\n",
       "      <td>92.592568</td>\n",
       "      <td>92.078597</td>\n",
       "    </tr>\n",
       "    <tr>\n",
       "      <th>region 2</th>\n",
       "      <td>46.021445</td>\n",
       "      <td>0.893099</td>\n",
       "      <td>-0.000009</td>\n",
       "      <td>0.999623</td>\n",
       "      <td>68.728547</td>\n",
       "      <td>68.723136</td>\n",
       "    </tr>\n",
       "    <tr>\n",
       "      <th>region 3</th>\n",
       "      <td>44.902350</td>\n",
       "      <td>40.029709</td>\n",
       "      <td>-0.000012</td>\n",
       "      <td>0.205248</td>\n",
       "      <td>94.965046</td>\n",
       "      <td>94.884233</td>\n",
       "    </tr>\n",
       "  </tbody>\n",
       "</table>\n",
       "</div>"
      ],
      "text/plain": [
       "          baseline_rmse       rmse  baseline_r2        r2  \\\n",
       "region 1      44.289591  37.579422    -0.000161  0.279943   \n",
       "region 2      46.021445   0.893099    -0.000009  0.999623   \n",
       "region 3      44.902350  40.029709    -0.000012  0.205248   \n",
       "\n",
       "          predicted_avg_volume  actual_avg_volume  \n",
       "region 1             92.592568          92.078597  \n",
       "region 2             68.728547          68.723136  \n",
       "region 3             94.965046          94.884233  "
      ]
     },
     "execution_count": 18,
     "metadata": {},
     "output_type": "execute_result"
    }
   ],
   "source": [
    "# Create summary\n",
    "model_summary = pd.DataFrame(model_results).T\n",
    "model_summary"
   ]
  },
  {
   "cell_type": "markdown",
   "id": "c70e8486-441d-4506-a16e-2d03a9409016",
   "metadata": {},
   "source": [
    "First note is that the Linear Regression model `RMSE` values are all lower than the baseline `RMSE` values, which means they are performing better than the baseline.\n",
    "\n",
    "The `RMSE` values for regions 1 and 3 leave room for improvement compared to region 2. The value in region 2 indicates a highly accurate model, although each model predicted the `avg volume` well. \n",
    "\n",
    "The `R2 score` is a nice inclusion as it demonstrates that the model in region 2 explains the variability extremely well. This is good news for OilyGiant as region 2 showed excellent potential for profits, the best possible in fact, even though it has the lowest average. "
   ]
  },
  {
   "cell_type": "code",
   "execution_count": 19,
   "id": "250500fa-3e90-4aa3-8878-bce6fbfd3bf1",
   "metadata": {},
   "outputs": [
    {
     "name": "stdout",
     "output_type": "stream",
     "text": [
      "Region 1 Predicted Volume = 92.6405 + (3.1323 * f0) + (-7.1082 * f1) + (21.4256 * f2)\n",
      "\n",
      "Region 2 Predicted Volume = 68.8590 + (-1.2995 * f0) + (-0.1129 * f1) + (45.8860 * f2)\n",
      "\n",
      "Region 3 Predicted Volume = 95.0386 + (0.0536 * f0) + (-0.0725 * f1) + (19.8197 * f2)\n",
      "\n"
     ]
    }
   ],
   "source": [
    "# Display Equations for each region\n",
    "for region in model:\n",
    "    display_equation(model[region], features, region)\n",
    "    print()"
   ]
  },
  {
   "cell_type": "markdown",
   "id": "00a4f85e-f7c1-40b1-8d8a-28ab76d94c62",
   "metadata": {},
   "source": [
    "As I had predicted earlier, the volume prediction is mostly determined by the `f2` feature, but `f0` and `f1` have some impact in `region 1` as well from the equations above. \n",
    "\n",
    "[Back to Contents](#contents)"
   ]
  },
  {
   "cell_type": "markdown",
   "id": "ca18cb95-4714-4f4a-9dbb-52f9c622fbfd",
   "metadata": {},
   "source": [
    "# 5. Profit Calculations and Risk Analysis #\n",
    "<a id='profit'></a>\n",
    "_________________________________________________________________________________________________________________________________________________________\n"
   ]
  },
  {
   "cell_type": "markdown",
   "id": "28ba766d-a15a-4078-98c4-0df495b9b2b7",
   "metadata": {},
   "source": [
    "## 5.1 Variable Definitions ##\n",
    "<a id='vars'></a>\n",
    "\n",
    "As informed by OilyGiant:\n",
    "- When exploring the region, a study of `500 points` is carried with picking the `best 200 points` for the profit calculation.\n",
    "- The `budget` for development of `200` oil wells is `100 USD Million`.\n",
    "- `One barrel` of raw materials brings `4.5 USD` of revenue.\n",
    "    - The revenue from `one unit` of product is `4,500 USD`.\n",
    "- After the risk evaluation, keep only the regions with the risk of losses `lower than 2.5%`.  "
   ]
  },
  {
   "cell_type": "code",
   "execution_count": 20,
   "id": "2e4d2946-67ec-4ed0-b0e6-d75fbd17081c",
   "metadata": {},
   "outputs": [],
   "source": [
    "# Define variables provided by OilyGiant\n",
    "study_amt = 500\n",
    "choose_amt = 200\n",
    "budget = 100_000_000 # 1M\n",
    "barrel_rev = 4.5\n",
    "unit_rev = 4500\n",
    "risk_thresh = 0.025"
   ]
  },
  {
   "cell_type": "markdown",
   "id": "ade92ea1-9b06-49a7-878b-a0aa45d7bde2",
   "metadata": {},
   "source": [
    "[Back to Contents](#contents)"
   ]
  },
  {
   "cell_type": "markdown",
   "id": "df07ddca-3938-475f-ae0a-7c1b9f048ece",
   "metadata": {},
   "source": [
    "## 5.2 Minimum Volume of Reserves (product) per Oil Well without Losses ##\n",
    "<a id='min'></a>"
   ]
  },
  {
   "cell_type": "code",
   "execution_count": 21,
   "id": "134fa48c-b631-403a-85f7-2d07a950b1d8",
   "metadata": {},
   "outputs": [
    {
     "name": "stdout",
     "output_type": "stream",
     "text": [
      "The minimum volume of reserves per oil well without losses: 111.11 \n",
      "\n"
     ]
    },
    {
     "data": {
      "text/html": [
       "<div>\n",
       "<style scoped>\n",
       "    .dataframe tbody tr th:only-of-type {\n",
       "        vertical-align: middle;\n",
       "    }\n",
       "\n",
       "    .dataframe tbody tr th {\n",
       "        vertical-align: top;\n",
       "    }\n",
       "\n",
       "    .dataframe thead th {\n",
       "        text-align: right;\n",
       "    }\n",
       "</style>\n",
       "<table border=\"1\" class=\"dataframe\">\n",
       "  <thead>\n",
       "    <tr style=\"text-align: right;\">\n",
       "      <th></th>\n",
       "      <th>predicted_avg_volume</th>\n",
       "    </tr>\n",
       "  </thead>\n",
       "  <tbody>\n",
       "    <tr>\n",
       "      <th>region 1</th>\n",
       "      <td>92.592568</td>\n",
       "    </tr>\n",
       "    <tr>\n",
       "      <th>region 2</th>\n",
       "      <td>68.728547</td>\n",
       "    </tr>\n",
       "    <tr>\n",
       "      <th>region 3</th>\n",
       "      <td>94.965046</td>\n",
       "    </tr>\n",
       "  </tbody>\n",
       "</table>\n",
       "</div>"
      ],
      "text/plain": [
       "          predicted_avg_volume\n",
       "region 1             92.592568\n",
       "region 2             68.728547\n",
       "region 3             94.965046"
      ]
     },
     "metadata": {},
     "output_type": "display_data"
    }
   ],
   "source": [
    "# Calculate the minimum product to prevent loss\n",
    "min_vol_well = budget / unit_rev / choose_amt\n",
    "\n",
    "# Compare to predicted averages\n",
    "print(f\"The minimum volume of reserves per oil well without losses: {min_vol_well:.2f} \\n\")\n",
    "display(model_summary[['predicted_avg_volume']])"
   ]
  },
  {
   "cell_type": "markdown",
   "id": "add8d4ed-b4d1-4f8d-9ed0-88d1481e8cc9",
   "metadata": {},
   "source": [
    "Comparing these predicted averages to the minimum required volume, it is evident that the predictions fall short of the minimum requirement across all three regions. If OilyGiant selects 200 wells at random from any of the three regions, then they will likely incur a loss. Therefore, to optimize outcomes, OilyGiant should utilize the predictions from the machine learning model to identify and choose the 200 wells with the highest predicted volumes of reserves. "
   ]
  },
  {
   "cell_type": "markdown",
   "id": "833c0d6f-93ea-4588-851b-0c8dbc340c13",
   "metadata": {},
   "source": [
    "## 5.3 Profit of Top 200 Oil Wells per Region ##\n",
    "<a id='200'></a>\n",
    "\n",
    "The function used below will help automate the tasks in this section"
   ]
  },
  {
   "cell_type": "code",
   "execution_count": 22,
   "id": "96d75268-9af4-4466-a469-a76ef303cd72",
   "metadata": {},
   "outputs": [],
   "source": [
    "def calc_profit(df, cost = budget, amount = choose_amt, rev_per_unit = unit_rev):\n",
    "    '''\n",
    "    This function will help calculate the profit after selecting the top wells based on\n",
    "    the predicted volume. \n",
    "\n",
    "    Parameters:\n",
    "    df (dataframe) - the dataframe the function will use to perform the calculations\n",
    "    cost (int)     - the amount OilyGiant is going to spend on the project\n",
    "    amount (int)   - the maount of wells OilyGiant is going to construct\n",
    "    rev_per_unit   - the amount of money OilyGiant makes per thousand barrels of product\n",
    "    '''\n",
    "    \n",
    "    # Sort the given dataframe and select top wells\n",
    "    top_wells_df = df.nlargest(amount, columns = 'predicted_volume')\n",
    "\n",
    "    # Determine gross profit: total_volume * rev per unit\n",
    "    gross_profit = top_wells_df['actual_volume'].sum() * rev_per_unit\n",
    "\n",
    "    net_profit = gross_profit - cost\n",
    "    \n",
    "    return net_profit"
   ]
  },
  {
   "cell_type": "markdown",
   "id": "08efcc88-3b7b-4c66-bfa1-483d75ba5e87",
   "metadata": {},
   "source": [
    "These are the top 200 oil wells with the highest predicted volume of reserves."
   ]
  },
  {
   "cell_type": "code",
   "execution_count": 23,
   "id": "e46b4c78-560f-4c08-92c3-91201e7038c4",
   "metadata": {},
   "outputs": [
    {
     "name": "stdout",
     "output_type": "stream",
     "text": [
      "\u001b[1mFor the 200 selected oil wells with the highest predicted volumes:\u001b[0m \n",
      "\n",
      "The profit for region 1: $33,208,260.43.\n",
      "The profit for region 2: $24,150,866.97.\n",
      "The profit for region 3: $27,103,499.64.\n"
     ]
    }
   ],
   "source": [
    "# Use function to display profits for each region\n",
    "print('\\033[1m' + \"For the 200 selected oil wells with the highest predicted volumes:\" + '\\033[0m', '\\n')\n",
    "\n",
    "for region in regions:\n",
    "    prof_region = calc_profit(model_data_w_id[region])\n",
    "    print(f\"The profit for {region}: ${prof_region:,.2f}.\")"
   ]
  },
  {
   "cell_type": "markdown",
   "id": "7daaa7e0-59cd-48c9-b20c-44a467b5e5d7",
   "metadata": {},
   "source": [
    "From the result, all of the regions are profitable when the top 200 oil wells are selected. Specifically, `region 1` emerges as the most profitable at 33.21M USD. Therefore, I would reccommend that OilyGiant focus on developing wells in `region 1` based on the analysis. \n",
    "\n",
    "But this is an elementary recommendation based on a straightforward analysis via machine learning. To ensure robustness and account for variability, we should incorporate a more comprehensive risk assessment using bootstrapping techniques. We don't want OilyGiant to spend 100M USD without first assessing the risk. \n",
    "\n",
    "[Back to Contents](#contents)"
   ]
  },
  {
   "cell_type": "markdown",
   "id": "a41a0941-9321-4e6b-9037-c42ccef1b726",
   "metadata": {},
   "source": [
    "## 5.4 Bootsrapping and Resulting Distributions ##\n",
    "<a id='boots'></a>\n",
    "\n",
    "OilyGiant has a budget of $100M for the project, and based on their criteria, they will sample 500 wells and select 200 from each sample. Using our trained machine learning model, we can predict volumes for the top 200 wells in each sample. \n",
    "\n",
    "Unlike our last recommendation, with bootstrapping techniques we can maximize the profits and minimize the losses. The distribution of profit for each region will be found with 1000 random samples. For each sample, we will:\n",
    "1. Predict the top 200 oil wells with the highest volumes.\n",
    "2. Calculate the profit based on the actual volumes of these top wells.\n",
    "\n",
    "By analyzing the distribution of profits from these 1000 samples, we can determine:\n",
    "- The 95% confidence interval of profit\n",
    "- The risk of loss as a percentage of total losses. "
   ]
  },
  {
   "cell_type": "code",
   "execution_count": 24,
   "id": "30200504-211c-4acd-bad8-8b0f51d88b3b",
   "metadata": {},
   "outputs": [],
   "source": [
    "# Initiate random state and dicts to store results\n",
    "np.random.seed(4496)\n",
    "\n",
    "# store stats of each sample; store profits of each sample\n",
    "sample_results = {region: {} for region in regions} # dict of stats for each region\n",
    "sample_profits = {region: [] for region in regions} # list of 1000 profits per region\n",
    "\n",
    "for region in regions:\n",
    "    \n",
    "    for sample in range(1000):\n",
    "    \n",
    "        # Create sample dataframe\n",
    "        sample_df = model_data_w_id[region].sample(n = study_amt, replace = True)\n",
    "    \n",
    "        # Caclulate profit of sample_df and add to list\n",
    "        sample_profits[region].append(calc_profit(sample_df))\n",
    "    \n",
    "    sample_profits[region] = pd.Series(sample_profits[region])\n",
    "    \n",
    "    # Calculate the resutls:\n",
    "    # avg profit, confidence interval, risk of loss (probability as a percentage)\n",
    "    sample_results[region]['avg_profit'] = format(sample_profits[region].mean(), ',.2f')\n",
    "    sample_results[region]['CI_low'] = format(sample_profits[region].quantile(.025), ',.2f')\n",
    "    sample_results[region]['CI_high'] = format(sample_profits[region].quantile(.975), ',.2f')\n",
    "    sample_results[region]['risk_of_loss'] = (sample_profits[region] < 0).mean() * 100"
   ]
  },
  {
   "cell_type": "code",
   "execution_count": 25,
   "id": "2b9155e6-d73f-40c9-9db5-a047c67fc6b8",
   "metadata": {},
   "outputs": [
    {
     "data": {
      "text/html": [
       "<div>\n",
       "<style scoped>\n",
       "    .dataframe tbody tr th:only-of-type {\n",
       "        vertical-align: middle;\n",
       "    }\n",
       "\n",
       "    .dataframe tbody tr th {\n",
       "        vertical-align: top;\n",
       "    }\n",
       "\n",
       "    .dataframe thead th {\n",
       "        text-align: right;\n",
       "    }\n",
       "</style>\n",
       "<table border=\"1\" class=\"dataframe\">\n",
       "  <thead>\n",
       "    <tr style=\"text-align: right;\">\n",
       "      <th></th>\n",
       "      <th>avg_profit</th>\n",
       "      <th>CI_low</th>\n",
       "      <th>CI_high</th>\n",
       "      <th>risk_of_loss</th>\n",
       "    </tr>\n",
       "  </thead>\n",
       "  <tbody>\n",
       "    <tr>\n",
       "      <th>region 1</th>\n",
       "      <td>3,876,874.68</td>\n",
       "      <td>-747,106.53</td>\n",
       "      <td>8,773,921.01</td>\n",
       "      <td>5.3</td>\n",
       "    </tr>\n",
       "    <tr>\n",
       "      <th>region 2</th>\n",
       "      <td>4,472,172.08</td>\n",
       "      <td>552,530.17</td>\n",
       "      <td>8,565,454.77</td>\n",
       "      <td>1.2</td>\n",
       "    </tr>\n",
       "    <tr>\n",
       "      <th>region 3</th>\n",
       "      <td>4,041,919.64</td>\n",
       "      <td>-1,173,063.84</td>\n",
       "      <td>9,467,304.80</td>\n",
       "      <td>6.1</td>\n",
       "    </tr>\n",
       "  </tbody>\n",
       "</table>\n",
       "</div>"
      ],
      "text/plain": [
       "            avg_profit         CI_low       CI_high risk_of_loss\n",
       "region 1  3,876,874.68    -747,106.53  8,773,921.01          5.3\n",
       "region 2  4,472,172.08     552,530.17  8,565,454.77          1.2\n",
       "region 3  4,041,919.64  -1,173,063.84  9,467,304.80          6.1"
      ]
     },
     "execution_count": 25,
     "metadata": {},
     "output_type": "execute_result"
    }
   ],
   "source": [
    "# Observe the results\n",
    "boot_results = pd.DataFrame(sample_results).T\n",
    "boot_results"
   ]
  },
  {
   "cell_type": "code",
   "execution_count": 26,
   "id": "7680c340-24f3-4d96-b662-868872ec0452",
   "metadata": {},
   "outputs": [
    {
     "data": {
      "text/plain": [
       "0      3.954285e+05\n",
       "1      2.781059e+06\n",
       "2      1.228044e+05\n",
       "3      3.876316e+06\n",
       "4      8.531120e+05\n",
       "           ...     \n",
       "995    2.079236e+06\n",
       "996    9.485223e+05\n",
       "997    1.790140e+06\n",
       "998    6.100039e+06\n",
       "999    2.137218e+06\n",
       "Length: 1000, dtype: float64"
      ]
     },
     "execution_count": 26,
     "metadata": {},
     "output_type": "execute_result"
    }
   ],
   "source": [
    "sample_profits['region 1']"
   ]
  },
  {
   "cell_type": "code",
   "execution_count": 28,
   "id": "bbc76b78-6b96-4e05-a24a-7b1622320403",
   "metadata": {},
   "outputs": [
    {
     "data": {
      "image/png": "[encoded data removed]",
      "text/plain": [
       "<Figure size 800x1200 with 3 Axes>"
      ]
     },
     "metadata": {},
     "output_type": "display_data"
    }
   ],
   "source": [
    "# Plot distribution using sample_profits\n",
    "sns.set_style('ticks')\n",
    "fig, axs = plt.subplots(nrows = 3, ncols = 1, figsize = (8,12))\n",
    "axs = axs.flatten()\n",
    "\n",
    "plt.suptitle(\"Distribution of Profit with 95% Confidence Interval per Region\",\n",
    "             fontsize = 15, fontweight = 'bold')\n",
    "\n",
    "for i, region in enumerate(regions):\n",
    "    sns.histplot(x = sample_profits[region], ax = axs[i])\n",
    "    axs[i].set_xlabel(\"Profit (Million USD)\", fontweight = 'bold')\n",
    "    axs[i].set_ylabel(\"Number of Samples\", fontweight = 'bold')\n",
    "    axs[i].set_title(region.title(), fontsize = 12, fontweight = 'bold')\n",
    "\n",
    "    # Plot confidence interval\n",
    "    axs[i].axvline(x = sample_results[region]['CI_low'], ymax = .85, color = 'red', \n",
    "                   linestyle = '--', label = 'CI Low', linewidth = 2)\n",
    "\n",
    "    axs[i].axvline(x = sample_results[region]['CI_high'], ymax = 0.85, color = 'red',\n",
    "                   linestyle = '--', label = 'CI High', linewidth = 2)\n",
    "    \n",
    "plt.tight_layout()\n",
    "plt.show()\n",
    "\n",
    "\n",
    "### I truly don't understand why this is graphing incorrectly. "
   ]
  },
  {
   "cell_type": "markdown",
   "id": "16fbbab4-b851-403e-bc98-5bb91cdb082c",
   "metadata": {},
   "source": [
    "From the table and distributions above, `region 2` is the only region where the confidence interval contains only positive values. This is significant for OilyGiant because this means I am 95% confident that the **average profit** for selecting 200 wells in `region 2` will fall within **0.5M USD and 8.5M USD**. Additionally, the **risk of loss** being only `1.2%`. \n",
    "In contrast, `Regions 1 and 3` both contain negative values at the lower bounds of their confidence intervals; therefore, I would not recommend OilyGiant proceed in these regions as they indicate a higher risk of incurring losses. "
   ]
  },
  {
   "cell_type": "markdown",
   "id": "55ab6981-35bc-4061-8634-9cd753fc5437",
   "metadata": {},
   "source": [
    "[Back to Contents](#contents)\n",
    "# 6. Conclusion #\n",
    "<a id='conclusion'></a>\n",
    "_________________________________________________________________________________________________________________________________________________________"
   ]
  },
  {
   "cell_type": "markdown",
   "id": "4313bdd8-3eba-4a8c-8237-69ea91ac5248",
   "metadata": {},
   "source": [
    "OilyGiant has tasked me to identify the most profitable of three regions to develop new oil wells. The analysis involved several steps: data exploration and preperation, model training, profit calculation and risk analysis via bootstrapping. \n",
    "\n",
    "**Data Exploration and Preperation:**\n",
    "\n",
    "The provided datasets contained only a few columns: well identifier, 3 synthetic features in `f0, f1, and f2`, as well as the `target`: the `product` in thousands of barrels of volume of reserves. I was able to determine that there were no missing values and no duplicates among each dataset. I was able to identify that some wells in each dataset was tested more than once and that outliers occurred; no actions were taken in either case as there was not enough context to make a meaningful decision and having more datapoints will not hurt the model. Also, I observed that there may have been either sub-populations within the feature data or non-linear relationships; thus, a correlation analysis was performed and I found that the feature `f2` carried the most weight and was the greatest predictor of profit. \n",
    "\n",
    "**Model Training:**\n",
    "\n",
    "I was instructed to use Linear Regression. So I trained the model over each region and predicted the volumes given the features. I evaluated the models' performance via $R^2$ Score and RMSE. The estimator for region 2 had the best metrics. \n",
    "\n",
    "**Profit Calculations:**\n",
    "\n",
    "I began the profit calculations with the profits of the top 200 predicted wells in each region. The top 200 wells are selected based on the predicted volumes, but profit is calculated based on the actual volumes. The initial profit calculations indicated that all regions could yield profit, with `region 1` showing the highest average profit. However, this recommendation does not account for variability.  \n",
    "\n",
    "**Risk Analysis via Bootstrapping:**\n",
    "\n",
    "To account for the aforementioned variability, I implemented bootstrapping techniques. The parameters were set by OilyGiant: 1,000 samples and provide a 95% confidence interval for the average profit. `Region 2` emerged as the only region where the confidence interval contained positive values, indicating a very low risk of loss (**1.2%**). The average profit for `Region 2` was estimated to be between 0.5 Million USD and 8.5 Million USD, making it the most viable option for OilyGiant. Therefore, based on this bootstrapped profitability and risk analysis, **I recommend OilyGiant proceed with developing the new 200 wells in Region 2.** "
   ]
  },
  {
   "cell_type": "code",
   "execution_count": null,
   "id": "33ac7f0d-bd6d-406b-aa91-2b569415c7e7",
   "metadata": {},
   "outputs": [],
   "source": []
  }
 ],
 "metadata": {
  "kernelspec": {
   "display_name": "Python 3 (ipykernel)",
   "language": "python",
   "name": "python3"
  },
  "language_info": {
   "codemirror_mode": {
    "name": "ipython",
    "version": 3
   },
   "file_extension": ".py",
   "mimetype": "text/x-python",
   "name": "python",
   "nbconvert_exporter": "python",
   "pygments_lexer": "ipython3",
   "version": "3.11.7"
  }
 },
 "nbformat": 4,
 "nbformat_minor": 5
}
