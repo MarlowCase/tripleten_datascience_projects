{
 "cells": [
  {
   "cell_type": "markdown",
   "metadata": {},
   "source": [
    "# Marlow Case - TripleTen DS - Sprint 3 Project: #\n",
    "# Determining the More Profitable Cell Phone Plan #"
   ]
  },
  {
   "cell_type": "markdown",
   "metadata": {},
   "source": [
    "# Which one is a better plan? #\n",
    "<a id='intro'></a>\n",
    "\n",
    "You work as an analyst for the telecom operator Megaline. The company offers its clients two prepaid plans, Surf and Ultimate. The commercial department wants to know which of the plans brings in more revenue in order to adjust the advertising budget.\n",
    "\n",
    "You are going to carry out a preliminary analysis of the plans based on a relatively small client selection. You'll have the data on 500 Megaline clients: who the clients are, where they're from, which plan they use, and the number of calls they made and text messages they sent in 2018. Your job is to analyze the clients' behavior and determine which prepaid plan brings in more revenue."
   ]
  },
  {
   "cell_type": "markdown",
   "metadata": {},
   "source": [
    "## Initialization\n",
    "<a id='initial'></a>"
   ]
  },
  {
   "cell_type": "code",
   "execution_count": 1,
   "metadata": {},
   "outputs": [],
   "source": [
    "# Begin by reading in all the data by importing pandas libraries that I will need.  \n",
    "import pandas as pd\n",
    "from matplotlib import pyplot as plt\n",
    "import numpy as np\n",
    "import math\n",
    "from scipy import stats as st\n",
    "import seaborn as sns"
   ]
  },
  {
   "cell_type": "markdown",
   "metadata": {
    "jp-MarkdownHeadingCollapsed": true
   },
   "source": [
    "## Load data"
   ]
  },
  {
   "cell_type": "code",
   "execution_count": 2,
   "metadata": {},
   "outputs": [
    {
     "name": "stdout",
     "output_type": "stream",
     "text": [
      "<class 'pandas.core.frame.DataFrame'>\n",
      "RangeIndex: 500 entries, 0 to 499\n",
      "Data columns (total 8 columns):\n",
      " #   Column      Non-Null Count  Dtype \n",
      "---  ------      --------------  ----- \n",
      " 0   user_id     500 non-null    int64 \n",
      " 1   first_name  500 non-null    object\n",
      " 2   last_name   500 non-null    object\n",
      " 3   age         500 non-null    int64 \n",
      " 4   city        500 non-null    object\n",
      " 5   reg_date    500 non-null    object\n",
      " 6   plan        500 non-null    object\n",
      " 7   churn_date  34 non-null     object\n",
      "dtypes: int64(2), object(6)\n",
      "memory usage: 31.4+ KB\n"
     ]
    }
   ],
   "source": [
    "# Load the data files into different DataFrames\n",
    "filepath = r\"C:\\Users\\marlo\\OneDrive\\Desktop\\Python_Work\\Tripleten_Lessons\\Sprint_3_Project\"\n",
    "\n",
    "try:\n",
    "    df_users = pd.read_csv(f\"{filepath}\\\\megaline_users.csv\")\n",
    "except:\n",
    "    df_users = pd.read_csv('/datasets/megaline_users.csv')\n",
    "\n",
    "df_users.info()\n",
    "\n",
    "#notes: The nulls in churn dates are okay. I'm assuming this is a cancellation date, possibly need to remove cancelled users - \n",
    "#       But cancelled users usage data is still valid, so will not be removing them. \n",
    "#       notably, churn date is an object as well as reg date - will need to fix this"
   ]
  },
  {
   "cell_type": "markdown",
   "metadata": {},
   "source": [
    "First, I want to load in all the data and check the data types; i've confirmed that the columns look good a this point.\n",
    "        \n",
    "**Further notes:** \n",
    "- users has a churn date == possibly a deletion date, not sure if those users are relevant - I think so. \n",
    "- calls has a strange duration format xxx.xx - assuming to be minutes, we will need to round this according to the instructions.\n",
    "- internet has 0s in mb_used"
   ]
  },
  {
   "cell_type": "code",
   "execution_count": 3,
   "metadata": {},
   "outputs": [
    {
     "name": "stdout",
     "output_type": "stream",
     "text": [
      "<class 'pandas.core.frame.DataFrame'>\n",
      "RangeIndex: 2 entries, 0 to 1\n",
      "Data columns (total 8 columns):\n",
      " #   Column                 Non-Null Count  Dtype  \n",
      "---  ------                 --------------  -----  \n",
      " 0   messages_included      2 non-null      int64  \n",
      " 1   mb_per_month_included  2 non-null      int64  \n",
      " 2   minutes_included       2 non-null      int64  \n",
      " 3   usd_monthly_pay        2 non-null      int64  \n",
      " 4   usd_per_gb             2 non-null      int64  \n",
      " 5   usd_per_message        2 non-null      float64\n",
      " 6   usd_per_minute         2 non-null      float64\n",
      " 7   plan_name              2 non-null      object \n",
      "dtypes: float64(2), int64(5), object(1)\n",
      "memory usage: 260.0+ bytes\n"
     ]
    }
   ],
   "source": [
    "try:\n",
    "    df_plans = pd.read_csv(f\"{filepath}\\\\megaline_plans.csv\")\n",
    "except:\n",
    "    df_plans = pd.read_csv('/datasets/megaline_plans.csv')\n",
    "\n",
    "df_plans.info()\n",
    "\n",
    "#notes: this is just descriptive data of the plans. The data looks good, and formats are correct."
   ]
  },
  {
   "cell_type": "code",
   "execution_count": 4,
   "metadata": {},
   "outputs": [
    {
     "name": "stdout",
     "output_type": "stream",
     "text": [
      "<class 'pandas.core.frame.DataFrame'>\n",
      "RangeIndex: 137735 entries, 0 to 137734\n",
      "Data columns (total 4 columns):\n",
      " #   Column     Non-Null Count   Dtype  \n",
      "---  ------     --------------   -----  \n",
      " 0   id         137735 non-null  object \n",
      " 1   user_id    137735 non-null  int64  \n",
      " 2   call_date  137735 non-null  object \n",
      " 3   duration   137735 non-null  float64\n",
      "dtypes: float64(1), int64(1), object(2)\n",
      "memory usage: 4.2+ MB\n"
     ]
    }
   ],
   "source": [
    "try:\n",
    "    df_calls = pd.read_csv(f\"{filepath}\\\\megaline_calls.csv\")\n",
    "except:\n",
    "    df_calls = pd.read_csv('/datasets/megaline_calls.csv')\n",
    "                       \n",
    "df_calls.info()\n",
    "\n",
    "#concerned with the duration column\n",
    "#according to megaline, seconds are rounded up to minutes"
   ]
  },
  {
   "cell_type": "code",
   "execution_count": 5,
   "metadata": {},
   "outputs": [
    {
     "name": "stdout",
     "output_type": "stream",
     "text": [
      "<class 'pandas.core.frame.DataFrame'>\n",
      "RangeIndex: 104825 entries, 0 to 104824\n",
      "Data columns (total 4 columns):\n",
      " #   Column        Non-Null Count   Dtype  \n",
      "---  ------        --------------   -----  \n",
      " 0   id            104825 non-null  object \n",
      " 1   user_id       104825 non-null  int64  \n",
      " 2   session_date  104825 non-null  object \n",
      " 3   mb_used       104825 non-null  float64\n",
      "dtypes: float64(1), int64(1), object(2)\n",
      "memory usage: 3.2+ MB\n"
     ]
    }
   ],
   "source": [
    "try:\n",
    "    df_internet = pd.read_csv(f\"{filepath}\\\\megaline_internet.csv\")\n",
    "except:\n",
    "    df_internet = pd.read_csv('/datasets/megaline_internet.csv')\n",
    "\n",
    "df_internet.info()\n",
    "\n",
    "#notes:\n",
    "#according to megaline, mb_used is rounded to the next highest GB, for everything under 2GB (2048 MB) rounds to 2GB for the month\n",
    "   #will have to aggregate dfs to collect this information, cannot be done in just this single - per session - df\n",
    "    \n",
    "#some cells for mb_used are 0, these can be removed as they are not rounded up, and add nothing to the sum."
   ]
  },
  {
   "cell_type": "code",
   "execution_count": 6,
   "metadata": {},
   "outputs": [
    {
     "name": "stdout",
     "output_type": "stream",
     "text": [
      "<class 'pandas.core.frame.DataFrame'>\n",
      "RangeIndex: 76051 entries, 0 to 76050\n",
      "Data columns (total 3 columns):\n",
      " #   Column        Non-Null Count  Dtype \n",
      "---  ------        --------------  ----- \n",
      " 0   id            76051 non-null  object\n",
      " 1   user_id       76051 non-null  int64 \n",
      " 2   message_date  76051 non-null  object\n",
      "dtypes: int64(1), object(2)\n",
      "memory usage: 1.7+ MB\n"
     ]
    }
   ],
   "source": [
    "try:\n",
    "    df_messages = pd.read_csv(f\"{filepath}\\\\megaline_messages.csv\")\n",
    "except:\n",
    "    df_messages = pd.read_csv('/datasets/megaline_messages.csv')\n",
    "\n",
    "df_messages.info()\n",
    "\n",
    "# message_date will need to be converted to datetime - we will need to perform calculations with this date"
   ]
  },
  {
   "cell_type": "markdown",
   "metadata": {
    "jp-MarkdownHeadingCollapsed": true
   },
   "source": [
    "## Plans"
   ]
  },
  {
   "cell_type": "code",
   "execution_count": 7,
   "metadata": {},
   "outputs": [
    {
     "name": "stdout",
     "output_type": "stream",
     "text": [
      "<class 'pandas.core.frame.DataFrame'>\n",
      "RangeIndex: 2 entries, 0 to 1\n",
      "Data columns (total 8 columns):\n",
      " #   Column                 Non-Null Count  Dtype  \n",
      "---  ------                 --------------  -----  \n",
      " 0   messages_included      2 non-null      int64  \n",
      " 1   mb_per_month_included  2 non-null      int64  \n",
      " 2   minutes_included       2 non-null      int64  \n",
      " 3   usd_monthly_pay        2 non-null      int64  \n",
      " 4   usd_per_gb             2 non-null      int64  \n",
      " 5   usd_per_message        2 non-null      float64\n",
      " 6   usd_per_minute         2 non-null      float64\n",
      " 7   plan_name              2 non-null      object \n",
      "dtypes: float64(2), int64(5), object(1)\n",
      "memory usage: 260.0+ bytes\n"
     ]
    }
   ],
   "source": [
    "# Print the general/summary information about the plans' DataFrame\n",
    "df_plans.info()"
   ]
  },
  {
   "cell_type": "code",
   "execution_count": 8,
   "metadata": {},
   "outputs": [
    {
     "data": {
      "text/html": [
       "<div>\n",
       "<style scoped>\n",
       "    .dataframe tbody tr th:only-of-type {\n",
       "        vertical-align: middle;\n",
       "    }\n",
       "\n",
       "    .dataframe tbody tr th {\n",
       "        vertical-align: top;\n",
       "    }\n",
       "\n",
       "    .dataframe thead th {\n",
       "        text-align: right;\n",
       "    }\n",
       "</style>\n",
       "<table border=\"1\" class=\"dataframe\">\n",
       "  <thead>\n",
       "    <tr style=\"text-align: right;\">\n",
       "      <th></th>\n",
       "      <th>messages_included</th>\n",
       "      <th>mb_per_month_included</th>\n",
       "      <th>minutes_included</th>\n",
       "      <th>usd_monthly_pay</th>\n",
       "      <th>usd_per_gb</th>\n",
       "      <th>usd_per_message</th>\n",
       "      <th>usd_per_minute</th>\n",
       "      <th>plan_name</th>\n",
       "    </tr>\n",
       "  </thead>\n",
       "  <tbody>\n",
       "    <tr>\n",
       "      <th>0</th>\n",
       "      <td>50</td>\n",
       "      <td>15360</td>\n",
       "      <td>500</td>\n",
       "      <td>20</td>\n",
       "      <td>10</td>\n",
       "      <td>0.03</td>\n",
       "      <td>0.03</td>\n",
       "      <td>surf</td>\n",
       "    </tr>\n",
       "    <tr>\n",
       "      <th>1</th>\n",
       "      <td>1000</td>\n",
       "      <td>30720</td>\n",
       "      <td>3000</td>\n",
       "      <td>70</td>\n",
       "      <td>7</td>\n",
       "      <td>0.01</td>\n",
       "      <td>0.01</td>\n",
       "      <td>ultimate</td>\n",
       "    </tr>\n",
       "  </tbody>\n",
       "</table>\n",
       "</div>"
      ],
      "text/plain": [
       "   messages_included  mb_per_month_included  minutes_included  \\\n",
       "0                 50                  15360               500   \n",
       "1               1000                  30720              3000   \n",
       "\n",
       "   usd_monthly_pay  usd_per_gb  usd_per_message  usd_per_minute plan_name  \n",
       "0               20          10             0.03            0.03      surf  \n",
       "1               70           7             0.01            0.01  ultimate  "
      ]
     },
     "execution_count": 8,
     "metadata": {},
     "output_type": "execute_result"
    }
   ],
   "source": [
    "# Print a sample of data for plans\n",
    "df_plans"
   ]
  },
  {
   "cell_type": "markdown",
   "metadata": {},
   "source": [
    "I see no issues with this data. It is just a summary/recap of the plan information."
   ]
  },
  {
   "cell_type": "markdown",
   "metadata": {},
   "source": [
    " "
   ]
  },
  {
   "cell_type": "markdown",
   "metadata": {
    "jp-MarkdownHeadingCollapsed": true
   },
   "source": [
    "## Enrich data"
   ]
  },
  {
   "cell_type": "markdown",
   "metadata": {},
   "source": [
    "[Add additional factors to the data if you believe they might be useful.]"
   ]
  },
  {
   "cell_type": "code",
   "execution_count": 9,
   "metadata": {},
   "outputs": [],
   "source": [
    "#I am not sure what this is referring to. "
   ]
  },
  {
   "cell_type": "markdown",
   "metadata": {
    "jp-MarkdownHeadingCollapsed": true
   },
   "source": [
    "## Users"
   ]
  },
  {
   "cell_type": "code",
   "execution_count": 10,
   "metadata": {},
   "outputs": [
    {
     "name": "stdout",
     "output_type": "stream",
     "text": [
      "<class 'pandas.core.frame.DataFrame'>\n",
      "RangeIndex: 500 entries, 0 to 499\n",
      "Data columns (total 8 columns):\n",
      " #   Column      Non-Null Count  Dtype \n",
      "---  ------      --------------  ----- \n",
      " 0   user_id     500 non-null    int64 \n",
      " 1   first_name  500 non-null    object\n",
      " 2   last_name   500 non-null    object\n",
      " 3   age         500 non-null    int64 \n",
      " 4   city        500 non-null    object\n",
      " 5   reg_date    500 non-null    object\n",
      " 6   plan        500 non-null    object\n",
      " 7   churn_date  34 non-null     object\n",
      "dtypes: int64(2), object(6)\n",
      "memory usage: 31.4+ KB\n"
     ]
    }
   ],
   "source": [
    "# Print the general/summary information about the users' DataFrame\n",
    "df_users.info()\n"
   ]
  },
  {
   "cell_type": "code",
   "execution_count": 11,
   "metadata": {},
   "outputs": [
    {
     "data": {
      "text/html": [
       "<div>\n",
       "<style scoped>\n",
       "    .dataframe tbody tr th:only-of-type {\n",
       "        vertical-align: middle;\n",
       "    }\n",
       "\n",
       "    .dataframe tbody tr th {\n",
       "        vertical-align: top;\n",
       "    }\n",
       "\n",
       "    .dataframe thead th {\n",
       "        text-align: right;\n",
       "    }\n",
       "</style>\n",
       "<table border=\"1\" class=\"dataframe\">\n",
       "  <thead>\n",
       "    <tr style=\"text-align: right;\">\n",
       "      <th></th>\n",
       "      <th>user_id</th>\n",
       "      <th>first_name</th>\n",
       "      <th>last_name</th>\n",
       "      <th>age</th>\n",
       "      <th>city</th>\n",
       "      <th>reg_date</th>\n",
       "      <th>plan</th>\n",
       "      <th>churn_date</th>\n",
       "    </tr>\n",
       "  </thead>\n",
       "  <tbody>\n",
       "    <tr>\n",
       "      <th>220</th>\n",
       "      <td>1220</td>\n",
       "      <td>Jack</td>\n",
       "      <td>Strong</td>\n",
       "      <td>26</td>\n",
       "      <td>Cincinnati, OH-KY-IN MSA</td>\n",
       "      <td>2018-04-22</td>\n",
       "      <td>surf</td>\n",
       "      <td>2018-10-13</td>\n",
       "    </tr>\n",
       "    <tr>\n",
       "      <th>441</th>\n",
       "      <td>1441</td>\n",
       "      <td>Piedad</td>\n",
       "      <td>Myers</td>\n",
       "      <td>23</td>\n",
       "      <td>Atlanta-Sandy Springs-Roswell, GA MSA</td>\n",
       "      <td>2018-03-08</td>\n",
       "      <td>ultimate</td>\n",
       "      <td>2018-08-19</td>\n",
       "    </tr>\n",
       "    <tr>\n",
       "      <th>414</th>\n",
       "      <td>1414</td>\n",
       "      <td>Georgianne</td>\n",
       "      <td>Herring</td>\n",
       "      <td>30</td>\n",
       "      <td>Urban Honolulu, HI MSA</td>\n",
       "      <td>2018-03-03</td>\n",
       "      <td>surf</td>\n",
       "      <td>2018-09-01</td>\n",
       "    </tr>\n",
       "    <tr>\n",
       "      <th>54</th>\n",
       "      <td>1054</td>\n",
       "      <td>Denis</td>\n",
       "      <td>Frost</td>\n",
       "      <td>50</td>\n",
       "      <td>Phoenix-Mesa-Chandler, AZ MSA</td>\n",
       "      <td>2018-04-21</td>\n",
       "      <td>surf</td>\n",
       "      <td>2018-12-31</td>\n",
       "    </tr>\n",
       "    <tr>\n",
       "      <th>180</th>\n",
       "      <td>1180</td>\n",
       "      <td>Wonda</td>\n",
       "      <td>Hays</td>\n",
       "      <td>24</td>\n",
       "      <td>New York-Newark-Jersey City, NY-NJ-PA MSA</td>\n",
       "      <td>2018-12-01</td>\n",
       "      <td>surf</td>\n",
       "      <td>2018-12-22</td>\n",
       "    </tr>\n",
       "    <tr>\n",
       "      <th>94</th>\n",
       "      <td>1094</td>\n",
       "      <td>Walter</td>\n",
       "      <td>Petersen</td>\n",
       "      <td>54</td>\n",
       "      <td>Los Angeles-Long Beach-Anaheim, CA MSA</td>\n",
       "      <td>2018-10-30</td>\n",
       "      <td>surf</td>\n",
       "      <td>2018-12-12</td>\n",
       "    </tr>\n",
       "    <tr>\n",
       "      <th>491</th>\n",
       "      <td>1491</td>\n",
       "      <td>Terina</td>\n",
       "      <td>Jensen</td>\n",
       "      <td>22</td>\n",
       "      <td>Grand Rapids-Kentwood, MI MSA</td>\n",
       "      <td>2018-04-27</td>\n",
       "      <td>surf</td>\n",
       "      <td>2018-09-18</td>\n",
       "    </tr>\n",
       "    <tr>\n",
       "      <th>83</th>\n",
       "      <td>1083</td>\n",
       "      <td>Lyndia</td>\n",
       "      <td>Acevedo</td>\n",
       "      <td>65</td>\n",
       "      <td>Los Angeles-Long Beach-Anaheim, CA MSA</td>\n",
       "      <td>2018-10-26</td>\n",
       "      <td>surf</td>\n",
       "      <td>2018-12-18</td>\n",
       "    </tr>\n",
       "    <tr>\n",
       "      <th>106</th>\n",
       "      <td>1106</td>\n",
       "      <td>Eddy</td>\n",
       "      <td>Garrison</td>\n",
       "      <td>47</td>\n",
       "      <td>New York-Newark-Jersey City, NY-NJ-PA MSA</td>\n",
       "      <td>2018-05-10</td>\n",
       "      <td>surf</td>\n",
       "      <td>2018-11-14</td>\n",
       "    </tr>\n",
       "    <tr>\n",
       "      <th>281</th>\n",
       "      <td>1281</td>\n",
       "      <td>Zack</td>\n",
       "      <td>Hardy</td>\n",
       "      <td>39</td>\n",
       "      <td>Charlotte-Concord-Gastonia, NC-SC MSA</td>\n",
       "      <td>2018-07-23</td>\n",
       "      <td>surf</td>\n",
       "      <td>2018-11-14</td>\n",
       "    </tr>\n",
       "  </tbody>\n",
       "</table>\n",
       "</div>"
      ],
      "text/plain": [
       "     user_id  first_name last_name  age  \\\n",
       "220     1220        Jack    Strong   26   \n",
       "441     1441      Piedad     Myers   23   \n",
       "414     1414  Georgianne   Herring   30   \n",
       "54      1054       Denis     Frost   50   \n",
       "180     1180       Wonda      Hays   24   \n",
       "94      1094      Walter  Petersen   54   \n",
       "491     1491      Terina    Jensen   22   \n",
       "83      1083      Lyndia   Acevedo   65   \n",
       "106     1106        Eddy  Garrison   47   \n",
       "281     1281        Zack     Hardy   39   \n",
       "\n",
       "                                          city    reg_date      plan  \\\n",
       "220                   Cincinnati, OH-KY-IN MSA  2018-04-22      surf   \n",
       "441      Atlanta-Sandy Springs-Roswell, GA MSA  2018-03-08  ultimate   \n",
       "414                     Urban Honolulu, HI MSA  2018-03-03      surf   \n",
       "54               Phoenix-Mesa-Chandler, AZ MSA  2018-04-21      surf   \n",
       "180  New York-Newark-Jersey City, NY-NJ-PA MSA  2018-12-01      surf   \n",
       "94      Los Angeles-Long Beach-Anaheim, CA MSA  2018-10-30      surf   \n",
       "491              Grand Rapids-Kentwood, MI MSA  2018-04-27      surf   \n",
       "83      Los Angeles-Long Beach-Anaheim, CA MSA  2018-10-26      surf   \n",
       "106  New York-Newark-Jersey City, NY-NJ-PA MSA  2018-05-10      surf   \n",
       "281      Charlotte-Concord-Gastonia, NC-SC MSA  2018-07-23      surf   \n",
       "\n",
       "     churn_date  \n",
       "220  2018-10-13  \n",
       "441  2018-08-19  \n",
       "414  2018-09-01  \n",
       "54   2018-12-31  \n",
       "180  2018-12-22  \n",
       "94   2018-12-12  \n",
       "491  2018-09-18  \n",
       "83   2018-12-18  \n",
       "106  2018-11-14  \n",
       "281  2018-11-14  "
      ]
     },
     "execution_count": 11,
     "metadata": {},
     "output_type": "execute_result"
    }
   ],
   "source": [
    "# Print a sample of data for users\n",
    "df_users[~df_users['churn_date'].isna()].sample(10, random_state=45)"
   ]
  },
  {
   "cell_type": "markdown",
   "metadata": {},
   "source": [
    "The date field is showing as an object. Will need to convert this to datetime incase of any calculations with this column. All other columns and data-types look good.  "
   ]
  },
  {
   "cell_type": "markdown",
   "metadata": {},
   "source": [
    " "
   ]
  },
  {
   "cell_type": "markdown",
   "metadata": {},
   "source": [
    "### Fix Data"
   ]
  },
  {
   "cell_type": "code",
   "execution_count": 12,
   "metadata": {},
   "outputs": [
    {
     "name": "stdout",
     "output_type": "stream",
     "text": [
      "<class 'pandas.core.frame.DataFrame'>\n",
      "Index: 466 entries, 0 to 499\n",
      "Data columns (total 7 columns):\n",
      " #   Column      Non-Null Count  Dtype         \n",
      "---  ------      --------------  -----         \n",
      " 0   user_id     466 non-null    int64         \n",
      " 1   first_name  466 non-null    object        \n",
      " 2   last_name   466 non-null    object        \n",
      " 3   age         466 non-null    int64         \n",
      " 4   city        466 non-null    object        \n",
      " 5   reg_date    466 non-null    datetime64[ns]\n",
      " 6   plan        466 non-null    object        \n",
      "dtypes: datetime64[ns](1), int64(2), object(4)\n",
      "memory usage: 29.1+ KB\n"
     ]
    }
   ],
   "source": [
    "# Only concern I am able to see is that the dates are not datetimes, they are objects. I will correct that below\n",
    "df_users['reg_date'] = pd.to_datetime(df_users['reg_date'], format='%Y-%m-%d')\n",
    "df_users['churn_date'] = pd.to_datetime(df_users['churn_date'], format='%Y-%m-%d')\n",
    "\n",
    "#df_users.info()\n",
    "\n",
    "#If we want to remove the deleted users then use the dataframe below\n",
    "df_deleted_users = df_users[df_users['churn_date'].notna()]\n",
    "df_deleted_users\n",
    "\n",
    "df_active_users = df_users.drop(index=df_deleted_users.index)\n",
    "\n",
    "#drop the churn column all together, as it is all nulls.\n",
    "df_active_users = df_active_users.drop('churn_date', axis=1)\n",
    "\n",
    "df_active_users.info() #34 users removed - correct number"
   ]
  },
  {
   "cell_type": "code",
   "execution_count": 13,
   "metadata": {},
   "outputs": [
    {
     "name": "stdout",
     "output_type": "stream",
     "text": [
      "There are 0 duplicate values in the \"users\" data.\n",
      "There are 0 duplicate names in the \"users\" data.\n"
     ]
    }
   ],
   "source": [
    "# check for duplicates\n",
    "df_user_dups = df_users.duplicated()\n",
    "print(f\"There are {df_user_dups.sum()} duplicate values in the \\\"users\\\" data.\") #could be showing 0 due to the user_id, \n",
    "                                                                                 #same person might have multiple IDs\n",
    "#check for duplicates based on full name\n",
    "df_user_dup_names = df_users.duplicated(subset=['first_name', 'last_name'])\n",
    "print(f\"There are {df_user_dup_names.sum()} duplicate names in the \\\"users\\\" data.\")"
   ]
  },
  {
   "cell_type": "markdown",
   "metadata": {},
   "source": [
    "I've determined that the users data had object data types for the date fields. I then corrected those, while also leaving all active users in its own variable for safe keeping if needed later (df_active_users). I was also able to determine that there are no duplicate users in the provided users data, I did this by sepcifically checking for unique first and last name pairs, versus all columns, due to the user_id having a chance to be assigned to the same individual multiple times - if this had occurred, I would have removed them."
   ]
  },
  {
   "cell_type": "markdown",
   "metadata": {},
   "source": [
    "### Enrich Data"
   ]
  },
  {
   "cell_type": "code",
   "execution_count": null,
   "metadata": {},
   "outputs": [],
   "source": []
  },
  {
   "cell_type": "markdown",
   "metadata": {
    "jp-MarkdownHeadingCollapsed": true
   },
   "source": [
    "## Calls"
   ]
  },
  {
   "cell_type": "code",
   "execution_count": 14,
   "metadata": {},
   "outputs": [
    {
     "name": "stdout",
     "output_type": "stream",
     "text": [
      "<class 'pandas.core.frame.DataFrame'>\n",
      "RangeIndex: 137735 entries, 0 to 137734\n",
      "Data columns (total 4 columns):\n",
      " #   Column     Non-Null Count   Dtype  \n",
      "---  ------     --------------   -----  \n",
      " 0   id         137735 non-null  object \n",
      " 1   user_id    137735 non-null  int64  \n",
      " 2   call_date  137735 non-null  object \n",
      " 3   duration   137735 non-null  float64\n",
      "dtypes: float64(1), int64(1), object(2)\n",
      "memory usage: 4.2+ MB\n"
     ]
    }
   ],
   "source": [
    "# Print the general/summary information about the calls' DataFrame\n",
    "df_calls.info()"
   ]
  },
  {
   "cell_type": "code",
   "execution_count": 15,
   "metadata": {},
   "outputs": [
    {
     "data": {
      "text/html": [
       "<div>\n",
       "<style scoped>\n",
       "    .dataframe tbody tr th:only-of-type {\n",
       "        vertical-align: middle;\n",
       "    }\n",
       "\n",
       "    .dataframe tbody tr th {\n",
       "        vertical-align: top;\n",
       "    }\n",
       "\n",
       "    .dataframe thead th {\n",
       "        text-align: right;\n",
       "    }\n",
       "</style>\n",
       "<table border=\"1\" class=\"dataframe\">\n",
       "  <thead>\n",
       "    <tr style=\"text-align: right;\">\n",
       "      <th></th>\n",
       "      <th>id</th>\n",
       "      <th>user_id</th>\n",
       "      <th>call_date</th>\n",
       "      <th>duration</th>\n",
       "    </tr>\n",
       "  </thead>\n",
       "  <tbody>\n",
       "    <tr>\n",
       "      <th>15332</th>\n",
       "      <td>1061_274</td>\n",
       "      <td>1061</td>\n",
       "      <td>2018-11-16</td>\n",
       "      <td>9.01</td>\n",
       "    </tr>\n",
       "    <tr>\n",
       "      <th>96277</th>\n",
       "      <td>1342_25</td>\n",
       "      <td>1342</td>\n",
       "      <td>2018-12-13</td>\n",
       "      <td>4.98</td>\n",
       "    </tr>\n",
       "    <tr>\n",
       "      <th>126122</th>\n",
       "      <td>1446_382</td>\n",
       "      <td>1446</td>\n",
       "      <td>2018-12-14</td>\n",
       "      <td>1.09</td>\n",
       "    </tr>\n",
       "    <tr>\n",
       "      <th>42503</th>\n",
       "      <td>1156_108</td>\n",
       "      <td>1156</td>\n",
       "      <td>2018-12-04</td>\n",
       "      <td>2.62</td>\n",
       "    </tr>\n",
       "    <tr>\n",
       "      <th>104182</th>\n",
       "      <td>1366_391</td>\n",
       "      <td>1366</td>\n",
       "      <td>2018-08-28</td>\n",
       "      <td>0.00</td>\n",
       "    </tr>\n",
       "    <tr>\n",
       "      <th>216</th>\n",
       "      <td>1001_396</td>\n",
       "      <td>1001</td>\n",
       "      <td>2018-09-22</td>\n",
       "      <td>0.00</td>\n",
       "    </tr>\n",
       "    <tr>\n",
       "      <th>137502</th>\n",
       "      <td>1498_439</td>\n",
       "      <td>1498</td>\n",
       "      <td>2018-05-05</td>\n",
       "      <td>0.00</td>\n",
       "    </tr>\n",
       "    <tr>\n",
       "      <th>67190</th>\n",
       "      <td>1241_26</td>\n",
       "      <td>1241</td>\n",
       "      <td>2018-10-10</td>\n",
       "      <td>2.84</td>\n",
       "    </tr>\n",
       "    <tr>\n",
       "      <th>81396</th>\n",
       "      <td>1293_354</td>\n",
       "      <td>1293</td>\n",
       "      <td>2018-12-15</td>\n",
       "      <td>0.36</td>\n",
       "    </tr>\n",
       "    <tr>\n",
       "      <th>26992</th>\n",
       "      <td>1101_319</td>\n",
       "      <td>1101</td>\n",
       "      <td>2018-05-16</td>\n",
       "      <td>11.52</td>\n",
       "    </tr>\n",
       "  </tbody>\n",
       "</table>\n",
       "</div>"
      ],
      "text/plain": [
       "              id  user_id   call_date  duration\n",
       "15332   1061_274     1061  2018-11-16      9.01\n",
       "96277    1342_25     1342  2018-12-13      4.98\n",
       "126122  1446_382     1446  2018-12-14      1.09\n",
       "42503   1156_108     1156  2018-12-04      2.62\n",
       "104182  1366_391     1366  2018-08-28      0.00\n",
       "216     1001_396     1001  2018-09-22      0.00\n",
       "137502  1498_439     1498  2018-05-05      0.00\n",
       "67190    1241_26     1241  2018-10-10      2.84\n",
       "81396   1293_354     1293  2018-12-15      0.36\n",
       "26992   1101_319     1101  2018-05-16     11.52"
      ]
     },
     "execution_count": 15,
     "metadata": {},
     "output_type": "execute_result"
    }
   ],
   "source": [
    "# Print a sample of data for calls\n",
    "df_calls.sample(10, random_state=45)"
   ]
  },
  {
   "cell_type": "markdown",
   "metadata": {},
   "source": [
    "There are a couple of things to note here. First, and most easily, the call_date column is being read as an object just like the previous date columns - so I will need to correct this by converting it to datetime. Next, I was initially concerned with how to handle the decimals in the duration column, as minutes are not usually represented this way, but I've decided that since Megaline rounds all their seconds up to the nearest minute, it will be a safe procedure to go ahead and round all values up to their closest integer in this column. Lastly, the 0s in the duration column are not useful, as Megaline has told us that the call needs to be one second, and so I will replacing all 0-second calls with 1-second calls. \n",
    "\n",
    "In summary: \n",
    "1. Correct the date column\n",
    "2. Convert all instances of \"0\" to \"1\" in the duration column\n",
    "3. Round all remaining calls to the next highest minute value "
   ]
  },
  {
   "cell_type": "markdown",
   "metadata": {},
   "source": [
    " "
   ]
  },
  {
   "cell_type": "markdown",
   "metadata": {},
   "source": [
    "### Fix data"
   ]
  },
  {
   "cell_type": "code",
   "execution_count": 16,
   "metadata": {},
   "outputs": [
    {
     "data": {
      "text/html": [
       "<div>\n",
       "<style scoped>\n",
       "    .dataframe tbody tr th:only-of-type {\n",
       "        vertical-align: middle;\n",
       "    }\n",
       "\n",
       "    .dataframe tbody tr th {\n",
       "        vertical-align: top;\n",
       "    }\n",
       "\n",
       "    .dataframe thead th {\n",
       "        text-align: right;\n",
       "    }\n",
       "</style>\n",
       "<table border=\"1\" class=\"dataframe\">\n",
       "  <thead>\n",
       "    <tr style=\"text-align: right;\">\n",
       "      <th></th>\n",
       "      <th>id</th>\n",
       "      <th>user_id</th>\n",
       "      <th>call_date</th>\n",
       "      <th>duration</th>\n",
       "    </tr>\n",
       "  </thead>\n",
       "  <tbody>\n",
       "    <tr>\n",
       "      <th>0</th>\n",
       "      <td>1000_93</td>\n",
       "      <td>1000</td>\n",
       "      <td>2018-12-27</td>\n",
       "      <td>8.52</td>\n",
       "    </tr>\n",
       "    <tr>\n",
       "      <th>1</th>\n",
       "      <td>1000_145</td>\n",
       "      <td>1000</td>\n",
       "      <td>2018-12-27</td>\n",
       "      <td>13.66</td>\n",
       "    </tr>\n",
       "    <tr>\n",
       "      <th>2</th>\n",
       "      <td>1000_247</td>\n",
       "      <td>1000</td>\n",
       "      <td>2018-12-27</td>\n",
       "      <td>14.48</td>\n",
       "    </tr>\n",
       "    <tr>\n",
       "      <th>3</th>\n",
       "      <td>1000_309</td>\n",
       "      <td>1000</td>\n",
       "      <td>2018-12-28</td>\n",
       "      <td>5.76</td>\n",
       "    </tr>\n",
       "    <tr>\n",
       "      <th>4</th>\n",
       "      <td>1000_380</td>\n",
       "      <td>1000</td>\n",
       "      <td>2018-12-30</td>\n",
       "      <td>4.22</td>\n",
       "    </tr>\n",
       "  </tbody>\n",
       "</table>\n",
       "</div>"
      ],
      "text/plain": [
       "         id  user_id  call_date  duration\n",
       "0   1000_93     1000 2018-12-27      8.52\n",
       "1  1000_145     1000 2018-12-27     13.66\n",
       "2  1000_247     1000 2018-12-27     14.48\n",
       "3  1000_309     1000 2018-12-28      5.76\n",
       "4  1000_380     1000 2018-12-30      4.22"
      ]
     },
     "execution_count": 16,
     "metadata": {},
     "output_type": "execute_result"
    }
   ],
   "source": [
    "# Step 1 - Correct the date column\n",
    "df_calls['call_date'] = pd.to_datetime(df_calls['call_date'], format=\"%Y-%m-%d\")\n",
    "df_calls.head()"
   ]
  },
  {
   "cell_type": "code",
   "execution_count": 17,
   "metadata": {},
   "outputs": [
    {
     "data": {
      "text/html": [
       "<div>\n",
       "<style scoped>\n",
       "    .dataframe tbody tr th:only-of-type {\n",
       "        vertical-align: middle;\n",
       "    }\n",
       "\n",
       "    .dataframe tbody tr th {\n",
       "        vertical-align: top;\n",
       "    }\n",
       "\n",
       "    .dataframe thead th {\n",
       "        text-align: right;\n",
       "    }\n",
       "</style>\n",
       "<table border=\"1\" class=\"dataframe\">\n",
       "  <thead>\n",
       "    <tr style=\"text-align: right;\">\n",
       "      <th></th>\n",
       "      <th>id</th>\n",
       "      <th>user_id</th>\n",
       "      <th>call_date</th>\n",
       "      <th>duration</th>\n",
       "    </tr>\n",
       "  </thead>\n",
       "  <tbody>\n",
       "  </tbody>\n",
       "</table>\n",
       "</div>"
      ],
      "text/plain": [
       "Empty DataFrame\n",
       "Columns: [id, user_id, call_date, duration]\n",
       "Index: []"
      ]
     },
     "execution_count": 17,
     "metadata": {},
     "output_type": "execute_result"
    }
   ],
   "source": [
    "# Step 2 - Convert 0s to 1s\n",
    "df_calls['duration'] = df_calls['duration'].replace(0, 1)\n",
    "df_calls.query(\"duration == 0\")"
   ]
  },
  {
   "cell_type": "code",
   "execution_count": 18,
   "metadata": {},
   "outputs": [
    {
     "data": {
      "text/html": [
       "<div>\n",
       "<style scoped>\n",
       "    .dataframe tbody tr th:only-of-type {\n",
       "        vertical-align: middle;\n",
       "    }\n",
       "\n",
       "    .dataframe tbody tr th {\n",
       "        vertical-align: top;\n",
       "    }\n",
       "\n",
       "    .dataframe thead th {\n",
       "        text-align: right;\n",
       "    }\n",
       "</style>\n",
       "<table border=\"1\" class=\"dataframe\">\n",
       "  <thead>\n",
       "    <tr style=\"text-align: right;\">\n",
       "      <th></th>\n",
       "      <th>id</th>\n",
       "      <th>user_id</th>\n",
       "      <th>call_date</th>\n",
       "      <th>duration</th>\n",
       "    </tr>\n",
       "  </thead>\n",
       "  <tbody>\n",
       "    <tr>\n",
       "      <th>51859</th>\n",
       "      <td>1187_52</td>\n",
       "      <td>1187</td>\n",
       "      <td>2018-12-12</td>\n",
       "      <td>20</td>\n",
       "    </tr>\n",
       "    <tr>\n",
       "      <th>123778</th>\n",
       "      <td>1436_785</td>\n",
       "      <td>1436</td>\n",
       "      <td>2018-09-11</td>\n",
       "      <td>4</td>\n",
       "    </tr>\n",
       "    <tr>\n",
       "      <th>59688</th>\n",
       "      <td>1215_73</td>\n",
       "      <td>1215</td>\n",
       "      <td>2018-09-26</td>\n",
       "      <td>1</td>\n",
       "    </tr>\n",
       "    <tr>\n",
       "      <th>124129</th>\n",
       "      <td>1438_177</td>\n",
       "      <td>1438</td>\n",
       "      <td>2018-11-11</td>\n",
       "      <td>1</td>\n",
       "    </tr>\n",
       "    <tr>\n",
       "      <th>53456</th>\n",
       "      <td>1192_229</td>\n",
       "      <td>1192</td>\n",
       "      <td>2018-11-04</td>\n",
       "      <td>1</td>\n",
       "    </tr>\n",
       "    <tr>\n",
       "      <th>55919</th>\n",
       "      <td>1201_17</td>\n",
       "      <td>1201</td>\n",
       "      <td>2018-07-29</td>\n",
       "      <td>1</td>\n",
       "    </tr>\n",
       "    <tr>\n",
       "      <th>85050</th>\n",
       "      <td>1313_30</td>\n",
       "      <td>1313</td>\n",
       "      <td>2018-06-14</td>\n",
       "      <td>1</td>\n",
       "    </tr>\n",
       "    <tr>\n",
       "      <th>32879</th>\n",
       "      <td>1123_237</td>\n",
       "      <td>1123</td>\n",
       "      <td>2018-11-03</td>\n",
       "      <td>1</td>\n",
       "    </tr>\n",
       "    <tr>\n",
       "      <th>16147</th>\n",
       "      <td>1064_5</td>\n",
       "      <td>1064</td>\n",
       "      <td>2018-07-17</td>\n",
       "      <td>13</td>\n",
       "    </tr>\n",
       "    <tr>\n",
       "      <th>124993</th>\n",
       "      <td>1440_509</td>\n",
       "      <td>1440</td>\n",
       "      <td>2018-08-03</td>\n",
       "      <td>5</td>\n",
       "    </tr>\n",
       "  </tbody>\n",
       "</table>\n",
       "</div>"
      ],
      "text/plain": [
       "              id  user_id  call_date  duration\n",
       "51859    1187_52     1187 2018-12-12        20\n",
       "123778  1436_785     1436 2018-09-11         4\n",
       "59688    1215_73     1215 2018-09-26         1\n",
       "124129  1438_177     1438 2018-11-11         1\n",
       "53456   1192_229     1192 2018-11-04         1\n",
       "55919    1201_17     1201 2018-07-29         1\n",
       "85050    1313_30     1313 2018-06-14         1\n",
       "32879   1123_237     1123 2018-11-03         1\n",
       "16147     1064_5     1064 2018-07-17        13\n",
       "124993  1440_509     1440 2018-08-03         5"
      ]
     },
     "execution_count": 18,
     "metadata": {},
     "output_type": "execute_result"
    }
   ],
   "source": [
    "# Step 3 - Round all call durations to the next highest minute value\n",
    "df_calls['duration'] = df_calls['duration'].apply(math.ceil)\n",
    "df_calls.sample(10, random_state=10)"
   ]
  },
  {
   "cell_type": "markdown",
   "metadata": {},
   "source": [
    "<div class=\"alert alert-block alert-warning\">\n",
    "<b>Reviewer's comment v1</b>\n",
    " \n",
    "Good that you did not forget about data rounding. Also, great choice of `math.ceil` function :)\n",
    "As a second approach you could also use `np.ceil` here. \n",
    "\n",
    "`calls['duration'] = np.ceil(calls['duration'])`"
   ]
  },
  {
   "cell_type": "markdown",
   "metadata": {},
   "source": [
    "### Enrich data"
   ]
  },
  {
   "cell_type": "code",
   "execution_count": 19,
   "metadata": {},
   "outputs": [
    {
     "name": "stdout",
     "output_type": "stream",
     "text": [
      "0\n"
     ]
    }
   ],
   "source": [
    "print(df_calls.duplicated().sum()) #this type of data would be challenging to define duplicate values"
   ]
  },
  {
   "cell_type": "markdown",
   "metadata": {
    "jp-MarkdownHeadingCollapsed": true
   },
   "source": [
    "## Messages"
   ]
  },
  {
   "cell_type": "code",
   "execution_count": 20,
   "metadata": {},
   "outputs": [
    {
     "name": "stdout",
     "output_type": "stream",
     "text": [
      "<class 'pandas.core.frame.DataFrame'>\n",
      "RangeIndex: 76051 entries, 0 to 76050\n",
      "Data columns (total 3 columns):\n",
      " #   Column        Non-Null Count  Dtype \n",
      "---  ------        --------------  ----- \n",
      " 0   id            76051 non-null  object\n",
      " 1   user_id       76051 non-null  int64 \n",
      " 2   message_date  76051 non-null  object\n",
      "dtypes: int64(1), object(2)\n",
      "memory usage: 1.7+ MB\n"
     ]
    }
   ],
   "source": [
    "# Print the general/summary information about the messages' DataFrame\n",
    "df_messages.info()"
   ]
  },
  {
   "cell_type": "code",
   "execution_count": 21,
   "metadata": {},
   "outputs": [
    {
     "data": {
      "text/html": [
       "<div>\n",
       "<style scoped>\n",
       "    .dataframe tbody tr th:only-of-type {\n",
       "        vertical-align: middle;\n",
       "    }\n",
       "\n",
       "    .dataframe tbody tr th {\n",
       "        vertical-align: top;\n",
       "    }\n",
       "\n",
       "    .dataframe thead th {\n",
       "        text-align: right;\n",
       "    }\n",
       "</style>\n",
       "<table border=\"1\" class=\"dataframe\">\n",
       "  <thead>\n",
       "    <tr style=\"text-align: right;\">\n",
       "      <th></th>\n",
       "      <th>id</th>\n",
       "      <th>user_id</th>\n",
       "      <th>message_date</th>\n",
       "    </tr>\n",
       "  </thead>\n",
       "  <tbody>\n",
       "    <tr>\n",
       "      <th>7593</th>\n",
       "      <td>1059_476</td>\n",
       "      <td>1059</td>\n",
       "      <td>2018-08-17</td>\n",
       "    </tr>\n",
       "    <tr>\n",
       "      <th>39636</th>\n",
       "      <td>1257_189</td>\n",
       "      <td>1257</td>\n",
       "      <td>2018-05-11</td>\n",
       "    </tr>\n",
       "    <tr>\n",
       "      <th>56326</th>\n",
       "      <td>1355_516</td>\n",
       "      <td>1355</td>\n",
       "      <td>2018-10-23</td>\n",
       "    </tr>\n",
       "    <tr>\n",
       "      <th>59556</th>\n",
       "      <td>1379_33</td>\n",
       "      <td>1379</td>\n",
       "      <td>2018-12-03</td>\n",
       "    </tr>\n",
       "    <tr>\n",
       "      <th>1894</th>\n",
       "      <td>1019_66</td>\n",
       "      <td>1019</td>\n",
       "      <td>2018-12-25</td>\n",
       "    </tr>\n",
       "    <tr>\n",
       "      <th>18343</th>\n",
       "      <td>1120_112</td>\n",
       "      <td>1120</td>\n",
       "      <td>2018-06-04</td>\n",
       "    </tr>\n",
       "    <tr>\n",
       "      <th>477</th>\n",
       "      <td>1004_157</td>\n",
       "      <td>1004</td>\n",
       "      <td>2018-05-27</td>\n",
       "    </tr>\n",
       "    <tr>\n",
       "      <th>11080</th>\n",
       "      <td>1077_351</td>\n",
       "      <td>1077</td>\n",
       "      <td>2018-06-13</td>\n",
       "    </tr>\n",
       "    <tr>\n",
       "      <th>569</th>\n",
       "      <td>1006_127</td>\n",
       "      <td>1006</td>\n",
       "      <td>2018-12-17</td>\n",
       "    </tr>\n",
       "    <tr>\n",
       "      <th>34959</th>\n",
       "      <td>1223_49</td>\n",
       "      <td>1223</td>\n",
       "      <td>2018-11-01</td>\n",
       "    </tr>\n",
       "  </tbody>\n",
       "</table>\n",
       "</div>"
      ],
      "text/plain": [
       "             id  user_id message_date\n",
       "7593   1059_476     1059   2018-08-17\n",
       "39636  1257_189     1257   2018-05-11\n",
       "56326  1355_516     1355   2018-10-23\n",
       "59556   1379_33     1379   2018-12-03\n",
       "1894    1019_66     1019   2018-12-25\n",
       "18343  1120_112     1120   2018-06-04\n",
       "477    1004_157     1004   2018-05-27\n",
       "11080  1077_351     1077   2018-06-13\n",
       "569    1006_127     1006   2018-12-17\n",
       "34959   1223_49     1223   2018-11-01"
      ]
     },
     "execution_count": 21,
     "metadata": {},
     "output_type": "execute_result"
    }
   ],
   "source": [
    "# Print a sample of data for messages\n",
    "df_messages.sample(10)"
   ]
  },
  {
   "cell_type": "markdown",
   "metadata": {},
   "source": [
    "Like the other dataframes, the message_date column is reading as an object, I will need to convert this to a datetime. "
   ]
  },
  {
   "cell_type": "markdown",
   "metadata": {},
   "source": [
    " "
   ]
  },
  {
   "cell_type": "markdown",
   "metadata": {},
   "source": [
    "### Fix data"
   ]
  },
  {
   "cell_type": "code",
   "execution_count": 22,
   "metadata": {},
   "outputs": [],
   "source": [
    "df_messages['message_date'] = pd.to_datetime(df_messages['message_date'], format=\"%Y-%m-%d\")\n",
    "#df_messages.info()"
   ]
  },
  {
   "cell_type": "markdown",
   "metadata": {},
   "source": [
    "### Enrich data"
   ]
  },
  {
   "cell_type": "code",
   "execution_count": 23,
   "metadata": {},
   "outputs": [
    {
     "data": {
      "text/plain": [
       "0"
      ]
     },
     "execution_count": 23,
     "metadata": {},
     "output_type": "execute_result"
    }
   ],
   "source": [
    "df_messages.duplicated().sum()"
   ]
  },
  {
   "cell_type": "markdown",
   "metadata": {
    "jp-MarkdownHeadingCollapsed": true
   },
   "source": [
    "## Internet"
   ]
  },
  {
   "cell_type": "code",
   "execution_count": 24,
   "metadata": {},
   "outputs": [
    {
     "name": "stdout",
     "output_type": "stream",
     "text": [
      "<class 'pandas.core.frame.DataFrame'>\n",
      "RangeIndex: 104825 entries, 0 to 104824\n",
      "Data columns (total 4 columns):\n",
      " #   Column        Non-Null Count   Dtype  \n",
      "---  ------        --------------   -----  \n",
      " 0   id            104825 non-null  object \n",
      " 1   user_id       104825 non-null  int64  \n",
      " 2   session_date  104825 non-null  object \n",
      " 3   mb_used       104825 non-null  float64\n",
      "dtypes: float64(1), int64(1), object(2)\n",
      "memory usage: 3.2+ MB\n"
     ]
    }
   ],
   "source": [
    "# Print the general/summary information about the internet DataFrame\n",
    "df_internet.info()"
   ]
  },
  {
   "cell_type": "code",
   "execution_count": 25,
   "metadata": {},
   "outputs": [
    {
     "data": {
      "text/html": [
       "<div>\n",
       "<style scoped>\n",
       "    .dataframe tbody tr th:only-of-type {\n",
       "        vertical-align: middle;\n",
       "    }\n",
       "\n",
       "    .dataframe tbody tr th {\n",
       "        vertical-align: top;\n",
       "    }\n",
       "\n",
       "    .dataframe thead th {\n",
       "        text-align: right;\n",
       "    }\n",
       "</style>\n",
       "<table border=\"1\" class=\"dataframe\">\n",
       "  <thead>\n",
       "    <tr style=\"text-align: right;\">\n",
       "      <th></th>\n",
       "      <th>id</th>\n",
       "      <th>user_id</th>\n",
       "      <th>session_date</th>\n",
       "      <th>mb_used</th>\n",
       "    </tr>\n",
       "  </thead>\n",
       "  <tbody>\n",
       "    <tr>\n",
       "      <th>86743</th>\n",
       "      <td>1403_91</td>\n",
       "      <td>1403</td>\n",
       "      <td>2018-04-04</td>\n",
       "      <td>807.32</td>\n",
       "    </tr>\n",
       "    <tr>\n",
       "      <th>43491</th>\n",
       "      <td>1193_414</td>\n",
       "      <td>1193</td>\n",
       "      <td>2018-07-09</td>\n",
       "      <td>0.00</td>\n",
       "    </tr>\n",
       "    <tr>\n",
       "      <th>84349</th>\n",
       "      <td>1392_317</td>\n",
       "      <td>1392</td>\n",
       "      <td>2018-11-16</td>\n",
       "      <td>325.80</td>\n",
       "    </tr>\n",
       "    <tr>\n",
       "      <th>70226</th>\n",
       "      <td>1328_185</td>\n",
       "      <td>1328</td>\n",
       "      <td>2018-12-19</td>\n",
       "      <td>155.08</td>\n",
       "    </tr>\n",
       "    <tr>\n",
       "      <th>57837</th>\n",
       "      <td>1261_299</td>\n",
       "      <td>1261</td>\n",
       "      <td>2018-07-26</td>\n",
       "      <td>775.39</td>\n",
       "    </tr>\n",
       "    <tr>\n",
       "      <th>67489</th>\n",
       "      <td>1313_163</td>\n",
       "      <td>1313</td>\n",
       "      <td>2018-10-19</td>\n",
       "      <td>288.88</td>\n",
       "    </tr>\n",
       "    <tr>\n",
       "      <th>28716</th>\n",
       "      <td>1132_98</td>\n",
       "      <td>1132</td>\n",
       "      <td>2018-06-13</td>\n",
       "      <td>0.00</td>\n",
       "    </tr>\n",
       "    <tr>\n",
       "      <th>25665</th>\n",
       "      <td>1120_187</td>\n",
       "      <td>1120</td>\n",
       "      <td>2018-09-07</td>\n",
       "      <td>728.02</td>\n",
       "    </tr>\n",
       "    <tr>\n",
       "      <th>92752</th>\n",
       "      <td>1433_136</td>\n",
       "      <td>1433</td>\n",
       "      <td>2018-12-01</td>\n",
       "      <td>378.67</td>\n",
       "    </tr>\n",
       "    <tr>\n",
       "      <th>8087</th>\n",
       "      <td>1043_171</td>\n",
       "      <td>1043</td>\n",
       "      <td>2018-11-23</td>\n",
       "      <td>515.70</td>\n",
       "    </tr>\n",
       "  </tbody>\n",
       "</table>\n",
       "</div>"
      ],
      "text/plain": [
       "             id  user_id session_date  mb_used\n",
       "86743   1403_91     1403   2018-04-04   807.32\n",
       "43491  1193_414     1193   2018-07-09     0.00\n",
       "84349  1392_317     1392   2018-11-16   325.80\n",
       "70226  1328_185     1328   2018-12-19   155.08\n",
       "57837  1261_299     1261   2018-07-26   775.39\n",
       "67489  1313_163     1313   2018-10-19   288.88\n",
       "28716   1132_98     1132   2018-06-13     0.00\n",
       "25665  1120_187     1120   2018-09-07   728.02\n",
       "92752  1433_136     1433   2018-12-01   378.67\n",
       "8087   1043_171     1043   2018-11-23   515.70"
      ]
     },
     "execution_count": 25,
     "metadata": {},
     "output_type": "execute_result"
    }
   ],
   "source": [
    "# Print a sample of data for the internet traffic\n",
    "df_internet.sample(10, random_state=50)"
   ]
  },
  {
   "cell_type": "markdown",
   "metadata": {},
   "source": [
    "A common theme that the date column is read as an object, I will need to convert this to datetime. Secondly, unlike the calls data with the duration information, Megaline has informed us that they do their rounding of internet usage at the end of the month, so we will need to perform some aggregation before executing that round, I will not be doing that at this base level. However, the 0 MB used is of no use to me or Megaline, I will remove these."
   ]
  },
  {
   "cell_type": "markdown",
   "metadata": {},
   "source": [
    " "
   ]
  },
  {
   "cell_type": "markdown",
   "metadata": {},
   "source": [
    "### Fix data"
   ]
  },
  {
   "cell_type": "code",
   "execution_count": 26,
   "metadata": {},
   "outputs": [],
   "source": [
    "# Step 1 - Correct the date field. \n",
    "df_internet['session_date'] = pd.to_datetime(df_internet['session_date'])\n",
    "#df_internet.info()"
   ]
  },
  {
   "cell_type": "code",
   "execution_count": 27,
   "metadata": {},
   "outputs": [
    {
     "name": "stdout",
     "output_type": "stream",
     "text": [
      "Previously, our internet data contained 104,825 rows of data, and after removing all of the 0 mb sessions, which\n",
      "contributes nothing to the overall sum, there are 91,078 rows of data. \n",
      "I have removed 13,747 rows of data.\n"
     ]
    }
   ],
   "source": [
    "# Step 2 - Remove the 0s in mb_used\n",
    "mb_used_nulls = df_internet.query(\"mb_used == 0\")\n",
    "\n",
    "df_internet = df_internet.drop(index=mb_used_nulls.index)\n",
    "print(f\"\"\"Previously, our internet data contained 104,825 rows of data, and after removing all of the 0 mb sessions, which\n",
    "contributes nothing to the overall sum, there are {len(df_internet):,} rows of data. \n",
    "I have removed {104825 - len(df_internet):,} rows of data.\"\"\")"
   ]
  },
  {
   "cell_type": "markdown",
   "metadata": {},
   "source": [
    "### Enrich data"
   ]
  },
  {
   "cell_type": "code",
   "execution_count": 28,
   "metadata": {},
   "outputs": [
    {
     "name": "stdout",
     "output_type": "stream",
     "text": [
      "<class 'pandas.core.frame.DataFrame'>\n",
      "RangeIndex: 76051 entries, 0 to 76050\n",
      "Data columns (total 3 columns):\n",
      " #   Column        Non-Null Count  Dtype         \n",
      "---  ------        --------------  -----         \n",
      " 0   id            76051 non-null  object        \n",
      " 1   user_id       76051 non-null  int64         \n",
      " 2   message_date  76051 non-null  datetime64[ns]\n",
      "dtypes: datetime64[ns](1), int64(1), object(1)\n",
      "memory usage: 1.7+ MB\n"
     ]
    }
   ],
   "source": [
    "df_messages.info()"
   ]
  },
  {
   "cell_type": "markdown",
   "metadata": {
    "jp-MarkdownHeadingCollapsed": true
   },
   "source": [
    "## Study plan conditions"
   ]
  },
  {
   "cell_type": "code",
   "execution_count": 29,
   "metadata": {},
   "outputs": [
    {
     "data": {
      "text/html": [
       "<div>\n",
       "<style scoped>\n",
       "    .dataframe tbody tr th:only-of-type {\n",
       "        vertical-align: middle;\n",
       "    }\n",
       "\n",
       "    .dataframe tbody tr th {\n",
       "        vertical-align: top;\n",
       "    }\n",
       "\n",
       "    .dataframe thead th {\n",
       "        text-align: right;\n",
       "    }\n",
       "</style>\n",
       "<table border=\"1\" class=\"dataframe\">\n",
       "  <thead>\n",
       "    <tr style=\"text-align: right;\">\n",
       "      <th></th>\n",
       "      <th>messages_included</th>\n",
       "      <th>mb_per_month_included</th>\n",
       "      <th>minutes_included</th>\n",
       "      <th>usd_monthly_pay</th>\n",
       "      <th>usd_per_gb</th>\n",
       "      <th>usd_per_message</th>\n",
       "      <th>usd_per_minute</th>\n",
       "      <th>plan_name</th>\n",
       "    </tr>\n",
       "  </thead>\n",
       "  <tbody>\n",
       "    <tr>\n",
       "      <th>0</th>\n",
       "      <td>50</td>\n",
       "      <td>15360</td>\n",
       "      <td>500</td>\n",
       "      <td>20</td>\n",
       "      <td>10</td>\n",
       "      <td>0.03</td>\n",
       "      <td>0.03</td>\n",
       "      <td>surf</td>\n",
       "    </tr>\n",
       "    <tr>\n",
       "      <th>1</th>\n",
       "      <td>1000</td>\n",
       "      <td>30720</td>\n",
       "      <td>3000</td>\n",
       "      <td>70</td>\n",
       "      <td>7</td>\n",
       "      <td>0.01</td>\n",
       "      <td>0.01</td>\n",
       "      <td>ultimate</td>\n",
       "    </tr>\n",
       "  </tbody>\n",
       "</table>\n",
       "</div>"
      ],
      "text/plain": [
       "   messages_included  mb_per_month_included  minutes_included  \\\n",
       "0                 50                  15360               500   \n",
       "1               1000                  30720              3000   \n",
       "\n",
       "   usd_monthly_pay  usd_per_gb  usd_per_message  usd_per_minute plan_name  \n",
       "0               20          10             0.03            0.03      surf  \n",
       "1               70           7             0.01            0.01  ultimate  "
      ]
     },
     "execution_count": 29,
     "metadata": {},
     "output_type": "execute_result"
    }
   ],
   "source": [
    "# Print out the plan conditions and make sure they are clear for you\n",
    "df_plans"
   ]
  },
  {
   "cell_type": "markdown",
   "metadata": {},
   "source": [
    " ***Surf Plan***\n",
    "\n",
    "1. **Monthly Charge**: $20\n",
    "2. **Included in the Plan**:\n",
    "    - 500 monthly minutes\n",
    "    - 50 texts\n",
    "    - 15 GB of data\n",
    "\n",
    "**After exceeding the package limits**:\n",
    "- Additional 1 minute: 3 cents\n",
    "- Additional 1 text message: 3 cents\n",
    "- Additional 1 GB of data: $10\n",
    "\n",
    "***Ultimate Plan***\n",
    "\n",
    "1. **Monthly Charge**: $70\n",
    "2. **Included in the Plan**:\n",
    "    - 3000 monthly minutes\n",
    "    - 1000 text messages\n",
    "    - 30 GB of data\n",
    "\n",
    "**After exceeding the package limits**:\n",
    "- Additional 1 minute: 1 cent\n",
    "- Additional 1 text message: 1 cent\n",
    "- Additional 1 GB of data: $7\n"
   ]
  },
  {
   "cell_type": "markdown",
   "metadata": {},
   "source": [
    "<div class=\"alert alert-success\">\n",
    "<b>Reviewer's comment v1:</b>\n",
    "    \n",
    "Everything is correct here. "
   ]
  },
  {
   "cell_type": "markdown",
   "metadata": {
    "jp-MarkdownHeadingCollapsed": true
   },
   "source": [
    "## Aggregate data per user"
   ]
  },
  {
   "cell_type": "code",
   "execution_count": 30,
   "metadata": {},
   "outputs": [
    {
     "data": {
      "image/png": "[encoded data removed]",
      "text/plain": [
       "<Figure size 640x480 with 1 Axes>"
      ]
     },
     "metadata": {},
     "output_type": "display_data"
    }
   ],
   "source": [
    "# Calculate the number of calls made by each user per month. Save the result.\n",
    "\n",
    "# Will begin by making a new month column in order to group by this. \n",
    "df_calls['month'] = df_calls['call_date'].dt.month\n",
    "\n",
    "num_of_calls = df_calls.groupby(['user_id', 'month']).size().reset_index(name='call_count')\n",
    "#print(num_of_calls)\n",
    "\n",
    "#can plot this with a histogram\n",
    "num_of_calls['call_count'].plot(kind='hist',\n",
    "                                bins=27, #Rice Rule\n",
    "                                color='brown',\n",
    "                                edgecolor='green',\n",
    "                                title=\"Frequency of Calls Per User - Monthly Totals\")\n",
    "\n",
    "plt.xlabel('Number of Calls Per Month')\n",
    "plt.show()"
   ]
  },
  {
   "cell_type": "code",
   "execution_count": 31,
   "metadata": {},
   "outputs": [
    {
     "data": {
      "image/png": "[encoded data removed]",
      "text/plain": [
       "<Figure size 640x480 with 1 Axes>"
      ]
     },
     "metadata": {},
     "output_type": "display_data"
    }
   ],
   "source": [
    "# Calculate the amount of minutes spent by each user per month. Save the result.\n",
    "mins_spent = df_calls.groupby(['user_id', 'month'])['duration'].sum().reset_index(name='mins_spent')\n",
    "\n",
    "# Will represent this with a histogram\n",
    "mins_spent['mins_spent'].plot(kind='hist',\n",
    "                                bins=26, #Rice Rule\n",
    "                                color='green',\n",
    "                                edgecolor='brown',\n",
    "                                title=\"Frequency of Mins Spent Per User - Monthly Totals\")\n",
    "\n",
    "plt.xlabel('Number of Minutes Spent Per Month')\n",
    "plt.show()"
   ]
  },
  {
   "cell_type": "markdown",
   "metadata": {},
   "source": [
    "<div class=\"alert alert-warning\" role=\"alert\">\n",
    "<b>Reviewer's comment v1:</b>\n",
    "    \n",
    "In pivot_table or groupby it is possible to pass multiple arguments, so here, you can create an aggregated table in one go like this:\n",
    "\n",
    "\n",
    "```\n",
    "flattened_calls = calls.groupby(['user_id', 'month']).agg({'duration': ('count', 'sum')}).reset_index()\n",
    "flattened_calls.columns = ['user_id', 'month', 'count', 'sum']\n",
    "flattened_calls\n",
    "```\n",
    "\n",
    "or \n",
    "\n",
    "```\n",
    "data_calls.pivot_table(index = ('user_id','month'), values = 'duration', aggfunc = ('count','sum')).reset_index()\n",
    "```"
   ]
  },
  {
   "cell_type": "markdown",
   "metadata": {},
   "source": [
    "Interesting to note how similar this histogram is to the previous one. It makes sense as well, those making similar amount of calls might spend a similar amount of time on the phone - even though these things are completely independent of each other. More of a coincidence than something that should be expected. "
   ]
  },
  {
   "cell_type": "code",
   "execution_count": 32,
   "metadata": {},
   "outputs": [
    {
     "data": {
      "text/html": [
       "<div>\n",
       "<style scoped>\n",
       "    .dataframe tbody tr th:only-of-type {\n",
       "        vertical-align: middle;\n",
       "    }\n",
       "\n",
       "    .dataframe tbody tr th {\n",
       "        vertical-align: top;\n",
       "    }\n",
       "\n",
       "    .dataframe thead th {\n",
       "        text-align: right;\n",
       "    }\n",
       "</style>\n",
       "<table border=\"1\" class=\"dataframe\">\n",
       "  <thead>\n",
       "    <tr style=\"text-align: right;\">\n",
       "      <th></th>\n",
       "      <th>user_id</th>\n",
       "      <th>month</th>\n",
       "      <th>message_count</th>\n",
       "    </tr>\n",
       "  </thead>\n",
       "  <tbody>\n",
       "    <tr>\n",
       "      <th>0</th>\n",
       "      <td>1000</td>\n",
       "      <td>12</td>\n",
       "      <td>11</td>\n",
       "    </tr>\n",
       "    <tr>\n",
       "      <th>1</th>\n",
       "      <td>1001</td>\n",
       "      <td>8</td>\n",
       "      <td>30</td>\n",
       "    </tr>\n",
       "    <tr>\n",
       "      <th>2</th>\n",
       "      <td>1001</td>\n",
       "      <td>9</td>\n",
       "      <td>44</td>\n",
       "    </tr>\n",
       "    <tr>\n",
       "      <th>3</th>\n",
       "      <td>1001</td>\n",
       "      <td>10</td>\n",
       "      <td>53</td>\n",
       "    </tr>\n",
       "    <tr>\n",
       "      <th>4</th>\n",
       "      <td>1001</td>\n",
       "      <td>11</td>\n",
       "      <td>36</td>\n",
       "    </tr>\n",
       "    <tr>\n",
       "      <th>...</th>\n",
       "      <td>...</td>\n",
       "      <td>...</td>\n",
       "      <td>...</td>\n",
       "    </tr>\n",
       "    <tr>\n",
       "      <th>1801</th>\n",
       "      <td>1496</td>\n",
       "      <td>9</td>\n",
       "      <td>21</td>\n",
       "    </tr>\n",
       "    <tr>\n",
       "      <th>1802</th>\n",
       "      <td>1496</td>\n",
       "      <td>10</td>\n",
       "      <td>18</td>\n",
       "    </tr>\n",
       "    <tr>\n",
       "      <th>1803</th>\n",
       "      <td>1496</td>\n",
       "      <td>11</td>\n",
       "      <td>13</td>\n",
       "    </tr>\n",
       "    <tr>\n",
       "      <th>1804</th>\n",
       "      <td>1496</td>\n",
       "      <td>12</td>\n",
       "      <td>11</td>\n",
       "    </tr>\n",
       "    <tr>\n",
       "      <th>1805</th>\n",
       "      <td>1497</td>\n",
       "      <td>12</td>\n",
       "      <td>50</td>\n",
       "    </tr>\n",
       "  </tbody>\n",
       "</table>\n",
       "<p>1806 rows × 3 columns</p>\n",
       "</div>"
      ],
      "text/plain": [
       "      user_id  month  message_count\n",
       "0        1000     12             11\n",
       "1        1001      8             30\n",
       "2        1001      9             44\n",
       "3        1001     10             53\n",
       "4        1001     11             36\n",
       "...       ...    ...            ...\n",
       "1801     1496      9             21\n",
       "1802     1496     10             18\n",
       "1803     1496     11             13\n",
       "1804     1496     12             11\n",
       "1805     1497     12             50\n",
       "\n",
       "[1806 rows x 3 columns]"
      ]
     },
     "execution_count": 32,
     "metadata": {},
     "output_type": "execute_result"
    }
   ],
   "source": [
    "# Calculate the number of messages sent by each user per month. Save the result.\n",
    "\n",
    "# To do this per month, I will make a new column that obtains the month data\n",
    "df_messages['month'] = df_messages['message_date'].dt.month\n",
    "df_messages.head(5)\n",
    "\n",
    "# Next create a pivot table displaying all users\n",
    "num_of_messages = df_messages.pivot_table(index=['user_id', 'month'],\n",
    "                                          values='id',\n",
    "                                          aggfunc='count').reset_index()\n",
    "\n",
    "num_of_messages.columns = ['user_id', 'month', 'message_count']\n",
    "num_of_messages"
   ]
  },
  {
   "cell_type": "markdown",
   "metadata": {},
   "source": [
    "<div class=\"alert alert-block alert-warning\">\n",
    "<b>Reviewer's comment v1</b>\n",
    " \n",
    "Everything is correct here, but it is always helpful to double-check whether we indeed have data within one year/time period. If not, then selecting and aggregating data by the month number will cause an issue. It is safer to use datetime64[M], which provides a complete date.\n",
    "\n",
    "Additionally, you could achieve the same using the following code: \n",
    "    \n",
    "```    \n",
    "calls['call_date'].dt.to_period('M')\n",
    "```"
   ]
  },
  {
   "cell_type": "code",
   "execution_count": 33,
   "metadata": {},
   "outputs": [
    {
     "data": {
      "text/html": [
       "<div>\n",
       "<style scoped>\n",
       "    .dataframe tbody tr th:only-of-type {\n",
       "        vertical-align: middle;\n",
       "    }\n",
       "\n",
       "    .dataframe tbody tr th {\n",
       "        vertical-align: top;\n",
       "    }\n",
       "\n",
       "    .dataframe thead th {\n",
       "        text-align: right;\n",
       "    }\n",
       "</style>\n",
       "<table border=\"1\" class=\"dataframe\">\n",
       "  <thead>\n",
       "    <tr style=\"text-align: right;\">\n",
       "      <th></th>\n",
       "      <th>user_id</th>\n",
       "      <th>month</th>\n",
       "      <th>mb_total</th>\n",
       "    </tr>\n",
       "  </thead>\n",
       "  <tbody>\n",
       "    <tr>\n",
       "      <th>1013</th>\n",
       "      <td>1212</td>\n",
       "      <td>10</td>\n",
       "      <td>12505</td>\n",
       "    </tr>\n",
       "    <tr>\n",
       "      <th>1170</th>\n",
       "      <td>1249</td>\n",
       "      <td>10</td>\n",
       "      <td>11661</td>\n",
       "    </tr>\n",
       "    <tr>\n",
       "      <th>954</th>\n",
       "      <td>1198</td>\n",
       "      <td>11</td>\n",
       "      <td>14362</td>\n",
       "    </tr>\n",
       "    <tr>\n",
       "      <th>1171</th>\n",
       "      <td>1250</td>\n",
       "      <td>10</td>\n",
       "      <td>8512</td>\n",
       "    </tr>\n",
       "    <tr>\n",
       "      <th>1689</th>\n",
       "      <td>1364</td>\n",
       "      <td>9</td>\n",
       "      <td>14819</td>\n",
       "    </tr>\n",
       "    <tr>\n",
       "      <th>1152</th>\n",
       "      <td>1246</td>\n",
       "      <td>5</td>\n",
       "      <td>19821</td>\n",
       "    </tr>\n",
       "    <tr>\n",
       "      <th>1835</th>\n",
       "      <td>1397</td>\n",
       "      <td>7</td>\n",
       "      <td>24073</td>\n",
       "    </tr>\n",
       "    <tr>\n",
       "      <th>2237</th>\n",
       "      <td>1492</td>\n",
       "      <td>9</td>\n",
       "      <td>3174</td>\n",
       "    </tr>\n",
       "    <tr>\n",
       "      <th>427</th>\n",
       "      <td>1090</td>\n",
       "      <td>6</td>\n",
       "      <td>15488</td>\n",
       "    </tr>\n",
       "    <tr>\n",
       "      <th>1757</th>\n",
       "      <td>1381</td>\n",
       "      <td>9</td>\n",
       "      <td>11831</td>\n",
       "    </tr>\n",
       "  </tbody>\n",
       "</table>\n",
       "</div>"
      ],
      "text/plain": [
       "      user_id  month  mb_total\n",
       "1013     1212     10     12505\n",
       "1170     1249     10     11661\n",
       "954      1198     11     14362\n",
       "1171     1250     10      8512\n",
       "1689     1364      9     14819\n",
       "1152     1246      5     19821\n",
       "1835     1397      7     24073\n",
       "2237     1492      9      3174\n",
       "427      1090      6     15488\n",
       "1757     1381      9     11831"
      ]
     },
     "execution_count": 33,
     "metadata": {},
     "output_type": "execute_result"
    }
   ],
   "source": [
    "# Calculate the volume of internet traffic used by each user per month. Save the result.\n",
    "\n",
    "# Again, to begin I will make a month column from the session_date column\n",
    "df_internet['month'] = df_internet['session_date'].dt.month\n",
    "df_internet.head(5)\n",
    "\n",
    "# Now use a pivot table to display information\n",
    "internet_volume = df_internet.pivot_table(index=['user_id', 'month'],\n",
    "                                          values='mb_used',\n",
    "                                          aggfunc='sum').reset_index()\n",
    "\n",
    "internet_volume.columns = ['user_id', 'month', 'mb_total']\n",
    "\n",
    "#note, these are the values that would be rounded up. I can go ahead and do that now. \n",
    "internet_volume['mb_total'] = internet_volume['mb_total'].apply(math.ceil)\n",
    "internet_volume.sample(10, random_state=5) #looks good"
   ]
  },
  {
   "cell_type": "code",
   "execution_count": 34,
   "metadata": {},
   "outputs": [
    {
     "name": "stdout",
     "output_type": "stream",
     "text": [
      "internet_volume = Index(['user_id', 'month', 'mb_total'], dtype='object').\n",
      "num_of_messages = Index(['user_id', 'month', 'message_count'], dtype='object').\n",
      "mins_spent = Index(['user_id', 'month', 'mins_spent'], dtype='object').\n",
      "num_of_calls = Index(['user_id', 'month', 'call_count'], dtype='object').\n"
     ]
    }
   ],
   "source": [
    "# Merge the data for calls, minutes, messages, internet based on user_id and month\n",
    "print(f\"internet_volume = {internet_volume.columns}.\")\n",
    "print(f\"num_of_messages = {num_of_messages.columns}.\")\n",
    "print(f\"mins_spent = {mins_spent.columns}.\")\n",
    "print(f\"num_of_calls = {num_of_calls.columns}.\")\n",
    "\n",
    "# Will need to perform a series of merges."
   ]
  },
  {
   "cell_type": "code",
   "execution_count": 35,
   "metadata": {},
   "outputs": [
    {
     "name": "stdout",
     "output_type": "stream",
     "text": [
      "<class 'pandas.core.frame.DataFrame'>\n",
      "RangeIndex: 1759 entries, 0 to 1758\n",
      "Data columns (total 6 columns):\n",
      " #   Column         Non-Null Count  Dtype\n",
      "---  ------         --------------  -----\n",
      " 0   user_id        1759 non-null   int64\n",
      " 1   month          1759 non-null   int32\n",
      " 2   mb_total       1759 non-null   int64\n",
      " 3   message_count  1759 non-null   int64\n",
      " 4   mins_spent     1759 non-null   int64\n",
      " 5   call_count     1759 non-null   int64\n",
      "dtypes: int32(1), int64(5)\n",
      "memory usage: 75.7 KB\n"
     ]
    }
   ],
   "source": [
    "final_data = pd.merge(internet_volume, num_of_messages, on=['month', 'user_id'], how='inner')\n",
    "final_data = pd.merge(final_data, mins_spent, on=['month', 'user_id'], how='inner')\n",
    "final_data = pd.merge(final_data, num_of_calls, on=['month', 'user_id'], how='inner')\n",
    "\n",
    "final_data.head(10).sort_values(by=['month', 'user_id']) #looks good\n",
    "final_data.info()"
   ]
  },
  {
   "cell_type": "code",
   "execution_count": 36,
   "metadata": {},
   "outputs": [
    {
     "data": {
      "text/html": [
       "<div>\n",
       "<style scoped>\n",
       "    .dataframe tbody tr th:only-of-type {\n",
       "        vertical-align: middle;\n",
       "    }\n",
       "\n",
       "    .dataframe tbody tr th {\n",
       "        vertical-align: top;\n",
       "    }\n",
       "\n",
       "    .dataframe thead th {\n",
       "        text-align: right;\n",
       "    }\n",
       "</style>\n",
       "<table border=\"1\" class=\"dataframe\">\n",
       "  <thead>\n",
       "    <tr style=\"text-align: right;\">\n",
       "      <th></th>\n",
       "      <th>user_id</th>\n",
       "      <th>month</th>\n",
       "      <th>mb_total</th>\n",
       "      <th>message_count</th>\n",
       "      <th>mins_spent</th>\n",
       "      <th>call_count</th>\n",
       "      <th>plan</th>\n",
       "    </tr>\n",
       "  </thead>\n",
       "  <tbody>\n",
       "    <tr>\n",
       "      <th>1</th>\n",
       "      <td>1001</td>\n",
       "      <td>8</td>\n",
       "      <td>6920</td>\n",
       "      <td>30</td>\n",
       "      <td>187</td>\n",
       "      <td>27</td>\n",
       "      <td>surf</td>\n",
       "    </tr>\n",
       "    <tr>\n",
       "      <th>2</th>\n",
       "      <td>1001</td>\n",
       "      <td>9</td>\n",
       "      <td>13315</td>\n",
       "      <td>44</td>\n",
       "      <td>326</td>\n",
       "      <td>49</td>\n",
       "      <td>surf</td>\n",
       "    </tr>\n",
       "    <tr>\n",
       "      <th>3</th>\n",
       "      <td>1001</td>\n",
       "      <td>10</td>\n",
       "      <td>22331</td>\n",
       "      <td>53</td>\n",
       "      <td>411</td>\n",
       "      <td>65</td>\n",
       "      <td>surf</td>\n",
       "    </tr>\n",
       "    <tr>\n",
       "      <th>6</th>\n",
       "      <td>1002</td>\n",
       "      <td>10</td>\n",
       "      <td>6553</td>\n",
       "      <td>15</td>\n",
       "      <td>62</td>\n",
       "      <td>11</td>\n",
       "      <td>surf</td>\n",
       "    </tr>\n",
       "    <tr>\n",
       "      <th>4</th>\n",
       "      <td>1001</td>\n",
       "      <td>11</td>\n",
       "      <td>18505</td>\n",
       "      <td>36</td>\n",
       "      <td>441</td>\n",
       "      <td>64</td>\n",
       "      <td>surf</td>\n",
       "    </tr>\n",
       "    <tr>\n",
       "      <th>7</th>\n",
       "      <td>1002</td>\n",
       "      <td>11</td>\n",
       "      <td>19346</td>\n",
       "      <td>32</td>\n",
       "      <td>393</td>\n",
       "      <td>55</td>\n",
       "      <td>surf</td>\n",
       "    </tr>\n",
       "    <tr>\n",
       "      <th>0</th>\n",
       "      <td>1000</td>\n",
       "      <td>12</td>\n",
       "      <td>1902</td>\n",
       "      <td>11</td>\n",
       "      <td>124</td>\n",
       "      <td>16</td>\n",
       "      <td>ultimate</td>\n",
       "    </tr>\n",
       "    <tr>\n",
       "      <th>5</th>\n",
       "      <td>1001</td>\n",
       "      <td>12</td>\n",
       "      <td>19370</td>\n",
       "      <td>44</td>\n",
       "      <td>422</td>\n",
       "      <td>56</td>\n",
       "      <td>surf</td>\n",
       "    </tr>\n",
       "    <tr>\n",
       "      <th>8</th>\n",
       "      <td>1002</td>\n",
       "      <td>12</td>\n",
       "      <td>14397</td>\n",
       "      <td>41</td>\n",
       "      <td>393</td>\n",
       "      <td>47</td>\n",
       "      <td>surf</td>\n",
       "    </tr>\n",
       "    <tr>\n",
       "      <th>9</th>\n",
       "      <td>1003</td>\n",
       "      <td>12</td>\n",
       "      <td>27045</td>\n",
       "      <td>50</td>\n",
       "      <td>1135</td>\n",
       "      <td>149</td>\n",
       "      <td>surf</td>\n",
       "    </tr>\n",
       "  </tbody>\n",
       "</table>\n",
       "</div>"
      ],
      "text/plain": [
       "   user_id  month  mb_total  message_count  mins_spent  call_count      plan\n",
       "1     1001      8      6920             30         187          27      surf\n",
       "2     1001      9     13315             44         326          49      surf\n",
       "3     1001     10     22331             53         411          65      surf\n",
       "6     1002     10      6553             15          62          11      surf\n",
       "4     1001     11     18505             36         441          64      surf\n",
       "7     1002     11     19346             32         393          55      surf\n",
       "0     1000     12      1902             11         124          16  ultimate\n",
       "5     1001     12     19370             44         422          56      surf\n",
       "8     1002     12     14397             41         393          47      surf\n",
       "9     1003     12     27045             50        1135         149      surf"
      ]
     },
     "execution_count": 36,
     "metadata": {},
     "output_type": "execute_result"
    }
   ],
   "source": [
    "# Add the plan information\n",
    "df_users_subset = df_users[['user_id', 'plan']]\n",
    "final_data = pd.merge(final_data, df_users_subset, on='user_id', how='inner')\n",
    "final_data.head(10).sort_values(by=['month', 'user_id'])"
   ]
  },
  {
   "cell_type": "markdown",
   "metadata": {},
   "source": [
    "<div class=\"alert alert-danger\" role=\"alert\">\n",
    "<b>Reviewer's comment v1:</b>\n",
    "    \n",
    "Here you need to use another way of joining tables (change the how parameter). Now, if users made calls, but did not send messages, it will not be tracked in the new table (the same with the Internet). This will happen because with the left method we take all the keys from the left table and look for their matches in the right table. If there are unique values in the right table, we will ignore them. For this task, we need to take all the records from the right and left tables. You can see about connections here https://www.freecodecamp.org/news/sql-join-types-inner-join-vs-outer-join-example/#:~:text=The biggest difference between an,table in the resulting table."
   ]
  },
  {
   "cell_type": "markdown",
   "metadata": {},
   "source": [
    "<div class=\"alert alert-block alert-info\"> <b>Student answer.</b> <a class=\"tocSkip\"></a> \n",
    "I switched to an outer join. Since this opens our data columns up to null values, is there a way to deal with the float type, or is that practical and acceptable?</div>"
   ]
  },
  {
   "cell_type": "markdown",
   "metadata": {},
   "source": [
    "<div class=\"alert alert-success\">\n",
    "<b>Reviewer's comment v2:</b>\n",
    "\n",
    "Indeed `how=outer` is a correct way of keeping all data. "
   ]
  },
  {
   "cell_type": "code",
   "execution_count": 37,
   "metadata": {},
   "outputs": [
    {
     "name": "stdout",
     "output_type": "stream",
     "text": [
      "    user_id  month  mb_total  message_count  mins_spent  call_count      plan\n",
      "0      1000     12      1902             11         124          16  ultimate\n",
      "19     1006     11      2069             15          10           2  ultimate\n",
      "20     1006     12     32119            139          61           9  ultimate\n",
      "26     1008     10     17107             21         493          71  ultimate\n",
      "27     1008     11     23677             37         459          63  ultimate\n",
      "   user_id  month  mb_total  message_count  mins_spent  call_count  plan\n",
      "1     1001      8      6920             30         187          27  surf\n",
      "2     1001      9     13315             44         326          49  surf\n",
      "3     1001     10     22331             53         411          65  surf\n",
      "4     1001     11     18505             36         441          64  surf\n",
      "5     1001     12     19370             44         422          56  surf\n"
     ]
    }
   ],
   "source": [
    "# for reference if needed\n",
    "ultimate_data = final_data.query(\"plan == 'ultimate'\")\n",
    "surf_data = final_data.query(\"plan == 'surf'\")\n",
    "print(ultimate_data.head())\n",
    "print(surf_data.head())"
   ]
  },
  {
   "cell_type": "code",
   "execution_count": 38,
   "metadata": {},
   "outputs": [],
   "source": [
    "# Calculate the monthly revenue for each user\n",
    "\n",
    "def revenue(month_user):\n",
    "    #begin with surf\n",
    "    if month_user['plan'] == 'surf':\n",
    "        base_charge = 20\n",
    "        additional_mins   = max(month_user['mins_spent'] - 500, 0)   #ensures that all values below 500 have 0 additional mins\n",
    "        additional_texts  = max(month_user['message_count'] - 50, 0)\n",
    "        additional_gigs   = max(month_user['mb_total'] - 15000, 0) / 1024   #divide by 1024 to convert to GB\n",
    "        additional_charge = (0.03)*(additional_mins) + (0.03)*(additional_texts) + (10)*(additional_gigs)\n",
    "    elif month_user['plan'] == 'ultimate':\n",
    "        base_charge = 50\n",
    "        additional_mins   = max(month_user['mins_spent'] - 500, 0)\n",
    "        additional_texts  = max(month_user['message_count'] - 50, 0)\n",
    "        additional_gigs   = max(month_user['mb_total'] - 15000, 0) / 1024   \n",
    "        additional_charge = (0.01)*(additional_mins) + (0.01)*(additional_texts) + (7)*(additional_gigs)\n",
    "    else:\n",
    "        print(f\"ALERT! THIS USER {row['user_id']} IS CHEATING THE SYSTEM!\") #shouldn't ever happen, fun code\n",
    "        \n",
    "    total_charge = round(additional_charge + base_charge, 2)\n",
    "    \n",
    "    return total_charge"
   ]
  },
  {
   "cell_type": "markdown",
   "metadata": {},
   "source": [
    "<div class=\"alert alert-warning\">\n",
    "<b>Reviewer's comment v1:</b>\n",
    "\n",
    "One minor remark is that you need to divide by 1024 to get GB."
   ]
  },
  {
   "cell_type": "markdown",
   "metadata": {},
   "source": [
    "<div class=\"alert alert-block alert-info\"> <b>Student answer.</b> <a class=\"tocSkip\"></a> \n",
    "Corrected. Thank you! I don't know why I was thinking it was 1000. </div>"
   ]
  },
  {
   "cell_type": "markdown",
   "metadata": {},
   "source": [
    "<div class=\"alert alert-success\">\n",
    "<b>Reviewer's comment v2:</b>\n",
    "\n",
    "👏 Eventually it all depends on the conversion system we choose. You can check it here: https://future-hacker.medium.com/1gb-1000mb-or-1024mb-what-is-right-there-is-some-twist-95cebeb436ec"
   ]
  },
  {
   "cell_type": "code",
   "execution_count": 39,
   "metadata": {},
   "outputs": [
    {
     "name": "stdout",
     "output_type": "stream",
     "text": [
      "The total revenue for the Ultimate Plan is 45,669.8.\n",
      "The total revenue for the Surf Plan is 70,336.29000000001.\n"
     ]
    },
    {
     "data": {
      "text/html": [
       "<div>\n",
       "<style scoped>\n",
       "    .dataframe tbody tr th:only-of-type {\n",
       "        vertical-align: middle;\n",
       "    }\n",
       "\n",
       "    .dataframe tbody tr th {\n",
       "        vertical-align: top;\n",
       "    }\n",
       "\n",
       "    .dataframe thead th {\n",
       "        text-align: right;\n",
       "    }\n",
       "</style>\n",
       "<table border=\"1\" class=\"dataframe\">\n",
       "  <thead>\n",
       "    <tr style=\"text-align: right;\">\n",
       "      <th></th>\n",
       "      <th>user_id</th>\n",
       "      <th>month</th>\n",
       "      <th>mb_total</th>\n",
       "      <th>message_count</th>\n",
       "      <th>mins_spent</th>\n",
       "      <th>call_count</th>\n",
       "      <th>plan</th>\n",
       "      <th>monthly_revenue</th>\n",
       "    </tr>\n",
       "  </thead>\n",
       "  <tbody>\n",
       "    <tr>\n",
       "      <th>0</th>\n",
       "      <td>1000</td>\n",
       "      <td>12</td>\n",
       "      <td>1902</td>\n",
       "      <td>11</td>\n",
       "      <td>124</td>\n",
       "      <td>16</td>\n",
       "      <td>ultimate</td>\n",
       "      <td>50.00</td>\n",
       "    </tr>\n",
       "    <tr>\n",
       "      <th>1</th>\n",
       "      <td>1001</td>\n",
       "      <td>8</td>\n",
       "      <td>6920</td>\n",
       "      <td>30</td>\n",
       "      <td>187</td>\n",
       "      <td>27</td>\n",
       "      <td>surf</td>\n",
       "      <td>20.00</td>\n",
       "    </tr>\n",
       "    <tr>\n",
       "      <th>2</th>\n",
       "      <td>1001</td>\n",
       "      <td>9</td>\n",
       "      <td>13315</td>\n",
       "      <td>44</td>\n",
       "      <td>326</td>\n",
       "      <td>49</td>\n",
       "      <td>surf</td>\n",
       "      <td>20.00</td>\n",
       "    </tr>\n",
       "    <tr>\n",
       "      <th>3</th>\n",
       "      <td>1001</td>\n",
       "      <td>10</td>\n",
       "      <td>22331</td>\n",
       "      <td>53</td>\n",
       "      <td>411</td>\n",
       "      <td>65</td>\n",
       "      <td>surf</td>\n",
       "      <td>91.68</td>\n",
       "    </tr>\n",
       "    <tr>\n",
       "      <th>4</th>\n",
       "      <td>1001</td>\n",
       "      <td>11</td>\n",
       "      <td>18505</td>\n",
       "      <td>36</td>\n",
       "      <td>441</td>\n",
       "      <td>64</td>\n",
       "      <td>surf</td>\n",
       "      <td>54.23</td>\n",
       "    </tr>\n",
       "    <tr>\n",
       "      <th>5</th>\n",
       "      <td>1001</td>\n",
       "      <td>12</td>\n",
       "      <td>19370</td>\n",
       "      <td>44</td>\n",
       "      <td>422</td>\n",
       "      <td>56</td>\n",
       "      <td>surf</td>\n",
       "      <td>62.68</td>\n",
       "    </tr>\n",
       "    <tr>\n",
       "      <th>6</th>\n",
       "      <td>1002</td>\n",
       "      <td>10</td>\n",
       "      <td>6553</td>\n",
       "      <td>15</td>\n",
       "      <td>62</td>\n",
       "      <td>11</td>\n",
       "      <td>surf</td>\n",
       "      <td>20.00</td>\n",
       "    </tr>\n",
       "    <tr>\n",
       "      <th>7</th>\n",
       "      <td>1002</td>\n",
       "      <td>11</td>\n",
       "      <td>19346</td>\n",
       "      <td>32</td>\n",
       "      <td>393</td>\n",
       "      <td>55</td>\n",
       "      <td>surf</td>\n",
       "      <td>62.44</td>\n",
       "    </tr>\n",
       "    <tr>\n",
       "      <th>8</th>\n",
       "      <td>1002</td>\n",
       "      <td>12</td>\n",
       "      <td>14397</td>\n",
       "      <td>41</td>\n",
       "      <td>393</td>\n",
       "      <td>47</td>\n",
       "      <td>surf</td>\n",
       "      <td>20.00</td>\n",
       "    </tr>\n",
       "    <tr>\n",
       "      <th>9</th>\n",
       "      <td>1003</td>\n",
       "      <td>12</td>\n",
       "      <td>27045</td>\n",
       "      <td>50</td>\n",
       "      <td>1135</td>\n",
       "      <td>149</td>\n",
       "      <td>surf</td>\n",
       "      <td>156.68</td>\n",
       "    </tr>\n",
       "  </tbody>\n",
       "</table>\n",
       "</div>"
      ],
      "text/plain": [
       "   user_id  month  mb_total  message_count  mins_spent  call_count      plan  \\\n",
       "0     1000     12      1902             11         124          16  ultimate   \n",
       "1     1001      8      6920             30         187          27      surf   \n",
       "2     1001      9     13315             44         326          49      surf   \n",
       "3     1001     10     22331             53         411          65      surf   \n",
       "4     1001     11     18505             36         441          64      surf   \n",
       "5     1001     12     19370             44         422          56      surf   \n",
       "6     1002     10      6553             15          62          11      surf   \n",
       "7     1002     11     19346             32         393          55      surf   \n",
       "8     1002     12     14397             41         393          47      surf   \n",
       "9     1003     12     27045             50        1135         149      surf   \n",
       "\n",
       "   monthly_revenue  \n",
       "0            50.00  \n",
       "1            20.00  \n",
       "2            20.00  \n",
       "3            91.68  \n",
       "4            54.23  \n",
       "5            62.68  \n",
       "6            20.00  \n",
       "7            62.44  \n",
       "8            20.00  \n",
       "9           156.68  "
      ]
     },
     "execution_count": 39,
     "metadata": {},
     "output_type": "execute_result"
    }
   ],
   "source": [
    "# Now add this data to the data-frame\n",
    "final_data['monthly_revenue'] = final_data.apply(revenue, axis=1)\n",
    "\n",
    "ultimate_data = final_data.query(\"plan == 'ultimate'\")\n",
    "surf_data = final_data.query(\"plan == 'surf'\")\n",
    "\n",
    "ult_sum = ultimate_data['monthly_revenue'].sum()\n",
    "surf_sum = surf_data['monthly_revenue'].sum()\n",
    "\n",
    "print(f\"The total revenue for the Ultimate Plan is {ult_sum:,}.\")\n",
    "print(f\"The total revenue for the Surf Plan is {surf_sum:,}.\")\n",
    "\n",
    "final_data.head(10)"
   ]
  },
  {
   "cell_type": "markdown",
   "metadata": {},
   "source": [
    "Surf plan users are punished more for using a subscription they pay for, it makes sense that the total revenue for this plan is higher - mostly also due to the fact that there are more Surf users than Ultimate as far as the totals go. Megaline could probably increase the punishment values slightly and none would be the wiser ==>> more money.\n"
   ]
  },
  {
   "cell_type": "code",
   "execution_count": 40,
   "metadata": {},
   "outputs": [],
   "source": [
    "#Remove outliers - expecting they will need to be removed and want to save code\n",
    "#final_data.sort_values(by='mb_total').tail(2)\n",
    "#final_data.sort_values(by='message_count').tail(2)\n",
    "#final_data = final_data.drop(index=[856, 1377, 1383, 139])\n"
   ]
  },
  {
   "cell_type": "markdown",
   "metadata": {},
   "source": [
    "<div class=\"alert alert-success\" role=\"alert\">\n",
    "<b>Reviewer's comment v1:</b>\n",
    "\n",
    "Everything is correct here. \n",
    "\n",
    "Btw it is also possible to make the calculation of revenue a little bit shorter / easier using np.where - https://numpy.org/doc/stable/reference/generated/numpy.where.html\n",
    "    \n",
    "```\n",
    "np.where ('condition: if exceeding the package limit', 'multiply the difference by the price of additional services', '0')\n",
    "```\n",
    "\n",
    "    \n",
    "Great thing about python is that there are so many libraries and ready-to-use functions. For example, this task can also be solved using `.clip()` (a useful method in many tasks). You can read it here: https://www.pythonpool.com/numpy-clip/\n",
    "    \n",
    "Also, it is better to avoid hard-coding in your functions of all values from the data plans. These values could be frequently updated and it will be annoyingly inconvenient to update them once again in the function. I would recommend using an actual table with values or create a separate data dictionary - https://towardsdatascience.com/12-examples-to-master-python-dictionaries-5a8bcd688c6d"
   ]
  },
  {
   "cell_type": "markdown",
   "metadata": {
    "jp-MarkdownHeadingCollapsed": true
   },
   "source": [
    "## Study user behaviour"
   ]
  },
  {
   "cell_type": "markdown",
   "metadata": {},
   "source": [
    "### Calls"
   ]
  },
  {
   "cell_type": "code",
   "execution_count": 41,
   "metadata": {},
   "outputs": [
    {
     "data": {
      "text/html": [
       "<div>\n",
       "<style scoped>\n",
       "    .dataframe tbody tr th:only-of-type {\n",
       "        vertical-align: middle;\n",
       "    }\n",
       "\n",
       "    .dataframe tbody tr th {\n",
       "        vertical-align: top;\n",
       "    }\n",
       "\n",
       "    .dataframe thead th {\n",
       "        text-align: right;\n",
       "    }\n",
       "</style>\n",
       "<table border=\"1\" class=\"dataframe\">\n",
       "  <thead>\n",
       "    <tr style=\"text-align: right;\">\n",
       "      <th></th>\n",
       "      <th>plan</th>\n",
       "      <th>month</th>\n",
       "      <th>avg_call_length</th>\n",
       "    </tr>\n",
       "  </thead>\n",
       "  <tbody>\n",
       "    <tr>\n",
       "      <th>0</th>\n",
       "      <td>surf</td>\n",
       "      <td>1</td>\n",
       "      <td>6.97</td>\n",
       "    </tr>\n",
       "    <tr>\n",
       "      <th>1</th>\n",
       "      <td>surf</td>\n",
       "      <td>2</td>\n",
       "      <td>7.49</td>\n",
       "    </tr>\n",
       "    <tr>\n",
       "      <th>2</th>\n",
       "      <td>surf</td>\n",
       "      <td>3</td>\n",
       "      <td>7.29</td>\n",
       "    </tr>\n",
       "    <tr>\n",
       "      <th>3</th>\n",
       "      <td>surf</td>\n",
       "      <td>4</td>\n",
       "      <td>7.38</td>\n",
       "    </tr>\n",
       "    <tr>\n",
       "      <th>4</th>\n",
       "      <td>surf</td>\n",
       "      <td>5</td>\n",
       "      <td>7.37</td>\n",
       "    </tr>\n",
       "    <tr>\n",
       "      <th>5</th>\n",
       "      <td>surf</td>\n",
       "      <td>6</td>\n",
       "      <td>7.44</td>\n",
       "    </tr>\n",
       "    <tr>\n",
       "      <th>6</th>\n",
       "      <td>surf</td>\n",
       "      <td>7</td>\n",
       "      <td>7.32</td>\n",
       "    </tr>\n",
       "    <tr>\n",
       "      <th>7</th>\n",
       "      <td>surf</td>\n",
       "      <td>8</td>\n",
       "      <td>7.32</td>\n",
       "    </tr>\n",
       "    <tr>\n",
       "      <th>8</th>\n",
       "      <td>surf</td>\n",
       "      <td>9</td>\n",
       "      <td>7.32</td>\n",
       "    </tr>\n",
       "    <tr>\n",
       "      <th>9</th>\n",
       "      <td>surf</td>\n",
       "      <td>10</td>\n",
       "      <td>7.32</td>\n",
       "    </tr>\n",
       "    <tr>\n",
       "      <th>10</th>\n",
       "      <td>surf</td>\n",
       "      <td>11</td>\n",
       "      <td>7.35</td>\n",
       "    </tr>\n",
       "    <tr>\n",
       "      <th>11</th>\n",
       "      <td>surf</td>\n",
       "      <td>12</td>\n",
       "      <td>7.43</td>\n",
       "    </tr>\n",
       "    <tr>\n",
       "      <th>12</th>\n",
       "      <td>ultimate</td>\n",
       "      <td>1</td>\n",
       "      <td>7.15</td>\n",
       "    </tr>\n",
       "    <tr>\n",
       "      <th>13</th>\n",
       "      <td>ultimate</td>\n",
       "      <td>2</td>\n",
       "      <td>7.11</td>\n",
       "    </tr>\n",
       "    <tr>\n",
       "      <th>14</th>\n",
       "      <td>ultimate</td>\n",
       "      <td>3</td>\n",
       "      <td>6.82</td>\n",
       "    </tr>\n",
       "    <tr>\n",
       "      <th>15</th>\n",
       "      <td>ultimate</td>\n",
       "      <td>4</td>\n",
       "      <td>7.27</td>\n",
       "    </tr>\n",
       "    <tr>\n",
       "      <th>16</th>\n",
       "      <td>ultimate</td>\n",
       "      <td>5</td>\n",
       "      <td>7.26</td>\n",
       "    </tr>\n",
       "    <tr>\n",
       "      <th>17</th>\n",
       "      <td>ultimate</td>\n",
       "      <td>6</td>\n",
       "      <td>7.30</td>\n",
       "    </tr>\n",
       "    <tr>\n",
       "      <th>18</th>\n",
       "      <td>ultimate</td>\n",
       "      <td>7</td>\n",
       "      <td>7.47</td>\n",
       "    </tr>\n",
       "    <tr>\n",
       "      <th>19</th>\n",
       "      <td>ultimate</td>\n",
       "      <td>8</td>\n",
       "      <td>7.22</td>\n",
       "    </tr>\n",
       "    <tr>\n",
       "      <th>20</th>\n",
       "      <td>ultimate</td>\n",
       "      <td>9</td>\n",
       "      <td>7.37</td>\n",
       "    </tr>\n",
       "    <tr>\n",
       "      <th>21</th>\n",
       "      <td>ultimate</td>\n",
       "      <td>10</td>\n",
       "      <td>7.27</td>\n",
       "    </tr>\n",
       "    <tr>\n",
       "      <th>22</th>\n",
       "      <td>ultimate</td>\n",
       "      <td>11</td>\n",
       "      <td>7.34</td>\n",
       "    </tr>\n",
       "    <tr>\n",
       "      <th>23</th>\n",
       "      <td>ultimate</td>\n",
       "      <td>12</td>\n",
       "      <td>7.27</td>\n",
       "    </tr>\n",
       "  </tbody>\n",
       "</table>\n",
       "</div>"
      ],
      "text/plain": [
       "        plan  month  avg_call_length\n",
       "0       surf      1             6.97\n",
       "1       surf      2             7.49\n",
       "2       surf      3             7.29\n",
       "3       surf      4             7.38\n",
       "4       surf      5             7.37\n",
       "5       surf      6             7.44\n",
       "6       surf      7             7.32\n",
       "7       surf      8             7.32\n",
       "8       surf      9             7.32\n",
       "9       surf     10             7.32\n",
       "10      surf     11             7.35\n",
       "11      surf     12             7.43\n",
       "12  ultimate      1             7.15\n",
       "13  ultimate      2             7.11\n",
       "14  ultimate      3             6.82\n",
       "15  ultimate      4             7.27\n",
       "16  ultimate      5             7.26\n",
       "17  ultimate      6             7.30\n",
       "18  ultimate      7             7.47\n",
       "19  ultimate      8             7.22\n",
       "20  ultimate      9             7.37\n",
       "21  ultimate     10             7.27\n",
       "22  ultimate     11             7.34\n",
       "23  ultimate     12             7.27"
      ]
     },
     "execution_count": 41,
     "metadata": {},
     "output_type": "execute_result"
    }
   ],
   "source": [
    "# Compare average duration of calls per each plan per each distinct month. Plot a bar plot to visualize it.\n",
    "# To do this I will group the data by plan and month, then calculate the average call duration\n",
    "\n",
    "# First need to add plan to df_calls\n",
    "df_calls = pd.merge(df_calls, df_users_subset, on='user_id', how='inner')\n",
    "\n",
    "#Use a pivot table\n",
    "avg_call_duration = df_calls.pivot_table(index=['plan', 'month'],\n",
    "                                         values='duration',\n",
    "                                         aggfunc='mean').reset_index()\n",
    "\n",
    "avg_call_duration.columns=['plan', 'month', 'avg_call_length']\n",
    "avg_call_duration['avg_call_length'] = round(avg_call_duration['avg_call_length'], 2)\n",
    "avg_call_duration"
   ]
  },
  {
   "cell_type": "code",
   "execution_count": 42,
   "metadata": {},
   "outputs": [
    {
     "data": {
      "image/png": "[encoded data removed]",
      "text/plain": [
       "<Figure size 1000x500 with 1 Axes>"
      ]
     },
     "metadata": {},
     "output_type": "display_data"
    }
   ],
   "source": [
    "# Plot a bar plot\n",
    "plt.figure(figsize=(10, 5))\n",
    "\n",
    "sns.set(style=\"whitegrid\")\n",
    "\n",
    "sns.barplot(data=avg_call_duration, x='month', y='avg_call_length', hue='plan')\n",
    "\n",
    "plt.title('Average Call Duration per Plan per Month')\n",
    "plt.xlabel('Month')\n",
    "plt.ylabel('Average Duration (mins)')\n",
    "plt.legend()\n",
    "\n",
    "plt.show()"
   ]
  },
  {
   "cell_type": "code",
   "execution_count": 43,
   "metadata": {},
   "outputs": [
    {
     "data": {
      "image/png": "[encoded data removed]",
      "text/plain": [
       "<Figure size 1000x500 with 1 Axes>"
      ]
     },
     "metadata": {},
     "output_type": "display_data"
    }
   ],
   "source": [
    "# Compare the number of minutes users of each plan require each month. Plot a histogram.\n",
    "plt.figure(figsize=(10,5))\n",
    "\n",
    "#Sturge's Rule applied to both - since datasets aren't large\n",
    "ultimate_data['mins_spent'].plot(kind='hist', bins = 11, label='Ultimate', color='orange')\n",
    "surf_data['mins_spent'].plot(kind='hist', bins = 12, label='Surf', color='blue', alpha=0.2)  \n",
    "\n",
    "\n",
    "#create even labels at intervals of 100 for x-axis (cause I wanted to)\n",
    "xtics= []\n",
    "for i in range(1601):\n",
    "    if i % 100 == 0:\n",
    "        xtics.append(i)\n",
    "\n",
    "plt.xlabel('Number of Minutes per Month')\n",
    "plt.title('Dsitribution of Minutes Used per Month Across Plans')\n",
    "plt.legend()\n",
    "plt.xticks(xtics)\n",
    "plt.grid(False)\n",
    "\n",
    "plt.show()"
   ]
  },
  {
   "cell_type": "code",
   "execution_count": 44,
   "metadata": {},
   "outputs": [
    {
     "name": "stdout",
     "output_type": "stream",
     "text": [
      "The means of the call duration per month for Ultimate plan users is 454.81, and is 457.83 for Surf plan users.\n",
      "The variance of the call duration per month for Ultimate plan users is 65,557.50, and is 58,102.83 for Surf plan users.\n",
      "\n",
      "Both plans have a high variance, or dispersion from the mean, which indicates to me significant variability in call durations; however, the Ultimate plan users are more variable. So far, the plans do not appear to differ in a meaningful/significant way.\n"
     ]
    }
   ],
   "source": [
    "# Calculate the mean and the variance of the monthly call duration\n",
    "ult_mean = ultimate_data['mins_spent'].mean()\n",
    "surf_mean = surf_data['mins_spent'].mean()\n",
    "\n",
    "ult_sigma = ultimate_data['mins_spent'].var()\n",
    "surf_sigma = surf_data['mins_spent'].var()\n",
    "\n",
    "print(f\"The means of the call duration per month for Ultimate plan users is {ult_mean:.2f}, and is {surf_mean:.2f} for Surf plan users.\")\n",
    "print(f\"The variance of the call duration per month for Ultimate plan users is {ult_sigma:,.2f}, and is {surf_sigma:,.2f} for Surf plan users.\\n\")\n",
    "print(\"Both plans have a high variance, or dispersion from the mean, which indicates to me significant variability in call durations; however, the Ultimate plan users are more variable. So far, the plans do not appear to differ in a meaningful/significant way.\")"
   ]
  },
  {
   "cell_type": "code",
   "execution_count": 45,
   "metadata": {},
   "outputs": [
    {
     "data": {
      "image/png": "[encoded data removed]",
      "text/plain": [
       "<Figure size 640x480 with 1 Axes>"
      ]
     },
     "metadata": {},
     "output_type": "display_data"
    }
   ],
   "source": [
    "# Plot a boxplot to visualize the distribution of the monthly call duration\n",
    "final_data.boxplot(column='mins_spent', by='plan')\n",
    "\n",
    "plt.title('Monthly Call Duration Distribution by Plan')\n",
    "plt.suptitle('')\n",
    "plt.xlabel('Plan')\n",
    "plt.ylabel('Call Duration (mins)')\n",
    "plt.show()"
   ]
  },
  {
   "cell_type": "markdown",
   "metadata": {},
   "source": [
    "This boxplot helps paint a clearer picture of the call duration distributions for the Ultimate and Surf plans. We can see that the distributions are actually quite simlar with some minor differences. \n",
    "    \n",
    "**Median and Shape:** Medians appear to be relatively the same, as well as the shape of both plans - both being skewed right. This indicates that most users tend to have lower call durations, but some users have significantly highers call durations. \n",
    "    \n",
    "**Variance and Outliers:** Where the plans start to differ, and where the box plot is helpful, is putting a visual to the variance and outliers. We can see there are more extreme values in the Surf plan users' call durations, emphasizing that the spread from the mean is greater than the Ultimate plan. The Ultimate plan distribution also follows the same patterns, just to a lesser degree. The key is is we can see there is greater spread in the Surf plan call durations than in the Ultimate. "
   ]
  },
  {
   "cell_type": "markdown",
   "metadata": {},
   "source": [
    "<div class=\"alert alert-warning\">\n",
    "<b>Reviewer's comment v1:</b>\n",
    "    \n",
    "To avoid repetitive code you could utilize functions. "
   ]
  },
  {
   "cell_type": "markdown",
   "metadata": {},
   "source": [
    " "
   ]
  },
  {
   "cell_type": "markdown",
   "metadata": {},
   "source": [
    "### Messages"
   ]
  },
  {
   "cell_type": "code",
   "execution_count": 46,
   "metadata": {},
   "outputs": [
    {
     "data": {
      "image/png": "[encoded data removed]",
      "text/plain": [
       "<Figure size 1000x500 with 1 Axes>"
      ]
     },
     "metadata": {},
     "output_type": "display_data"
    }
   ],
   "source": [
    "# I will follow same formula laid out above for the rest of the categories. \n",
    "# I will compare the average amount of messages sent per month, per plan\n",
    "\n",
    "avg_msg_sent = final_data.pivot_table(index=['plan','month'],\n",
    "                                       values='message_count',\n",
    "                                       aggfunc='mean').reset_index()\n",
    "\n",
    "\n",
    "avg_msg_sent.columns=['plan','month','avg_msgs_sent']\n",
    "avg_msg_sent['avg_msgs_sent'] = round(avg_msg_sent['avg_msgs_sent']).astype('int')\n",
    "avg_msg_sent\n",
    "\n",
    "# Begin Bar Plot\n",
    "plt.figure(figsize=(10,5))\n",
    "\n",
    "sns.barplot(data=avg_msg_sent, x='month', y='avg_msgs_sent', hue='plan')\n",
    "\n",
    "plt.title('Average Number of Messages Sent per Month per Plan')\n",
    "plt.xlabel('Month')\n",
    "plt.ylabel('Average Number of Messages')\n",
    "plt.legend()\n",
    "\n",
    "plt.show()"
   ]
  },
  {
   "cell_type": "markdown",
   "metadata": {},
   "source": [
    "One pattern is quite clear looking at the average number of messages sent per plan each month: that the average number of messages sent appears to have a positive correlation to the month. We can't really make any conclusions on causation, but we can take some guesses on why this would be the case. Perhaps the holiday seasons create more text messages, or perhaps we are gaining more users as the year goes on. We would want to look at other years to be sure. "
   ]
  },
  {
   "cell_type": "code",
   "execution_count": 47,
   "metadata": {},
   "outputs": [
    {
     "data": {
      "image/png": "[encoded data removed]",
      "text/plain": [
       "<Figure size 1000x500 with 1 Axes>"
      ]
     },
     "metadata": {},
     "output_type": "display_data"
    }
   ],
   "source": [
    "# Next I will compare the number of messages sent via a histogram\n",
    "plt.figure(figsize=(10,5))\n",
    "\n",
    "ultimate_data['message_count'].plot(kind='hist', bins=11, label='Ultimate', color='orange')\n",
    "surf_data['message_count'].plot(kind='hist', bins=12\n",
    "                                , label='Surf', color='blue', alpha=0.2) \n",
    "\n",
    "plt.title('Distribution of the Monthly Number of Messages Sent')\n",
    "plt.xlabel('Number of Messages Sent')\n",
    "plt.xlim(0,180)\n",
    "plt.legend()\n",
    "plt.grid(False)\n",
    "\n",
    "plt.show()"
   ]
  },
  {
   "cell_type": "markdown",
   "metadata": {},
   "source": [
    "This actually makes a lot of sense. For the Surf users, they are charged more for going over on messages, so most of them are sending lower amounts of messages. Whereas the Ultimate users have more cushion, and we see almost a uniform distribution until the higher numbers. Interesting!"
   ]
  },
  {
   "cell_type": "code",
   "execution_count": 48,
   "metadata": {},
   "outputs": [
    {
     "name": "stdout",
     "output_type": "stream",
     "text": [
      "The means of the number of messages per month for Ultimate plan users is 46, and is 39 for Surf plan users.\n",
      "The variance of the number of messages per month for Ultimate plan users is 1084.39, and is 1044.22 for Surf plan users.\n",
      "\n"
     ]
    }
   ],
   "source": [
    "# Next I will calculate the mean and variance\n",
    "ult_msg_mean = ultimate_data['message_count'].mean()\n",
    "surf_msg_mean = surf_data['message_count'].mean()\n",
    "\n",
    "ult_msg_sigma = ultimate_data['message_count'].var()\n",
    "surf_msg_sigma = surf_data['message_count'].var()\n",
    "\n",
    "print(f\"The means of the number of messages per month for Ultimate plan users is {ult_msg_mean:.0f}, and is {surf_msg_mean:.0f} for Surf plan users.\")\n",
    "print(f\"The variance of the number of messages per month for Ultimate plan users is {ult_msg_sigma:.2f}, and is {surf_msg_sigma:.2f} for Surf plan users.\\n\")"
   ]
  },
  {
   "cell_type": "code",
   "execution_count": 49,
   "metadata": {},
   "outputs": [
    {
     "data": {
      "image/png": "[encoded data removed]",
      "text/plain": [
       "<Figure size 640x480 with 1 Axes>"
      ]
     },
     "metadata": {},
     "output_type": "display_data"
    }
   ],
   "source": [
    "final_data.boxplot(column='message_count', by='plan')\n",
    "\n",
    "plt.title('Monthly Number of Messages Distribution by Plan - Box')\n",
    "plt.suptitle('')\n",
    "plt.xlabel('Plan')\n",
    "plt.ylabel('Number of Messages')\n",
    "plt.show()"
   ]
  },
  {
   "cell_type": "markdown",
   "metadata": {},
   "source": [
    "Both plans have similar variances, with the Ultimate users being slightly greater, indicating a slightly larger spread. As I had mentioned earlier, what's interesting is there does appear to be a difference in their distributions, and consequently their behavior.\n",
    "\n",
    "**Shape:** Whether it is statistically significant is still unclear, but we can see that the distributions have a different shape, between Surf and Ultimate. The Surf users have a smaller amount of allowed texts, so we can see a greater skew in the distribution as most users are remaining within those guidelines, with quite a few going outside of it. In the Ultimate distribution, we do see an almost uniform like distribution, likely this is due to the greater amount of texts allowed. \n",
    "\n",
    "**Outliers:** I would like to point out the considerable number of extreme values that exist in the Surf distribution. Perhaps some of these users should save some money and switch to the ultimate plan, but of course we don't mind if they stay at the surf level!\n",
    "\n",
    "**Conclusion:** Due to the almost uniform nature of the ultimate distribution versus the highly right-skewed surf distribution, I would say that Ultimate users are sending more messages. The frequency is not a comparison point, there are more surf users. It would be interesting to see how the Ultimate distribution shape changes as we acquire more customers. \n"
   ]
  },
  {
   "cell_type": "markdown",
   "metadata": {},
   "source": [
    " "
   ]
  },
  {
   "cell_type": "markdown",
   "metadata": {},
   "source": [
    "### Internet"
   ]
  },
  {
   "cell_type": "code",
   "execution_count": 50,
   "metadata": {},
   "outputs": [
    {
     "data": {
      "image/png": "[encoded data removed]",
      "text/plain": [
       "<Figure size 1000x500 with 1 Axes>"
      ]
     },
     "metadata": {},
     "output_type": "display_data"
    }
   ],
   "source": [
    "avg_data_used = final_data.pivot_table(index=['plan','month'],\n",
    "                                       values='mb_total',\n",
    "                                       aggfunc='mean').reset_index()\n",
    "\n",
    "avg_data_used.columns =['plan','month','avg_mb_used']\n",
    "avg_data_used['avg_mb_used'] = (round(avg_data_used['avg_mb_used'])).astype('int')\n",
    "avg_data_used\n",
    "\n",
    "# Begin bar plot\n",
    "plt.figure(figsize=(10,5))\n",
    "\n",
    "sns.barplot(data=avg_data_used, x='month', y='avg_mb_used', hue='plan')\n",
    "\n",
    "plt.title('Average Amount of Monthtly Data Used per Plan')\n",
    "plt.xlabel('Month')\n",
    "plt.ylabel('Data Used (MB)')\n",
    "plt.legend()\n",
    "\n",
    "plt.show()"
   ]
  },
  {
   "cell_type": "code",
   "execution_count": 51,
   "metadata": {},
   "outputs": [
    {
     "data": {
      "image/png": "[encoded data removed]",
      "text/plain": [
       "<Figure size 1000x500 with 1 Axes>"
      ]
     },
     "metadata": {},
     "output_type": "display_data"
    }
   ],
   "source": [
    "plt.figure(figsize=(10,5))\n",
    "\n",
    "ultimate_data['mb_total'].plot(kind='hist', bins=11, label='Ultimate', color='orange')\n",
    "surf_data['mb_total'].plot(kind='hist', bins=12, label='Surf', color='blue', alpha=0.2)\n",
    "\n",
    "plt.title('Distribution of Monthly Data Usage per Plan')\n",
    "plt.xlabel('Amount of Data Used (MB)')\n",
    "plt.legend()\n",
    "plt.xlim(0,72000)\n",
    "plt.grid(False)\n",
    "plt.show()"
   ]
  },
  {
   "cell_type": "code",
   "execution_count": 52,
   "metadata": {},
   "outputs": [
    {
     "name": "stdout",
     "output_type": "stream",
     "text": [
      "The means of the number of messages per month for Ultimate plan users is 17,251, and is 16,630 for Surf plan users.\n",
      "The variance of the number of messages per month for Ultimate plan users is 59,090,306.33, and is 59,510,087.75 for Surf plan users.\n"
     ]
    }
   ],
   "source": [
    "ult_mbs_mean = ultimate_data['mb_total'].mean()\n",
    "surf_mbs_mean = surf_data['mb_total'].mean()\n",
    "\n",
    "ult_mbs_sigma = ultimate_data['mb_total'].var()\n",
    "surf_mbs_sigma = surf_data['mb_total'].var()\n",
    "\n",
    "print(f\"The means of the number of messages per month for Ultimate plan users is {ult_mbs_mean:,.0f}, and is {surf_mbs_mean:,.0f} for Surf plan users.\")\n",
    "print(f\"The variance of the number of messages per month for Ultimate plan users is {ult_mbs_sigma:,.2f}, and is {surf_mbs_sigma:,.2f} for Surf plan users.\")"
   ]
  },
  {
   "cell_type": "code",
   "execution_count": 53,
   "metadata": {},
   "outputs": [
    {
     "data": {
      "image/png": "[encoded data removed]",
      "text/plain": [
       "<Figure size 640x480 with 1 Axes>"
      ]
     },
     "metadata": {},
     "output_type": "display_data"
    }
   ],
   "source": [
    "final_data.boxplot(column='mb_total', by='plan')\n",
    "\n",
    "plt.title('Monthly Amount of Data Used by Plan - Box')\n",
    "plt.suptitle('')\n",
    "plt.xlabel('Plan')\n",
    "plt.ylabel('Data Used (MB)')\n",
    "plt.show()"
   ]
  },
  {
   "cell_type": "markdown",
   "metadata": {},
   "source": [
    "Looking at all of the graphics and data, there doesn't appear to be a distinctional difference in behavior between the two plans when it comes to the amount of data used per month. There are however some interesting points left to still make. \n",
    "\n",
    "**Shape and Outliers:** When looking at the shapes of each graphical distribution it may appear there are some significant differences due to the size for the surf bars in the average plot for months 2 and 3, this is most definitely due to the extreme values which are more clearly represented in the box plot. There are two values in particular that are significantly farter into the outlier region than the others (those users certainly had a big bill that month). I would imagine we would want to remove these values, as they do not appear to be usual. The nice bell-curve pattern is interesting. \n",
    "\n",
    "**Conclusion:** I do not believe there is a difference in behavior in the amount of data used across users between the two plans."
   ]
  },
  {
   "cell_type": "markdown",
   "metadata": {},
   "source": [
    " "
   ]
  },
  {
   "cell_type": "markdown",
   "metadata": {
    "jp-MarkdownHeadingCollapsed": true
   },
   "source": [
    "## Revenue"
   ]
  },
  {
   "cell_type": "code",
   "execution_count": 54,
   "metadata": {},
   "outputs": [
    {
     "data": {
      "image/png": "[encoded data removed]",
      "text/plain": [
       "<Figure size 1000x500 with 1 Axes>"
      ]
     },
     "metadata": {},
     "output_type": "display_data"
    }
   ],
   "source": [
    "avg_data_used = final_data.pivot_table(index=['plan','month'],\n",
    "                                       values='monthly_revenue',\n",
    "                                       aggfunc='mean').reset_index()\n",
    "\n",
    "avg_data_used.columns =['plan','month','avg_mb_used']\n",
    "avg_data_used['avg_mb_used'] = (round(avg_data_used['avg_mb_used'])).astype('int')\n",
    "avg_data_used\n",
    "\n",
    "# Begin bar plot\n",
    "plt.figure(figsize=(10,5))\n",
    "\n",
    "sns.barplot(data=avg_data_used, x='month', y='avg_mb_used', hue='plan')\n",
    "\n",
    "plt.title('Average Revenue per Month per Plan')\n",
    "plt.xlabel('Month')\n",
    "plt.ylabel('Revenue (USD)')\n",
    "plt.legend()\n",
    "\n",
    "plt.show()"
   ]
  },
  {
   "cell_type": "code",
   "execution_count": 55,
   "metadata": {},
   "outputs": [
    {
     "data": {
      "image/png": "[encoded data removed]",
      "text/plain": [
       "<Figure size 1000x500 with 1 Axes>"
      ]
     },
     "metadata": {},
     "output_type": "display_data"
    }
   ],
   "source": [
    "plt.figure(figsize=(10,5))\n",
    "\n",
    "ultimate_data['monthly_revenue'].plot(kind='hist', bins=11, label='Ultimate', color='orange')\n",
    "surf_data['monthly_revenue'].plot(kind='hist', bins=12, label='Surf', color='blue', alpha=0.2)\n",
    "\n",
    "plt.title('Distribution of Monthly Revenue per Plan')\n",
    "plt.xlabel('Revenue Earned (USD)')\n",
    "plt.legend()\n",
    "plt.grid(False)\n",
    "plt.show()"
   ]
  },
  {
   "cell_type": "code",
   "execution_count": 56,
   "metadata": {},
   "outputs": [
    {
     "name": "stdout",
     "output_type": "stream",
     "text": [
      "The means of the revenue per month for Ultimate plan users is $78.88, and is $59.61 for Surf plan users.\n",
      "The variance of the revenue per month for Ultimate plan users is $1,547.83, and is $2,814.34 for Surf plan users.\n"
     ]
    }
   ],
   "source": [
    "ult_rev_mean = ultimate_data['monthly_revenue'].mean()\n",
    "surf_rev_mean = surf_data['monthly_revenue'].mean()\n",
    "\n",
    "ult_rev_sigma = ultimate_data['monthly_revenue'].var()\n",
    "surf_rev_sigma = surf_data['monthly_revenue'].var()\n",
    "\n",
    "print(f\"The means of the revenue per month for Ultimate plan users is ${ult_rev_mean:,.2f}, and is ${surf_rev_mean:,.2f} for Surf plan users.\")\n",
    "print(f\"The variance of the revenue per month for Ultimate plan users is ${ult_rev_sigma:,.2f}, and is ${surf_rev_sigma:,.2f} for Surf plan users.\")"
   ]
  },
  {
   "cell_type": "code",
   "execution_count": 57,
   "metadata": {},
   "outputs": [
    {
     "data": {
      "image/png": "[encoded data removed]",
      "text/plain": [
       "<Figure size 640x480 with 1 Axes>"
      ]
     },
     "metadata": {},
     "output_type": "display_data"
    }
   ],
   "source": [
    "final_data.boxplot(column='monthly_revenue', by='plan')\n",
    "\n",
    "plt.title('Monthly Revenue of by Plan - Box')\n",
    "plt.suptitle('')\n",
    "plt.xlabel('Plan')\n",
    "plt.ylabel('Revenue Earned (USD)')\n",
    "plt.show()"
   ]
  },
  {
   "cell_type": "markdown",
   "metadata": {},
   "source": [
    "I would have to say that there is a pretty clear winner in terms of which plan would bring in more revenue for Megaline, and that's the Ultimate plan, however we could manipulate the surf plan to take advantage of the high variability we have found.\n",
    "\n",
    "As stated earlier, if we have more users on the surf plan and we slightly adjust our punishment values, we should be able to create more outliers like seen in the box plot, while also shifting the median average revenue up, which means more money in Megaline's pocket and still happy customers. Aggressively increasing those punishment values will cause us to lose clientell, and we don't want that to happen. So I would recommend to slightly increase the punishment values on the Surf plan. \n",
    "\n",
    "However, based on the graphics above, we can clearly see that the Ultimate plan would generate more revenue on average per user. So the next step for Megaline is to adjust marketing to either bring in new Ultimate plan users, or convert Surf users over to Ultimate (maybe a special few month discount for switching? Sometimes I'm not just an analyst). "
   ]
  },
  {
   "cell_type": "markdown",
   "metadata": {},
   "source": [
    "<div class=\"alert alert-success\">\n",
    "<b>Reviewer's comment v1:</b>\n",
    "    \n",
    "- I will write overall thoughts about the data analysis section:\n",
    "- Very nice visualisation of the data. Great that you combined both plans on one graph for the comparison and also used different graph types to check available data.\n",
    "-  If you have time and willing to practice, you can display two charts (histogram and a boxplot) using a two-column subplot.\n",
    "\n",
    "```\n",
    "    # Create one row with 2 columns\n",
    "\t  fig, axes = plt.subplots(1, 2, figsize=(16, 5))\n",
    "\n",
    "\t  # Create a histogram for the surf plan\n",
    "\t  sns.distplot(... ax=axes[0])\n",
    "\t  # Create a histogram for the second plan\n",
    "\t  sns.distplot(... ax=axes[0])\n",
    "\t\n",
    "\t  # Create a boxplot for both plans\n",
    "\t  sns.boxplot(... ax=axes[1])\n",
    "```"
   ]
  },
  {
   "cell_type": "markdown",
   "metadata": {},
   "source": [
    " "
   ]
  },
  {
   "cell_type": "markdown",
   "metadata": {
    "jp-MarkdownHeadingCollapsed": true
   },
   "source": [
    "## Test statistical hypotheses"
   ]
  },
  {
   "cell_type": "code",
   "execution_count": 58,
   "metadata": {},
   "outputs": [
    {
     "name": "stdout",
     "output_type": "stream",
     "text": [
      "p-value: 0.000000000000000025908446580958\n",
      "We reject the null hypothesis that the average revenue from users of the Ultimate and Surf calling plans are equal.\n"
     ]
    }
   ],
   "source": [
    "# Test the hypotheses\n",
    "# Let Mu_ru be the mean of the revenue for Ultimate users\n",
    "# Let Mu_rs be the mean of the revenue for the Surf users\n",
    "\n",
    "# H0: Mu_ru = Mu_rs\n",
    "# H1: Mu_ru <> Mu_rs\n",
    "#Conduct a two tailed t-test: requirements are independent groups, normally distributed (just skewed), sample size is good\n",
    "\n",
    "# Begin test\n",
    "alpha = 0.05\n",
    "\n",
    "results = st.ttest_ind(ultimate_data['monthly_revenue'], surf_data['monthly_revenue'], equal_var=False)\n",
    "\n",
    "print(f\"p-value: {results.pvalue:.30f}\")\n",
    "\n",
    "if results.pvalue < alpha:\n",
    "    print(\"We reject the null hypothesis that the average revenue from users of the Ultimate and Surf calling plans are equal.\")\n",
    "else:\n",
    "    print(\"We can't reject the null hypothesis that the average revenue from users of the Ultimate and Surf calling plans are equal.\")"
   ]
  },
  {
   "cell_type": "markdown",
   "metadata": {},
   "source": [
    "[Test the hypothesis that the average revenue from users in the NY-NJ area is different from that of the users from the other regions.]"
   ]
  },
  {
   "cell_type": "code",
   "execution_count": 59,
   "metadata": {},
   "outputs": [
    {
     "data": {
      "text/html": [
       "<div>\n",
       "<style scoped>\n",
       "    .dataframe tbody tr th:only-of-type {\n",
       "        vertical-align: middle;\n",
       "    }\n",
       "\n",
       "    .dataframe tbody tr th {\n",
       "        vertical-align: top;\n",
       "    }\n",
       "\n",
       "    .dataframe thead th {\n",
       "        text-align: right;\n",
       "    }\n",
       "</style>\n",
       "<table border=\"1\" class=\"dataframe\">\n",
       "  <thead>\n",
       "    <tr style=\"text-align: right;\">\n",
       "      <th></th>\n",
       "      <th>user_id</th>\n",
       "      <th>month</th>\n",
       "      <th>mb_total</th>\n",
       "      <th>message_count</th>\n",
       "      <th>mins_spent</th>\n",
       "      <th>call_count</th>\n",
       "      <th>plan</th>\n",
       "      <th>monthly_revenue</th>\n",
       "      <th>city</th>\n",
       "    </tr>\n",
       "  </thead>\n",
       "  <tbody>\n",
       "    <tr>\n",
       "      <th>0</th>\n",
       "      <td>1000</td>\n",
       "      <td>12</td>\n",
       "      <td>1902</td>\n",
       "      <td>11</td>\n",
       "      <td>124</td>\n",
       "      <td>16</td>\n",
       "      <td>ultimate</td>\n",
       "      <td>50.00</td>\n",
       "      <td>Atlanta-Sandy Springs-Roswell, GA MSA</td>\n",
       "    </tr>\n",
       "    <tr>\n",
       "      <th>1</th>\n",
       "      <td>1001</td>\n",
       "      <td>8</td>\n",
       "      <td>6920</td>\n",
       "      <td>30</td>\n",
       "      <td>187</td>\n",
       "      <td>27</td>\n",
       "      <td>surf</td>\n",
       "      <td>20.00</td>\n",
       "      <td>Seattle-Tacoma-Bellevue, WA MSA</td>\n",
       "    </tr>\n",
       "    <tr>\n",
       "      <th>2</th>\n",
       "      <td>1001</td>\n",
       "      <td>9</td>\n",
       "      <td>13315</td>\n",
       "      <td>44</td>\n",
       "      <td>326</td>\n",
       "      <td>49</td>\n",
       "      <td>surf</td>\n",
       "      <td>20.00</td>\n",
       "      <td>Seattle-Tacoma-Bellevue, WA MSA</td>\n",
       "    </tr>\n",
       "    <tr>\n",
       "      <th>3</th>\n",
       "      <td>1001</td>\n",
       "      <td>10</td>\n",
       "      <td>22331</td>\n",
       "      <td>53</td>\n",
       "      <td>411</td>\n",
       "      <td>65</td>\n",
       "      <td>surf</td>\n",
       "      <td>91.68</td>\n",
       "      <td>Seattle-Tacoma-Bellevue, WA MSA</td>\n",
       "    </tr>\n",
       "    <tr>\n",
       "      <th>4</th>\n",
       "      <td>1001</td>\n",
       "      <td>11</td>\n",
       "      <td>18505</td>\n",
       "      <td>36</td>\n",
       "      <td>441</td>\n",
       "      <td>64</td>\n",
       "      <td>surf</td>\n",
       "      <td>54.23</td>\n",
       "      <td>Seattle-Tacoma-Bellevue, WA MSA</td>\n",
       "    </tr>\n",
       "  </tbody>\n",
       "</table>\n",
       "</div>"
      ],
      "text/plain": [
       "   user_id  month  mb_total  message_count  mins_spent  call_count      plan  \\\n",
       "0     1000     12      1902             11         124          16  ultimate   \n",
       "1     1001      8      6920             30         187          27      surf   \n",
       "2     1001      9     13315             44         326          49      surf   \n",
       "3     1001     10     22331             53         411          65      surf   \n",
       "4     1001     11     18505             36         441          64      surf   \n",
       "\n",
       "   monthly_revenue                                   city  \n",
       "0            50.00  Atlanta-Sandy Springs-Roswell, GA MSA  \n",
       "1            20.00        Seattle-Tacoma-Bellevue, WA MSA  \n",
       "2            20.00        Seattle-Tacoma-Bellevue, WA MSA  \n",
       "3            91.68        Seattle-Tacoma-Bellevue, WA MSA  \n",
       "4            54.23        Seattle-Tacoma-Bellevue, WA MSA  "
      ]
     },
     "execution_count": 59,
     "metadata": {},
     "output_type": "execute_result"
    }
   ],
   "source": [
    "# Test the hypotheses\n",
    "# Let Mu_NY be the mean of the revenue for users in the NY-NJ area\n",
    "# Let Mu_XNYX be the mean of the revenye for users not in the NY-NJ area\n",
    "\n",
    "# H0: Mu_NY = Mu_XNYX\n",
    "# H1: Mu_NY <> Mu_XNYX\n",
    "# Conduct a two tailed t-test: requirements stated above, they are met. \n",
    "\n",
    "#Before I begin, I will need to add the city information\n",
    "df_city = df_users[['user_id', 'city']]\n",
    "\n",
    "final_data = pd.merge(final_data, df_city, on='user_id', how='inner')\n",
    "final_data.head() #looks good"
   ]
  },
  {
   "cell_type": "code",
   "execution_count": 60,
   "metadata": {},
   "outputs": [],
   "source": [
    "ny_data = final_data[final_data['city'].str.contains('NY')]\n",
    "other_regions = final_data[~final_data['city'].str.contains('NY')]\n"
   ]
  },
  {
   "cell_type": "code",
   "execution_count": 61,
   "metadata": {},
   "outputs": [
    {
     "name": "stdout",
     "output_type": "stream",
     "text": [
      "p-value: 0.1811771711512009\n",
      "We can't reject the null hypothesis that the average revenue from users in the NY-NJ area and other regions are equal.\n"
     ]
    }
   ],
   "source": [
    "# Begin Test\n",
    "alpha = 0.05\n",
    "\n",
    "result = st.ttest_ind(ny_data['monthly_revenue'], other_regions['monthly_revenue'], equal_var=True)\n",
    "\n",
    "print(f\"p-value: {result.pvalue}\")\n",
    "\n",
    "if result.pvalue < alpha:\n",
    "    print(\"We reject the null hypothesis that the average revenue from users in the NY-NJ area and other regions are equal.\")\n",
    "else:\n",
    "    print(\"We can't reject the null hypothesis that the average revenue from users in the NY-NJ area and other regions are equal.\")"
   ]
  },
  {
   "cell_type": "markdown",
   "metadata": {},
   "source": [
    "## Conclusion\n",
    "\n",
    "After a thorough analysis of user behavior and revenue generation across Megaline's Surf and Ultimate plans, several key insights have emerged. \n",
    "\n",
    "1. **User Behavior**: While both plans exhibit similar trends in call duration and internet usage, there was one major difference and a couple nuanced differences. The major difference being in the behavior when sending text messages. The data corresponded to Surf plan users sending more messages across the board, even so that we saw a difference in their distribution shapes, although minor. Surf plan users also tend to have higher variability in call duration, message count, and internet usage; potentially this is due to the plan's lower allotments. Meanwhile, Ultimate plan users demonstrated some more uniform behavior, likely influenced by their higher plan limits.\n",
    "\n",
    "2. **Revenue Generation**: Ultimate plan users contribute more to Megaline's revenue on average compared to Surf plan users. Despite the higher monthly fee, the Ultimate plan's payment structer and lesser variability, but still a high variability, in behavior contribute to its higher revenue. However, there's an opportunity to strategically adjust the Surf plan's penalty charges to capitalize on its higher variability and potentially increase revenue while keeping clients subscribed.\n",
    "\n",
    "3. **Marketing Strategy**: Based on the revenue analysis, Megaline can consider adjusting its marketing strategy to target new customers for the Ultimate plan or encourage Surf plan users to switch. Special promotions or incentives for plan switches could be effective strategies to achieve this.\n",
    "\n",
    "4. **Statistical Significance**: Statistical tests infer that the average revenue from users on the Ultimate and Surf plans is different. Additionally, we tested the hypothesis that the average revenue from users in the NY-NJ region is the same as the average revenue from users in other regions while assuming the variances for these two popluations are equal, and we were unable to reject this hypothesis.\n",
    "\n",
    "In conclusion, Megaline now has valuable insights into user behavior and revenue generation that can inform strategic decisions to optimize marketing efforts, plan offerings, and ultimately drive an increase in business growth. I wish them the best of luck!\n"
   ]
  },
  {
   "cell_type": "code",
   "execution_count": null,
   "metadata": {},
   "outputs": [],
   "source": []
  }
 ],
 "metadata": {
  "ExecuteTimeLog": [
   {
    "duration": 828,
    "start_time": "2021-11-16T09:21:11.304Z"
   },
   {
    "duration": 893,
    "start_time": "2021-11-16T09:21:17.728Z"
   },
   {
    "duration": 1150,
    "start_time": "2021-11-16T09:21:29.568Z"
   },
   {
    "duration": 3,
    "start_time": "2021-11-16T09:24:14.495Z"
   },
   {
    "duration": 120,
    "start_time": "2021-11-16T09:24:46.630Z"
   },
   {
    "duration": 3,
    "start_time": "2021-11-16T09:28:27.882Z"
   },
   {
    "duration": 4,
    "start_time": "2021-11-16T09:29:54.281Z"
   },
   {
    "duration": 3,
    "start_time": "2021-11-16T09:30:45.936Z"
   },
   {
    "duration": 4,
    "start_time": "2021-11-16T09:31:06.300Z"
   },
   {
    "duration": 113,
    "start_time": "2021-11-16T09:31:37.208Z"
   },
   {
    "duration": 143,
    "start_time": "2021-11-16T09:31:48.656Z"
   },
   {
    "duration": 98,
    "start_time": "2021-11-16T09:31:55.678Z"
   },
   {
    "duration": 3,
    "start_time": "2021-11-16T09:32:08.535Z"
   },
   {
    "duration": 111,
    "start_time": "2021-11-16T09:32:10.120Z"
   },
   {
    "duration": 3,
    "start_time": "2021-11-16T09:32:15.732Z"
   },
   {
    "duration": 4,
    "start_time": "2021-11-16T09:32:29.423Z"
   },
   {
    "duration": 3,
    "start_time": "2021-11-16T10:03:03.074Z"
   },
   {
    "duration": 3,
    "start_time": "2021-11-16T10:10:01.288Z"
   },
   {
    "duration": 3,
    "start_time": "2021-11-16T10:10:46.923Z"
   },
   {
    "duration": 121,
    "start_time": "2021-11-16T10:37:46.494Z"
   },
   {
    "duration": 125,
    "start_time": "2021-11-16T10:38:20.632Z"
   },
   {
    "duration": 112,
    "start_time": "2021-11-16T10:46:53.001Z"
   },
   {
    "duration": 110,
    "start_time": "2021-11-16T10:48:25.775Z"
   },
   {
    "duration": 3,
    "start_time": "2021-11-16T10:50:18.720Z"
   },
   {
    "duration": 4,
    "start_time": "2021-11-16T10:50:37.649Z"
   },
   {
    "duration": 2,
    "start_time": "2021-11-16T10:50:51.884Z"
   },
   {
    "duration": 3,
    "start_time": "2021-11-16T10:51:56.237Z"
   },
   {
    "duration": 101,
    "start_time": "2021-11-16T10:53:13.791Z"
   },
   {
    "duration": 3,
    "start_time": "2021-11-16T10:55:59.186Z"
   },
   {
    "duration": 3,
    "start_time": "2021-11-16T10:56:10.751Z"
   },
   {
    "duration": 3,
    "start_time": "2021-11-16T10:56:49.038Z"
   },
   {
    "duration": 3,
    "start_time": "2021-11-16T10:56:49.174Z"
   },
   {
    "duration": 4,
    "start_time": "2021-11-16T10:56:49.414Z"
   },
   {
    "duration": 3,
    "start_time": "2021-11-16T10:56:49.680Z"
   },
   {
    "duration": 3,
    "start_time": "2021-11-16T10:56:50.370Z"
   },
   {
    "duration": 114,
    "start_time": "2021-11-16T10:59:34.518Z"
   },
   {
    "duration": 3,
    "start_time": "2021-11-16T11:01:41.201Z"
   },
   {
    "duration": 116,
    "start_time": "2021-11-16T11:01:48.754Z"
   },
   {
    "duration": 3,
    "start_time": "2021-11-16T11:02:16.685Z"
   },
   {
    "duration": 3,
    "start_time": "2021-11-16T11:02:19.479Z"
   },
   {
    "duration": 3,
    "start_time": "2021-11-16T11:02:47.067Z"
   },
   {
    "duration": 3,
    "start_time": "2021-11-16T11:02:49.353Z"
   },
   {
    "duration": 3,
    "start_time": "2021-11-16T11:03:07.835Z"
   },
   {
    "duration": 3,
    "start_time": "2021-11-16T11:03:07.953Z"
   },
   {
    "duration": 112,
    "start_time": "2021-11-16T11:07:52.072Z"
   },
   {
    "duration": 187,
    "start_time": "2021-11-16T11:09:23.468Z"
   },
   {
    "duration": 4,
    "start_time": "2021-11-16T11:10:01.455Z"
   },
   {
    "duration": 3,
    "start_time": "2021-11-16T11:10:05.069Z"
   },
   {
    "duration": 4,
    "start_time": "2021-11-16T11:10:13.376Z"
   },
   {
    "duration": 3,
    "start_time": "2021-11-16T11:10:14.434Z"
   },
   {
    "duration": 3,
    "start_time": "2021-11-16T11:10:22.853Z"
   },
   {
    "duration": 4,
    "start_time": "2021-11-16T11:27:29.279Z"
   },
   {
    "duration": 4,
    "start_time": "2021-11-16T11:29:08.919Z"
   },
   {
    "duration": 118,
    "start_time": "2021-11-16T11:29:46.703Z"
   },
   {
    "duration": 437,
    "start_time": "2021-11-16T11:36:02.181Z"
   },
   {
    "duration": 157,
    "start_time": "2021-11-16T11:36:14.388Z"
   },
   {
    "duration": 207,
    "start_time": "2021-11-16T11:47:15.898Z"
   },
   {
    "duration": 3,
    "start_time": "2021-11-16T11:53:52.092Z"
   },
   {
    "duration": 3,
    "start_time": "2021-11-16T11:53:52.236Z"
   },
   {
    "duration": 3,
    "start_time": "2021-11-16T11:59:12.005Z"
   },
   {
    "duration": 112,
    "start_time": "2021-11-16T12:00:33.446Z"
   },
   {
    "duration": 3,
    "start_time": "2021-11-16T12:02:14.453Z"
   },
   {
    "duration": 3,
    "start_time": "2021-11-16T12:02:39.512Z"
   },
   {
    "duration": 106,
    "start_time": "2021-11-16T12:03:03.460Z"
   },
   {
    "duration": 3,
    "start_time": "2021-11-17T20:37:21.139Z"
   },
   {
    "duration": 3,
    "start_time": "2021-11-17T20:37:22.229Z"
   },
   {
    "duration": 3,
    "start_time": "2021-11-17T20:38:38.806Z"
   },
   {
    "duration": 3,
    "start_time": "2021-11-17T20:38:41.958Z"
   },
   {
    "duration": 3,
    "start_time": "2021-11-17T20:43:46.551Z"
   },
   {
    "duration": 4,
    "start_time": "2021-11-17T20:58:21.835Z"
   },
   {
    "duration": 3,
    "start_time": "2021-11-17T20:59:21.872Z"
   },
   {
    "duration": 4,
    "start_time": "2021-11-17T20:59:45.352Z"
   },
   {
    "duration": 4,
    "start_time": "2021-11-17T20:59:49.646Z"
   },
   {
    "duration": 159,
    "start_time": "2021-11-17T21:02:26.949Z"
   },
   {
    "duration": 3,
    "start_time": "2021-11-17T21:03:53.461Z"
   },
   {
    "duration": 3,
    "start_time": "2021-11-17T21:03:53.694Z"
   },
   {
    "duration": 3,
    "start_time": "2021-11-17T21:05:28.145Z"
   },
   {
    "duration": 116,
    "start_time": "2021-11-17T21:05:57.787Z"
   },
   {
    "duration": 3,
    "start_time": "2021-11-17T21:06:37.993Z"
   },
   {
    "duration": 3,
    "start_time": "2021-11-17T21:06:38.261Z"
   },
   {
    "duration": 3,
    "start_time": "2021-11-17T21:11:54.358Z"
   },
   {
    "duration": 3,
    "start_time": "2021-11-17T21:12:43.846Z"
   },
   {
    "duration": 4,
    "start_time": "2021-11-17T21:13:08.773Z"
   },
   {
    "duration": 3,
    "start_time": "2021-11-17T21:14:44.441Z"
   },
   {
    "duration": 3,
    "start_time": "2021-11-17T21:15:42.059Z"
   },
   {
    "duration": 4,
    "start_time": "2021-11-17T21:15:51.995Z"
   },
   {
    "duration": 3,
    "start_time": "2021-11-17T21:15:53.923Z"
   },
   {
    "duration": 3,
    "start_time": "2021-11-17T21:15:55.282Z"
   },
   {
    "duration": 3,
    "start_time": "2021-11-17T21:16:28.492Z"
   },
   {
    "duration": 3,
    "start_time": "2021-11-17T21:16:32.603Z"
   },
   {
    "duration": 3,
    "start_time": "2021-11-17T21:17:06.941Z"
   },
   {
    "duration": 98,
    "start_time": "2021-11-17T21:18:05.733Z"
   },
   {
    "duration": 4,
    "start_time": "2021-11-17T21:21:35.255Z"
   },
   {
    "duration": 3,
    "start_time": "2021-11-17T21:21:37.804Z"
   },
   {
    "duration": 4,
    "start_time": "2021-11-17T21:23:06.071Z"
   },
   {
    "duration": 3,
    "start_time": "2021-11-17T21:23:24.799Z"
   },
   {
    "duration": 3,
    "start_time": "2021-11-17T21:23:32.591Z"
   },
   {
    "duration": 98,
    "start_time": "2021-11-17T21:28:31.559Z"
   },
   {
    "duration": 3,
    "start_time": "2021-11-17T21:28:45.448Z"
   },
   {
    "duration": 3,
    "start_time": "2021-11-17T21:29:17.303Z"
   },
   {
    "duration": 3,
    "start_time": "2021-11-17T21:29:29.617Z"
   },
   {
    "duration": 3,
    "start_time": "2021-11-17T21:29:32.681Z"
   },
   {
    "duration": 3,
    "start_time": "2021-11-17T21:36:11.474Z"
   },
   {
    "duration": 3,
    "start_time": "2021-11-17T21:36:14.791Z"
   },
   {
    "duration": 3,
    "start_time": "2021-11-17T21:36:53.943Z"
   },
   {
    "duration": 3,
    "start_time": "2021-11-17T21:36:56.165Z"
   },
   {
    "duration": 4,
    "start_time": "2021-11-17T21:37:16.590Z"
   },
   {
    "duration": 3,
    "start_time": "2021-11-17T21:37:22.702Z"
   },
   {
    "duration": 4,
    "start_time": "2021-11-17T21:38:03.479Z"
   },
   {
    "duration": 3,
    "start_time": "2021-11-17T21:38:08.601Z"
   },
   {
    "duration": 3,
    "start_time": "2021-11-17T21:38:12.928Z"
   },
   {
    "duration": 3,
    "start_time": "2021-11-17T21:38:48.896Z"
   },
   {
    "duration": 2,
    "start_time": "2021-11-17T21:38:49.171Z"
   },
   {
    "duration": 4,
    "start_time": "2021-11-17T21:39:57.889Z"
   },
   {
    "duration": 3,
    "start_time": "2021-11-17T21:39:58.057Z"
   },
   {
    "duration": 3,
    "start_time": "2021-11-17T21:41:20.108Z"
   },
   {
    "duration": 3,
    "start_time": "2021-11-17T21:41:20.629Z"
   },
   {
    "duration": 3,
    "start_time": "2021-11-17T21:42:49.136Z"
   },
   {
    "duration": 3,
    "start_time": "2021-11-17T21:43:15.137Z"
   },
   {
    "duration": 4,
    "start_time": "2021-11-17T21:43:16.766Z"
   },
   {
    "duration": 4,
    "start_time": "2021-11-17T21:43:31.711Z"
   },
   {
    "duration": 3,
    "start_time": "2021-11-17T21:43:36.312Z"
   },
   {
    "duration": 4,
    "start_time": "2021-11-17T21:45:08.825Z"
   },
   {
    "duration": 4,
    "start_time": "2021-11-17T21:45:10.119Z"
   },
   {
    "duration": 4,
    "start_time": "2021-11-17T21:45:13.748Z"
   },
   {
    "duration": 3,
    "start_time": "2021-11-17T21:45:22.219Z"
   },
   {
    "duration": 3,
    "start_time": "2021-11-17T21:45:33.412Z"
   },
   {
    "duration": 2,
    "start_time": "2021-11-17T21:46:01.885Z"
   },
   {
    "duration": 3,
    "start_time": "2021-11-17T21:46:03.628Z"
   },
   {
    "duration": 107,
    "start_time": "2021-11-17T21:47:32.512Z"
   },
   {
    "duration": 103,
    "start_time": "2021-11-17T21:50:36.243Z"
   },
   {
    "duration": 3,
    "start_time": "2021-11-18T06:28:31.440Z"
   },
   {
    "duration": 3,
    "start_time": "2021-11-18T06:29:00.168Z"
   },
   {
    "duration": 3,
    "start_time": "2021-11-18T06:31:27.008Z"
   },
   {
    "duration": 2,
    "start_time": "2021-11-18T06:35:34.288Z"
   },
   {
    "duration": 2,
    "start_time": "2021-11-18T06:38:04.527Z"
   },
   {
    "duration": 4383,
    "start_time": "2024-05-30T05:47:16.575Z"
   },
   {
    "duration": 27,
    "start_time": "2024-05-30T05:52:50.694Z"
   },
   {
    "duration": 48,
    "start_time": "2024-05-30T05:54:17.899Z"
   },
   {
    "duration": 17,
    "start_time": "2024-05-30T05:55:14.138Z"
   },
   {
    "duration": 4,
    "start_time": "2024-05-30T05:55:42.291Z"
   },
   {
    "duration": 33,
    "start_time": "2024-05-30T05:56:46.343Z"
   },
   {
    "duration": 7,
    "start_time": "2024-05-30T06:04:05.790Z"
   },
   {
    "duration": 181,
    "start_time": "2024-05-30T06:04:12.263Z"
   },
   {
    "duration": 134,
    "start_time": "2024-05-30T06:11:52.691Z"
   },
   {
    "duration": 111,
    "start_time": "2024-05-30T06:22:26.349Z"
   },
   {
    "duration": 104,
    "start_time": "2024-05-30T06:23:11.157Z"
   },
   {
    "duration": 112,
    "start_time": "2024-05-30T06:23:13.636Z"
   },
   {
    "duration": 316,
    "start_time": "2024-05-30T07:47:08.820Z"
   },
   {
    "duration": 4,
    "start_time": "2024-05-30T07:47:14.879Z"
   },
   {
    "duration": 4844,
    "start_time": "2024-05-30T07:47:14.887Z"
   },
   {
    "duration": 27,
    "start_time": "2024-05-30T07:47:19.736Z"
   },
   {
    "duration": 20,
    "start_time": "2024-05-30T07:47:19.766Z"
   },
   {
    "duration": 184,
    "start_time": "2024-05-30T07:47:19.792Z"
   },
   {
    "duration": 148,
    "start_time": "2024-05-30T07:47:19.978Z"
   },
   {
    "duration": 90,
    "start_time": "2024-05-30T07:47:20.130Z"
   },
   {
    "duration": 19,
    "start_time": "2024-05-30T07:47:20.223Z"
   },
   {
    "duration": 4,
    "start_time": "2024-05-30T07:47:20.245Z"
   },
   {
    "duration": 4,
    "start_time": "2024-05-30T07:47:20.252Z"
   },
   {
    "duration": 3,
    "start_time": "2024-05-30T07:47:20.263Z"
   },
   {
    "duration": 3,
    "start_time": "2024-05-30T07:47:20.270Z"
   },
   {
    "duration": 4,
    "start_time": "2024-05-30T07:47:20.325Z"
   },
   {
    "duration": 4,
    "start_time": "2024-05-30T07:47:20.333Z"
   },
   {
    "duration": 4,
    "start_time": "2024-05-30T07:47:20.340Z"
   },
   {
    "duration": 4,
    "start_time": "2024-05-30T07:47:20.347Z"
   },
   {
    "duration": 4,
    "start_time": "2024-05-30T07:47:20.354Z"
   },
   {
    "duration": 4,
    "start_time": "2024-05-30T07:47:20.361Z"
   },
   {
    "duration": 4,
    "start_time": "2024-05-30T07:47:20.422Z"
   },
   {
    "duration": 6,
    "start_time": "2024-05-30T07:47:20.432Z"
   },
   {
    "duration": 5,
    "start_time": "2024-05-30T07:47:20.441Z"
   },
   {
    "duration": 4,
    "start_time": "2024-05-30T07:47:20.450Z"
   },
   {
    "duration": 4,
    "start_time": "2024-05-30T07:47:20.457Z"
   },
   {
    "duration": 3,
    "start_time": "2024-05-30T07:47:20.465Z"
   },
   {
    "duration": 54,
    "start_time": "2024-05-30T07:47:20.471Z"
   },
   {
    "duration": 9,
    "start_time": "2024-05-30T07:47:20.527Z"
   },
   {
    "duration": 4,
    "start_time": "2024-05-30T07:47:20.540Z"
   },
   {
    "duration": 6,
    "start_time": "2024-05-30T07:47:20.548Z"
   },
   {
    "duration": 3,
    "start_time": "2024-05-30T07:47:20.562Z"
   },
   {
    "duration": 57,
    "start_time": "2024-05-30T07:47:20.568Z"
   },
   {
    "duration": 5,
    "start_time": "2024-05-30T07:47:20.629Z"
   },
   {
    "duration": 3,
    "start_time": "2024-05-30T07:47:20.638Z"
   },
   {
    "duration": 3,
    "start_time": "2024-05-30T07:47:20.645Z"
   },
   {
    "duration": 972,
    "start_time": "2024-05-30T07:47:58.986Z"
   },
   {
    "duration": 26,
    "start_time": "2024-05-30T07:48:24.818Z"
   },
   {
    "duration": 24,
    "start_time": "2024-05-30T07:49:07.168Z"
   },
   {
    "duration": 13,
    "start_time": "2024-05-30T07:49:10.964Z"
   },
   {
    "duration": 15,
    "start_time": "2024-05-30T08:03:39.573Z"
   },
   {
    "duration": 16,
    "start_time": "2024-05-30T08:03:46.917Z"
   },
   {
    "duration": 20,
    "start_time": "2024-05-30T08:04:52.341Z"
   },
   {
    "duration": 22,
    "start_time": "2024-05-30T08:10:11.015Z"
   },
   {
    "duration": 30,
    "start_time": "2024-05-30T08:10:24.303Z"
   },
   {
    "duration": 19,
    "start_time": "2024-05-30T08:10:41.878Z"
   },
   {
    "duration": 1238,
    "start_time": "2024-05-30T08:16:16.643Z"
   },
   {
    "duration": 54,
    "start_time": "2024-05-30T08:17:11.317Z"
   },
   {
    "duration": 40,
    "start_time": "2024-05-30T08:17:15.980Z"
   },
   {
    "duration": 46,
    "start_time": "2024-05-30T08:18:34.667Z"
   },
   {
    "duration": 23,
    "start_time": "2024-05-30T08:18:53.618Z"
   },
   {
    "duration": 47,
    "start_time": "2024-05-30T08:20:27.423Z"
   },
   {
    "duration": 23,
    "start_time": "2024-05-30T08:20:48.071Z"
   },
   {
    "duration": 33,
    "start_time": "2024-05-30T08:21:11.487Z"
   },
   {
    "duration": 25,
    "start_time": "2024-05-30T08:21:31.445Z"
   },
   {
    "duration": 14,
    "start_time": "2024-05-30T08:23:51.689Z"
   },
   {
    "duration": 15,
    "start_time": "2024-05-30T08:24:24.650Z"
   },
   {
    "duration": 10,
    "start_time": "2024-05-30T08:25:27.691Z"
   },
   {
    "duration": 357,
    "start_time": "2024-05-30T08:26:10.879Z"
   },
   {
    "duration": 68,
    "start_time": "2024-05-30T08:26:31.448Z"
   },
   {
    "duration": 30,
    "start_time": "2024-05-30T08:29:20.382Z"
   },
   {
    "duration": 38,
    "start_time": "2024-05-30T08:30:41.970Z"
   },
   {
    "duration": 35,
    "start_time": "2024-05-30T08:30:58.531Z"
   },
   {
    "duration": 19,
    "start_time": "2024-05-30T08:32:36.729Z"
   },
   {
    "duration": 17,
    "start_time": "2024-05-30T08:32:48.660Z"
   },
   {
    "duration": 14,
    "start_time": "2024-05-30T08:33:37.750Z"
   },
   {
    "duration": 6,
    "start_time": "2024-05-30T08:34:39.940Z"
   },
   {
    "duration": 15,
    "start_time": "2024-05-30T08:34:54.575Z"
   },
   {
    "duration": 10,
    "start_time": "2024-05-30T08:35:40.686Z"
   },
   {
    "duration": 26,
    "start_time": "2024-05-30T08:49:16.991Z"
   },
   {
    "duration": 28,
    "start_time": "2024-05-30T08:49:28.460Z"
   },
   {
    "duration": 316,
    "start_time": "2024-05-31T02:01:52.808Z"
   },
   {
    "duration": 4,
    "start_time": "2024-05-31T02:02:01.717Z"
   },
   {
    "duration": 5009,
    "start_time": "2024-05-31T02:02:01.725Z"
   },
   {
    "duration": 25,
    "start_time": "2024-05-31T02:02:06.739Z"
   },
   {
    "duration": 28,
    "start_time": "2024-05-31T02:02:06.768Z"
   },
   {
    "duration": 176,
    "start_time": "2024-05-31T02:02:06.802Z"
   },
   {
    "duration": 147,
    "start_time": "2024-05-31T02:02:06.981Z"
   },
   {
    "duration": 93,
    "start_time": "2024-05-31T02:02:07.131Z"
   },
   {
    "duration": 15,
    "start_time": "2024-05-31T02:02:07.228Z"
   },
   {
    "duration": 17,
    "start_time": "2024-05-31T02:02:07.247Z"
   },
   {
    "duration": 3,
    "start_time": "2024-05-31T02:02:07.268Z"
   },
   {
    "duration": 57,
    "start_time": "2024-05-31T02:02:07.275Z"
   },
   {
    "duration": 19,
    "start_time": "2024-05-31T02:02:07.335Z"
   },
   {
    "duration": 33,
    "start_time": "2024-05-31T02:02:07.357Z"
   },
   {
    "duration": 11,
    "start_time": "2024-05-31T02:02:07.429Z"
   },
   {
    "duration": 26,
    "start_time": "2024-05-31T02:02:07.443Z"
   },
   {
    "duration": 56,
    "start_time": "2024-05-31T02:02:07.472Z"
   },
   {
    "duration": 22,
    "start_time": "2024-05-31T02:02:07.532Z"
   },
   {
    "duration": 3,
    "start_time": "2024-05-31T02:02:07.558Z"
   },
   {
    "duration": 3,
    "start_time": "2024-05-31T02:02:07.565Z"
   },
   {
    "duration": 4,
    "start_time": "2024-05-31T02:02:07.572Z"
   },
   {
    "duration": 46,
    "start_time": "2024-05-31T02:02:07.579Z"
   },
   {
    "duration": 4,
    "start_time": "2024-05-31T02:02:07.629Z"
   },
   {
    "duration": 5,
    "start_time": "2024-05-31T02:02:07.636Z"
   },
   {
    "duration": 3,
    "start_time": "2024-05-31T02:02:07.644Z"
   },
   {
    "duration": 4,
    "start_time": "2024-05-31T02:02:07.650Z"
   },
   {
    "duration": 4,
    "start_time": "2024-05-31T02:02:07.657Z"
   },
   {
    "duration": 8,
    "start_time": "2024-05-31T02:02:07.663Z"
   },
   {
    "duration": 4,
    "start_time": "2024-05-31T02:02:07.723Z"
   },
   {
    "duration": 4,
    "start_time": "2024-05-31T02:02:07.731Z"
   },
   {
    "duration": 5,
    "start_time": "2024-05-31T02:02:07.739Z"
   },
   {
    "duration": 3,
    "start_time": "2024-05-31T02:02:07.748Z"
   },
   {
    "duration": 5,
    "start_time": "2024-05-31T02:02:07.755Z"
   },
   {
    "duration": 4,
    "start_time": "2024-05-31T02:02:07.763Z"
   },
   {
    "duration": 55,
    "start_time": "2024-05-31T02:02:07.770Z"
   },
   {
    "duration": 3,
    "start_time": "2024-05-31T02:02:07.829Z"
   },
   {
    "duration": 4,
    "start_time": "2024-05-31T02:02:07.835Z"
   },
   {
    "duration": 3,
    "start_time": "2024-05-31T02:02:07.843Z"
   },
   {
    "duration": 24,
    "start_time": "2024-05-31T02:06:25.319Z"
   },
   {
    "duration": 28,
    "start_time": "2024-05-31T02:11:09.877Z"
   },
   {
    "duration": 48,
    "start_time": "2024-05-31T02:11:15.728Z"
   },
   {
    "duration": 25,
    "start_time": "2024-05-31T02:11:42.042Z"
   },
   {
    "duration": 24,
    "start_time": "2024-05-31T02:13:49.178Z"
   },
   {
    "duration": 7,
    "start_time": "2024-05-31T02:13:58.854Z"
   },
   {
    "duration": 25,
    "start_time": "2024-05-31T02:14:50.972Z"
   },
   {
    "duration": 27,
    "start_time": "2024-05-31T02:14:59.828Z"
   },
   {
    "duration": 27,
    "start_time": "2024-05-31T02:15:20.255Z"
   },
   {
    "duration": 28,
    "start_time": "2024-05-31T02:16:01.164Z"
   },
   {
    "duration": 30,
    "start_time": "2024-05-31T02:18:06.752Z"
   },
   {
    "duration": 25,
    "start_time": "2024-05-31T02:18:30.008Z"
   },
   {
    "duration": 22,
    "start_time": "2024-05-31T02:18:49.755Z"
   },
   {
    "duration": 47,
    "start_time": "2024-05-31T02:18:59.550Z"
   },
   {
    "duration": 20,
    "start_time": "2024-05-31T02:19:17.145Z"
   },
   {
    "duration": 1216,
    "start_time": "2024-05-31T02:58:32.207Z"
   },
   {
    "duration": 61,
    "start_time": "2024-05-31T02:58:57.941Z"
   },
   {
    "duration": 18,
    "start_time": "2024-05-31T03:21:37.442Z"
   },
   {
    "duration": 15,
    "start_time": "2024-05-31T03:22:51.809Z"
   },
   {
    "duration": 15,
    "start_time": "2024-05-31T03:23:05.525Z"
   },
   {
    "duration": 62,
    "start_time": "2024-05-31T03:28:31.190Z"
   },
   {
    "duration": 49,
    "start_time": "2024-05-31T03:36:17.258Z"
   },
   {
    "duration": 29,
    "start_time": "2024-05-31T03:36:25.404Z"
   },
   {
    "duration": 18,
    "start_time": "2024-05-31T03:36:33.952Z"
   },
   {
    "duration": 23,
    "start_time": "2024-05-31T03:36:51.751Z"
   },
   {
    "duration": 7,
    "start_time": "2024-05-31T03:37:06.516Z"
   },
   {
    "duration": 3,
    "start_time": "2024-05-31T03:37:06.601Z"
   },
   {
    "duration": 23,
    "start_time": "2024-05-31T03:37:09.898Z"
   },
   {
    "duration": 18,
    "start_time": "2024-05-31T03:39:53.818Z"
   },
   {
    "duration": 16,
    "start_time": "2024-05-31T04:02:08.234Z"
   },
   {
    "duration": 38,
    "start_time": "2024-05-31T04:07:35.971Z"
   },
   {
    "duration": 21,
    "start_time": "2024-05-31T04:07:39.954Z"
   },
   {
    "duration": 35,
    "start_time": "2024-05-31T04:09:26.835Z"
   },
   {
    "duration": 21,
    "start_time": "2024-05-31T04:10:48.711Z"
   },
   {
    "duration": 19,
    "start_time": "2024-05-31T04:10:54.980Z"
   },
   {
    "duration": 13,
    "start_time": "2024-05-31T04:16:15.676Z"
   },
   {
    "duration": 19,
    "start_time": "2024-05-31T05:21:34.100Z"
   },
   {
    "duration": 11,
    "start_time": "2024-05-31T05:22:44.055Z"
   },
   {
    "duration": 19,
    "start_time": "2024-05-31T05:25:03.205Z"
   },
   {
    "duration": 14,
    "start_time": "2024-05-31T05:28:00.123Z"
   },
   {
    "duration": 28,
    "start_time": "2024-05-31T05:28:09.427Z"
   },
   {
    "duration": 29,
    "start_time": "2024-05-31T05:28:15.848Z"
   },
   {
    "duration": 43,
    "start_time": "2024-05-31T05:30:10.555Z"
   },
   {
    "duration": 57,
    "start_time": "2024-05-31T05:31:08.836Z"
   },
   {
    "duration": 42,
    "start_time": "2024-05-31T05:32:11.736Z"
   },
   {
    "duration": 13,
    "start_time": "2024-05-31T05:32:37.036Z"
   },
   {
    "duration": 27,
    "start_time": "2024-05-31T05:32:43.497Z"
   },
   {
    "duration": 23,
    "start_time": "2024-05-31T05:32:51.275Z"
   },
   {
    "duration": 33,
    "start_time": "2024-05-31T05:33:17.815Z"
   },
   {
    "duration": 45,
    "start_time": "2024-05-31T05:33:20.219Z"
   },
   {
    "duration": 30,
    "start_time": "2024-05-31T05:33:33.591Z"
   },
   {
    "duration": 31,
    "start_time": "2024-05-31T05:33:42.597Z"
   },
   {
    "duration": 832,
    "start_time": "2024-05-31T05:43:26.950Z"
   },
   {
    "duration": 290,
    "start_time": "2024-05-31T05:43:47.568Z"
   },
   {
    "duration": 289,
    "start_time": "2024-05-31T05:43:57.855Z"
   },
   {
    "duration": 329,
    "start_time": "2024-05-31T05:44:04.419Z"
   },
   {
    "duration": 327,
    "start_time": "2024-05-31T05:44:19.891Z"
   },
   {
    "duration": 303,
    "start_time": "2024-05-31T05:44:25.660Z"
   },
   {
    "duration": 300,
    "start_time": "2024-05-31T05:44:30.695Z"
   },
   {
    "duration": 259,
    "start_time": "2024-05-31T05:44:34.734Z"
   },
   {
    "duration": 289,
    "start_time": "2024-05-31T05:44:40.418Z"
   },
   {
    "duration": 252,
    "start_time": "2024-05-31T05:44:45.911Z"
   },
   {
    "duration": 253,
    "start_time": "2024-05-31T05:45:58.507Z"
   },
   {
    "duration": 282,
    "start_time": "2024-05-31T08:05:21.210Z"
   },
   {
    "duration": 287,
    "start_time": "2024-05-31T08:06:07.703Z"
   },
   {
    "duration": 324,
    "start_time": "2024-05-31T21:37:06.885Z"
   },
   {
    "duration": 5,
    "start_time": "2024-05-31T21:37:12.952Z"
   },
   {
    "duration": 4830,
    "start_time": "2024-05-31T21:37:12.963Z"
   },
   {
    "duration": 26,
    "start_time": "2024-05-31T21:37:17.796Z"
   },
   {
    "duration": 18,
    "start_time": "2024-05-31T21:37:17.826Z"
   },
   {
    "duration": 184,
    "start_time": "2024-05-31T21:37:17.850Z"
   },
   {
    "duration": 137,
    "start_time": "2024-05-31T21:37:18.037Z"
   },
   {
    "duration": 91,
    "start_time": "2024-05-31T21:37:18.177Z"
   },
   {
    "duration": 15,
    "start_time": "2024-05-31T21:37:18.271Z"
   },
   {
    "duration": 17,
    "start_time": "2024-05-31T21:37:18.291Z"
   },
   {
    "duration": 4,
    "start_time": "2024-05-31T21:37:18.311Z"
   },
   {
    "duration": 14,
    "start_time": "2024-05-31T21:37:18.318Z"
   },
   {
    "duration": 57,
    "start_time": "2024-05-31T21:37:18.335Z"
   },
   {
    "duration": 25,
    "start_time": "2024-05-31T21:37:18.396Z"
   },
   {
    "duration": 13,
    "start_time": "2024-05-31T21:37:18.429Z"
   },
   {
    "duration": 61,
    "start_time": "2024-05-31T21:37:18.447Z"
   },
   {
    "duration": 19,
    "start_time": "2024-05-31T21:37:18.511Z"
   },
   {
    "duration": 57,
    "start_time": "2024-05-31T21:37:18.534Z"
   },
   {
    "duration": 27,
    "start_time": "2024-05-31T21:37:18.594Z"
   },
   {
    "duration": 75,
    "start_time": "2024-05-31T21:37:18.624Z"
   },
   {
    "duration": 51,
    "start_time": "2024-05-31T21:37:18.703Z"
   },
   {
    "duration": 42,
    "start_time": "2024-05-31T21:37:18.757Z"
   },
   {
    "duration": 13,
    "start_time": "2024-05-31T21:37:18.803Z"
   },
   {
    "duration": 18,
    "start_time": "2024-05-31T21:37:18.819Z"
   },
   {
    "duration": 60,
    "start_time": "2024-05-31T21:37:18.840Z"
   },
   {
    "duration": 21,
    "start_time": "2024-05-31T21:37:18.903Z"
   },
   {
    "duration": 16,
    "start_time": "2024-05-31T21:37:18.927Z"
   },
   {
    "duration": 58,
    "start_time": "2024-05-31T21:37:18.947Z"
   },
   {
    "duration": 21,
    "start_time": "2024-05-31T21:37:19.008Z"
   },
   {
    "duration": 13,
    "start_time": "2024-05-31T21:37:19.033Z"
   },
   {
    "duration": 330,
    "start_time": "2024-05-31T21:37:19.050Z"
   },
   {
    "duration": 9,
    "start_time": "2024-05-31T21:37:19.383Z"
   },
   {
    "duration": 4,
    "start_time": "2024-05-31T21:37:19.395Z"
   },
   {
    "duration": 9,
    "start_time": "2024-05-31T21:37:19.401Z"
   },
   {
    "duration": 3,
    "start_time": "2024-05-31T21:37:19.414Z"
   },
   {
    "duration": 4,
    "start_time": "2024-05-31T21:37:19.419Z"
   },
   {
    "duration": 4,
    "start_time": "2024-05-31T21:37:19.427Z"
   },
   {
    "duration": 6,
    "start_time": "2024-05-31T21:37:19.435Z"
   },
   {
    "duration": 48,
    "start_time": "2024-05-31T21:37:19.444Z"
   },
   {
    "duration": 4,
    "start_time": "2024-05-31T21:37:19.495Z"
   },
   {
    "duration": 4,
    "start_time": "2024-05-31T21:37:19.502Z"
   },
   {
    "duration": 3,
    "start_time": "2024-05-31T21:37:19.514Z"
   },
   {
    "duration": 3,
    "start_time": "2024-05-31T21:37:19.520Z"
   },
   {
    "duration": 3,
    "start_time": "2024-05-31T21:37:19.527Z"
   },
   {
    "duration": 58,
    "start_time": "2024-05-31T21:37:19.532Z"
   },
   {
    "duration": 258,
    "start_time": "2024-05-31T21:38:18.012Z"
   },
   {
    "duration": 18,
    "start_time": "2024-05-31T21:50:48.706Z"
   },
   {
    "duration": 25,
    "start_time": "2024-05-31T21:52:12.730Z"
   },
   {
    "duration": 32,
    "start_time": "2024-05-31T21:53:06.793Z"
   },
   {
    "duration": 21,
    "start_time": "2024-05-31T21:54:20.334Z"
   },
   {
    "duration": 23,
    "start_time": "2024-05-31T21:54:37.160Z"
   },
   {
    "duration": 204,
    "start_time": "2024-05-31T22:20:10.842Z"
   },
   {
    "duration": 24,
    "start_time": "2024-05-31T22:20:19.803Z"
   },
   {
    "duration": 22,
    "start_time": "2024-05-31T22:20:23.894Z"
   },
   {
    "duration": 22,
    "start_time": "2024-05-31T22:20:46.787Z"
   },
   {
    "duration": 327,
    "start_time": "2024-05-31T22:23:03.787Z"
   },
   {
    "duration": 294,
    "start_time": "2024-05-31T22:23:15.316Z"
   },
   {
    "duration": 335,
    "start_time": "2024-05-31T22:23:26.564Z"
   },
   {
    "duration": 32,
    "start_time": "2024-05-31T22:31:56.916Z"
   },
   {
    "duration": 33,
    "start_time": "2024-05-31T22:34:59.174Z"
   },
   {
    "duration": 9,
    "start_time": "2024-05-31T22:59:29.296Z"
   },
   {
    "duration": 308,
    "start_time": "2024-05-31T22:59:35.800Z"
   },
   {
    "duration": 17,
    "start_time": "2024-05-31T22:59:42.409Z"
   },
   {
    "duration": 522,
    "start_time": "2024-05-31T23:04:22.535Z"
   },
   {
    "duration": 68,
    "start_time": "2024-05-31T23:04:31.203Z"
   },
   {
    "duration": 254,
    "start_time": "2024-05-31T23:06:42.102Z"
   },
   {
    "duration": 271,
    "start_time": "2024-05-31T23:06:53.295Z"
   },
   {
    "duration": 49,
    "start_time": "2024-05-31T23:15:37.022Z"
   },
   {
    "duration": 356,
    "start_time": "2024-05-31T23:20:30.502Z"
   },
   {
    "duration": 254,
    "start_time": "2024-05-31T23:20:40.804Z"
   },
   {
    "duration": 34,
    "start_time": "2024-05-31T23:21:10.133Z"
   },
   {
    "duration": 8,
    "start_time": "2024-05-31T23:24:29.847Z"
   },
   {
    "duration": 448,
    "start_time": "2024-05-31T23:25:11.996Z"
   },
   {
    "duration": 870,
    "start_time": "2024-05-31T23:25:52.159Z"
   },
   {
    "duration": 91,
    "start_time": "2024-05-31T23:26:22.236Z"
   },
   {
    "duration": 84,
    "start_time": "2024-05-31T23:26:55.568Z"
   },
   {
    "duration": 42,
    "start_time": "2024-05-31T23:27:45.484Z"
   },
   {
    "duration": 39,
    "start_time": "2024-05-31T23:28:20.054Z"
   },
   {
    "duration": 41,
    "start_time": "2024-05-31T23:28:32.059Z"
   },
   {
    "duration": 287,
    "start_time": "2024-05-31T23:28:49.282Z"
   },
   {
    "duration": 20,
    "start_time": "2024-05-31T23:33:12.234Z"
   },
   {
    "duration": 20,
    "start_time": "2024-05-31T23:36:20.804Z"
   },
   {
    "duration": 43,
    "start_time": "2024-05-31T23:41:40.001Z"
   },
   {
    "duration": 15,
    "start_time": "2024-05-31T23:42:28.992Z"
   },
   {
    "duration": 21,
    "start_time": "2024-05-31T23:42:37.378Z"
   },
   {
    "duration": 51,
    "start_time": "2024-05-31T23:43:15.016Z"
   },
   {
    "duration": 45,
    "start_time": "2024-05-31T23:43:36.862Z"
   },
   {
    "duration": 38,
    "start_time": "2024-05-31T23:43:43.775Z"
   },
   {
    "duration": 17,
    "start_time": "2024-05-31T23:51:51.224Z"
   },
   {
    "duration": 17,
    "start_time": "2024-05-31T23:51:53.698Z"
   },
   {
    "duration": 15,
    "start_time": "2024-05-31T23:51:58.659Z"
   },
   {
    "duration": 4,
    "start_time": "2024-05-31T23:52:12.373Z"
   },
   {
    "duration": 1259,
    "start_time": "2024-05-31T23:52:12.381Z"
   },
   {
    "duration": 24,
    "start_time": "2024-05-31T23:52:13.644Z"
   },
   {
    "duration": 37,
    "start_time": "2024-05-31T23:52:13.672Z"
   },
   {
    "duration": 164,
    "start_time": "2024-05-31T23:52:13.715Z"
   },
   {
    "duration": 121,
    "start_time": "2024-05-31T23:52:13.883Z"
   },
   {
    "duration": 86,
    "start_time": "2024-05-31T23:52:14.007Z"
   },
   {
    "duration": 15,
    "start_time": "2024-05-31T23:52:14.095Z"
   },
   {
    "duration": 16,
    "start_time": "2024-05-31T23:52:14.113Z"
   },
   {
    "duration": 4,
    "start_time": "2024-05-31T23:52:14.133Z"
   },
   {
    "duration": 55,
    "start_time": "2024-05-31T23:52:14.140Z"
   },
   {
    "duration": 17,
    "start_time": "2024-05-31T23:52:14.198Z"
   },
   {
    "duration": 23,
    "start_time": "2024-05-31T23:52:14.218Z"
   },
   {
    "duration": 48,
    "start_time": "2024-05-31T23:52:14.249Z"
   },
   {
    "duration": 27,
    "start_time": "2024-05-31T23:52:14.300Z"
   },
   {
    "duration": 17,
    "start_time": "2024-05-31T23:52:14.330Z"
   },
   {
    "duration": 61,
    "start_time": "2024-05-31T23:52:14.349Z"
   },
   {
    "duration": 28,
    "start_time": "2024-05-31T23:52:14.413Z"
   },
   {
    "duration": 78,
    "start_time": "2024-05-31T23:52:14.444Z"
   },
   {
    "duration": 71,
    "start_time": "2024-05-31T23:52:14.525Z"
   },
   {
    "duration": 20,
    "start_time": "2024-05-31T23:52:14.599Z"
   },
   {
    "duration": 13,
    "start_time": "2024-05-31T23:52:14.622Z"
   },
   {
    "duration": 51,
    "start_time": "2024-05-31T23:52:14.639Z"
   },
   {
    "duration": 23,
    "start_time": "2024-05-31T23:52:14.693Z"
   },
   {
    "duration": 22,
    "start_time": "2024-05-31T23:52:14.719Z"
   },
   {
    "duration": 49,
    "start_time": "2024-05-31T23:52:14.744Z"
   },
   {
    "duration": 31,
    "start_time": "2024-05-31T23:52:14.797Z"
   },
   {
    "duration": 21,
    "start_time": "2024-05-31T23:52:14.831Z"
   },
   {
    "duration": 39,
    "start_time": "2024-05-31T23:52:14.855Z"
   },
   {
    "duration": 298,
    "start_time": "2024-05-31T23:52:14.897Z"
   },
   {
    "duration": 271,
    "start_time": "2024-05-31T23:52:15.197Z"
   },
   {
    "duration": 43,
    "start_time": "2024-05-31T23:52:15.474Z"
   },
   {
    "duration": 40,
    "start_time": "2024-05-31T23:52:15.520Z"
   },
   {
    "duration": 27,
    "start_time": "2024-05-31T23:52:15.563Z"
   },
   {
    "duration": 3,
    "start_time": "2024-05-31T23:52:15.593Z"
   },
   {
    "duration": 4,
    "start_time": "2024-05-31T23:52:15.599Z"
   },
   {
    "duration": 4,
    "start_time": "2024-05-31T23:52:15.606Z"
   },
   {
    "duration": 3,
    "start_time": "2024-05-31T23:52:15.615Z"
   },
   {
    "duration": 4,
    "start_time": "2024-05-31T23:52:15.622Z"
   },
   {
    "duration": 4,
    "start_time": "2024-05-31T23:52:15.630Z"
   },
   {
    "duration": 3,
    "start_time": "2024-05-31T23:52:15.697Z"
   },
   {
    "duration": 4,
    "start_time": "2024-05-31T23:52:15.703Z"
   },
   {
    "duration": 3,
    "start_time": "2024-05-31T23:52:15.711Z"
   },
   {
    "duration": 4,
    "start_time": "2024-05-31T23:52:15.718Z"
   },
   {
    "duration": 34,
    "start_time": "2024-05-31T23:58:27.690Z"
   },
   {
    "duration": 23,
    "start_time": "2024-06-01T00:00:11.152Z"
   },
   {
    "duration": 18,
    "start_time": "2024-06-01T00:00:19.084Z"
   },
   {
    "duration": 7,
    "start_time": "2024-06-01T00:00:20.083Z"
   },
   {
    "duration": 26,
    "start_time": "2024-06-01T00:00:26.655Z"
   },
   {
    "duration": 15,
    "start_time": "2024-06-01T00:03:13.495Z"
   },
   {
    "duration": 5,
    "start_time": "2024-06-01T00:08:03.506Z"
   },
   {
    "duration": 1259,
    "start_time": "2024-06-01T00:08:03.516Z"
   },
   {
    "duration": 54,
    "start_time": "2024-06-01T00:08:04.779Z"
   },
   {
    "duration": 30,
    "start_time": "2024-06-01T00:08:04.837Z"
   },
   {
    "duration": 149,
    "start_time": "2024-06-01T00:08:04.872Z"
   },
   {
    "duration": 145,
    "start_time": "2024-06-01T00:08:05.024Z"
   },
   {
    "duration": 83,
    "start_time": "2024-06-01T00:08:05.172Z"
   },
   {
    "duration": 17,
    "start_time": "2024-06-01T00:08:05.258Z"
   },
   {
    "duration": 18,
    "start_time": "2024-06-01T00:08:05.290Z"
   },
   {
    "duration": 4,
    "start_time": "2024-06-01T00:08:05.312Z"
   },
   {
    "duration": 17,
    "start_time": "2024-06-01T00:08:05.320Z"
   },
   {
    "duration": 60,
    "start_time": "2024-06-01T00:08:05.340Z"
   },
   {
    "duration": 27,
    "start_time": "2024-06-01T00:08:05.403Z"
   },
   {
    "duration": 10,
    "start_time": "2024-06-01T00:08:05.439Z"
   },
   {
    "duration": 70,
    "start_time": "2024-06-01T00:08:05.452Z"
   },
   {
    "duration": 19,
    "start_time": "2024-06-01T00:08:05.525Z"
   },
   {
    "duration": 67,
    "start_time": "2024-06-01T00:08:05.547Z"
   },
   {
    "duration": 20,
    "start_time": "2024-06-01T00:08:05.618Z"
   },
   {
    "duration": 7,
    "start_time": "2024-06-01T00:08:05.641Z"
   },
   {
    "duration": 107,
    "start_time": "2024-06-01T00:08:05.652Z"
   },
   {
    "duration": 62,
    "start_time": "2024-06-01T00:08:05.763Z"
   },
   {
    "duration": 20,
    "start_time": "2024-06-01T00:08:05.829Z"
   },
   {
    "duration": 35,
    "start_time": "2024-06-01T00:08:05.857Z"
   },
   {
    "duration": 18,
    "start_time": "2024-06-01T00:08:05.896Z"
   },
   {
    "duration": 26,
    "start_time": "2024-06-01T00:08:05.917Z"
   },
   {
    "duration": 57,
    "start_time": "2024-06-01T00:08:05.946Z"
   },
   {
    "duration": 19,
    "start_time": "2024-06-01T00:08:06.007Z"
   },
   {
    "duration": 25,
    "start_time": "2024-06-01T00:08:06.029Z"
   },
   {
    "duration": 53,
    "start_time": "2024-06-01T00:08:06.057Z"
   },
   {
    "duration": 14,
    "start_time": "2024-06-01T00:08:06.113Z"
   },
   {
    "duration": 363,
    "start_time": "2024-06-01T00:08:06.130Z"
   },
   {
    "duration": 308,
    "start_time": "2024-06-01T00:08:06.496Z"
   },
   {
    "duration": 41,
    "start_time": "2024-06-01T00:08:06.807Z"
   },
   {
    "duration": 64,
    "start_time": "2024-06-01T00:08:06.851Z"
   },
   {
    "duration": 4,
    "start_time": "2024-06-01T00:08:06.919Z"
   },
   {
    "duration": 3,
    "start_time": "2024-06-01T00:08:06.927Z"
   },
   {
    "duration": 4,
    "start_time": "2024-06-01T00:08:06.933Z"
   },
   {
    "duration": 4,
    "start_time": "2024-06-01T00:08:06.941Z"
   },
   {
    "duration": 43,
    "start_time": "2024-06-01T00:08:06.948Z"
   },
   {
    "duration": 4,
    "start_time": "2024-06-01T00:08:06.994Z"
   },
   {
    "duration": 3,
    "start_time": "2024-06-01T00:08:07.006Z"
   },
   {
    "duration": 3,
    "start_time": "2024-06-01T00:08:07.012Z"
   },
   {
    "duration": 4,
    "start_time": "2024-06-01T00:08:07.018Z"
   },
   {
    "duration": 5,
    "start_time": "2024-06-01T00:08:07.025Z"
   },
   {
    "duration": 4,
    "start_time": "2024-06-01T00:08:07.034Z"
   },
   {
    "duration": 37,
    "start_time": "2024-06-01T00:08:49.766Z"
   },
   {
    "duration": 17,
    "start_time": "2024-06-01T00:09:07.299Z"
   },
   {
    "duration": 132,
    "start_time": "2024-06-01T00:09:34.367Z"
   },
   {
    "duration": 68,
    "start_time": "2024-06-01T00:09:47.003Z"
   },
   {
    "duration": 78,
    "start_time": "2024-06-01T00:09:53.279Z"
   },
   {
    "duration": 71,
    "start_time": "2024-06-01T00:09:55.750Z"
   },
   {
    "duration": 20,
    "start_time": "2024-06-01T00:12:31.312Z"
   },
   {
    "duration": 17,
    "start_time": "2024-06-01T00:12:47.072Z"
   },
   {
    "duration": 19,
    "start_time": "2024-06-01T00:13:00.930Z"
   },
   {
    "duration": 18,
    "start_time": "2024-06-01T00:13:12.926Z"
   },
   {
    "duration": 502,
    "start_time": "2024-06-01T00:17:57.730Z"
   },
   {
    "duration": 33,
    "start_time": "2024-06-01T00:18:03.321Z"
   },
   {
    "duration": 34,
    "start_time": "2024-06-01T00:18:22.337Z"
   },
   {
    "duration": 10,
    "start_time": "2024-06-01T00:26:00.703Z"
   },
   {
    "duration": 5,
    "start_time": "2024-06-01T00:26:34.537Z"
   },
   {
    "duration": 5,
    "start_time": "2024-06-01T00:26:56.597Z"
   },
   {
    "duration": 5,
    "start_time": "2024-06-01T00:27:28.617Z"
   },
   {
    "duration": 6,
    "start_time": "2024-06-01T00:28:25.659Z"
   },
   {
    "duration": 28,
    "start_time": "2024-06-01T01:10:46.072Z"
   },
   {
    "duration": 51,
    "start_time": "2024-06-01T01:11:32.080Z"
   },
   {
    "duration": 5,
    "start_time": "2024-06-01T01:18:08.006Z"
   },
   {
    "duration": 5,
    "start_time": "2024-06-01T01:20:35.668Z"
   },
   {
    "duration": 6,
    "start_time": "2024-06-01T01:24:22.907Z"
   },
   {
    "duration": 948,
    "start_time": "2024-06-01T01:24:29.302Z"
   },
   {
    "duration": 25,
    "start_time": "2024-06-01T01:24:56.871Z"
   },
   {
    "duration": 783,
    "start_time": "2024-06-01T01:26:01.953Z"
   },
   {
    "duration": 33,
    "start_time": "2024-06-01T01:27:44.647Z"
   },
   {
    "duration": 25,
    "start_time": "2024-06-01T01:28:16.124Z"
   },
   {
    "duration": 29,
    "start_time": "2024-06-01T01:28:28.023Z"
   },
   {
    "duration": 5,
    "start_time": "2024-06-01T01:28:47.334Z"
   },
   {
    "duration": 1419,
    "start_time": "2024-06-01T01:28:47.343Z"
   },
   {
    "duration": 35,
    "start_time": "2024-06-01T01:28:48.771Z"
   },
   {
    "duration": 29,
    "start_time": "2024-06-01T01:28:48.814Z"
   },
   {
    "duration": 193,
    "start_time": "2024-06-01T01:28:48.848Z"
   },
   {
    "duration": 162,
    "start_time": "2024-06-01T01:28:49.044Z"
   },
   {
    "duration": 108,
    "start_time": "2024-06-01T01:28:49.210Z"
   },
   {
    "duration": 23,
    "start_time": "2024-06-01T01:28:49.328Z"
   },
   {
    "duration": 18,
    "start_time": "2024-06-01T01:28:49.355Z"
   },
   {
    "duration": 15,
    "start_time": "2024-06-01T01:28:49.377Z"
   },
   {
    "duration": 29,
    "start_time": "2024-06-01T01:28:49.401Z"
   },
   {
    "duration": 23,
    "start_time": "2024-06-01T01:28:49.434Z"
   },
   {
    "duration": 47,
    "start_time": "2024-06-01T01:28:49.460Z"
   },
   {
    "duration": 11,
    "start_time": "2024-06-01T01:28:49.515Z"
   },
   {
    "duration": 62,
    "start_time": "2024-06-01T01:28:49.530Z"
   },
   {
    "duration": 23,
    "start_time": "2024-06-01T01:28:49.595Z"
   },
   {
    "duration": 75,
    "start_time": "2024-06-01T01:28:49.622Z"
   },
   {
    "duration": 21,
    "start_time": "2024-06-01T01:28:49.700Z"
   },
   {
    "duration": 109,
    "start_time": "2024-06-01T01:28:49.724Z"
   },
   {
    "duration": 64,
    "start_time": "2024-06-01T01:28:49.837Z"
   },
   {
    "duration": 25,
    "start_time": "2024-06-01T01:28:49.904Z"
   },
   {
    "duration": 18,
    "start_time": "2024-06-01T01:28:49.932Z"
   },
   {
    "duration": 63,
    "start_time": "2024-06-01T01:28:49.953Z"
   },
   {
    "duration": 34,
    "start_time": "2024-06-01T01:28:50.020Z"
   },
   {
    "duration": 39,
    "start_time": "2024-06-01T01:28:50.058Z"
   },
   {
    "duration": 20,
    "start_time": "2024-06-01T01:28:50.100Z"
   },
   {
    "duration": 31,
    "start_time": "2024-06-01T01:28:50.123Z"
   },
   {
    "duration": 48,
    "start_time": "2024-06-01T01:28:50.158Z"
   },
   {
    "duration": 15,
    "start_time": "2024-06-01T01:28:50.210Z"
   },
   {
    "duration": 435,
    "start_time": "2024-06-01T01:28:50.228Z"
   },
   {
    "duration": 356,
    "start_time": "2024-06-01T01:28:50.666Z"
   },
   {
    "duration": 66,
    "start_time": "2024-06-01T01:28:51.026Z"
   },
   {
    "duration": 45,
    "start_time": "2024-06-01T01:28:51.095Z"
   },
   {
    "duration": 20,
    "start_time": "2024-06-01T01:28:51.145Z"
   },
   {
    "duration": 42,
    "start_time": "2024-06-01T01:28:51.182Z"
   },
   {
    "duration": 37,
    "start_time": "2024-06-01T01:28:51.227Z"
   },
   {
    "duration": 22,
    "start_time": "2024-06-01T01:28:51.268Z"
   },
   {
    "duration": 6,
    "start_time": "2024-06-01T01:28:51.301Z"
   },
   {
    "duration": 3,
    "start_time": "2024-06-01T01:28:51.311Z"
   },
   {
    "duration": 8,
    "start_time": "2024-06-01T01:28:51.319Z"
   },
   {
    "duration": 4,
    "start_time": "2024-06-01T01:28:51.339Z"
   },
   {
    "duration": 4,
    "start_time": "2024-06-01T01:28:51.347Z"
   },
   {
    "duration": 36,
    "start_time": "2024-06-01T01:28:51.355Z"
   },
   {
    "duration": 4,
    "start_time": "2024-06-01T01:28:51.395Z"
   },
   {
    "duration": 4,
    "start_time": "2024-06-01T01:28:51.403Z"
   },
   {
    "duration": 18,
    "start_time": "2024-06-01T01:29:41.981Z"
   },
   {
    "duration": 5,
    "start_time": "2024-06-01T02:18:05.874Z"
   },
   {
    "duration": 8,
    "start_time": "2024-06-01T02:24:47.558Z"
   },
   {
    "duration": 8,
    "start_time": "2024-06-01T02:25:39.898Z"
   },
   {
    "duration": 235,
    "start_time": "2024-06-01T02:26:54.737Z"
   },
   {
    "duration": 1137,
    "start_time": "2024-06-01T02:28:10.276Z"
   },
   {
    "duration": 7,
    "start_time": "2024-06-01T02:28:50.420Z"
   },
   {
    "duration": 6,
    "start_time": "2024-06-01T02:28:56.957Z"
   },
   {
    "duration": 69,
    "start_time": "2024-06-01T02:29:55.073Z"
   },
   {
    "duration": 76,
    "start_time": "2024-06-01T02:30:01.529Z"
   },
   {
    "duration": 8,
    "start_time": "2024-06-01T02:30:55.568Z"
   },
   {
    "duration": 83,
    "start_time": "2024-06-01T02:31:00.350Z"
   },
   {
    "duration": 73,
    "start_time": "2024-06-01T02:31:22.220Z"
   },
   {
    "duration": 98,
    "start_time": "2024-06-01T03:09:31.046Z"
   },
   {
    "duration": 80,
    "start_time": "2024-06-01T03:09:44.039Z"
   },
   {
    "duration": 17,
    "start_time": "2024-06-01T03:57:21.731Z"
   },
   {
    "duration": 26,
    "start_time": "2024-06-01T03:58:40.536Z"
   },
   {
    "duration": 8,
    "start_time": "2024-06-01T03:58:49.773Z"
   },
   {
    "duration": 1179,
    "start_time": "2024-06-01T03:58:49.786Z"
   },
   {
    "duration": 30,
    "start_time": "2024-06-01T03:58:50.970Z"
   },
   {
    "duration": 16,
    "start_time": "2024-06-01T03:58:51.003Z"
   },
   {
    "duration": 152,
    "start_time": "2024-06-01T03:58:51.023Z"
   },
   {
    "duration": 121,
    "start_time": "2024-06-01T03:58:51.178Z"
   },
   {
    "duration": 78,
    "start_time": "2024-06-01T03:58:51.302Z"
   },
   {
    "duration": 19,
    "start_time": "2024-06-01T03:58:51.383Z"
   },
   {
    "duration": 17,
    "start_time": "2024-06-01T03:58:51.406Z"
   },
   {
    "duration": 4,
    "start_time": "2024-06-01T03:58:51.426Z"
   },
   {
    "duration": 57,
    "start_time": "2024-06-01T03:58:51.436Z"
   },
   {
    "duration": 19,
    "start_time": "2024-06-01T03:58:51.497Z"
   },
   {
    "duration": 23,
    "start_time": "2024-06-01T03:58:51.520Z"
   },
   {
    "duration": 44,
    "start_time": "2024-06-01T03:58:51.547Z"
   },
   {
    "duration": 24,
    "start_time": "2024-06-01T03:58:51.595Z"
   },
   {
    "duration": 17,
    "start_time": "2024-06-01T03:58:51.622Z"
   },
   {
    "duration": 72,
    "start_time": "2024-06-01T03:58:51.642Z"
   },
   {
    "duration": 15,
    "start_time": "2024-06-01T03:58:51.717Z"
   },
   {
    "duration": 98,
    "start_time": "2024-06-01T03:58:51.736Z"
   },
   {
    "duration": 62,
    "start_time": "2024-06-01T03:58:51.838Z"
   },
   {
    "duration": 22,
    "start_time": "2024-06-01T03:58:51.904Z"
   },
   {
    "duration": 14,
    "start_time": "2024-06-01T03:58:51.930Z"
   },
   {
    "duration": 47,
    "start_time": "2024-06-01T03:58:51.947Z"
   },
   {
    "duration": 22,
    "start_time": "2024-06-01T03:58:51.998Z"
   },
   {
    "duration": 21,
    "start_time": "2024-06-01T03:58:52.023Z"
   },
   {
    "duration": 52,
    "start_time": "2024-06-01T03:58:52.047Z"
   },
   {
    "duration": 23,
    "start_time": "2024-06-01T03:58:52.102Z"
   },
   {
    "duration": 20,
    "start_time": "2024-06-01T03:58:52.127Z"
   },
   {
    "duration": 41,
    "start_time": "2024-06-01T03:58:52.155Z"
   },
   {
    "duration": 306,
    "start_time": "2024-06-01T03:58:52.199Z"
   },
   {
    "duration": 294,
    "start_time": "2024-06-01T03:58:52.511Z"
   },
   {
    "duration": 38,
    "start_time": "2024-06-01T03:58:52.811Z"
   },
   {
    "duration": 59,
    "start_time": "2024-06-01T03:58:52.852Z"
   },
   {
    "duration": 5,
    "start_time": "2024-06-01T03:58:52.914Z"
   },
   {
    "duration": 28,
    "start_time": "2024-06-01T03:58:52.923Z"
   },
   {
    "duration": 54,
    "start_time": "2024-06-01T03:58:52.955Z"
   },
   {
    "duration": 19,
    "start_time": "2024-06-01T03:58:53.013Z"
   },
   {
    "duration": 9,
    "start_time": "2024-06-01T03:58:53.035Z"
   },
   {
    "duration": 123,
    "start_time": "2024-06-01T03:58:53.048Z"
   },
   {
    "duration": 495,
    "start_time": "2024-06-01T03:58:53.174Z"
   },
   {
    "duration": 0,
    "start_time": "2024-06-01T03:58:53.672Z"
   },
   {
    "duration": 0,
    "start_time": "2024-06-01T03:58:53.674Z"
   },
   {
    "duration": 0,
    "start_time": "2024-06-01T03:58:53.677Z"
   },
   {
    "duration": 0,
    "start_time": "2024-06-01T03:58:53.692Z"
   },
   {
    "duration": 0,
    "start_time": "2024-06-01T03:58:53.694Z"
   },
   {
    "duration": 0,
    "start_time": "2024-06-01T03:58:53.698Z"
   },
   {
    "duration": 0,
    "start_time": "2024-06-01T03:58:53.700Z"
   },
   {
    "duration": 27,
    "start_time": "2024-06-01T03:58:55.564Z"
   },
   {
    "duration": 25,
    "start_time": "2024-06-01T03:59:21.249Z"
   },
   {
    "duration": 1222,
    "start_time": "2024-06-01T03:59:27.140Z"
   },
   {
    "duration": 5,
    "start_time": "2024-06-01T03:59:36.288Z"
   },
   {
    "duration": 1203,
    "start_time": "2024-06-01T03:59:36.297Z"
   },
   {
    "duration": 21,
    "start_time": "2024-06-01T03:59:37.503Z"
   },
   {
    "duration": 18,
    "start_time": "2024-06-01T03:59:37.527Z"
   },
   {
    "duration": 173,
    "start_time": "2024-06-01T03:59:37.551Z"
   },
   {
    "duration": 117,
    "start_time": "2024-06-01T03:59:37.726Z"
   },
   {
    "duration": 89,
    "start_time": "2024-06-01T03:59:37.846Z"
   },
   {
    "duration": 17,
    "start_time": "2024-06-01T03:59:37.938Z"
   },
   {
    "duration": 38,
    "start_time": "2024-06-01T03:59:37.959Z"
   },
   {
    "duration": 4,
    "start_time": "2024-06-01T03:59:38.001Z"
   },
   {
    "duration": 14,
    "start_time": "2024-06-01T03:59:38.008Z"
   },
   {
    "duration": 18,
    "start_time": "2024-06-01T03:59:38.025Z"
   },
   {
    "duration": 63,
    "start_time": "2024-06-01T03:59:38.046Z"
   },
   {
    "duration": 11,
    "start_time": "2024-06-01T03:59:38.116Z"
   },
   {
    "duration": 27,
    "start_time": "2024-06-01T03:59:38.129Z"
   },
   {
    "duration": 18,
    "start_time": "2024-06-01T03:59:38.192Z"
   },
   {
    "duration": 37,
    "start_time": "2024-06-01T03:59:38.215Z"
   },
   {
    "duration": 40,
    "start_time": "2024-06-01T03:59:38.254Z"
   },
   {
    "duration": 69,
    "start_time": "2024-06-01T03:59:38.297Z"
   },
   {
    "duration": 44,
    "start_time": "2024-06-01T03:59:38.391Z"
   },
   {
    "duration": 20,
    "start_time": "2024-06-01T03:59:38.438Z"
   },
   {
    "duration": 40,
    "start_time": "2024-06-01T03:59:38.461Z"
   },
   {
    "duration": 18,
    "start_time": "2024-06-01T03:59:38.505Z"
   },
   {
    "duration": 24,
    "start_time": "2024-06-01T03:59:38.526Z"
   },
   {
    "duration": 55,
    "start_time": "2024-06-01T03:59:38.554Z"
   },
   {
    "duration": 17,
    "start_time": "2024-06-01T03:59:38.612Z"
   },
   {
    "duration": 22,
    "start_time": "2024-06-01T03:59:38.631Z"
   },
   {
    "duration": 19,
    "start_time": "2024-06-01T03:59:38.690Z"
   },
   {
    "duration": 12,
    "start_time": "2024-06-01T03:59:38.713Z"
   },
   {
    "duration": 341,
    "start_time": "2024-06-01T03:59:38.728Z"
   },
   {
    "duration": 278,
    "start_time": "2024-06-01T03:59:39.073Z"
   },
   {
    "duration": 51,
    "start_time": "2024-06-01T03:59:39.355Z"
   },
   {
    "duration": 35,
    "start_time": "2024-06-01T03:59:39.409Z"
   },
   {
    "duration": 6,
    "start_time": "2024-06-01T03:59:39.447Z"
   },
   {
    "duration": 56,
    "start_time": "2024-06-01T03:59:39.456Z"
   },
   {
    "duration": 23,
    "start_time": "2024-06-01T03:59:39.515Z"
   },
   {
    "duration": 52,
    "start_time": "2024-06-01T03:59:39.542Z"
   },
   {
    "duration": 8,
    "start_time": "2024-06-01T03:59:39.597Z"
   },
   {
    "duration": 101,
    "start_time": "2024-06-01T03:59:39.614Z"
   },
   {
    "duration": 494,
    "start_time": "2024-06-01T03:59:39.718Z"
   },
   {
    "duration": 0,
    "start_time": "2024-06-01T03:59:40.215Z"
   },
   {
    "duration": 0,
    "start_time": "2024-06-01T03:59:40.217Z"
   },
   {
    "duration": 0,
    "start_time": "2024-06-01T03:59:40.220Z"
   },
   {
    "duration": 0,
    "start_time": "2024-06-01T03:59:40.222Z"
   },
   {
    "duration": 0,
    "start_time": "2024-06-01T03:59:40.224Z"
   },
   {
    "duration": 0,
    "start_time": "2024-06-01T03:59:40.226Z"
   },
   {
    "duration": 0,
    "start_time": "2024-06-01T03:59:40.228Z"
   },
   {
    "duration": 26,
    "start_time": "2024-06-01T04:00:19.611Z"
   },
   {
    "duration": 26,
    "start_time": "2024-06-01T04:00:31.093Z"
   },
   {
    "duration": 7,
    "start_time": "2024-06-01T04:00:40.554Z"
   },
   {
    "duration": 41,
    "start_time": "2024-06-01T04:04:22.822Z"
   },
   {
    "duration": 959,
    "start_time": "2024-06-01T04:08:03.780Z"
   },
   {
    "duration": 37,
    "start_time": "2024-06-01T04:08:17.126Z"
   },
   {
    "duration": 5,
    "start_time": "2024-06-01T04:08:25.000Z"
   },
   {
    "duration": 1240,
    "start_time": "2024-06-01T04:08:25.009Z"
   },
   {
    "duration": 21,
    "start_time": "2024-06-01T04:08:26.253Z"
   },
   {
    "duration": 27,
    "start_time": "2024-06-01T04:08:26.277Z"
   },
   {
    "duration": 166,
    "start_time": "2024-06-01T04:08:26.310Z"
   },
   {
    "duration": 146,
    "start_time": "2024-06-01T04:08:26.482Z"
   },
   {
    "duration": 97,
    "start_time": "2024-06-01T04:08:26.632Z"
   },
   {
    "duration": 15,
    "start_time": "2024-06-01T04:08:26.732Z"
   },
   {
    "duration": 43,
    "start_time": "2024-06-01T04:08:26.751Z"
   },
   {
    "duration": 6,
    "start_time": "2024-06-01T04:08:26.796Z"
   },
   {
    "duration": 14,
    "start_time": "2024-06-01T04:08:26.805Z"
   },
   {
    "duration": 18,
    "start_time": "2024-06-01T04:08:26.822Z"
   },
   {
    "duration": 66,
    "start_time": "2024-06-01T04:08:26.848Z"
   },
   {
    "duration": 19,
    "start_time": "2024-06-01T04:08:26.917Z"
   },
   {
    "duration": 56,
    "start_time": "2024-06-01T04:08:26.939Z"
   },
   {
    "duration": 18,
    "start_time": "2024-06-01T04:08:26.998Z"
   },
   {
    "duration": 36,
    "start_time": "2024-06-01T04:08:27.019Z"
   },
   {
    "duration": 44,
    "start_time": "2024-06-01T04:08:27.059Z"
   },
   {
    "duration": 90,
    "start_time": "2024-06-01T04:08:27.106Z"
   },
   {
    "duration": 42,
    "start_time": "2024-06-01T04:08:27.199Z"
   },
   {
    "duration": 20,
    "start_time": "2024-06-01T04:08:27.244Z"
   },
   {
    "duration": 14,
    "start_time": "2024-06-01T04:08:27.292Z"
   },
   {
    "duration": 17,
    "start_time": "2024-06-01T04:08:27.308Z"
   },
   {
    "duration": 23,
    "start_time": "2024-06-01T04:08:27.328Z"
   },
   {
    "duration": 59,
    "start_time": "2024-06-01T04:08:27.354Z"
   },
   {
    "duration": 16,
    "start_time": "2024-06-01T04:08:27.416Z"
   },
   {
    "duration": 55,
    "start_time": "2024-06-01T04:08:27.435Z"
   },
   {
    "duration": 22,
    "start_time": "2024-06-01T04:08:27.493Z"
   },
   {
    "duration": 14,
    "start_time": "2024-06-01T04:08:27.519Z"
   },
   {
    "duration": 339,
    "start_time": "2024-06-01T04:08:27.537Z"
   },
   {
    "duration": 280,
    "start_time": "2024-06-01T04:08:27.879Z"
   },
   {
    "duration": 52,
    "start_time": "2024-06-01T04:08:28.163Z"
   },
   {
    "duration": 38,
    "start_time": "2024-06-01T04:08:28.218Z"
   },
   {
    "duration": 7,
    "start_time": "2024-06-01T04:08:28.259Z"
   },
   {
    "duration": 29,
    "start_time": "2024-06-01T04:08:28.292Z"
   },
   {
    "duration": 22,
    "start_time": "2024-06-01T04:08:28.324Z"
   },
   {
    "duration": 51,
    "start_time": "2024-06-01T04:08:28.349Z"
   },
   {
    "duration": 8,
    "start_time": "2024-06-01T04:08:28.403Z"
   },
   {
    "duration": 1637,
    "start_time": "2024-06-01T04:08:28.414Z"
   },
   {
    "duration": 0,
    "start_time": "2024-06-01T04:08:30.055Z"
   },
   {
    "duration": 0,
    "start_time": "2024-06-01T04:08:30.057Z"
   },
   {
    "duration": 0,
    "start_time": "2024-06-01T04:08:30.059Z"
   },
   {
    "duration": 0,
    "start_time": "2024-06-01T04:08:30.062Z"
   },
   {
    "duration": 0,
    "start_time": "2024-06-01T04:08:30.064Z"
   },
   {
    "duration": 0,
    "start_time": "2024-06-01T04:08:30.067Z"
   },
   {
    "duration": 0,
    "start_time": "2024-06-01T04:08:30.091Z"
   },
   {
    "duration": 0,
    "start_time": "2024-06-01T04:08:30.094Z"
   },
   {
    "duration": 139,
    "start_time": "2024-06-01T04:08:58.651Z"
   },
   {
    "duration": 157,
    "start_time": "2024-06-01T04:09:23.402Z"
   },
   {
    "duration": 8,
    "start_time": "2024-06-01T04:09:25.252Z"
   },
   {
    "duration": 82,
    "start_time": "2024-06-01T04:09:29.460Z"
   },
   {
    "duration": 74,
    "start_time": "2024-06-01T04:12:56.600Z"
   },
   {
    "duration": 565,
    "start_time": "2024-06-01T04:14:12.274Z"
   },
   {
    "duration": 94,
    "start_time": "2024-06-01T04:14:34.068Z"
   },
   {
    "duration": 178,
    "start_time": "2024-06-01T04:14:38.272Z"
   },
   {
    "duration": 117,
    "start_time": "2024-06-01T04:14:41.432Z"
   },
   {
    "duration": 196,
    "start_time": "2024-06-01T04:15:08.235Z"
   },
   {
    "duration": 3,
    "start_time": "2024-06-01T04:15:09.202Z"
   },
   {
    "duration": 129,
    "start_time": "2024-06-01T04:15:12.516Z"
   },
   {
    "duration": 224,
    "start_time": "2024-06-01T04:15:37.788Z"
   },
   {
    "duration": 141,
    "start_time": "2024-06-01T04:15:39.090Z"
   },
   {
    "duration": 298,
    "start_time": "2024-06-01T04:17:01.826Z"
   },
   {
    "duration": 196,
    "start_time": "2024-06-01T04:17:03.418Z"
   },
   {
    "duration": 265,
    "start_time": "2024-06-01T04:17:29.117Z"
   },
   {
    "duration": 3,
    "start_time": "2024-06-01T04:17:30.398Z"
   },
   {
    "duration": 180,
    "start_time": "2024-06-01T04:17:33.628Z"
   },
   {
    "duration": 15,
    "start_time": "2024-06-01T04:20:53.384Z"
   },
   {
    "duration": 468,
    "start_time": "2024-06-01T04:30:06.302Z"
   },
   {
    "duration": 99,
    "start_time": "2024-06-01T04:32:03.699Z"
   },
   {
    "duration": 55,
    "start_time": "2024-06-01T04:32:05.419Z"
   },
   {
    "duration": 356,
    "start_time": "2024-06-01T04:35:56.371Z"
   },
   {
    "duration": 35,
    "start_time": "2024-06-01T04:39:37.028Z"
   },
   {
    "duration": 9,
    "start_time": "2024-06-01T04:40:22.350Z"
   },
   {
    "duration": 116,
    "start_time": "2024-06-01T04:40:49.641Z"
   },
   {
    "duration": 38,
    "start_time": "2024-06-01T04:41:01.579Z"
   },
   {
    "duration": 387,
    "start_time": "2024-06-01T04:41:16.216Z"
   },
   {
    "duration": 560,
    "start_time": "2024-06-01T04:41:37.034Z"
   },
   {
    "duration": 1999,
    "start_time": "2024-06-01T04:42:08.544Z"
   },
   {
    "duration": 627,
    "start_time": "2024-06-01T04:42:11.908Z"
   },
   {
    "duration": 560,
    "start_time": "2024-06-01T04:42:32.980Z"
   },
   {
    "duration": 582,
    "start_time": "2024-06-01T04:43:03.400Z"
   },
   {
    "duration": 571,
    "start_time": "2024-06-01T04:43:08.641Z"
   },
   {
    "duration": 552,
    "start_time": "2024-06-01T04:43:27.740Z"
   },
   {
    "duration": 548,
    "start_time": "2024-06-01T04:43:54.717Z"
   },
   {
    "duration": 841,
    "start_time": "2024-06-01T04:44:37.024Z"
   },
   {
    "duration": 526,
    "start_time": "2024-06-01T04:44:46.181Z"
   },
   {
    "duration": 78,
    "start_time": "2024-06-01T04:59:35.157Z"
   },
   {
    "duration": 13,
    "start_time": "2024-06-01T05:08:47.092Z"
   },
   {
    "duration": 13,
    "start_time": "2024-06-01T05:12:28.107Z"
   },
   {
    "duration": 20,
    "start_time": "2024-06-01T05:17:56.548Z"
   },
   {
    "duration": 15,
    "start_time": "2024-06-01T05:31:12.879Z"
   },
   {
    "duration": 16,
    "start_time": "2024-06-01T05:31:39.934Z"
   },
   {
    "duration": 13,
    "start_time": "2024-06-01T05:31:48.956Z"
   },
   {
    "duration": 35,
    "start_time": "2024-06-01T05:31:52.883Z"
   },
   {
    "duration": 288,
    "start_time": "2024-06-01T05:32:51.623Z"
   },
   {
    "duration": 18,
    "start_time": "2024-06-01T05:33:33.147Z"
   },
   {
    "duration": 4,
    "start_time": "2024-06-01T05:34:31.385Z"
   },
   {
    "duration": 17,
    "start_time": "2024-06-01T05:37:39.041Z"
   },
   {
    "duration": 13,
    "start_time": "2024-06-01T05:39:42.298Z"
   },
   {
    "duration": 11,
    "start_time": "2024-06-01T06:54:20.855Z"
   },
   {
    "duration": 26,
    "start_time": "2024-06-01T06:56:56.652Z"
   },
   {
    "duration": 22,
    "start_time": "2024-06-01T07:06:43.223Z"
   },
   {
    "duration": 22,
    "start_time": "2024-06-01T07:07:04.904Z"
   },
   {
    "duration": 23,
    "start_time": "2024-06-01T07:07:44.095Z"
   },
   {
    "duration": 4,
    "start_time": "2024-06-01T07:08:12.269Z"
   },
   {
    "duration": 1376,
    "start_time": "2024-06-01T07:08:12.277Z"
   },
   {
    "duration": 22,
    "start_time": "2024-06-01T07:08:13.656Z"
   },
   {
    "duration": 18,
    "start_time": "2024-06-01T07:08:13.693Z"
   },
   {
    "duration": 156,
    "start_time": "2024-06-01T07:08:13.713Z"
   },
   {
    "duration": 111,
    "start_time": "2024-06-01T07:08:13.872Z"
   },
   {
    "duration": 68,
    "start_time": "2024-06-01T07:08:13.992Z"
   },
   {
    "duration": 32,
    "start_time": "2024-06-01T07:08:14.063Z"
   },
   {
    "duration": 16,
    "start_time": "2024-06-01T07:08:14.103Z"
   },
   {
    "duration": 4,
    "start_time": "2024-06-01T07:08:14.122Z"
   },
   {
    "duration": 14,
    "start_time": "2024-06-01T07:08:14.129Z"
   },
   {
    "duration": 58,
    "start_time": "2024-06-01T07:08:14.147Z"
   },
   {
    "duration": 24,
    "start_time": "2024-06-01T07:08:14.208Z"
   },
   {
    "duration": 12,
    "start_time": "2024-06-01T07:08:14.235Z"
   },
   {
    "duration": 61,
    "start_time": "2024-06-01T07:08:14.251Z"
   },
   {
    "duration": 18,
    "start_time": "2024-06-01T07:08:14.315Z"
   },
   {
    "duration": 72,
    "start_time": "2024-06-01T07:08:14.336Z"
   },
   {
    "duration": 19,
    "start_time": "2024-06-01T07:08:14.411Z"
   },
   {
    "duration": 96,
    "start_time": "2024-06-01T07:08:14.433Z"
   },
   {
    "duration": 62,
    "start_time": "2024-06-01T07:08:14.532Z"
   },
   {
    "duration": 19,
    "start_time": "2024-06-01T07:08:14.597Z"
   },
   {
    "duration": 14,
    "start_time": "2024-06-01T07:08:14.618Z"
   },
   {
    "duration": 18,
    "start_time": "2024-06-01T07:08:14.635Z"
   },
   {
    "duration": 24,
    "start_time": "2024-06-01T07:08:14.694Z"
   },
   {
    "duration": 21,
    "start_time": "2024-06-01T07:08:14.722Z"
   },
   {
    "duration": 46,
    "start_time": "2024-06-01T07:08:14.750Z"
   },
   {
    "duration": 27,
    "start_time": "2024-06-01T07:08:14.800Z"
   },
   {
    "duration": 23,
    "start_time": "2024-06-01T07:08:14.831Z"
   },
   {
    "duration": 36,
    "start_time": "2024-06-01T07:08:14.857Z"
   },
   {
    "duration": 309,
    "start_time": "2024-06-01T07:08:14.897Z"
   },
   {
    "duration": 281,
    "start_time": "2024-06-01T07:08:15.209Z"
   },
   {
    "duration": 43,
    "start_time": "2024-06-01T07:08:15.493Z"
   },
   {
    "duration": 71,
    "start_time": "2024-06-01T07:08:15.539Z"
   },
   {
    "duration": 6,
    "start_time": "2024-06-01T07:08:15.612Z"
   },
   {
    "duration": 116,
    "start_time": "2024-06-01T07:08:15.622Z"
   },
   {
    "duration": 25,
    "start_time": "2024-06-01T07:08:15.741Z"
   },
   {
    "duration": 39,
    "start_time": "2024-06-01T07:08:15.769Z"
   },
   {
    "duration": 8,
    "start_time": "2024-06-01T07:08:15.811Z"
   },
   {
    "duration": 105,
    "start_time": "2024-06-01T07:08:15.823Z"
   },
   {
    "duration": 97,
    "start_time": "2024-06-01T07:08:15.931Z"
   },
   {
    "duration": 553,
    "start_time": "2024-06-01T07:08:16.032Z"
   },
   {
    "duration": 216,
    "start_time": "2024-06-01T07:08:16.592Z"
   },
   {
    "duration": 0,
    "start_time": "2024-06-01T07:08:16.812Z"
   },
   {
    "duration": 0,
    "start_time": "2024-06-01T07:08:16.814Z"
   },
   {
    "duration": 0,
    "start_time": "2024-06-01T07:08:16.816Z"
   },
   {
    "duration": 0,
    "start_time": "2024-06-01T07:08:16.818Z"
   },
   {
    "duration": 0,
    "start_time": "2024-06-01T07:08:16.820Z"
   },
   {
    "duration": 0,
    "start_time": "2024-06-01T07:08:16.822Z"
   },
   {
    "duration": 281,
    "start_time": "2024-06-01T07:08:49.403Z"
   },
   {
    "duration": 283,
    "start_time": "2024-06-01T07:09:01.753Z"
   },
   {
    "duration": 343,
    "start_time": "2024-06-01T07:09:12.600Z"
   },
   {
    "duration": 349,
    "start_time": "2024-06-01T07:10:27.972Z"
   },
   {
    "duration": 360,
    "start_time": "2024-06-01T07:11:17.222Z"
   },
   {
    "duration": 339,
    "start_time": "2024-06-01T07:11:25.039Z"
   },
   {
    "duration": 10,
    "start_time": "2024-06-01T07:13:43.528Z"
   },
   {
    "duration": 309,
    "start_time": "2024-06-01T07:13:49.339Z"
   },
   {
    "duration": 270,
    "start_time": "2024-06-01T07:14:09.046Z"
   },
   {
    "duration": 414,
    "start_time": "2024-06-01T07:15:36.519Z"
   },
   {
    "duration": 610,
    "start_time": "2024-06-01T07:15:57.605Z"
   },
   {
    "duration": 646,
    "start_time": "2024-06-01T07:16:08.140Z"
   },
   {
    "duration": 424,
    "start_time": "2024-06-01T07:16:30.286Z"
   },
   {
    "duration": 5,
    "start_time": "2024-06-01T07:19:44.401Z"
   },
   {
    "duration": 6,
    "start_time": "2024-06-01T07:21:31.785Z"
   },
   {
    "duration": 7,
    "start_time": "2024-06-01T07:21:41.850Z"
   },
   {
    "duration": 7,
    "start_time": "2024-06-01T07:21:48.880Z"
   },
   {
    "duration": 7,
    "start_time": "2024-06-01T07:21:58.482Z"
   },
   {
    "duration": 7,
    "start_time": "2024-06-01T07:22:02.962Z"
   },
   {
    "duration": 7,
    "start_time": "2024-06-01T07:22:29.327Z"
   },
   {
    "duration": 7,
    "start_time": "2024-06-01T07:22:38.751Z"
   },
   {
    "duration": 5,
    "start_time": "2024-06-01T07:22:55.063Z"
   },
   {
    "duration": 6,
    "start_time": "2024-06-01T07:22:59.400Z"
   },
   {
    "duration": 9,
    "start_time": "2024-06-01T07:23:02.795Z"
   },
   {
    "duration": 7,
    "start_time": "2024-06-01T07:23:08.255Z"
   },
   {
    "duration": 7,
    "start_time": "2024-06-01T07:23:17.832Z"
   },
   {
    "duration": 7,
    "start_time": "2024-06-01T07:26:56.068Z"
   },
   {
    "duration": 7,
    "start_time": "2024-06-01T07:27:04.092Z"
   },
   {
    "duration": 7,
    "start_time": "2024-06-01T07:27:48.638Z"
   },
   {
    "duration": 756,
    "start_time": "2024-06-01T07:28:56.257Z"
   },
   {
    "duration": 997,
    "start_time": "2024-06-01T07:29:09.573Z"
   },
   {
    "duration": 319,
    "start_time": "2024-06-01T07:29:41.325Z"
   },
   {
    "duration": 341,
    "start_time": "2024-06-01T07:30:31.498Z"
   },
   {
    "duration": 320,
    "start_time": "2024-06-01T07:30:58.523Z"
   },
   {
    "duration": 4,
    "start_time": "2024-06-01T07:31:43.531Z"
   },
   {
    "duration": 316,
    "start_time": "2024-06-02T04:54:27.577Z"
   },
   {
    "duration": 4,
    "start_time": "2024-06-02T04:54:40.238Z"
   },
   {
    "duration": 4931,
    "start_time": "2024-06-02T04:54:40.246Z"
   },
   {
    "duration": 27,
    "start_time": "2024-06-02T04:54:45.180Z"
   },
   {
    "duration": 28,
    "start_time": "2024-06-02T04:54:45.212Z"
   },
   {
    "duration": 195,
    "start_time": "2024-06-02T04:54:45.243Z"
   },
   {
    "duration": 141,
    "start_time": "2024-06-02T04:54:45.441Z"
   },
   {
    "duration": 104,
    "start_time": "2024-06-02T04:54:45.585Z"
   },
   {
    "duration": 14,
    "start_time": "2024-06-02T04:54:45.692Z"
   },
   {
    "duration": 25,
    "start_time": "2024-06-02T04:54:45.711Z"
   },
   {
    "duration": 4,
    "start_time": "2024-06-02T04:54:45.741Z"
   },
   {
    "duration": 14,
    "start_time": "2024-06-02T04:54:45.748Z"
   },
   {
    "duration": 17,
    "start_time": "2024-06-02T04:54:45.765Z"
   },
   {
    "duration": 68,
    "start_time": "2024-06-02T04:54:45.786Z"
   },
   {
    "duration": 10,
    "start_time": "2024-06-02T04:54:45.858Z"
   },
   {
    "duration": 25,
    "start_time": "2024-06-02T04:54:45.871Z"
   },
   {
    "duration": 18,
    "start_time": "2024-06-02T04:54:45.933Z"
   },
   {
    "duration": 38,
    "start_time": "2024-06-02T04:54:45.955Z"
   },
   {
    "duration": 45,
    "start_time": "2024-06-02T04:54:45.996Z"
   },
   {
    "duration": 67,
    "start_time": "2024-06-02T04:54:46.044Z"
   },
   {
    "duration": 42,
    "start_time": "2024-06-02T04:54:46.134Z"
   },
   {
    "duration": 21,
    "start_time": "2024-06-02T04:54:46.179Z"
   },
   {
    "duration": 41,
    "start_time": "2024-06-02T04:54:46.203Z"
   },
   {
    "duration": 20,
    "start_time": "2024-06-02T04:54:46.248Z"
   },
   {
    "duration": 26,
    "start_time": "2024-06-02T04:54:46.272Z"
   },
   {
    "duration": 21,
    "start_time": "2024-06-02T04:54:46.334Z"
   },
   {
    "duration": 17,
    "start_time": "2024-06-02T04:54:46.358Z"
   },
   {
    "duration": 56,
    "start_time": "2024-06-02T04:54:46.377Z"
   },
   {
    "duration": 19,
    "start_time": "2024-06-02T04:54:46.441Z"
   },
   {
    "duration": 12,
    "start_time": "2024-06-02T04:54:46.462Z"
   },
   {
    "duration": 316,
    "start_time": "2024-06-02T04:54:46.478Z"
   },
   {
    "duration": 275,
    "start_time": "2024-06-02T04:54:46.797Z"
   },
   {
    "duration": 42,
    "start_time": "2024-06-02T04:54:47.075Z"
   },
   {
    "duration": 49,
    "start_time": "2024-06-02T04:54:47.135Z"
   },
   {
    "duration": 6,
    "start_time": "2024-06-02T04:54:47.188Z"
   },
   {
    "duration": 54,
    "start_time": "2024-06-02T04:54:47.198Z"
   },
   {
    "duration": 21,
    "start_time": "2024-06-02T04:54:47.256Z"
   },
   {
    "duration": 27,
    "start_time": "2024-06-02T04:54:47.280Z"
   },
   {
    "duration": 30,
    "start_time": "2024-06-02T04:54:47.309Z"
   },
   {
    "duration": 109,
    "start_time": "2024-06-02T04:54:47.343Z"
   },
   {
    "duration": 91,
    "start_time": "2024-06-02T04:54:47.454Z"
   },
   {
    "duration": 536,
    "start_time": "2024-06-02T04:54:47.548Z"
   },
   {
    "duration": 499,
    "start_time": "2024-06-02T04:54:48.088Z"
   },
   {
    "duration": 8,
    "start_time": "2024-06-02T04:54:48.590Z"
   },
   {
    "duration": 185,
    "start_time": "2024-06-02T04:54:48.601Z"
   },
   {
    "duration": 3,
    "start_time": "2024-06-02T04:54:48.789Z"
   },
   {
    "duration": 3,
    "start_time": "2024-06-02T04:54:48.796Z"
   },
   {
    "duration": 31,
    "start_time": "2024-06-02T04:54:48.802Z"
   },
   {
    "duration": 3,
    "start_time": "2024-06-02T04:54:48.836Z"
   },
   {
    "duration": 179,
    "start_time": "2024-06-02T04:55:40.972Z"
   },
   {
    "duration": 187,
    "start_time": "2024-06-02T04:56:52.040Z"
   },
   {
    "duration": 9,
    "start_time": "2024-06-02T05:16:59.488Z"
   },
   {
    "duration": 189,
    "start_time": "2024-06-02T05:17:05.079Z"
   },
   {
    "duration": 1138,
    "start_time": "2024-06-02T05:27:21.777Z"
   },
   {
    "duration": 316,
    "start_time": "2024-06-02T05:27:41.781Z"
   },
   {
    "duration": 252,
    "start_time": "2024-06-02T05:27:52.685Z"
   },
   {
    "duration": 6,
    "start_time": "2024-06-02T05:29:06.781Z"
   },
   {
    "duration": 196,
    "start_time": "2024-06-02T05:29:14.332Z"
   },
   {
    "duration": 355,
    "start_time": "2024-06-02T05:30:45.579Z"
   },
   {
    "duration": 303,
    "start_time": "2024-06-02T05:31:22.666Z"
   },
   {
    "duration": 308,
    "start_time": "2024-06-02T05:31:51.816Z"
   },
   {
    "duration": 214,
    "start_time": "2024-06-02T05:32:33.869Z"
   },
   {
    "duration": 217,
    "start_time": "2024-06-02T05:33:08.927Z"
   },
   {
    "duration": 19,
    "start_time": "2024-06-02T06:47:05.405Z"
   },
   {
    "duration": 30,
    "start_time": "2024-06-02T06:47:39.460Z"
   },
   {
    "duration": 1074,
    "start_time": "2024-06-02T06:52:51.873Z"
   },
   {
    "duration": 72,
    "start_time": "2024-06-02T06:53:14.121Z"
   },
   {
    "duration": 3,
    "start_time": "2024-06-02T07:01:01.977Z"
   },
   {
    "duration": 11,
    "start_time": "2024-06-02T07:02:06.351Z"
   },
   {
    "duration": 31,
    "start_time": "2024-06-02T07:04:38.987Z"
   },
   {
    "duration": 27,
    "start_time": "2024-06-02T07:04:56.034Z"
   },
   {
    "duration": 39,
    "start_time": "2024-06-02T07:05:58.005Z"
   },
   {
    "duration": 28,
    "start_time": "2024-06-02T07:07:08.083Z"
   },
   {
    "duration": 24,
    "start_time": "2024-06-02T07:07:36.093Z"
   },
   {
    "duration": 25,
    "start_time": "2024-06-02T07:08:31.141Z"
   },
   {
    "duration": 27,
    "start_time": "2024-06-02T07:08:43.811Z"
   },
   {
    "duration": 192,
    "start_time": "2024-06-02T07:08:56.407Z"
   },
   {
    "duration": 28,
    "start_time": "2024-06-02T07:09:07.794Z"
   },
   {
    "duration": 458,
    "start_time": "2024-06-02T07:12:01.946Z"
   },
   {
    "duration": 441,
    "start_time": "2024-06-02T07:12:10.280Z"
   },
   {
    "duration": 514,
    "start_time": "2024-06-02T07:12:19.676Z"
   },
   {
    "duration": 418,
    "start_time": "2024-06-02T07:16:30.238Z"
   },
   {
    "duration": 436,
    "start_time": "2024-06-02T07:16:41.417Z"
   },
   {
    "duration": 430,
    "start_time": "2024-06-02T07:16:47.773Z"
   },
   {
    "duration": 461,
    "start_time": "2024-06-02T07:17:00.703Z"
   },
   {
    "duration": 454,
    "start_time": "2024-06-02T07:17:09.017Z"
   },
   {
    "duration": 444,
    "start_time": "2024-06-02T07:17:13.113Z"
   },
   {
    "duration": 28,
    "start_time": "2024-06-02T07:19:25.348Z"
   },
   {
    "duration": 32,
    "start_time": "2024-06-02T07:19:30.570Z"
   },
   {
    "duration": 347,
    "start_time": "2024-06-02T07:19:34.692Z"
   },
   {
    "duration": 351,
    "start_time": "2024-06-02T07:19:59.469Z"
   },
   {
    "duration": 690,
    "start_time": "2024-06-02T07:20:11.106Z"
   },
   {
    "duration": 365,
    "start_time": "2024-06-02T07:20:19.938Z"
   },
   {
    "duration": 381,
    "start_time": "2024-06-02T07:20:29.074Z"
   },
   {
    "duration": 413,
    "start_time": "2024-06-02T07:20:38.993Z"
   },
   {
    "duration": 442,
    "start_time": "2024-06-02T07:21:04.929Z"
   },
   {
    "duration": 455,
    "start_time": "2024-06-02T07:21:26.878Z"
   },
   {
    "duration": 437,
    "start_time": "2024-06-02T07:21:54.089Z"
   },
   {
    "duration": 386,
    "start_time": "2024-06-02T07:22:07.939Z"
   },
   {
    "duration": 413,
    "start_time": "2024-06-02T07:22:16.260Z"
   },
   {
    "duration": 452,
    "start_time": "2024-06-02T07:22:23.149Z"
   },
   {
    "duration": 419,
    "start_time": "2024-06-02T07:24:52.883Z"
   },
   {
    "duration": 385,
    "start_time": "2024-06-02T07:26:01.417Z"
   },
   {
    "duration": 427,
    "start_time": "2024-06-02T07:26:17.016Z"
   },
   {
    "duration": 507,
    "start_time": "2024-06-02T07:27:01.826Z"
   },
   {
    "duration": 445,
    "start_time": "2024-06-02T07:27:28.145Z"
   },
   {
    "duration": 428,
    "start_time": "2024-06-02T07:27:38.220Z"
   },
   {
    "duration": 453,
    "start_time": "2024-06-02T07:28:52.447Z"
   },
   {
    "duration": 450,
    "start_time": "2024-06-02T07:29:30.733Z"
   },
   {
    "duration": 28,
    "start_time": "2024-06-02T07:36:14.226Z"
   },
   {
    "duration": 7,
    "start_time": "2024-06-02T07:36:21.998Z"
   },
   {
    "duration": 7,
    "start_time": "2024-06-02T07:37:23.768Z"
   },
   {
    "duration": 7,
    "start_time": "2024-06-02T07:37:46.025Z"
   },
   {
    "duration": 6,
    "start_time": "2024-06-02T07:37:52.803Z"
   },
   {
    "duration": 8,
    "start_time": "2024-06-02T07:37:57.646Z"
   },
   {
    "duration": 16,
    "start_time": "2024-06-02T07:38:24.183Z"
   },
   {
    "duration": 8,
    "start_time": "2024-06-02T07:42:19.874Z"
   },
   {
    "duration": 7,
    "start_time": "2024-06-02T07:42:22.111Z"
   },
   {
    "duration": 496,
    "start_time": "2024-06-02T07:48:46.882Z"
   },
   {
    "duration": 392,
    "start_time": "2024-06-02T07:49:00.084Z"
   },
   {
    "duration": 441,
    "start_time": "2024-06-02T07:49:21.332Z"
   },
   {
    "duration": 425,
    "start_time": "2024-06-02T07:49:34.417Z"
   },
   {
    "duration": 395,
    "start_time": "2024-06-02T07:49:54.938Z"
   },
   {
    "duration": 406,
    "start_time": "2024-06-02T07:49:59.844Z"
   },
   {
    "duration": 765,
    "start_time": "2024-06-02T07:51:16.608Z"
   },
   {
    "duration": 417,
    "start_time": "2024-06-02T07:51:51.737Z"
   },
   {
    "duration": 413,
    "start_time": "2024-06-02T07:52:12.003Z"
   },
   {
    "duration": 392,
    "start_time": "2024-06-02T07:52:40.705Z"
   },
   {
    "duration": 388,
    "start_time": "2024-06-02T07:52:52.819Z"
   },
   {
    "duration": 383,
    "start_time": "2024-06-02T07:53:47.694Z"
   },
   {
    "duration": 65,
    "start_time": "2024-06-02T08:20:42.812Z"
   },
   {
    "duration": 701,
    "start_time": "2024-06-02T08:21:08.455Z"
   },
   {
    "duration": 63,
    "start_time": "2024-06-02T08:21:14.715Z"
   },
   {
    "duration": 27,
    "start_time": "2024-06-02T08:21:36.397Z"
   },
   {
    "duration": 48,
    "start_time": "2024-06-02T08:21:49.995Z"
   },
   {
    "duration": 8,
    "start_time": "2024-06-02T08:22:15.497Z"
   },
   {
    "duration": 7,
    "start_time": "2024-06-02T08:22:18.340Z"
   },
   {
    "duration": 24,
    "start_time": "2024-06-02T08:22:26.216Z"
   },
   {
    "duration": 424,
    "start_time": "2024-06-02T08:25:27.246Z"
   },
   {
    "duration": 457,
    "start_time": "2024-06-02T08:25:51.396Z"
   },
   {
    "duration": 751,
    "start_time": "2024-06-02T08:26:52.037Z"
   },
   {
    "duration": 434,
    "start_time": "2024-06-02T08:27:02.737Z"
   },
   {
    "duration": 439,
    "start_time": "2024-06-02T08:27:10.312Z"
   },
   {
    "duration": 533,
    "start_time": "2024-06-02T08:27:17.519Z"
   },
   {
    "duration": 5,
    "start_time": "2024-06-02T08:34:45.545Z"
   },
   {
    "duration": 28,
    "start_time": "2024-06-02T08:35:08.385Z"
   },
   {
    "duration": 8,
    "start_time": "2024-06-02T08:35:23.946Z"
   },
   {
    "duration": 9,
    "start_time": "2024-06-02T08:37:21.271Z"
   },
   {
    "duration": 424,
    "start_time": "2024-06-02T08:37:41.941Z"
   },
   {
    "duration": 343,
    "start_time": "2024-06-02T08:41:54.909Z"
   },
   {
    "duration": 389,
    "start_time": "2024-06-02T08:42:27.386Z"
   },
   {
    "duration": 367,
    "start_time": "2024-06-02T08:42:37.466Z"
   },
   {
    "duration": 351,
    "start_time": "2024-06-02T08:42:56.346Z"
   },
   {
    "duration": 359,
    "start_time": "2024-06-02T08:43:22.100Z"
   },
   {
    "duration": 367,
    "start_time": "2024-06-02T08:43:34.449Z"
   },
   {
    "duration": 389,
    "start_time": "2024-06-02T08:43:58.403Z"
   },
   {
    "duration": 404,
    "start_time": "2024-06-02T08:44:30.307Z"
   },
   {
    "duration": 197,
    "start_time": "2024-06-02T08:45:33.856Z"
   },
   {
    "duration": 7,
    "start_time": "2024-06-02T08:53:34.769Z"
   },
   {
    "duration": 7,
    "start_time": "2024-06-02T08:53:48.886Z"
   },
   {
    "duration": 7,
    "start_time": "2024-06-02T08:53:58.033Z"
   },
   {
    "duration": 202,
    "start_time": "2024-06-02T08:55:44.922Z"
   },
   {
    "duration": 201,
    "start_time": "2024-06-02T08:56:06.660Z"
   },
   {
    "duration": 213,
    "start_time": "2024-06-02T08:56:19.733Z"
   },
   {
    "duration": 29,
    "start_time": "2024-06-02T08:57:47.393Z"
   },
   {
    "duration": 8,
    "start_time": "2024-06-02T08:57:53.905Z"
   },
   {
    "duration": 6,
    "start_time": "2024-06-02T08:57:58.194Z"
   },
   {
    "duration": 25,
    "start_time": "2024-06-02T09:14:36.161Z"
   },
   {
    "duration": 23,
    "start_time": "2024-06-02T09:14:44.651Z"
   },
   {
    "duration": 5,
    "start_time": "2024-06-02T09:14:51.723Z"
   },
   {
    "duration": 397,
    "start_time": "2024-06-02T09:15:31.882Z"
   },
   {
    "duration": 391,
    "start_time": "2024-06-02T09:15:38.877Z"
   },
   {
    "duration": 28,
    "start_time": "2024-06-02T09:19:56.799Z"
   },
   {
    "duration": 25,
    "start_time": "2024-06-02T09:20:00.298Z"
   },
   {
    "duration": 28,
    "start_time": "2024-06-02T09:20:08.568Z"
   },
   {
    "duration": 7,
    "start_time": "2024-06-02T09:20:14.001Z"
   },
   {
    "duration": 6,
    "start_time": "2024-06-02T11:01:06.288Z"
   },
   {
    "duration": 20,
    "start_time": "2024-06-02T11:01:32.033Z"
   },
   {
    "duration": 432,
    "start_time": "2024-06-02T11:04:56.642Z"
   },
   {
    "duration": 439,
    "start_time": "2024-06-02T11:09:24.406Z"
   },
   {
    "duration": 6,
    "start_time": "2024-06-02T11:10:06.759Z"
   },
   {
    "duration": 7,
    "start_time": "2024-06-02T11:10:15.389Z"
   },
   {
    "duration": 24,
    "start_time": "2024-06-02T11:10:22.604Z"
   },
   {
    "duration": 5,
    "start_time": "2024-06-02T11:10:26.369Z"
   },
   {
    "duration": 7,
    "start_time": "2024-06-02T11:10:45.411Z"
   },
   {
    "duration": 392,
    "start_time": "2024-06-02T11:11:11.721Z"
   },
   {
    "duration": 361,
    "start_time": "2024-06-02T11:11:20.821Z"
   },
   {
    "duration": 396,
    "start_time": "2024-06-02T11:11:27.743Z"
   },
   {
    "duration": 200,
    "start_time": "2024-06-02T11:13:35.616Z"
   },
   {
    "duration": 83,
    "start_time": "2024-06-02T11:26:06.139Z"
   },
   {
    "duration": 79,
    "start_time": "2024-06-02T11:26:29.438Z"
   },
   {
    "duration": 81,
    "start_time": "2024-06-02T11:27:28.375Z"
   },
   {
    "duration": 89,
    "start_time": "2024-06-02T11:27:42.201Z"
   },
   {
    "duration": 77,
    "start_time": "2024-06-02T11:28:38.096Z"
   },
   {
    "duration": 6,
    "start_time": "2024-06-02T11:29:12.200Z"
   },
   {
    "duration": 896,
    "start_time": "2024-06-02T11:30:02.770Z"
   },
   {
    "duration": 0,
    "start_time": "2024-06-02T11:30:03.670Z"
   },
   {
    "duration": 0,
    "start_time": "2024-06-02T11:30:03.672Z"
   },
   {
    "duration": 0,
    "start_time": "2024-06-02T11:30:03.675Z"
   },
   {
    "duration": 0,
    "start_time": "2024-06-02T11:30:03.677Z"
   },
   {
    "duration": 0,
    "start_time": "2024-06-02T11:30:03.679Z"
   },
   {
    "duration": 0,
    "start_time": "2024-06-02T11:30:03.682Z"
   },
   {
    "duration": 0,
    "start_time": "2024-06-02T11:30:03.684Z"
   },
   {
    "duration": 0,
    "start_time": "2024-06-02T11:30:03.687Z"
   },
   {
    "duration": 0,
    "start_time": "2024-06-02T11:30:03.689Z"
   },
   {
    "duration": 0,
    "start_time": "2024-06-02T11:30:03.692Z"
   },
   {
    "duration": 0,
    "start_time": "2024-06-02T11:30:03.694Z"
   },
   {
    "duration": 0,
    "start_time": "2024-06-02T11:30:03.697Z"
   },
   {
    "duration": 0,
    "start_time": "2024-06-02T11:30:03.698Z"
   },
   {
    "duration": 0,
    "start_time": "2024-06-02T11:30:03.699Z"
   },
   {
    "duration": 1,
    "start_time": "2024-06-02T11:30:03.732Z"
   },
   {
    "duration": 0,
    "start_time": "2024-06-02T11:30:03.737Z"
   },
   {
    "duration": 0,
    "start_time": "2024-06-02T11:30:03.738Z"
   },
   {
    "duration": 0,
    "start_time": "2024-06-02T11:30:03.740Z"
   },
   {
    "duration": 4,
    "start_time": "2024-06-02T11:30:34.751Z"
   },
   {
    "duration": 1317,
    "start_time": "2024-06-02T11:30:34.760Z"
   },
   {
    "duration": 22,
    "start_time": "2024-06-02T11:30:36.080Z"
   },
   {
    "duration": 31,
    "start_time": "2024-06-02T11:30:36.105Z"
   },
   {
    "duration": 144,
    "start_time": "2024-06-02T11:30:36.140Z"
   },
   {
    "duration": 129,
    "start_time": "2024-06-02T11:30:36.288Z"
   },
   {
    "duration": 75,
    "start_time": "2024-06-02T11:30:36.422Z"
   },
   {
    "duration": 14,
    "start_time": "2024-06-02T11:30:36.500Z"
   },
   {
    "duration": 17,
    "start_time": "2024-06-02T11:30:36.533Z"
   },
   {
    "duration": 5,
    "start_time": "2024-06-02T11:30:36.553Z"
   },
   {
    "duration": 15,
    "start_time": "2024-06-02T11:30:36.564Z"
   },
   {
    "duration": 53,
    "start_time": "2024-06-02T11:30:36.581Z"
   },
   {
    "duration": 22,
    "start_time": "2024-06-02T11:30:36.641Z"
   },
   {
    "duration": 11,
    "start_time": "2024-06-02T11:30:36.666Z"
   },
   {
    "duration": 60,
    "start_time": "2024-06-02T11:30:36.680Z"
   },
   {
    "duration": 17,
    "start_time": "2024-06-02T11:30:36.744Z"
   },
   {
    "duration": 37,
    "start_time": "2024-06-02T11:30:36.765Z"
   },
   {
    "duration": 40,
    "start_time": "2024-06-02T11:30:36.805Z"
   },
   {
    "duration": 99,
    "start_time": "2024-06-02T11:30:36.848Z"
   },
   {
    "duration": 52,
    "start_time": "2024-06-02T11:30:36.950Z"
   },
   {
    "duration": 33,
    "start_time": "2024-06-02T11:30:37.009Z"
   },
   {
    "duration": 14,
    "start_time": "2024-06-02T11:30:37.044Z"
   },
   {
    "duration": 17,
    "start_time": "2024-06-02T11:30:37.061Z"
   },
   {
    "duration": 62,
    "start_time": "2024-06-02T11:30:37.080Z"
   },
   {
    "duration": 27,
    "start_time": "2024-06-02T11:30:37.145Z"
   },
   {
    "duration": 16,
    "start_time": "2024-06-02T11:30:37.175Z"
   },
   {
    "duration": 50,
    "start_time": "2024-06-02T11:30:37.194Z"
   },
   {
    "duration": 21,
    "start_time": "2024-06-02T11:30:37.247Z"
   },
   {
    "duration": 13,
    "start_time": "2024-06-02T11:30:37.270Z"
   },
   {
    "duration": 343,
    "start_time": "2024-06-02T11:30:37.286Z"
   },
   {
    "duration": 271,
    "start_time": "2024-06-02T11:30:37.633Z"
   },
   {
    "duration": 57,
    "start_time": "2024-06-02T11:30:37.907Z"
   },
   {
    "duration": 38,
    "start_time": "2024-06-02T11:30:37.967Z"
   },
   {
    "duration": 5,
    "start_time": "2024-06-02T11:30:38.011Z"
   },
   {
    "duration": 101,
    "start_time": "2024-06-02T11:30:38.034Z"
   },
   {
    "duration": 22,
    "start_time": "2024-06-02T11:30:38.138Z"
   },
   {
    "duration": 17,
    "start_time": "2024-06-02T11:30:38.169Z"
   },
   {
    "duration": 44,
    "start_time": "2024-06-02T11:30:38.188Z"
   },
   {
    "duration": 79,
    "start_time": "2024-06-02T11:30:38.235Z"
   },
   {
    "duration": 20,
    "start_time": "2024-06-02T11:30:38.317Z"
   },
   {
    "duration": 93,
    "start_time": "2024-06-02T11:30:38.340Z"
   },
   {
    "duration": 546,
    "start_time": "2024-06-02T11:30:38.435Z"
   },
   {
    "duration": 438,
    "start_time": "2024-06-02T11:30:38.984Z"
   },
   {
    "duration": 12,
    "start_time": "2024-06-02T11:30:39.425Z"
   },
   {
    "duration": 248,
    "start_time": "2024-06-02T11:30:39.440Z"
   },
   {
    "duration": 460,
    "start_time": "2024-06-02T11:30:39.692Z"
   },
   {
    "duration": 398,
    "start_time": "2024-06-02T11:30:40.155Z"
   },
   {
    "duration": 7,
    "start_time": "2024-06-02T11:30:40.556Z"
   },
   {
    "duration": 234,
    "start_time": "2024-06-02T11:30:40.567Z"
   },
   {
    "duration": 440,
    "start_time": "2024-06-02T11:30:40.803Z"
   },
   {
    "duration": 409,
    "start_time": "2024-06-02T11:30:41.247Z"
   },
   {
    "duration": 8,
    "start_time": "2024-06-02T11:30:41.658Z"
   },
   {
    "duration": 325,
    "start_time": "2024-06-02T11:30:41.669Z"
   },
   {
    "duration": 450,
    "start_time": "2024-06-02T11:30:41.998Z"
   },
   {
    "duration": 374,
    "start_time": "2024-06-02T11:30:42.451Z"
   },
   {
    "duration": 222,
    "start_time": "2024-06-02T11:30:42.833Z"
   },
   {
    "duration": 3,
    "start_time": "2024-06-02T11:30:43.058Z"
   },
   {
    "duration": 3,
    "start_time": "2024-06-02T11:30:43.065Z"
   },
   {
    "duration": 6,
    "start_time": "2024-06-02T11:33:08.753Z"
   },
   {
    "duration": 14,
    "start_time": "2024-06-02T11:35:06.050Z"
   },
   {
    "duration": 16,
    "start_time": "2024-06-02T11:35:20.110Z"
   },
   {
    "duration": 5,
    "start_time": "2024-06-02T11:35:50.915Z"
   },
   {
    "duration": 1354,
    "start_time": "2024-06-02T11:35:50.924Z"
   },
   {
    "duration": 20,
    "start_time": "2024-06-02T11:35:52.281Z"
   },
   {
    "duration": 33,
    "start_time": "2024-06-02T11:35:52.305Z"
   },
   {
    "duration": 150,
    "start_time": "2024-06-02T11:35:52.341Z"
   },
   {
    "duration": 123,
    "start_time": "2024-06-02T11:35:52.496Z"
   },
   {
    "duration": 72,
    "start_time": "2024-06-02T11:35:52.626Z"
   },
   {
    "duration": 29,
    "start_time": "2024-06-02T11:35:52.703Z"
   },
   {
    "duration": 19,
    "start_time": "2024-06-02T11:35:52.738Z"
   },
   {
    "duration": 3,
    "start_time": "2024-06-02T11:35:52.760Z"
   },
   {
    "duration": 13,
    "start_time": "2024-06-02T11:35:52.767Z"
   },
   {
    "duration": 58,
    "start_time": "2024-06-02T11:35:52.783Z"
   },
   {
    "duration": 28,
    "start_time": "2024-06-02T11:35:52.845Z"
   },
   {
    "duration": 12,
    "start_time": "2024-06-02T11:35:52.875Z"
   },
   {
    "duration": 63,
    "start_time": "2024-06-02T11:35:52.891Z"
   },
   {
    "duration": 19,
    "start_time": "2024-06-02T11:35:52.957Z"
   },
   {
    "duration": 67,
    "start_time": "2024-06-02T11:35:52.979Z"
   },
   {
    "duration": 15,
    "start_time": "2024-06-02T11:35:53.049Z"
   },
   {
    "duration": 92,
    "start_time": "2024-06-02T11:35:53.067Z"
   },
   {
    "duration": 41,
    "start_time": "2024-06-02T11:35:53.161Z"
   },
   {
    "duration": 39,
    "start_time": "2024-06-02T11:35:53.205Z"
   },
   {
    "duration": 13,
    "start_time": "2024-06-02T11:35:53.247Z"
   },
   {
    "duration": 18,
    "start_time": "2024-06-02T11:35:53.263Z"
   },
   {
    "duration": 62,
    "start_time": "2024-06-02T11:35:53.289Z"
   },
   {
    "duration": 23,
    "start_time": "2024-06-02T11:35:53.355Z"
   },
   {
    "duration": 52,
    "start_time": "2024-06-02T11:35:53.381Z"
   },
   {
    "duration": 23,
    "start_time": "2024-06-02T11:35:53.436Z"
   },
   {
    "duration": 20,
    "start_time": "2024-06-02T11:35:53.462Z"
   },
   {
    "duration": 12,
    "start_time": "2024-06-02T11:35:53.485Z"
   },
   {
    "duration": 287,
    "start_time": "2024-06-02T11:35:53.533Z"
   },
   {
    "duration": 297,
    "start_time": "2024-06-02T11:35:53.823Z"
   },
   {
    "duration": 44,
    "start_time": "2024-06-02T11:35:54.123Z"
   },
   {
    "duration": 37,
    "start_time": "2024-06-02T11:35:54.170Z"
   },
   {
    "duration": 6,
    "start_time": "2024-06-02T11:35:54.233Z"
   },
   {
    "duration": 106,
    "start_time": "2024-06-02T11:35:54.242Z"
   },
   {
    "duration": 21,
    "start_time": "2024-06-02T11:35:54.350Z"
   },
   {
    "duration": 17,
    "start_time": "2024-06-02T11:35:54.374Z"
   },
   {
    "duration": 41,
    "start_time": "2024-06-02T11:35:54.394Z"
   },
   {
    "duration": 96,
    "start_time": "2024-06-02T11:35:54.439Z"
   },
   {
    "duration": 3,
    "start_time": "2024-06-02T11:35:54.541Z"
   },
   {
    "duration": 93,
    "start_time": "2024-06-02T11:35:54.547Z"
   },
   {
    "duration": 556,
    "start_time": "2024-06-02T11:35:54.643Z"
   },
   {
    "duration": 432,
    "start_time": "2024-06-02T11:35:55.202Z"
   },
   {
    "duration": 7,
    "start_time": "2024-06-02T11:35:55.637Z"
   },
   {
    "duration": 268,
    "start_time": "2024-06-02T11:35:55.647Z"
   },
   {
    "duration": 489,
    "start_time": "2024-06-02T11:35:55.919Z"
   },
   {
    "duration": 409,
    "start_time": "2024-06-02T11:35:56.411Z"
   },
   {
    "duration": 9,
    "start_time": "2024-06-02T11:35:56.832Z"
   },
   {
    "duration": 222,
    "start_time": "2024-06-02T11:35:56.844Z"
   },
   {
    "duration": 482,
    "start_time": "2024-06-02T11:35:57.069Z"
   },
   {
    "duration": 390,
    "start_time": "2024-06-02T11:35:57.554Z"
   },
   {
    "duration": 7,
    "start_time": "2024-06-02T11:35:57.947Z"
   },
   {
    "duration": 326,
    "start_time": "2024-06-02T11:35:57.957Z"
   },
   {
    "duration": 485,
    "start_time": "2024-06-02T11:35:58.289Z"
   },
   {
    "duration": 389,
    "start_time": "2024-06-02T11:35:58.777Z"
   },
   {
    "duration": 219,
    "start_time": "2024-06-02T11:35:59.169Z"
   },
   {
    "duration": 4,
    "start_time": "2024-06-02T11:35:59.391Z"
   },
   {
    "duration": 3,
    "start_time": "2024-06-02T11:35:59.399Z"
   },
   {
    "duration": 24,
    "start_time": "2024-06-02T11:41:25.360Z"
   },
   {
    "duration": 4,
    "start_time": "2024-06-02T11:41:33.570Z"
   },
   {
    "duration": 1216,
    "start_time": "2024-06-02T11:41:33.579Z"
   },
   {
    "duration": 22,
    "start_time": "2024-06-02T11:41:34.802Z"
   },
   {
    "duration": 18,
    "start_time": "2024-06-02T11:41:34.834Z"
   },
   {
    "duration": 158,
    "start_time": "2024-06-02T11:41:34.857Z"
   },
   {
    "duration": 115,
    "start_time": "2024-06-02T11:41:35.018Z"
   },
   {
    "duration": 69,
    "start_time": "2024-06-02T11:41:35.136Z"
   },
   {
    "duration": 30,
    "start_time": "2024-06-02T11:41:35.208Z"
   },
   {
    "duration": 16,
    "start_time": "2024-06-02T11:41:35.241Z"
   },
   {
    "duration": 3,
    "start_time": "2024-06-02T11:41:35.260Z"
   },
   {
    "duration": 14,
    "start_time": "2024-06-02T11:41:35.267Z"
   },
   {
    "duration": 58,
    "start_time": "2024-06-02T11:41:35.284Z"
   },
   {
    "duration": 23,
    "start_time": "2024-06-02T11:41:35.345Z"
   },
   {
    "duration": 10,
    "start_time": "2024-06-02T11:41:35.375Z"
   },
   {
    "duration": 62,
    "start_time": "2024-06-02T11:41:35.388Z"
   },
   {
    "duration": 17,
    "start_time": "2024-06-02T11:41:35.453Z"
   },
   {
    "duration": 66,
    "start_time": "2024-06-02T11:41:35.473Z"
   },
   {
    "duration": 15,
    "start_time": "2024-06-02T11:41:35.542Z"
   },
   {
    "duration": 92,
    "start_time": "2024-06-02T11:41:35.560Z"
   },
   {
    "duration": 41,
    "start_time": "2024-06-02T11:41:35.655Z"
   },
   {
    "duration": 38,
    "start_time": "2024-06-02T11:41:35.699Z"
   },
   {
    "duration": 16,
    "start_time": "2024-06-02T11:41:35.740Z"
   },
   {
    "duration": 19,
    "start_time": "2024-06-02T11:41:35.758Z"
   },
   {
    "duration": 62,
    "start_time": "2024-06-02T11:41:35.782Z"
   },
   {
    "duration": 29,
    "start_time": "2024-06-02T11:41:35.847Z"
   },
   {
    "duration": 16,
    "start_time": "2024-06-02T11:41:35.881Z"
   },
   {
    "duration": 47,
    "start_time": "2024-06-02T11:41:35.901Z"
   },
   {
    "duration": 20,
    "start_time": "2024-06-02T11:41:35.950Z"
   },
   {
    "duration": 12,
    "start_time": "2024-06-02T11:41:35.973Z"
   },
   {
    "duration": 326,
    "start_time": "2024-06-02T11:41:35.988Z"
   },
   {
    "duration": 274,
    "start_time": "2024-06-02T11:41:36.317Z"
   },
   {
    "duration": 51,
    "start_time": "2024-06-02T11:41:36.594Z"
   },
   {
    "duration": 36,
    "start_time": "2024-06-02T11:41:36.648Z"
   },
   {
    "duration": 7,
    "start_time": "2024-06-02T11:41:36.687Z"
   },
   {
    "duration": 116,
    "start_time": "2024-06-02T11:41:36.697Z"
   },
   {
    "duration": 34,
    "start_time": "2024-06-02T11:41:36.817Z"
   },
   {
    "duration": 19,
    "start_time": "2024-06-02T11:41:36.854Z"
   },
   {
    "duration": 8,
    "start_time": "2024-06-02T11:41:36.876Z"
   },
   {
    "duration": 128,
    "start_time": "2024-06-02T11:41:36.888Z"
   },
   {
    "duration": 15,
    "start_time": "2024-06-02T11:41:37.019Z"
   },
   {
    "duration": 97,
    "start_time": "2024-06-02T11:41:37.043Z"
   },
   {
    "duration": 542,
    "start_time": "2024-06-02T11:41:37.143Z"
   },
   {
    "duration": 437,
    "start_time": "2024-06-02T11:41:37.688Z"
   },
   {
    "duration": 13,
    "start_time": "2024-06-02T11:41:38.127Z"
   },
   {
    "duration": 239,
    "start_time": "2024-06-02T11:41:38.144Z"
   },
   {
    "duration": 458,
    "start_time": "2024-06-02T11:41:38.386Z"
   },
   {
    "duration": 404,
    "start_time": "2024-06-02T11:41:38.847Z"
   },
   {
    "duration": 8,
    "start_time": "2024-06-02T11:41:39.254Z"
   },
   {
    "duration": 225,
    "start_time": "2024-06-02T11:41:39.265Z"
   },
   {
    "duration": 442,
    "start_time": "2024-06-02T11:41:39.495Z"
   },
   {
    "duration": 393,
    "start_time": "2024-06-02T11:41:39.940Z"
   },
   {
    "duration": 7,
    "start_time": "2024-06-02T11:41:40.335Z"
   },
   {
    "duration": 315,
    "start_time": "2024-06-02T11:41:40.346Z"
   },
   {
    "duration": 442,
    "start_time": "2024-06-02T11:41:40.663Z"
   },
   {
    "duration": 398,
    "start_time": "2024-06-02T11:41:41.108Z"
   },
   {
    "duration": 224,
    "start_time": "2024-06-02T11:41:41.509Z"
   },
   {
    "duration": 3,
    "start_time": "2024-06-02T11:41:41.737Z"
   },
   {
    "duration": 5,
    "start_time": "2024-06-02T11:41:41.743Z"
   },
   {
    "duration": 20,
    "start_time": "2024-06-02T11:42:00.956Z"
   },
   {
    "duration": 29,
    "start_time": "2024-06-02T11:42:51.628Z"
   },
   {
    "duration": 1529,
    "start_time": "2024-06-02T11:42:59.617Z"
   },
   {
    "duration": 339,
    "start_time": "2024-06-02T11:43:04.944Z"
   },
   {
    "duration": 4,
    "start_time": "2024-06-02T11:43:15.821Z"
   },
   {
    "duration": 1363,
    "start_time": "2024-06-02T11:43:15.829Z"
   },
   {
    "duration": 21,
    "start_time": "2024-06-02T11:43:17.195Z"
   },
   {
    "duration": 28,
    "start_time": "2024-06-02T11:43:17.218Z"
   },
   {
    "duration": 159,
    "start_time": "2024-06-02T11:43:17.252Z"
   },
   {
    "duration": 124,
    "start_time": "2024-06-02T11:43:17.413Z"
   },
   {
    "duration": 69,
    "start_time": "2024-06-02T11:43:17.540Z"
   },
   {
    "duration": 28,
    "start_time": "2024-06-02T11:43:17.613Z"
   },
   {
    "duration": 16,
    "start_time": "2024-06-02T11:43:17.644Z"
   },
   {
    "duration": 4,
    "start_time": "2024-06-02T11:43:17.662Z"
   },
   {
    "duration": 14,
    "start_time": "2024-06-02T11:43:17.669Z"
   },
   {
    "duration": 62,
    "start_time": "2024-06-02T11:43:17.686Z"
   },
   {
    "duration": 23,
    "start_time": "2024-06-02T11:43:17.755Z"
   },
   {
    "duration": 11,
    "start_time": "2024-06-02T11:43:17.781Z"
   },
   {
    "duration": 59,
    "start_time": "2024-06-02T11:43:17.795Z"
   },
   {
    "duration": 18,
    "start_time": "2024-06-02T11:43:17.856Z"
   },
   {
    "duration": 71,
    "start_time": "2024-06-02T11:43:17.877Z"
   },
   {
    "duration": 17,
    "start_time": "2024-06-02T11:43:17.951Z"
   },
   {
    "duration": 93,
    "start_time": "2024-06-02T11:43:17.970Z"
   },
   {
    "duration": 41,
    "start_time": "2024-06-02T11:43:18.066Z"
   },
   {
    "duration": 39,
    "start_time": "2024-06-02T11:43:18.110Z"
   },
   {
    "duration": 13,
    "start_time": "2024-06-02T11:43:18.152Z"
   },
   {
    "duration": 17,
    "start_time": "2024-06-02T11:43:18.169Z"
   },
   {
    "duration": 54,
    "start_time": "2024-06-02T11:43:18.188Z"
   },
   {
    "duration": 22,
    "start_time": "2024-06-02T11:43:18.245Z"
   },
   {
    "duration": 17,
    "start_time": "2024-06-02T11:43:18.270Z"
   },
   {
    "duration": 57,
    "start_time": "2024-06-02T11:43:18.290Z"
   },
   {
    "duration": 21,
    "start_time": "2024-06-02T11:43:18.350Z"
   },
   {
    "duration": 14,
    "start_time": "2024-06-02T11:43:18.375Z"
   },
   {
    "duration": 323,
    "start_time": "2024-06-02T11:43:18.392Z"
   },
   {
    "duration": 274,
    "start_time": "2024-06-02T11:43:18.719Z"
   },
   {
    "duration": 58,
    "start_time": "2024-06-02T11:43:18.997Z"
   },
   {
    "duration": 41,
    "start_time": "2024-06-02T11:43:19.058Z"
   },
   {
    "duration": 30,
    "start_time": "2024-06-02T11:43:19.102Z"
   },
   {
    "duration": 112,
    "start_time": "2024-06-02T11:43:19.135Z"
   },
   {
    "duration": 20,
    "start_time": "2024-06-02T11:43:19.250Z"
   },
   {
    "duration": 17,
    "start_time": "2024-06-02T11:43:19.279Z"
   },
   {
    "duration": 7,
    "start_time": "2024-06-02T11:43:19.332Z"
   },
   {
    "duration": 95,
    "start_time": "2024-06-02T11:43:19.342Z"
   },
   {
    "duration": 3,
    "start_time": "2024-06-02T11:43:19.440Z"
   },
   {
    "duration": 105,
    "start_time": "2024-06-02T11:43:19.446Z"
   },
   {
    "duration": 562,
    "start_time": "2024-06-02T11:43:19.555Z"
   },
   {
    "duration": 430,
    "start_time": "2024-06-02T11:43:20.120Z"
   },
   {
    "duration": 8,
    "start_time": "2024-06-02T11:43:20.553Z"
   },
   {
    "duration": 251,
    "start_time": "2024-06-02T11:43:20.565Z"
   },
   {
    "duration": 450,
    "start_time": "2024-06-02T11:43:20.819Z"
   },
   {
    "duration": 414,
    "start_time": "2024-06-02T11:43:21.272Z"
   },
   {
    "duration": 7,
    "start_time": "2024-06-02T11:43:21.689Z"
   },
   {
    "duration": 238,
    "start_time": "2024-06-02T11:43:21.699Z"
   },
   {
    "duration": 442,
    "start_time": "2024-06-02T11:43:21.941Z"
   },
   {
    "duration": 412,
    "start_time": "2024-06-02T11:43:22.387Z"
   },
   {
    "duration": 8,
    "start_time": "2024-06-02T11:43:22.802Z"
   },
   {
    "duration": 321,
    "start_time": "2024-06-02T11:43:22.814Z"
   },
   {
    "duration": 472,
    "start_time": "2024-06-02T11:43:23.138Z"
   },
   {
    "duration": 385,
    "start_time": "2024-06-02T11:43:23.613Z"
   },
   {
    "duration": 298,
    "start_time": "2024-06-02T11:43:24.002Z"
   },
   {
    "duration": 6,
    "start_time": "2024-06-02T11:43:24.305Z"
   },
   {
    "duration": 15,
    "start_time": "2024-06-02T11:43:24.320Z"
   },
   {
    "duration": 10,
    "start_time": "2024-06-02T12:03:11.130Z"
   },
   {
    "duration": 976,
    "start_time": "2024-06-02T12:03:17.682Z"
   },
   {
    "duration": 91,
    "start_time": "2024-06-02T12:03:23.679Z"
   },
   {
    "duration": 126,
    "start_time": "2024-06-02T12:03:42.482Z"
   },
   {
    "duration": 9,
    "start_time": "2024-06-02T12:05:58.753Z"
   },
   {
    "duration": 125,
    "start_time": "2024-06-02T12:06:01.427Z"
   },
   {
    "duration": 115,
    "start_time": "2024-06-02T12:06:29.464Z"
   },
   {
    "duration": 11,
    "start_time": "2024-06-02T12:07:21.381Z"
   },
   {
    "duration": 116,
    "start_time": "2024-06-02T12:07:23.710Z"
   },
   {
    "duration": 107,
    "start_time": "2024-06-02T12:07:38.931Z"
   },
   {
    "duration": 108,
    "start_time": "2024-06-02T12:08:04.259Z"
   },
   {
    "duration": 10,
    "start_time": "2024-06-02T12:08:06.953Z"
   },
   {
    "duration": 80,
    "start_time": "2024-06-02T12:08:09.227Z"
   },
   {
    "duration": 97,
    "start_time": "2024-06-02T12:08:27.945Z"
   },
   {
    "duration": 81,
    "start_time": "2024-06-02T12:08:32.665Z"
   },
   {
    "duration": 8,
    "start_time": "2024-06-02T12:09:21.323Z"
   },
   {
    "duration": 80,
    "start_time": "2024-06-02T12:09:23.515Z"
   },
   {
    "duration": 80,
    "start_time": "2024-06-02T12:09:30.532Z"
   },
   {
    "duration": 6,
    "start_time": "2024-06-02T12:24:45.075Z"
   },
   {
    "duration": 7,
    "start_time": "2024-06-02T12:25:03.189Z"
   },
   {
    "duration": 7,
    "start_time": "2024-06-02T12:25:21.722Z"
   },
   {
    "duration": 7,
    "start_time": "2024-06-02T12:25:41.563Z"
   },
   {
    "duration": 24,
    "start_time": "2024-06-02T12:39:54.554Z"
   },
   {
    "duration": 6,
    "start_time": "2024-06-02T12:40:17.380Z"
   },
   {
    "duration": 7,
    "start_time": "2024-06-02T12:40:38.522Z"
   },
   {
    "duration": 7,
    "start_time": "2024-06-02T12:44:16.520Z"
   },
   {
    "duration": 11,
    "start_time": "2024-06-02T12:44:38.274Z"
   },
   {
    "duration": 7,
    "start_time": "2024-06-02T12:47:08.392Z"
   },
   {
    "duration": 9,
    "start_time": "2024-06-02T12:47:31.181Z"
   },
   {
    "duration": 8,
    "start_time": "2024-06-02T12:48:07.028Z"
   },
   {
    "duration": 6,
    "start_time": "2024-06-02T12:48:23.851Z"
   },
   {
    "duration": 26,
    "start_time": "2024-06-02T12:48:38.342Z"
   },
   {
    "duration": 7,
    "start_time": "2024-06-02T12:49:25.067Z"
   },
   {
    "duration": 8,
    "start_time": "2024-06-02T12:49:28.900Z"
   },
   {
    "duration": 8,
    "start_time": "2024-06-02T12:49:34.476Z"
   },
   {
    "duration": 24,
    "start_time": "2024-06-02T12:54:34.045Z"
   },
   {
    "duration": 545,
    "start_time": "2024-06-02T12:54:43.519Z"
   },
   {
    "duration": 81,
    "start_time": "2024-06-02T12:55:16.794Z"
   },
   {
    "duration": 25,
    "start_time": "2024-06-02T12:56:11.751Z"
   },
   {
    "duration": 34,
    "start_time": "2024-06-02T12:56:33.941Z"
   },
   {
    "duration": 6,
    "start_time": "2024-06-02T12:56:43.385Z"
   },
   {
    "duration": 1304,
    "start_time": "2024-06-02T12:56:43.397Z"
   },
   {
    "duration": 30,
    "start_time": "2024-06-02T12:56:44.705Z"
   },
   {
    "duration": 18,
    "start_time": "2024-06-02T12:56:44.738Z"
   },
   {
    "duration": 154,
    "start_time": "2024-06-02T12:56:44.758Z"
   },
   {
    "duration": 119,
    "start_time": "2024-06-02T12:56:44.917Z"
   },
   {
    "duration": 71,
    "start_time": "2024-06-02T12:56:45.039Z"
   },
   {
    "duration": 30,
    "start_time": "2024-06-02T12:56:45.114Z"
   },
   {
    "duration": 16,
    "start_time": "2024-06-02T12:56:45.148Z"
   },
   {
    "duration": 3,
    "start_time": "2024-06-02T12:56:45.167Z"
   },
   {
    "duration": 14,
    "start_time": "2024-06-02T12:56:45.174Z"
   },
   {
    "duration": 58,
    "start_time": "2024-06-02T12:56:45.191Z"
   },
   {
    "duration": 24,
    "start_time": "2024-06-02T12:56:45.252Z"
   },
   {
    "duration": 11,
    "start_time": "2024-06-02T12:56:45.279Z"
   },
   {
    "duration": 26,
    "start_time": "2024-06-02T12:56:45.332Z"
   },
   {
    "duration": 20,
    "start_time": "2024-06-02T12:56:45.361Z"
   },
   {
    "duration": 68,
    "start_time": "2024-06-02T12:56:45.384Z"
   },
   {
    "duration": 18,
    "start_time": "2024-06-02T12:56:45.455Z"
   },
   {
    "duration": 96,
    "start_time": "2024-06-02T12:56:45.476Z"
   },
   {
    "duration": 58,
    "start_time": "2024-06-02T12:56:45.575Z"
   },
   {
    "duration": 19,
    "start_time": "2024-06-02T12:56:45.636Z"
   },
   {
    "duration": 13,
    "start_time": "2024-06-02T12:56:45.658Z"
   },
   {
    "duration": 17,
    "start_time": "2024-06-02T12:56:45.674Z"
   },
   {
    "duration": 57,
    "start_time": "2024-06-02T12:56:45.694Z"
   },
   {
    "duration": 23,
    "start_time": "2024-06-02T12:56:45.753Z"
   },
   {
    "duration": 16,
    "start_time": "2024-06-02T12:56:45.779Z"
   },
   {
    "duration": 24,
    "start_time": "2024-06-02T12:56:45.834Z"
   },
   {
    "duration": 21,
    "start_time": "2024-06-02T12:56:45.861Z"
   },
   {
    "duration": 11,
    "start_time": "2024-06-02T12:56:45.885Z"
   },
   {
    "duration": 338,
    "start_time": "2024-06-02T12:56:45.898Z"
   },
   {
    "duration": 274,
    "start_time": "2024-06-02T12:56:46.238Z"
   },
   {
    "duration": 48,
    "start_time": "2024-06-02T12:56:46.515Z"
   },
   {
    "duration": 40,
    "start_time": "2024-06-02T12:56:46.565Z"
   },
   {
    "duration": 26,
    "start_time": "2024-06-02T12:56:46.608Z"
   },
   {
    "duration": 111,
    "start_time": "2024-06-02T12:56:46.638Z"
   },
   {
    "duration": 22,
    "start_time": "2024-06-02T12:56:46.752Z"
   },
   {
    "duration": 17,
    "start_time": "2024-06-02T12:56:46.777Z"
   },
   {
    "duration": 38,
    "start_time": "2024-06-02T12:56:46.797Z"
   },
   {
    "duration": 96,
    "start_time": "2024-06-02T12:56:46.838Z"
   },
   {
    "duration": 4,
    "start_time": "2024-06-02T12:56:46.937Z"
   },
   {
    "duration": 102,
    "start_time": "2024-06-02T12:56:46.945Z"
   },
   {
    "duration": 548,
    "start_time": "2024-06-02T12:56:47.056Z"
   },
   {
    "duration": 448,
    "start_time": "2024-06-02T12:56:47.607Z"
   },
   {
    "duration": 9,
    "start_time": "2024-06-02T12:56:48.058Z"
   },
   {
    "duration": 279,
    "start_time": "2024-06-02T12:56:48.073Z"
   },
   {
    "duration": 559,
    "start_time": "2024-06-02T12:56:48.356Z"
   },
   {
    "duration": 406,
    "start_time": "2024-06-02T12:56:48.918Z"
   },
   {
    "duration": 7,
    "start_time": "2024-06-02T12:56:49.327Z"
   },
   {
    "duration": 228,
    "start_time": "2024-06-02T12:56:49.337Z"
   },
   {
    "duration": 449,
    "start_time": "2024-06-02T12:56:49.568Z"
   },
   {
    "duration": 382,
    "start_time": "2024-06-02T12:56:50.020Z"
   },
   {
    "duration": 7,
    "start_time": "2024-06-02T12:56:50.406Z"
   },
   {
    "duration": 316,
    "start_time": "2024-06-02T12:56:50.416Z"
   },
   {
    "duration": 453,
    "start_time": "2024-06-02T12:56:50.735Z"
   },
   {
    "duration": 387,
    "start_time": "2024-06-02T12:56:51.191Z"
   },
   {
    "duration": 8,
    "start_time": "2024-06-02T12:56:51.581Z"
   },
   {
    "duration": 229,
    "start_time": "2024-06-02T12:56:51.592Z"
   },
   {
    "duration": 10,
    "start_time": "2024-06-02T12:56:51.833Z"
   },
   {
    "duration": 34,
    "start_time": "2024-06-02T12:56:51.846Z"
   },
   {
    "duration": 4,
    "start_time": "2024-06-02T12:57:25.576Z"
   },
   {
    "duration": 1296,
    "start_time": "2024-06-02T12:57:25.584Z"
   },
   {
    "duration": 22,
    "start_time": "2024-06-02T12:57:26.883Z"
   },
   {
    "duration": 34,
    "start_time": "2024-06-02T12:57:26.908Z"
   },
   {
    "duration": 196,
    "start_time": "2024-06-02T12:57:26.947Z"
   },
   {
    "duration": 131,
    "start_time": "2024-06-02T12:57:27.146Z"
   },
   {
    "duration": 79,
    "start_time": "2024-06-02T12:57:27.280Z"
   },
   {
    "duration": 14,
    "start_time": "2024-06-02T12:57:27.362Z"
   },
   {
    "duration": 19,
    "start_time": "2024-06-02T12:57:27.379Z"
   },
   {
    "duration": 32,
    "start_time": "2024-06-02T12:57:27.401Z"
   },
   {
    "duration": 14,
    "start_time": "2024-06-02T12:57:27.439Z"
   },
   {
    "duration": 18,
    "start_time": "2024-06-02T12:57:27.456Z"
   },
   {
    "duration": 60,
    "start_time": "2024-06-02T12:57:27.476Z"
   },
   {
    "duration": 11,
    "start_time": "2024-06-02T12:57:27.539Z"
   },
   {
    "duration": 26,
    "start_time": "2024-06-02T12:57:27.552Z"
   },
   {
    "duration": 54,
    "start_time": "2024-06-02T12:57:27.581Z"
   },
   {
    "duration": 36,
    "start_time": "2024-06-02T12:57:27.638Z"
   },
   {
    "duration": 15,
    "start_time": "2024-06-02T12:57:27.677Z"
   },
   {
    "duration": 96,
    "start_time": "2024-06-02T12:57:27.695Z"
   },
   {
    "duration": 57,
    "start_time": "2024-06-02T12:57:27.795Z"
   },
   {
    "duration": 22,
    "start_time": "2024-06-02T12:57:27.855Z"
   },
   {
    "duration": 14,
    "start_time": "2024-06-02T12:57:27.879Z"
   },
   {
    "duration": 48,
    "start_time": "2024-06-02T12:57:27.897Z"
   },
   {
    "duration": 23,
    "start_time": "2024-06-02T12:57:27.948Z"
   },
   {
    "duration": 23,
    "start_time": "2024-06-02T12:57:27.974Z"
   },
   {
    "duration": 16,
    "start_time": "2024-06-02T12:57:28.032Z"
   },
   {
    "duration": 25,
    "start_time": "2024-06-02T12:57:28.051Z"
   },
   {
    "duration": 20,
    "start_time": "2024-06-02T12:57:28.079Z"
   },
   {
    "duration": 15,
    "start_time": "2024-06-02T12:57:28.136Z"
   },
   {
    "duration": 316,
    "start_time": "2024-06-02T12:57:28.154Z"
   },
   {
    "duration": 277,
    "start_time": "2024-06-02T12:57:28.473Z"
   },
   {
    "duration": 38,
    "start_time": "2024-06-02T12:57:28.753Z"
   },
   {
    "duration": 61,
    "start_time": "2024-06-02T12:57:28.794Z"
   },
   {
    "duration": 6,
    "start_time": "2024-06-02T12:57:28.858Z"
   },
   {
    "duration": 108,
    "start_time": "2024-06-02T12:57:28.867Z"
   },
   {
    "duration": 20,
    "start_time": "2024-06-02T12:57:28.978Z"
   },
   {
    "duration": 40,
    "start_time": "2024-06-02T12:57:29.001Z"
   },
   {
    "duration": 10,
    "start_time": "2024-06-02T12:57:29.045Z"
   },
   {
    "duration": 97,
    "start_time": "2024-06-02T12:57:29.057Z"
   },
   {
    "duration": 4,
    "start_time": "2024-06-02T12:57:29.156Z"
   },
   {
    "duration": 107,
    "start_time": "2024-06-02T12:57:29.163Z"
   },
   {
    "duration": 549,
    "start_time": "2024-06-02T12:57:29.273Z"
   },
   {
    "duration": 432,
    "start_time": "2024-06-02T12:57:29.825Z"
   },
   {
    "duration": 8,
    "start_time": "2024-06-02T12:57:30.259Z"
   },
   {
    "duration": 251,
    "start_time": "2024-06-02T12:57:30.270Z"
   },
   {
    "duration": 468,
    "start_time": "2024-06-02T12:57:30.524Z"
   },
   {
    "duration": 415,
    "start_time": "2024-06-02T12:57:30.995Z"
   },
   {
    "duration": 19,
    "start_time": "2024-06-02T12:57:31.414Z"
   },
   {
    "duration": 238,
    "start_time": "2024-06-02T12:57:31.436Z"
   },
   {
    "duration": 459,
    "start_time": "2024-06-02T12:57:31.677Z"
   },
   {
    "duration": 388,
    "start_time": "2024-06-02T12:57:32.139Z"
   },
   {
    "duration": 8,
    "start_time": "2024-06-02T12:57:32.534Z"
   },
   {
    "duration": 324,
    "start_time": "2024-06-02T12:57:32.546Z"
   },
   {
    "duration": 448,
    "start_time": "2024-06-02T12:57:32.873Z"
   },
   {
    "duration": 379,
    "start_time": "2024-06-02T12:57:33.324Z"
   },
   {
    "duration": 11,
    "start_time": "2024-06-02T12:57:33.706Z"
   },
   {
    "duration": 224,
    "start_time": "2024-06-02T12:57:33.734Z"
   },
   {
    "duration": 8,
    "start_time": "2024-06-02T12:57:33.961Z"
   },
   {
    "duration": 21,
    "start_time": "2024-06-02T12:57:33.972Z"
   },
   {
    "duration": 12,
    "start_time": "2024-06-02T13:01:39.889Z"
   },
   {
    "duration": 9,
    "start_time": "2024-06-02T13:02:34.314Z"
   },
   {
    "duration": 1044,
    "start_time": "2024-06-02T13:03:07.644Z"
   },
   {
    "duration": 23,
    "start_time": "2024-06-02T13:05:08.483Z"
   },
   {
    "duration": 17,
    "start_time": "2024-06-02T13:05:30.997Z"
   },
   {
    "duration": 15,
    "start_time": "2024-06-02T13:05:53.445Z"
   },
   {
    "duration": 16,
    "start_time": "2024-06-02T13:05:56.646Z"
   },
   {
    "duration": 17,
    "start_time": "2024-06-02T13:08:32.095Z"
   },
   {
    "duration": 20,
    "start_time": "2024-06-02T13:08:58.404Z"
   },
   {
    "duration": 24,
    "start_time": "2024-06-02T13:09:09.739Z"
   },
   {
    "duration": 19,
    "start_time": "2024-06-02T13:14:07.170Z"
   },
   {
    "duration": 8,
    "start_time": "2024-06-02T13:14:17.280Z"
   },
   {
    "duration": 485,
    "start_time": "2024-06-02T13:23:11.108Z"
   },
   {
    "duration": 7,
    "start_time": "2024-06-02T13:23:24.651Z"
   },
   {
    "duration": 7,
    "start_time": "2024-06-02T13:23:37.244Z"
   },
   {
    "duration": 17,
    "start_time": "2024-06-02T13:43:10.412Z"
   },
   {
    "duration": 17,
    "start_time": "2024-06-02T13:43:26.836Z"
   },
   {
    "duration": 7,
    "start_time": "2024-06-02T14:11:52.377Z"
   },
   {
    "duration": 483,
    "start_time": "2024-06-02T14:14:35.269Z"
   },
   {
    "duration": 366,
    "start_time": "2024-06-02T14:14:39.692Z"
   },
   {
    "duration": 388,
    "start_time": "2024-06-02T14:14:45.446Z"
   },
   {
    "duration": 386,
    "start_time": "2024-06-02T14:14:57.338Z"
   },
   {
    "duration": 6,
    "start_time": "2024-06-02T14:29:20.841Z"
   },
   {
    "duration": 7,
    "start_time": "2024-06-02T14:29:26.187Z"
   },
   {
    "duration": 7,
    "start_time": "2024-06-02T14:29:30.647Z"
   },
   {
    "duration": 7,
    "start_time": "2024-06-02T15:35:37.353Z"
   },
   {
    "duration": 4954,
    "start_time": "2024-06-02T15:35:37.364Z"
   },
   {
    "duration": 24,
    "start_time": "2024-06-02T15:35:42.321Z"
   },
   {
    "duration": 20,
    "start_time": "2024-06-02T15:35:42.351Z"
   },
   {
    "duration": 173,
    "start_time": "2024-06-02T15:35:42.376Z"
   },
   {
    "duration": 140,
    "start_time": "2024-06-02T15:35:42.553Z"
   },
   {
    "duration": 100,
    "start_time": "2024-06-02T15:35:42.697Z"
   },
   {
    "duration": 17,
    "start_time": "2024-06-02T15:35:42.799Z"
   },
   {
    "duration": 17,
    "start_time": "2024-06-02T15:35:42.823Z"
   },
   {
    "duration": 4,
    "start_time": "2024-06-02T15:35:42.843Z"
   },
   {
    "duration": 14,
    "start_time": "2024-06-02T15:35:42.851Z"
   },
   {
    "duration": 59,
    "start_time": "2024-06-02T15:35:42.868Z"
   },
   {
    "duration": 24,
    "start_time": "2024-06-02T15:35:42.930Z"
   },
   {
    "duration": 14,
    "start_time": "2024-06-02T15:35:42.959Z"
   },
   {
    "duration": 34,
    "start_time": "2024-06-02T15:35:43.013Z"
   },
   {
    "duration": 18,
    "start_time": "2024-06-02T15:35:43.050Z"
   },
   {
    "duration": 69,
    "start_time": "2024-06-02T15:35:43.071Z"
   },
   {
    "duration": 17,
    "start_time": "2024-06-02T15:35:43.143Z"
   },
   {
    "duration": 100,
    "start_time": "2024-06-02T15:35:43.164Z"
   },
   {
    "duration": 58,
    "start_time": "2024-06-02T15:35:43.268Z"
   },
   {
    "duration": 20,
    "start_time": "2024-06-02T15:35:43.329Z"
   },
   {
    "duration": 16,
    "start_time": "2024-06-02T15:35:43.352Z"
   },
   {
    "duration": 51,
    "start_time": "2024-06-02T15:35:43.371Z"
   },
   {
    "duration": 24,
    "start_time": "2024-06-02T15:35:43.432Z"
   },
   {
    "duration": 22,
    "start_time": "2024-06-02T15:35:43.459Z"
   },
   {
    "duration": 17,
    "start_time": "2024-06-02T15:35:43.512Z"
   },
   {
    "duration": 22,
    "start_time": "2024-06-02T15:35:43.532Z"
   },
   {
    "duration": 21,
    "start_time": "2024-06-02T15:35:43.557Z"
   },
   {
    "duration": 13,
    "start_time": "2024-06-02T15:35:43.611Z"
   },
   {
    "duration": 332,
    "start_time": "2024-06-02T15:35:43.628Z"
   },
   {
    "duration": 279,
    "start_time": "2024-06-02T15:35:43.963Z"
   },
   {
    "duration": 40,
    "start_time": "2024-06-02T15:35:44.245Z"
   },
   {
    "duration": 55,
    "start_time": "2024-06-02T15:35:44.289Z"
   },
   {
    "duration": 6,
    "start_time": "2024-06-02T15:35:44.347Z"
   },
   {
    "duration": 57,
    "start_time": "2024-06-02T15:35:44.357Z"
   },
   {
    "duration": 21,
    "start_time": "2024-06-02T15:35:44.417Z"
   },
   {
    "duration": 18,
    "start_time": "2024-06-02T15:35:44.441Z"
   },
   {
    "duration": 8,
    "start_time": "2024-06-02T15:35:44.462Z"
   },
   {
    "duration": 139,
    "start_time": "2024-06-02T15:35:44.473Z"
   },
   {
    "duration": 4,
    "start_time": "2024-06-02T15:35:44.615Z"
   },
   {
    "duration": 101,
    "start_time": "2024-06-02T15:35:44.623Z"
   },
   {
    "duration": 558,
    "start_time": "2024-06-02T15:35:44.727Z"
   },
   {
    "duration": 529,
    "start_time": "2024-06-02T15:35:45.287Z"
   },
   {
    "duration": 9,
    "start_time": "2024-06-02T15:35:45.821Z"
   },
   {
    "duration": 270,
    "start_time": "2024-06-02T15:35:45.836Z"
   },
   {
    "duration": 486,
    "start_time": "2024-06-02T15:35:46.114Z"
   },
   {
    "duration": 419,
    "start_time": "2024-06-02T15:35:46.603Z"
   },
   {
    "duration": 8,
    "start_time": "2024-06-02T15:35:47.025Z"
   },
   {
    "duration": 242,
    "start_time": "2024-06-02T15:35:47.036Z"
   },
   {
    "duration": 459,
    "start_time": "2024-06-02T15:35:47.281Z"
   },
   {
    "duration": 386,
    "start_time": "2024-06-02T15:35:47.744Z"
   },
   {
    "duration": 7,
    "start_time": "2024-06-02T15:35:48.133Z"
   },
   {
    "duration": 254,
    "start_time": "2024-06-02T15:35:48.144Z"
   },
   {
    "duration": 455,
    "start_time": "2024-06-02T15:35:48.411Z"
   },
   {
    "duration": 464,
    "start_time": "2024-06-02T15:35:48.869Z"
   },
   {
    "duration": 8,
    "start_time": "2024-06-02T15:35:49.337Z"
   },
   {
    "duration": 242,
    "start_time": "2024-06-02T15:35:49.348Z"
   },
   {
    "duration": 20,
    "start_time": "2024-06-02T15:35:49.593Z"
   },
   {
    "duration": 23,
    "start_time": "2024-06-02T15:35:49.617Z"
   },
   {
    "duration": 11,
    "start_time": "2024-06-02T15:35:49.643Z"
   },
   {
    "duration": 8,
    "start_time": "2024-06-02T15:35:49.656Z"
   },
   {
    "duration": 5,
    "start_time": "2024-06-02T16:42:44.100Z"
   },
   {
    "duration": 6511,
    "start_time": "2024-06-02T16:42:44.109Z"
   },
   {
    "duration": 24,
    "start_time": "2024-06-02T16:42:50.623Z"
   },
   {
    "duration": 20,
    "start_time": "2024-06-02T16:42:50.651Z"
   },
   {
    "duration": 362,
    "start_time": "2024-06-02T16:42:50.674Z"
   },
   {
    "duration": 273,
    "start_time": "2024-06-02T16:42:51.039Z"
   },
   {
    "duration": 142,
    "start_time": "2024-06-02T16:42:51.315Z"
   },
   {
    "duration": 16,
    "start_time": "2024-06-02T16:42:51.517Z"
   },
   {
    "duration": 20,
    "start_time": "2024-06-02T16:42:51.537Z"
   },
   {
    "duration": 3,
    "start_time": "2024-06-02T16:42:51.618Z"
   },
   {
    "duration": 17,
    "start_time": "2024-06-02T16:42:51.625Z"
   },
   {
    "duration": 75,
    "start_time": "2024-06-02T16:42:51.646Z"
   },
   {
    "duration": 87,
    "start_time": "2024-06-02T16:42:51.725Z"
   },
   {
    "duration": 13,
    "start_time": "2024-06-02T16:42:51.816Z"
   },
   {
    "duration": 81,
    "start_time": "2024-06-02T16:42:51.832Z"
   },
   {
    "duration": 24,
    "start_time": "2024-06-02T16:42:51.917Z"
   },
   {
    "duration": 104,
    "start_time": "2024-06-02T16:42:51.944Z"
   },
   {
    "duration": 67,
    "start_time": "2024-06-02T16:42:52.051Z"
   },
   {
    "duration": 193,
    "start_time": "2024-06-02T16:42:52.122Z"
   },
   {
    "duration": 118,
    "start_time": "2024-06-02T16:42:52.319Z"
   },
   {
    "duration": 93,
    "start_time": "2024-06-02T16:42:52.441Z"
   },
   {
    "duration": 87,
    "start_time": "2024-06-02T16:42:52.538Z"
   },
   {
    "duration": 92,
    "start_time": "2024-06-02T16:42:52.628Z"
   },
   {
    "duration": 26,
    "start_time": "2024-06-02T16:42:52.723Z"
   },
   {
    "duration": 23,
    "start_time": "2024-06-02T16:42:52.813Z"
   },
   {
    "duration": 80,
    "start_time": "2024-06-02T16:42:52.840Z"
   },
   {
    "duration": 24,
    "start_time": "2024-06-02T16:42:52.923Z"
   },
   {
    "duration": 35,
    "start_time": "2024-06-02T16:42:53.019Z"
   },
   {
    "duration": 16,
    "start_time": "2024-06-02T16:42:53.112Z"
   },
   {
    "duration": 1386,
    "start_time": "2024-06-02T16:42:53.131Z"
   },
   {
    "duration": 1188,
    "start_time": "2024-06-02T16:42:54.525Z"
   },
   {
    "duration": 196,
    "start_time": "2024-06-02T16:42:55.716Z"
   },
   {
    "duration": 98,
    "start_time": "2024-06-02T16:42:55.916Z"
   },
   {
    "duration": 6,
    "start_time": "2024-06-02T16:42:56.017Z"
   },
   {
    "duration": 96,
    "start_time": "2024-06-02T16:42:56.028Z"
   },
   {
    "duration": 99,
    "start_time": "2024-06-02T16:42:56.126Z"
   },
   {
    "duration": 90,
    "start_time": "2024-06-02T16:42:56.228Z"
   },
   {
    "duration": 9,
    "start_time": "2024-06-02T16:42:56.322Z"
   },
   {
    "duration": 201,
    "start_time": "2024-06-02T16:42:56.336Z"
   },
   {
    "duration": 4,
    "start_time": "2024-06-02T16:42:56.543Z"
   },
   {
    "duration": 200,
    "start_time": "2024-06-02T16:42:56.551Z"
   },
   {
    "duration": 741,
    "start_time": "2024-06-02T16:42:56.755Z"
   },
   {
    "duration": 449,
    "start_time": "2024-06-02T16:42:57.499Z"
   },
   {
    "duration": 10,
    "start_time": "2024-06-02T16:42:57.951Z"
   },
   {
    "duration": 245,
    "start_time": "2024-06-02T16:42:57.964Z"
   },
   {
    "duration": 527,
    "start_time": "2024-06-02T16:42:58.214Z"
   },
   {
    "duration": 404,
    "start_time": "2024-06-02T16:42:58.744Z"
   },
   {
    "duration": 7,
    "start_time": "2024-06-02T16:42:59.151Z"
   },
   {
    "duration": 237,
    "start_time": "2024-06-02T16:42:59.161Z"
   },
   {
    "duration": 484,
    "start_time": "2024-06-02T16:42:59.400Z"
   },
   {
    "duration": 386,
    "start_time": "2024-06-02T16:42:59.888Z"
   },
   {
    "duration": 7,
    "start_time": "2024-06-02T16:43:00.278Z"
   },
   {
    "duration": 239,
    "start_time": "2024-06-02T16:43:00.288Z"
   },
   {
    "duration": 466,
    "start_time": "2024-06-02T16:43:00.531Z"
   },
   {
    "duration": 376,
    "start_time": "2024-06-02T16:43:01.000Z"
   },
   {
    "duration": 8,
    "start_time": "2024-06-02T16:43:01.379Z"
   },
   {
    "duration": 320,
    "start_time": "2024-06-02T16:43:01.391Z"
   },
   {
    "duration": 9,
    "start_time": "2024-06-02T16:43:01.715Z"
   },
   {
    "duration": 25,
    "start_time": "2024-06-02T16:43:01.728Z"
   },
   {
    "duration": 12,
    "start_time": "2024-06-02T16:43:01.756Z"
   },
   {
    "duration": 47,
    "start_time": "2024-06-02T16:43:01.771Z"
   },
   {
    "duration": 20,
    "start_time": "2024-06-02T16:45:34.529Z"
   },
   {
    "duration": 16,
    "start_time": "2024-06-02T16:45:52.942Z"
   },
   {
    "duration": 13,
    "start_time": "2024-06-02T21:42:58.313Z"
   },
   {
    "duration": 309,
    "start_time": "2024-06-02T21:51:00.036Z"
   },
   {
    "duration": 3,
    "start_time": "2024-06-02T21:51:10.786Z"
   },
   {
    "duration": 4973,
    "start_time": "2024-06-02T21:51:10.827Z"
   },
   {
    "duration": 32,
    "start_time": "2024-06-02T21:51:15.805Z"
   },
   {
    "duration": 21,
    "start_time": "2024-06-02T21:51:15.840Z"
   },
   {
    "duration": 170,
    "start_time": "2024-06-02T21:51:15.866Z"
   },
   {
    "duration": 147,
    "start_time": "2024-06-02T21:51:16.039Z"
   },
   {
    "duration": 85,
    "start_time": "2024-06-02T21:51:16.189Z"
   },
   {
    "duration": 14,
    "start_time": "2024-06-02T21:51:16.277Z"
   },
   {
    "duration": 31,
    "start_time": "2024-06-02T21:51:16.294Z"
   },
   {
    "duration": 4,
    "start_time": "2024-06-02T21:51:16.328Z"
   },
   {
    "duration": 15,
    "start_time": "2024-06-02T21:51:16.338Z"
   },
   {
    "duration": 56,
    "start_time": "2024-06-02T21:51:16.356Z"
   },
   {
    "duration": 22,
    "start_time": "2024-06-02T21:51:16.416Z"
   },
   {
    "duration": 11,
    "start_time": "2024-06-02T21:51:16.442Z"
   },
   {
    "duration": 65,
    "start_time": "2024-06-02T21:51:16.456Z"
   },
   {
    "duration": 18,
    "start_time": "2024-06-02T21:51:16.524Z"
   },
   {
    "duration": 38,
    "start_time": "2024-06-02T21:51:16.545Z"
   },
   {
    "duration": 40,
    "start_time": "2024-06-02T21:51:16.585Z"
   },
   {
    "duration": 92,
    "start_time": "2024-06-02T21:51:16.628Z"
   },
   {
    "duration": 48,
    "start_time": "2024-06-02T21:51:16.723Z"
   },
   {
    "duration": 44,
    "start_time": "2024-06-02T21:51:16.774Z"
   },
   {
    "duration": 13,
    "start_time": "2024-06-02T21:51:16.821Z"
   },
   {
    "duration": 17,
    "start_time": "2024-06-02T21:51:16.837Z"
   },
   {
    "duration": 57,
    "start_time": "2024-06-02T21:51:16.857Z"
   },
   {
    "duration": 25,
    "start_time": "2024-06-02T21:51:16.917Z"
   },
   {
    "duration": 21,
    "start_time": "2024-06-02T21:51:16.945Z"
   },
   {
    "duration": 58,
    "start_time": "2024-06-02T21:51:16.970Z"
   },
   {
    "duration": 20,
    "start_time": "2024-06-02T21:51:17.032Z"
   },
   {
    "duration": 11,
    "start_time": "2024-06-02T21:51:17.060Z"
   },
   {
    "duration": 412,
    "start_time": "2024-06-02T21:51:17.075Z"
   },
   {
    "duration": 287,
    "start_time": "2024-06-02T21:51:17.490Z"
   },
   {
    "duration": 53,
    "start_time": "2024-06-02T21:51:17.780Z"
   },
   {
    "duration": 39,
    "start_time": "2024-06-02T21:51:17.835Z"
   },
   {
    "duration": 6,
    "start_time": "2024-06-02T21:51:17.877Z"
   },
   {
    "duration": 415,
    "start_time": "2024-06-02T21:51:27.025Z"
   },
   {
    "duration": 31,
    "start_time": "2024-06-02T21:51:56.414Z"
   },
   {
    "duration": 25,
    "start_time": "2024-06-02T21:52:07.793Z"
   },
   {
    "duration": 6,
    "start_time": "2024-06-02T21:58:24.015Z"
   },
   {
    "duration": 1334,
    "start_time": "2024-06-02T21:58:24.036Z"
   },
   {
    "duration": 25,
    "start_time": "2024-06-02T21:58:25.379Z"
   },
   {
    "duration": 20,
    "start_time": "2024-06-02T21:58:25.414Z"
   },
   {
    "duration": 191,
    "start_time": "2024-06-02T21:58:25.438Z"
   },
   {
    "duration": 127,
    "start_time": "2024-06-02T21:58:25.635Z"
   },
   {
    "duration": 92,
    "start_time": "2024-06-02T21:58:25.768Z"
   },
   {
    "duration": 18,
    "start_time": "2024-06-02T21:58:25.864Z"
   },
   {
    "duration": 39,
    "start_time": "2024-06-02T21:58:25.885Z"
   },
   {
    "duration": 4,
    "start_time": "2024-06-02T21:58:25.928Z"
   },
   {
    "duration": 15,
    "start_time": "2024-06-02T21:58:25.936Z"
   },
   {
    "duration": 60,
    "start_time": "2024-06-02T21:58:25.955Z"
   },
   {
    "duration": 26,
    "start_time": "2024-06-02T21:58:26.018Z"
   },
   {
    "duration": 13,
    "start_time": "2024-06-02T21:58:26.048Z"
   },
   {
    "duration": 61,
    "start_time": "2024-06-02T21:58:26.069Z"
   },
   {
    "duration": 23,
    "start_time": "2024-06-02T21:58:26.133Z"
   },
   {
    "duration": 83,
    "start_time": "2024-06-02T21:58:26.159Z"
   },
   {
    "duration": 18,
    "start_time": "2024-06-02T21:58:26.246Z"
   },
   {
    "duration": 94,
    "start_time": "2024-06-02T21:58:26.268Z"
   },
   {
    "duration": 62,
    "start_time": "2024-06-02T21:58:26.365Z"
   },
   {
    "duration": 20,
    "start_time": "2024-06-02T21:58:26.431Z"
   },
   {
    "duration": 15,
    "start_time": "2024-06-02T21:58:26.454Z"
   },
   {
    "duration": 48,
    "start_time": "2024-06-02T21:58:26.473Z"
   },
   {
    "duration": 25,
    "start_time": "2024-06-02T21:58:26.527Z"
   },
   {
    "duration": 56,
    "start_time": "2024-06-02T21:58:26.556Z"
   },
   {
    "duration": 19,
    "start_time": "2024-06-02T21:58:26.615Z"
   },
   {
    "duration": 25,
    "start_time": "2024-06-02T21:58:26.637Z"
   },
   {
    "duration": 58,
    "start_time": "2024-06-02T21:58:26.669Z"
   },
   {
    "duration": 14,
    "start_time": "2024-06-02T21:58:26.732Z"
   },
   {
    "duration": 323,
    "start_time": "2024-06-02T21:58:26.749Z"
   },
   {
    "duration": 283,
    "start_time": "2024-06-02T21:58:27.075Z"
   },
   {
    "duration": 56,
    "start_time": "2024-06-02T21:58:27.363Z"
   },
   {
    "duration": 42,
    "start_time": "2024-06-02T21:58:27.422Z"
   },
   {
    "duration": 7,
    "start_time": "2024-06-02T21:58:27.467Z"
   },
   {
    "duration": 148,
    "start_time": "2024-06-02T21:58:27.477Z"
   },
   {
    "duration": 26,
    "start_time": "2024-06-02T21:58:27.629Z"
   },
   {
    "duration": 53,
    "start_time": "2024-06-02T21:58:27.658Z"
   },
   {
    "duration": 11,
    "start_time": "2024-06-02T21:58:27.715Z"
   },
   {
    "duration": 157,
    "start_time": "2024-06-02T21:58:27.729Z"
   },
   {
    "duration": 4,
    "start_time": "2024-06-02T21:58:27.890Z"
   },
   {
    "duration": 81,
    "start_time": "2024-06-02T21:58:27.914Z"
   },
   {
    "duration": 551,
    "start_time": "2024-06-02T21:58:28.021Z"
   },
   {
    "duration": 503,
    "start_time": "2024-06-02T21:58:28.576Z"
   },
   {
    "duration": 10,
    "start_time": "2024-06-02T21:58:29.084Z"
   },
   {
    "duration": 250,
    "start_time": "2024-06-02T21:58:29.120Z"
   },
   {
    "duration": 486,
    "start_time": "2024-06-02T21:58:29.374Z"
   },
   {
    "duration": 437,
    "start_time": "2024-06-02T21:58:29.865Z"
   },
   {
    "duration": 14,
    "start_time": "2024-06-02T21:58:30.306Z"
   },
   {
    "duration": 255,
    "start_time": "2024-06-02T21:58:30.324Z"
   },
   {
    "duration": 620,
    "start_time": "2024-06-02T21:58:30.583Z"
   },
   {
    "duration": 467,
    "start_time": "2024-06-02T21:58:31.206Z"
   },
   {
    "duration": 9,
    "start_time": "2024-06-02T21:58:31.677Z"
   },
   {
    "duration": 351,
    "start_time": "2024-06-02T21:58:31.690Z"
   },
   {
    "duration": 468,
    "start_time": "2024-06-02T21:58:32.044Z"
   },
   {
    "duration": 399,
    "start_time": "2024-06-02T21:58:32.516Z"
   },
   {
    "duration": 8,
    "start_time": "2024-06-02T21:58:32.918Z"
   },
   {
    "duration": 264,
    "start_time": "2024-06-02T21:58:32.930Z"
   },
   {
    "duration": 20,
    "start_time": "2024-06-02T21:58:33.197Z"
   },
   {
    "duration": 31,
    "start_time": "2024-06-02T21:58:33.220Z"
   },
   {
    "duration": 12,
    "start_time": "2024-06-02T21:58:33.256Z"
   },
   {
    "duration": 46,
    "start_time": "2024-06-02T21:58:33.272Z"
   },
   {
    "duration": 39,
    "start_time": "2024-06-02T22:01:58.147Z"
   },
   {
    "duration": 37,
    "start_time": "2024-06-02T22:02:06.176Z"
   },
   {
    "duration": 39,
    "start_time": "2024-06-02T22:02:22.370Z"
   },
   {
    "duration": 5,
    "start_time": "2024-06-02T22:02:51.564Z"
   },
   {
    "duration": 32,
    "start_time": "2024-06-02T22:02:55.763Z"
   },
   {
    "duration": 26,
    "start_time": "2024-06-02T22:02:59.058Z"
   },
   {
    "duration": 3,
    "start_time": "2024-06-02T22:03:12.504Z"
   },
   {
    "duration": 1361,
    "start_time": "2024-06-02T22:03:12.512Z"
   },
   {
    "duration": 31,
    "start_time": "2024-06-02T22:03:13.885Z"
   },
   {
    "duration": 18,
    "start_time": "2024-06-02T22:03:13.920Z"
   },
   {
    "duration": 166,
    "start_time": "2024-06-02T22:03:13.944Z"
   },
   {
    "duration": 126,
    "start_time": "2024-06-02T22:03:14.113Z"
   },
   {
    "duration": 79,
    "start_time": "2024-06-02T22:03:14.242Z"
   },
   {
    "duration": 13,
    "start_time": "2024-06-02T22:03:14.324Z"
   },
   {
    "duration": 15,
    "start_time": "2024-06-02T22:03:14.341Z"
   },
   {
    "duration": 3,
    "start_time": "2024-06-02T22:03:14.360Z"
   },
   {
    "duration": 57,
    "start_time": "2024-06-02T22:03:14.366Z"
   },
   {
    "duration": 18,
    "start_time": "2024-06-02T22:03:14.425Z"
   },
   {
    "duration": 23,
    "start_time": "2024-06-02T22:03:14.447Z"
   },
   {
    "duration": 44,
    "start_time": "2024-06-02T22:03:14.478Z"
   },
   {
    "duration": 32,
    "start_time": "2024-06-02T22:03:14.531Z"
   },
   {
    "duration": 48,
    "start_time": "2024-06-02T22:03:14.566Z"
   },
   {
    "duration": 40,
    "start_time": "2024-06-02T22:03:14.619Z"
   },
   {
    "duration": 18,
    "start_time": "2024-06-02T22:03:14.662Z"
   },
   {
    "duration": 100,
    "start_time": "2024-06-02T22:03:14.682Z"
   },
   {
    "duration": 54,
    "start_time": "2024-06-02T22:03:14.785Z"
   },
   {
    "duration": 20,
    "start_time": "2024-06-02T22:03:14.842Z"
   },
   {
    "duration": 13,
    "start_time": "2024-06-02T22:03:14.865Z"
   },
   {
    "duration": 18,
    "start_time": "2024-06-02T22:03:14.912Z"
   },
   {
    "duration": 24,
    "start_time": "2024-06-02T22:03:14.933Z"
   },
   {
    "duration": 50,
    "start_time": "2024-06-02T22:03:14.963Z"
   },
   {
    "duration": 15,
    "start_time": "2024-06-02T22:03:15.016Z"
   },
   {
    "duration": 22,
    "start_time": "2024-06-02T22:03:15.034Z"
   },
   {
    "duration": 19,
    "start_time": "2024-06-02T22:03:15.059Z"
   },
   {
    "duration": 13,
    "start_time": "2024-06-02T22:03:15.113Z"
   },
   {
    "duration": 310,
    "start_time": "2024-06-02T22:03:15.129Z"
   },
   {
    "duration": 278,
    "start_time": "2024-06-02T22:03:15.442Z"
   },
   {
    "duration": 49,
    "start_time": "2024-06-02T22:03:15.723Z"
   },
   {
    "duration": 80,
    "start_time": "2024-06-02T22:03:15.775Z"
   },
   {
    "duration": 9,
    "start_time": "2024-06-02T22:03:15.858Z"
   },
   {
    "duration": 110,
    "start_time": "2024-06-02T22:03:15.871Z"
   },
   {
    "duration": 37,
    "start_time": "2024-06-02T22:03:15.984Z"
   },
   {
    "duration": 21,
    "start_time": "2024-06-02T22:03:16.024Z"
   },
   {
    "duration": 8,
    "start_time": "2024-06-02T22:03:16.048Z"
   },
   {
    "duration": 125,
    "start_time": "2024-06-02T22:03:16.059Z"
   },
   {
    "duration": 3,
    "start_time": "2024-06-02T22:03:16.187Z"
   },
   {
    "duration": 74,
    "start_time": "2024-06-02T22:03:16.219Z"
   },
   {
    "duration": 545,
    "start_time": "2024-06-02T22:03:16.296Z"
   },
   {
    "duration": 443,
    "start_time": "2024-06-02T22:03:16.844Z"
   },
   {
    "duration": 8,
    "start_time": "2024-06-02T22:03:17.291Z"
   },
   {
    "duration": 234,
    "start_time": "2024-06-02T22:03:17.314Z"
   },
   {
    "duration": 468,
    "start_time": "2024-06-02T22:03:17.550Z"
   },
   {
    "duration": 394,
    "start_time": "2024-06-02T22:03:18.021Z"
   },
   {
    "duration": 8,
    "start_time": "2024-06-02T22:03:18.420Z"
   },
   {
    "duration": 227,
    "start_time": "2024-06-02T22:03:18.431Z"
   },
   {
    "duration": 566,
    "start_time": "2024-06-02T22:03:18.661Z"
   },
   {
    "duration": 382,
    "start_time": "2024-06-02T22:03:19.230Z"
   },
   {
    "duration": 7,
    "start_time": "2024-06-02T22:03:19.615Z"
   },
   {
    "duration": 310,
    "start_time": "2024-06-02T22:03:19.626Z"
   },
   {
    "duration": 451,
    "start_time": "2024-06-02T22:03:19.939Z"
   },
   {
    "duration": 381,
    "start_time": "2024-06-02T22:03:20.393Z"
   },
   {
    "duration": 9,
    "start_time": "2024-06-02T22:03:20.778Z"
   },
   {
    "duration": 240,
    "start_time": "2024-06-02T22:03:20.790Z"
   },
   {
    "duration": 8,
    "start_time": "2024-06-02T22:03:21.033Z"
   },
   {
    "duration": 23,
    "start_time": "2024-06-02T22:03:21.045Z"
   },
   {
    "duration": 44,
    "start_time": "2024-06-02T22:03:21.071Z"
   },
   {
    "duration": 8,
    "start_time": "2024-06-02T22:03:21.118Z"
   },
   {
    "duration": 34,
    "start_time": "2024-06-02T22:09:09.676Z"
   },
   {
    "duration": 1653,
    "start_time": "2024-06-02T22:12:25.768Z"
   },
   {
    "duration": 35,
    "start_time": "2024-06-02T22:12:45.192Z"
   },
   {
    "duration": 5,
    "start_time": "2024-06-02T22:21:48.378Z"
   },
   {
    "duration": 1285,
    "start_time": "2024-06-02T22:21:48.391Z"
   },
   {
    "duration": 23,
    "start_time": "2024-06-02T22:21:49.680Z"
   },
   {
    "duration": 18,
    "start_time": "2024-06-02T22:21:49.714Z"
   },
   {
    "duration": 160,
    "start_time": "2024-06-02T22:21:49.736Z"
   },
   {
    "duration": 115,
    "start_time": "2024-06-02T22:21:49.902Z"
   },
   {
    "duration": 69,
    "start_time": "2024-06-02T22:21:50.020Z"
   },
   {
    "duration": 30,
    "start_time": "2024-06-02T22:21:50.092Z"
   },
   {
    "duration": 15,
    "start_time": "2024-06-02T22:21:50.126Z"
   },
   {
    "duration": 3,
    "start_time": "2024-06-02T22:21:50.145Z"
   },
   {
    "duration": 14,
    "start_time": "2024-06-02T22:21:50.152Z"
   },
   {
    "duration": 58,
    "start_time": "2024-06-02T22:21:50.169Z"
   },
   {
    "duration": 28,
    "start_time": "2024-06-02T22:21:50.230Z"
   },
   {
    "duration": 53,
    "start_time": "2024-06-02T22:21:50.261Z"
   },
   {
    "duration": 26,
    "start_time": "2024-06-02T22:21:50.322Z"
   },
   {
    "duration": 20,
    "start_time": "2024-06-02T22:21:50.351Z"
   },
   {
    "duration": 69,
    "start_time": "2024-06-02T22:21:50.373Z"
   },
   {
    "duration": 20,
    "start_time": "2024-06-02T22:21:50.445Z"
   },
   {
    "duration": 97,
    "start_time": "2024-06-02T22:21:50.467Z"
   },
   {
    "duration": 56,
    "start_time": "2024-06-02T22:21:50.567Z"
   },
   {
    "duration": 19,
    "start_time": "2024-06-02T22:21:50.629Z"
   },
   {
    "duration": 14,
    "start_time": "2024-06-02T22:21:50.651Z"
   },
   {
    "duration": 50,
    "start_time": "2024-06-02T22:21:50.668Z"
   },
   {
    "duration": 24,
    "start_time": "2024-06-02T22:21:50.720Z"
   },
   {
    "duration": 22,
    "start_time": "2024-06-02T22:21:50.747Z"
   },
   {
    "duration": 49,
    "start_time": "2024-06-02T22:21:50.772Z"
   },
   {
    "duration": 22,
    "start_time": "2024-06-02T22:21:50.824Z"
   },
   {
    "duration": 19,
    "start_time": "2024-06-02T22:21:50.849Z"
   },
   {
    "duration": 44,
    "start_time": "2024-06-02T22:21:50.871Z"
   },
   {
    "duration": 338,
    "start_time": "2024-06-02T22:21:50.918Z"
   },
   {
    "duration": 290,
    "start_time": "2024-06-02T22:21:51.259Z"
   },
   {
    "duration": 40,
    "start_time": "2024-06-02T22:21:51.552Z"
   },
   {
    "duration": 54,
    "start_time": "2024-06-02T22:21:51.595Z"
   },
   {
    "duration": 6,
    "start_time": "2024-06-02T22:21:51.652Z"
   },
   {
    "duration": 127,
    "start_time": "2024-06-02T22:21:51.661Z"
   },
   {
    "duration": 39,
    "start_time": "2024-06-02T22:21:51.791Z"
   },
   {
    "duration": 20,
    "start_time": "2024-06-02T22:21:51.833Z"
   },
   {
    "duration": 8,
    "start_time": "2024-06-02T22:21:51.856Z"
   },
   {
    "duration": 135,
    "start_time": "2024-06-02T22:21:51.867Z"
   },
   {
    "duration": 3,
    "start_time": "2024-06-02T22:21:52.013Z"
   },
   {
    "duration": 94,
    "start_time": "2024-06-02T22:21:52.019Z"
   },
   {
    "duration": 533,
    "start_time": "2024-06-02T22:21:52.121Z"
   },
   {
    "duration": 455,
    "start_time": "2024-06-02T22:21:52.657Z"
   },
   {
    "duration": 10,
    "start_time": "2024-06-02T22:21:53.117Z"
   },
   {
    "duration": 252,
    "start_time": "2024-06-02T22:21:53.130Z"
   },
   {
    "duration": 488,
    "start_time": "2024-06-02T22:21:53.385Z"
   },
   {
    "duration": 404,
    "start_time": "2024-06-02T22:21:53.875Z"
   },
   {
    "duration": 8,
    "start_time": "2024-06-02T22:21:54.282Z"
   },
   {
    "duration": 225,
    "start_time": "2024-06-02T22:21:54.294Z"
   },
   {
    "duration": 557,
    "start_time": "2024-06-02T22:21:54.522Z"
   },
   {
    "duration": 372,
    "start_time": "2024-06-02T22:21:55.083Z"
   },
   {
    "duration": 8,
    "start_time": "2024-06-02T22:21:55.458Z"
   },
   {
    "duration": 332,
    "start_time": "2024-06-02T22:21:55.469Z"
   },
   {
    "duration": 436,
    "start_time": "2024-06-02T22:21:55.804Z"
   },
   {
    "duration": 369,
    "start_time": "2024-06-02T22:21:56.243Z"
   },
   {
    "duration": 11,
    "start_time": "2024-06-02T22:21:56.614Z"
   },
   {
    "duration": 232,
    "start_time": "2024-06-02T22:21:56.629Z"
   },
   {
    "duration": 8,
    "start_time": "2024-06-02T22:21:56.864Z"
   },
   {
    "duration": 43,
    "start_time": "2024-06-02T22:21:56.875Z"
   },
   {
    "duration": 11,
    "start_time": "2024-06-02T22:21:56.920Z"
   },
   {
    "duration": 8,
    "start_time": "2024-06-02T22:21:56.934Z"
   },
   {
    "duration": 102,
    "start_time": "2024-06-02T22:24:01.563Z"
   },
   {
    "duration": 4,
    "start_time": "2024-06-02T22:24:38.117Z"
   },
   {
    "duration": 1348,
    "start_time": "2024-06-02T22:24:38.125Z"
   },
   {
    "duration": 22,
    "start_time": "2024-06-02T22:24:39.476Z"
   },
   {
    "duration": 17,
    "start_time": "2024-06-02T22:24:39.513Z"
   },
   {
    "duration": 155,
    "start_time": "2024-06-02T22:24:39.536Z"
   },
   {
    "duration": 128,
    "start_time": "2024-06-02T22:24:39.694Z"
   },
   {
    "duration": 70,
    "start_time": "2024-06-02T22:24:39.824Z"
   },
   {
    "duration": 26,
    "start_time": "2024-06-02T22:24:39.897Z"
   },
   {
    "duration": 16,
    "start_time": "2024-06-02T22:24:39.926Z"
   },
   {
    "duration": 4,
    "start_time": "2024-06-02T22:24:39.945Z"
   },
   {
    "duration": 16,
    "start_time": "2024-06-02T22:24:39.954Z"
   },
   {
    "duration": 18,
    "start_time": "2024-06-02T22:24:40.014Z"
   },
   {
    "duration": 24,
    "start_time": "2024-06-02T22:24:40.035Z"
   },
   {
    "duration": 50,
    "start_time": "2024-06-02T22:24:40.066Z"
   },
   {
    "duration": 27,
    "start_time": "2024-06-02T22:24:40.119Z"
   },
   {
    "duration": 18,
    "start_time": "2024-06-02T22:24:40.149Z"
   },
   {
    "duration": 70,
    "start_time": "2024-06-02T22:24:40.170Z"
   },
   {
    "duration": 16,
    "start_time": "2024-06-02T22:24:40.242Z"
   },
   {
    "duration": 115,
    "start_time": "2024-06-02T22:24:40.261Z"
   },
   {
    "duration": 58,
    "start_time": "2024-06-02T22:24:40.380Z"
   },
   {
    "duration": 21,
    "start_time": "2024-06-02T22:24:40.444Z"
   },
   {
    "duration": 44,
    "start_time": "2024-06-02T22:24:40.469Z"
   },
   {
    "duration": 18,
    "start_time": "2024-06-02T22:24:40.517Z"
   },
   {
    "duration": 23,
    "start_time": "2024-06-02T22:24:40.538Z"
   },
   {
    "duration": 51,
    "start_time": "2024-06-02T22:24:40.564Z"
   },
   {
    "duration": 15,
    "start_time": "2024-06-02T22:24:40.620Z"
   },
   {
    "duration": 23,
    "start_time": "2024-06-02T22:24:40.638Z"
   },
   {
    "duration": 60,
    "start_time": "2024-06-02T22:24:40.664Z"
   },
   {
    "duration": 12,
    "start_time": "2024-06-02T22:24:40.727Z"
   },
   {
    "duration": 318,
    "start_time": "2024-06-02T22:24:40.742Z"
   },
   {
    "duration": 277,
    "start_time": "2024-06-02T22:24:41.063Z"
   },
   {
    "duration": 47,
    "start_time": "2024-06-02T22:24:41.343Z"
   },
   {
    "duration": 37,
    "start_time": "2024-06-02T22:24:41.412Z"
   },
   {
    "duration": 6,
    "start_time": "2024-06-02T22:24:41.452Z"
   },
   {
    "duration": 138,
    "start_time": "2024-06-02T22:24:41.461Z"
   },
   {
    "duration": 39,
    "start_time": "2024-06-02T22:24:41.602Z"
   },
   {
    "duration": 22,
    "start_time": "2024-06-02T22:24:41.644Z"
   },
   {
    "duration": 10,
    "start_time": "2024-06-02T22:24:41.668Z"
   },
   {
    "duration": 137,
    "start_time": "2024-06-02T22:24:41.681Z"
   },
   {
    "duration": 3,
    "start_time": "2024-06-02T22:24:41.822Z"
   },
   {
    "duration": 98,
    "start_time": "2024-06-02T22:24:41.835Z"
   },
   {
    "duration": 567,
    "start_time": "2024-06-02T22:24:41.936Z"
   },
   {
    "duration": 468,
    "start_time": "2024-06-02T22:24:42.505Z"
   },
   {
    "duration": 10,
    "start_time": "2024-06-02T22:24:42.976Z"
   },
   {
    "duration": 273,
    "start_time": "2024-06-02T22:24:42.990Z"
   },
   {
    "duration": 478,
    "start_time": "2024-06-02T22:24:43.266Z"
   },
   {
    "duration": 420,
    "start_time": "2024-06-02T22:24:43.748Z"
   },
   {
    "duration": 10,
    "start_time": "2024-06-02T22:24:44.172Z"
   },
   {
    "duration": 229,
    "start_time": "2024-06-02T22:24:44.185Z"
   },
   {
    "duration": 575,
    "start_time": "2024-06-02T22:24:44.418Z"
   },
   {
    "duration": 367,
    "start_time": "2024-06-02T22:24:44.996Z"
   },
   {
    "duration": 7,
    "start_time": "2024-06-02T22:24:45.366Z"
   },
   {
    "duration": 329,
    "start_time": "2024-06-02T22:24:45.377Z"
   },
   {
    "duration": 464,
    "start_time": "2024-06-02T22:24:45.713Z"
   },
   {
    "duration": 374,
    "start_time": "2024-06-02T22:24:46.180Z"
   },
   {
    "duration": 8,
    "start_time": "2024-06-02T22:24:46.557Z"
   },
   {
    "duration": 238,
    "start_time": "2024-06-02T22:24:46.569Z"
   },
   {
    "duration": 8,
    "start_time": "2024-06-02T22:24:46.813Z"
   },
   {
    "duration": 24,
    "start_time": "2024-06-02T22:24:46.824Z"
   },
   {
    "duration": 11,
    "start_time": "2024-06-02T22:24:46.850Z"
   },
   {
    "duration": 48,
    "start_time": "2024-06-02T22:24:46.864Z"
   },
   {
    "duration": 8,
    "start_time": "2024-06-02T22:35:53.229Z"
   },
   {
    "duration": 5,
    "start_time": "2024-06-02T22:48:47.787Z"
   },
   {
    "duration": 1329,
    "start_time": "2024-06-02T22:48:47.796Z"
   },
   {
    "duration": 22,
    "start_time": "2024-06-02T22:48:49.129Z"
   },
   {
    "duration": 18,
    "start_time": "2024-06-02T22:48:49.154Z"
   },
   {
    "duration": 176,
    "start_time": "2024-06-02T22:48:49.177Z"
   },
   {
    "duration": 122,
    "start_time": "2024-06-02T22:48:49.356Z"
   },
   {
    "duration": 79,
    "start_time": "2024-06-02T22:48:49.481Z"
   },
   {
    "duration": 13,
    "start_time": "2024-06-02T22:48:49.564Z"
   },
   {
    "duration": 37,
    "start_time": "2024-06-02T22:48:49.580Z"
   },
   {
    "duration": 4,
    "start_time": "2024-06-02T22:48:49.621Z"
   },
   {
    "duration": 16,
    "start_time": "2024-06-02T22:48:49.628Z"
   },
   {
    "duration": 18,
    "start_time": "2024-06-02T22:48:49.647Z"
   },
   {
    "duration": 64,
    "start_time": "2024-06-02T22:48:49.668Z"
   },
   {
    "duration": 11,
    "start_time": "2024-06-02T22:48:49.739Z"
   },
   {
    "duration": 61,
    "start_time": "2024-06-02T22:48:49.753Z"
   },
   {
    "duration": 18,
    "start_time": "2024-06-02T22:48:49.816Z"
   },
   {
    "duration": 37,
    "start_time": "2024-06-02T22:48:49.837Z"
   },
   {
    "duration": 48,
    "start_time": "2024-06-02T22:48:49.877Z"
   },
   {
    "duration": 86,
    "start_time": "2024-06-02T22:48:49.928Z"
   },
   {
    "duration": 41,
    "start_time": "2024-06-02T22:48:50.018Z"
   },
   {
    "duration": 19,
    "start_time": "2024-06-02T22:48:50.062Z"
   },
   {
    "duration": 38,
    "start_time": "2024-06-02T22:48:50.084Z"
   },
   {
    "duration": 17,
    "start_time": "2024-06-02T22:48:50.125Z"
   },
   {
    "duration": 24,
    "start_time": "2024-06-02T22:48:50.145Z"
   },
   {
    "duration": 60,
    "start_time": "2024-06-02T22:48:50.172Z"
   },
   {
    "duration": 16,
    "start_time": "2024-06-02T22:48:50.236Z"
   },
   {
    "duration": 58,
    "start_time": "2024-06-02T22:48:50.255Z"
   },
   {
    "duration": 22,
    "start_time": "2024-06-02T22:48:50.316Z"
   },
   {
    "duration": 13,
    "start_time": "2024-06-02T22:48:50.342Z"
   },
   {
    "duration": 324,
    "start_time": "2024-06-02T22:48:50.358Z"
   },
   {
    "duration": 278,
    "start_time": "2024-06-02T22:48:50.685Z"
   },
   {
    "duration": 54,
    "start_time": "2024-06-02T22:48:50.966Z"
   },
   {
    "duration": 37,
    "start_time": "2024-06-02T22:48:51.023Z"
   },
   {
    "duration": 6,
    "start_time": "2024-06-02T22:48:51.063Z"
   },
   {
    "duration": 127,
    "start_time": "2024-06-02T22:48:51.072Z"
   },
   {
    "duration": 35,
    "start_time": "2024-06-02T22:48:51.202Z"
   },
   {
    "duration": 23,
    "start_time": "2024-06-02T22:48:51.240Z"
   },
   {
    "duration": 8,
    "start_time": "2024-06-02T22:48:51.266Z"
   },
   {
    "duration": 138,
    "start_time": "2024-06-02T22:48:51.277Z"
   },
   {
    "duration": 4,
    "start_time": "2024-06-02T22:48:51.418Z"
   },
   {
    "duration": 118,
    "start_time": "2024-06-02T22:48:51.433Z"
   },
   {
    "duration": 541,
    "start_time": "2024-06-02T22:48:51.554Z"
   },
   {
    "duration": 474,
    "start_time": "2024-06-02T22:48:52.098Z"
   },
   {
    "duration": 13,
    "start_time": "2024-06-02T22:48:52.576Z"
   },
   {
    "duration": 243,
    "start_time": "2024-06-02T22:48:52.592Z"
   },
   {
    "duration": 477,
    "start_time": "2024-06-02T22:48:52.839Z"
   },
   {
    "duration": 416,
    "start_time": "2024-06-02T22:48:53.320Z"
   },
   {
    "duration": 9,
    "start_time": "2024-06-02T22:48:53.739Z"
   },
   {
    "duration": 230,
    "start_time": "2024-06-02T22:48:53.751Z"
   },
   {
    "duration": 551,
    "start_time": "2024-06-02T22:48:53.984Z"
   },
   {
    "duration": 611,
    "start_time": "2024-06-02T22:48:54.540Z"
   },
   {
    "duration": 9,
    "start_time": "2024-06-02T22:48:55.155Z"
   },
   {
    "duration": 339,
    "start_time": "2024-06-02T22:48:55.167Z"
   },
   {
    "duration": 455,
    "start_time": "2024-06-02T22:48:55.513Z"
   },
   {
    "duration": 370,
    "start_time": "2024-06-02T22:48:55.971Z"
   },
   {
    "duration": 7,
    "start_time": "2024-06-02T22:48:56.344Z"
   },
   {
    "duration": 225,
    "start_time": "2024-06-02T22:48:56.355Z"
   },
   {
    "duration": 7,
    "start_time": "2024-06-02T22:48:56.583Z"
   },
   {
    "duration": 23,
    "start_time": "2024-06-02T22:48:56.612Z"
   },
   {
    "duration": 13,
    "start_time": "2024-06-02T22:48:56.638Z"
   },
   {
    "duration": 7,
    "start_time": "2024-06-02T22:48:56.654Z"
   },
   {
    "duration": 5,
    "start_time": "2024-06-03T08:17:02.759Z"
   },
   {
    "duration": 4875,
    "start_time": "2024-06-03T08:17:02.769Z"
   },
   {
    "duration": 28,
    "start_time": "2024-06-03T08:17:07.647Z"
   },
   {
    "duration": 22,
    "start_time": "2024-06-03T08:17:07.677Z"
   },
   {
    "duration": 172,
    "start_time": "2024-06-03T08:17:07.702Z"
   },
   {
    "duration": 145,
    "start_time": "2024-06-03T08:17:07.878Z"
   },
   {
    "duration": 111,
    "start_time": "2024-06-03T08:17:08.025Z"
   },
   {
    "duration": 16,
    "start_time": "2024-06-03T08:17:08.139Z"
   },
   {
    "duration": 18,
    "start_time": "2024-06-03T08:17:08.159Z"
   },
   {
    "duration": 4,
    "start_time": "2024-06-03T08:17:08.181Z"
   },
   {
    "duration": 60,
    "start_time": "2024-06-03T08:17:08.189Z"
   },
   {
    "duration": 39,
    "start_time": "2024-06-03T08:17:08.252Z"
   },
   {
    "duration": 49,
    "start_time": "2024-06-03T08:17:08.295Z"
   },
   {
    "duration": 14,
    "start_time": "2024-06-03T08:17:08.348Z"
   },
   {
    "duration": 36,
    "start_time": "2024-06-03T08:17:08.373Z"
   },
   {
    "duration": 38,
    "start_time": "2024-06-03T08:17:08.412Z"
   },
   {
    "duration": 52,
    "start_time": "2024-06-03T08:17:08.453Z"
   },
   {
    "duration": 36,
    "start_time": "2024-06-03T08:17:08.509Z"
   },
   {
    "duration": 113,
    "start_time": "2024-06-03T08:17:08.549Z"
   },
   {
    "duration": 53,
    "start_time": "2024-06-03T08:17:08.665Z"
   },
   {
    "duration": 25,
    "start_time": "2024-06-03T08:17:08.734Z"
   },
   {
    "duration": 16,
    "start_time": "2024-06-03T08:17:08.762Z"
   },
   {
    "duration": 51,
    "start_time": "2024-06-03T08:17:08.781Z"
   },
   {
    "duration": 29,
    "start_time": "2024-06-03T08:17:08.836Z"
   },
   {
    "duration": 30,
    "start_time": "2024-06-03T08:17:08.868Z"
   },
   {
    "duration": 54,
    "start_time": "2024-06-03T08:17:08.903Z"
   },
   {
    "duration": 30,
    "start_time": "2024-06-03T08:17:08.962Z"
   },
   {
    "duration": 61,
    "start_time": "2024-06-03T08:17:08.995Z"
   },
   {
    "duration": 30,
    "start_time": "2024-06-03T08:17:09.073Z"
   },
   {
    "duration": 331,
    "start_time": "2024-06-03T08:17:09.107Z"
   },
   {
    "duration": 303,
    "start_time": "2024-06-03T08:17:09.442Z"
   },
   {
    "duration": 40,
    "start_time": "2024-06-03T08:17:09.748Z"
   },
   {
    "duration": 74,
    "start_time": "2024-06-03T08:17:09.791Z"
   },
   {
    "duration": 9,
    "start_time": "2024-06-03T08:17:09.872Z"
   },
   {
    "duration": 55,
    "start_time": "2024-06-03T08:17:09.884Z"
   },
   {
    "duration": 29,
    "start_time": "2024-06-03T08:17:09.942Z"
   },
   {
    "duration": 25,
    "start_time": "2024-06-03T08:17:09.975Z"
   },
   {
    "duration": 10,
    "start_time": "2024-06-03T08:17:10.032Z"
   },
   {
    "duration": 139,
    "start_time": "2024-06-03T08:17:10.046Z"
   },
   {
    "duration": 3,
    "start_time": "2024-06-03T08:17:10.190Z"
   },
   {
    "duration": 97,
    "start_time": "2024-06-03T08:17:10.196Z"
   },
   {
    "duration": 551,
    "start_time": "2024-06-03T08:17:10.302Z"
   },
   {
    "duration": 566,
    "start_time": "2024-06-03T08:17:10.856Z"
   },
   {
    "duration": 18,
    "start_time": "2024-06-03T08:17:11.426Z"
   },
   {
    "duration": 335,
    "start_time": "2024-06-03T08:17:11.453Z"
   },
   {
    "duration": 508,
    "start_time": "2024-06-03T08:17:11.792Z"
   },
   {
    "duration": 416,
    "start_time": "2024-06-03T08:17:12.303Z"
   },
   {
    "duration": 18,
    "start_time": "2024-06-03T08:17:12.722Z"
   },
   {
    "duration": 249,
    "start_time": "2024-06-03T08:17:12.744Z"
   },
   {
    "duration": 564,
    "start_time": "2024-06-03T08:17:12.999Z"
   },
   {
    "duration": 385,
    "start_time": "2024-06-03T08:17:13.566Z"
   },
   {
    "duration": 7,
    "start_time": "2024-06-03T08:17:13.954Z"
   },
   {
    "duration": 267,
    "start_time": "2024-06-03T08:17:13.965Z"
   },
   {
    "duration": 440,
    "start_time": "2024-06-03T08:17:14.236Z"
   },
   {
    "duration": 465,
    "start_time": "2024-06-03T08:17:14.680Z"
   },
   {
    "duration": 9,
    "start_time": "2024-06-03T08:17:15.148Z"
   },
   {
    "duration": 232,
    "start_time": "2024-06-03T08:17:15.161Z"
   },
   {
    "duration": 6,
    "start_time": "2024-06-03T08:17:15.397Z"
   },
   {
    "duration": 42,
    "start_time": "2024-06-03T08:17:15.407Z"
   },
   {
    "duration": 14,
    "start_time": "2024-06-03T08:17:15.452Z"
   },
   {
    "duration": 14,
    "start_time": "2024-06-03T08:17:15.468Z"
   },
   {
    "duration": 25,
    "start_time": "2024-06-03T08:20:48.771Z"
   },
   {
    "duration": 4,
    "start_time": "2024-06-08T22:21:29.558Z"
   },
   {
    "duration": 5059,
    "start_time": "2024-06-08T22:21:29.569Z"
   },
   {
    "duration": 23,
    "start_time": "2024-06-08T22:21:34.631Z"
   },
   {
    "duration": 18,
    "start_time": "2024-06-08T22:21:34.658Z"
   },
   {
    "duration": 178,
    "start_time": "2024-06-08T22:21:34.679Z"
   },
   {
    "duration": 144,
    "start_time": "2024-06-08T22:21:34.861Z"
   },
   {
    "duration": 90,
    "start_time": "2024-06-08T22:21:35.008Z"
   },
   {
    "duration": 14,
    "start_time": "2024-06-08T22:21:35.101Z"
   },
   {
    "duration": 15,
    "start_time": "2024-06-08T22:21:35.121Z"
   },
   {
    "duration": 4,
    "start_time": "2024-06-08T22:21:35.139Z"
   },
   {
    "duration": 15,
    "start_time": "2024-06-08T22:21:35.146Z"
   },
   {
    "duration": 64,
    "start_time": "2024-06-08T22:21:35.164Z"
   },
   {
    "duration": 27,
    "start_time": "2024-06-08T22:21:35.231Z"
   },
   {
    "duration": 12,
    "start_time": "2024-06-08T22:21:35.261Z"
   },
   {
    "duration": 26,
    "start_time": "2024-06-08T22:21:35.312Z"
   },
   {
    "duration": 24,
    "start_time": "2024-06-08T22:21:35.341Z"
   },
   {
    "duration": 66,
    "start_time": "2024-06-08T22:21:35.368Z"
   },
   {
    "duration": 17,
    "start_time": "2024-06-08T22:21:35.437Z"
   },
   {
    "duration": 86,
    "start_time": "2024-06-08T22:21:35.457Z"
   },
   {
    "duration": 41,
    "start_time": "2024-06-08T22:21:35.546Z"
   },
   {
    "duration": 24,
    "start_time": "2024-06-08T22:21:35.613Z"
   },
   {
    "duration": 17,
    "start_time": "2024-06-08T22:21:35.640Z"
   },
   {
    "duration": 56,
    "start_time": "2024-06-08T22:21:35.660Z"
   },
   {
    "duration": 24,
    "start_time": "2024-06-08T22:21:35.726Z"
   },
   {
    "duration": 25,
    "start_time": "2024-06-08T22:21:35.753Z"
   },
   {
    "duration": 50,
    "start_time": "2024-06-08T22:21:35.781Z"
   },
   {
    "duration": 28,
    "start_time": "2024-06-08T22:21:35.834Z"
   },
   {
    "duration": 20,
    "start_time": "2024-06-08T22:21:35.865Z"
   },
   {
    "duration": 12,
    "start_time": "2024-06-08T22:21:35.911Z"
   },
   {
    "duration": 309,
    "start_time": "2024-06-08T22:21:35.927Z"
   },
   {
    "duration": 275,
    "start_time": "2024-06-08T22:21:36.239Z"
   },
   {
    "duration": 41,
    "start_time": "2024-06-08T22:21:36.518Z"
   },
   {
    "duration": 67,
    "start_time": "2024-06-08T22:21:36.563Z"
   },
   {
    "duration": 6,
    "start_time": "2024-06-08T22:21:36.633Z"
   },
   {
    "duration": 35,
    "start_time": "2024-06-08T22:21:36.643Z"
   },
   {
    "duration": 59,
    "start_time": "2024-06-08T22:21:36.681Z"
   },
   {
    "duration": 26,
    "start_time": "2024-06-08T22:21:36.743Z"
   },
   {
    "duration": 36,
    "start_time": "2024-06-08T22:21:36.776Z"
   },
   {
    "duration": 107,
    "start_time": "2024-06-08T22:21:36.815Z"
   },
   {
    "duration": 3,
    "start_time": "2024-06-08T22:21:36.925Z"
   },
   {
    "duration": 109,
    "start_time": "2024-06-08T22:21:36.931Z"
   },
   {
    "duration": 539,
    "start_time": "2024-06-08T22:21:37.046Z"
   },
   {
    "duration": 447,
    "start_time": "2024-06-08T22:21:37.588Z"
   },
   {
    "duration": 8,
    "start_time": "2024-06-08T22:21:38.041Z"
   },
   {
    "duration": 314,
    "start_time": "2024-06-08T22:21:38.052Z"
   },
   {
    "duration": 454,
    "start_time": "2024-06-08T22:21:38.369Z"
   },
   {
    "duration": 402,
    "start_time": "2024-06-08T22:21:38.826Z"
   },
   {
    "duration": 11,
    "start_time": "2024-06-08T22:21:39.232Z"
   },
   {
    "duration": 231,
    "start_time": "2024-06-08T22:21:39.246Z"
   },
   {
    "duration": 545,
    "start_time": "2024-06-08T22:21:39.480Z"
   },
   {
    "duration": 390,
    "start_time": "2024-06-08T22:21:40.028Z"
   },
   {
    "duration": 8,
    "start_time": "2024-06-08T22:21:40.421Z"
   },
   {
    "duration": 242,
    "start_time": "2024-06-08T22:21:40.433Z"
   },
   {
    "duration": 468,
    "start_time": "2024-06-08T22:21:40.677Z"
   },
   {
    "duration": 465,
    "start_time": "2024-06-08T22:21:41.147Z"
   },
   {
    "duration": 9,
    "start_time": "2024-06-08T22:21:41.615Z"
   },
   {
    "duration": 230,
    "start_time": "2024-06-08T22:21:41.627Z"
   },
   {
    "duration": 13,
    "start_time": "2024-06-08T22:21:41.860Z"
   },
   {
    "duration": 45,
    "start_time": "2024-06-08T22:21:41.876Z"
   },
   {
    "duration": 13,
    "start_time": "2024-06-08T22:21:41.924Z"
   },
   {
    "duration": 8,
    "start_time": "2024-06-08T22:21:41.940Z"
   },
   {
    "duration": 7,
    "start_time": "2024-06-08T22:22:49.056Z"
   },
   {
    "duration": 32,
    "start_time": "2024-06-08T22:28:32.833Z"
   },
   {
    "duration": 5,
    "start_time": "2024-06-14T18:12:40.621Z"
   },
   {
    "duration": 5044,
    "start_time": "2024-06-14T18:12:40.629Z"
   },
   {
    "duration": 30,
    "start_time": "2024-06-14T18:12:45.675Z"
   },
   {
    "duration": 21,
    "start_time": "2024-06-14T18:12:45.708Z"
   },
   {
    "duration": 195,
    "start_time": "2024-06-14T18:12:45.732Z"
   },
   {
    "duration": 157,
    "start_time": "2024-06-14T18:12:45.930Z"
   },
   {
    "duration": 105,
    "start_time": "2024-06-14T18:12:46.089Z"
   },
   {
    "duration": 23,
    "start_time": "2024-06-14T18:12:46.197Z"
   },
   {
    "duration": 18,
    "start_time": "2024-06-14T18:12:46.225Z"
   },
   {
    "duration": 4,
    "start_time": "2024-06-14T18:12:46.246Z"
   },
   {
    "duration": 14,
    "start_time": "2024-06-14T18:12:46.253Z"
   },
   {
    "duration": 22,
    "start_time": "2024-06-14T18:12:46.302Z"
   },
   {
    "duration": 30,
    "start_time": "2024-06-14T18:12:46.328Z"
   },
   {
    "duration": 45,
    "start_time": "2024-06-14T18:12:46.362Z"
   },
   {
    "duration": 29,
    "start_time": "2024-06-14T18:12:46.409Z"
   },
   {
    "duration": 19,
    "start_time": "2024-06-14T18:12:46.442Z"
   },
   {
    "duration": 68,
    "start_time": "2024-06-14T18:12:46.464Z"
   },
   {
    "duration": 17,
    "start_time": "2024-06-14T18:12:46.535Z"
   },
   {
    "duration": 99,
    "start_time": "2024-06-14T18:12:46.555Z"
   },
   {
    "duration": 63,
    "start_time": "2024-06-14T18:12:46.657Z"
   },
   {
    "duration": 19,
    "start_time": "2024-06-14T18:12:46.723Z"
   },
   {
    "duration": 15,
    "start_time": "2024-06-14T18:12:46.745Z"
   },
   {
    "duration": 48,
    "start_time": "2024-06-14T18:12:46.763Z"
   },
   {
    "duration": 22,
    "start_time": "2024-06-14T18:12:46.820Z"
   },
   {
    "duration": 22,
    "start_time": "2024-06-14T18:12:46.846Z"
   },
   {
    "duration": 18,
    "start_time": "2024-06-14T18:12:46.903Z"
   },
   {
    "duration": 22,
    "start_time": "2024-06-14T18:12:46.924Z"
   },
   {
    "duration": 21,
    "start_time": "2024-06-14T18:12:46.949Z"
   },
   {
    "duration": 15,
    "start_time": "2024-06-14T18:12:47.002Z"
   },
   {
    "duration": 320,
    "start_time": "2024-06-14T18:12:47.021Z"
   },
   {
    "duration": 318,
    "start_time": "2024-06-14T18:12:47.347Z"
   },
   {
    "duration": 71,
    "start_time": "2024-06-14T18:12:47.669Z"
   },
   {
    "duration": 60,
    "start_time": "2024-06-14T18:12:47.743Z"
   },
   {
    "duration": 7,
    "start_time": "2024-06-14T18:12:47.810Z"
   },
   {
    "duration": 43,
    "start_time": "2024-06-14T18:12:47.821Z"
   },
   {
    "duration": 55,
    "start_time": "2024-06-14T18:12:47.867Z"
   },
   {
    "duration": 30,
    "start_time": "2024-06-14T18:12:47.928Z"
   },
   {
    "duration": 13,
    "start_time": "2024-06-14T18:12:47.963Z"
   },
   {
    "duration": 115,
    "start_time": "2024-06-14T18:12:48.002Z"
   },
   {
    "duration": 4,
    "start_time": "2024-06-14T18:12:48.120Z"
   },
   {
    "duration": 107,
    "start_time": "2024-06-14T18:12:48.127Z"
   },
   {
    "duration": 575,
    "start_time": "2024-06-14T18:12:48.237Z"
   },
   {
    "duration": 458,
    "start_time": "2024-06-14T18:12:48.815Z"
   },
   {
    "duration": 8,
    "start_time": "2024-06-14T18:12:49.277Z"
   },
   {
    "duration": 299,
    "start_time": "2024-06-14T18:12:49.303Z"
   },
   {
    "duration": 472,
    "start_time": "2024-06-14T18:12:49.605Z"
   },
   {
    "duration": 401,
    "start_time": "2024-06-14T18:12:50.081Z"
   },
   {
    "duration": 18,
    "start_time": "2024-06-14T18:12:50.485Z"
   },
   {
    "duration": 220,
    "start_time": "2024-06-14T18:12:50.507Z"
   },
   {
    "duration": 550,
    "start_time": "2024-06-14T18:12:50.730Z"
   },
   {
    "duration": 378,
    "start_time": "2024-06-14T18:12:51.283Z"
   },
   {
    "duration": 8,
    "start_time": "2024-06-14T18:12:51.664Z"
   },
   {
    "duration": 236,
    "start_time": "2024-06-14T18:12:51.675Z"
   },
   {
    "duration": 466,
    "start_time": "2024-06-14T18:12:51.915Z"
   },
   {
    "duration": 459,
    "start_time": "2024-06-14T18:12:52.384Z"
   },
   {
    "duration": 11,
    "start_time": "2024-06-14T18:12:52.847Z"
   },
   {
    "duration": 257,
    "start_time": "2024-06-14T18:12:52.864Z"
   },
   {
    "duration": 12,
    "start_time": "2024-06-14T18:12:53.124Z"
   },
   {
    "duration": 28,
    "start_time": "2024-06-14T18:12:53.139Z"
   },
   {
    "duration": 44,
    "start_time": "2024-06-14T18:12:53.171Z"
   },
   {
    "duration": 10,
    "start_time": "2024-06-14T18:12:53.219Z"
   },
   {
    "duration": 26,
    "start_time": "2024-06-14T18:13:02.508Z"
   },
   {
    "duration": 13,
    "start_time": "2024-06-14T18:13:42.905Z"
   },
   {
    "duration": 18,
    "start_time": "2024-06-14T18:14:34.490Z"
   },
   {
    "duration": 17,
    "start_time": "2024-06-14T18:14:54.080Z"
   },
   {
    "duration": 708,
    "start_time": "2024-06-14T18:15:24.818Z"
   },
   {
    "duration": 4,
    "start_time": "2024-06-14T18:15:36.996Z"
   },
   {
    "duration": 1298,
    "start_time": "2024-06-14T18:15:37.004Z"
   },
   {
    "duration": 21,
    "start_time": "2024-06-14T18:15:38.305Z"
   },
   {
    "duration": 17,
    "start_time": "2024-06-14T18:15:38.328Z"
   },
   {
    "duration": 162,
    "start_time": "2024-06-14T18:15:38.349Z"
   },
   {
    "duration": 120,
    "start_time": "2024-06-14T18:15:38.513Z"
   },
   {
    "duration": 76,
    "start_time": "2024-06-14T18:15:38.636Z"
   },
   {
    "duration": 15,
    "start_time": "2024-06-14T18:15:38.715Z"
   },
   {
    "duration": 16,
    "start_time": "2024-06-14T18:15:38.734Z"
   },
   {
    "duration": 4,
    "start_time": "2024-06-14T18:15:38.753Z"
   },
   {
    "duration": 14,
    "start_time": "2024-06-14T18:15:38.801Z"
   },
   {
    "duration": 20,
    "start_time": "2024-06-14T18:15:38.819Z"
   },
   {
    "duration": 64,
    "start_time": "2024-06-14T18:15:38.843Z"
   },
   {
    "duration": 11,
    "start_time": "2024-06-14T18:15:38.911Z"
   },
   {
    "duration": 25,
    "start_time": "2024-06-14T18:15:38.925Z"
   },
   {
    "duration": 55,
    "start_time": "2024-06-14T18:15:38.953Z"
   },
   {
    "duration": 37,
    "start_time": "2024-06-14T18:15:39.011Z"
   },
   {
    "duration": 15,
    "start_time": "2024-06-14T18:15:39.051Z"
   },
   {
    "duration": 94,
    "start_time": "2024-06-14T18:15:39.069Z"
   },
   {
    "duration": 61,
    "start_time": "2024-06-14T18:15:39.166Z"
   },
   {
    "duration": 23,
    "start_time": "2024-06-14T18:15:39.231Z"
   },
   {
    "duration": 15,
    "start_time": "2024-06-14T18:15:39.256Z"
   },
   {
    "duration": 42,
    "start_time": "2024-06-14T18:15:39.273Z"
   },
   {
    "duration": 24,
    "start_time": "2024-06-14T18:15:39.318Z"
   },
   {
    "duration": 22,
    "start_time": "2024-06-14T18:15:39.344Z"
   },
   {
    "duration": 17,
    "start_time": "2024-06-14T18:15:39.403Z"
   },
   {
    "duration": 23,
    "start_time": "2024-06-14T18:15:39.423Z"
   },
   {
    "duration": 52,
    "start_time": "2024-06-14T18:15:39.449Z"
   },
   {
    "duration": 17,
    "start_time": "2024-06-14T18:15:39.511Z"
   },
   {
    "duration": 13,
    "start_time": "2024-06-14T18:15:39.530Z"
   },
   {
    "duration": 319,
    "start_time": "2024-06-14T18:15:39.545Z"
   },
   {
    "duration": 324,
    "start_time": "2024-06-14T18:15:39.867Z"
   },
   {
    "duration": 44,
    "start_time": "2024-06-14T18:15:40.194Z"
   },
   {
    "duration": 37,
    "start_time": "2024-06-14T18:15:40.241Z"
   },
   {
    "duration": 6,
    "start_time": "2024-06-14T18:15:40.301Z"
   },
   {
    "duration": 108,
    "start_time": "2024-06-14T18:15:40.309Z"
   },
   {
    "duration": 20,
    "start_time": "2024-06-14T18:15:40.420Z"
   },
   {
    "duration": 17,
    "start_time": "2024-06-14T18:15:40.443Z"
   },
   {
    "duration": 39,
    "start_time": "2024-06-14T18:15:40.462Z"
   },
   {
    "duration": 99,
    "start_time": "2024-06-14T18:15:40.505Z"
   },
   {
    "duration": 3,
    "start_time": "2024-06-14T18:15:40.608Z"
   },
   {
    "duration": 100,
    "start_time": "2024-06-14T18:15:40.615Z"
   },
   {
    "duration": 538,
    "start_time": "2024-06-14T18:15:40.719Z"
   },
   {
    "duration": 424,
    "start_time": "2024-06-14T18:15:41.260Z"
   },
   {
    "duration": 20,
    "start_time": "2024-06-14T18:15:41.688Z"
   },
   {
    "duration": 232,
    "start_time": "2024-06-14T18:15:41.712Z"
   },
   {
    "duration": 459,
    "start_time": "2024-06-14T18:15:41.947Z"
   },
   {
    "duration": 429,
    "start_time": "2024-06-14T18:15:42.409Z"
   },
   {
    "duration": 7,
    "start_time": "2024-06-14T18:15:42.841Z"
   },
   {
    "duration": 233,
    "start_time": "2024-06-14T18:15:42.851Z"
   },
   {
    "duration": 448,
    "start_time": "2024-06-14T18:15:43.087Z"
   },
   {
    "duration": 381,
    "start_time": "2024-06-14T18:15:43.538Z"
   },
   {
    "duration": 7,
    "start_time": "2024-06-14T18:15:43.923Z"
   },
   {
    "duration": 315,
    "start_time": "2024-06-14T18:15:43.933Z"
   },
   {
    "duration": 442,
    "start_time": "2024-06-14T18:15:44.252Z"
   },
   {
    "duration": 368,
    "start_time": "2024-06-14T18:15:44.702Z"
   },
   {
    "duration": 8,
    "start_time": "2024-06-14T18:15:45.072Z"
   },
   {
    "duration": 230,
    "start_time": "2024-06-14T18:15:45.085Z"
   },
   {
    "duration": 8,
    "start_time": "2024-06-14T18:15:45.318Z"
   },
   {
    "duration": 19,
    "start_time": "2024-06-14T18:15:45.329Z"
   },
   {
    "duration": 10,
    "start_time": "2024-06-14T18:15:45.351Z"
   },
   {
    "duration": 45,
    "start_time": "2024-06-14T18:15:45.363Z"
   },
   {
    "duration": 7,
    "start_time": "2024-06-14T18:19:13.595Z"
   },
   {
    "duration": 7,
    "start_time": "2024-06-14T18:19:30.602Z"
   },
   {
    "duration": 7,
    "start_time": "2024-06-14T18:19:43.181Z"
   }
  ],
  "kernelspec": {
   "display_name": "Python 3 (ipykernel)",
   "language": "python",
   "name": "python3"
  },
  "language_info": {
   "codemirror_mode": {
    "name": "ipython",
    "version": 3
   },
   "file_extension": ".py",
   "mimetype": "text/x-python",
   "name": "python",
   "nbconvert_exporter": "python",
   "pygments_lexer": "ipython3",
   "version": "3.11.7"
  },
  "toc": {
   "base_numbering": 1,
   "nav_menu": {},
   "number_sections": true,
   "sideBar": true,
   "skip_h1_title": false,
   "title_cell": "Table of Contents",
   "title_sidebar": "Contents",
   "toc_cell": false,
   "toc_position": {
    "height": "calc(100% - 180px)",
    "left": "10px",
    "top": "150px",
    "width": "464.917px"
   },
   "toc_section_display": true,
   "toc_window_display": false
  }
 },
 "nbformat": 4,
 "nbformat_minor": 4
}
