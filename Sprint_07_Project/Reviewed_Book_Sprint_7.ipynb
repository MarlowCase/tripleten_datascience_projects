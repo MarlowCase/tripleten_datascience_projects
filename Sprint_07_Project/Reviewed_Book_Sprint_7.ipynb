{
 "cells": [
  {
   "cell_type": "markdown",
   "metadata": {},
   "source": [
    "# Marlow Case - TripleTen DS Sprint 7 Project: \n",
    "# Developing a Phone Plan Classification Model #"
   ]
  },
  {
   "cell_type": "markdown",
   "metadata": {},
   "source": [
    "# Table of Contents #\n",
    "<a id='contents'></a>\n",
    "\n",
    "- [1. Introduction](#introduction)\n",
    "    - [Criteria](#criteria)\n",
    "- [2. Data Exploration](#exploration)\n",
    "- [3. Exploratory Data Analysis (EDA)](#EDA)\n",
    "    - [Distributions of Features](#EDA)\n",
    "    - [Distribution of Target](#EDA_target)\n",
    "- [4. Development and Tuning of Different Models](#model_tuning)\n",
    "    - [Separating the Dataset](#separation)\n",
    "    - [Decision Tree](#tree)\n",
    "    - [Random Forest](#forest)\n",
    "    - [Logistic Regression](#logic)\n",
    "- [5. Final Model Selection and Evaluation](#final)\n",
    "    - [Final Model Evaluation](#eval)\n",
    "- [6. Conclusion](#conclusion)"
   ]
  },
  {
   "cell_type": "markdown",
   "metadata": {},
   "source": [
    "## Introduction ##\n",
    "<a id='introduction'></a>\n",
    "________________________________________________________________________________________________________________________________\n",
    "\n",
    "This project aims to develop a binary classification model for the mobile carrier Megaline. The model aims to recommend one of the two phone plans: Smart or Ultra. The model will be developed by analyzing the existing subscriber's behavior data provided to us by the company (see sprint 3 project).\n",
    "\n",
    "### Criteria as Requested by Megaline ###\n",
    "<a id='criteria'></a>\n",
    " - We will split the source datga into train, validation, and test sets.\n",
    " - We will investigate more than one model variation.\n",
    " - Our final model needs to have an **_accuracy of 75% or above_**."
   ]
  },
  {
   "cell_type": "code",
   "execution_count": 1,
   "metadata": {},
   "outputs": [
    {
     "name": "stdout",
     "output_type": "stream",
     "text": [
      "C:\\ProgramData\\anaconda3\\python.exe\n"
     ]
    }
   ],
   "source": [
    "import sys\n",
    "print(sys.executable)"
   ]
  },
  {
   "cell_type": "code",
   "execution_count": 2,
   "metadata": {},
   "outputs": [],
   "source": [
    "# Data pre-processing\n",
    "import pandas as pd\n",
    "import numpy as np\n",
    "from sklearn.model_selection import train_test_split\n",
    "from itertools import product\n",
    "\n",
    "# Visuals\n",
    "import matplotlib.pyplot as plt\n",
    "import seaborn as sns\n",
    "\n",
    "# Machine learning\n",
    "from sklearn.linear_model import LogisticRegression\n",
    "from sklearn.tree import DecisionTreeClassifier\n",
    "from sklearn.ensemble import RandomForestClassifier\n",
    "from sklearn.preprocessing import StandardScaler\n",
    "#from sklearn.model_selection import GridSearchCV\n",
    "\n",
    "# For evaluation\n",
    "from sklearn.metrics import accuracy_score\n",
    "\n",
    "# Supress warnings\n",
    "import warnings\n",
    "warnings.filterwarnings('ignore')"
   ]
  },
  {
   "cell_type": "markdown",
   "metadata": {},
   "source": [
    "## Data Exploration ##\n",
    "<a id='exploration'></a>\n",
    "________________________________________________________________________________________________________________________________\n",
    "\n",
    "Megaline has provided us with the subscriber behavior data. As informed by the company, they have performed the data preporocessing steps; therefore, we wil perform a general exploration of the cleaned dataset. "
   ]
  },
  {
   "cell_type": "code",
   "execution_count": 3,
   "metadata": {},
   "outputs": [],
   "source": [
    "# Load the dataset\n",
    "try:\n",
    "    data = pd.read_csv('/datasets/users_behavior.csv')\n",
    "except:\n",
    "    data = pd.read_csv(r'C:\\Users\\marlo\\OneDrive\\Desktop\\Python_Work\\Tripleten_Lessons\\Sprint_7_Project\\users_behavior.csv')"
   ]
  },
  {
   "cell_type": "code",
   "execution_count": 4,
   "metadata": {},
   "outputs": [
    {
     "data": {
      "text/html": [
       "<div>\n",
       "<style scoped>\n",
       "    .dataframe tbody tr th:only-of-type {\n",
       "        vertical-align: middle;\n",
       "    }\n",
       "\n",
       "    .dataframe tbody tr th {\n",
       "        vertical-align: top;\n",
       "    }\n",
       "\n",
       "    .dataframe thead th {\n",
       "        text-align: right;\n",
       "    }\n",
       "</style>\n",
       "<table border=\"1\" class=\"dataframe\">\n",
       "  <thead>\n",
       "    <tr style=\"text-align: right;\">\n",
       "      <th></th>\n",
       "      <th>calls</th>\n",
       "      <th>minutes</th>\n",
       "      <th>messages</th>\n",
       "      <th>mb_used</th>\n",
       "      <th>is_ultra</th>\n",
       "    </tr>\n",
       "  </thead>\n",
       "  <tbody>\n",
       "    <tr>\n",
       "      <th>0</th>\n",
       "      <td>40.0</td>\n",
       "      <td>311.90</td>\n",
       "      <td>83.0</td>\n",
       "      <td>19915.42</td>\n",
       "      <td>0</td>\n",
       "    </tr>\n",
       "    <tr>\n",
       "      <th>1</th>\n",
       "      <td>85.0</td>\n",
       "      <td>516.75</td>\n",
       "      <td>56.0</td>\n",
       "      <td>22696.96</td>\n",
       "      <td>0</td>\n",
       "    </tr>\n",
       "    <tr>\n",
       "      <th>2</th>\n",
       "      <td>77.0</td>\n",
       "      <td>467.66</td>\n",
       "      <td>86.0</td>\n",
       "      <td>21060.45</td>\n",
       "      <td>0</td>\n",
       "    </tr>\n",
       "    <tr>\n",
       "      <th>3</th>\n",
       "      <td>106.0</td>\n",
       "      <td>745.53</td>\n",
       "      <td>81.0</td>\n",
       "      <td>8437.39</td>\n",
       "      <td>1</td>\n",
       "    </tr>\n",
       "    <tr>\n",
       "      <th>4</th>\n",
       "      <td>66.0</td>\n",
       "      <td>418.74</td>\n",
       "      <td>1.0</td>\n",
       "      <td>14502.75</td>\n",
       "      <td>0</td>\n",
       "    </tr>\n",
       "    <tr>\n",
       "      <th>5</th>\n",
       "      <td>58.0</td>\n",
       "      <td>344.56</td>\n",
       "      <td>21.0</td>\n",
       "      <td>15823.37</td>\n",
       "      <td>0</td>\n",
       "    </tr>\n",
       "    <tr>\n",
       "      <th>6</th>\n",
       "      <td>57.0</td>\n",
       "      <td>431.64</td>\n",
       "      <td>20.0</td>\n",
       "      <td>3738.90</td>\n",
       "      <td>1</td>\n",
       "    </tr>\n",
       "    <tr>\n",
       "      <th>7</th>\n",
       "      <td>15.0</td>\n",
       "      <td>132.40</td>\n",
       "      <td>6.0</td>\n",
       "      <td>21911.60</td>\n",
       "      <td>0</td>\n",
       "    </tr>\n",
       "    <tr>\n",
       "      <th>8</th>\n",
       "      <td>7.0</td>\n",
       "      <td>43.39</td>\n",
       "      <td>3.0</td>\n",
       "      <td>2538.67</td>\n",
       "      <td>1</td>\n",
       "    </tr>\n",
       "    <tr>\n",
       "      <th>9</th>\n",
       "      <td>90.0</td>\n",
       "      <td>665.41</td>\n",
       "      <td>38.0</td>\n",
       "      <td>17358.61</td>\n",
       "      <td>0</td>\n",
       "    </tr>\n",
       "  </tbody>\n",
       "</table>\n",
       "</div>"
      ],
      "text/plain": [
       "   calls  minutes  messages   mb_used  is_ultra\n",
       "0   40.0   311.90      83.0  19915.42         0\n",
       "1   85.0   516.75      56.0  22696.96         0\n",
       "2   77.0   467.66      86.0  21060.45         0\n",
       "3  106.0   745.53      81.0   8437.39         1\n",
       "4   66.0   418.74       1.0  14502.75         0\n",
       "5   58.0   344.56      21.0  15823.37         0\n",
       "6   57.0   431.64      20.0   3738.90         1\n",
       "7   15.0   132.40       6.0  21911.60         0\n",
       "8    7.0    43.39       3.0   2538.67         1\n",
       "9   90.0   665.41      38.0  17358.61         0"
      ]
     },
     "execution_count": 4,
     "metadata": {},
     "output_type": "execute_result"
    }
   ],
   "source": [
    "# Have a look at the data\n",
    "data.head(10)"
   ]
  },
  {
   "cell_type": "code",
   "execution_count": 5,
   "metadata": {},
   "outputs": [
    {
     "name": "stdout",
     "output_type": "stream",
     "text": [
      "<class 'pandas.core.frame.DataFrame'>\n",
      "RangeIndex: 3214 entries, 0 to 3213\n",
      "Data columns (total 5 columns):\n",
      " #   Column    Non-Null Count  Dtype  \n",
      "---  ------    --------------  -----  \n",
      " 0   calls     3214 non-null   float64\n",
      " 1   minutes   3214 non-null   float64\n",
      " 2   messages  3214 non-null   float64\n",
      " 3   mb_used   3214 non-null   float64\n",
      " 4   is_ultra  3214 non-null   int64  \n",
      "dtypes: float64(4), int64(1)\n",
      "memory usage: 125.7 KB\n"
     ]
    }
   ],
   "source": [
    "data.info()"
   ]
  },
  {
   "cell_type": "markdown",
   "metadata": {},
   "source": [
    "The data contains 3,214 rows of data with 5 columns of monthly data relating to the subscriber.\n",
    "\n",
    "**Description of the Data:**\n",
    " - `calls`: The number of calls\n",
    " - `minutes`: Total call duration in minutes\n",
    " - `messages`: Number of text messages\n",
    " - `mb_used`: Internet traffic used in MB\n",
    " - `is_ultra`: Plan for the current month (Ultra - 1, Smart - 0)"
   ]
  },
  {
   "cell_type": "code",
   "execution_count": 6,
   "metadata": {},
   "outputs": [
    {
     "data": {
      "text/plain": [
       "0"
      ]
     },
     "execution_count": 6,
     "metadata": {},
     "output_type": "execute_result"
    }
   ],
   "source": [
    "# Check for duplicates\n",
    "data.duplicated().sum()"
   ]
  },
  {
   "cell_type": "code",
   "execution_count": 7,
   "metadata": {},
   "outputs": [
    {
     "data": {
      "text/plain": [
       "calls       0\n",
       "minutes     0\n",
       "messages    0\n",
       "mb_used     0\n",
       "is_ultra    0\n",
       "dtype: int64"
      ]
     },
     "execution_count": 7,
     "metadata": {},
     "output_type": "execute_result"
    }
   ],
   "source": [
    "# Check if there are any missing values\n",
    "data.isna().sum()"
   ]
  },
  {
   "cell_type": "code",
   "execution_count": 8,
   "metadata": {},
   "outputs": [
    {
     "data": {
      "text/plain": [
       "calls       float64\n",
       "minutes     float64\n",
       "messages    float64\n",
       "mb_used     float64\n",
       "is_ultra      int64\n",
       "dtype: object"
      ]
     },
     "execution_count": 8,
     "metadata": {},
     "output_type": "execute_result"
    }
   ],
   "source": [
    "# check the data types\n",
    "data.dtypes"
   ]
  },
  {
   "cell_type": "code",
   "execution_count": 9,
   "metadata": {},
   "outputs": [
    {
     "data": {
      "text/plain": [
       "array([  0.,   1.,   2.,   3.,   4.,   5.,   6.,   7.,   8.,   9.,  10.,\n",
       "        11.,  12.,  13.,  14.,  15.,  16.,  17.,  18.,  19.,  20.,  21.,\n",
       "        22.,  23.,  24.,  25.,  26.,  27.,  28.,  29.,  30.,  31.,  32.,\n",
       "        33.,  34.,  35.,  36.,  37.,  38.,  39.,  40.,  41.,  42.,  43.,\n",
       "        44.,  45.,  46.,  47.,  48.,  49.,  50.,  51.,  52.,  53.,  54.,\n",
       "        55.,  56.,  57.,  58.,  59.,  60.,  61.,  62.,  63.,  64.,  65.,\n",
       "        66.,  67.,  68.,  69.,  70.,  71.,  72.,  73.,  74.,  75.,  76.,\n",
       "        77.,  78.,  79.,  80.,  81.,  82.,  83.,  84.,  85.,  86.,  87.,\n",
       "        88.,  89.,  90.,  91.,  92.,  93.,  94.,  95.,  96.,  97.,  98.,\n",
       "        99., 100., 101., 102., 103., 104., 105., 106., 107., 108., 109.,\n",
       "       110., 111., 112., 113., 114., 115., 116., 117., 118., 119., 120.,\n",
       "       121., 122., 123., 124., 125., 126., 127., 128., 129., 130., 131.,\n",
       "       132., 133., 134., 136., 137., 138., 140., 141., 142., 143., 144.,\n",
       "       145., 146., 148., 150., 151., 152., 153., 154., 155., 156., 157.,\n",
       "       158., 159., 160., 161., 162., 163., 164., 165., 167., 168., 169.,\n",
       "       171., 172., 173., 174., 176., 177., 178., 180., 181., 182., 183.,\n",
       "       184., 185., 188., 189., 196., 198., 203., 244.])"
      ]
     },
     "execution_count": 9,
     "metadata": {},
     "output_type": "execute_result"
    }
   ],
   "source": [
    "np.sort(data['calls'].unique())"
   ]
  },
  {
   "cell_type": "code",
   "execution_count": 10,
   "metadata": {},
   "outputs": [],
   "source": [
    "data['calls'] = data['calls'].astype('int')"
   ]
  },
  {
   "cell_type": "code",
   "execution_count": 11,
   "metadata": {},
   "outputs": [
    {
     "data": {
      "text/plain": [
       "calls         int32\n",
       "minutes     float64\n",
       "messages    float64\n",
       "mb_used     float64\n",
       "is_ultra      int64\n",
       "dtype: object"
      ]
     },
     "execution_count": 11,
     "metadata": {},
     "output_type": "execute_result"
    }
   ],
   "source": [
    "data.dtypes"
   ]
  },
  {
   "cell_type": "code",
   "execution_count": 12,
   "metadata": {},
   "outputs": [
    {
     "data": {
      "text/html": [
       "<div>\n",
       "<style scoped>\n",
       "    .dataframe tbody tr th:only-of-type {\n",
       "        vertical-align: middle;\n",
       "    }\n",
       "\n",
       "    .dataframe tbody tr th {\n",
       "        vertical-align: top;\n",
       "    }\n",
       "\n",
       "    .dataframe thead th {\n",
       "        text-align: right;\n",
       "    }\n",
       "</style>\n",
       "<table border=\"1\" class=\"dataframe\">\n",
       "  <thead>\n",
       "    <tr style=\"text-align: right;\">\n",
       "      <th></th>\n",
       "      <th>calls</th>\n",
       "      <th>minutes</th>\n",
       "      <th>messages</th>\n",
       "      <th>mb_used</th>\n",
       "      <th>is_ultra</th>\n",
       "    </tr>\n",
       "  </thead>\n",
       "  <tbody>\n",
       "    <tr>\n",
       "      <th>0</th>\n",
       "      <td>40</td>\n",
       "      <td>311.90</td>\n",
       "      <td>83.0</td>\n",
       "      <td>19915.42</td>\n",
       "      <td>0</td>\n",
       "    </tr>\n",
       "    <tr>\n",
       "      <th>1</th>\n",
       "      <td>85</td>\n",
       "      <td>516.75</td>\n",
       "      <td>56.0</td>\n",
       "      <td>22696.96</td>\n",
       "      <td>0</td>\n",
       "    </tr>\n",
       "    <tr>\n",
       "      <th>2</th>\n",
       "      <td>77</td>\n",
       "      <td>467.66</td>\n",
       "      <td>86.0</td>\n",
       "      <td>21060.45</td>\n",
       "      <td>0</td>\n",
       "    </tr>\n",
       "    <tr>\n",
       "      <th>3</th>\n",
       "      <td>106</td>\n",
       "      <td>745.53</td>\n",
       "      <td>81.0</td>\n",
       "      <td>8437.39</td>\n",
       "      <td>1</td>\n",
       "    </tr>\n",
       "    <tr>\n",
       "      <th>4</th>\n",
       "      <td>66</td>\n",
       "      <td>418.74</td>\n",
       "      <td>1.0</td>\n",
       "      <td>14502.75</td>\n",
       "      <td>0</td>\n",
       "    </tr>\n",
       "  </tbody>\n",
       "</table>\n",
       "</div>"
      ],
      "text/plain": [
       "   calls  minutes  messages   mb_used  is_ultra\n",
       "0     40   311.90      83.0  19915.42         0\n",
       "1     85   516.75      56.0  22696.96         0\n",
       "2     77   467.66      86.0  21060.45         0\n",
       "3    106   745.53      81.0   8437.39         1\n",
       "4     66   418.74       1.0  14502.75         0"
      ]
     },
     "execution_count": 12,
     "metadata": {},
     "output_type": "execute_result"
    }
   ],
   "source": [
    "data.head()"
   ]
  },
  {
   "cell_type": "code",
   "execution_count": 13,
   "metadata": {},
   "outputs": [
    {
     "data": {
      "text/plain": [
       "array([  0.,   1.,   2.,   3.,   4.,   5.,   6.,   7.,   8.,   9.,  10.,\n",
       "        11.,  12.,  13.,  14.,  15.,  16.,  17.,  18.,  19.,  20.,  21.,\n",
       "        22.,  23.,  24.,  25.,  26.,  27.,  28.,  29.,  30.,  31.,  32.,\n",
       "        33.,  34.,  35.,  36.,  37.,  38.,  39.,  40.,  41.,  42.,  43.,\n",
       "        44.,  45.,  46.,  47.,  48.,  49.,  50.,  51.,  52.,  53.,  54.,\n",
       "        55.,  56.,  57.,  58.,  59.,  60.,  61.,  62.,  63.,  64.,  65.,\n",
       "        66.,  67.,  68.,  69.,  70.,  71.,  72.,  73.,  74.,  75.,  76.,\n",
       "        77.,  78.,  79.,  80.,  81.,  82.,  83.,  84.,  85.,  86.,  87.,\n",
       "        88.,  89.,  90.,  91.,  92.,  93.,  94.,  95.,  96.,  97.,  98.,\n",
       "        99., 100., 101., 102., 103., 104., 105., 106., 107., 108., 109.,\n",
       "       110., 111., 112., 113., 114., 115., 116., 117., 118., 119., 120.,\n",
       "       121., 122., 123., 124., 125., 126., 127., 128., 129., 130., 131.,\n",
       "       132., 133., 134., 135., 136., 137., 138., 139., 140., 141., 142.,\n",
       "       143., 144., 145., 146., 148., 149., 150., 151., 152., 153., 154.,\n",
       "       155., 157., 158., 159., 162., 165., 169., 170., 171., 172., 173.,\n",
       "       176., 178., 180., 181., 182., 183., 185., 188., 190., 191., 197.,\n",
       "       201., 211., 223., 224.])"
      ]
     },
     "execution_count": 13,
     "metadata": {},
     "output_type": "execute_result"
    }
   ],
   "source": [
    "np.sort(data['messages'].unique())"
   ]
  },
  {
   "cell_type": "code",
   "execution_count": 14,
   "metadata": {},
   "outputs": [],
   "source": [
    "data['messages'] = data['messages'].astype('int')"
   ]
  },
  {
   "cell_type": "code",
   "execution_count": 15,
   "metadata": {},
   "outputs": [
    {
     "data": {
      "text/plain": [
       "calls         int32\n",
       "minutes     float64\n",
       "messages      int32\n",
       "mb_used     float64\n",
       "is_ultra      int64\n",
       "dtype: object"
      ]
     },
     "execution_count": 15,
     "metadata": {},
     "output_type": "execute_result"
    }
   ],
   "source": [
    "data.dtypes\n",
    "### Data types are now correct. They were fine before, personal preference to have ints, since you can't have fraction\n",
    "  # of calls and messages and there were no values containing decimals in either column. "
   ]
  },
  {
   "cell_type": "code",
   "execution_count": 16,
   "metadata": {},
   "outputs": [
    {
     "data": {
      "text/html": [
       "<div>\n",
       "<style scoped>\n",
       "    .dataframe tbody tr th:only-of-type {\n",
       "        vertical-align: middle;\n",
       "    }\n",
       "\n",
       "    .dataframe tbody tr th {\n",
       "        vertical-align: top;\n",
       "    }\n",
       "\n",
       "    .dataframe thead th {\n",
       "        text-align: right;\n",
       "    }\n",
       "</style>\n",
       "<table border=\"1\" class=\"dataframe\">\n",
       "  <thead>\n",
       "    <tr style=\"text-align: right;\">\n",
       "      <th></th>\n",
       "      <th>calls</th>\n",
       "      <th>minutes</th>\n",
       "      <th>messages</th>\n",
       "      <th>mb_used</th>\n",
       "      <th>is_ultra</th>\n",
       "    </tr>\n",
       "  </thead>\n",
       "  <tbody>\n",
       "    <tr>\n",
       "      <th>count</th>\n",
       "      <td>3214.000000</td>\n",
       "      <td>3214.000000</td>\n",
       "      <td>3214.000000</td>\n",
       "      <td>3214.000000</td>\n",
       "      <td>3214.000000</td>\n",
       "    </tr>\n",
       "    <tr>\n",
       "      <th>mean</th>\n",
       "      <td>63.038892</td>\n",
       "      <td>438.208787</td>\n",
       "      <td>38.281269</td>\n",
       "      <td>17207.673836</td>\n",
       "      <td>0.306472</td>\n",
       "    </tr>\n",
       "    <tr>\n",
       "      <th>std</th>\n",
       "      <td>33.236368</td>\n",
       "      <td>234.569872</td>\n",
       "      <td>36.148326</td>\n",
       "      <td>7570.968246</td>\n",
       "      <td>0.461100</td>\n",
       "    </tr>\n",
       "    <tr>\n",
       "      <th>min</th>\n",
       "      <td>0.000000</td>\n",
       "      <td>0.000000</td>\n",
       "      <td>0.000000</td>\n",
       "      <td>0.000000</td>\n",
       "      <td>0.000000</td>\n",
       "    </tr>\n",
       "    <tr>\n",
       "      <th>25%</th>\n",
       "      <td>40.000000</td>\n",
       "      <td>274.575000</td>\n",
       "      <td>9.000000</td>\n",
       "      <td>12491.902500</td>\n",
       "      <td>0.000000</td>\n",
       "    </tr>\n",
       "    <tr>\n",
       "      <th>50%</th>\n",
       "      <td>62.000000</td>\n",
       "      <td>430.600000</td>\n",
       "      <td>30.000000</td>\n",
       "      <td>16943.235000</td>\n",
       "      <td>0.000000</td>\n",
       "    </tr>\n",
       "    <tr>\n",
       "      <th>75%</th>\n",
       "      <td>82.000000</td>\n",
       "      <td>571.927500</td>\n",
       "      <td>57.000000</td>\n",
       "      <td>21424.700000</td>\n",
       "      <td>1.000000</td>\n",
       "    </tr>\n",
       "    <tr>\n",
       "      <th>max</th>\n",
       "      <td>244.000000</td>\n",
       "      <td>1632.060000</td>\n",
       "      <td>224.000000</td>\n",
       "      <td>49745.730000</td>\n",
       "      <td>1.000000</td>\n",
       "    </tr>\n",
       "  </tbody>\n",
       "</table>\n",
       "</div>"
      ],
      "text/plain": [
       "             calls      minutes     messages       mb_used     is_ultra\n",
       "count  3214.000000  3214.000000  3214.000000   3214.000000  3214.000000\n",
       "mean     63.038892   438.208787    38.281269  17207.673836     0.306472\n",
       "std      33.236368   234.569872    36.148326   7570.968246     0.461100\n",
       "min       0.000000     0.000000     0.000000      0.000000     0.000000\n",
       "25%      40.000000   274.575000     9.000000  12491.902500     0.000000\n",
       "50%      62.000000   430.600000    30.000000  16943.235000     0.000000\n",
       "75%      82.000000   571.927500    57.000000  21424.700000     1.000000\n",
       "max     244.000000  1632.060000   224.000000  49745.730000     1.000000"
      ]
     },
     "execution_count": 16,
     "metadata": {},
     "output_type": "execute_result"
    }
   ],
   "source": [
    "# Check descriptive data\n",
    "data.describe()"
   ]
  },
  {
   "cell_type": "markdown",
   "metadata": {},
   "source": [
    "There are no duplicate or missing values. The data types have been corrected (converted calls and messages to int) and there are no anomalies. \n",
    "\n",
    "The datasets contain four features and one target variable. These will be used to develop the model.\n",
    "\n",
    " - Features: `calls`, `minutes`, `messages`, and `mb_used`.\n",
    " - Target: `is_ultra`\n",
    " \n",
    " [Back to Contents](#contents)"
   ]
  },
  {
   "cell_type": "markdown",
   "metadata": {},
   "source": [
    "## Exploratory Data Analysis (EDA) ##\n",
    "<a id='EDA'></a>\n",
    "\n",
    "### Distributions of the Features ###"
   ]
  },
  {
   "cell_type": "code",
   "execution_count": 17,
   "metadata": {},
   "outputs": [
    {
     "data": {
      "image/png": "[encoded data removed]",
      "text/plain": [
       "<Figure size 800x600 with 4 Axes>"
      ]
     },
     "metadata": {},
     "output_type": "display_data"
    }
   ],
   "source": [
    "# Plot histograms for the features data to visualize the distributions\n",
    "\n",
    "# Define the feature names and their respective titles and labels; setting up for loop\n",
    "features = [\n",
    "    ('calls', 'Number of Calls', 'Number of Subscribers'),\n",
    "    ('minutes', 'Call Duration', 'Number of Subscribers'),\n",
    "    ('messages', 'Number of Messages Sent', 'Number of Subscribers'),\n",
    "    ('mb_used', 'Volume of Internet Traffic', 'Number of Subscribers')\n",
    "]\n",
    "\n",
    "fig, axs = plt.subplots(2, 2, figsize = (8, 6))\n",
    "fig.suptitle('Distribution of the Features', fontsize = 15, fontweight = 'bold')\n",
    "axs = axs.flatten()\n",
    "\n",
    "# loop through features\n",
    "for i, (feature, xlabel, ylabel) in enumerate(features):\n",
    "    sns.histplot(x = data[feature], ax=axs[i])\n",
    "    axs[i].set_title(feature, fontsize = 13, fontweight = 'bold')\n",
    "    axs[i].set_xlabel(xlabel)\n",
    "    axs[i].set_ylabel(ylabel)\n",
    "    \n",
    "plt.tight_layout()\n",
    "plt.show()"
   ]
  },
  {
   "cell_type": "markdown",
   "metadata": {},
   "source": [
    "Three out of the four distributions appear relatively normal, with the only one not appearing that way is `messages`, this is due to the large number of outliers present in the data. However, the distributions are close to normal.  \n",
    "\n",
    "### Distribution of the Target Class ###\n",
    "<a id='EDA_target'></a>"
   ]
  },
  {
   "cell_type": "code",
   "execution_count": 18,
   "metadata": {},
   "outputs": [
    {
     "data": {
      "image/png": "[encoded data removed]",
      "text/plain": [
       "<Figure size 400x500 with 1 Axes>"
      ]
     },
     "metadata": {},
     "output_type": "display_data"
    }
   ],
   "source": [
    "# Let's visualize the distribution of target plans\n",
    "plt.figure(figsize = (4,5))\n",
    "\n",
    "sns.countplot(x = 'is_ultra', data = data) #width not working, don't know why. \n",
    "\n",
    "plt.title('Distribution of Target Plans', fontsize = 15, fontweight = 'bold')\n",
    "plt.xlabel('is_ultra', fontsize = 12)\n",
    "plt.ylabel('Number of Subscribers', fontsize = 12)\n",
    "\n",
    "plt.show()"
   ]
  },
  {
   "cell_type": "code",
   "execution_count": 19,
   "metadata": {},
   "outputs": [
    {
     "data": {
      "text/plain": [
       "is_ultra\n",
       "0    0.693528\n",
       "1    0.306472\n",
       "Name: proportion, dtype: float64"
      ]
     },
     "execution_count": 19,
     "metadata": {},
     "output_type": "execute_result"
    }
   ],
   "source": [
    "# Look at proportion of each Plan\n",
    "data['is_ultra'].value_counts(normalize = True)"
   ]
  },
  {
   "cell_type": "markdown",
   "metadata": {},
   "source": [
    "The distribtution of the target plans/classes is imbalanced; with the ratio of the Smart plan (`0 class`) to the Ultra plan (`1 class`) being 7:3. The proportion of the minority class is 30% and can be considered as a mild degree of imbalance; therefore, no further action will be taken to address this imbalance. However, if the model does not perform well, we could come back and take an additional deeper look into this. \n",
    "\n",
    "[Back to Contents](#contents)"
   ]
  },
  {
   "cell_type": "markdown",
   "metadata": {},
   "source": [
    "## Development and Tuning of Different Models ##\n",
    "<a id='model_tuning'></a>\n",
    "________________________________________________________________________________________________________________________________\n",
    "\n",
    "The following function will be used to automate visual tasks in this section"
   ]
  },
  {
   "cell_type": "code",
   "execution_count": 20,
   "metadata": {},
   "outputs": [],
   "source": [
    "def sns_lineplot(data, x, y, title, figsize, hue=None):\n",
    "    \"\"\"\n",
    "    This function plots a line graph to visualize the model training result.\n",
    "    \n",
    "    Parameters:\n",
    "    data (DataFrame): the dataFrame to be used to select variables to graph\n",
    "    x (string): column name from data to be used as the x variable\n",
    "    y (string): column name from data to be used as the y variable\n",
    "    title (string): string that represents the title of the figure\n",
    "    figsize (tuple): tuple to determine the size of the figure (x,y)\n",
    "    hue (string): column name to categorize and colorize the data\n",
    "    \"\"\"\n",
    "    \n",
    "    sns.set_style('whitegrid')\n",
    "    plt.figure(figsize = figsize)\n",
    "    \n",
    "    if hue is None:\n",
    "        sns.lineplot(data = data, x = x, y = y, errorbar = None, marker = 'o', linestlye = '-')\n",
    "    else:\n",
    "        sns.lineplot(data = data, x = x, y = y, hue = hue, errorbar = None, markers = True, marker = 'o', linestyle = '-')\n",
    "        \n",
    "    plt.title(title, fontsize = 15, fontweight = 'bold')\n",
    "    plt.xlabel(x, fontsize = 12, fontweight = 'bold')\n",
    "    plt.ylabel(y, fontsize = 12, fontweight = 'bold')\n",
    "    plt.legend(title = hue, loc = 'upper left', bbox_to_anchor = (1,1))\n",
    "    \n",
    "    plt.show()"
   ]
  },
  {
   "cell_type": "markdown",
   "metadata": {},
   "source": [
    "________________________________________________________________________________________________________________________________\n",
    "\n",
    "### Separating the Datasets into Training, Validation, and Tests ###\n",
    "<a id='separation'></a>\n",
    "\n",
    "The dataset will be divided in a ratio of _60:20:20_ for _training:validation:test_ respectively."
   ]
  },
  {
   "cell_type": "code",
   "execution_count": 21,
   "metadata": {},
   "outputs": [
    {
     "data": {
      "text/plain": [
       "((3214, 4), (3214,))"
      ]
     },
     "execution_count": 21,
     "metadata": {},
     "output_type": "execute_result"
    }
   ],
   "source": [
    "# Set up the feature and target variables; features, target\n",
    "features = data.drop(columns=['is_ultra'])\n",
    "target = data['is_ultra']\n",
    "\n",
    "# Check shape\n",
    "features.shape, target.shape"
   ]
  },
  {
   "cell_type": "code",
   "execution_count": 22,
   "metadata": {},
   "outputs": [],
   "source": [
    "# Split the dataset a ratio of 80:20 where the 20% is the Test set\n",
    "feature_train, feature_test, target_train, target_test = train_test_split(features, \n",
    "                                                                          target, \n",
    "                                                                          test_size=0.2, \n",
    "                                                                          random_state = 12345)\n",
    "\n",
    "# Split the dataset a ratio of 75:25 where the 25% is the Validation set\n",
    "feature_train, feature_val, target_train, target_val = train_test_split(feature_train, \n",
    "                                                                        target_train, \n",
    "                                                                        test_size=0.25, \n",
    "                                                                        random_state = 12345)"
   ]
  },
  {
   "cell_type": "code",
   "execution_count": 23,
   "metadata": {},
   "outputs": [
    {
     "name": "stdout",
     "output_type": "stream",
     "text": [
      "Percentage of feature_train: 60%\n",
      "Percentage of target_train: 60%\n",
      "\n",
      "Percentage of feature_test: 20%\n",
      "Percentage of target_test: 20%\n",
      "\n",
      "Percentage of feature_val: 20%\n",
      "Percentage of target_val: 20%\n",
      "\n",
      "\n",
      "Percentages look correct.\n"
     ]
    }
   ],
   "source": [
    "# Check the percentages of each variable in all three sets\n",
    "datasets = [\n",
    "    (\"feature_train\", feature_train, features),\n",
    "    (\"target_train\", target_train, target),\n",
    "    (\"feature_test\", feature_test, features),\n",
    "    (\"target_test\", target_test, target),\n",
    "    (\"feature_val\", feature_val, features),\n",
    "    (\"target_val\", target_val, target)\n",
    "]\n",
    "\n",
    "output = \"\"\n",
    "\n",
    "for name, dataset, class_ in datasets:\n",
    "    percentage = f\"{dataset.shape[0] / class_.shape[0]:.0%}\"\n",
    "    output += f\"Percentage of {name}: {percentage}\\n\"\n",
    "    if \"target\" in name:\n",
    "        output += \"\\n\"\n",
    "\n",
    "print(output)\n",
    "\n",
    "print(\"Percentages look correct.\")"
   ]
  },
  {
   "cell_type": "code",
   "execution_count": 24,
   "metadata": {},
   "outputs": [
    {
     "name": "stdout",
     "output_type": "stream",
     "text": [
      "Shape of feature_train: (1928, 4)\n",
      "Shape of target_train: (1928,)\n",
      "\n",
      "Shape of feature_test: (643, 4)\n",
      "Shape of target_test: (643,)\n",
      "\n",
      "Shape of feature_val: (643, 4)\n",
      "Shape of target_val: (643,)\n",
      "\n",
      "\n"
     ]
    }
   ],
   "source": [
    "# Observe the shape\n",
    "shape_output = \"\"\n",
    "\n",
    "for name, dataset, class_ in datasets:\n",
    "    shape_set = f\"{dataset.shape}\"\n",
    "    shape_output += f\"Shape of {name}: {shape_set}\\n\"\n",
    "    if \"target\" in name:\n",
    "        shape_output += \"\\n\"\n",
    "        \n",
    "print(shape_output)"
   ]
  },
  {
   "cell_type": "markdown",
   "metadata": {},
   "source": [
    "The dataset has successfully been split into the ratio of 60:20:20 for training:validation:test.\n",
    "\n",
    "Let's now start to develop different models and tune the hyperparameters to find the best model. We will work on developing three models: `decision tree`, `random forest`, and `logistic regression`.\n",
    "\n",
    "[Back to Contents](#contents)"
   ]
  },
  {
   "cell_type": "markdown",
   "metadata": {},
   "source": [
    "### Decision Tree ###\n",
    "<a id='tree'></a>\n",
    "\n",
    "We will be using a loop to develop the model, as well as collect all appropriate information. \n",
    "\n",
    "Information to be collected is as follows:\n",
    "- A list that will contain all tested model parameters: `model_param_list`\n",
    "- A list that will contain all accuracy scores for their corresponding model parameters: `accuracy_list`\n",
    "- A dictionary that contains the most accurate model data which includes the parameters for that model and its accuracy score: `best_model_data`.\n",
    "- A dataframe that concatenates the above information to better contain all info in one place. Also to help perform any filtering for analysis: `loop_result_df`.\n",
    "\n",
    "We will then look at some distributions over that dataframe. The above objects are defined below.\n",
    "\n",
    "We have chosen the parameters carefully based upon the DecisionTreeClassifier documentation: [Link to Documentation](https://scikit-learn.org/stable/modules/generated/sklearn.tree.DecisionTreeClassifier.html)\n",
    "\n",
    "**Parameters in our Parameter Grid:**\n",
    " - `max_depth`: Controls the maximum depth of the tree. This can help mnodel more complex relationships but are usually prone to overfitting. We are coverring a wide range of depths to observe any patterns when charted. We will include some additional parameters to adjust for this overfitting.\n",
    " - `min_samples_split`: Specifies the minimum number of samples required to split an internal node. This is helpful for the model to prevent learning overly specific patterns.\n",
    " - `min_samples_leaf`: Sets the minimum number of samples requred to be at a leaf node. This helps the model become more robust to variations. Should allow us to increase accuracy at the cost of run-time.\n",
    "\n",
    "\n",
    "**_Computer Specifications_**\n",
    "\n",
    "*I am a proud owner of a very powerful computer, hence my choice in including additional hyperparameters for a slightly longer run-time. I felt the below parameter values sufficed the objective of this project and therefore did not choose larger numbers. As we will see from the distributions later, I conclude that larger values are not relevant for our purposes anyway.*\n",
    "\n",
    "*appx run time: 1min 30sec - 2min*"
   ]
  },
  {
   "cell_type": "code",
   "execution_count": 45,
   "metadata": {},
   "outputs": [],
   "source": [
    "model_param_list = []\n",
    "accuracy_list = []\n",
    "best_model = {}\n",
    "best_model_data = {'hyperparameters': None, 'accuracy': 0}\n",
    "\n",
    "param_grid = {\n",
    "    'max_depth': [x for x in range(1,21)],\n",
    "    'min_samples_split': [x for x in range(2,41)],\n",
    "    'min_samples_leaf': [x for x in range(1,16)],\n",
    "    'criterion': ['gini', 'entropy']\n",
    "}"
   ]
  },
  {
   "cell_type": "code",
   "execution_count": 46,
   "metadata": {},
   "outputs": [
    {
     "name": "stdout",
     "output_type": "stream",
     "text": [
      "Best Model Parameters: {'max_depth': 15, 'min_samples_split': 21, 'min_samples_leaf': 6, 'criterion': 'entropy'}\n",
      "Best Accuracy 0.7993779160186625\n"
     ]
    }
   ],
   "source": [
    "# Could potentially create function\n",
    "keys, values = zip(*param_grid.items())\n",
    "\n",
    "# Establish each key value pair possible from parameter grid and \n",
    "# loop through these combinations to develop model\n",
    "for param_value in product(*values):\n",
    "    model_params = dict(zip(keys, param_value))\n",
    "\n",
    "    model = DecisionTreeClassifier(**model_params, random_state = 12345)\n",
    "\n",
    "    model.fit(feature_train, target_train) #train current model\n",
    "    accuracy = model.score(feature_val, target_val) #obtain accuracy for current model\n",
    "\n",
    "    # Store each parameter list and accuracy score for the current model\n",
    "    model_param_list.append(model_params)\n",
    "    accuracy_list.append(accuracy)\n",
    "\n",
    "    # Save best model data found\n",
    "    if accuracy > best_model_data['accuracy']:\n",
    "        best_model = model\n",
    "        best_model_data['hyperparameters'] = model_params\n",
    "        best_model_data['accuracy'] = accuracy\n",
    "\n",
    "loop_result_df = pd.DataFrame({'params': model_param_list, 'accuracy': accuracy_list}) #currently contains dictionary as value of params column\n",
    "\n",
    "# unpack the dictionary in 'params'\n",
    "loop_result_df = pd.concat([pd.json_normalize(loop_result_df['params']), loop_result_df['accuracy']], axis = 1)\n",
    "\n",
    "print(\"Best Model Parameters:\", best_model_data['hyperparameters'])\n",
    "print(\"Best Accuracy\", best_model_data['accuracy'])"
   ]
  },
  {
   "cell_type": "code",
   "execution_count": 47,
   "metadata": {},
   "outputs": [
    {
     "data": {
      "text/html": [
       "<div>\n",
       "<style scoped>\n",
       "    .dataframe tbody tr th:only-of-type {\n",
       "        vertical-align: middle;\n",
       "    }\n",
       "\n",
       "    .dataframe tbody tr th {\n",
       "        vertical-align: top;\n",
       "    }\n",
       "\n",
       "    .dataframe thead th {\n",
       "        text-align: right;\n",
       "    }\n",
       "</style>\n",
       "<table border=\"1\" class=\"dataframe\">\n",
       "  <thead>\n",
       "    <tr style=\"text-align: right;\">\n",
       "      <th></th>\n",
       "      <th>max_depth</th>\n",
       "      <th>min_samples_split</th>\n",
       "      <th>min_samples_leaf</th>\n",
       "      <th>criterion</th>\n",
       "      <th>accuracy</th>\n",
       "    </tr>\n",
       "  </thead>\n",
       "  <tbody>\n",
       "    <tr>\n",
       "      <th>0</th>\n",
       "      <td>15</td>\n",
       "      <td>21</td>\n",
       "      <td>6</td>\n",
       "      <td>entropy</td>\n",
       "      <td>0.799378</td>\n",
       "    </tr>\n",
       "    <tr>\n",
       "      <th>1</th>\n",
       "      <td>10</td>\n",
       "      <td>18</td>\n",
       "      <td>8</td>\n",
       "      <td>gini</td>\n",
       "      <td>0.797823</td>\n",
       "    </tr>\n",
       "    <tr>\n",
       "      <th>2</th>\n",
       "      <td>10</td>\n",
       "      <td>22</td>\n",
       "      <td>8</td>\n",
       "      <td>gini</td>\n",
       "      <td>0.797823</td>\n",
       "    </tr>\n",
       "    <tr>\n",
       "      <th>3</th>\n",
       "      <td>20</td>\n",
       "      <td>21</td>\n",
       "      <td>6</td>\n",
       "      <td>entropy</td>\n",
       "      <td>0.797823</td>\n",
       "    </tr>\n",
       "    <tr>\n",
       "      <th>4</th>\n",
       "      <td>11</td>\n",
       "      <td>23</td>\n",
       "      <td>8</td>\n",
       "      <td>gini</td>\n",
       "      <td>0.797823</td>\n",
       "    </tr>\n",
       "    <tr>\n",
       "      <th>5</th>\n",
       "      <td>11</td>\n",
       "      <td>22</td>\n",
       "      <td>8</td>\n",
       "      <td>gini</td>\n",
       "      <td>0.797823</td>\n",
       "    </tr>\n",
       "    <tr>\n",
       "      <th>6</th>\n",
       "      <td>10</td>\n",
       "      <td>20</td>\n",
       "      <td>8</td>\n",
       "      <td>gini</td>\n",
       "      <td>0.797823</td>\n",
       "    </tr>\n",
       "    <tr>\n",
       "      <th>7</th>\n",
       "      <td>11</td>\n",
       "      <td>21</td>\n",
       "      <td>8</td>\n",
       "      <td>gini</td>\n",
       "      <td>0.797823</td>\n",
       "    </tr>\n",
       "    <tr>\n",
       "      <th>8</th>\n",
       "      <td>10</td>\n",
       "      <td>21</td>\n",
       "      <td>8</td>\n",
       "      <td>gini</td>\n",
       "      <td>0.797823</td>\n",
       "    </tr>\n",
       "    <tr>\n",
       "      <th>9</th>\n",
       "      <td>11</td>\n",
       "      <td>17</td>\n",
       "      <td>8</td>\n",
       "      <td>gini</td>\n",
       "      <td>0.797823</td>\n",
       "    </tr>\n",
       "  </tbody>\n",
       "</table>\n",
       "</div>"
      ],
      "text/plain": [
       "   max_depth  min_samples_split  min_samples_leaf criterion  accuracy\n",
       "0         15                 21                 6   entropy  0.799378\n",
       "1         10                 18                 8      gini  0.797823\n",
       "2         10                 22                 8      gini  0.797823\n",
       "3         20                 21                 6   entropy  0.797823\n",
       "4         11                 23                 8      gini  0.797823\n",
       "5         11                 22                 8      gini  0.797823\n",
       "6         10                 20                 8      gini  0.797823\n",
       "7         11                 21                 8      gini  0.797823\n",
       "8         10                 21                 8      gini  0.797823\n",
       "9         11                 17                 8      gini  0.797823"
      ]
     },
     "execution_count": 47,
     "metadata": {},
     "output_type": "execute_result"
    }
   ],
   "source": [
    "# Top 10 models\n",
    "loop_result_df.sort_values(by = 'accuracy', ascending = False).reset_index(drop=True).head(10)"
   ]
  },
  {
   "cell_type": "code",
   "execution_count": 48,
   "metadata": {},
   "outputs": [
    {
     "data": {
      "text/html": [
       "<style>#sk-container-id-3 {\n",
       "  /* Definition of color scheme common for light and dark mode */\n",
       "  --sklearn-color-text: black;\n",
       "  --sklearn-color-line: gray;\n",
       "  /* Definition of color scheme for unfitted estimators */\n",
       "  --sklearn-color-unfitted-level-0: #fff5e6;\n",
       "  --sklearn-color-unfitted-level-1: #f6e4d2;\n",
       "  --sklearn-color-unfitted-level-2: #ffe0b3;\n",
       "  --sklearn-color-unfitted-level-3: chocolate;\n",
       "  /* Definition of color scheme for fitted estimators */\n",
       "  --sklearn-color-fitted-level-0: #f0f8ff;\n",
       "  --sklearn-color-fitted-level-1: #d4ebff;\n",
       "  --sklearn-color-fitted-level-2: #b3dbfd;\n",
       "  --sklearn-color-fitted-level-3: cornflowerblue;\n",
       "\n",
       "  /* Specific color for light theme */\n",
       "  --sklearn-color-text-on-default-background: var(--sg-text-color, var(--theme-code-foreground, var(--jp-content-font-color1, black)));\n",
       "  --sklearn-color-background: var(--sg-background-color, var(--theme-background, var(--jp-layout-color0, white)));\n",
       "  --sklearn-color-border-box: var(--sg-text-color, var(--theme-code-foreground, var(--jp-content-font-color1, black)));\n",
       "  --sklearn-color-icon: #696969;\n",
       "\n",
       "  @media (prefers-color-scheme: dark) {\n",
       "    /* Redefinition of color scheme for dark theme */\n",
       "    --sklearn-color-text-on-default-background: var(--sg-text-color, var(--theme-code-foreground, var(--jp-content-font-color1, white)));\n",
       "    --sklearn-color-background: var(--sg-background-color, var(--theme-background, var(--jp-layout-color0, #111)));\n",
       "    --sklearn-color-border-box: var(--sg-text-color, var(--theme-code-foreground, var(--jp-content-font-color1, white)));\n",
       "    --sklearn-color-icon: #878787;\n",
       "  }\n",
       "}\n",
       "\n",
       "#sk-container-id-3 {\n",
       "  color: var(--sklearn-color-text);\n",
       "}\n",
       "\n",
       "#sk-container-id-3 pre {\n",
       "  padding: 0;\n",
       "}\n",
       "\n",
       "#sk-container-id-3 input.sk-hidden--visually {\n",
       "  border: 0;\n",
       "  clip: rect(1px 1px 1px 1px);\n",
       "  clip: rect(1px, 1px, 1px, 1px);\n",
       "  height: 1px;\n",
       "  margin: -1px;\n",
       "  overflow: hidden;\n",
       "  padding: 0;\n",
       "  position: absolute;\n",
       "  width: 1px;\n",
       "}\n",
       "\n",
       "#sk-container-id-3 div.sk-dashed-wrapped {\n",
       "  border: 1px dashed var(--sklearn-color-line);\n",
       "  margin: 0 0.4em 0.5em 0.4em;\n",
       "  box-sizing: border-box;\n",
       "  padding-bottom: 0.4em;\n",
       "  background-color: var(--sklearn-color-background);\n",
       "}\n",
       "\n",
       "#sk-container-id-3 div.sk-container {\n",
       "  /* jupyter's `normalize.less` sets `[hidden] { display: none; }`\n",
       "     but bootstrap.min.css set `[hidden] { display: none !important; }`\n",
       "     so we also need the `!important` here to be able to override the\n",
       "     default hidden behavior on the sphinx rendered scikit-learn.org.\n",
       "     See: https://github.com/scikit-learn/scikit-learn/issues/21755 */\n",
       "  display: inline-block !important;\n",
       "  position: relative;\n",
       "}\n",
       "\n",
       "#sk-container-id-3 div.sk-text-repr-fallback {\n",
       "  display: none;\n",
       "}\n",
       "\n",
       "div.sk-parallel-item,\n",
       "div.sk-serial,\n",
       "div.sk-item {\n",
       "  /* draw centered vertical line to link estimators */\n",
       "  background-image: linear-gradient(var(--sklearn-color-text-on-default-background), var(--sklearn-color-text-on-default-background));\n",
       "  background-size: 2px 100%;\n",
       "  background-repeat: no-repeat;\n",
       "  background-position: center center;\n",
       "}\n",
       "\n",
       "/* Parallel-specific style estimator block */\n",
       "\n",
       "#sk-container-id-3 div.sk-parallel-item::after {\n",
       "  content: \"\";\n",
       "  width: 100%;\n",
       "  border-bottom: 2px solid var(--sklearn-color-text-on-default-background);\n",
       "  flex-grow: 1;\n",
       "}\n",
       "\n",
       "#sk-container-id-3 div.sk-parallel {\n",
       "  display: flex;\n",
       "  align-items: stretch;\n",
       "  justify-content: center;\n",
       "  background-color: var(--sklearn-color-background);\n",
       "  position: relative;\n",
       "}\n",
       "\n",
       "#sk-container-id-3 div.sk-parallel-item {\n",
       "  display: flex;\n",
       "  flex-direction: column;\n",
       "}\n",
       "\n",
       "#sk-container-id-3 div.sk-parallel-item:first-child::after {\n",
       "  align-self: flex-end;\n",
       "  width: 50%;\n",
       "}\n",
       "\n",
       "#sk-container-id-3 div.sk-parallel-item:last-child::after {\n",
       "  align-self: flex-start;\n",
       "  width: 50%;\n",
       "}\n",
       "\n",
       "#sk-container-id-3 div.sk-parallel-item:only-child::after {\n",
       "  width: 0;\n",
       "}\n",
       "\n",
       "/* Serial-specific style estimator block */\n",
       "\n",
       "#sk-container-id-3 div.sk-serial {\n",
       "  display: flex;\n",
       "  flex-direction: column;\n",
       "  align-items: center;\n",
       "  background-color: var(--sklearn-color-background);\n",
       "  padding-right: 1em;\n",
       "  padding-left: 1em;\n",
       "}\n",
       "\n",
       "\n",
       "/* Toggleable style: style used for estimator/Pipeline/ColumnTransformer box that is\n",
       "clickable and can be expanded/collapsed.\n",
       "- Pipeline and ColumnTransformer use this feature and define the default style\n",
       "- Estimators will overwrite some part of the style using the `sk-estimator` class\n",
       "*/\n",
       "\n",
       "/* Pipeline and ColumnTransformer style (default) */\n",
       "\n",
       "#sk-container-id-3 div.sk-toggleable {\n",
       "  /* Default theme specific background. It is overwritten whether we have a\n",
       "  specific estimator or a Pipeline/ColumnTransformer */\n",
       "  background-color: var(--sklearn-color-background);\n",
       "}\n",
       "\n",
       "/* Toggleable label */\n",
       "#sk-container-id-3 label.sk-toggleable__label {\n",
       "  cursor: pointer;\n",
       "  display: block;\n",
       "  width: 100%;\n",
       "  margin-bottom: 0;\n",
       "  padding: 0.5em;\n",
       "  box-sizing: border-box;\n",
       "  text-align: center;\n",
       "}\n",
       "\n",
       "#sk-container-id-3 label.sk-toggleable__label-arrow:before {\n",
       "  /* Arrow on the left of the label */\n",
       "  content: \"▸\";\n",
       "  float: left;\n",
       "  margin-right: 0.25em;\n",
       "  color: var(--sklearn-color-icon);\n",
       "}\n",
       "\n",
       "#sk-container-id-3 label.sk-toggleable__label-arrow:hover:before {\n",
       "  color: var(--sklearn-color-text);\n",
       "}\n",
       "\n",
       "/* Toggleable content - dropdown */\n",
       "\n",
       "#sk-container-id-3 div.sk-toggleable__content {\n",
       "  max-height: 0;\n",
       "  max-width: 0;\n",
       "  overflow: hidden;\n",
       "  text-align: left;\n",
       "  /* unfitted */\n",
       "  background-color: var(--sklearn-color-unfitted-level-0);\n",
       "}\n",
       "\n",
       "#sk-container-id-3 div.sk-toggleable__content.fitted {\n",
       "  /* fitted */\n",
       "  background-color: var(--sklearn-color-fitted-level-0);\n",
       "}\n",
       "\n",
       "#sk-container-id-3 div.sk-toggleable__content pre {\n",
       "  margin: 0.2em;\n",
       "  border-radius: 0.25em;\n",
       "  color: var(--sklearn-color-text);\n",
       "  /* unfitted */\n",
       "  background-color: var(--sklearn-color-unfitted-level-0);\n",
       "}\n",
       "\n",
       "#sk-container-id-3 div.sk-toggleable__content.fitted pre {\n",
       "  /* unfitted */\n",
       "  background-color: var(--sklearn-color-fitted-level-0);\n",
       "}\n",
       "\n",
       "#sk-container-id-3 input.sk-toggleable__control:checked~div.sk-toggleable__content {\n",
       "  /* Expand drop-down */\n",
       "  max-height: 200px;\n",
       "  max-width: 100%;\n",
       "  overflow: auto;\n",
       "}\n",
       "\n",
       "#sk-container-id-3 input.sk-toggleable__control:checked~label.sk-toggleable__label-arrow:before {\n",
       "  content: \"▾\";\n",
       "}\n",
       "\n",
       "/* Pipeline/ColumnTransformer-specific style */\n",
       "\n",
       "#sk-container-id-3 div.sk-label input.sk-toggleable__control:checked~label.sk-toggleable__label {\n",
       "  color: var(--sklearn-color-text);\n",
       "  background-color: var(--sklearn-color-unfitted-level-2);\n",
       "}\n",
       "\n",
       "#sk-container-id-3 div.sk-label.fitted input.sk-toggleable__control:checked~label.sk-toggleable__label {\n",
       "  background-color: var(--sklearn-color-fitted-level-2);\n",
       "}\n",
       "\n",
       "/* Estimator-specific style */\n",
       "\n",
       "/* Colorize estimator box */\n",
       "#sk-container-id-3 div.sk-estimator input.sk-toggleable__control:checked~label.sk-toggleable__label {\n",
       "  /* unfitted */\n",
       "  background-color: var(--sklearn-color-unfitted-level-2);\n",
       "}\n",
       "\n",
       "#sk-container-id-3 div.sk-estimator.fitted input.sk-toggleable__control:checked~label.sk-toggleable__label {\n",
       "  /* fitted */\n",
       "  background-color: var(--sklearn-color-fitted-level-2);\n",
       "}\n",
       "\n",
       "#sk-container-id-3 div.sk-label label.sk-toggleable__label,\n",
       "#sk-container-id-3 div.sk-label label {\n",
       "  /* The background is the default theme color */\n",
       "  color: var(--sklearn-color-text-on-default-background);\n",
       "}\n",
       "\n",
       "/* On hover, darken the color of the background */\n",
       "#sk-container-id-3 div.sk-label:hover label.sk-toggleable__label {\n",
       "  color: var(--sklearn-color-text);\n",
       "  background-color: var(--sklearn-color-unfitted-level-2);\n",
       "}\n",
       "\n",
       "/* Label box, darken color on hover, fitted */\n",
       "#sk-container-id-3 div.sk-label.fitted:hover label.sk-toggleable__label.fitted {\n",
       "  color: var(--sklearn-color-text);\n",
       "  background-color: var(--sklearn-color-fitted-level-2);\n",
       "}\n",
       "\n",
       "/* Estimator label */\n",
       "\n",
       "#sk-container-id-3 div.sk-label label {\n",
       "  font-family: monospace;\n",
       "  font-weight: bold;\n",
       "  display: inline-block;\n",
       "  line-height: 1.2em;\n",
       "}\n",
       "\n",
       "#sk-container-id-3 div.sk-label-container {\n",
       "  text-align: center;\n",
       "}\n",
       "\n",
       "/* Estimator-specific */\n",
       "#sk-container-id-3 div.sk-estimator {\n",
       "  font-family: monospace;\n",
       "  border: 1px dotted var(--sklearn-color-border-box);\n",
       "  border-radius: 0.25em;\n",
       "  box-sizing: border-box;\n",
       "  margin-bottom: 0.5em;\n",
       "  /* unfitted */\n",
       "  background-color: var(--sklearn-color-unfitted-level-0);\n",
       "}\n",
       "\n",
       "#sk-container-id-3 div.sk-estimator.fitted {\n",
       "  /* fitted */\n",
       "  background-color: var(--sklearn-color-fitted-level-0);\n",
       "}\n",
       "\n",
       "/* on hover */\n",
       "#sk-container-id-3 div.sk-estimator:hover {\n",
       "  /* unfitted */\n",
       "  background-color: var(--sklearn-color-unfitted-level-2);\n",
       "}\n",
       "\n",
       "#sk-container-id-3 div.sk-estimator.fitted:hover {\n",
       "  /* fitted */\n",
       "  background-color: var(--sklearn-color-fitted-level-2);\n",
       "}\n",
       "\n",
       "/* Specification for estimator info (e.g. \"i\" and \"?\") */\n",
       "\n",
       "/* Common style for \"i\" and \"?\" */\n",
       "\n",
       ".sk-estimator-doc-link,\n",
       "a:link.sk-estimator-doc-link,\n",
       "a:visited.sk-estimator-doc-link {\n",
       "  float: right;\n",
       "  font-size: smaller;\n",
       "  line-height: 1em;\n",
       "  font-family: monospace;\n",
       "  background-color: var(--sklearn-color-background);\n",
       "  border-radius: 1em;\n",
       "  height: 1em;\n",
       "  width: 1em;\n",
       "  text-decoration: none !important;\n",
       "  margin-left: 1ex;\n",
       "  /* unfitted */\n",
       "  border: var(--sklearn-color-unfitted-level-1) 1pt solid;\n",
       "  color: var(--sklearn-color-unfitted-level-1);\n",
       "}\n",
       "\n",
       ".sk-estimator-doc-link.fitted,\n",
       "a:link.sk-estimator-doc-link.fitted,\n",
       "a:visited.sk-estimator-doc-link.fitted {\n",
       "  /* fitted */\n",
       "  border: var(--sklearn-color-fitted-level-1) 1pt solid;\n",
       "  color: var(--sklearn-color-fitted-level-1);\n",
       "}\n",
       "\n",
       "/* On hover */\n",
       "div.sk-estimator:hover .sk-estimator-doc-link:hover,\n",
       ".sk-estimator-doc-link:hover,\n",
       "div.sk-label-container:hover .sk-estimator-doc-link:hover,\n",
       ".sk-estimator-doc-link:hover {\n",
       "  /* unfitted */\n",
       "  background-color: var(--sklearn-color-unfitted-level-3);\n",
       "  color: var(--sklearn-color-background);\n",
       "  text-decoration: none;\n",
       "}\n",
       "\n",
       "div.sk-estimator.fitted:hover .sk-estimator-doc-link.fitted:hover,\n",
       ".sk-estimator-doc-link.fitted:hover,\n",
       "div.sk-label-container:hover .sk-estimator-doc-link.fitted:hover,\n",
       ".sk-estimator-doc-link.fitted:hover {\n",
       "  /* fitted */\n",
       "  background-color: var(--sklearn-color-fitted-level-3);\n",
       "  color: var(--sklearn-color-background);\n",
       "  text-decoration: none;\n",
       "}\n",
       "\n",
       "/* Span, style for the box shown on hovering the info icon */\n",
       ".sk-estimator-doc-link span {\n",
       "  display: none;\n",
       "  z-index: 9999;\n",
       "  position: relative;\n",
       "  font-weight: normal;\n",
       "  right: .2ex;\n",
       "  padding: .5ex;\n",
       "  margin: .5ex;\n",
       "  width: min-content;\n",
       "  min-width: 20ex;\n",
       "  max-width: 50ex;\n",
       "  color: var(--sklearn-color-text);\n",
       "  box-shadow: 2pt 2pt 4pt #999;\n",
       "  /* unfitted */\n",
       "  background: var(--sklearn-color-unfitted-level-0);\n",
       "  border: .5pt solid var(--sklearn-color-unfitted-level-3);\n",
       "}\n",
       "\n",
       ".sk-estimator-doc-link.fitted span {\n",
       "  /* fitted */\n",
       "  background: var(--sklearn-color-fitted-level-0);\n",
       "  border: var(--sklearn-color-fitted-level-3);\n",
       "}\n",
       "\n",
       ".sk-estimator-doc-link:hover span {\n",
       "  display: block;\n",
       "}\n",
       "\n",
       "/* \"?\"-specific style due to the `<a>` HTML tag */\n",
       "\n",
       "#sk-container-id-3 a.estimator_doc_link {\n",
       "  float: right;\n",
       "  font-size: 1rem;\n",
       "  line-height: 1em;\n",
       "  font-family: monospace;\n",
       "  background-color: var(--sklearn-color-background);\n",
       "  border-radius: 1rem;\n",
       "  height: 1rem;\n",
       "  width: 1rem;\n",
       "  text-decoration: none;\n",
       "  /* unfitted */\n",
       "  color: var(--sklearn-color-unfitted-level-1);\n",
       "  border: var(--sklearn-color-unfitted-level-1) 1pt solid;\n",
       "}\n",
       "\n",
       "#sk-container-id-3 a.estimator_doc_link.fitted {\n",
       "  /* fitted */\n",
       "  border: var(--sklearn-color-fitted-level-1) 1pt solid;\n",
       "  color: var(--sklearn-color-fitted-level-1);\n",
       "}\n",
       "\n",
       "/* On hover */\n",
       "#sk-container-id-3 a.estimator_doc_link:hover {\n",
       "  /* unfitted */\n",
       "  background-color: var(--sklearn-color-unfitted-level-3);\n",
       "  color: var(--sklearn-color-background);\n",
       "  text-decoration: none;\n",
       "}\n",
       "\n",
       "#sk-container-id-3 a.estimator_doc_link.fitted:hover {\n",
       "  /* fitted */\n",
       "  background-color: var(--sklearn-color-fitted-level-3);\n",
       "}\n",
       "</style><div id=\"sk-container-id-3\" class=\"sk-top-container\"><div class=\"sk-text-repr-fallback\"><pre>DecisionTreeClassifier(criterion=&#x27;entropy&#x27;, max_depth=15, min_samples_leaf=6,\n",
       "                       min_samples_split=21, random_state=12345)</pre><b>In a Jupyter environment, please rerun this cell to show the HTML representation or trust the notebook. <br />On GitHub, the HTML representation is unable to render, please try loading this page with nbviewer.org.</b></div><div class=\"sk-container\" hidden><div class=\"sk-item\"><div class=\"sk-estimator fitted sk-toggleable\"><input class=\"sk-toggleable__control sk-hidden--visually\" id=\"sk-estimator-id-3\" type=\"checkbox\" checked><label for=\"sk-estimator-id-3\" class=\"sk-toggleable__label fitted sk-toggleable__label-arrow fitted\">&nbsp;&nbsp;DecisionTreeClassifier<a class=\"sk-estimator-doc-link fitted\" rel=\"noreferrer\" target=\"_blank\" href=\"https://scikit-learn.org/1.5/modules/generated/sklearn.tree.DecisionTreeClassifier.html\">?<span>Documentation for DecisionTreeClassifier</span></a><span class=\"sk-estimator-doc-link fitted\">i<span>Fitted</span></span></label><div class=\"sk-toggleable__content fitted\"><pre>DecisionTreeClassifier(criterion=&#x27;entropy&#x27;, max_depth=15, min_samples_leaf=6,\n",
       "                       min_samples_split=21, random_state=12345)</pre></div> </div></div></div></div>"
      ],
      "text/plain": [
       "DecisionTreeClassifier(criterion='entropy', max_depth=15, min_samples_leaf=6,\n",
       "                       min_samples_split=21, random_state=12345)"
      ]
     },
     "execution_count": 48,
     "metadata": {},
     "output_type": "execute_result"
    }
   ],
   "source": [
    "# Show best model\n",
    "best_model"
   ]
  },
  {
   "cell_type": "code",
   "execution_count": 49,
   "metadata": {},
   "outputs": [
    {
     "data": {
      "image/png": "[encoded data removed]",
      "text/plain": [
       "<Figure size 800x400 with 1 Axes>"
      ]
     },
     "metadata": {},
     "output_type": "display_data"
    },
    {
     "data": {
      "image/png": "[encoded data removed]",
      "text/plain": [
       "<Figure size 800x400 with 1 Axes>"
      ]
     },
     "metadata": {},
     "output_type": "display_data"
    },
    {
     "data": {
      "image/png": "[encoded data removed]",
      "text/plain": [
       "<Figure size 800x400 with 1 Axes>"
      ]
     },
     "metadata": {},
     "output_type": "display_data"
    }
   ],
   "source": [
    "# Plot the distributions of test scores versus parameters; had trouble with subplot\n",
    "for column in loop_result_df.columns:\n",
    "    if column != 'accuracy' and column != 'criterion':\n",
    "        sns_lineplot(data = loop_result_df, \n",
    "                     x = column, y = 'accuracy', \n",
    "                     title = f'{column} on Accuracy',\n",
    "                     figsize = (8, 4),\n",
    "                     hue = 'criterion')\n",
    "        "
   ]
  },
  {
   "cell_type": "markdown",
   "metadata": {},
   "source": [
    "I find the results of the test very interesting. Looking at the three charts we see a mix of `gini` and `entropy` criterion types over-performning and under-performing when compared to each other. Overall however, models with `entropy` criterion have better accuracies than those of `gini`, which actually goes against my expectations. I spent a significant time adjusting the parameter values to see if this was a fluke case, as most of the top performing models are `gini`, but the top performing model was `entropy`. \n",
    "More specifically, we can see a decrease in accuracy after a `max_depth` of around 8. `min_samples_split` appears to have a significant drop after 28, for `gini` models and 30 for `entropy` models. The `min_samples_leaf` on accuracy tends to show positive growth for `gini` models up until 14, whereas `entropy` models decline after `min_samples_leaf` size of 10. \n",
    "\n",
    "In summary our best model parameters for the Decision Tree Model are below:\n",
    " - `Max Depth`: **15**\n",
    " - `Min Samples Split`: **21**\n",
    " - `Min Samples Leaf`: **6**\n",
    " - `Criterion`: **entropy**\n",
    " - `Resulting Accuracy Score`: **79.94%**\n",
    "\n",
    "[Back to Contents](#contents)"
   ]
  },
  {
   "cell_type": "markdown",
   "metadata": {},
   "source": [
    "### Random Forest ###\n",
    "<a id='forest'></a>\n",
    "\n",
    "Through a lot of work, our Decision Tree was decently accurate, and satisfied the requirements of the project, but let's try some more models and see if we can increase the accuracy further. We will next develop a _Random Forest_ model. This model uses numerous decision trees to generate a more accurate prediction. \n",
    "\n",
    "[Link to Random Forest Documentation](https://scikit-learn.org/stable/modules/generated/sklearn.ensemble.RandomForestClassifier.html)"
   ]
  },
  {
   "cell_type": "code",
   "execution_count": 30,
   "metadata": {},
   "outputs": [],
   "source": [
    "# Initialize lists, dicts, and parameters\n",
    "model_param_list_forest = []\n",
    "accuracy_list_forest = []\n",
    "best_model_forest = {}\n",
    "best_model_data_forest = {'hyperparameters': None, 'accuracy': 0}\n",
    "\n",
    "# start broad, then narrow down\n",
    "param_grid_forest = {\n",
    "    'n_estimators': [x for x in range(20, 100, 10)],\n",
    "    'max_depth': [x for x in range(10, 26, 2)],\n",
    "    'min_samples_split': [x for x in range(2, 6)],\n",
    "    'min_samples_leaf': [1, 2, 3],\n",
    "    'criterion': ['gini', 'entropy']\n",
    "}"
   ]
  },
  {
   "cell_type": "code",
   "execution_count": 31,
   "metadata": {},
   "outputs": [
    {
     "name": "stdout",
     "output_type": "stream",
     "text": [
      "Best Model Parameters: {'n_estimators': 50, 'max_depth': 12, 'min_samples_split': 2, 'min_samples_leaf': 2, 'criterion': 'entropy'}\n",
      "Best Accuracy 0.8055987558320373\n"
     ]
    }
   ],
   "source": [
    "# Re-use loop with slight modifications; appx run  time ~ 4 mins\n",
    "keys, values = zip(*param_grid_forest.items())\n",
    "\n",
    "for param_value in product(*values):\n",
    "    model_params = dict(zip(keys, param_value))\n",
    "\n",
    "    model = RandomForestClassifier(**model_params, random_state = 12345)\n",
    "\n",
    "    model.fit(feature_train, target_train) #train current model\n",
    "    acc_f = model.score(feature_val, target_val) #obtain accuracy for current model\n",
    "\n",
    "    # Store each parameter list and accuracy score for the current model\n",
    "    model_param_list_forest.append(model_params)\n",
    "    accuracy_list_forest.append(acc_f)\n",
    "\n",
    "    # Save best model data found\n",
    "    if acc_f > best_model_data_forest['accuracy']:\n",
    "        best_model_forest = model\n",
    "        best_model_data_forest['hyperparameters'] = model_params\n",
    "        best_model_data_forest['accuracy'] = acc_f\n",
    "\n",
    "forest_result_df = pd.DataFrame({'params': model_param_list_forest, 'accuracy': accuracy_list_forest}) #currently contains dictionary as value of params column\n",
    "\n",
    "# unpack the dictionary in 'params'\n",
    "forest_result_df = pd.concat([pd.json_normalize(forest_result_df['params']), forest_result_df['accuracy']], axis = 1)\n",
    "\n",
    "print(\"Best Model Parameters:\", best_model_data_forest['hyperparameters'])\n",
    "print(\"Best Accuracy\", best_model_data_forest['accuracy'])"
   ]
  },
  {
   "cell_type": "code",
   "execution_count": 32,
   "metadata": {},
   "outputs": [
    {
     "data": {
      "text/html": [
       "<div>\n",
       "<style scoped>\n",
       "    .dataframe tbody tr th:only-of-type {\n",
       "        vertical-align: middle;\n",
       "    }\n",
       "\n",
       "    .dataframe tbody tr th {\n",
       "        vertical-align: top;\n",
       "    }\n",
       "\n",
       "    .dataframe thead th {\n",
       "        text-align: right;\n",
       "    }\n",
       "</style>\n",
       "<table border=\"1\" class=\"dataframe\">\n",
       "  <thead>\n",
       "    <tr style=\"text-align: right;\">\n",
       "      <th></th>\n",
       "      <th>n_estimators</th>\n",
       "      <th>max_depth</th>\n",
       "      <th>min_samples_split</th>\n",
       "      <th>min_samples_leaf</th>\n",
       "      <th>criterion</th>\n",
       "      <th>accuracy</th>\n",
       "    </tr>\n",
       "  </thead>\n",
       "  <tbody>\n",
       "    <tr>\n",
       "      <th>0</th>\n",
       "      <td>50</td>\n",
       "      <td>12</td>\n",
       "      <td>3</td>\n",
       "      <td>2</td>\n",
       "      <td>entropy</td>\n",
       "      <td>0.805599</td>\n",
       "    </tr>\n",
       "    <tr>\n",
       "      <th>1</th>\n",
       "      <td>80</td>\n",
       "      <td>20</td>\n",
       "      <td>2</td>\n",
       "      <td>1</td>\n",
       "      <td>entropy</td>\n",
       "      <td>0.805599</td>\n",
       "    </tr>\n",
       "    <tr>\n",
       "      <th>2</th>\n",
       "      <td>50</td>\n",
       "      <td>12</td>\n",
       "      <td>2</td>\n",
       "      <td>2</td>\n",
       "      <td>entropy</td>\n",
       "      <td>0.805599</td>\n",
       "    </tr>\n",
       "    <tr>\n",
       "      <th>3</th>\n",
       "      <td>70</td>\n",
       "      <td>22</td>\n",
       "      <td>2</td>\n",
       "      <td>1</td>\n",
       "      <td>entropy</td>\n",
       "      <td>0.805599</td>\n",
       "    </tr>\n",
       "    <tr>\n",
       "      <th>4</th>\n",
       "      <td>70</td>\n",
       "      <td>20</td>\n",
       "      <td>2</td>\n",
       "      <td>1</td>\n",
       "      <td>entropy</td>\n",
       "      <td>0.805599</td>\n",
       "    </tr>\n",
       "    <tr>\n",
       "      <th>5</th>\n",
       "      <td>50</td>\n",
       "      <td>12</td>\n",
       "      <td>4</td>\n",
       "      <td>2</td>\n",
       "      <td>entropy</td>\n",
       "      <td>0.805599</td>\n",
       "    </tr>\n",
       "    <tr>\n",
       "      <th>6</th>\n",
       "      <td>90</td>\n",
       "      <td>22</td>\n",
       "      <td>2</td>\n",
       "      <td>1</td>\n",
       "      <td>entropy</td>\n",
       "      <td>0.804044</td>\n",
       "    </tr>\n",
       "    <tr>\n",
       "      <th>7</th>\n",
       "      <td>40</td>\n",
       "      <td>16</td>\n",
       "      <td>2</td>\n",
       "      <td>1</td>\n",
       "      <td>entropy</td>\n",
       "      <td>0.804044</td>\n",
       "    </tr>\n",
       "    <tr>\n",
       "      <th>8</th>\n",
       "      <td>20</td>\n",
       "      <td>16</td>\n",
       "      <td>3</td>\n",
       "      <td>1</td>\n",
       "      <td>entropy</td>\n",
       "      <td>0.804044</td>\n",
       "    </tr>\n",
       "    <tr>\n",
       "      <th>9</th>\n",
       "      <td>90</td>\n",
       "      <td>12</td>\n",
       "      <td>3</td>\n",
       "      <td>2</td>\n",
       "      <td>entropy</td>\n",
       "      <td>0.804044</td>\n",
       "    </tr>\n",
       "    <tr>\n",
       "      <th>10</th>\n",
       "      <td>80</td>\n",
       "      <td>22</td>\n",
       "      <td>2</td>\n",
       "      <td>1</td>\n",
       "      <td>entropy</td>\n",
       "      <td>0.804044</td>\n",
       "    </tr>\n",
       "    <tr>\n",
       "      <th>11</th>\n",
       "      <td>90</td>\n",
       "      <td>12</td>\n",
       "      <td>2</td>\n",
       "      <td>2</td>\n",
       "      <td>entropy</td>\n",
       "      <td>0.804044</td>\n",
       "    </tr>\n",
       "    <tr>\n",
       "      <th>12</th>\n",
       "      <td>40</td>\n",
       "      <td>22</td>\n",
       "      <td>2</td>\n",
       "      <td>1</td>\n",
       "      <td>entropy</td>\n",
       "      <td>0.804044</td>\n",
       "    </tr>\n",
       "    <tr>\n",
       "      <th>13</th>\n",
       "      <td>90</td>\n",
       "      <td>12</td>\n",
       "      <td>4</td>\n",
       "      <td>2</td>\n",
       "      <td>entropy</td>\n",
       "      <td>0.804044</td>\n",
       "    </tr>\n",
       "    <tr>\n",
       "      <th>14</th>\n",
       "      <td>40</td>\n",
       "      <td>24</td>\n",
       "      <td>5</td>\n",
       "      <td>1</td>\n",
       "      <td>gini</td>\n",
       "      <td>0.802488</td>\n",
       "    </tr>\n",
       "    <tr>\n",
       "      <th>15</th>\n",
       "      <td>50</td>\n",
       "      <td>20</td>\n",
       "      <td>2</td>\n",
       "      <td>1</td>\n",
       "      <td>entropy</td>\n",
       "      <td>0.802488</td>\n",
       "    </tr>\n",
       "    <tr>\n",
       "      <th>16</th>\n",
       "      <td>50</td>\n",
       "      <td>24</td>\n",
       "      <td>5</td>\n",
       "      <td>1</td>\n",
       "      <td>gini</td>\n",
       "      <td>0.802488</td>\n",
       "    </tr>\n",
       "    <tr>\n",
       "      <th>17</th>\n",
       "      <td>60</td>\n",
       "      <td>14</td>\n",
       "      <td>4</td>\n",
       "      <td>1</td>\n",
       "      <td>entropy</td>\n",
       "      <td>0.802488</td>\n",
       "    </tr>\n",
       "    <tr>\n",
       "      <th>18</th>\n",
       "      <td>60</td>\n",
       "      <td>22</td>\n",
       "      <td>2</td>\n",
       "      <td>1</td>\n",
       "      <td>entropy</td>\n",
       "      <td>0.802488</td>\n",
       "    </tr>\n",
       "    <tr>\n",
       "      <th>19</th>\n",
       "      <td>70</td>\n",
       "      <td>24</td>\n",
       "      <td>2</td>\n",
       "      <td>1</td>\n",
       "      <td>entropy</td>\n",
       "      <td>0.802488</td>\n",
       "    </tr>\n",
       "  </tbody>\n",
       "</table>\n",
       "</div>"
      ],
      "text/plain": [
       "    n_estimators  max_depth  min_samples_split  min_samples_leaf criterion  \\\n",
       "0             50         12                  3                 2   entropy   \n",
       "1             80         20                  2                 1   entropy   \n",
       "2             50         12                  2                 2   entropy   \n",
       "3             70         22                  2                 1   entropy   \n",
       "4             70         20                  2                 1   entropy   \n",
       "5             50         12                  4                 2   entropy   \n",
       "6             90         22                  2                 1   entropy   \n",
       "7             40         16                  2                 1   entropy   \n",
       "8             20         16                  3                 1   entropy   \n",
       "9             90         12                  3                 2   entropy   \n",
       "10            80         22                  2                 1   entropy   \n",
       "11            90         12                  2                 2   entropy   \n",
       "12            40         22                  2                 1   entropy   \n",
       "13            90         12                  4                 2   entropy   \n",
       "14            40         24                  5                 1      gini   \n",
       "15            50         20                  2                 1   entropy   \n",
       "16            50         24                  5                 1      gini   \n",
       "17            60         14                  4                 1   entropy   \n",
       "18            60         22                  2                 1   entropy   \n",
       "19            70         24                  2                 1   entropy   \n",
       "\n",
       "    accuracy  \n",
       "0   0.805599  \n",
       "1   0.805599  \n",
       "2   0.805599  \n",
       "3   0.805599  \n",
       "4   0.805599  \n",
       "5   0.805599  \n",
       "6   0.804044  \n",
       "7   0.804044  \n",
       "8   0.804044  \n",
       "9   0.804044  \n",
       "10  0.804044  \n",
       "11  0.804044  \n",
       "12  0.804044  \n",
       "13  0.804044  \n",
       "14  0.802488  \n",
       "15  0.802488  \n",
       "16  0.802488  \n",
       "17  0.802488  \n",
       "18  0.802488  \n",
       "19  0.802488  "
      ]
     },
     "execution_count": 32,
     "metadata": {},
     "output_type": "execute_result"
    }
   ],
   "source": [
    "forest_result_df.sort_values(by = 'accuracy', ascending = False).reset_index(drop=True).head(20)"
   ]
  },
  {
   "cell_type": "code",
   "execution_count": 33,
   "metadata": {},
   "outputs": [
    {
     "data": {
      "text/html": [
       "<style>#sk-container-id-2 {\n",
       "  /* Definition of color scheme common for light and dark mode */\n",
       "  --sklearn-color-text: black;\n",
       "  --sklearn-color-line: gray;\n",
       "  /* Definition of color scheme for unfitted estimators */\n",
       "  --sklearn-color-unfitted-level-0: #fff5e6;\n",
       "  --sklearn-color-unfitted-level-1: #f6e4d2;\n",
       "  --sklearn-color-unfitted-level-2: #ffe0b3;\n",
       "  --sklearn-color-unfitted-level-3: chocolate;\n",
       "  /* Definition of color scheme for fitted estimators */\n",
       "  --sklearn-color-fitted-level-0: #f0f8ff;\n",
       "  --sklearn-color-fitted-level-1: #d4ebff;\n",
       "  --sklearn-color-fitted-level-2: #b3dbfd;\n",
       "  --sklearn-color-fitted-level-3: cornflowerblue;\n",
       "\n",
       "  /* Specific color for light theme */\n",
       "  --sklearn-color-text-on-default-background: var(--sg-text-color, var(--theme-code-foreground, var(--jp-content-font-color1, black)));\n",
       "  --sklearn-color-background: var(--sg-background-color, var(--theme-background, var(--jp-layout-color0, white)));\n",
       "  --sklearn-color-border-box: var(--sg-text-color, var(--theme-code-foreground, var(--jp-content-font-color1, black)));\n",
       "  --sklearn-color-icon: #696969;\n",
       "\n",
       "  @media (prefers-color-scheme: dark) {\n",
       "    /* Redefinition of color scheme for dark theme */\n",
       "    --sklearn-color-text-on-default-background: var(--sg-text-color, var(--theme-code-foreground, var(--jp-content-font-color1, white)));\n",
       "    --sklearn-color-background: var(--sg-background-color, var(--theme-background, var(--jp-layout-color0, #111)));\n",
       "    --sklearn-color-border-box: var(--sg-text-color, var(--theme-code-foreground, var(--jp-content-font-color1, white)));\n",
       "    --sklearn-color-icon: #878787;\n",
       "  }\n",
       "}\n",
       "\n",
       "#sk-container-id-2 {\n",
       "  color: var(--sklearn-color-text);\n",
       "}\n",
       "\n",
       "#sk-container-id-2 pre {\n",
       "  padding: 0;\n",
       "}\n",
       "\n",
       "#sk-container-id-2 input.sk-hidden--visually {\n",
       "  border: 0;\n",
       "  clip: rect(1px 1px 1px 1px);\n",
       "  clip: rect(1px, 1px, 1px, 1px);\n",
       "  height: 1px;\n",
       "  margin: -1px;\n",
       "  overflow: hidden;\n",
       "  padding: 0;\n",
       "  position: absolute;\n",
       "  width: 1px;\n",
       "}\n",
       "\n",
       "#sk-container-id-2 div.sk-dashed-wrapped {\n",
       "  border: 1px dashed var(--sklearn-color-line);\n",
       "  margin: 0 0.4em 0.5em 0.4em;\n",
       "  box-sizing: border-box;\n",
       "  padding-bottom: 0.4em;\n",
       "  background-color: var(--sklearn-color-background);\n",
       "}\n",
       "\n",
       "#sk-container-id-2 div.sk-container {\n",
       "  /* jupyter's `normalize.less` sets `[hidden] { display: none; }`\n",
       "     but bootstrap.min.css set `[hidden] { display: none !important; }`\n",
       "     so we also need the `!important` here to be able to override the\n",
       "     default hidden behavior on the sphinx rendered scikit-learn.org.\n",
       "     See: https://github.com/scikit-learn/scikit-learn/issues/21755 */\n",
       "  display: inline-block !important;\n",
       "  position: relative;\n",
       "}\n",
       "\n",
       "#sk-container-id-2 div.sk-text-repr-fallback {\n",
       "  display: none;\n",
       "}\n",
       "\n",
       "div.sk-parallel-item,\n",
       "div.sk-serial,\n",
       "div.sk-item {\n",
       "  /* draw centered vertical line to link estimators */\n",
       "  background-image: linear-gradient(var(--sklearn-color-text-on-default-background), var(--sklearn-color-text-on-default-background));\n",
       "  background-size: 2px 100%;\n",
       "  background-repeat: no-repeat;\n",
       "  background-position: center center;\n",
       "}\n",
       "\n",
       "/* Parallel-specific style estimator block */\n",
       "\n",
       "#sk-container-id-2 div.sk-parallel-item::after {\n",
       "  content: \"\";\n",
       "  width: 100%;\n",
       "  border-bottom: 2px solid var(--sklearn-color-text-on-default-background);\n",
       "  flex-grow: 1;\n",
       "}\n",
       "\n",
       "#sk-container-id-2 div.sk-parallel {\n",
       "  display: flex;\n",
       "  align-items: stretch;\n",
       "  justify-content: center;\n",
       "  background-color: var(--sklearn-color-background);\n",
       "  position: relative;\n",
       "}\n",
       "\n",
       "#sk-container-id-2 div.sk-parallel-item {\n",
       "  display: flex;\n",
       "  flex-direction: column;\n",
       "}\n",
       "\n",
       "#sk-container-id-2 div.sk-parallel-item:first-child::after {\n",
       "  align-self: flex-end;\n",
       "  width: 50%;\n",
       "}\n",
       "\n",
       "#sk-container-id-2 div.sk-parallel-item:last-child::after {\n",
       "  align-self: flex-start;\n",
       "  width: 50%;\n",
       "}\n",
       "\n",
       "#sk-container-id-2 div.sk-parallel-item:only-child::after {\n",
       "  width: 0;\n",
       "}\n",
       "\n",
       "/* Serial-specific style estimator block */\n",
       "\n",
       "#sk-container-id-2 div.sk-serial {\n",
       "  display: flex;\n",
       "  flex-direction: column;\n",
       "  align-items: center;\n",
       "  background-color: var(--sklearn-color-background);\n",
       "  padding-right: 1em;\n",
       "  padding-left: 1em;\n",
       "}\n",
       "\n",
       "\n",
       "/* Toggleable style: style used for estimator/Pipeline/ColumnTransformer box that is\n",
       "clickable and can be expanded/collapsed.\n",
       "- Pipeline and ColumnTransformer use this feature and define the default style\n",
       "- Estimators will overwrite some part of the style using the `sk-estimator` class\n",
       "*/\n",
       "\n",
       "/* Pipeline and ColumnTransformer style (default) */\n",
       "\n",
       "#sk-container-id-2 div.sk-toggleable {\n",
       "  /* Default theme specific background. It is overwritten whether we have a\n",
       "  specific estimator or a Pipeline/ColumnTransformer */\n",
       "  background-color: var(--sklearn-color-background);\n",
       "}\n",
       "\n",
       "/* Toggleable label */\n",
       "#sk-container-id-2 label.sk-toggleable__label {\n",
       "  cursor: pointer;\n",
       "  display: block;\n",
       "  width: 100%;\n",
       "  margin-bottom: 0;\n",
       "  padding: 0.5em;\n",
       "  box-sizing: border-box;\n",
       "  text-align: center;\n",
       "}\n",
       "\n",
       "#sk-container-id-2 label.sk-toggleable__label-arrow:before {\n",
       "  /* Arrow on the left of the label */\n",
       "  content: \"▸\";\n",
       "  float: left;\n",
       "  margin-right: 0.25em;\n",
       "  color: var(--sklearn-color-icon);\n",
       "}\n",
       "\n",
       "#sk-container-id-2 label.sk-toggleable__label-arrow:hover:before {\n",
       "  color: var(--sklearn-color-text);\n",
       "}\n",
       "\n",
       "/* Toggleable content - dropdown */\n",
       "\n",
       "#sk-container-id-2 div.sk-toggleable__content {\n",
       "  max-height: 0;\n",
       "  max-width: 0;\n",
       "  overflow: hidden;\n",
       "  text-align: left;\n",
       "  /* unfitted */\n",
       "  background-color: var(--sklearn-color-unfitted-level-0);\n",
       "}\n",
       "\n",
       "#sk-container-id-2 div.sk-toggleable__content.fitted {\n",
       "  /* fitted */\n",
       "  background-color: var(--sklearn-color-fitted-level-0);\n",
       "}\n",
       "\n",
       "#sk-container-id-2 div.sk-toggleable__content pre {\n",
       "  margin: 0.2em;\n",
       "  border-radius: 0.25em;\n",
       "  color: var(--sklearn-color-text);\n",
       "  /* unfitted */\n",
       "  background-color: var(--sklearn-color-unfitted-level-0);\n",
       "}\n",
       "\n",
       "#sk-container-id-2 div.sk-toggleable__content.fitted pre {\n",
       "  /* unfitted */\n",
       "  background-color: var(--sklearn-color-fitted-level-0);\n",
       "}\n",
       "\n",
       "#sk-container-id-2 input.sk-toggleable__control:checked~div.sk-toggleable__content {\n",
       "  /* Expand drop-down */\n",
       "  max-height: 200px;\n",
       "  max-width: 100%;\n",
       "  overflow: auto;\n",
       "}\n",
       "\n",
       "#sk-container-id-2 input.sk-toggleable__control:checked~label.sk-toggleable__label-arrow:before {\n",
       "  content: \"▾\";\n",
       "}\n",
       "\n",
       "/* Pipeline/ColumnTransformer-specific style */\n",
       "\n",
       "#sk-container-id-2 div.sk-label input.sk-toggleable__control:checked~label.sk-toggleable__label {\n",
       "  color: var(--sklearn-color-text);\n",
       "  background-color: var(--sklearn-color-unfitted-level-2);\n",
       "}\n",
       "\n",
       "#sk-container-id-2 div.sk-label.fitted input.sk-toggleable__control:checked~label.sk-toggleable__label {\n",
       "  background-color: var(--sklearn-color-fitted-level-2);\n",
       "}\n",
       "\n",
       "/* Estimator-specific style */\n",
       "\n",
       "/* Colorize estimator box */\n",
       "#sk-container-id-2 div.sk-estimator input.sk-toggleable__control:checked~label.sk-toggleable__label {\n",
       "  /* unfitted */\n",
       "  background-color: var(--sklearn-color-unfitted-level-2);\n",
       "}\n",
       "\n",
       "#sk-container-id-2 div.sk-estimator.fitted input.sk-toggleable__control:checked~label.sk-toggleable__label {\n",
       "  /* fitted */\n",
       "  background-color: var(--sklearn-color-fitted-level-2);\n",
       "}\n",
       "\n",
       "#sk-container-id-2 div.sk-label label.sk-toggleable__label,\n",
       "#sk-container-id-2 div.sk-label label {\n",
       "  /* The background is the default theme color */\n",
       "  color: var(--sklearn-color-text-on-default-background);\n",
       "}\n",
       "\n",
       "/* On hover, darken the color of the background */\n",
       "#sk-container-id-2 div.sk-label:hover label.sk-toggleable__label {\n",
       "  color: var(--sklearn-color-text);\n",
       "  background-color: var(--sklearn-color-unfitted-level-2);\n",
       "}\n",
       "\n",
       "/* Label box, darken color on hover, fitted */\n",
       "#sk-container-id-2 div.sk-label.fitted:hover label.sk-toggleable__label.fitted {\n",
       "  color: var(--sklearn-color-text);\n",
       "  background-color: var(--sklearn-color-fitted-level-2);\n",
       "}\n",
       "\n",
       "/* Estimator label */\n",
       "\n",
       "#sk-container-id-2 div.sk-label label {\n",
       "  font-family: monospace;\n",
       "  font-weight: bold;\n",
       "  display: inline-block;\n",
       "  line-height: 1.2em;\n",
       "}\n",
       "\n",
       "#sk-container-id-2 div.sk-label-container {\n",
       "  text-align: center;\n",
       "}\n",
       "\n",
       "/* Estimator-specific */\n",
       "#sk-container-id-2 div.sk-estimator {\n",
       "  font-family: monospace;\n",
       "  border: 1px dotted var(--sklearn-color-border-box);\n",
       "  border-radius: 0.25em;\n",
       "  box-sizing: border-box;\n",
       "  margin-bottom: 0.5em;\n",
       "  /* unfitted */\n",
       "  background-color: var(--sklearn-color-unfitted-level-0);\n",
       "}\n",
       "\n",
       "#sk-container-id-2 div.sk-estimator.fitted {\n",
       "  /* fitted */\n",
       "  background-color: var(--sklearn-color-fitted-level-0);\n",
       "}\n",
       "\n",
       "/* on hover */\n",
       "#sk-container-id-2 div.sk-estimator:hover {\n",
       "  /* unfitted */\n",
       "  background-color: var(--sklearn-color-unfitted-level-2);\n",
       "}\n",
       "\n",
       "#sk-container-id-2 div.sk-estimator.fitted:hover {\n",
       "  /* fitted */\n",
       "  background-color: var(--sklearn-color-fitted-level-2);\n",
       "}\n",
       "\n",
       "/* Specification for estimator info (e.g. \"i\" and \"?\") */\n",
       "\n",
       "/* Common style for \"i\" and \"?\" */\n",
       "\n",
       ".sk-estimator-doc-link,\n",
       "a:link.sk-estimator-doc-link,\n",
       "a:visited.sk-estimator-doc-link {\n",
       "  float: right;\n",
       "  font-size: smaller;\n",
       "  line-height: 1em;\n",
       "  font-family: monospace;\n",
       "  background-color: var(--sklearn-color-background);\n",
       "  border-radius: 1em;\n",
       "  height: 1em;\n",
       "  width: 1em;\n",
       "  text-decoration: none !important;\n",
       "  margin-left: 1ex;\n",
       "  /* unfitted */\n",
       "  border: var(--sklearn-color-unfitted-level-1) 1pt solid;\n",
       "  color: var(--sklearn-color-unfitted-level-1);\n",
       "}\n",
       "\n",
       ".sk-estimator-doc-link.fitted,\n",
       "a:link.sk-estimator-doc-link.fitted,\n",
       "a:visited.sk-estimator-doc-link.fitted {\n",
       "  /* fitted */\n",
       "  border: var(--sklearn-color-fitted-level-1) 1pt solid;\n",
       "  color: var(--sklearn-color-fitted-level-1);\n",
       "}\n",
       "\n",
       "/* On hover */\n",
       "div.sk-estimator:hover .sk-estimator-doc-link:hover,\n",
       ".sk-estimator-doc-link:hover,\n",
       "div.sk-label-container:hover .sk-estimator-doc-link:hover,\n",
       ".sk-estimator-doc-link:hover {\n",
       "  /* unfitted */\n",
       "  background-color: var(--sklearn-color-unfitted-level-3);\n",
       "  color: var(--sklearn-color-background);\n",
       "  text-decoration: none;\n",
       "}\n",
       "\n",
       "div.sk-estimator.fitted:hover .sk-estimator-doc-link.fitted:hover,\n",
       ".sk-estimator-doc-link.fitted:hover,\n",
       "div.sk-label-container:hover .sk-estimator-doc-link.fitted:hover,\n",
       ".sk-estimator-doc-link.fitted:hover {\n",
       "  /* fitted */\n",
       "  background-color: var(--sklearn-color-fitted-level-3);\n",
       "  color: var(--sklearn-color-background);\n",
       "  text-decoration: none;\n",
       "}\n",
       "\n",
       "/* Span, style for the box shown on hovering the info icon */\n",
       ".sk-estimator-doc-link span {\n",
       "  display: none;\n",
       "  z-index: 9999;\n",
       "  position: relative;\n",
       "  font-weight: normal;\n",
       "  right: .2ex;\n",
       "  padding: .5ex;\n",
       "  margin: .5ex;\n",
       "  width: min-content;\n",
       "  min-width: 20ex;\n",
       "  max-width: 50ex;\n",
       "  color: var(--sklearn-color-text);\n",
       "  box-shadow: 2pt 2pt 4pt #999;\n",
       "  /* unfitted */\n",
       "  background: var(--sklearn-color-unfitted-level-0);\n",
       "  border: .5pt solid var(--sklearn-color-unfitted-level-3);\n",
       "}\n",
       "\n",
       ".sk-estimator-doc-link.fitted span {\n",
       "  /* fitted */\n",
       "  background: var(--sklearn-color-fitted-level-0);\n",
       "  border: var(--sklearn-color-fitted-level-3);\n",
       "}\n",
       "\n",
       ".sk-estimator-doc-link:hover span {\n",
       "  display: block;\n",
       "}\n",
       "\n",
       "/* \"?\"-specific style due to the `<a>` HTML tag */\n",
       "\n",
       "#sk-container-id-2 a.estimator_doc_link {\n",
       "  float: right;\n",
       "  font-size: 1rem;\n",
       "  line-height: 1em;\n",
       "  font-family: monospace;\n",
       "  background-color: var(--sklearn-color-background);\n",
       "  border-radius: 1rem;\n",
       "  height: 1rem;\n",
       "  width: 1rem;\n",
       "  text-decoration: none;\n",
       "  /* unfitted */\n",
       "  color: var(--sklearn-color-unfitted-level-1);\n",
       "  border: var(--sklearn-color-unfitted-level-1) 1pt solid;\n",
       "}\n",
       "\n",
       "#sk-container-id-2 a.estimator_doc_link.fitted {\n",
       "  /* fitted */\n",
       "  border: var(--sklearn-color-fitted-level-1) 1pt solid;\n",
       "  color: var(--sklearn-color-fitted-level-1);\n",
       "}\n",
       "\n",
       "/* On hover */\n",
       "#sk-container-id-2 a.estimator_doc_link:hover {\n",
       "  /* unfitted */\n",
       "  background-color: var(--sklearn-color-unfitted-level-3);\n",
       "  color: var(--sklearn-color-background);\n",
       "  text-decoration: none;\n",
       "}\n",
       "\n",
       "#sk-container-id-2 a.estimator_doc_link.fitted:hover {\n",
       "  /* fitted */\n",
       "  background-color: var(--sklearn-color-fitted-level-3);\n",
       "}\n",
       "</style><div id=\"sk-container-id-2\" class=\"sk-top-container\"><div class=\"sk-text-repr-fallback\"><pre>RandomForestClassifier(criterion=&#x27;entropy&#x27;, max_depth=12, min_samples_leaf=2,\n",
       "                       n_estimators=50, random_state=12345)</pre><b>In a Jupyter environment, please rerun this cell to show the HTML representation or trust the notebook. <br />On GitHub, the HTML representation is unable to render, please try loading this page with nbviewer.org.</b></div><div class=\"sk-container\" hidden><div class=\"sk-item\"><div class=\"sk-estimator fitted sk-toggleable\"><input class=\"sk-toggleable__control sk-hidden--visually\" id=\"sk-estimator-id-2\" type=\"checkbox\" checked><label for=\"sk-estimator-id-2\" class=\"sk-toggleable__label fitted sk-toggleable__label-arrow fitted\">&nbsp;&nbsp;RandomForestClassifier<a class=\"sk-estimator-doc-link fitted\" rel=\"noreferrer\" target=\"_blank\" href=\"https://scikit-learn.org/1.5/modules/generated/sklearn.ensemble.RandomForestClassifier.html\">?<span>Documentation for RandomForestClassifier</span></a><span class=\"sk-estimator-doc-link fitted\">i<span>Fitted</span></span></label><div class=\"sk-toggleable__content fitted\"><pre>RandomForestClassifier(criterion=&#x27;entropy&#x27;, max_depth=12, min_samples_leaf=2,\n",
       "                       n_estimators=50, random_state=12345)</pre></div> </div></div></div></div>"
      ],
      "text/plain": [
       "RandomForestClassifier(criterion='entropy', max_depth=12, min_samples_leaf=2,\n",
       "                       n_estimators=50, random_state=12345)"
      ]
     },
     "execution_count": 33,
     "metadata": {},
     "output_type": "execute_result"
    }
   ],
   "source": [
    "# Show best model\n",
    "best_model_forest"
   ]
  },
  {
   "cell_type": "code",
   "execution_count": 34,
   "metadata": {},
   "outputs": [
    {
     "data": {
      "image/png": "[encoded data removed]",
      "text/plain": [
       "<Figure size 800x400 with 1 Axes>"
      ]
     },
     "metadata": {},
     "output_type": "display_data"
    },
    {
     "data": {
      "image/png": "[encoded data removed]",
      "text/plain": [
       "<Figure size 800x400 with 1 Axes>"
      ]
     },
     "metadata": {},
     "output_type": "display_data"
    },
    {
     "data": {
      "image/png": "[encoded data removed]",
      "text/plain": [
       "<Figure size 800x400 with 1 Axes>"
      ]
     },
     "metadata": {},
     "output_type": "display_data"
    },
    {
     "data": {
      "image/png": "[encoded data removed]",
      "text/plain": [
       "<Figure size 800x400 with 1 Axes>"
      ]
     },
     "metadata": {},
     "output_type": "display_data"
    }
   ],
   "source": [
    "# Plot the distributions of test scores versus parameters; \n",
    "for column in forest_result_df.columns:\n",
    "    if column != 'accuracy' and column != 'criterion':\n",
    "        sns_lineplot(data = forest_result_df, \n",
    "                     x = column, y = 'accuracy', \n",
    "                     title = f'{column} on Accuracy',\n",
    "                     figsize = (8, 4),\n",
    "                     hue = 'criterion')"
   ]
  },
  {
   "cell_type": "markdown",
   "metadata": {},
   "source": [
    "Looking at the distributions, the `entropy` models are the clear winners, providing significantly higher accuracy overall than the `gini` models. We can that both model types have a peak in accuracy around 50 estimators, although `entropy` peaks again at 70, it's not a suprise that the best model contains 50 estimators. As for `max_depth`, `gini` models are almost uniform in their accuracy across the entire measured scale, whereas `entropy` models have a significant peak at 12, and decline considerably down to the level of the `gini` models post 12. The `min_samples_split` and `min_samples_leaf` parameters showed their greatest results at low numbers, and therefore their ranges are small. We can see the advantage `entropy` models provide from these two distributions at this scaling.  \n",
    "\n",
    "In summary our best model parameters for the RandomForest Model are below:\n",
    " - `Max Depth`: **12**\n",
    " - `Min Samples Split`: **2**\n",
    " - `Min Samples Leaf`: **2**\n",
    " - `Criterion`: **entropy**\n",
    " - `Resulting Accuracy Score`: **80.56%**\n",
    "\n",
    "[Back to Contents](#contents)"
   ]
  },
  {
   "cell_type": "markdown",
   "metadata": {
    "scrolled": true
   },
   "source": [
    "### Logistic Regression ###\n",
    "<a id='logic'></a>"
   ]
  },
  {
   "cell_type": "markdown",
   "metadata": {},
   "source": [
    "Our last model to review will be the Logistic Regression model. I have chosen this moodel to avoid the decision tree based regression models due to their similarities with the models already studied. The decision also pertained to the need to stay close to classification models.The Logistic Regression model also fits nicely into binary classification target data, which is exactly what we have. \n",
    "\n",
    "[Link to Logistic Regression Documentation](https://scikit-learn.org/stable/modules/generated/sklearn.linear_model.LogisticRegression.html)\n",
    "\n",
    "According to the documentation, we can use the `C` parameter to adjust the strength of the regularization. This can help prevent overfitting by penalizing large coefficients in the model. Generally, if `C` is large,  the penalty is small, allowing the mode to fit the training data more closely; consequently, this can lead to a model that doesn't generalize as well than if `C` is small. So we will use a wide range of `C` values to see which Logistic Regression model produces the greatest accuracy. \n",
    "\n",
    "Also based on the documentation, we will not be comparing `criterion` types for this model. Instead, we will compare `solvers`. The two we will compare are `liblinear` and `newton-cholesky` since they are great solvers for binary classifications. \n",
    "\n",
    "One more point to make before beginning; feature scaling is needed here since the features have different very different scales. With `calls` and `messages` ranging from 0 to 244, and `mb_used` ranging from 0 to 42000+. We will utilize the `StandardScaler` from `sklearn.preprocessing`."
   ]
  },
  {
   "cell_type": "code",
   "execution_count": 35,
   "metadata": {},
   "outputs": [],
   "source": [
    "# Apply the scaling\n",
    "scaler = StandardScaler()\n",
    "feature_train_scal = scaler.fit_transform(feature_train)\n",
    "feature_val_scal = scaler.fit_transform(feature_val)\n",
    "feature_test_scal = scaler.fit_transform(feature_test)"
   ]
  },
  {
   "cell_type": "code",
   "execution_count": 40,
   "metadata": {},
   "outputs": [],
   "source": [
    "# Initialize lists, dicts, and parameters\n",
    "model_param_list_lr = []\n",
    "accuracy_list_lr = []\n",
    "best_model_lr = {}\n",
    "best_model_data_lr = {'hyperparameters': None, 'accuracy': 0}\n",
    "\n",
    "# Going for a wide range of C values; start broad then narrow down\n",
    "param_grid_lr = {\n",
    "    'solver': ['liblinear', 'newton-cholesky'],\n",
    "    #'C': [0.001, 0.01, 0.1, 1, 10, 100]\n",
    "    'C': [x for x in np.arange(0.0001, 0.03, 0.00005)]\n",
    "    #'C': [y for y in np.arange(0.001, 0.01, 0.001)] + [x for x in np.arange(0.01, 100, .01)]\n",
    "}"
   ]
  },
  {
   "cell_type": "code",
   "execution_count": 41,
   "metadata": {},
   "outputs": [
    {
     "name": "stdout",
     "output_type": "stream",
     "text": [
      "Best Model Parameters: {'solver': 'newton-cholesky', 'C': 0.0063500000000000015}\n",
      "Best Accuracy 0.7356143079315708\n"
     ]
    }
   ],
   "source": [
    "# Apply loop method - appx run time ~~ instantaneous\n",
    "keys, values = zip(*param_grid_lr.items())\n",
    "\n",
    "for param_value in product(*values):\n",
    "    model_params = dict(zip(keys, param_value))\n",
    "\n",
    "    model = LogisticRegression(**model_params, random_state = 12345, max_iter = 10000)\n",
    "\n",
    "    model.fit(feature_train_scal, target_train) #train current model\n",
    "    acc_lr = model.score(feature_val_scal, target_val) #obtain accuracy for current model\n",
    "\n",
    "    # Store each parameter list and accuracy score for the current model\n",
    "    model_param_list_lr.append(model_params)\n",
    "    accuracy_list_lr.append(acc_lr)\n",
    "\n",
    "    # Save best model data found\n",
    "    if acc_lr > best_model_data_lr['accuracy']:\n",
    "        best_model_lr = model\n",
    "        best_model_data_lr['hyperparameters'] = model_params\n",
    "        best_model_data_lr['accuracy'] = acc_lr\n",
    "\n",
    "\n",
    "lr_result_df = pd.DataFrame({'params': model_param_list_lr, 'accuracy': accuracy_list_lr}) #currently contains dictionary as value of params column\n",
    "\n",
    "# unpack the dictionary in 'params'\n",
    "lr_result_df = pd.concat([pd.json_normalize(lr_result_df['params']), lr_result_df['accuracy']], axis = 1)\n",
    "\n",
    "print(\"Best Model Parameters:\", best_model_data_lr['hyperparameters'])\n",
    "print(\"Best Accuracy\", best_model_data_lr['accuracy'])"
   ]
  },
  {
   "cell_type": "code",
   "execution_count": 42,
   "metadata": {},
   "outputs": [
    {
     "data": {
      "text/html": [
       "<div>\n",
       "<style scoped>\n",
       "    .dataframe tbody tr th:only-of-type {\n",
       "        vertical-align: middle;\n",
       "    }\n",
       "\n",
       "    .dataframe tbody tr th {\n",
       "        vertical-align: top;\n",
       "    }\n",
       "\n",
       "    .dataframe thead th {\n",
       "        text-align: right;\n",
       "    }\n",
       "</style>\n",
       "<table border=\"1\" class=\"dataframe\">\n",
       "  <thead>\n",
       "    <tr style=\"text-align: right;\">\n",
       "      <th></th>\n",
       "      <th>solver</th>\n",
       "      <th>C</th>\n",
       "      <th>accuracy</th>\n",
       "    </tr>\n",
       "  </thead>\n",
       "  <tbody>\n",
       "    <tr>\n",
       "      <th>0</th>\n",
       "      <td>newton-cholesky</td>\n",
       "      <td>0.00660</td>\n",
       "      <td>0.735614</td>\n",
       "    </tr>\n",
       "    <tr>\n",
       "      <th>1</th>\n",
       "      <td>newton-cholesky</td>\n",
       "      <td>0.00635</td>\n",
       "      <td>0.735614</td>\n",
       "    </tr>\n",
       "    <tr>\n",
       "      <th>2</th>\n",
       "      <td>newton-cholesky</td>\n",
       "      <td>0.00640</td>\n",
       "      <td>0.735614</td>\n",
       "    </tr>\n",
       "    <tr>\n",
       "      <th>3</th>\n",
       "      <td>newton-cholesky</td>\n",
       "      <td>0.00645</td>\n",
       "      <td>0.735614</td>\n",
       "    </tr>\n",
       "    <tr>\n",
       "      <th>4</th>\n",
       "      <td>newton-cholesky</td>\n",
       "      <td>0.00650</td>\n",
       "      <td>0.735614</td>\n",
       "    </tr>\n",
       "    <tr>\n",
       "      <th>5</th>\n",
       "      <td>newton-cholesky</td>\n",
       "      <td>0.00655</td>\n",
       "      <td>0.735614</td>\n",
       "    </tr>\n",
       "    <tr>\n",
       "      <th>6</th>\n",
       "      <td>newton-cholesky</td>\n",
       "      <td>0.00665</td>\n",
       "      <td>0.735614</td>\n",
       "    </tr>\n",
       "    <tr>\n",
       "      <th>7</th>\n",
       "      <td>newton-cholesky</td>\n",
       "      <td>0.00670</td>\n",
       "      <td>0.735614</td>\n",
       "    </tr>\n",
       "    <tr>\n",
       "      <th>8</th>\n",
       "      <td>newton-cholesky</td>\n",
       "      <td>0.01085</td>\n",
       "      <td>0.734059</td>\n",
       "    </tr>\n",
       "    <tr>\n",
       "      <th>9</th>\n",
       "      <td>newton-cholesky</td>\n",
       "      <td>0.00610</td>\n",
       "      <td>0.734059</td>\n",
       "    </tr>\n",
       "  </tbody>\n",
       "</table>\n",
       "</div>"
      ],
      "text/plain": [
       "            solver        C  accuracy\n",
       "0  newton-cholesky  0.00660  0.735614\n",
       "1  newton-cholesky  0.00635  0.735614\n",
       "2  newton-cholesky  0.00640  0.735614\n",
       "3  newton-cholesky  0.00645  0.735614\n",
       "4  newton-cholesky  0.00650  0.735614\n",
       "5  newton-cholesky  0.00655  0.735614\n",
       "6  newton-cholesky  0.00665  0.735614\n",
       "7  newton-cholesky  0.00670  0.735614\n",
       "8  newton-cholesky  0.01085  0.734059\n",
       "9  newton-cholesky  0.00610  0.734059"
      ]
     },
     "execution_count": 42,
     "metadata": {},
     "output_type": "execute_result"
    }
   ],
   "source": [
    "lr_result_df.sort_values(by = 'accuracy', ascending = False).reset_index(drop = True).head(10)"
   ]
  },
  {
   "cell_type": "code",
   "execution_count": 43,
   "metadata": {},
   "outputs": [
    {
     "data": {
      "image/png": "[encoded data removed]",
      "text/plain": [
       "<Figure size 1000x600 with 1 Axes>"
      ]
     },
     "metadata": {},
     "output_type": "display_data"
    }
   ],
   "source": [
    "# Plot line plot\n",
    "sns_lineplot(data = lr_result_df,\n",
    "             x = 'C', y = 'accuracy',\n",
    "             hue = 'solver',\n",
    "             figsize = (10,6),\n",
    "             title = \"Logistic Regression Models\")"
   ]
  },
  {
   "cell_type": "markdown",
   "metadata": {},
   "source": [
    "We can observe some interesting back an forth. As `C` is smaller, the `liblinear` models produce higher accuracy until somewhere around `C = 0.01` the `newton-cholesky` models provide more accurate predictions. At around `C = 0.025` mark, the two models converge. No surprise that our best Logistic Regression model was `newton-cholesky` based on the top 10 models. \n",
    "\n",
    "In summary our best model parameters for the Logistic Regression model are below:\n",
    " - `C`: **0.0064**\n",
    " - `Max Iterations`: **10,000**\n",
    " - `Solver`: **newton-cheloskey**\n",
    " - `Resulting Accuracy Score`: **73.56%**\n",
    "\n",
    "This model does not meet Megaline's accuracy requirements and therefore will not be in our consideration for the final model. \n",
    "\n",
    "[Back to Contents](#contents)"
   ]
  },
  {
   "cell_type": "markdown",
   "metadata": {},
   "source": [
    "## Final Model Selection and Evaluation ##\n",
    "<a id='final'></a>"
   ]
  },
  {
   "cell_type": "code",
   "execution_count": 67,
   "metadata": {
    "scrolled": true
   },
   "outputs": [
    {
     "data": {
      "text/html": [
       "<div>\n",
       "<style scoped>\n",
       "    .dataframe tbody tr th:only-of-type {\n",
       "        vertical-align: middle;\n",
       "    }\n",
       "\n",
       "    .dataframe tbody tr th {\n",
       "        vertical-align: top;\n",
       "    }\n",
       "\n",
       "    .dataframe thead th {\n",
       "        text-align: right;\n",
       "    }\n",
       "</style>\n",
       "<table border=\"1\" class=\"dataframe\">\n",
       "  <thead>\n",
       "    <tr style=\"text-align: right;\">\n",
       "      <th></th>\n",
       "      <th>Model Type</th>\n",
       "      <th>Hyperparameters</th>\n",
       "      <th>Accuracy</th>\n",
       "    </tr>\n",
       "  </thead>\n",
       "  <tbody>\n",
       "    <tr>\n",
       "      <th>0</th>\n",
       "      <td>Decision Tree</td>\n",
       "      <td>{'max_depth': 15, 'min_samples_split': 21, 'mi...</td>\n",
       "      <td>0.799378</td>\n",
       "    </tr>\n",
       "    <tr>\n",
       "      <th>1</th>\n",
       "      <td>Random Forest</td>\n",
       "      <td>{'n_estimators': 50, 'max_depth': 12, 'min_sam...</td>\n",
       "      <td>0.805599</td>\n",
       "    </tr>\n",
       "    <tr>\n",
       "      <th>2</th>\n",
       "      <td>Logistic Regression</td>\n",
       "      <td>{'solver': 'newton-cholesky', 'C': 0.006350000...</td>\n",
       "      <td>0.735614</td>\n",
       "    </tr>\n",
       "  </tbody>\n",
       "</table>\n",
       "</div>"
      ],
      "text/plain": [
       "            Model Type                                    Hyperparameters  \\\n",
       "0        Decision Tree  {'max_depth': 15, 'min_samples_split': 21, 'mi...   \n",
       "1        Random Forest  {'n_estimators': 50, 'max_depth': 12, 'min_sam...   \n",
       "2  Logistic Regression  {'solver': 'newton-cholesky', 'C': 0.006350000...   \n",
       "\n",
       "   Accuracy  \n",
       "0  0.799378  \n",
       "1  0.805599  \n",
       "2  0.735614  "
      ]
     },
     "execution_count": 67,
     "metadata": {},
     "output_type": "execute_result"
    }
   ],
   "source": [
    "# Refine their dictionaries via model labels. \n",
    "best_model_data['model_type'] = 'Decision Tree'\n",
    "best_model_data_forest['model_type'] = 'Random Forest'\n",
    "best_model_data_lr['model_type'] = 'Logistic Regression'\n",
    "\n",
    "# Create DataFrames\n",
    "model_dicts = [best_model_data, best_model_data_forest, best_model_data_lr]\n",
    "model_dfs = []\n",
    "\n",
    "for dict in model_dicts:\n",
    "    dict = pd.DataFrame.from_dict([dict])\n",
    "    model_dfs.append(dict)\n",
    "\n",
    "# Combine their data into one DataFrame\n",
    "all_model_data = pd.concat(model_dfs, ignore_index = True)\n",
    "all_model_data = all_model_data[['model_type', 'hyperparameters', 'accuracy']]\n",
    "all_model_data.columns = [col.replace('_', ' ').title() for col in all_model_data.columns]\n",
    "all_model_data"
   ]
  },
  {
   "cell_type": "markdown",
   "metadata": {},
   "source": [
    "The accuracies of the `Decision Tree` and `Random Forest` models are quite close, the the logistic regression model being less accurate by a decent margin than our top 2 performing models. Therefore, based on this validation data, **we will choose the `Random Forest` as the final model**. \n",
    "\n",
    "[Back to Contents](#contents)"
   ]
  },
  {
   "cell_type": "markdown",
   "metadata": {},
   "source": [
    "### 5.1 Evaluating the Performance of the Final Model with the Test Set ###\n",
    "<a id='eval'></a>"
   ]
  },
  {
   "cell_type": "code",
   "execution_count": 74,
   "metadata": {},
   "outputs": [
    {
     "name": "stdout",
     "output_type": "stream",
     "text": [
      "The accuracy of our best Random Forest model on the test set is: 79.63%.\n"
     ]
    }
   ],
   "source": [
    "# Assign as final model\n",
    "final_model = best_model_forest\n",
    "\n",
    "# Perform test\n",
    "final_preds = final_model.predict(feature_test)\n",
    "rf_acc = accuracy_score(target_test, final_preds)\n",
    "print(f\"The accuracy of our best Random Forest model on the test set is: {rf_acc:.2%}.\")"
   ]
  },
  {
   "cell_type": "markdown",
   "metadata": {},
   "source": [
    "**The accuracy of our Random Forest Classifier model is 79.63% which meets the expectations of Megaline.**\n",
    "\n",
    "[Back to Contents](#contents)"
   ]
  },
  {
   "cell_type": "markdown",
   "metadata": {},
   "source": [
    "## General Conclustion\n",
    "<a id='conclusion'></a>"
   ]
  },
  {
   "cell_type": "markdown",
   "metadata": {},
   "source": [
    "**Data Exploration**\n",
    "\n",
    "At this stage, we verified the dataset to be in good condition, only converting two columns to integers for aesthetics, no other practical changes were necessary. Megaline has stated that the data would be ready to develop a binary classification model, which turned out to be true. \n",
    "\n",
    "**Exploratory Data Analysis**\n",
    "\n",
    "The distributions of the feature data is not perfectly normal, but close. There are a large number of outliers in the `message` data. Therefore, we decided that we would use feature scaling before certain models were being trained, namely the `logistic regression model`. The standardization helps preserve the distributions. \n",
    "\n",
    "**Development and Tuning of Different Models and Selection of Final Model**\n",
    "\n",
    "The dataset was split into a ratio of 60:20:20 for training:validation:test, respectively. We trained a total of three machine learning models: the `Decision Tree`, the `Random Forest` and the `Logist Regression` models. The `Random Forest` model was our best performing model, although the `Decision Tree` model was close. Therefore, for the final model to train the test data, the `Random Forest` model was chosen. \n",
    "\n",
    "**Final Model Performance**\n",
    "\n",
    "After testing our best `Random Forest` model with the test set, we achieved an accuracy score of **79.63%**, which meets Megaline's expectations."
   ]
  },
  {
   "cell_type": "markdown",
   "metadata": {},
   "source": [
    "<div class=\"alert alert-block alert-success\">\n",
    "<b>Reviewer's comment</b> <a class=\"tocSkip\"></a>\n",
    "\n",
    "You did an amazing job! Absolutely everything in your work was done at a truly professional level. I was very impressed with your work. I will be very interested to see the next projects you perform:)\n",
    "\n",
    "</div>"
   ]
  },
  {
   "cell_type": "code",
   "execution_count": null,
   "metadata": {},
   "outputs": [],
   "source": []
  }
 ],
 "metadata": {
  "ExecuteTimeLog": [
   {
    "duration": 316,
    "start_time": "2024-07-28T22:24:31.517Z"
   },
   {
    "duration": 20,
    "start_time": "2024-07-28T22:24:41.617Z"
   },
   {
    "duration": 20,
    "start_time": "2024-07-28T22:24:43.416Z"
   },
   {
    "duration": 5194,
    "start_time": "2024-07-28T22:24:52.436Z"
   },
   {
    "duration": 882,
    "start_time": "2024-07-28T22:24:57.634Z"
   },
   {
    "duration": 1,
    "start_time": "2024-07-28T22:24:58.518Z"
   },
   {
    "duration": 16,
    "start_time": "2024-07-28T22:25:07.025Z"
   },
   {
    "duration": 18,
    "start_time": "2024-07-28T22:25:09.307Z"
   },
   {
    "duration": 24,
    "start_time": "2024-07-28T22:25:29.419Z"
   },
   {
    "duration": 13,
    "start_time": "2024-07-28T22:25:31.994Z"
   },
   {
    "duration": 12,
    "start_time": "2024-07-28T22:25:35.157Z"
   },
   {
    "duration": 13,
    "start_time": "2024-07-28T22:25:38.908Z"
   },
   {
    "duration": 13,
    "start_time": "2024-07-28T22:25:46.189Z"
   },
   {
    "duration": 10,
    "start_time": "2024-07-28T22:31:31.294Z"
   },
   {
    "duration": 8,
    "start_time": "2024-07-28T22:31:35.809Z"
   },
   {
    "duration": 8,
    "start_time": "2024-07-28T22:32:13.308Z"
   },
   {
    "duration": 18,
    "start_time": "2024-07-28T22:32:21.825Z"
   },
   {
    "duration": 10,
    "start_time": "2024-07-28T22:32:32.138Z"
   },
   {
    "duration": 7,
    "start_time": "2024-07-28T22:32:45.738Z"
   },
   {
    "duration": 8,
    "start_time": "2024-07-28T22:33:15.108Z"
   },
   {
    "duration": 4,
    "start_time": "2024-07-28T22:33:47.094Z"
   },
   {
    "duration": 12,
    "start_time": "2024-07-28T22:33:52.336Z"
   },
   {
    "duration": 13,
    "start_time": "2024-07-28T22:33:56.103Z"
   },
   {
    "duration": 8,
    "start_time": "2024-07-28T22:34:19.085Z"
   },
   {
    "duration": 24,
    "start_time": "2024-07-28T22:34:23.959Z"
   },
   {
    "duration": 4,
    "start_time": "2024-07-28T22:34:27.299Z"
   },
   {
    "duration": 24,
    "start_time": "2024-07-28T22:34:31.895Z"
   },
   {
    "duration": 23,
    "start_time": "2024-07-28T22:34:39.563Z"
   },
   {
    "duration": 12,
    "start_time": "2024-07-28T22:34:42.436Z"
   },
   {
    "duration": 7,
    "start_time": "2024-07-28T22:34:55.787Z"
   },
   {
    "duration": 22,
    "start_time": "2024-07-28T22:35:07.954Z"
   },
   {
    "duration": 8,
    "start_time": "2024-07-28T22:35:39.080Z"
   },
   {
    "duration": 4,
    "start_time": "2024-07-28T22:36:04.409Z"
   },
   {
    "duration": 7,
    "start_time": "2024-07-28T22:36:08.030Z"
   },
   {
    "duration": 8,
    "start_time": "2024-07-28T22:37:40.135Z"
   },
   {
    "duration": 34,
    "start_time": "2024-07-28T22:47:31.737Z"
   },
   {
    "duration": 5238,
    "start_time": "2024-07-29T00:41:48.431Z"
   },
   {
    "duration": 17,
    "start_time": "2024-07-29T00:41:53.673Z"
   },
   {
    "duration": 27,
    "start_time": "2024-07-29T00:41:53.693Z"
   },
   {
    "duration": 16,
    "start_time": "2024-07-29T00:41:53.723Z"
   },
   {
    "duration": 11,
    "start_time": "2024-07-29T00:41:53.744Z"
   },
   {
    "duration": 8,
    "start_time": "2024-07-29T00:41:53.758Z"
   },
   {
    "duration": 9,
    "start_time": "2024-07-29T00:41:53.807Z"
   },
   {
    "duration": 9,
    "start_time": "2024-07-29T00:41:53.819Z"
   },
   {
    "duration": 4,
    "start_time": "2024-07-29T00:41:53.831Z"
   },
   {
    "duration": 7,
    "start_time": "2024-07-29T00:41:53.839Z"
   },
   {
    "duration": 60,
    "start_time": "2024-07-29T00:41:53.849Z"
   },
   {
    "duration": 9,
    "start_time": "2024-07-29T00:41:53.911Z"
   },
   {
    "duration": 5,
    "start_time": "2024-07-29T00:41:53.923Z"
   },
   {
    "duration": 7,
    "start_time": "2024-07-29T00:41:53.933Z"
   },
   {
    "duration": 70,
    "start_time": "2024-07-29T00:41:53.942Z"
   },
   {
    "duration": 10,
    "start_time": "2024-07-29T01:14:59.508Z"
   },
   {
    "duration": 468,
    "start_time": "2024-07-29T01:15:07.078Z"
   },
   {
    "duration": 1136,
    "start_time": "2024-07-29T01:17:32.059Z"
   },
   {
    "duration": 1123,
    "start_time": "2024-07-29T01:35:38.271Z"
   },
   {
    "duration": 231,
    "start_time": "2024-07-29T01:39:44.894Z"
   },
   {
    "duration": 926,
    "start_time": "2024-07-29T01:40:04.284Z"
   },
   {
    "duration": 144,
    "start_time": "2024-07-29T01:40:36.875Z"
   },
   {
    "duration": 141,
    "start_time": "2024-07-29T01:40:48.321Z"
   },
   {
    "duration": 147,
    "start_time": "2024-07-29T01:40:54.147Z"
   },
   {
    "duration": 145,
    "start_time": "2024-07-29T01:40:58.864Z"
   },
   {
    "duration": 137,
    "start_time": "2024-07-29T01:41:03.352Z"
   },
   {
    "duration": 234,
    "start_time": "2024-07-29T01:41:47.527Z"
   },
   {
    "duration": 269,
    "start_time": "2024-07-29T01:43:54.857Z"
   },
   {
    "duration": 222,
    "start_time": "2024-07-29T01:44:35.454Z"
   },
   {
    "duration": 224,
    "start_time": "2024-07-29T01:45:25.194Z"
   },
   {
    "duration": 218,
    "start_time": "2024-07-29T01:45:36.688Z"
   },
   {
    "duration": 138,
    "start_time": "2024-07-29T01:46:45.044Z"
   },
   {
    "duration": 24,
    "start_time": "2024-07-29T01:54:45.027Z"
   },
   {
    "duration": 9,
    "start_time": "2024-07-29T01:54:57.205Z"
   },
   {
    "duration": 9,
    "start_time": "2024-07-29T01:55:11.610Z"
   },
   {
    "duration": 5,
    "start_time": "2024-07-29T02:22:52.155Z"
   },
   {
    "duration": 7,
    "start_time": "2024-07-29T02:26:20.050Z"
   },
   {
    "duration": 8,
    "start_time": "2024-07-29T02:59:59.113Z"
   },
   {
    "duration": 24,
    "start_time": "2024-07-29T03:44:38.066Z"
   },
   {
    "duration": 7,
    "start_time": "2024-07-29T03:44:42.597Z"
   },
   {
    "duration": 4,
    "start_time": "2024-07-29T03:44:44.550Z"
   },
   {
    "duration": 5,
    "start_time": "2024-07-29T03:45:04.218Z"
   },
   {
    "duration": 4,
    "start_time": "2024-07-29T03:45:43.799Z"
   },
   {
    "duration": 5,
    "start_time": "2024-07-29T03:46:19.592Z"
   },
   {
    "duration": 6,
    "start_time": "2024-07-29T03:46:45.669Z"
   },
   {
    "duration": 10,
    "start_time": "2024-07-29T03:50:19.426Z"
   },
   {
    "duration": 5,
    "start_time": "2024-07-29T03:50:21.044Z"
   },
   {
    "duration": 6,
    "start_time": "2024-07-29T03:51:07.225Z"
   },
   {
    "duration": 6,
    "start_time": "2024-07-29T03:51:16.177Z"
   },
   {
    "duration": 6,
    "start_time": "2024-07-29T03:51:20.455Z"
   },
   {
    "duration": 6,
    "start_time": "2024-07-29T03:51:28.595Z"
   },
   {
    "duration": 6,
    "start_time": "2024-07-29T03:51:47.686Z"
   },
   {
    "duration": 8,
    "start_time": "2024-07-29T03:55:24.443Z"
   },
   {
    "duration": 7,
    "start_time": "2024-07-29T03:56:30.725Z"
   },
   {
    "duration": 8,
    "start_time": "2024-07-29T03:57:07.334Z"
   },
   {
    "duration": 7,
    "start_time": "2024-07-29T03:57:15.811Z"
   },
   {
    "duration": 6,
    "start_time": "2024-07-29T03:58:49.509Z"
   },
   {
    "duration": 7,
    "start_time": "2024-07-29T03:58:56.059Z"
   },
   {
    "duration": 7,
    "start_time": "2024-07-29T03:59:36.099Z"
   },
   {
    "duration": 322,
    "start_time": "2024-07-30T01:33:17.646Z"
   },
   {
    "duration": 5237,
    "start_time": "2024-07-30T01:33:28.944Z"
   },
   {
    "duration": 21,
    "start_time": "2024-07-30T01:33:34.184Z"
   },
   {
    "duration": 25,
    "start_time": "2024-07-30T01:33:34.208Z"
   },
   {
    "duration": 15,
    "start_time": "2024-07-30T01:33:34.236Z"
   },
   {
    "duration": 9,
    "start_time": "2024-07-30T01:33:34.256Z"
   },
   {
    "duration": 8,
    "start_time": "2024-07-30T01:33:34.268Z"
   },
   {
    "duration": 48,
    "start_time": "2024-07-30T01:33:34.278Z"
   },
   {
    "duration": 8,
    "start_time": "2024-07-30T01:33:34.330Z"
   },
   {
    "duration": 5,
    "start_time": "2024-07-30T01:33:34.340Z"
   },
   {
    "duration": 8,
    "start_time": "2024-07-30T01:33:34.348Z"
   },
   {
    "duration": 13,
    "start_time": "2024-07-30T01:33:34.359Z"
   },
   {
    "duration": 8,
    "start_time": "2024-07-30T01:33:34.425Z"
   },
   {
    "duration": 5,
    "start_time": "2024-07-30T01:33:34.436Z"
   },
   {
    "duration": 7,
    "start_time": "2024-07-30T01:33:34.448Z"
   },
   {
    "duration": 68,
    "start_time": "2024-07-30T01:33:34.458Z"
   },
   {
    "duration": 1191,
    "start_time": "2024-07-30T01:33:34.528Z"
   },
   {
    "duration": 143,
    "start_time": "2024-07-30T01:33:35.722Z"
   },
   {
    "duration": 9,
    "start_time": "2024-07-30T01:33:35.869Z"
   },
   {
    "duration": 9,
    "start_time": "2024-07-30T01:33:35.881Z"
   },
   {
    "duration": 34,
    "start_time": "2024-07-30T01:33:35.892Z"
   },
   {
    "duration": 9,
    "start_time": "2024-07-30T01:33:35.930Z"
   },
   {
    "duration": 7,
    "start_time": "2024-07-30T01:33:35.942Z"
   },
   {
    "duration": 464,
    "start_time": "2024-07-30T01:33:35.953Z"
   },
   {
    "duration": 4,
    "start_time": "2024-07-30T01:33:58.304Z"
   },
   {
    "duration": 5,
    "start_time": "2024-07-30T01:35:50.066Z"
   },
   {
    "duration": 6,
    "start_time": "2024-07-30T02:00:53.961Z"
   },
   {
    "duration": 6,
    "start_time": "2024-07-30T02:07:03.179Z"
   },
   {
    "duration": 25,
    "start_time": "2024-07-30T02:17:58.905Z"
   },
   {
    "duration": 4,
    "start_time": "2024-07-30T02:18:02.427Z"
   },
   {
    "duration": 115,
    "start_time": "2024-07-30T02:18:04.181Z"
   },
   {
    "duration": 4,
    "start_time": "2024-07-30T02:18:11.802Z"
   },
   {
    "duration": 615,
    "start_time": "2024-07-30T02:18:36.660Z"
   },
   {
    "duration": 5,
    "start_time": "2024-07-30T02:19:51.205Z"
   },
   {
    "duration": 4,
    "start_time": "2024-07-30T02:19:52.692Z"
   },
   {
    "duration": 8902,
    "start_time": "2024-07-30T02:19:55.172Z"
   },
   {
    "duration": 5,
    "start_time": "2024-07-30T02:26:03.500Z"
   },
   {
    "duration": 4,
    "start_time": "2024-07-30T02:26:05.742Z"
   },
   {
    "duration": 29196,
    "start_time": "2024-07-30T02:26:08.122Z"
   },
   {
    "duration": 6,
    "start_time": "2024-07-30T02:32:16.808Z"
   },
   {
    "duration": 5,
    "start_time": "2024-07-30T02:32:58.769Z"
   },
   {
    "duration": 9,
    "start_time": "2024-07-30T02:38:09.608Z"
   },
   {
    "duration": 4,
    "start_time": "2024-07-30T02:40:03.510Z"
   },
   {
    "duration": 4,
    "start_time": "2024-07-30T02:40:05.323Z"
   },
   {
    "duration": 114747,
    "start_time": "2024-07-30T02:40:09.880Z"
   },
   {
    "duration": 7,
    "start_time": "2024-07-30T02:42:31.029Z"
   },
   {
    "duration": 6,
    "start_time": "2024-07-30T02:42:47.015Z"
   },
   {
    "duration": 14,
    "start_time": "2024-07-30T02:42:52.154Z"
   },
   {
    "duration": 6,
    "start_time": "2024-07-30T02:44:05.938Z"
   },
   {
    "duration": 5,
    "start_time": "2024-07-30T02:45:14.979Z"
   },
   {
    "duration": 3,
    "start_time": "2024-07-30T02:45:17.117Z"
   },
   {
    "duration": 61737,
    "start_time": "2024-07-30T02:45:18.938Z"
   },
   {
    "duration": 9,
    "start_time": "2024-07-30T02:46:48.564Z"
   },
   {
    "duration": 6,
    "start_time": "2024-07-30T02:47:07.391Z"
   },
   {
    "duration": 5,
    "start_time": "2024-07-30T02:47:17.714Z"
   },
   {
    "duration": 4,
    "start_time": "2024-07-30T02:47:19.675Z"
   },
   {
    "duration": 63684,
    "start_time": "2024-07-30T02:47:22.396Z"
   },
   {
    "duration": 7,
    "start_time": "2024-07-30T02:49:03.287Z"
   },
   {
    "duration": 6,
    "start_time": "2024-07-30T02:49:06.309Z"
   },
   {
    "duration": 9,
    "start_time": "2024-07-30T02:49:09.226Z"
   },
   {
    "duration": 5,
    "start_time": "2024-07-30T02:49:29.635Z"
   },
   {
    "duration": 4,
    "start_time": "2024-07-30T02:49:31.254Z"
   },
   {
    "duration": 29234,
    "start_time": "2024-07-30T02:49:32.374Z"
   },
   {
    "duration": 5,
    "start_time": "2024-07-30T02:50:06.484Z"
   },
   {
    "duration": 6,
    "start_time": "2024-07-30T02:50:09.619Z"
   },
   {
    "duration": 10,
    "start_time": "2024-07-30T02:50:13.035Z"
   },
   {
    "duration": 5,
    "start_time": "2024-07-30T02:50:40.508Z"
   },
   {
    "duration": 3,
    "start_time": "2024-07-30T02:50:42.238Z"
   },
   {
    "duration": 19853,
    "start_time": "2024-07-30T02:50:43.845Z"
   },
   {
    "duration": 5,
    "start_time": "2024-07-30T02:51:09.071Z"
   },
   {
    "duration": 5,
    "start_time": "2024-07-30T02:51:13.829Z"
   },
   {
    "duration": 9,
    "start_time": "2024-07-30T02:51:15.703Z"
   },
   {
    "duration": 5,
    "start_time": "2024-07-30T02:52:11.112Z"
   },
   {
    "duration": 7,
    "start_time": "2024-07-30T02:52:12.770Z"
   },
   {
    "duration": 279911,
    "start_time": "2024-07-30T02:52:14.973Z"
   },
   {
    "duration": 5,
    "start_time": "2024-07-30T02:59:41.462Z"
   },
   {
    "duration": 4,
    "start_time": "2024-07-30T02:59:43.089Z"
   },
   {
    "duration": 269164,
    "start_time": "2024-07-30T02:59:45.536Z"
   },
   {
    "duration": 6,
    "start_time": "2024-07-30T03:11:32.612Z"
   },
   {
    "duration": 6,
    "start_time": "2024-07-30T03:11:35.081Z"
   },
   {
    "duration": 9,
    "start_time": "2024-07-30T03:11:36.991Z"
   },
   {
    "duration": 5,
    "start_time": "2024-07-30T03:20:17.463Z"
   },
   {
    "duration": 4,
    "start_time": "2024-07-30T03:20:19.428Z"
   },
   {
    "duration": 19000,
    "start_time": "2024-07-30T03:20:20.542Z"
   },
   {
    "duration": 0,
    "start_time": "2024-07-30T03:20:39.545Z"
   },
   {
    "duration": 29382,
    "start_time": "2024-07-30T03:20:42.208Z"
   },
   {
    "duration": 5,
    "start_time": "2024-07-30T03:22:06.548Z"
   },
   {
    "duration": 6,
    "start_time": "2024-07-30T03:22:10.002Z"
   },
   {
    "duration": 8,
    "start_time": "2024-07-30T03:22:12.203Z"
   },
   {
    "duration": 5,
    "start_time": "2024-07-30T03:23:12.205Z"
   },
   {
    "duration": 6,
    "start_time": "2024-07-30T03:23:13.182Z"
   },
   {
    "duration": 29270,
    "start_time": "2024-07-30T03:23:14.194Z"
   },
   {
    "duration": 6,
    "start_time": "2024-07-30T03:23:51.283Z"
   },
   {
    "duration": 6,
    "start_time": "2024-07-30T03:23:56.203Z"
   },
   {
    "duration": 9,
    "start_time": "2024-07-30T03:23:58.381Z"
   },
   {
    "duration": 1610,
    "start_time": "2024-07-30T03:27:45.158Z"
   },
   {
    "duration": 12,
    "start_time": "2024-07-30T03:27:46.771Z"
   },
   {
    "duration": 18,
    "start_time": "2024-07-30T03:27:46.786Z"
   },
   {
    "duration": 31,
    "start_time": "2024-07-30T03:27:46.807Z"
   },
   {
    "duration": 9,
    "start_time": "2024-07-30T03:27:46.843Z"
   },
   {
    "duration": 8,
    "start_time": "2024-07-30T03:27:46.856Z"
   },
   {
    "duration": 7,
    "start_time": "2024-07-30T03:27:46.867Z"
   },
   {
    "duration": 9,
    "start_time": "2024-07-30T03:27:46.926Z"
   },
   {
    "duration": 5,
    "start_time": "2024-07-30T03:27:46.938Z"
   },
   {
    "duration": 7,
    "start_time": "2024-07-30T03:27:46.946Z"
   },
   {
    "duration": 13,
    "start_time": "2024-07-30T03:27:46.956Z"
   },
   {
    "duration": 54,
    "start_time": "2024-07-30T03:27:46.972Z"
   },
   {
    "duration": 5,
    "start_time": "2024-07-30T03:27:47.029Z"
   },
   {
    "duration": 6,
    "start_time": "2024-07-30T03:27:47.041Z"
   },
   {
    "duration": 31,
    "start_time": "2024-07-30T03:27:47.050Z"
   },
   {
    "duration": 1167,
    "start_time": "2024-07-30T03:27:47.084Z"
   },
   {
    "duration": 147,
    "start_time": "2024-07-30T03:27:48.254Z"
   },
   {
    "duration": 23,
    "start_time": "2024-07-30T03:27:48.404Z"
   },
   {
    "duration": 13,
    "start_time": "2024-07-30T03:27:48.430Z"
   },
   {
    "duration": 7,
    "start_time": "2024-07-30T03:27:48.446Z"
   },
   {
    "duration": 10,
    "start_time": "2024-07-30T03:27:48.457Z"
   },
   {
    "duration": 8,
    "start_time": "2024-07-30T03:27:48.470Z"
   },
   {
    "duration": 47,
    "start_time": "2024-07-30T03:27:48.481Z"
   },
   {
    "duration": 6,
    "start_time": "2024-07-30T03:27:48.531Z"
   },
   {
    "duration": 5,
    "start_time": "2024-07-30T03:27:48.540Z"
   },
   {
    "duration": 62320,
    "start_time": "2024-07-30T03:27:48.548Z"
   },
   {
    "duration": 6,
    "start_time": "2024-07-30T03:28:50.871Z"
   },
   {
    "duration": 6,
    "start_time": "2024-07-30T03:28:50.880Z"
   },
   {
    "duration": 532,
    "start_time": "2024-07-30T03:28:50.889Z"
   },
   {
    "duration": 5,
    "start_time": "2024-07-30T03:29:27.577Z"
   },
   {
    "duration": 9,
    "start_time": "2024-07-30T03:30:26.795Z"
   },
   {
    "duration": 12,
    "start_time": "2024-08-01T07:41:42.775Z"
   },
   {
    "duration": 5,
    "start_time": "2024-08-01T07:42:23.547Z"
   }
  ],
  "kernelspec": {
   "display_name": "Python 3 (ipykernel)",
   "language": "python",
   "name": "python3"
  },
  "language_info": {
   "codemirror_mode": {
    "name": "ipython",
    "version": 3
   },
   "file_extension": ".py",
   "mimetype": "text/x-python",
   "name": "python",
   "nbconvert_exporter": "python",
   "pygments_lexer": "ipython3",
   "version": "3.11.7"
  },
  "toc": {
   "base_numbering": 1,
   "nav_menu": {},
   "number_sections": true,
   "sideBar": true,
   "skip_h1_title": true,
   "title_cell": "Table of Contents",
   "title_sidebar": "Contents",
   "toc_cell": false,
   "toc_position": {},
   "toc_section_display": true,
   "toc_window_display": false
  }
 },
 "nbformat": 4,
 "nbformat_minor": 4
}
