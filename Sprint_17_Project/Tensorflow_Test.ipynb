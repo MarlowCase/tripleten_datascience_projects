{
 "cells": [
  {
   "cell_type": "code",
   "execution_count": 2,
   "id": "32777472-1e75-4c5a-8adb-28bc2e99d8d2",
   "metadata": {},
   "outputs": [
    {
     "name": "stdout",
     "output_type": "stream",
     "text": [
      "TensorFlow version: 2.10.0\n",
      "Is GPU available: [PhysicalDevice(name='/physical_device:GPU:0', device_type='GPU')]\n",
      "Training the model...\n",
      "Epoch 1/3\n",
      "938/938 [==============================] - 3s 2ms/step - loss: 0.2983 - accuracy: 0.9172\n",
      "Epoch 2/3\n",
      "938/938 [==============================] - 2s 2ms/step - loss: 0.1336 - accuracy: 0.9614\n",
      "Epoch 3/3\n",
      "938/938 [==============================] - 2s 2ms/step - loss: 0.0920 - accuracy: 0.9735\n",
      "Evaluating the model...\n",
      "313/313 - 1s - loss: 0.0919 - accuracy: 0.9712 - 529ms/epoch - 2ms/step\n",
      "Test accuracy: 0.9711999893188477\n",
      "CPU times: total: 13 s\n",
      "Wall time: 11.1 s\n"
     ]
    }
   ],
   "source": [
    "%%time\n",
    "import tensorflow as tf\n",
    "from tensorflow.keras import Sequential\n",
    "from tensorflow.keras.layers import Conv2D, MaxPooling2D, Flatten, Dense, Dropout\n",
    "from tensorflow.keras.datasets import cifar10, mnist\n",
    "from tensorflow.keras.utils import to_categorical\n",
    "\n",
    "# Check TensorFlow version and GPU availability\n",
    "print(\"TensorFlow version:\", tf.__version__)\n",
    "print(\"Is GPU available:\", tf.config.list_physical_devices('GPU'))\n",
    "\n",
    "# Load MNIST dataset\n",
    "(x_train, y_train), (x_test, y_test) = mnist.load_data()\n",
    "\n",
    "# Normalize the data\n",
    "x_train, x_test = x_train / 255.0, x_test / 255.0\n",
    "\n",
    "# Define a simple neural network\n",
    "model = Sequential([\n",
    "    Flatten(input_shape=(28, 28)),  # Flatten 28x28 images into 1D\n",
    "    Dense(128, activation='relu'), # Fully connected layer with 128 neurons\n",
    "    Dense(10, activation='softmax') # Output layer for 10 classes\n",
    "])\n",
    "\n",
    "# Compile the model\n",
    "model.compile(optimizer='adam',\n",
    "              loss='sparse_categorical_crossentropy',\n",
    "              metrics=['accuracy'])\n",
    "\n",
    "# Train the model\n",
    "print(\"Training the model...\")\n",
    "model.fit(x_train, y_train, epochs=3, batch_size=64)\n",
    "\n",
    "# Evaluate the model\n",
    "print(\"Evaluating the model...\")\n",
    "test_loss, test_acc = model.evaluate(x_test, y_test, verbose=2)\n",
    "print(f\"Test accuracy: {test_acc}\")\n"
   ]
  },
  {
   "cell_type": "code",
   "execution_count": 6,
   "id": "26215e99-898f-4d9e-b0d2-d2bd5429cb34",
   "metadata": {},
   "outputs": [
    {
     "name": "stdout",
     "output_type": "stream",
     "text": [
      "Training the model...\n",
      "Epoch 1/20\n",
      "391/391 [==============================] - 4s 4ms/step - loss: 1.7673 - accuracy: 0.3501\n",
      "Epoch 2/20\n",
      "391/391 [==============================] - 1s 4ms/step - loss: 1.4145 - accuracy: 0.4921\n",
      "Epoch 3/20\n",
      "391/391 [==============================] - 1s 4ms/step - loss: 1.2615 - accuracy: 0.5533\n",
      "Epoch 4/20\n",
      "391/391 [==============================] - 2s 4ms/step - loss: 1.1561 - accuracy: 0.5931\n",
      "Epoch 5/20\n",
      "391/391 [==============================] - 2s 4ms/step - loss: 1.0835 - accuracy: 0.6198\n",
      "Epoch 6/20\n",
      "391/391 [==============================] - 2s 4ms/step - loss: 1.0140 - accuracy: 0.6454\n",
      "Epoch 7/20\n",
      "391/391 [==============================] - 2s 4ms/step - loss: 0.9679 - accuracy: 0.6618\n",
      "Epoch 8/20\n",
      "391/391 [==============================] - 2s 4ms/step - loss: 0.9263 - accuracy: 0.6776\n",
      "Epoch 9/20\n",
      "391/391 [==============================] - 2s 4ms/step - loss: 0.8885 - accuracy: 0.6889\n",
      "Epoch 10/20\n",
      "391/391 [==============================] - 2s 4ms/step - loss: 0.8543 - accuracy: 0.7019\n",
      "Epoch 11/20\n",
      "391/391 [==============================] - 2s 4ms/step - loss: 0.8231 - accuracy: 0.7135\n",
      "Epoch 12/20\n",
      "391/391 [==============================] - 2s 4ms/step - loss: 0.8049 - accuracy: 0.7210\n",
      "Epoch 13/20\n",
      "391/391 [==============================] - 2s 4ms/step - loss: 0.7838 - accuracy: 0.7264\n",
      "Epoch 14/20\n",
      "391/391 [==============================] - 2s 4ms/step - loss: 0.7610 - accuracy: 0.7341\n",
      "Epoch 15/20\n",
      "391/391 [==============================] - 2s 4ms/step - loss: 0.7383 - accuracy: 0.7411\n",
      "Epoch 16/20\n",
      "391/391 [==============================] - 2s 4ms/step - loss: 0.7293 - accuracy: 0.7438\n",
      "Epoch 17/20\n",
      "391/391 [==============================] - 2s 4ms/step - loss: 0.7029 - accuracy: 0.7560\n",
      "Epoch 18/20\n",
      "391/391 [==============================] - 2s 4ms/step - loss: 0.6875 - accuracy: 0.7595\n",
      "Epoch 19/20\n",
      "391/391 [==============================] - 2s 4ms/step - loss: 0.6734 - accuracy: 0.7645\n",
      "Epoch 20/20\n",
      "391/391 [==============================] - 2s 4ms/step - loss: 0.6608 - accuracy: 0.7702\n",
      "Evaluating the model...\n",
      "313/313 - 1s - loss: 0.7241 - accuracy: 0.7551 - 667ms/epoch - 2ms/step\n",
      "Test accuracy: 0.7551000118255615\n",
      "CPU times: total: 44.7 s\n",
      "Wall time: 35 s\n"
     ]
    }
   ],
   "source": [
    "%%time\n",
    "# test the 4090 for fun\n",
    "# Load CIFAR-10 dataset\n",
    "(x_train, y_train), (x_test, y_test) = cifar10.load_data()\n",
    "\n",
    "# Normalize the data\n",
    "x_train, x_test = x_train / 255.0, x_test / 255.0\n",
    "\n",
    "# One-hot encode labels\n",
    "y_train = to_categorical(y_train, 10)\n",
    "y_test = to_categorical(y_test, 10)\n",
    "\n",
    "# Define a CNN model\n",
    "model = Sequential([\n",
    "    Conv2D(32, (3, 3), activation='relu', input_shape=(32, 32, 3)),\n",
    "    MaxPooling2D((2, 2)),\n",
    "    Dropout(0.2),\n",
    "    Conv2D(64, (3, 3), activation='relu'),\n",
    "    MaxPooling2D((2, 2)),\n",
    "    Dropout(0.3),\n",
    "    Conv2D(128, (3, 3), activation='relu'),\n",
    "    Flatten(),\n",
    "    Dense(128, activation='relu'),\n",
    "    Dropout(0.4),\n",
    "    Dense(10, activation='softmax')\n",
    "])\n",
    "\n",
    "# Compile the model\n",
    "model.compile(optimizer='adam',\n",
    "              loss='categorical_crossentropy',\n",
    "              metrics=['accuracy'])\n",
    "\n",
    "# Train the model\n",
    "print(\"Training the model...\")\n",
    "model.fit(x_train, y_train, epochs=20, batch_size=128)\n",
    "\n",
    "# Evaluate the model\n",
    "print(\"Evaluating the model...\")\n",
    "test_loss, test_acc = model.evaluate(x_test, y_test, verbose=2)\n",
    "print(f\"Test accuracy: {test_acc}\")\n"
   ]
  },
  {
   "cell_type": "code",
   "execution_count": 10,
   "id": "fed12711-8e8d-4766-bb95-fb5076b43c81",
   "metadata": {},
   "outputs": [
    {
     "name": "stdout",
     "output_type": "stream",
     "text": [
      "TensorFlow version: 2.10.0\n",
      "Is GPU available: [PhysicalDevice(name='/physical_device:GPU:0', device_type='GPU')]\n"
     ]
    }
   ],
   "source": [
    "import tensorflow as tf\n",
    "print(\"TensorFlow version:\", tf.__version__)\n",
    "print(\"Is GPU available:\", tf.config.list_physical_devices('GPU'))"
   ]
  },
  {
   "cell_type": "code",
   "execution_count": 11,
   "id": "5da7d54d-c383-4022-abaa-335e07ce669c",
   "metadata": {},
   "outputs": [
    {
     "name": "stdout",
     "output_type": "stream",
     "text": [
      "{'device_name': 'NVIDIA GeForce RTX 4090', 'compute_capability': (8, 9)}\n"
     ]
    }
   ],
   "source": [
    "physical_devices = tf.config.experimental.list_physical_devices('GPU')\n",
    "print(tf.config.experimental.get_device_details(physical_devices[0]))"
   ]
  },
  {
   "cell_type": "code",
   "execution_count": null,
   "id": "49e4fd5b-6f99-4b46-bfd2-1f37be96f370",
   "metadata": {},
   "outputs": [],
   "source": []
  }
 ],
 "metadata": {
  "kernelspec": {
   "display_name": "Python 3 (ipykernel)",
   "language": "python",
   "name": "python3"
  },
  "language_info": {
   "codemirror_mode": {
    "name": "ipython",
    "version": 3
   },
   "file_extension": ".py",
   "mimetype": "text/x-python",
   "name": "python",
   "nbconvert_exporter": "python",
   "pygments_lexer": "ipython3",
   "version": "3.9.19"
  }
 },
 "nbformat": 4,
 "nbformat_minor": 5
}
